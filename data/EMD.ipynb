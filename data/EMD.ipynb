{
 "cells": [
  {
   "cell_type": "code",
   "execution_count": 1,
   "metadata": {},
   "outputs": [],
   "source": [
    "import numpy as np\n",
    "np.random.seed(114514)\n",
    "\n",
    "import matplotlib.pyplot as plt\n",
    "\n",
    "import sys \n",
    "sys.path.append(\"..\") \n",
    "from data import get_database_path, get_h5_files, read_h5_file\n",
    "from visualize import plot_event_cloud, plot_hists\n"
   ]
  },
  {
   "cell_type": "code",
   "execution_count": 5,
   "metadata": {},
   "outputs": [],
   "source": [
    "def rotate(events):\n",
    "    events[:,:,2] = (events[:,:,2] - events[:,0,2].reshape(len(events), 1)) % np.pi \n",
    "    return events"
   ]
  },
  {
   "cell_type": "code",
   "execution_count": 11,
   "metadata": {},
   "outputs": [
    {
     "name": "stdout",
     "output_type": "stream",
     "text": [
      "(14451914, 19, 3)\n"
     ]
    }
   ],
   "source": [
    "Delphes = np.load('datasets_-1.npz')\n",
    "unpreprocessed_labels = ['x_train','x_test', 'x_val']\n",
    "full_SM_dataset = np.concatenate([Delphes[label] for label in unpreprocessed_labels], axis=0)\n",
    "full_SM_dataset = full_SM_dataset.reshape(full_SM_dataset.shape[:3])\n",
    "print(full_SM_dataset.shape)"
   ]
  },
  {
   "cell_type": "code",
   "execution_count": 12,
   "metadata": {},
   "outputs": [
    {
     "name": "stdout",
     "output_type": "stream",
     "text": [
      "[[13.65091991  0.         -1.61326444]\n",
      " [28.93702888  0.81659317 -1.67997897]\n",
      " [ 0.          0.          0.        ]\n",
      " [ 0.          0.          0.        ]\n",
      " [ 0.          0.          0.        ]\n",
      " [ 0.          0.          0.        ]\n",
      " [ 0.          0.          0.        ]\n",
      " [ 0.          0.          0.        ]\n",
      " [ 0.          0.          0.        ]\n",
      " [45.79579163  0.89488125 -1.72020626]\n",
      " [44.72616959  2.7366116   1.03738618]\n",
      " [36.32344055 -0.62255085  2.19731951]\n",
      " [ 0.          0.          0.        ]\n",
      " [ 0.          0.          0.        ]\n",
      " [ 0.          0.          0.        ]\n",
      " [ 0.          0.          0.        ]\n",
      " [ 0.          0.          0.        ]\n",
      " [ 0.          0.          0.        ]\n",
      " [ 0.          0.          0.        ]]\n"
     ]
    }
   ],
   "source": [
    "print(full_SM_dataset[0])"
   ]
  },
  {
   "cell_type": "code",
   "execution_count": 13,
   "metadata": {},
   "outputs": [],
   "source": [
    "full_SM_dataset = rotate(full_SM_dataset)"
   ]
  },
  {
   "cell_type": "code",
   "execution_count": 14,
   "metadata": {},
   "outputs": [
    {
     "name": "stdout",
     "output_type": "stream",
     "text": [
      "{'particle_type_scale': 20, 'particle_one_hot': True, 'n_pair': 2000000, 'norm': False, 'save_emd': True, 'pid_method': 'separate'}\n"
     ]
    }
   ],
   "source": [
    "from data import sample_pairs_with_emd, sample_pairs_with_emd_multi,store_emds_with_pairs\n",
    "from utils import load_toml_config\n",
    "EMD_config = load_toml_config('EMD')\n",
    "print(EMD_config)\n",
    "particle_type_scale = EMD_config['particle_type_scale']\n",
    "pair = EMD_config['n_pair']\n",
    "norm = EMD_config['norm']\n",
    "save_emd = EMD_config['save_emd']\n",
    "particle_one_hot = EMD_config['particle_one_hot']\n",
    "pid_method=EMD_config['pid_method']"
   ]
  },
  {
   "cell_type": "code",
   "execution_count": 15,
   "metadata": {},
   "outputs": [],
   "source": [
    "import importlib\n",
    "import data\n",
    "importlib.reload(data)\n",
    "from data import sample_pairs_with_emd_multi, store_emds_with_pairs"
   ]
  },
  {
   "cell_type": "code",
   "execution_count": 17,
   "metadata": {},
   "outputs": [
    {
     "name": "stderr",
     "output_type": "stream",
     "text": [
      "100%|██████████| 2000000/2000000 [13:42<00:00, 2430.81it/s]\n"
     ]
    }
   ],
   "source": [
    "bkg_pairs, bkg_emds = sample_pairs_with_emd(full_SM_dataset, n_pairs=pair, particle_type_scale=particle_type_scale, norm=norm, pid_method=pid_method)\n",
    "\n",
    "if save_emd:\n",
    "    if pid_method == 'one-hot':\n",
    "        store_emds_with_pairs(bkg_emds, bkg_pairs, \"bkg_emds_type_scale{}.h5\".format(particle_type_scale))\n",
    "    elif pid_method == 'separate':\n",
    "        store_emds_with_pairs(bkg_emds, bkg_pairs, \"bkg_emds_sep.h5\")"
   ]
  },
  {
   "cell_type": "code",
   "execution_count": 20,
   "metadata": {},
   "outputs": [
    {
     "data": {
      "image/png": "[encoded data removed]",
      "text/plain": [
       "<Figure size 640x480 with 1 Axes>"
      ]
     },
     "metadata": {},
     "output_type": "display_data"
    }
   ],
   "source": [
    "sig_color = load_toml_config(\"sig_color\")\n",
    "plt.hist(bkg_emds, bins=100, edgecolor='black', color=sig_color['SM'], alpha=0.5, label='bkg')\n",
    "plt.yscale('log')\n",
    "plt.legend()\n",
    "plt.title(\"EMD withtin Types\")\n",
    "plt.xlabel(\"EMD\")\n",
    "plt.show()"
   ]
  },
  {
   "cell_type": "code",
   "execution_count": null,
   "metadata": {},
   "outputs": [],
   "source": []
  }
 ],
 "metadata": {
  "kernelspec": {
   "display_name": "ad",
   "language": "python",
   "name": "python3"
  },
  "language_info": {
   "codemirror_mode": {
    "name": "ipython",
    "version": 3
   },
   "file_extension": ".py",
   "mimetype": "text/x-python",
   "name": "python",
   "nbconvert_exporter": "python",
   "pygments_lexer": "ipython3",
   "version": "3.11.8"
  }
 },
 "nbformat": 4,
 "nbformat_minor": 2
}
