{
 "cells": [
  {
   "cell_type": "code",
   "execution_count": 1,
   "metadata": {},
   "outputs": [],
   "source": [
    "import numpy as np\n",
    "import h5py\n",
    "original = h5py.File('/home/desmondhe/Windows_D/ADwithAE/background_for_training.h5', 'r')\n",
    "ADC_orginal = h5py.File('ADC_Delphes_original_divisions.hdf5', 'r')\n",
    "ADC_sig = h5py.File('ADC_Delphes_signals.hdf5', 'r')\n",
    "\n",
    "datasets = np.load('datasets_-1.npz')\n",
    "background_ID = np.load('background_IDs_-1.npz')"
   ]
  },
  {
   "cell_type": "code",
   "execution_count": 2,
   "metadata": {},
   "outputs": [
    {
     "name": "stdout",
     "output_type": "stream",
     "text": [
      "Particles (13451915, 19, 4)\n",
      "Particles_Classes (4,)\n",
      "Particles_Names (4,)\n"
     ]
    }
   ],
   "source": [
    "for key in original.keys():\n",
    "    print(key, original[key].shape)"
   ]
  },
  {
   "cell_type": "code",
   "execution_count": 19,
   "metadata": {},
   "outputs": [
    {
     "name": "stdout",
     "output_type": "stream",
     "text": [
      "[b'MET_class_1' b'Four_Ele_class_2' b'Four_Mu_class_3' b'Ten_Jet_class_4']\n",
      "[b'Pt' b'Eta' b'Phi' b'Class']\n"
     ]
    }
   ],
   "source": [
    "print(np.array(original['Particles_Classes']))\n",
    "print(np.array(original['Particles_Names']))"
   ]
  },
  {
   "cell_type": "code",
   "execution_count": 3,
   "metadata": {},
   "outputs": [
    {
     "name": "stdout",
     "output_type": "stream",
     "text": [
      "<KeysViewHDF5 ['labels_test', 'labels_train_fold_0', 'labels_train_fold_1', 'labels_train_fold_2', 'labels_train_fold_3', 'labels_train_fold_4', 'x_test', 'x_train_fold_0', 'x_train_fold_1', 'x_train_fold_2', 'x_train_fold_3', 'x_train_fold_4']>\n",
      "<KeysViewHDF5 ['ato4l', 'ato4l_labels', 'hChToTauNu', 'hChToTauNu_labels', 'hToTauTau', 'hToTauTau_labels', 'leptoquark', 'leptoquark_labels']>\n"
     ]
    }
   ],
   "source": [
    "print(ADC_orginal.keys())\n",
    "print(ADC_sig.keys())"
   ]
  },
  {
   "cell_type": "code",
   "execution_count": 4,
   "metadata": {},
   "outputs": [
    {
     "name": "stdout",
     "output_type": "stream",
     "text": [
      "labels_test (2890383,)\n",
      "labels_train_fold_0 (2311109,)\n",
      "labels_train_fold_1 (2312430,)\n",
      "labels_train_fold_2 (2312798,)\n",
      "labels_train_fold_3 (2313588,)\n",
      "labels_train_fold_4 (2311606,)\n",
      "x_test (2890383, 57)\n",
      "x_train_fold_0 (2311109, 57)\n",
      "x_train_fold_1 (2312430, 57)\n",
      "x_train_fold_2 (2312798, 57)\n",
      "x_train_fold_3 (2313588, 57)\n",
      "x_train_fold_4 (2311606, 57)\n"
     ]
    }
   ],
   "source": [
    "for key in ADC_orginal.keys():\n",
    "    print(key, ADC_orginal[key].shape)"
   ]
  },
  {
   "cell_type": "code",
   "execution_count": 5,
   "metadata": {},
   "outputs": [
    {
     "name": "stdout",
     "output_type": "stream",
     "text": [
      "ato4l (55969, 57)\n",
      "ato4l_labels (55969,)\n",
      "hChToTauNu (760272, 57)\n",
      "hChToTauNu_labels (760272,)\n",
      "hToTauTau (691283, 57)\n",
      "hToTauTau_labels (691283,)\n",
      "leptoquark (340544, 57)\n",
      "leptoquark_labels (340544,)\n"
     ]
    }
   ],
   "source": [
    "for key in ADC_sig.keys():\n",
    "    print(key, ADC_sig[key].shape)"
   ]
  },
  {
   "cell_type": "code",
   "execution_count": 18,
   "metadata": {},
   "outputs": [
    {
     "name": "stdout",
     "output_type": "stream",
     "text": [
      "KeysView(NpzFile 'background_IDs_-1.npz' with keys: background_ID_train, background_ID_test, background_ID_val, background_ID_names)\n",
      "x_train\n",
      "y_train\n",
      "x_test\n",
      "y_test\n",
      "x_val\n",
      "y_val\n"
     ]
    }
   ],
   "source": [
    "print(background_ID.keys())\n",
    "for key in datasets.keys():\n",
    "    print(key)"
   ]
  },
  {
   "cell_type": "code",
   "execution_count": 12,
   "metadata": {},
   "outputs": [
    {
     "name": "stdout",
     "output_type": "stream",
     "text": [
      "background_ID_train\n",
      "(8671148,)\n",
      "[1. 0. 0.]\n",
      "background_ID_test\n",
      "(2890383,)\n",
      "[0. 1. 1.]\n",
      "background_ID_val\n",
      "(2890383,)\n",
      "[0. 0. 2.]\n",
      "background_ID_names\n",
      "(4,)\n",
      "[b'W_0' b'QCD_1' b'Z_2']\n"
     ]
    }
   ],
   "source": [
    "for key in background_ID.keys():\n",
    "    print(key)\n",
    "    print(background_ID[key].shape)\n",
    "    print(background_ID[key][:3])"
   ]
  },
  {
   "cell_type": "code",
   "execution_count": 4,
   "metadata": {},
   "outputs": [
    {
     "name": "stdout",
     "output_type": "stream",
     "text": [
      "x_train (8671148, 19, 3, 1)\n",
      "y_train (8671148, 19, 3, 1)\n",
      "x_test (2890383, 19, 3, 1)\n",
      "y_test (2890383, 19, 3, 1)\n",
      "x_val (2890383, 19, 3, 1)\n",
      "y_val (2890383, 19, 3, 1)\n"
     ]
    }
   ],
   "source": [
    "for key in datasets.keys():\n",
    "    print(key, datasets[key].shape)"
   ]
  },
  {
   "cell_type": "code",
   "execution_count": 13,
   "metadata": {},
   "outputs": [
    {
     "name": "stdout",
     "output_type": "stream",
     "text": [
      "[[[13.65091991]\n",
      "  [ 0.        ]\n",
      "  [-1.61326444]]\n",
      "\n",
      " [[28.93702888]\n",
      "  [ 0.81659317]\n",
      "  [-1.67997897]]\n",
      "\n",
      " [[ 0.        ]\n",
      "  [ 0.        ]\n",
      "  [ 0.        ]]\n",
      "\n",
      " [[ 0.        ]\n",
      "  [ 0.        ]\n",
      "  [ 0.        ]]\n",
      "\n",
      " [[ 0.        ]\n",
      "  [ 0.        ]\n",
      "  [ 0.        ]]\n",
      "\n",
      " [[ 0.        ]\n",
      "  [ 0.        ]\n",
      "  [ 0.        ]]\n",
      "\n",
      " [[ 0.        ]\n",
      "  [ 0.        ]\n",
      "  [ 0.        ]]\n",
      "\n",
      " [[ 0.        ]\n",
      "  [ 0.        ]\n",
      "  [ 0.        ]]\n",
      "\n",
      " [[ 0.        ]\n",
      "  [ 0.        ]\n",
      "  [ 0.        ]]\n",
      "\n",
      " [[45.79579163]\n",
      "  [ 0.89488125]\n",
      "  [-1.72020626]]\n",
      "\n",
      " [[44.72616959]\n",
      "  [ 2.7366116 ]\n",
      "  [ 1.03738618]]\n",
      "\n",
      " [[36.32344055]\n",
      "  [-0.62255085]\n",
      "  [ 2.19731951]]\n",
      "\n",
      " [[ 0.        ]\n",
      "  [ 0.        ]\n",
      "  [ 0.        ]]\n",
      "\n",
      " [[ 0.        ]\n",
      "  [ 0.        ]\n",
      "  [ 0.        ]]\n",
      "\n",
      " [[ 0.        ]\n",
      "  [ 0.        ]\n",
      "  [ 0.        ]]\n",
      "\n",
      " [[ 0.        ]\n",
      "  [ 0.        ]\n",
      "  [ 0.        ]]\n",
      "\n",
      " [[ 0.        ]\n",
      "  [ 0.        ]\n",
      "  [ 0.        ]]\n",
      "\n",
      " [[ 0.        ]\n",
      "  [ 0.        ]\n",
      "  [ 0.        ]]\n",
      "\n",
      " [[ 0.        ]\n",
      "  [ 0.        ]\n",
      "  [ 0.        ]]]\n"
     ]
    }
   ],
   "source": [
    "print(datasets['x_train'][0])"
   ]
  },
  {
   "cell_type": "code",
   "execution_count": 7,
   "metadata": {},
   "outputs": [
    {
     "data": {
      "text/plain": [
       "array([b'W_0', b'QCD_1', b'Z_2', b'tt_3'], dtype='|S5')"
      ]
     },
     "execution_count": 7,
     "metadata": {},
     "output_type": "execute_result"
    }
   ],
   "source": [
    "background_ID['background_ID_names']"
   ]
  },
  {
   "cell_type": "code",
   "execution_count": 6,
   "metadata": {},
   "outputs": [
    {
     "name": "stdout",
     "output_type": "stream",
     "text": [
      "background_ID_train (8671148,)\n",
      "background_ID_test (2890383,)\n",
      "background_ID_val (2890383,)\n",
      "background_ID_names (4,)\n"
     ]
    }
   ],
   "source": [
    "for key in background_ID.keys():\n",
    "    print(key, background_ID[key].shape)"
   ]
  },
  {
   "cell_type": "code",
   "execution_count": 11,
   "metadata": {},
   "outputs": [
    {
     "name": "stdout",
     "output_type": "stream",
     "text": [
      "[0. 1. 2. 3.]\n",
      "[0. 1. 2. 3.]\n",
      "[0. 1. 2. 3.]\n"
     ]
    }
   ],
   "source": [
    "print(np.unique(background_ID['background_ID_train']))\n",
    "print(np.unique(background_ID['background_ID_test']))\n",
    "print(np.unique(background_ID['background_ID_val']))"
   ]
  },
  {
   "cell_type": "code",
   "execution_count": 160,
   "metadata": {},
   "outputs": [],
   "source": [
    "unpreprocessed_labels = ['x_train','x_test', 'x_val']\n",
    "full_SM_dataset = np.concatenate([datasets[label] for label in unpreprocessed_labels], axis=0)\n",
    "bkg = full_SM_dataset.reshape(full_SM_dataset.shape[:3])\n",
    "ID_names = ['W', 'QCD', 'Z', 'ttbar']"
   ]
  },
  {
   "cell_type": "code",
   "execution_count": 4,
   "metadata": {},
   "outputs": [],
   "source": [
    "set_labels = ['background_ID_train', 'background_ID_test', 'background_ID_val']\n",
    "bkg_labels = np.concatenate([background_ID[label] for label in set_labels], axis=0)"
   ]
  },
  {
   "cell_type": "code",
   "execution_count": 83,
   "metadata": {},
   "outputs": [
    {
     "name": "stdout",
     "output_type": "stream",
     "text": [
      "13918915 W\n",
      "[[52.48708344  0.          1.65952969]\n",
      " [26.64757729 -1.50787604 -1.13222659]\n",
      " [ 0.          0.          0.        ]\n",
      " [ 0.          0.          0.        ]\n",
      " [ 0.          0.          0.        ]\n",
      " [ 0.          0.          0.        ]\n",
      " [ 0.          0.          0.        ]\n",
      " [ 0.          0.          0.        ]\n",
      " [ 0.          0.          0.        ]\n",
      " [ 0.          0.          0.        ]\n",
      " [ 0.          0.          0.        ]\n",
      " [ 0.          0.          0.        ]\n",
      " [ 0.          0.          0.        ]\n",
      " [ 0.          0.          0.        ]\n",
      " [ 0.          0.          0.        ]\n",
      " [ 0.          0.          0.        ]\n",
      " [ 0.          0.          0.        ]\n",
      " [ 0.          0.          0.        ]\n",
      " [ 0.          0.          0.        ]]\n"
     ]
    }
   ],
   "source": [
    "random_index = np.random.randint(len(bkg))\n",
    "print(random_index, ID_names[int(bkg_labels[random_index])])\n",
    "print(bkg[random_index])"
   ]
  },
  {
   "cell_type": "code",
   "execution_count": 108,
   "metadata": {},
   "outputs": [],
   "source": [
    "train = datasets['x_train']\n",
    "train_y = datasets['y_train']\n",
    "train_ID = background_ID['background_ID_train']"
   ]
  },
  {
   "cell_type": "code",
   "execution_count": 158,
   "metadata": {},
   "outputs": [
    {
     "name": "stdout",
     "output_type": "stream",
     "text": [
      "(array([    130,     358,     614, ..., 8669834, 8670634, 8670726]),)\n"
     ]
    }
   ],
   "source": [
    "print(np.where(train_ID == 3))"
   ]
  },
  {
   "cell_type": "code",
   "execution_count": 170,
   "metadata": {},
   "outputs": [
    {
     "name": "stdout",
     "output_type": "stream",
     "text": [
      "671720\n",
      "QCD\n",
      "[[ 5.10717821  0.         -0.8216452 ]\n",
      " [31.53635406 -0.84333408  1.28201449]\n",
      " [ 0.          0.          0.        ]\n",
      " [ 0.          0.          0.        ]\n",
      " [ 0.          0.          0.        ]\n",
      " [ 0.          0.          0.        ]\n",
      " [ 0.          0.          0.        ]\n",
      " [ 0.          0.          0.        ]\n",
      " [ 0.          0.          0.        ]\n",
      " [56.95665741 -1.47270215 -1.59351039]\n",
      " [ 0.          0.          0.        ]\n",
      " [ 0.          0.          0.        ]\n",
      " [ 0.          0.          0.        ]\n",
      " [ 0.          0.          0.        ]\n",
      " [ 0.          0.          0.        ]\n",
      " [ 0.          0.          0.        ]\n",
      " [ 0.          0.          0.        ]\n",
      " [ 0.          0.          0.        ]\n",
      " [ 0.          0.          0.        ]]\n"
     ]
    }
   ],
   "source": [
    "random_index = np.random.randint(len(train))\n",
    "print(random_index)\n",
    "print(ID_names[int(train_ID[random_index])])\n",
    "print(train[random_index].reshape(19,3))"
   ]
  },
  {
   "cell_type": "code",
   "execution_count": 121,
   "metadata": {},
   "outputs": [
    {
     "name": "stdout",
     "output_type": "stream",
     "text": [
      "[[ 1.53438832  0.          0.68720973]\n",
      " [ 0.65128832  2.54779649 -2.72856641]\n",
      " [-0.          0.          0.        ]\n",
      " [-0.          0.          0.        ]\n",
      " [-0.          0.          0.        ]\n",
      " [-0.          0.          0.        ]\n",
      " [-0.          0.          0.        ]\n",
      " [-0.          0.          0.        ]\n",
      " [-0.          0.          0.        ]\n",
      " [-0.4401405  -0.01823246  0.84574872]\n",
      " [-0.          0.          0.        ]\n",
      " [-0.          0.          0.        ]\n",
      " [-0.          0.          0.        ]\n",
      " [-0.          0.          0.        ]\n",
      " [-0.          0.          0.        ]\n",
      " [-0.          0.          0.        ]\n",
      " [-0.          0.          0.        ]\n",
      " [-0.          0.          0.        ]\n",
      " [-0.          0.          0.        ]]\n"
     ]
    }
   ],
   "source": [
    "print(train_y[random_index].reshape(19,3))"
   ]
  },
  {
   "cell_type": "code",
   "execution_count": 173,
   "metadata": {},
   "outputs": [
    {
     "name": "stdout",
     "output_type": "stream",
     "text": [
      "614\n",
      "ttbar\n",
      "[[ 5.37197151e+01  0.00000000e+00  4.57214355e-01]\n",
      " [ 0.00000000e+00  0.00000000e+00  0.00000000e+00]\n",
      " [ 0.00000000e+00  0.00000000e+00  0.00000000e+00]\n",
      " [ 0.00000000e+00  0.00000000e+00  0.00000000e+00]\n",
      " [ 0.00000000e+00  0.00000000e+00  0.00000000e+00]\n",
      " [ 1.38952438e+02  4.34099622e-02 -4.48926181e-01]\n",
      " [ 0.00000000e+00  0.00000000e+00  0.00000000e+00]\n",
      " [ 0.00000000e+00  0.00000000e+00  0.00000000e+00]\n",
      " [ 0.00000000e+00  0.00000000e+00  0.00000000e+00]\n",
      " [ 1.18071152e+02 -8.14922214e-01  2.16640520e+00]\n",
      " [ 5.83801804e+01 -1.61392665e+00  2.43012667e+00]\n",
      " [ 5.00954361e+01 -5.11343956e-01 -1.68490660e+00]\n",
      " [ 2.09486179e+01  1.63368797e+00 -2.12641406e+00]\n",
      " [ 2.05003662e+01  1.68510187e+00 -1.19171000e+00]\n",
      " [ 0.00000000e+00  0.00000000e+00  0.00000000e+00]\n",
      " [ 0.00000000e+00  0.00000000e+00  0.00000000e+00]\n",
      " [ 0.00000000e+00  0.00000000e+00  0.00000000e+00]\n",
      " [ 0.00000000e+00  0.00000000e+00  0.00000000e+00]\n",
      " [ 0.00000000e+00  0.00000000e+00  0.00000000e+00]]\n"
     ]
    }
   ],
   "source": [
    "random_index = 614\n",
    "print(random_index)\n",
    "print(ID_names[int(train_ID[random_index])])\n",
    "print(train[random_index].reshape(19,3))"
   ]
  },
  {
   "cell_type": "code",
   "execution_count": null,
   "metadata": {},
   "outputs": [],
   "source": []
  }
 ],
 "metadata": {
  "kernelspec": {
   "display_name": "ad",
   "language": "python",
   "name": "python3"
  },
  "language_info": {
   "codemirror_mode": {
    "name": "ipython",
    "version": 3
   },
   "file_extension": ".py",
   "mimetype": "text/x-python",
   "name": "python",
   "nbconvert_exporter": "python",
   "pygments_lexer": "ipython3",
   "version": "3.11.8"
  }
 },
 "nbformat": 4,
 "nbformat_minor": 2
}
