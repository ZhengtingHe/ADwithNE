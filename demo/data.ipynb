{
 "cells": [
  {
   "cell_type": "code",
   "execution_count": 16,
   "metadata": {
    "ExecuteTime": {
     "end_time": "2024-04-19T18:07:53.870687400Z",
     "start_time": "2024-04-19T18:07:53.865304Z"
    },
    "collapsed": true
   },
   "outputs": [],
   "source": [
    "import json\n",
    "import sys\n",
    "import h5py\n",
    "import os\n",
    "\n",
    "def load_config():\n",
    "    with open('../config.json', 'r') as f:\n",
    "        config = json.load(f)\n",
    "    return config\n",
    "\n",
    "def get_database_path():\n",
    "    config = load_config()\n",
    "    if sys.platform.startswith('linux'):\n",
    "        return config['linux']['database_path']\n",
    "    elif sys.platform.startswith('win32') or sys.platform.startswith('cygwin'):\n",
    "        return config['windows']['database_path']\n",
    "    else:\n",
    "        raise Exception(\"Unsupported OS\")\n",
    "\n",
    "def get_h5_files():\n",
    "    config = load_config()\n",
    "    return config['bkg_files'], config['sig_files']\n",
    "\n",
    "def read_h5_file(path, file_name):\n",
    "    return h5py.File(os.path.join(path, file_name), 'r')\n"
   ]
  },
  {
   "cell_type": "code",
   "execution_count": 17,
   "metadata": {
    "ExecuteTime": {
     "end_time": "2024-04-19T18:07:56.039100700Z",
     "start_time": "2024-04-19T18:07:56.035575Z"
    },
    "collapsed": false
   },
   "outputs": [
    {
     "name": "stdout",
     "output_type": "stream",
     "text": [
      "Database Path: /home/desmondhe/Windows_D/ADwithAE\n",
      "bkg_files: [{'type': 'SM', 'file': 'background_for_training.h5'}]\n",
      "sig_files: [{'type': 'A -> 4 leptons', 'file': 'Ato4l_lepFilter_13TeV_filtered.h5'}, {'type': 'LQ -> b tau', 'file': 'leptoquark_LOWMASS_lepFilter_13TeV_filtered.h5'}, {'type': 'h^0 -> tau tau', 'file': 'hToTauTau_13TeV_PU20_filtered.h5'}, {'type': 'h+ -> tau nu', 'file': 'hChToTauNu_13TeV_PU20_filtered.h5'}]\n"
     ]
    }
   ],
   "source": [
    "database_path = get_database_path()\n",
    "print(\"Database Path:\", database_path)\n",
    "\n",
    "bkg_files, sig_files = get_h5_files()\n",
    "print(\"bkg_files:\", bkg_files)\n",
    "print(\"sig_files:\", sig_files)"
   ]
  },
  {
   "cell_type": "code",
   "execution_count": 18,
   "metadata": {
    "ExecuteTime": {
     "end_time": "2024-04-19T18:20:10.162980900Z",
     "start_time": "2024-04-19T18:20:10.157418900Z"
    },
    "collapsed": false
   },
   "outputs": [
    {
     "name": "stdout",
     "output_type": "stream",
     "text": [
      "Background Files:\n",
      "SM background_for_training.h5\n",
      "Signal Files:\n",
      "A -> 4 leptons Ato4l_lepFilter_13TeV_filtered.h5\n",
      "LQ -> b tau leptoquark_LOWMASS_lepFilter_13TeV_filtered.h5\n",
      "h^0 -> tau tau hToTauTau_13TeV_PU20_filtered.h5\n",
      "h+ -> tau nu hChToTauNu_13TeV_PU20_filtered.h5\n"
     ]
    }
   ],
   "source": [
    "print(\"Background Files:\")\n",
    "for dataset in bkg_files:\n",
    "    print(dataset['type'], dataset['file'])\n",
    "\n",
    "print(\"Signal Files:\")\n",
    "for dataset in sig_files:\n",
    "    print(dataset['type'], dataset['file'])"
   ]
  },
  {
   "cell_type": "code",
   "execution_count": 36,
   "metadata": {
    "collapsed": false
   },
   "outputs": [
    {
     "name": "stdout",
     "output_type": "stream",
     "text": [
      "(13451915, 19, 4)\n",
      "(4,)\n",
      "(4,)\n"
     ]
    }
   ],
   "source": [
    "f = read_h5_file(database_path, bkg_files[0]['file'])\n",
    "for key in f.keys():\n",
    "    print(f[key].shape)"
   ]
  },
  {
   "cell_type": "code",
   "execution_count": null,
   "metadata": {},
   "outputs": [],
   "source": []
  }
 ],
 "metadata": {
  "kernelspec": {
   "display_name": "Python 3",
   "language": "python",
   "name": "python3"
  },
  "language_info": {
   "codemirror_mode": {
    "name": "ipython",
    "version": 3
   },
   "file_extension": ".py",
   "mimetype": "text/x-python",
   "name": "python",
   "nbconvert_exporter": "python",
   "pygments_lexer": "ipython3",
   "version": "3.11.8"
  }
 },
 "nbformat": 4,
 "nbformat_minor": 0
}
