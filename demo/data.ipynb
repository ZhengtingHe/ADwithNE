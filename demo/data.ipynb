{
 "cells": [
  {
   "cell_type": "code",
   "execution_count": 1,
   "metadata": {
    "collapsed": true,
    "ExecuteTime": {
     "end_time": "2024-04-20T21:13:43.717151400Z",
     "start_time": "2024-04-20T21:13:43.203642200Z"
    }
   },
   "outputs": [],
   "source": [
    "import json\n",
    "import sys\n",
    "import h5py\n",
    "import os\n",
    "import numpy as np\n",
    "\n",
    "import matplotlib.pyplot as plt\n",
    "import seaborn as sns\n",
    "\n",
    "def load_config():\n",
    "    with open('../config.json', 'r') as f:\n",
    "        config = json.load(f)\n",
    "    return config\n",
    "\n",
    "def get_database_path():\n",
    "    config = load_config()\n",
    "    if sys.platform.startswith('linux'):\n",
    "        return config['linux']['database_path']\n",
    "    elif sys.platform.startswith('win32') or sys.platform.startswith('cygwin'):\n",
    "        return config['windows']['database_path']\n",
    "    else:\n",
    "        raise Exception(\"Unsupported OS\")\n",
    "\n",
    "def get_h5_files():\n",
    "    config = load_config()\n",
    "    return config['bkg_files'], config['sig_files']\n",
    "\n",
    "def read_h5_file(path, file_name):\n",
    "    return h5py.File(os.path.join(path, file_name), 'r')\n"
   ]
  },
  {
   "cell_type": "code",
   "execution_count": 2,
   "metadata": {
    "collapsed": false,
    "ExecuteTime": {
     "end_time": "2024-04-20T21:13:46.126117200Z",
     "start_time": "2024-04-20T21:13:46.092612100Z"
    }
   },
   "outputs": [
    {
     "name": "stdout",
     "output_type": "stream",
     "text": [
      "Database Path: D:\\ADwithAE\n",
      "bkg_files: [{'type': 'SM', 'file': 'background_for_training.h5'}]\n",
      "sig_files: [{'type': 'A -> 4 leptons', 'file': 'Ato4l_lepFilter_13TeV_filtered.h5'}, {'type': 'LQ -> b tau', 'file': 'leptoquark_LOWMASS_lepFilter_13TeV_filtered.h5'}, {'type': 'h^0 -> tau tau', 'file': 'hToTauTau_13TeV_PU20_filtered.h5'}, {'type': 'h+ -> tau nu', 'file': 'hChToTauNu_13TeV_PU20_filtered.h5'}]\n"
     ]
    }
   ],
   "source": [
    "database_path = get_database_path()\n",
    "print(\"Database Path:\", database_path)\n",
    "\n",
    "bkg_files, sig_files = get_h5_files()\n",
    "print(\"bkg_files:\", bkg_files)\n",
    "print(\"sig_files:\", sig_files)"
   ]
  },
  {
   "cell_type": "code",
   "execution_count": 3,
   "metadata": {
    "collapsed": false,
    "ExecuteTime": {
     "end_time": "2024-04-20T21:13:48.889144800Z",
     "start_time": "2024-04-20T21:13:48.866832600Z"
    }
   },
   "outputs": [
    {
     "name": "stdout",
     "output_type": "stream",
     "text": [
      "Background Files:\n",
      "SM background_for_training.h5\n",
      "Signal Files:\n",
      "A -> 4 leptons Ato4l_lepFilter_13TeV_filtered.h5\n",
      "LQ -> b tau leptoquark_LOWMASS_lepFilter_13TeV_filtered.h5\n",
      "h^0 -> tau tau hToTauTau_13TeV_PU20_filtered.h5\n",
      "h+ -> tau nu hChToTauNu_13TeV_PU20_filtered.h5\n"
     ]
    }
   ],
   "source": [
    "print(\"Background Files:\")\n",
    "for dataset in bkg_files:\n",
    "    print(dataset['type'], dataset['file'])\n",
    "\n",
    "print(\"Signal Files:\")\n",
    "for dataset in sig_files:\n",
    "    print(dataset['type'], dataset['file'])"
   ]
  },
  {
   "cell_type": "code",
   "execution_count": 4,
   "metadata": {
    "collapsed": false,
    "ExecuteTime": {
     "end_time": "2024-04-20T21:13:49.567132900Z",
     "start_time": "2024-04-20T21:13:49.528151600Z"
    }
   },
   "outputs": [
    {
     "name": "stdout",
     "output_type": "stream",
     "text": [
      "(13451915, 19, 4)\n",
      "(4,)\n",
      "(4,)\n"
     ]
    }
   ],
   "source": [
    "f = read_h5_file(database_path, bkg_files[0]['file'])\n",
    "for key in f.keys():\n",
    "    print(f[key].shape)"
   ]
  },
  {
   "cell_type": "code",
   "execution_count": 5,
   "metadata": {
    "ExecuteTime": {
     "end_time": "2024-04-20T21:13:50.391148100Z",
     "start_time": "2024-04-20T21:13:50.365631700Z"
    }
   },
   "outputs": [
    {
     "name": "stdout",
     "output_type": "stream",
     "text": [
      "[b'MET_class_1' b'Four_Ele_class_2' b'Four_Mu_class_3' b'Ten_Jet_class_4']\n",
      "[b'Pt' b'Eta' b'Phi' b'Class']\n"
     ]
    }
   ],
   "source": [
    "print(f['Particles_Classes'][:])\n",
    "print(f['Particles_Names'][:])\n",
    "particle_classes = [\"None\", \"MET\", \"Electron\", \"Muon\", \"Jet\"]"
   ]
  },
  {
   "cell_type": "code",
   "execution_count": 6,
   "metadata": {
    "ExecuteTime": {
     "end_time": "2024-04-20T21:13:51.125604200Z",
     "start_time": "2024-04-20T21:13:51.101962300Z"
    }
   },
   "outputs": [],
   "source": [
    "f_particles = f['Particles']"
   ]
  },
  {
   "cell_type": "code",
   "execution_count": 7,
   "metadata": {
    "ExecuteTime": {
     "end_time": "2024-04-20T21:13:51.835160800Z",
     "start_time": "2024-04-20T21:13:51.783942500Z"
    }
   },
   "outputs": [
    {
     "name": "stdout",
     "output_type": "stream",
     "text": [
      "Event  6808169\n",
      "[[19.13863373  0.          1.50583673  1.        ]\n",
      " [ 0.          0.          0.          0.        ]\n",
      " [ 0.          0.          0.          0.        ]\n",
      " [ 0.          0.          0.          0.        ]\n",
      " [ 0.          0.          0.          0.        ]\n",
      " [23.10958672 -0.07295065  2.47751141  3.        ]\n",
      " [ 0.          0.          0.          0.        ]\n",
      " [ 0.          0.          0.          0.        ]\n",
      " [ 0.          0.          0.          0.        ]\n",
      " [41.40941238  2.63083529 -0.11073846  4.        ]\n",
      " [31.37694168  3.94338012 -1.98919809  4.        ]\n",
      " [ 0.          0.          0.          0.        ]\n",
      " [ 0.          0.          0.          0.        ]\n",
      " [ 0.          0.          0.          0.        ]\n",
      " [ 0.          0.          0.          0.        ]\n",
      " [ 0.          0.          0.          0.        ]\n",
      " [ 0.          0.          0.          0.        ]\n",
      " [ 0.          0.          0.          0.        ]\n",
      " [ 0.          0.          0.          0.        ]]\n"
     ]
    }
   ],
   "source": [
    "n = np.random.randint(f_particles.shape[0])\n",
    "print(\"Event \", n)\n",
    "print(f_particles[n])"
   ]
  },
  {
   "cell_type": "code",
   "execution_count": 8,
   "metadata": {
    "ExecuteTime": {
     "end_time": "2024-04-20T21:13:52.867839500Z",
     "start_time": "2024-04-20T21:13:52.819640800Z"
    }
   },
   "outputs": [
    {
     "name": "stdout",
     "output_type": "stream",
     "text": [
      "[[27.41296387  0.         -2.0499022   1.        ]\n",
      " [24.20996857  1.63350999 -0.10349621  2.        ]\n",
      " [ 0.          0.          0.          0.        ]\n",
      " [ 0.          0.          0.          0.        ]\n",
      " [ 0.          0.          0.          0.        ]\n",
      " [ 0.          0.          0.          0.        ]\n",
      " [ 0.          0.          0.          0.        ]\n",
      " [ 0.          0.          0.          0.        ]\n",
      " [ 0.          0.          0.          0.        ]\n",
      " [ 0.          0.          0.          0.        ]\n",
      " [ 0.          0.          0.          0.        ]\n",
      " [ 0.          0.          0.          0.        ]\n",
      " [ 0.          0.          0.          0.        ]\n",
      " [ 0.          0.          0.          0.        ]\n",
      " [ 0.          0.          0.          0.        ]\n",
      " [ 0.          0.          0.          0.        ]\n",
      " [ 0.          0.          0.          0.        ]\n",
      " [ 0.          0.          0.          0.        ]\n",
      " [ 0.          0.          0.          0.        ]]\n",
      "Non-zero constituents [[27.41296387  0.         -2.0499022   1.        ]\n",
      " [24.20996857  1.63350999 -0.10349621  2.        ]]\n"
     ]
    }
   ],
   "source": [
    "test_event = f_particles[0]\n",
    "print(test_event)\n",
    "def select_non_zero_constituents(event):\n",
    "    # Select only constituents with non-zero pT\n",
    "    return event[event[:, 0] != 0]\n",
    "print(\"Non-zero constituents\", select_non_zero_constituents(test_event))"
   ]
  },
  {
   "cell_type": "code",
   "execution_count": 9,
   "metadata": {
    "ExecuteTime": {
     "end_time": "2024-04-20T21:13:53.643689300Z",
     "start_time": "2024-04-20T21:13:53.626707300Z"
    }
   },
   "outputs": [
    {
     "name": "stdout",
     "output_type": "stream",
     "text": [
      "(array([[27.41296387,  0.        , -2.0499022 ,  1.        ]]), array([[24.20996857,  1.63350999, -0.10349621,  2.        ]]), array([], shape=(0, 4), dtype=float64), array([], shape=(0, 4), dtype=float64))\n"
     ]
    }
   ],
   "source": [
    "def parse_event(event):\n",
    "    # Returns MET, electron and muon constituents with non-zero pT\n",
    "    non_zero_part = select_non_zero_constituents(event)\n",
    "\n",
    "    MET_part = non_zero_part[non_zero_part[:, 3] == 1]\n",
    "    electron_part = non_zero_part[non_zero_part[:, 3] == 2]\n",
    "    muon_part = non_zero_part[non_zero_part[:, 3] == 3]\n",
    "    jet_part = non_zero_part[non_zero_part[:, 3] == 4]\n",
    "\n",
    "    return MET_part, electron_part, muon_part, jet_part\n",
    "print(parse_event(test_event))"
   ]
  },
  {
   "cell_type": "code",
   "execution_count": 10,
   "metadata": {
    "ExecuteTime": {
     "end_time": "2024-04-20T21:13:55.868966100Z",
     "start_time": "2024-04-20T21:13:55.849813200Z"
    }
   },
   "outputs": [],
   "source": [
    "def plot_event_cloud(event):\n",
    "    MET_part, electron_part, muon_part, jet_part = parse_event(event)\n",
    "\n",
    "    plt.figure(figsize=(5, 5))\n",
    "    plt.xlim(-5, 5)\n",
    "    plt.ylim(-3.5, 3.5)\n",
    "    plt.xlabel(r'$\\eta$')\n",
    "    plt.ylabel(r'$\\phi$')\n",
    "\n",
    "    plt.scatter(MET_part[:, 1], MET_part[:, 2], color='red', marker='^', s=MET_part[:,0], label='MET')\n",
    "\n",
    "    if electron_part.size:\n",
    "        plt.scatter(electron_part[:, 1], electron_part[:, 2], color='blue', marker='o', s=electron_part[:,0], label='Electrons')\n",
    "    \n",
    "    if muon_part.size:\n",
    "        plt.scatter(muon_part[:, 1], muon_part[:, 2], color='green', marker='s', s=muon_part[:,0], label='Muons')\n",
    "\n",
    "    if jet_part.size:\n",
    "        plt.scatter(jet_part[:, 1], jet_part[:, 2], color='purple', marker='*', s=jet_part[:,0], label='Jets')\n",
    "    \n",
    "    plt.legend()\n",
    "    plt.grid(True)\n",
    "    plt.show()\n"
   ]
  },
  {
   "cell_type": "code",
   "execution_count": 11,
   "metadata": {
    "ExecuteTime": {
     "end_time": "2024-04-20T21:13:56.889486700Z",
     "start_time": "2024-04-20T21:13:56.485121300Z"
    }
   },
   "outputs": [
    {
     "name": "stdout",
     "output_type": "stream",
     "text": [
      "Event 12861840\n",
      "[[40.56583405  0.          2.78749514  1.        ]\n",
      " [36.39979553 -0.68719727 -0.20055996  2.        ]\n",
      " [ 0.          0.          0.          0.        ]\n",
      " [ 0.          0.          0.          0.        ]\n",
      " [ 0.          0.          0.          0.        ]\n",
      " [ 0.          0.          0.          0.        ]\n",
      " [ 0.          0.          0.          0.        ]\n",
      " [ 0.          0.          0.          0.        ]\n",
      " [ 0.          0.          0.          0.        ]\n",
      " [ 0.          0.          0.          0.        ]\n",
      " [ 0.          0.          0.          0.        ]\n",
      " [ 0.          0.          0.          0.        ]\n",
      " [ 0.          0.          0.          0.        ]\n",
      " [ 0.          0.          0.          0.        ]\n",
      " [ 0.          0.          0.          0.        ]\n",
      " [ 0.          0.          0.          0.        ]\n",
      " [ 0.          0.          0.          0.        ]\n",
      " [ 0.          0.          0.          0.        ]\n",
      " [ 0.          0.          0.          0.        ]]\n"
     ]
    },
    {
     "data": {
      "text/plain": "<Figure size 500x500 with 1 Axes>",
      "image/png": "[encoded data removed]"
     },
     "metadata": {},
     "output_type": "display_data"
    }
   ],
   "source": [
    "n = np.random.randint(f_particles.shape[0])\n",
    "print(\"Event\", n)\n",
    "test_event = f_particles[n]\n",
    "print(test_event)\n",
    "plot_event_cloud(test_event)"
   ]
  },
  {
   "cell_type": "code",
   "execution_count": 12,
   "metadata": {
    "ExecuteTime": {
     "end_time": "2024-04-20T21:15:20.548905800Z",
     "start_time": "2024-04-20T21:13:58.580108300Z"
    }
   },
   "outputs": [
    {
     "name": "stdout",
     "output_type": "stream",
     "text": [
      "Max of p_T_MET: 7039.09521484375\n",
      "Max of eta_MET: 0.0\n",
      "Max of phi_MET: 3.141591787338257\n",
      "Min of p_T_MET: 0.010911921970546246\n",
      "Min of eta_MET: 0.0\n",
      "Min of phi_MET: -3.1415903568267822\n",
      "Max of p_T_electrons: 1167.7591552734375\n",
      "Max of eta_electrons: 2.9999992847442627\n",
      "Max of phi_electrons: 3.141592502593994\n",
      "Min of p_T_electrons: 0.0\n",
      "Min of eta_electrons: -2.9999988079071045\n",
      "Min of phi_electrons: -3.1415913105010986\n",
      "Max of p_T_muons: 1229.38525390625\n",
      "Max of eta_muons: 2.0999999046325684\n",
      "Max of phi_muons: 3.141592502593994\n",
      "Min of p_T_muons: 0.0\n",
      "Min of eta_muons: -2.0999996662139893\n",
      "Min of phi_muons: -3.141587495803833\n",
      "Max of p_T_jets: 2026.547119140625\n",
      "Max of eta_jets: 3.9999947547912598\n",
      "Max of phi_jets: 3.141592025756836\n",
      "Min of p_T_jets: 0.0\n",
      "Min of eta_jets: -3.9999990463256836\n",
      "Min of phi_jets: -3.141591787338257\n"
     ]
    }
   ],
   "source": [
    "pT_MET = f_particles[:, 0, 0]\n",
    "eta_MET = f_particles[:,0,1]\n",
    "phi_MET = f_particles[:,0,2]\n",
    "\n",
    "print(\"Max of p_T_MET:\", max(pT_MET))\n",
    "print(\"Max of eta_MET:\", max(eta_MET))\n",
    "print(\"Max of phi_MET:\", max(phi_MET))\n",
    "\n",
    "print(\"Min of p_T_MET:\", min(pT_MET))\n",
    "print(\"Min of eta_MET:\", min(eta_MET))\n",
    "print(\"Min of phi_MET:\", min(phi_MET))\n",
    "\n",
    "\n",
    "\n",
    "p_T_electrons = f_particles[:,1:5,0]\n",
    "eta_electrons = f_particles[:,1:5,1]\n",
    "phi_electrons = f_particles[:,1:5,2]\n",
    "\n",
    "print(\"Max of p_T_electrons:\", max(p_T_electrons.flatten()))\n",
    "print(\"Max of eta_electrons:\", max(eta_electrons.flatten()))\n",
    "print(\"Max of phi_electrons:\", max(phi_electrons.flatten()))\n",
    "\n",
    "print(\"Min of p_T_electrons:\", min(p_T_electrons.flatten()))\n",
    "print(\"Min of eta_electrons:\", min(eta_electrons.flatten()))\n",
    "print(\"Min of phi_electrons:\", min(phi_electrons.flatten()))\n",
    "\n",
    "\n",
    "\n",
    "p_T_muons = f_particles[:,5:7,0]\n",
    "eta_muons = f_particles[:,5:7,1]\n",
    "phi_muons = f_particles[:,5:7,2]\n",
    "\n",
    "print(\"Max of p_T_muons:\", max(p_T_muons.flatten()))\n",
    "print(\"Max of eta_muons:\", max(eta_muons.flatten()))\n",
    "print(\"Max of phi_muons:\", max(phi_muons.flatten()))\n",
    "\n",
    "print(\"Min of p_T_muons:\", min(p_T_muons.flatten()))\n",
    "print(\"Min of eta_muons:\", min(eta_muons.flatten()))\n",
    "print(\"Min of phi_muons:\", min(phi_muons.flatten()))\n",
    "\n",
    "\n",
    "\n",
    "p_T_jets = f_particles[:,7:,0]\n",
    "eta_jets = f_particles[:,7:,1]\n",
    "phi_jets = f_particles[:,7:,2]\n",
    "\n",
    "print(\"Max of p_T_jets:\", max(p_T_jets.flatten()))\n",
    "print(\"Max of eta_jets:\", max(eta_jets.flatten()))\n",
    "print(\"Max of phi_jets:\", max(phi_jets.flatten()))\n",
    "\n",
    "print(\"Min of p_T_jets:\", min(p_T_jets.flatten()))\n",
    "print(\"Min of eta_jets:\", min(eta_jets.flatten()))\n",
    "print(\"Min of phi_jets:\", min(phi_jets.flatten()))"
   ]
  },
  {
   "cell_type": "code",
   "execution_count": 14,
   "metadata": {
    "ExecuteTime": {
     "end_time": "2024-04-20T21:15:43.901469700Z",
     "start_time": "2024-04-20T21:15:43.225011800Z"
    }
   },
   "outputs": [
    {
     "data": {
      "text/plain": "<Figure size 640x480 with 1 Axes>",
      "image/png": "[encoded data removed]"
     },
     "metadata": {},
     "output_type": "display_data"
    }
   ],
   "source": [
    "plt.hist(pT_MET, bins=10, range=(0, 1000))\n",
    "plt.yscale('log')\n",
    "plt.show()"
   ]
  },
  {
   "cell_type": "code",
   "execution_count": 15,
   "metadata": {
    "ExecuteTime": {
     "end_time": "2024-04-20T21:15:46.492062900Z",
     "start_time": "2024-04-20T21:15:46.231963500Z"
    }
   },
   "outputs": [
    {
     "data": {
      "text/plain": "<Figure size 640x480 with 1 Axes>",
      "image/png": "[encoded data removed]"
     },
     "metadata": {},
     "output_type": "display_data"
    }
   ],
   "source": [
    "plt.hist(phi_MET, bins=20)\n",
    "plt.show()"
   ]
  },
  {
   "cell_type": "code",
   "execution_count": null,
   "metadata": {},
   "outputs": [],
   "source": []
  }
 ],
 "metadata": {
  "kernelspec": {
   "display_name": "Python 3",
   "language": "python",
   "name": "python3"
  },
  "language_info": {
   "codemirror_mode": {
    "name": "ipython",
    "version": 3
   },
   "file_extension": ".py",
   "mimetype": "text/x-python",
   "name": "python",
   "nbconvert_exporter": "python",
   "pygments_lexer": "ipython3",
   "version": "3.11.8"
  }
 },
 "nbformat": 4,
 "nbformat_minor": 0
}
