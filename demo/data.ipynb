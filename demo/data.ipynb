{
 "cells": [
  {
   "cell_type": "code",
   "execution_count": 3,
   "metadata": {
    "collapsed": true,
    "ExecuteTime": {
     "end_time": "2024-04-19T18:07:53.870687400Z",
     "start_time": "2024-04-19T18:07:53.865304Z"
    }
   },
   "outputs": [],
   "source": [
    "import json\n",
    "import sys\n",
    "\n",
    "def load_config():\n",
    "    with open('../config.json', 'r') as f:\n",
    "        config = json.load(f)\n",
    "    return config\n",
    "\n",
    "def get_database_path():\n",
    "    config = load_config()\n",
    "    if sys.platform.startswith('linux'):\n",
    "        return config['linux']['database_path']\n",
    "    elif sys.platform.startswith('win32') or sys.platform.startswith('cygwin'):\n",
    "        return config['windows']['database_path']\n",
    "    else:\n",
    "        raise Exception(\"Unsupported OS\")\n",
    "\n",
    "def get_h5_files():\n",
    "    config = load_config()\n",
    "    return config['bkg_files'], config['sig_files']\n"
   ]
  },
  {
   "cell_type": "code",
   "execution_count": 4,
   "outputs": [
    {
     "name": "stdout",
     "output_type": "stream",
     "text": [
      "Database Path: D:\\ADwithAE\n",
      "bkg_files: [{'type': 'SM', 'file': 'background_for_training.h5'}]\n",
      "sig_files: [{'type': 'A -> 4 leptons', 'file': 'Ato4l_lepFilter_13TeV_filtered.h5'}, {'type': 'LQ -> b tau', 'file': 'leptoquark_LOWMASS_lepFilter_13TeV_filtered.h5'}, {'type': 'h^0 -> tau tau', 'file': 'hToTauTau_13TeV_PU20_filtered.h5'}, {'type': 'h+ -> tau nu', 'file': 'hChToTauNu_13TeV_PU20_filtered.h5'}]\n"
     ]
    }
   ],
   "source": [
    "database_path = get_database_path()\n",
    "print(\"Database Path:\", database_path)\n",
    "\n",
    "bkg_files, sig_files = get_h5_files()\n",
    "print(\"bkg_files:\", bkg_files)\n",
    "print(\"sig_files:\", sig_files)"
   ],
   "metadata": {
    "collapsed": false,
    "ExecuteTime": {
     "end_time": "2024-04-19T18:07:56.039100700Z",
     "start_time": "2024-04-19T18:07:56.035575Z"
    }
   }
  },
  {
   "cell_type": "code",
   "execution_count": 6,
   "outputs": [
    {
     "name": "stdout",
     "output_type": "stream",
     "text": [
      "SM background_for_training.h5\n",
      "A -> 4 leptons Ato4l_lepFilter_13TeV_filtered.h5\n",
      "LQ -> b tau leptoquark_LOWMASS_lepFilter_13TeV_filtered.h5\n",
      "h^0 -> tau tau hToTauTau_13TeV_PU20_filtered.h5\n",
      "h+ -> tau nu hChToTauNu_13TeV_PU20_filtered.h5\n"
     ]
    }
   ],
   "source": [
    "for dataset in bkg_files:\n",
    "    print(dataset['type'], dataset['file'])\n",
    "\n",
    "for dataset in sig_files:\n",
    "    print(dataset['type'], dataset['file'])"
   ],
   "metadata": {
    "collapsed": false,
    "ExecuteTime": {
     "end_time": "2024-04-19T18:20:10.162980900Z",
     "start_time": "2024-04-19T18:20:10.157418900Z"
    }
   }
  },
  {
   "cell_type": "code",
   "execution_count": null,
   "outputs": [],
   "source": [],
   "metadata": {
    "collapsed": false
   }
  }
 ],
 "metadata": {
  "kernelspec": {
   "display_name": "Python 3",
   "language": "python",
   "name": "python3"
  },
  "language_info": {
   "codemirror_mode": {
    "name": "ipython",
    "version": 2
   },
   "file_extension": ".py",
   "mimetype": "text/x-python",
   "name": "python",
   "nbconvert_exporter": "python",
   "pygments_lexer": "ipython2",
   "version": "2.7.6"
  }
 },
 "nbformat": 4,
 "nbformat_minor": 0
}
