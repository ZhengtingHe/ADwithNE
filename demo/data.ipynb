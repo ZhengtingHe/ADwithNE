{
 "cells": [
  {
   "cell_type": "code",
   "execution_count": 8,
   "metadata": {
    "collapsed": true,
    "ExecuteTime": {
     "end_time": "2024-04-20T22:06:39.475824100Z",
     "start_time": "2024-04-20T22:06:39.471320400Z"
    }
   },
   "outputs": [],
   "source": [
    "import json\n",
    "import sys\n",
    "import h5py\n",
    "import os\n",
    "import numpy as np\n",
    "\n",
    "import matplotlib.pyplot as plt\n",
    "# import seaborn as sns\n",
    "import ot\n",
    "\n",
    "def load_config():\n",
    "    with open('../config.json', 'r') as f:\n",
    "        config = json.load(f)\n",
    "    return config\n",
    "\n",
    "def get_database_path():\n",
    "    config = load_config()\n",
    "    if sys.platform.startswith('linux'):\n",
    "        return config['linux']['database_path']\n",
    "    elif sys.platform.startswith('win32') or sys.platform.startswith('cygwin'):\n",
    "        return config['windows']['database_path']\n",
    "    else:\n",
    "        raise Exception(\"Unsupported OS\")\n",
    "\n",
    "def get_h5_files():\n",
    "    config = load_config()\n",
    "    return config['bkg_files'], config['sig_files']\n",
    "\n",
    "def read_h5_file(path, file_name):\n",
    "    return h5py.File(os.path.join(path, file_name), 'r')\n"
   ]
  },
  {
   "cell_type": "code",
   "execution_count": 9,
   "metadata": {
    "collapsed": false,
    "ExecuteTime": {
     "end_time": "2024-04-20T22:06:39.718142500Z",
     "start_time": "2024-04-20T22:06:39.711731Z"
    }
   },
   "outputs": [
    {
     "name": "stdout",
     "output_type": "stream",
     "text": [
      "Database Path: D:\\ADwithAE\n",
      "bkg_files: [{'type': 'SM', 'file': 'background_for_training.h5'}]\n",
      "sig_files: [{'type': 'A -> 4 leptons', 'file': 'Ato4l_lepFilter_13TeV_filtered.h5'}, {'type': 'LQ -> b tau', 'file': 'leptoquark_LOWMASS_lepFilter_13TeV_filtered.h5'}, {'type': 'h^0 -> tau tau', 'file': 'hToTauTau_13TeV_PU20_filtered.h5'}, {'type': 'h+ -> tau nu', 'file': 'hChToTauNu_13TeV_PU20_filtered.h5'}]\n"
     ]
    }
   ],
   "source": [
    "database_path = get_database_path()\n",
    "print(\"Database Path:\", database_path)\n",
    "\n",
    "bkg_files, sig_files = get_h5_files()\n",
    "print(\"bkg_files:\", bkg_files)\n",
    "print(\"sig_files:\", sig_files)"
   ]
  },
  {
   "cell_type": "code",
   "execution_count": 10,
   "metadata": {
    "collapsed": false,
    "ExecuteTime": {
     "end_time": "2024-04-20T22:06:39.929254700Z",
     "start_time": "2024-04-20T22:06:39.921637Z"
    }
   },
   "outputs": [
    {
     "name": "stdout",
     "output_type": "stream",
     "text": [
      "Background Files:\n",
      "SM background_for_training.h5\n",
      "Signal Files:\n",
      "A -> 4 leptons Ato4l_lepFilter_13TeV_filtered.h5\n",
      "LQ -> b tau leptoquark_LOWMASS_lepFilter_13TeV_filtered.h5\n",
      "h^0 -> tau tau hToTauTau_13TeV_PU20_filtered.h5\n",
      "h+ -> tau nu hChToTauNu_13TeV_PU20_filtered.h5\n"
     ]
    }
   ],
   "source": [
    "print(\"Background Files:\")\n",
    "for dataset in bkg_files:\n",
    "    print(dataset['type'], dataset['file'])\n",
    "\n",
    "print(\"Signal Files:\")\n",
    "for dataset in sig_files:\n",
    "    print(dataset['type'], dataset['file'])"
   ]
  },
  {
   "cell_type": "code",
   "execution_count": 11,
   "metadata": {
    "collapsed": false,
    "ExecuteTime": {
     "end_time": "2024-04-20T22:06:40.184817800Z",
     "start_time": "2024-04-20T22:06:40.177922400Z"
    }
   },
   "outputs": [
    {
     "name": "stdout",
     "output_type": "stream",
     "text": [
      "(13451915, 19, 4)\n",
      "(4,)\n",
      "(4,)\n"
     ]
    }
   ],
   "source": [
    "f = read_h5_file(database_path, bkg_files[0]['file'])\n",
    "for key in f.keys():\n",
    "    print(f[key].shape)"
   ]
  },
  {
   "cell_type": "code",
   "execution_count": 12,
   "metadata": {
    "ExecuteTime": {
     "end_time": "2024-04-20T22:06:40.902752400Z",
     "start_time": "2024-04-20T22:06:40.895293900Z"
    }
   },
   "outputs": [
    {
     "name": "stdout",
     "output_type": "stream",
     "text": [
      "[b'MET_class_1' b'Four_Ele_class_2' b'Four_Mu_class_3' b'Ten_Jet_class_4']\n",
      "[b'Pt' b'Eta' b'Phi' b'Class']\n"
     ]
    }
   ],
   "source": [
    "print(f['Particles_Classes'][:])\n",
    "print(f['Particles_Names'][:])\n",
    "particle_classes = [\"None\", \"MET\", \"Electron\", \"Muon\", \"Jet\"]"
   ]
  },
  {
   "cell_type": "code",
   "execution_count": 13,
   "metadata": {
    "ExecuteTime": {
     "end_time": "2024-04-20T22:06:41.609746100Z",
     "start_time": "2024-04-20T22:06:41.601331100Z"
    }
   },
   "outputs": [],
   "source": [
    "f_particles = f['Particles']"
   ]
  },
  {
   "cell_type": "code",
   "execution_count": 23,
   "metadata": {
    "ExecuteTime": {
     "end_time": "2024-04-20T22:07:56.620238300Z",
     "start_time": "2024-04-20T22:07:56.589841900Z"
    }
   },
   "outputs": [
    {
     "name": "stdout",
     "output_type": "stream",
     "text": [
      "Event  9419802\n",
      "[[16.22810936  0.         -0.25965568  1.        ]\n",
      " [30.11009407  0.23982726 -0.19447096  2.        ]\n",
      " [ 0.          0.          0.          0.        ]\n",
      " [ 0.          0.          0.          0.        ]\n",
      " [ 0.          0.          0.          0.        ]\n",
      " [ 0.          0.          0.          0.        ]\n",
      " [ 0.          0.          0.          0.        ]\n",
      " [ 0.          0.          0.          0.        ]\n",
      " [ 0.          0.          0.          0.        ]\n",
      " [83.65494537 -0.36726803  2.23601413  4.        ]\n",
      " [83.013237    0.1891537  -0.25809681  4.        ]\n",
      " [38.55702972 -3.41256833 -1.69512856  4.        ]\n",
      " [31.66387939  2.34364438  2.97591543  4.        ]\n",
      " [ 0.          0.          0.          0.        ]\n",
      " [ 0.          0.          0.          0.        ]\n",
      " [ 0.          0.          0.          0.        ]\n",
      " [ 0.          0.          0.          0.        ]\n",
      " [ 0.          0.          0.          0.        ]\n",
      " [ 0.          0.          0.          0.        ]]\n"
     ]
    }
   ],
   "source": [
    "n = np.random.randint(f_particles.shape[0])\n",
    "print(\"Event \", n)\n",
    "print(f_particles[n])"
   ]
  },
  {
   "cell_type": "code",
   "execution_count": 24,
   "metadata": {
    "ExecuteTime": {
     "end_time": "2024-04-20T22:08:05.002947200Z",
     "start_time": "2024-04-20T22:08:04.973282Z"
    }
   },
   "outputs": [
    {
     "name": "stdout",
     "output_type": "stream",
     "text": [
      "[[27.41296387  0.         -2.0499022   1.        ]\n",
      " [24.20996857  1.63350999 -0.10349621  2.        ]\n",
      " [ 0.          0.          0.          0.        ]\n",
      " [ 0.          0.          0.          0.        ]\n",
      " [ 0.          0.          0.          0.        ]\n",
      " [ 0.          0.          0.          0.        ]\n",
      " [ 0.          0.          0.          0.        ]\n",
      " [ 0.          0.          0.          0.        ]\n",
      " [ 0.          0.          0.          0.        ]\n",
      " [ 0.          0.          0.          0.        ]\n",
      " [ 0.          0.          0.          0.        ]\n",
      " [ 0.          0.          0.          0.        ]\n",
      " [ 0.          0.          0.          0.        ]\n",
      " [ 0.          0.          0.          0.        ]\n",
      " [ 0.          0.          0.          0.        ]\n",
      " [ 0.          0.          0.          0.        ]\n",
      " [ 0.          0.          0.          0.        ]\n",
      " [ 0.          0.          0.          0.        ]\n",
      " [ 0.          0.          0.          0.        ]]\n",
      "Non-zero constituents [[27.41296387  0.         -2.0499022   1.        ]\n",
      " [24.20996857  1.63350999 -0.10349621  2.        ]]\n"
     ]
    }
   ],
   "source": [
    "test_event = f_particles[0]\n",
    "print(test_event)\n",
    "def select_non_zero_constituents(event):\n",
    "    # Select only constituents with non-zero pT\n",
    "    return event[event[:, 0] != 0]\n",
    "print(\"Non-zero constituents\", select_non_zero_constituents(test_event))"
   ]
  },
  {
   "cell_type": "code",
   "execution_count": 25,
   "metadata": {
    "ExecuteTime": {
     "end_time": "2024-04-20T22:08:06.195357600Z",
     "start_time": "2024-04-20T22:08:06.189322900Z"
    }
   },
   "outputs": [
    {
     "name": "stdout",
     "output_type": "stream",
     "text": [
      "(array([[27.41296387,  0.        , -2.0499022 ,  1.        ]]), array([[24.20996857,  1.63350999, -0.10349621,  2.        ]]), array([], shape=(0, 4), dtype=float64), array([], shape=(0, 4), dtype=float64))\n"
     ]
    }
   ],
   "source": [
    "def parse_event(event):\n",
    "    # Returns MET, electron and muon constituents with non-zero pT\n",
    "    non_zero_part = select_non_zero_constituents(event)\n",
    "\n",
    "    met_part = non_zero_part[non_zero_part[:, 3] == 1]\n",
    "    electron_part = non_zero_part[non_zero_part[:, 3] == 2]\n",
    "    muon_part = non_zero_part[non_zero_part[:, 3] == 3]\n",
    "    jet_part = non_zero_part[non_zero_part[:, 3] == 4]\n",
    "\n",
    "    return met_part, electron_part, muon_part, jet_part\n",
    "print(parse_event(test_event))"
   ]
  },
  {
   "cell_type": "code",
   "execution_count": 26,
   "metadata": {
    "ExecuteTime": {
     "end_time": "2024-04-20T22:08:07.807290200Z",
     "start_time": "2024-04-20T22:08:07.803284400Z"
    }
   },
   "outputs": [],
   "source": [
    "def plot_event_cloud(event):\n",
    "    met_part, electron_part, muon_part, jet_part = parse_event(event)\n",
    "\n",
    "    plt.figure(figsize=(5, 5))\n",
    "    plt.xlim(-5, 5)\n",
    "    plt.ylim(-3.5, 3.5)\n",
    "    plt.xlabel(r'$\\eta$')\n",
    "    plt.ylabel(r'$\\phi$')\n",
    "\n",
    "    plt.scatter(met_part[:, 1], met_part[:, 2], color='red', marker='^', s=met_part[:,0], label='MET')\n",
    "\n",
    "    if electron_part.size:\n",
    "        plt.scatter(electron_part[:, 1], electron_part[:, 2], color='blue', marker='o', s=electron_part[:,0], label='Electrons')\n",
    "    \n",
    "    if muon_part.size:\n",
    "        plt.scatter(muon_part[:, 1], muon_part[:, 2], color='green', marker='s', s=muon_part[:,0], label='Muons')\n",
    "\n",
    "    if jet_part.size:\n",
    "        plt.scatter(jet_part[:, 1], jet_part[:, 2], color='purple', marker='*', s=jet_part[:,0], label='Jets')\n",
    "    \n",
    "    plt.legend()\n",
    "    plt.grid(True)\n",
    "    plt.show()\n"
   ]
  },
  {
   "cell_type": "code",
   "execution_count": 30,
   "metadata": {
    "ExecuteTime": {
     "end_time": "2024-04-20T22:08:39.689056600Z",
     "start_time": "2024-04-20T22:08:39.563723100Z"
    }
   },
   "outputs": [
    {
     "name": "stdout",
     "output_type": "stream",
     "text": [
      "Event 8168494\n",
      "[[21.78929901  0.         -1.83613396  1.        ]\n",
      " [26.28133965  1.41901147 -0.41383144  2.        ]\n",
      " [ 0.          0.          0.          0.        ]\n",
      " [ 0.          0.          0.          0.        ]\n",
      " [ 0.          0.          0.          0.        ]\n",
      " [ 0.          0.          0.          0.        ]\n",
      " [ 0.          0.          0.          0.        ]\n",
      " [ 0.          0.          0.          0.        ]\n",
      " [ 0.          0.          0.          0.        ]\n",
      " [40.88951874  1.41753399 -0.36384001  4.        ]\n",
      " [38.05955124  1.98444462  2.74265194  4.        ]\n",
      " [20.06712341  1.10462976  1.99170935  4.        ]\n",
      " [ 0.          0.          0.          0.        ]\n",
      " [ 0.          0.          0.          0.        ]\n",
      " [ 0.          0.          0.          0.        ]\n",
      " [ 0.          0.          0.          0.        ]\n",
      " [ 0.          0.          0.          0.        ]\n",
      " [ 0.          0.          0.          0.        ]\n",
      " [ 0.          0.          0.          0.        ]]\n"
     ]
    },
    {
     "data": {
      "text/plain": "<Figure size 500x500 with 1 Axes>",
      "image/png": "[encoded data removed]"
     },
     "metadata": {},
     "output_type": "display_data"
    }
   ],
   "source": [
    "n = np.random.randint(f_particles.shape[0])\n",
    "print(\"Event\", n)\n",
    "test_event = f_particles[n]\n",
    "print(test_event)\n",
    "plot_event_cloud(test_event)"
   ]
  },
  {
   "cell_type": "code",
   "execution_count": 12,
   "metadata": {
    "ExecuteTime": {
     "end_time": "2024-04-20T21:15:20.548905800Z",
     "start_time": "2024-04-20T21:13:58.580108300Z"
    }
   },
   "outputs": [
    {
     "name": "stdout",
     "output_type": "stream",
     "text": [
      "Max of p_T_MET: 7039.09521484375\n",
      "Max of eta_MET: 0.0\n",
      "Max of phi_MET: 3.141591787338257\n",
      "Min of p_T_MET: 0.010911921970546246\n",
      "Min of eta_MET: 0.0\n",
      "Min of phi_MET: -3.1415903568267822\n",
      "Max of p_T_electrons: 1167.7591552734375\n",
      "Max of eta_electrons: 2.9999992847442627\n",
      "Max of phi_electrons: 3.141592502593994\n",
      "Min of p_T_electrons: 0.0\n",
      "Min of eta_electrons: -2.9999988079071045\n",
      "Min of phi_electrons: -3.1415913105010986\n",
      "Max of p_T_muons: 1229.38525390625\n",
      "Max of eta_muons: 2.0999999046325684\n",
      "Max of phi_muons: 3.141592502593994\n",
      "Min of p_T_muons: 0.0\n",
      "Min of eta_muons: -2.0999996662139893\n",
      "Min of phi_muons: -3.141587495803833\n",
      "Max of p_T_jets: 2026.547119140625\n",
      "Max of eta_jets: 3.9999947547912598\n",
      "Max of phi_jets: 3.141592025756836\n",
      "Min of p_T_jets: 0.0\n",
      "Min of eta_jets: -3.9999990463256836\n",
      "Min of phi_jets: -3.141591787338257\n"
     ]
    }
   ],
   "source": [
    "pT_MET = f_particles[:, 0, 0]\n",
    "eta_MET = f_particles[:,0,1]\n",
    "phi_MET = f_particles[:,0,2]\n",
    "\n",
    "print(\"Max of p_T_MET:\", max(pT_MET))\n",
    "print(\"Max of eta_MET:\", max(eta_MET))\n",
    "print(\"Max of phi_MET:\", max(phi_MET))\n",
    "\n",
    "print(\"Min of p_T_MET:\", min(pT_MET))\n",
    "print(\"Min of eta_MET:\", min(eta_MET))\n",
    "print(\"Min of phi_MET:\", min(phi_MET))\n",
    "\n",
    "\n",
    "\n",
    "p_T_electrons = f_particles[:,1:5,0]\n",
    "eta_electrons = f_particles[:,1:5,1]\n",
    "phi_electrons = f_particles[:,1:5,2]\n",
    "\n",
    "print(\"Max of p_T_electrons:\", max(p_T_electrons.flatten()))\n",
    "print(\"Max of eta_electrons:\", max(eta_electrons.flatten()))\n",
    "print(\"Max of phi_electrons:\", max(phi_electrons.flatten()))\n",
    "\n",
    "print(\"Min of p_T_electrons:\", min(p_T_electrons.flatten()))\n",
    "print(\"Min of eta_electrons:\", min(eta_electrons.flatten()))\n",
    "print(\"Min of phi_electrons:\", min(phi_electrons.flatten()))\n",
    "\n",
    "\n",
    "\n",
    "p_T_muons = f_particles[:,5:7,0]\n",
    "eta_muons = f_particles[:,5:7,1]\n",
    "phi_muons = f_particles[:,5:7,2]\n",
    "\n",
    "print(\"Max of p_T_muons:\", max(p_T_muons.flatten()))\n",
    "print(\"Max of eta_muons:\", max(eta_muons.flatten()))\n",
    "print(\"Max of phi_muons:\", max(phi_muons.flatten()))\n",
    "\n",
    "print(\"Min of p_T_muons:\", min(p_T_muons.flatten()))\n",
    "print(\"Min of eta_muons:\", min(eta_muons.flatten()))\n",
    "print(\"Min of phi_muons:\", min(phi_muons.flatten()))\n",
    "\n",
    "\n",
    "\n",
    "p_T_jets = f_particles[:,7:,0]\n",
    "eta_jets = f_particles[:,7:,1]\n",
    "phi_jets = f_particles[:,7:,2]\n",
    "\n",
    "print(\"Max of p_T_jets:\", max(p_T_jets.flatten()))\n",
    "print(\"Max of eta_jets:\", max(eta_jets.flatten()))\n",
    "print(\"Max of phi_jets:\", max(phi_jets.flatten()))\n",
    "\n",
    "print(\"Min of p_T_jets:\", min(p_T_jets.flatten()))\n",
    "print(\"Min of eta_jets:\", min(eta_jets.flatten()))\n",
    "print(\"Min of phi_jets:\", min(phi_jets.flatten()))"
   ]
  },
  {
   "cell_type": "code",
   "execution_count": 14,
   "metadata": {
    "ExecuteTime": {
     "end_time": "2024-04-20T21:15:43.901469700Z",
     "start_time": "2024-04-20T21:15:43.225011800Z"
    }
   },
   "outputs": [
    {
     "data": {
      "text/plain": "<Figure size 640x480 with 1 Axes>",
      "image/png": "[encoded data removed]"
     },
     "metadata": {},
     "output_type": "display_data"
    }
   ],
   "source": [
    "plt.hist(pT_MET, bins=10, range=(0, 1000))\n",
    "plt.yscale('log')\n",
    "plt.show()"
   ]
  },
  {
   "cell_type": "code",
   "execution_count": 6,
   "metadata": {
    "ExecuteTime": {
     "end_time": "2024-04-20T22:05:55.473481100Z",
     "start_time": "2024-04-20T22:05:55.466468500Z"
    }
   },
   "outputs": [
    {
     "name": "stdout",
     "output_type": "stream",
     "text": [
      "[0.33655214 0.34397565 0.38593241 0.05882925]\n",
      "[0.21449478 0.9704241  0.46276326 0.4228523  0.95357575]\n",
      "[[0.09286935 0.45821835 0.34549498 0.20150941 0.77428953]\n",
      " [0.90328608 0.10380487 0.86743499 0.67171572 0.18148501]\n",
      " [0.7522354  0.89576653 0.59841033 0.00129682 0.90429036]\n",
      " [0.31404469 0.77391138 0.0339445  0.20470317 0.51945907]]\n"
     ]
    }
   ],
   "source": [
    "a = np.random.random(4)\n",
    "b = np.random.random(5)\n",
    "M = np.random.random((4,5))\n",
    "\n",
    "print(a)\n",
    "print(b)\n",
    "print(M)"
   ]
  },
  {
   "cell_type": "code",
   "execution_count": 5,
   "outputs": [
    {
     "ename": "AssertionError",
     "evalue": "\nArrays are not almost equal to 6 decimals a and b vector must have the same sum\n ACTUAL: 3.321434778619411\n DESIRED: 1.9984402172656832",
     "output_type": "error",
     "traceback": [
      "\u001B[1;31m---------------------------------------------------------------------------\u001B[0m",
      "\u001B[1;31mAssertionError\u001B[0m                            Traceback (most recent call last)",
      "Cell \u001B[1;32mIn[5], line 1\u001B[0m\n\u001B[1;32m----> 1\u001B[0m T \u001B[38;5;241m=\u001B[39m ot\u001B[38;5;241m.\u001B[39memd(a, b, M)\n",
      "File \u001B[1;32m~\\.conda\\envs\\ad\\Lib\\site-packages\\ot\\lp\\__init__.py:336\u001B[0m, in \u001B[0;36memd\u001B[1;34m(a, b, M, numItermax, log, center_dual, numThreads, check_marginals)\u001B[0m\n\u001B[0;32m    334\u001B[0m \u001B[38;5;66;03m# ensure that same mass\u001B[39;00m\n\u001B[0;32m    335\u001B[0m \u001B[38;5;28;01mif\u001B[39;00m check_marginals:\n\u001B[1;32m--> 336\u001B[0m     np\u001B[38;5;241m.\u001B[39mtesting\u001B[38;5;241m.\u001B[39massert_almost_equal(a\u001B[38;5;241m.\u001B[39msum(\u001B[38;5;241m0\u001B[39m),\n\u001B[0;32m    337\u001B[0m                                 b\u001B[38;5;241m.\u001B[39msum(\u001B[38;5;241m0\u001B[39m), err_msg\u001B[38;5;241m=\u001B[39m\u001B[38;5;124m'\u001B[39m\u001B[38;5;124ma and b vector must have the same sum\u001B[39m\u001B[38;5;124m'\u001B[39m,\n\u001B[0;32m    338\u001B[0m                                 decimal\u001B[38;5;241m=\u001B[39m\u001B[38;5;241m6\u001B[39m)\n\u001B[0;32m    339\u001B[0m b \u001B[38;5;241m=\u001B[39m b \u001B[38;5;241m*\u001B[39m a\u001B[38;5;241m.\u001B[39msum() \u001B[38;5;241m/\u001B[39m b\u001B[38;5;241m.\u001B[39msum()\n\u001B[0;32m    341\u001B[0m asel \u001B[38;5;241m=\u001B[39m a \u001B[38;5;241m!=\u001B[39m \u001B[38;5;241m0\u001B[39m\n",
      "File \u001B[1;32m~\\.conda\\envs\\ad\\Lib\\contextlib.py:81\u001B[0m, in \u001B[0;36mContextDecorator.__call__.<locals>.inner\u001B[1;34m(*args, **kwds)\u001B[0m\n\u001B[0;32m     78\u001B[0m \u001B[38;5;129m@wraps\u001B[39m(func)\n\u001B[0;32m     79\u001B[0m \u001B[38;5;28;01mdef\u001B[39;00m \u001B[38;5;21minner\u001B[39m(\u001B[38;5;241m*\u001B[39margs, \u001B[38;5;241m*\u001B[39m\u001B[38;5;241m*\u001B[39mkwds):\n\u001B[0;32m     80\u001B[0m     \u001B[38;5;28;01mwith\u001B[39;00m \u001B[38;5;28mself\u001B[39m\u001B[38;5;241m.\u001B[39m_recreate_cm():\n\u001B[1;32m---> 81\u001B[0m         \u001B[38;5;28;01mreturn\u001B[39;00m func(\u001B[38;5;241m*\u001B[39margs, \u001B[38;5;241m*\u001B[39m\u001B[38;5;241m*\u001B[39mkwds)\n",
      "File \u001B[1;32m~\\.conda\\envs\\ad\\Lib\\site-packages\\numpy\\testing\\_private\\utils.py:537\u001B[0m, in \u001B[0;36massert_almost_equal\u001B[1;34m(actual, desired, decimal, err_msg, verbose)\u001B[0m\n\u001B[0;32m    535\u001B[0m     \u001B[38;5;28;01mpass\u001B[39;00m\n\u001B[0;32m    536\u001B[0m \u001B[38;5;28;01mif\u001B[39;00m \u001B[38;5;28mabs\u001B[39m(desired \u001B[38;5;241m-\u001B[39m actual) \u001B[38;5;241m>\u001B[39m\u001B[38;5;241m=\u001B[39m np\u001B[38;5;241m.\u001B[39mfloat64(\u001B[38;5;241m1.5\u001B[39m \u001B[38;5;241m*\u001B[39m \u001B[38;5;241m10.0\u001B[39m\u001B[38;5;241m*\u001B[39m\u001B[38;5;241m*\u001B[39m(\u001B[38;5;241m-\u001B[39mdecimal)):\n\u001B[1;32m--> 537\u001B[0m     \u001B[38;5;28;01mraise\u001B[39;00m \u001B[38;5;167;01mAssertionError\u001B[39;00m(_build_err_msg())\n",
      "\u001B[1;31mAssertionError\u001B[0m: \nArrays are not almost equal to 6 decimals a and b vector must have the same sum\n ACTUAL: 3.321434778619411\n DESIRED: 1.9984402172656832"
     ]
    }
   ],
   "source": [
    "T = ot.emd(a, b, M)"
   ],
   "metadata": {
    "collapsed": false,
    "ExecuteTime": {
     "end_time": "2024-04-20T22:05:53.362713Z",
     "start_time": "2024-04-20T22:05:53.325989600Z"
    }
   }
  },
  {
   "cell_type": "code",
   "execution_count": null,
   "metadata": {},
   "outputs": [],
   "source": []
  }
 ],
 "metadata": {
  "kernelspec": {
   "display_name": "Python 3",
   "language": "python",
   "name": "python3"
  },
  "language_info": {
   "codemirror_mode": {
    "name": "ipython",
    "version": 3
   },
   "file_extension": ".py",
   "mimetype": "text/x-python",
   "name": "python",
   "nbconvert_exporter": "python",
   "pygments_lexer": "ipython3",
   "version": "3.11.8"
  }
 },
 "nbformat": 4,
 "nbformat_minor": 0
}
