{
 "cells": [
  {
   "cell_type": "code",
   "execution_count": 1,
   "metadata": {},
   "outputs": [],
   "source": [
    "import glob, h5py, math, time, os, json, argparse, datetime\n",
    "\n",
    "import torch\n",
    "from torch import nn\n",
    "import numpy as np\n",
    "import sys\n",
    "import os\n",
    "import pandas as pd\n",
    "from torch.utils.data import Dataset, DataLoader\n",
    "from tqdm import tqdm\n",
    "from sklearn.model_selection import KFold\n",
    "\n",
    "sys.path.append(\"..\")\n",
    "from data import get_database_path, get_h5_files, read_h5_file, select_events, classify_events\n",
    "from utils import load_toml_config\n",
    "\n",
    "import matplotlib.pyplot as plt\n",
    "\n",
    "from classify import train_model\n",
    "from analysis import Normalizer, train_test_split, get_dataloaders, calculate_auc, ClassifyDataset, predict\n",
    "\n",
    "from metrics import BinaryACCUpdater\n",
    "from model import MLP\n",
    "\n",
    "import h5py\n",
    "\n",
    "from visualize import plot_roc_curve\n",
    "\n",
    "device = \"cuda\" if torch.cuda.is_available() else \"mps\" if sys.platform == \"darwin\" else \"cpu\"\n",
    "random_seed = 114514\n",
    "torch.manual_seed(random_seed)\n",
    "np.random.seed(random_seed)"
   ]
  },
  {
   "cell_type": "code",
   "execution_count": 2,
   "metadata": {},
   "outputs": [],
   "source": [
    "database_path = \"/home/desmondhe/ADwithNE/latent\"\n",
    "output_dim = [2,4,8,16,32]\n",
    "embedding_points_file_name = {}\n",
    "embedding_points_file = {}\n",
    "embedding_points = {}\n",
    "targets = {}\n",
    "for dim in output_dim:\n",
    "    embedding_points_file_name[dim] = \"embedding_points_dim{}.h5\".format(dim)\n",
    "    embedding_points_file[dim] = os.path.join(database_path, embedding_points_file_name[dim])\n",
    "    embedding_points[dim] = h5py.File(embedding_points_file[dim])\n",
    "bsm_events = ['charged_Higgs', 'leptoquark', 'neutral_Higgs', 'neutral_boson']\n",
    "# Load bkg labels\n",
    "bkg_id = np.load('../data/background_IDs_-1.npz')\n",
    "set_labels = ['background_ID_train', 'background_ID_test', 'background_ID_val']\n",
    "bkg_labels = np.concatenate([bkg_id[label] for label in set_labels], axis=0)\n",
    "\n",
    "assert embedding_points[2]['SM'].shape[0] == len(bkg_labels)"
   ]
  },
  {
   "cell_type": "markdown",
   "metadata": {},
   "source": [
    "# Binary"
   ]
  },
  {
   "cell_type": "code",
   "execution_count": 4,
   "metadata": {},
   "outputs": [],
   "source": [
    "test_ratio=0.2\n",
    "val_ratio = 0.2\n",
    "\n",
    "\n",
    "# test_signal = \"neutral_boson\"\n",
    "test_signal = \"leptoquark\"\n",
    "# test_signal = \"neutral_Higgs\"\n",
    "# test_signal = \"charged_Higgs\"\n",
    "test_dimension = 2\n",
    "\n",
    "normalizer = Normalizer(*[value for value in embedding_points[test_dimension].values()])\n",
    "selected_idx = np.random.choice(embedding_points[test_dimension]['SM'].shape[0], len(np.array(embedding_points[test_dimension][test_signal])), replace=False)\n",
    "exp_events, bkg_events = np.array(embedding_points[test_dimension]['SM'])[selected_idx], np.array(embedding_points[test_dimension][test_signal])\n",
    "X1, X2, W1, W2 = train_test_split(exp_events, bkg_events, test_ratio)\n",
    "n1 = len(W1)\n",
    "m1 = len(X1)\n",
    "pi = n1 / (n1 + m1)\n",
    "n2 = len(W2)\n",
    "m2 = len(X2)\n",
    "train_dataloader, val_dataloader = get_dataloaders(X1, W1, val_ratio, normalizer, train_batch_size=1000, val_batch_size=1000)\n",
    "test_dataset = ClassifyDataset(X2, W2, normalizer)\n",
    "test_dataloader = DataLoader(test_dataset, batch_size=1000, shuffle=False)"
   ]
  },
  {
   "cell_type": "code",
   "execution_count": 5,
   "metadata": {},
   "outputs": [],
   "source": [
    "hidden_dim = [8, 16, 16, 16, 8]\n",
    "naive_model = MLP(test_dimension, hidden_sizes=hidden_dim)"
   ]
  },
  {
   "cell_type": "code",
   "execution_count": 6,
   "metadata": {},
   "outputs": [],
   "source": [
    "naive_model.to(device)\n",
    "optimizer = torch.optim.Adam(naive_model.parameters(), lr=1e-3, weight_decay=1e-5)\n",
    "loss_fn = nn.BCELoss()\n",
    "acc_metric = BinaryACCUpdater()\n",
    "metric_dict = {\"Accuracy\": acc_metric}"
   ]
  },
  {
   "cell_type": "code",
   "execution_count": 7,
   "metadata": {},
   "outputs": [
    {
     "name": "stdout",
     "output_type": "stream",
     "text": [
      "\n",
      "================================================================================2024-11-06 22:52:40\n",
      "Epoch 1 / 50\n",
      "\n",
      "100%|██████████| 436/436 [00:01<00:00, 348.93it/s, train_Accuracy=0.727, train_loss=0.573]\n",
      "100%|██████████| 109/109 [00:00<00:00, 224.49it/s, val_Accuracy=0.749, val_loss=0.517]\n",
      "<<<<<< reach best val_Accuracy : 0.749493420124054 >>>>>>\n",
      "\n",
      "================================================================================2024-11-06 22:52:43\n",
      "Epoch 2 / 50\n",
      "\n",
      "100%|██████████| 436/436 [00:01<00:00, 388.20it/s, train_Accuracy=0.76, train_loss=0.499] \n",
      "100%|██████████| 109/109 [00:00<00:00, 366.58it/s, val_Accuracy=0.765, val_loss=0.49]\n",
      "<<<<<< reach best val_Accuracy : 0.7652618885040283 >>>>>>\n",
      "\n",
      "================================================================================2024-11-06 22:52:45\n",
      "Epoch 3 / 50\n",
      "\n",
      "100%|██████████| 436/436 [00:00<00:00, 460.67it/s, train_Accuracy=0.765, train_loss=0.49] \n",
      "100%|██████████| 109/109 [00:00<00:00, 654.23it/s, val_Accuracy=0.767, val_loss=0.487]\n",
      "<<<<<< reach best val_Accuracy : 0.7671451568603516 >>>>>>\n",
      "\n",
      "================================================================================2024-11-06 22:52:47\n",
      "Epoch 4 / 50\n",
      "\n",
      "100%|██████████| 436/436 [00:00<00:00, 500.25it/s, train_Accuracy=0.767, train_loss=0.486]\n",
      "100%|██████████| 109/109 [00:00<00:00, 686.03it/s, val_Accuracy=0.769, val_loss=0.481]\n",
      "<<<<<< reach best val_Accuracy : 0.7690395712852478 >>>>>>\n",
      "\n",
      "================================================================================2024-11-06 22:52:48\n",
      "Epoch 5 / 50\n",
      "\n",
      "100%|██████████| 436/436 [00:00<00:00, 493.53it/s, train_Accuracy=0.767, train_loss=0.482]\n",
      "100%|██████████| 109/109 [00:00<00:00, 653.46it/s, val_Accuracy=0.769, val_loss=0.479]\n",
      "<<<<<< reach best val_Accuracy : 0.7693182826042175 >>>>>>\n",
      "\n",
      "================================================================================2024-11-06 22:52:50\n",
      "Epoch 6 / 50\n",
      "\n",
      "100%|██████████| 436/436 [00:00<00:00, 510.67it/s, train_Accuracy=0.767, train_loss=0.48] \n",
      "100%|██████████| 109/109 [00:00<00:00, 675.58it/s, val_Accuracy=0.768, val_loss=0.478]\n",
      "\n",
      "================================================================================2024-11-06 22:52:52\n",
      "Epoch 7 / 50\n",
      "\n",
      "100%|██████████| 436/436 [00:00<00:00, 507.61it/s, train_Accuracy=0.767, train_loss=0.479]\n",
      "100%|██████████| 109/109 [00:00<00:00, 645.57it/s, val_Accuracy=0.77, val_loss=0.476]\n",
      "<<<<<< reach best val_Accuracy : 0.7696138620376587 >>>>>>\n",
      "\n",
      "================================================================================2024-11-06 22:52:53\n",
      "Epoch 8 / 50\n",
      "\n",
      "100%|██████████| 436/436 [00:00<00:00, 523.40it/s, train_Accuracy=0.768, train_loss=0.478]\n",
      "100%|██████████| 109/109 [00:00<00:00, 678.81it/s, val_Accuracy=0.77, val_loss=0.475]\n",
      "\n",
      "================================================================================2024-11-06 22:52:55\n",
      "Epoch 9 / 50\n",
      "\n",
      "100%|██████████| 436/436 [00:00<00:00, 495.39it/s, train_Accuracy=0.768, train_loss=0.478]\n",
      "100%|██████████| 109/109 [00:00<00:00, 664.86it/s, val_Accuracy=0.769, val_loss=0.475]\n",
      "\n",
      "================================================================================2024-11-06 22:52:56\n",
      "Epoch 10 / 50\n",
      "\n",
      "100%|██████████| 436/436 [00:00<00:00, 525.18it/s, train_Accuracy=0.768, train_loss=0.477]\n",
      "100%|██████████| 109/109 [00:00<00:00, 632.06it/s, val_Accuracy=0.77, val_loss=0.475]\n",
      "<<<<<< reach best val_Accuracy : 0.7696616649627686 >>>>>>\n",
      "\n",
      "================================================================================2024-11-06 22:52:58\n",
      "Epoch 11 / 50\n",
      "\n",
      "100%|██████████| 436/436 [00:00<00:00, 525.32it/s, train_Accuracy=0.768, train_loss=0.477]\n",
      "100%|██████████| 109/109 [00:00<00:00, 651.62it/s, val_Accuracy=0.77, val_loss=0.475]\n",
      "<<<<<< reach best val_Accuracy : 0.7696818709373474 >>>>>>\n",
      "\n",
      "================================================================================2024-11-06 22:53:00\n",
      "Epoch 12 / 50\n",
      "\n",
      "100%|██████████| 436/436 [00:00<00:00, 480.53it/s, train_Accuracy=0.768, train_loss=0.477]\n",
      "100%|██████████| 109/109 [00:00<00:00, 653.53it/s, val_Accuracy=0.77, val_loss=0.475]\n",
      "\n",
      "================================================================================2024-11-06 22:53:01\n",
      "Epoch 13 / 50\n",
      "\n",
      "100%|██████████| 436/436 [00:00<00:00, 506.01it/s, train_Accuracy=0.768, train_loss=0.477]\n",
      "100%|██████████| 109/109 [00:00<00:00, 630.36it/s, val_Accuracy=0.77, val_loss=0.475]\n",
      "\n",
      "================================================================================2024-11-06 22:53:03\n",
      "Epoch 14 / 50\n",
      "\n",
      "100%|██████████| 436/436 [00:00<00:00, 485.43it/s, train_Accuracy=0.768, train_loss=0.477]\n",
      "100%|██████████| 109/109 [00:00<00:00, 655.62it/s, val_Accuracy=0.77, val_loss=0.475]\n",
      "\n",
      "================================================================================2024-11-06 22:53:05\n",
      "Epoch 15 / 50\n",
      "\n",
      "100%|██████████| 436/436 [00:00<00:00, 496.98it/s, train_Accuracy=0.768, train_loss=0.477]\n",
      "100%|██████████| 109/109 [00:00<00:00, 653.11it/s, val_Accuracy=0.77, val_loss=0.475]\n",
      "\n",
      "================================================================================2024-11-06 22:53:06\n",
      "Epoch 16 / 50\n",
      "\n",
      "100%|██████████| 436/436 [00:00<00:00, 519.16it/s, train_Accuracy=0.768, train_loss=0.477]\n",
      "100%|██████████| 109/109 [00:00<00:00, 649.03it/s, val_Accuracy=0.769, val_loss=0.476]\n",
      "<<<<<< val_Accuracy without improvement in 5 epoch, early stopping >>>>>>\n"
     ]
    },
    {
     "data": {
      "text/html": [
       "<div>\n",
       "<style scoped>\n",
       "    .dataframe tbody tr th:only-of-type {\n",
       "        vertical-align: middle;\n",
       "    }\n",
       "\n",
       "    .dataframe tbody tr th {\n",
       "        vertical-align: top;\n",
       "    }\n",
       "\n",
       "    .dataframe thead th {\n",
       "        text-align: right;\n",
       "    }\n",
       "</style>\n",
       "<table border=\"1\" class=\"dataframe\">\n",
       "  <thead>\n",
       "    <tr style=\"text-align: right;\">\n",
       "      <th></th>\n",
       "      <th>train_loss</th>\n",
       "      <th>train_Accuracy</th>\n",
       "      <th>val_loss</th>\n",
       "      <th>val_Accuracy</th>\n",
       "      <th>epoch</th>\n",
       "    </tr>\n",
       "  </thead>\n",
       "  <tbody>\n",
       "    <tr>\n",
       "      <th>0</th>\n",
       "      <td>0.572998</td>\n",
       "      <td>0.727192</td>\n",
       "      <td>0.517004</td>\n",
       "      <td>0.749493</td>\n",
       "      <td>1</td>\n",
       "    </tr>\n",
       "    <tr>\n",
       "      <th>1</th>\n",
       "      <td>0.499294</td>\n",
       "      <td>0.759566</td>\n",
       "      <td>0.489990</td>\n",
       "      <td>0.765262</td>\n",
       "      <td>2</td>\n",
       "    </tr>\n",
       "    <tr>\n",
       "      <th>2</th>\n",
       "      <td>0.490083</td>\n",
       "      <td>0.764829</td>\n",
       "      <td>0.486509</td>\n",
       "      <td>0.767145</td>\n",
       "      <td>3</td>\n",
       "    </tr>\n",
       "    <tr>\n",
       "      <th>3</th>\n",
       "      <td>0.485996</td>\n",
       "      <td>0.766543</td>\n",
       "      <td>0.481283</td>\n",
       "      <td>0.769040</td>\n",
       "      <td>4</td>\n",
       "    </tr>\n",
       "    <tr>\n",
       "      <th>4</th>\n",
       "      <td>0.481951</td>\n",
       "      <td>0.767139</td>\n",
       "      <td>0.478551</td>\n",
       "      <td>0.769318</td>\n",
       "      <td>5</td>\n",
       "    </tr>\n",
       "    <tr>\n",
       "      <th>5</th>\n",
       "      <td>0.479670</td>\n",
       "      <td>0.767442</td>\n",
       "      <td>0.477502</td>\n",
       "      <td>0.767773</td>\n",
       "      <td>6</td>\n",
       "    </tr>\n",
       "    <tr>\n",
       "      <th>6</th>\n",
       "      <td>0.478524</td>\n",
       "      <td>0.767355</td>\n",
       "      <td>0.475845</td>\n",
       "      <td>0.769614</td>\n",
       "      <td>7</td>\n",
       "    </tr>\n",
       "    <tr>\n",
       "      <th>7</th>\n",
       "      <td>0.477840</td>\n",
       "      <td>0.767739</td>\n",
       "      <td>0.475256</td>\n",
       "      <td>0.769513</td>\n",
       "      <td>8</td>\n",
       "    </tr>\n",
       "    <tr>\n",
       "      <th>8</th>\n",
       "      <td>0.477585</td>\n",
       "      <td>0.767765</td>\n",
       "      <td>0.475299</td>\n",
       "      <td>0.769186</td>\n",
       "      <td>9</td>\n",
       "    </tr>\n",
       "    <tr>\n",
       "      <th>9</th>\n",
       "      <td>0.477349</td>\n",
       "      <td>0.767814</td>\n",
       "      <td>0.475139</td>\n",
       "      <td>0.769662</td>\n",
       "      <td>10</td>\n",
       "    </tr>\n",
       "    <tr>\n",
       "      <th>10</th>\n",
       "      <td>0.477337</td>\n",
       "      <td>0.767567</td>\n",
       "      <td>0.475343</td>\n",
       "      <td>0.769682</td>\n",
       "      <td>11</td>\n",
       "    </tr>\n",
       "    <tr>\n",
       "      <th>11</th>\n",
       "      <td>0.477053</td>\n",
       "      <td>0.767863</td>\n",
       "      <td>0.475488</td>\n",
       "      <td>0.769638</td>\n",
       "      <td>12</td>\n",
       "    </tr>\n",
       "    <tr>\n",
       "      <th>12</th>\n",
       "      <td>0.477079</td>\n",
       "      <td>0.768009</td>\n",
       "      <td>0.475252</td>\n",
       "      <td>0.769650</td>\n",
       "      <td>13</td>\n",
       "    </tr>\n",
       "    <tr>\n",
       "      <th>13</th>\n",
       "      <td>0.477105</td>\n",
       "      <td>0.767800</td>\n",
       "      <td>0.475016</td>\n",
       "      <td>0.769637</td>\n",
       "      <td>14</td>\n",
       "    </tr>\n",
       "    <tr>\n",
       "      <th>14</th>\n",
       "      <td>0.476948</td>\n",
       "      <td>0.767951</td>\n",
       "      <td>0.474632</td>\n",
       "      <td>0.769562</td>\n",
       "      <td>15</td>\n",
       "    </tr>\n",
       "    <tr>\n",
       "      <th>15</th>\n",
       "      <td>0.476992</td>\n",
       "      <td>0.768173</td>\n",
       "      <td>0.475763</td>\n",
       "      <td>0.769494</td>\n",
       "      <td>16</td>\n",
       "    </tr>\n",
       "  </tbody>\n",
       "</table>\n",
       "</div>"
      ],
      "text/plain": [
       "    train_loss  train_Accuracy  val_loss  val_Accuracy  epoch\n",
       "0     0.572998        0.727192  0.517004      0.749493      1\n",
       "1     0.499294        0.759566  0.489990      0.765262      2\n",
       "2     0.490083        0.764829  0.486509      0.767145      3\n",
       "3     0.485996        0.766543  0.481283      0.769040      4\n",
       "4     0.481951        0.767139  0.478551      0.769318      5\n",
       "5     0.479670        0.767442  0.477502      0.767773      6\n",
       "6     0.478524        0.767355  0.475845      0.769614      7\n",
       "7     0.477840        0.767739  0.475256      0.769513      8\n",
       "8     0.477585        0.767765  0.475299      0.769186      9\n",
       "9     0.477349        0.767814  0.475139      0.769662     10\n",
       "10    0.477337        0.767567  0.475343      0.769682     11\n",
       "11    0.477053        0.767863  0.475488      0.769638     12\n",
       "12    0.477079        0.768009  0.475252      0.769650     13\n",
       "13    0.477105        0.767800  0.475016      0.769637     14\n",
       "14    0.476948        0.767951  0.474632      0.769562     15\n",
       "15    0.476992        0.768173  0.475763      0.769494     16"
      ]
     },
     "execution_count": 7,
     "metadata": {},
     "output_type": "execute_result"
    }
   ],
   "source": [
    "train_model(\n",
    "    naive_model, optimizer,\n",
    "    loss_fn, metrics_dict=metric_dict,\n",
    "    train_dataloader=train_dataloader, val_dataloader=val_dataloader,\n",
    "    monitor=\"val_Accuracy\", mode=\"max\",\n",
    "    epochs=50\n",
    "    )"
   ]
  },
  {
   "cell_type": "code",
   "execution_count": 9,
   "metadata": {},
   "outputs": [
    {
     "name": "stderr",
     "output_type": "stream",
     "text": [
      "100%|██████████| 137/137 [00:00<00:00, 267.75it/s]\n"
     ]
    }
   ],
   "source": [
    "targets, predictions = predict(naive_model, test_dataloader)"
   ]
  },
  {
   "cell_type": "code",
   "execution_count": 5,
   "metadata": {},
   "outputs": [],
   "source": [
    "def calculate_accuracy(predictions, targets, threshold=0.5):\n",
    "\n",
    "    binary_predictions = (predictions <= threshold).astype(int)\n",
    "    \n",
    "    correct_predictions = np.sum(binary_predictions == targets)\n",
    "    total_samples = len(targets)\n",
    "\n",
    "    accuracy = correct_predictions / total_samples\n",
    "    return accuracy"
   ]
  },
  {
   "cell_type": "code",
   "execution_count": 11,
   "metadata": {},
   "outputs": [
    {
     "name": "stdout",
     "output_type": "stream",
     "text": [
      "0.7688484634923431\n"
     ]
    }
   ],
   "source": [
    "print(calculate_accuracy(predictions, targets))"
   ]
  },
  {
   "cell_type": "markdown",
   "metadata": {},
   "source": [
    "# Multi-class"
   ]
  },
  {
   "cell_type": "code",
   "execution_count": 3,
   "metadata": {},
   "outputs": [],
   "source": [
    "class MultiClassifyDataset(Dataset):\n",
    "    def __init__(self, events, labels, normalizer):\n",
    "        # Normalize the data\n",
    "        if normalizer is not None:\n",
    "            events = normalizer(events)\n",
    "\n",
    "\n",
    "        self.events = torch.from_numpy(events).float()\n",
    "        self.labels = torch.from_numpy(labels).to(torch.int64)\n",
    "\n",
    "    \n",
    "    def __len__(self):\n",
    "        return len(self.events)\n",
    "    \n",
    "    def __getitem__(self, idx):\n",
    "        return self.events[idx], self.labels[idx]\n",
    "\n",
    "from sklearn.utils import shuffle\n",
    "\n",
    "def sample_equal_class(events, labels, size=None):\n",
    "    if size is None:\n",
    "        sizes = []\n",
    "        for label in np.unique(labels):\n",
    "            sizes.append(np.sum(labels == label))\n",
    "        size = np.min(sizes)\n",
    "    \n",
    "    indices = []\n",
    "    for label in np.unique(labels):\n",
    "        class_idx = np.where(labels == label)[0]\n",
    "        indice = np.random.choice(class_idx, size=size, replace=False)\n",
    "        indices.extend(indice)\n",
    "    assert len(indices) == len(np.unique(labels)) * size\n",
    "\n",
    "    events = events[indices]\n",
    "    labels = labels[indices]\n",
    "\n",
    "    events, labels = shuffle(events, labels, random_state=0)\n",
    "    return events, labels\n",
    "        \n"
   ]
  },
  {
   "cell_type": "code",
   "execution_count": 11,
   "metadata": {},
   "outputs": [
    {
     "name": "stdout",
     "output_type": "stream",
     "text": [
      "<class 'numpy.ndarray'>\n",
      "<class 'numpy.ndarray'>\n",
      "(165416, 32)\n",
      "(165416,)\n"
     ]
    }
   ],
   "source": [
    "test_ratio=0.2\n",
    "val_ratio = 0.2\n",
    "\n",
    "\n",
    "\n",
    "test_dimension = 32\n",
    "test_signal = \"SM\"\n",
    "normalizer = Normalizer(*[value for value in embedding_points[test_dimension].values()])\n",
    "\n",
    "bkg = np.array(embedding_points[test_dimension][test_signal])\n",
    "print(type(bkg))\n",
    "print(type(bkg_labels))\n",
    "selected_bkg, selected_labels = sample_equal_class(bkg, bkg_labels)\n",
    "print(selected_bkg.shape)\n",
    "print(selected_labels.shape)\n",
    "\n",
    "size = len(selected_bkg)\n",
    "test_size = int(size * test_ratio)\n",
    "val_size = int((size-test_size) * val_ratio)\n",
    "train_size = size - test_size - val_size\n",
    "\n",
    "train_bkg, train_labels = selected_bkg[:train_size], selected_labels[:train_size]\n",
    "val_bkg, val_labels = selected_bkg[train_size:train_size+val_size], selected_labels[train_size:train_size+val_size]\n",
    "test_bkg, test_labels = selected_bkg[train_size+val_size:], selected_labels[train_size+val_size:]\n",
    "\n",
    "train_dataset = MultiClassifyDataset(train_bkg, train_labels, normalizer)\n",
    "val_dataset = MultiClassifyDataset(val_bkg, val_labels, normalizer)\n",
    "test_dataset = MultiClassifyDataset(test_bkg, test_labels, normalizer)\n",
    "\n",
    "train_dataloader = DataLoader(train_dataset, batch_size=1000, shuffle=True, pin_memory=True, num_workers=10, prefetch_factor=4)\n",
    "val_dataloader = DataLoader(val_dataset, batch_size=1000, shuffle=False, pin_memory=True, num_workers=10, prefetch_factor=4)\n",
    "test_dataloader = DataLoader(test_dataset, batch_size=1000, shuffle=False)\n"
   ]
  },
  {
   "cell_type": "code",
   "execution_count": 12,
   "metadata": {},
   "outputs": [],
   "source": [
    "class MLPmulti(nn.Module):\n",
    "    def __init__(self, input_size, hidden_sizes, num_class):\n",
    "        super(MLPmulti, self).__init__()\n",
    "        def make_layer(in_size, out_size):\n",
    "            layer = nn.Sequential(\n",
    "                nn.Linear(in_size, out_size),\n",
    "                nn.LeakyReLU(),\n",
    "                # nn.Dropout(0.1)\n",
    "            )\n",
    "            nn.init.kaiming_normal_(layer[0].weight, nonlinearity='leaky_relu')\n",
    "            return layer\n",
    "        self.layers = nn.Sequential(\n",
    "            make_layer(input_size, hidden_sizes[0]),\n",
    "            *[make_layer(hidden_sizes[i], hidden_sizes[i+1]) for i in range(len(hidden_sizes)-1)],\n",
    "            nn.Linear(hidden_sizes[-1], num_class),\n",
    "        )\n",
    "    \n",
    "\n",
    "    def forward(self, x):\n",
    "        return self.layers(x)"
   ]
  },
  {
   "cell_type": "code",
   "execution_count": 72,
   "metadata": {},
   "outputs": [],
   "source": [
    "hidden_dim = [8, 16, 16, 16, 8]\n",
    "naive_model = MLPmulti(test_dimension, hidden_dim, len(np.unique(bkg_labels)))"
   ]
  },
  {
   "cell_type": "code",
   "execution_count": 5,
   "metadata": {},
   "outputs": [],
   "source": [
    "\n",
    "def accuracy(output, target, topk=(1,)):\n",
    "    \"\"\"Computes the accuracy over the k top predictions for the specified values of k\"\"\"\n",
    "    with torch.no_grad():\n",
    "        maxk = max(topk)\n",
    "        batch_size = target.size(0)\n",
    "\n",
    "        _, pred = output.topk(maxk, 1, True, True)\n",
    "        pred = pred.t()\n",
    "        correct = pred.eq(target.view(1, -1).expand_as(pred))\n",
    "        res = []\n",
    "        for k in topk:\n",
    "            correct_k = correct[:k].reshape(-1).float().sum(0, keepdim=True)\n",
    "            res.append(correct_k.mul_(100.0 / batch_size))\n",
    "        return res\n",
    "def accuracy(output, target, topk=(1,)):\n",
    "    \"\"\"Computes the accuracy over the k top predictions for the specified values of k\"\"\"\n",
    "    with torch.no_grad():\n",
    "        maxk = max(topk)\n",
    "        batch_size = target.size(0)\n",
    "\n",
    "        _, pred = output.topk(maxk, 1, True, True)\n",
    "        pred = pred.t()\n",
    "        correct = pred.eq(target.view(1, -1).expand_as(pred))\n",
    "        res = []\n",
    "        for k in topk:\n",
    "            correct_k = correct[:k].reshape(-1).float().sum(0, keepdim=True)\n",
    "            res.append(correct_k.mul_(100.0 / batch_size))\n",
    "\n",
    "        return res[0]  \n"
   ]
  },
  {
   "cell_type": "code",
   "execution_count": 74,
   "metadata": {},
   "outputs": [],
   "source": [
    "naive_model.to(device)\n",
    "optimizer = torch.optim.Adam(naive_model.parameters(), lr=1e-3, weight_decay=1e-5)\n",
    "loss_fn = nn.CrossEntropyLoss()\n",
    "metric_dict = {\"Accuracy\": accuracy}"
   ]
  },
  {
   "cell_type": "code",
   "execution_count": 6,
   "metadata": {},
   "outputs": [],
   "source": [
    "def printlog(info):\n",
    "    now_time = datetime.datetime.now().strftime('%Y-%m-%d %H:%M:%S')\n",
    "    print(\"\\n\" + \"==========\" * 8 + \"%s\" % now_time)\n",
    "    print(str(info) + \"\\n\")\n",
    "\n",
    "class StepRunner:\n",
    "    def __init__(self, net, loss_fn, \n",
    "                 stage=\"train\", metrics_dict=None,\n",
    "                 optimizer=None\n",
    "                 ):\n",
    "        self.model, self.loss_fn, self.metrics_dict, self.stage = net, loss_fn, metrics_dict, stage\n",
    "        self.optimizer = optimizer\n",
    "\n",
    "    def step(self, embedding_point, label):\n",
    "        # forward\n",
    "        embedding_point, label = embedding_point.to(device), label.to(device)\n",
    "        predict = self.model(embedding_point)\n",
    "        # loss\n",
    "        loss = self.loss_fn(predict, label)\n",
    "\n",
    "        # backward\n",
    "        if self.optimizer is not None and self.stage == \"train\":\n",
    "            loss.backward()\n",
    "            self.optimizer.step()\n",
    "            self.optimizer.zero_grad()\n",
    "\n",
    "        # metrics\n",
    "        step_metrics = {self.stage + \"_\" + name: (metric_fn(predict, label)).item()\n",
    "                        for name, metric_fn in self.metrics_dict.items()}\n",
    "        return loss.item(), step_metrics\n",
    "\n",
    "    def train_step(self, embedding_point, label):\n",
    "        self.model.train()\n",
    "        return self.step(embedding_point, label)\n",
    "\n",
    "    @torch.no_grad()\n",
    "    def eval_step(self, embedding_point, label):\n",
    "        self.model.eval()\n",
    "        return self.step(embedding_point, label)\n",
    "\n",
    "    def __call__(self, embedding_point, label):\n",
    "        if self.stage == \"train\":\n",
    "            return self.train_step(embedding_point, label)\n",
    "        else:\n",
    "            return self.eval_step(embedding_point, label)\n",
    "\n",
    "\n",
    "class EpochRunner:\n",
    "    def __init__(self, step_runner, verbose=True):\n",
    "        self.step_runner = step_runner\n",
    "        self.stage = step_runner.stage\n",
    "        self.verbose = verbose\n",
    "\n",
    "    def __call__(self, dataloader):\n",
    "        total_loss, step = 0, 0\n",
    "        if self.verbose:\n",
    "            loop = tqdm(enumerate(dataloader), total=len(dataloader), file=sys.stdout)\n",
    "        else:\n",
    "            loop = enumerate(dataloader)\n",
    "        epoch_log = {}\n",
    "        for batch_idx, (embedding_point, label) in loop:\n",
    "            loss, step_metrics = self.step_runner(embedding_point, label)\n",
    "            step_log = dict({self.stage + \"_loss\": loss}, **step_metrics)\n",
    "            total_loss += loss\n",
    "            step += 1\n",
    "            if batch_idx != len(dataloader) - 1:\n",
    "                if self.verbose:\n",
    "                    loop.set_postfix(**step_log)\n",
    "            else:\n",
    "                epoch_loss = total_loss / step\n",
    "                epoch_log = dict({self.stage + \"_loss\": epoch_loss}, **step_metrics) \n",
    "                if self.verbose:\n",
    "                    loop.set_postfix(**epoch_log)\n",
    "\n",
    "        return epoch_log\n",
    "\n",
    "\n",
    "# @torch.compile()\n",
    "def train_model(net, optimizer,\n",
    "                loss_fn, \n",
    "                metrics_dict,\n",
    "                train_dataloader, val_dataloader=None,\n",
    "                scheduler=None,\n",
    "                epochs=10, ckpt_path='checkpoint.pt',\n",
    "                patience=5, monitor=\"train_MAPE\", mode=\"min\", verbose=True):\n",
    "    history = {}\n",
    "\n",
    "    for epoch in range(1, epochs + 1):\n",
    "        if verbose:\n",
    "            printlog(\"Epoch {0} / {1}\".format(epoch, epochs))\n",
    "\n",
    "        # 1，train -------------------------------------------------  \n",
    "        train_step_runner = StepRunner(net=net, stage=\"train\",\n",
    "                                       loss_fn=loss_fn, metrics_dict=metrics_dict,\n",
    "                                       optimizer=optimizer)\n",
    "        train_epoch_runner = EpochRunner(train_step_runner, verbose=verbose)\n",
    "        train_metrics = train_epoch_runner(train_dataloader)\n",
    "\n",
    "        for name, metric in train_metrics.items():\n",
    "            history[name] = history.get(name, []) + [metric]\n",
    "\n",
    "        # 2，validate -------------------------------------------------\n",
    "        if val_dataloader:\n",
    "            val_step_runner = StepRunner(net=net, stage=\"val\",\n",
    "                                         loss_fn=loss_fn, metrics_dict=metrics_dict)\n",
    "            val_epoch_runner = EpochRunner(val_step_runner, verbose=verbose)\n",
    "            with torch.no_grad():\n",
    "                val_metrics = val_epoch_runner(val_dataloader)\n",
    "            val_metrics[\"epoch\"] = epoch\n",
    "            for name, metric in val_metrics.items():\n",
    "                history[name] = history.get(name, []) + [metric]\n",
    "\n",
    "            # 3，early-stopping -------------------------------------------------\n",
    "        arr_scores = history[monitor]\n",
    "        best_score_idx = np.argmax(arr_scores) if mode == \"max\" else np.argmin(arr_scores)\n",
    "        if best_score_idx == len(arr_scores) - 1:\n",
    "            torch.save(net.state_dict(), ckpt_path)\n",
    "            if verbose:\n",
    "                print(\"<<<<<< reach best {0} : {1} >>>>>>\".format(monitor,\n",
    "                                                                arr_scores[best_score_idx]))\n",
    "        if len(arr_scores) - best_score_idx > patience:\n",
    "            if verbose:\n",
    "                print(\"<<<<<< {} without improvement in {} epoch, early stopping >>>>>>\".format(\n",
    "                    monitor, patience))\n",
    "            break\n",
    "        if scheduler:\n",
    "            scheduler.step()\n",
    "    net.load_state_dict(torch.load(ckpt_path))\n",
    "    return pd.DataFrame(history)"
   ]
  },
  {
   "cell_type": "code",
   "execution_count": 76,
   "metadata": {},
   "outputs": [
    {
     "name": "stdout",
     "output_type": "stream",
     "text": [
      "\n",
      "================================================================================2024-11-08 19:10:25\n",
      "Epoch 1 / 50\n",
      "\n",
      "100%|██████████| 106/106 [00:00<00:00, 383.84it/s, train_Accuracy=56.1, train_loss=1.29]\n",
      "100%|██████████| 27/27 [00:00<00:00, 419.93it/s, val_Accuracy=57.9, val_loss=1.06]\n",
      "<<<<<< reach best val_Accuracy : 57.93991470336914 >>>>>>\n",
      "\n",
      "================================================================================2024-11-08 19:10:25\n",
      "Epoch 2 / 50\n",
      "\n",
      "100%|██████████| 106/106 [00:00<00:00, 408.19it/s, train_Accuracy=71.4, train_loss=0.901]\n",
      "100%|██████████| 27/27 [00:00<00:00, 404.68it/s, val_Accuracy=68.9, val_loss=0.795]\n",
      "<<<<<< reach best val_Accuracy : 68.88412475585938 >>>>>>\n",
      "\n",
      "================================================================================2024-11-08 19:10:26\n",
      "Epoch 3 / 50\n",
      "\n",
      "100%|██████████| 106/106 [00:00<00:00, 399.66it/s, train_Accuracy=73, train_loss=0.758] \n",
      "100%|██████████| 27/27 [00:00<00:00, 386.79it/s, val_Accuracy=71.2, val_loss=0.719]\n",
      "<<<<<< reach best val_Accuracy : 71.24463653564453 >>>>>>\n",
      "\n",
      "================================================================================2024-11-08 19:10:27\n",
      "Epoch 4 / 50\n",
      "\n",
      "100%|██████████| 106/106 [00:00<00:00, 385.02it/s, train_Accuracy=76.1, train_loss=0.712]\n",
      "100%|██████████| 27/27 [00:00<00:00, 386.85it/s, val_Accuracy=71.9, val_loss=0.691]\n",
      "<<<<<< reach best val_Accuracy : 71.88841247558594 >>>>>>\n",
      "\n",
      "================================================================================2024-11-08 19:10:28\n",
      "Epoch 5 / 50\n",
      "\n",
      "100%|██████████| 106/106 [00:00<00:00, 392.85it/s, train_Accuracy=73.6, train_loss=0.689]\n",
      "100%|██████████| 27/27 [00:00<00:00, 402.50it/s, val_Accuracy=72.5, val_loss=0.674]\n",
      "<<<<<< reach best val_Accuracy : 72.53218841552734 >>>>>>\n",
      "\n",
      "================================================================================2024-11-08 19:10:28\n",
      "Epoch 6 / 50\n",
      "\n",
      "100%|██████████| 106/106 [00:00<00:00, 388.91it/s, train_Accuracy=76.8, train_loss=0.672]\n",
      "100%|██████████| 27/27 [00:00<00:00, 426.29it/s, val_Accuracy=73.8, val_loss=0.656]\n",
      "<<<<<< reach best val_Accuracy : 73.81974029541016 >>>>>>\n",
      "\n",
      "================================================================================2024-11-08 19:10:29\n",
      "Epoch 7 / 50\n",
      "\n",
      "100%|██████████| 106/106 [00:00<00:00, 404.97it/s, train_Accuracy=73.9, train_loss=0.656]\n",
      "100%|██████████| 27/27 [00:00<00:00, 390.17it/s, val_Accuracy=74.9, val_loss=0.646]\n",
      "<<<<<< reach best val_Accuracy : 74.89270782470703 >>>>>>\n",
      "\n",
      "================================================================================2024-11-08 19:10:30\n",
      "Epoch 8 / 50\n",
      "\n",
      "100%|██████████| 106/106 [00:00<00:00, 377.30it/s, train_Accuracy=76.4, train_loss=0.639]\n",
      "100%|██████████| 27/27 [00:00<00:00, 432.81it/s, val_Accuracy=76.6, val_loss=0.635]\n",
      "<<<<<< reach best val_Accuracy : 76.60944366455078 >>>>>>\n",
      "\n",
      "================================================================================2024-11-08 19:10:30\n",
      "Epoch 9 / 50\n",
      "\n",
      "100%|██████████| 106/106 [00:00<00:00, 398.22it/s, train_Accuracy=77.6, train_loss=0.631]\n",
      "100%|██████████| 27/27 [00:00<00:00, 386.94it/s, val_Accuracy=74.9, val_loss=0.618]\n",
      "\n",
      "================================================================================2024-11-08 19:10:31\n",
      "Epoch 10 / 50\n",
      "\n",
      "100%|██████████| 106/106 [00:00<00:00, 402.45it/s, train_Accuracy=78.3, train_loss=0.623]\n",
      "100%|██████████| 27/27 [00:00<00:00, 389.30it/s, val_Accuracy=74.9, val_loss=0.613]\n",
      "\n",
      "================================================================================2024-11-08 19:10:32\n",
      "Epoch 11 / 50\n",
      "\n",
      "100%|██████████| 106/106 [00:00<00:00, 379.25it/s, train_Accuracy=75.8, train_loss=0.616]\n",
      "100%|██████████| 27/27 [00:00<00:00, 392.48it/s, val_Accuracy=74.7, val_loss=0.608]\n",
      "\n",
      "================================================================================2024-11-08 19:10:33\n",
      "Epoch 12 / 50\n",
      "\n",
      "100%|██████████| 106/106 [00:00<00:00, 384.01it/s, train_Accuracy=78.5, train_loss=0.613]\n",
      "100%|██████████| 27/27 [00:00<00:00, 385.05it/s, val_Accuracy=74.9, val_loss=0.607]\n",
      "\n",
      "================================================================================2024-11-08 19:10:33\n",
      "Epoch 13 / 50\n",
      "\n",
      "100%|██████████| 106/106 [00:00<00:00, 383.57it/s, train_Accuracy=75.3, train_loss=0.61]\n",
      "100%|██████████| 27/27 [00:00<00:00, 421.43it/s, val_Accuracy=74.9, val_loss=0.607]\n",
      "<<<<<< val_Accuracy without improvement in 5 epoch, early stopping >>>>>>\n"
     ]
    },
    {
     "data": {
      "text/html": [
       "<div>\n",
       "<style scoped>\n",
       "    .dataframe tbody tr th:only-of-type {\n",
       "        vertical-align: middle;\n",
       "    }\n",
       "\n",
       "    .dataframe tbody tr th {\n",
       "        vertical-align: top;\n",
       "    }\n",
       "\n",
       "    .dataframe thead th {\n",
       "        text-align: right;\n",
       "    }\n",
       "</style>\n",
       "<table border=\"1\" class=\"dataframe\">\n",
       "  <thead>\n",
       "    <tr style=\"text-align: right;\">\n",
       "      <th></th>\n",
       "      <th>train_loss</th>\n",
       "      <th>train_Accuracy</th>\n",
       "      <th>val_loss</th>\n",
       "      <th>val_Accuracy</th>\n",
       "      <th>epoch</th>\n",
       "    </tr>\n",
       "  </thead>\n",
       "  <tbody>\n",
       "    <tr>\n",
       "      <th>0</th>\n",
       "      <td>1.287211</td>\n",
       "      <td>56.055363</td>\n",
       "      <td>1.061401</td>\n",
       "      <td>57.939915</td>\n",
       "      <td>1</td>\n",
       "    </tr>\n",
       "    <tr>\n",
       "      <th>1</th>\n",
       "      <td>0.901054</td>\n",
       "      <td>71.395615</td>\n",
       "      <td>0.794843</td>\n",
       "      <td>68.884125</td>\n",
       "      <td>2</td>\n",
       "    </tr>\n",
       "    <tr>\n",
       "      <th>2</th>\n",
       "      <td>0.758288</td>\n",
       "      <td>73.010384</td>\n",
       "      <td>0.718565</td>\n",
       "      <td>71.244637</td>\n",
       "      <td>3</td>\n",
       "    </tr>\n",
       "    <tr>\n",
       "      <th>3</th>\n",
       "      <td>0.711508</td>\n",
       "      <td>76.124565</td>\n",
       "      <td>0.691238</td>\n",
       "      <td>71.888412</td>\n",
       "      <td>4</td>\n",
       "    </tr>\n",
       "    <tr>\n",
       "      <th>4</th>\n",
       "      <td>0.688877</td>\n",
       "      <td>73.587082</td>\n",
       "      <td>0.673785</td>\n",
       "      <td>72.532188</td>\n",
       "      <td>5</td>\n",
       "    </tr>\n",
       "    <tr>\n",
       "      <th>5</th>\n",
       "      <td>0.671925</td>\n",
       "      <td>76.816612</td>\n",
       "      <td>0.655552</td>\n",
       "      <td>73.819740</td>\n",
       "      <td>6</td>\n",
       "    </tr>\n",
       "    <tr>\n",
       "      <th>6</th>\n",
       "      <td>0.655599</td>\n",
       "      <td>73.933105</td>\n",
       "      <td>0.645946</td>\n",
       "      <td>74.892708</td>\n",
       "      <td>7</td>\n",
       "    </tr>\n",
       "    <tr>\n",
       "      <th>7</th>\n",
       "      <td>0.639495</td>\n",
       "      <td>76.355247</td>\n",
       "      <td>0.635120</td>\n",
       "      <td>76.609444</td>\n",
       "      <td>8</td>\n",
       "    </tr>\n",
       "    <tr>\n",
       "      <th>8</th>\n",
       "      <td>0.630574</td>\n",
       "      <td>77.623993</td>\n",
       "      <td>0.618004</td>\n",
       "      <td>74.892708</td>\n",
       "      <td>9</td>\n",
       "    </tr>\n",
       "    <tr>\n",
       "      <th>9</th>\n",
       "      <td>0.622836</td>\n",
       "      <td>78.316032</td>\n",
       "      <td>0.613065</td>\n",
       "      <td>74.892708</td>\n",
       "      <td>10</td>\n",
       "    </tr>\n",
       "    <tr>\n",
       "      <th>10</th>\n",
       "      <td>0.616048</td>\n",
       "      <td>75.778549</td>\n",
       "      <td>0.608347</td>\n",
       "      <td>74.678116</td>\n",
       "      <td>11</td>\n",
       "    </tr>\n",
       "    <tr>\n",
       "      <th>11</th>\n",
       "      <td>0.612637</td>\n",
       "      <td>78.546715</td>\n",
       "      <td>0.606858</td>\n",
       "      <td>74.892708</td>\n",
       "      <td>12</td>\n",
       "    </tr>\n",
       "    <tr>\n",
       "      <th>12</th>\n",
       "      <td>0.609983</td>\n",
       "      <td>75.317184</td>\n",
       "      <td>0.607310</td>\n",
       "      <td>74.892708</td>\n",
       "      <td>13</td>\n",
       "    </tr>\n",
       "  </tbody>\n",
       "</table>\n",
       "</div>"
      ],
      "text/plain": [
       "    train_loss  train_Accuracy  val_loss  val_Accuracy  epoch\n",
       "0     1.287211       56.055363  1.061401     57.939915      1\n",
       "1     0.901054       71.395615  0.794843     68.884125      2\n",
       "2     0.758288       73.010384  0.718565     71.244637      3\n",
       "3     0.711508       76.124565  0.691238     71.888412      4\n",
       "4     0.688877       73.587082  0.673785     72.532188      5\n",
       "5     0.671925       76.816612  0.655552     73.819740      6\n",
       "6     0.655599       73.933105  0.645946     74.892708      7\n",
       "7     0.639495       76.355247  0.635120     76.609444      8\n",
       "8     0.630574       77.623993  0.618004     74.892708      9\n",
       "9     0.622836       78.316032  0.613065     74.892708     10\n",
       "10    0.616048       75.778549  0.608347     74.678116     11\n",
       "11    0.612637       78.546715  0.606858     74.892708     12\n",
       "12    0.609983       75.317184  0.607310     74.892708     13"
      ]
     },
     "execution_count": 76,
     "metadata": {},
     "output_type": "execute_result"
    }
   ],
   "source": [
    "train_model(\n",
    "    naive_model, optimizer,\n",
    "    loss_fn, metrics_dict=metric_dict,\n",
    "    train_dataloader=train_dataloader, val_dataloader=val_dataloader,\n",
    "    monitor=\"val_Accuracy\", mode=\"max\",\n",
    "    epochs=50\n",
    "    )"
   ]
  },
  {
   "cell_type": "code",
   "execution_count": 13,
   "metadata": {},
   "outputs": [],
   "source": [
    "class Linear(nn.Module):\n",
    "    def __init__(self, input_size):\n",
    "        super(Linear, self).__init__()\n",
    "        self.layers = nn.Sequential(\n",
    "            nn.Linear(input_size, 1),\n",
    "            nn.Sigmoid()\n",
    "        )\n",
    "    \n",
    "    def forward(self, x):\n",
    "        return self.layers(x).reshape(-1)\n",
    "    \n",
    "class LinearMultiClass(nn.Module):\n",
    "    def __init__(self, input_size, num_classes):\n",
    "        super(LinearMultiClass, self).__init__()\n",
    "        self.layers = nn.Sequential(\n",
    "            nn.Linear(input_size, num_classes),\n",
    "        )\n",
    "    \n",
    "    def forward(self, x):\n",
    "        return self.layers(x)\n",
    "    \n",
    "class MLP(nn.Module):\n",
    "    def __init__(self, input_size, hidden_sizes):\n",
    "        super(MLP, self).__init__()\n",
    "        def make_layer(in_size, out_size):\n",
    "            layer = nn.Sequential(\n",
    "                nn.Linear(in_size, out_size),\n",
    "                nn.LeakyReLU(),\n",
    "                # nn.Dropout(0.1)\n",
    "            )\n",
    "            nn.init.kaiming_normal_(layer[0].weight, nonlinearity='leaky_relu')\n",
    "            return layer\n",
    "        self.layers = nn.Sequential(\n",
    "            make_layer(input_size, hidden_sizes[0]),\n",
    "            *[make_layer(hidden_sizes[i], hidden_sizes[i+1]) for i in range(len(hidden_sizes)-1)],\n",
    "            nn.Linear(hidden_sizes[-1], 1),\n",
    "            nn.Sigmoid()\n",
    "        )\n",
    "    \n",
    "\n",
    "    def forward(self, x):\n",
    "        return self.layers(x).reshape(-1)"
   ]
  },
  {
   "cell_type": "code",
   "execution_count": 17,
   "metadata": {},
   "outputs": [],
   "source": [
    "naive_model = LinearMultiClass(test_dimension, len(np.unique(bkg_labels)))\n",
    "naive_model.to(device)\n",
    "optimizer = torch.optim.Adam(naive_model.parameters(), lr=1e-3, weight_decay=1e-5)\n",
    "loss_fn = nn.CrossEntropyLoss()\n",
    "metric_dict = {\"Accuracy\": accuracy}\n"
   ]
  },
  {
   "cell_type": "code",
   "execution_count": 18,
   "metadata": {},
   "outputs": [
    {
     "name": "stdout",
     "output_type": "stream",
     "text": [
      "\n",
      "================================================================================2024-11-08 19:36:22\n",
      "Epoch 1 / 50\n",
      "\n",
      "100%|██████████| 106/106 [00:00<00:00, 334.26it/s, train_Accuracy=57.7, train_loss=1.33]\n",
      "100%|██████████| 27/27 [00:00<00:00, 447.02it/s, val_Accuracy=52.1, val_loss=1.25]\n",
      "<<<<<< reach best val_Accuracy : 52.14592361450195 >>>>>>\n",
      "\n",
      "================================================================================2024-11-08 19:36:23\n",
      "Epoch 2 / 50\n",
      "\n",
      "100%|██████████| 106/106 [00:00<00:00, 496.78it/s, train_Accuracy=61.9, train_loss=1.19]\n",
      "100%|██████████| 27/27 [00:00<00:00, 436.49it/s, val_Accuracy=61.2, val_loss=1.15]\n",
      "<<<<<< reach best val_Accuracy : 61.15879821777344 >>>>>>\n",
      "\n",
      "================================================================================2024-11-08 19:36:23\n",
      "Epoch 3 / 50\n",
      "\n",
      "100%|██████████| 106/106 [00:00<00:00, 488.97it/s, train_Accuracy=68.6, train_loss=1.11]\n",
      "100%|██████████| 27/27 [00:00<00:00, 428.89it/s, val_Accuracy=62.7, val_loss=1.08]\n",
      "<<<<<< reach best val_Accuracy : 62.660945892333984 >>>>>>\n",
      "\n",
      "================================================================================2024-11-08 19:36:24\n",
      "Epoch 4 / 50\n",
      "\n",
      "100%|██████████| 106/106 [00:00<00:00, 492.84it/s, train_Accuracy=69.3, train_loss=1.06]\n",
      "100%|██████████| 27/27 [00:00<00:00, 452.61it/s, val_Accuracy=64.8, val_loss=1.03]\n",
      "<<<<<< reach best val_Accuracy : 64.80686950683594 >>>>>>\n",
      "\n",
      "================================================================================2024-11-08 19:36:24\n",
      "Epoch 5 / 50\n",
      "\n",
      "100%|██████████| 106/106 [00:00<00:00, 504.65it/s, train_Accuracy=68.2, train_loss=1.01]\n",
      "100%|██████████| 27/27 [00:00<00:00, 389.08it/s, val_Accuracy=66.7, val_loss=0.993]\n",
      "<<<<<< reach best val_Accuracy : 66.73819732666016 >>>>>>\n",
      "\n",
      "================================================================================2024-11-08 19:36:25\n",
      "Epoch 6 / 50\n",
      "\n",
      "100%|██████████| 106/106 [00:00<00:00, 487.70it/s, train_Accuracy=67.2, train_loss=0.977]\n",
      "100%|██████████| 27/27 [00:00<00:00, 433.11it/s, val_Accuracy=67.6, val_loss=0.96]\n",
      "<<<<<< reach best val_Accuracy : 67.59656524658203 >>>>>>\n",
      "\n",
      "================================================================================2024-11-08 19:36:26\n",
      "Epoch 7 / 50\n",
      "\n",
      "100%|██████████| 106/106 [00:00<00:00, 499.56it/s, train_Accuracy=70.9, train_loss=0.947]\n",
      "100%|██████████| 27/27 [00:00<00:00, 446.44it/s, val_Accuracy=67.6, val_loss=0.933]\n",
      "\n",
      "================================================================================2024-11-08 19:36:26\n",
      "Epoch 8 / 50\n",
      "\n",
      "100%|██████████| 106/106 [00:00<00:00, 509.60it/s, train_Accuracy=72.9, train_loss=0.921]\n",
      "100%|██████████| 27/27 [00:00<00:00, 431.33it/s, val_Accuracy=67.4, val_loss=0.909]\n",
      "\n",
      "================================================================================2024-11-08 19:36:27\n",
      "Epoch 9 / 50\n",
      "\n",
      "100%|██████████| 106/106 [00:00<00:00, 484.48it/s, train_Accuracy=70.4, train_loss=0.899]\n",
      "100%|██████████| 27/27 [00:00<00:00, 434.17it/s, val_Accuracy=67.8, val_loss=0.888]\n",
      "<<<<<< reach best val_Accuracy : 67.8111572265625 >>>>>>\n",
      "\n",
      "================================================================================2024-11-08 19:36:27\n",
      "Epoch 10 / 50\n",
      "\n",
      "100%|██████████| 106/106 [00:00<00:00, 508.41it/s, train_Accuracy=69.4, train_loss=0.88]\n",
      "100%|██████████| 27/27 [00:00<00:00, 452.08it/s, val_Accuracy=68.5, val_loss=0.869]\n",
      "<<<<<< reach best val_Accuracy : 68.4549331665039 >>>>>>\n",
      "\n",
      "================================================================================2024-11-08 19:36:28\n",
      "Epoch 11 / 50\n",
      "\n",
      "100%|██████████| 106/106 [00:00<00:00, 511.04it/s, train_Accuracy=67.5, train_loss=0.862]\n",
      "100%|██████████| 27/27 [00:00<00:00, 407.68it/s, val_Accuracy=69.3, val_loss=0.853]\n",
      "<<<<<< reach best val_Accuracy : 69.31330871582031 >>>>>>\n",
      "\n",
      "================================================================================2024-11-08 19:36:29\n",
      "Epoch 12 / 50\n",
      "\n",
      "100%|██████████| 106/106 [00:00<00:00, 515.17it/s, train_Accuracy=70.7, train_loss=0.847]\n",
      "100%|██████████| 27/27 [00:00<00:00, 423.24it/s, val_Accuracy=68.9, val_loss=0.839]\n",
      "\n",
      "================================================================================2024-11-08 19:36:29\n",
      "Epoch 13 / 50\n",
      "\n",
      "100%|██████████| 106/106 [00:00<00:00, 492.27it/s, train_Accuracy=69.2, train_loss=0.833]\n",
      "100%|██████████| 27/27 [00:00<00:00, 367.27it/s, val_Accuracy=69.7, val_loss=0.826]\n",
      "<<<<<< reach best val_Accuracy : 69.74249267578125 >>>>>>\n",
      "\n",
      "================================================================================2024-11-08 19:36:30\n",
      "Epoch 14 / 50\n",
      "\n",
      "100%|██████████| 106/106 [00:00<00:00, 479.02it/s, train_Accuracy=72.9, train_loss=0.821]\n",
      "100%|██████████| 27/27 [00:00<00:00, 431.43it/s, val_Accuracy=70.4, val_loss=0.814]\n",
      "<<<<<< reach best val_Accuracy : 70.38626861572266 >>>>>>\n",
      "\n",
      "================================================================================2024-11-08 19:36:30\n",
      "Epoch 15 / 50\n",
      "\n",
      "100%|██████████| 106/106 [00:00<00:00, 489.81it/s, train_Accuracy=71.2, train_loss=0.81]\n",
      "100%|██████████| 27/27 [00:00<00:00, 393.55it/s, val_Accuracy=70.2, val_loss=0.803]\n",
      "\n",
      "================================================================================2024-11-08 19:36:31\n",
      "Epoch 16 / 50\n",
      "\n",
      "100%|██████████| 106/106 [00:00<00:00, 494.61it/s, train_Accuracy=72.8, train_loss=0.8] \n",
      "100%|██████████| 27/27 [00:00<00:00, 473.46it/s, val_Accuracy=69.7, val_loss=0.793]\n",
      "\n",
      "================================================================================2024-11-08 19:36:32\n",
      "Epoch 17 / 50\n",
      "\n",
      "100%|██████████| 106/106 [00:00<00:00, 506.11it/s, train_Accuracy=73.8, train_loss=0.791]\n",
      "100%|██████████| 27/27 [00:00<00:00, 403.22it/s, val_Accuracy=70.6, val_loss=0.784]\n",
      "<<<<<< reach best val_Accuracy : 70.60086059570312 >>>>>>\n",
      "\n",
      "================================================================================2024-11-08 19:36:32\n",
      "Epoch 18 / 50\n",
      "\n",
      "100%|██████████| 106/106 [00:00<00:00, 496.93it/s, train_Accuracy=74, train_loss=0.782] \n",
      "100%|██████████| 27/27 [00:00<00:00, 417.04it/s, val_Accuracy=70, val_loss=0.777]\n",
      "\n",
      "================================================================================2024-11-08 19:36:33\n",
      "Epoch 19 / 50\n",
      "\n",
      "100%|██████████| 106/106 [00:00<00:00, 490.70it/s, train_Accuracy=72, train_loss=0.775] \n",
      "100%|██████████| 27/27 [00:00<00:00, 447.46it/s, val_Accuracy=70.4, val_loss=0.769]\n",
      "\n",
      "================================================================================2024-11-08 19:36:33\n",
      "Epoch 20 / 50\n",
      "\n",
      "100%|██████████| 106/106 [00:00<00:00, 487.16it/s, train_Accuracy=72.7, train_loss=0.768]\n",
      "100%|██████████| 27/27 [00:00<00:00, 404.89it/s, val_Accuracy=70.6, val_loss=0.763]\n",
      "\n",
      "================================================================================2024-11-08 19:36:34\n",
      "Epoch 21 / 50\n",
      "\n",
      "100%|██████████| 106/106 [00:00<00:00, 500.14it/s, train_Accuracy=74.6, train_loss=0.762]\n",
      "100%|██████████| 27/27 [00:00<00:00, 439.19it/s, val_Accuracy=71.2, val_loss=0.756]\n",
      "<<<<<< reach best val_Accuracy : 71.24463653564453 >>>>>>\n",
      "\n",
      "================================================================================2024-11-08 19:36:35\n",
      "Epoch 22 / 50\n",
      "\n",
      "100%|██████████| 106/106 [00:00<00:00, 507.74it/s, train_Accuracy=74.9, train_loss=0.756]\n",
      "100%|██████████| 27/27 [00:00<00:00, 447.01it/s, val_Accuracy=71, val_loss=0.751]\n",
      "\n",
      "================================================================================2024-11-08 19:36:35\n",
      "Epoch 23 / 50\n",
      "\n",
      "100%|██████████| 106/106 [00:00<00:00, 505.59it/s, train_Accuracy=73.6, train_loss=0.75]\n",
      "100%|██████████| 27/27 [00:00<00:00, 455.82it/s, val_Accuracy=71.2, val_loss=0.745]\n",
      "\n",
      "================================================================================2024-11-08 19:36:36\n",
      "Epoch 24 / 50\n",
      "\n",
      "100%|██████████| 106/106 [00:00<00:00, 494.59it/s, train_Accuracy=70.2, train_loss=0.745]\n",
      "100%|██████████| 27/27 [00:00<00:00, 386.84it/s, val_Accuracy=70.6, val_loss=0.741]\n",
      "\n",
      "================================================================================2024-11-08 19:36:36\n",
      "Epoch 25 / 50\n",
      "\n",
      "100%|██████████| 106/106 [00:00<00:00, 508.88it/s, train_Accuracy=73.7, train_loss=0.741]\n",
      "100%|██████████| 27/27 [00:00<00:00, 436.50it/s, val_Accuracy=70.6, val_loss=0.736]\n",
      "\n",
      "================================================================================2024-11-08 19:36:37\n",
      "Epoch 26 / 50\n",
      "\n",
      "100%|██████████| 106/106 [00:00<00:00, 520.59it/s, train_Accuracy=74.9, train_loss=0.736]\n",
      "100%|██████████| 27/27 [00:00<00:00, 422.52it/s, val_Accuracy=70.6, val_loss=0.732]\n",
      "<<<<<< val_Accuracy without improvement in 5 epoch, early stopping >>>>>>\n"
     ]
    },
    {
     "data": {
      "text/html": [
       "<div>\n",
       "<style scoped>\n",
       "    .dataframe tbody tr th:only-of-type {\n",
       "        vertical-align: middle;\n",
       "    }\n",
       "\n",
       "    .dataframe tbody tr th {\n",
       "        vertical-align: top;\n",
       "    }\n",
       "\n",
       "    .dataframe thead th {\n",
       "        text-align: right;\n",
       "    }\n",
       "</style>\n",
       "<table border=\"1\" class=\"dataframe\">\n",
       "  <thead>\n",
       "    <tr style=\"text-align: right;\">\n",
       "      <th></th>\n",
       "      <th>train_loss</th>\n",
       "      <th>train_Accuracy</th>\n",
       "      <th>val_loss</th>\n",
       "      <th>val_Accuracy</th>\n",
       "      <th>epoch</th>\n",
       "    </tr>\n",
       "  </thead>\n",
       "  <tbody>\n",
       "    <tr>\n",
       "      <th>0</th>\n",
       "      <td>1.334899</td>\n",
       "      <td>57.670128</td>\n",
       "      <td>1.249895</td>\n",
       "      <td>52.145924</td>\n",
       "      <td>1</td>\n",
       "    </tr>\n",
       "    <tr>\n",
       "      <th>1</th>\n",
       "      <td>1.194364</td>\n",
       "      <td>61.937717</td>\n",
       "      <td>1.147568</td>\n",
       "      <td>61.158798</td>\n",
       "      <td>2</td>\n",
       "    </tr>\n",
       "    <tr>\n",
       "      <th>2</th>\n",
       "      <td>1.112977</td>\n",
       "      <td>68.627449</td>\n",
       "      <td>1.081740</td>\n",
       "      <td>62.660946</td>\n",
       "      <td>3</td>\n",
       "    </tr>\n",
       "    <tr>\n",
       "      <th>3</th>\n",
       "      <td>1.056258</td>\n",
       "      <td>69.319496</td>\n",
       "      <td>1.032587</td>\n",
       "      <td>64.806870</td>\n",
       "      <td>4</td>\n",
       "    </tr>\n",
       "    <tr>\n",
       "      <th>4</th>\n",
       "      <td>1.012495</td>\n",
       "      <td>68.166092</td>\n",
       "      <td>0.992903</td>\n",
       "      <td>66.738197</td>\n",
       "      <td>5</td>\n",
       "    </tr>\n",
       "    <tr>\n",
       "      <th>5</th>\n",
       "      <td>0.976799</td>\n",
       "      <td>67.243370</td>\n",
       "      <td>0.960107</td>\n",
       "      <td>67.596565</td>\n",
       "      <td>6</td>\n",
       "    </tr>\n",
       "    <tr>\n",
       "      <th>6</th>\n",
       "      <td>0.946857</td>\n",
       "      <td>70.934258</td>\n",
       "      <td>0.932633</td>\n",
       "      <td>67.596565</td>\n",
       "      <td>7</td>\n",
       "    </tr>\n",
       "    <tr>\n",
       "      <th>7</th>\n",
       "      <td>0.921225</td>\n",
       "      <td>72.895042</td>\n",
       "      <td>0.908884</td>\n",
       "      <td>67.381973</td>\n",
       "      <td>8</td>\n",
       "    </tr>\n",
       "    <tr>\n",
       "      <th>8</th>\n",
       "      <td>0.899047</td>\n",
       "      <td>70.357559</td>\n",
       "      <td>0.888007</td>\n",
       "      <td>67.811157</td>\n",
       "      <td>9</td>\n",
       "    </tr>\n",
       "    <tr>\n",
       "      <th>9</th>\n",
       "      <td>0.879621</td>\n",
       "      <td>69.434837</td>\n",
       "      <td>0.869177</td>\n",
       "      <td>68.454933</td>\n",
       "      <td>10</td>\n",
       "    </tr>\n",
       "    <tr>\n",
       "      <th>10</th>\n",
       "      <td>0.862432</td>\n",
       "      <td>67.474052</td>\n",
       "      <td>0.852894</td>\n",
       "      <td>69.313309</td>\n",
       "      <td>11</td>\n",
       "    </tr>\n",
       "    <tr>\n",
       "      <th>11</th>\n",
       "      <td>0.847052</td>\n",
       "      <td>70.703575</td>\n",
       "      <td>0.838712</td>\n",
       "      <td>68.884125</td>\n",
       "      <td>12</td>\n",
       "    </tr>\n",
       "    <tr>\n",
       "      <th>12</th>\n",
       "      <td>0.833426</td>\n",
       "      <td>69.204155</td>\n",
       "      <td>0.825609</td>\n",
       "      <td>69.742493</td>\n",
       "      <td>13</td>\n",
       "    </tr>\n",
       "    <tr>\n",
       "      <th>13</th>\n",
       "      <td>0.820994</td>\n",
       "      <td>72.895042</td>\n",
       "      <td>0.813580</td>\n",
       "      <td>70.386269</td>\n",
       "      <td>14</td>\n",
       "    </tr>\n",
       "    <tr>\n",
       "      <th>14</th>\n",
       "      <td>0.809986</td>\n",
       "      <td>71.164940</td>\n",
       "      <td>0.802991</td>\n",
       "      <td>70.171677</td>\n",
       "      <td>15</td>\n",
       "    </tr>\n",
       "    <tr>\n",
       "      <th>15</th>\n",
       "      <td>0.799832</td>\n",
       "      <td>72.779701</td>\n",
       "      <td>0.793346</td>\n",
       "      <td>69.742493</td>\n",
       "      <td>16</td>\n",
       "    </tr>\n",
       "    <tr>\n",
       "      <th>16</th>\n",
       "      <td>0.790747</td>\n",
       "      <td>73.817764</td>\n",
       "      <td>0.784398</td>\n",
       "      <td>70.600861</td>\n",
       "      <td>17</td>\n",
       "    </tr>\n",
       "    <tr>\n",
       "      <th>17</th>\n",
       "      <td>0.782488</td>\n",
       "      <td>74.048447</td>\n",
       "      <td>0.776592</td>\n",
       "      <td>69.957085</td>\n",
       "      <td>18</td>\n",
       "    </tr>\n",
       "    <tr>\n",
       "      <th>18</th>\n",
       "      <td>0.774890</td>\n",
       "      <td>71.972321</td>\n",
       "      <td>0.769187</td>\n",
       "      <td>70.386269</td>\n",
       "      <td>19</td>\n",
       "    </tr>\n",
       "    <tr>\n",
       "      <th>19</th>\n",
       "      <td>0.767943</td>\n",
       "      <td>72.664360</td>\n",
       "      <td>0.762840</td>\n",
       "      <td>70.600861</td>\n",
       "      <td>20</td>\n",
       "    </tr>\n",
       "    <tr>\n",
       "      <th>20</th>\n",
       "      <td>0.761588</td>\n",
       "      <td>74.625145</td>\n",
       "      <td>0.756266</td>\n",
       "      <td>71.244637</td>\n",
       "      <td>21</td>\n",
       "    </tr>\n",
       "    <tr>\n",
       "      <th>21</th>\n",
       "      <td>0.755724</td>\n",
       "      <td>74.855827</td>\n",
       "      <td>0.750650</td>\n",
       "      <td>71.030045</td>\n",
       "      <td>22</td>\n",
       "    </tr>\n",
       "    <tr>\n",
       "      <th>22</th>\n",
       "      <td>0.750351</td>\n",
       "      <td>73.587082</td>\n",
       "      <td>0.745415</td>\n",
       "      <td>71.244637</td>\n",
       "      <td>23</td>\n",
       "    </tr>\n",
       "    <tr>\n",
       "      <th>23</th>\n",
       "      <td>0.745449</td>\n",
       "      <td>70.242218</td>\n",
       "      <td>0.740872</td>\n",
       "      <td>70.600861</td>\n",
       "      <td>24</td>\n",
       "    </tr>\n",
       "    <tr>\n",
       "      <th>24</th>\n",
       "      <td>0.740792</td>\n",
       "      <td>73.702423</td>\n",
       "      <td>0.736281</td>\n",
       "      <td>70.600861</td>\n",
       "      <td>25</td>\n",
       "    </tr>\n",
       "    <tr>\n",
       "      <th>25</th>\n",
       "      <td>0.736466</td>\n",
       "      <td>74.855827</td>\n",
       "      <td>0.732006</td>\n",
       "      <td>70.600861</td>\n",
       "      <td>26</td>\n",
       "    </tr>\n",
       "  </tbody>\n",
       "</table>\n",
       "</div>"
      ],
      "text/plain": [
       "    train_loss  train_Accuracy  val_loss  val_Accuracy  epoch\n",
       "0     1.334899       57.670128  1.249895     52.145924      1\n",
       "1     1.194364       61.937717  1.147568     61.158798      2\n",
       "2     1.112977       68.627449  1.081740     62.660946      3\n",
       "3     1.056258       69.319496  1.032587     64.806870      4\n",
       "4     1.012495       68.166092  0.992903     66.738197      5\n",
       "5     0.976799       67.243370  0.960107     67.596565      6\n",
       "6     0.946857       70.934258  0.932633     67.596565      7\n",
       "7     0.921225       72.895042  0.908884     67.381973      8\n",
       "8     0.899047       70.357559  0.888007     67.811157      9\n",
       "9     0.879621       69.434837  0.869177     68.454933     10\n",
       "10    0.862432       67.474052  0.852894     69.313309     11\n",
       "11    0.847052       70.703575  0.838712     68.884125     12\n",
       "12    0.833426       69.204155  0.825609     69.742493     13\n",
       "13    0.820994       72.895042  0.813580     70.386269     14\n",
       "14    0.809986       71.164940  0.802991     70.171677     15\n",
       "15    0.799832       72.779701  0.793346     69.742493     16\n",
       "16    0.790747       73.817764  0.784398     70.600861     17\n",
       "17    0.782488       74.048447  0.776592     69.957085     18\n",
       "18    0.774890       71.972321  0.769187     70.386269     19\n",
       "19    0.767943       72.664360  0.762840     70.600861     20\n",
       "20    0.761588       74.625145  0.756266     71.244637     21\n",
       "21    0.755724       74.855827  0.750650     71.030045     22\n",
       "22    0.750351       73.587082  0.745415     71.244637     23\n",
       "23    0.745449       70.242218  0.740872     70.600861     24\n",
       "24    0.740792       73.702423  0.736281     70.600861     25\n",
       "25    0.736466       74.855827  0.732006     70.600861     26"
      ]
     },
     "execution_count": 18,
     "metadata": {},
     "output_type": "execute_result"
    }
   ],
   "source": [
    "train_model(\n",
    "    naive_model, optimizer,\n",
    "    loss_fn, metrics_dict=metric_dict,\n",
    "    train_dataloader=train_dataloader, val_dataloader=val_dataloader,\n",
    "    monitor=\"val_Accuracy\", mode=\"max\",\n",
    "    epochs=50\n",
    "    )"
   ]
  },
  {
   "cell_type": "code",
   "execution_count": 19,
   "metadata": {},
   "outputs": [],
   "source": [
    "@torch.no_grad()\n",
    "def predict_multi(model, dataloader, num_class):\n",
    "    model.eval()\n",
    "    batch_size = dataloader.batch_size\n",
    "    targets = np.zeros(len(dataloader.dataset))\n",
    "    predictions = np.zeros((len(dataloader.dataset), num_class))\n",
    "    for i, (features, labels) in enumerate(tqdm(dataloader)):\n",
    "        features = features.to(device)\n",
    "        outputs = model(features)\n",
    "        targets[i * batch_size: (i + 1) * batch_size] = labels.numpy()\n",
    "        predictions[i * batch_size: (i + 1) * batch_size] = outputs.cpu().numpy()\n",
    "    return targets, predictions"
   ]
  },
  {
   "cell_type": "code",
   "execution_count": 20,
   "metadata": {},
   "outputs": [
    {
     "name": "stderr",
     "output_type": "stream",
     "text": [
      "100%|██████████| 34/34 [00:00<00:00, 441.03it/s]"
     ]
    },
    {
     "name": "stdout",
     "output_type": "stream",
     "text": [
      "<class 'numpy.ndarray'>\n",
      "<class 'numpy.ndarray'>\n",
      "(33083,)\n",
      "(33083, 4)\n"
     ]
    },
    {
     "name": "stderr",
     "output_type": "stream",
     "text": [
      "\n"
     ]
    }
   ],
   "source": [
    "targets, predictions = predict_multi(naive_model, test_dataloader, 4)\n",
    "print(type(predictions))\n",
    "print(type(targets))\n",
    "print(targets.shape)\n",
    "print(predictions.shape)"
   ]
  },
  {
   "cell_type": "code",
   "execution_count": 21,
   "metadata": {},
   "outputs": [],
   "source": [
    "def top_k_accuracy(targets, predictions, k=1):\n",
    "    \"\"\"\n",
    "    Computes the top-k accuracy for given targets and predictions.\n",
    "\n",
    "    Args:\n",
    "        targets (np.ndarray): True labels, shape (N,).\n",
    "        predictions (np.ndarray): Predicted probabilities or scores, shape (N, C),\n",
    "                                  where C is the number of classes.\n",
    "        k (int): The \"k\" in top-k accuracy.\n",
    "\n",
    "    Returns:\n",
    "        float: The top-k accuracy as a percentage.\n",
    "    \"\"\"\n",
    "    # 获取每个预测样本中，概率值最高的前k个类的索引\n",
    "    top_k_preds = np.argsort(predictions, axis=1)[:, -k:]  # 取出每个样本的top-k预测类别\n",
    "    \n",
    "    # 判断每个目标值是否在对应样本的top-k预测类别中\n",
    "    matches = np.any(top_k_preds == targets[:, None], axis=1)  # 在top-k内的为True，否则为False\n",
    "    \n",
    "\n",
    "    top_k_accuracy = np.mean(matches) * 100  # 转换为百分比\n",
    "\n",
    "    return top_k_accuracy"
   ]
  },
  {
   "cell_type": "code",
   "execution_count": 22,
   "metadata": {},
   "outputs": [
    {
     "name": "stdout",
     "output_type": "stream",
     "text": [
      "73.18864673699483\n"
     ]
    }
   ],
   "source": [
    "print(top_k_accuracy(targets, predictions))"
   ]
  },
  {
   "cell_type": "code",
   "execution_count": 38,
   "metadata": {},
   "outputs": [
    {
     "name": "stderr",
     "output_type": "stream",
     "text": [
      "100%|██████████| 34/34 [00:00<00:00, 393.91it/s]\n"
     ]
    },
    {
     "name": "stdout",
     "output_type": "stream",
     "text": [
      "Dim :  2 Accuracy :  72.16092857358764\n"
     ]
    },
    {
     "name": "stderr",
     "output_type": "stream",
     "text": [
      "100%|██████████| 34/34 [00:00<00:00, 388.24it/s]\n"
     ]
    },
    {
     "name": "stdout",
     "output_type": "stream",
     "text": [
      "Dim :  4 Accuracy :  76.21134721760421\n"
     ]
    },
    {
     "name": "stderr",
     "output_type": "stream",
     "text": [
      "100%|██████████| 34/34 [00:00<00:00, 401.51it/s]\n"
     ]
    },
    {
     "name": "stdout",
     "output_type": "stream",
     "text": [
      "Dim :  8 Accuracy :  74.92972221382584\n"
     ]
    },
    {
     "name": "stderr",
     "output_type": "stream",
     "text": [
      "100%|██████████| 34/34 [00:00<00:00, 386.76it/s]\n"
     ]
    },
    {
     "name": "stdout",
     "output_type": "stream",
     "text": [
      "Dim :  16 Accuracy :  76.6284798839283\n"
     ]
    },
    {
     "name": "stderr",
     "output_type": "stream",
     "text": [
      "100%|██████████| 34/34 [00:00<00:00, 170.07it/s]"
     ]
    },
    {
     "name": "stdout",
     "output_type": "stream",
     "text": [
      "Dim :  32 Accuracy :  76.32923253634797\n"
     ]
    },
    {
     "name": "stderr",
     "output_type": "stream",
     "text": [
      "\n"
     ]
    }
   ],
   "source": [
    "MLP_accuracy_array = np.zeros((len(output_dim)), dtype=float)\n",
    "for i, test_dimension in enumerate(output_dim):\n",
    "    test_signal = \"SM\"\n",
    "    normalizer = Normalizer(*[value for value in embedding_points[test_dimension].values()])\n",
    "\n",
    "    bkg = np.array(embedding_points[test_dimension][test_signal])\n",
    "    selected_bkg, selected_labels = sample_equal_class(bkg, bkg_labels)\n",
    "\n",
    "\n",
    "    size = len(selected_bkg)\n",
    "    test_size = int(size * test_ratio)\n",
    "    val_size = int((size-test_size) * val_ratio)\n",
    "    train_size = size - test_size - val_size\n",
    "\n",
    "    train_bkg, train_labels = selected_bkg[:train_size], selected_labels[:train_size]\n",
    "    val_bkg, val_labels = selected_bkg[train_size:train_size+val_size], selected_labels[train_size:train_size+val_size]\n",
    "    test_bkg, test_labels = selected_bkg[train_size+val_size:], selected_labels[train_size+val_size:]\n",
    "\n",
    "    train_dataset = MultiClassifyDataset(train_bkg, train_labels, normalizer)\n",
    "    val_dataset = MultiClassifyDataset(val_bkg, val_labels, normalizer)\n",
    "    test_dataset = MultiClassifyDataset(test_bkg, test_labels, normalizer)\n",
    "\n",
    "    train_dataloader = DataLoader(train_dataset, batch_size=1000, shuffle=True, pin_memory=True, num_workers=10, prefetch_factor=4)\n",
    "    val_dataloader = DataLoader(val_dataset, batch_size=1000, shuffle=False, pin_memory=True, num_workers=10, prefetch_factor=4)\n",
    "    test_dataloader = DataLoader(test_dataset, batch_size=1000, shuffle=False)\n",
    "\n",
    "    hidden_dim = [8, 16, 16, 16, 8]\n",
    "    naive_model = MLPmulti(test_dimension, hidden_dim, len(np.unique(bkg_labels)))\n",
    "    # naive_model = LinearMultiClass(test_dimension, len(np.unique(bkg_labels)))\n",
    "    \n",
    "    naive_model.to(device)\n",
    "    optimizer = torch.optim.Adam(naive_model.parameters(), lr=1e-3, weight_decay=1e-5)\n",
    "    loss_fn = nn.CrossEntropyLoss()\n",
    "    metric_dict = {\"Accuracy\": accuracy}\n",
    "\n",
    "    train_model(\n",
    "    naive_model, optimizer,\n",
    "    loss_fn, metrics_dict=metric_dict,\n",
    "    train_dataloader=train_dataloader, val_dataloader=val_dataloader,\n",
    "    monitor=\"val_Accuracy\", mode=\"max\",\n",
    "    epochs=50,\n",
    "    verbose=False\n",
    "    )\n",
    "    targets, predictions = predict_multi(naive_model, test_dataloader, 4)\n",
    "    acc = top_k_accuracy(targets, predictions)\n",
    "    print(\"Dim : \", test_dimension, \"Accuracy : \", acc)\n",
    "    MLP_accuracy_array[i] = acc\n"
   ]
  },
  {
   "cell_type": "markdown",
   "metadata": {},
   "source": [
    "# K-fold"
   ]
  },
  {
   "cell_type": "code",
   "execution_count": null,
   "metadata": {},
   "outputs": [
    {
     "name": "stderr",
     "output_type": "stream",
     "text": [
      "100%|██████████| 34/34 [00:00<00:00, 397.58it/s]\n",
      "100%|██████████| 34/34 [00:00<00:00, 164.07it/s]\n",
      "100%|██████████| 34/34 [00:00<00:00, 380.68it/s]\n",
      "100%|██████████| 34/34 [00:00<00:00, 382.42it/s]\n",
      "100%|██████████| 34/34 [00:00<00:00, 169.31it/s]\n"
     ]
    },
    {
     "name": "stdout",
     "output_type": "stream",
     "text": [
      "Dim : 2, Mean Accuracy : 71.18416180744084, Variance : 7.871570034088171\n"
     ]
    },
    {
     "name": "stderr",
     "output_type": "stream",
     "text": [
      "100%|██████████| 34/34 [00:00<00:00, 388.78it/s]\n",
      "100%|██████████| 34/34 [00:00<00:00, 388.55it/s]\n",
      "100%|██████████| 34/34 [00:00<00:00, 410.83it/s]\n",
      "100%|██████████| 34/34 [00:00<00:00, 166.84it/s]\n",
      "100%|██████████| 34/34 [00:00<00:00, 401.66it/s]\n"
     ]
    },
    {
     "name": "stdout",
     "output_type": "stream",
     "text": [
      "Dim : 4, Mean Accuracy : 75.37059455429389, Variance : 1.3111098412469697\n"
     ]
    },
    {
     "name": "stderr",
     "output_type": "stream",
     "text": [
      "100%|██████████| 34/34 [00:00<00:00, 391.88it/s]\n",
      "100%|██████████| 34/34 [00:00<00:00, 170.01it/s]\n",
      "100%|██████████| 34/34 [00:00<00:00, 383.46it/s]\n",
      "100%|██████████| 34/34 [00:00<00:00, 402.92it/s]\n",
      "100%|██████████| 34/34 [00:00<00:00, 391.43it/s]\n"
     ]
    },
    {
     "name": "stdout",
     "output_type": "stream",
     "text": [
      "Dim : 8, Mean Accuracy : 75.54287324210334, Variance : 0.10937313410065483\n"
     ]
    },
    {
     "name": "stderr",
     "output_type": "stream",
     "text": [
      "100%|██████████| 34/34 [00:00<00:00, 176.04it/s]\n",
      "100%|██████████| 34/34 [00:00<00:00, 404.72it/s]\n",
      "100%|██████████| 34/34 [00:00<00:00, 400.89it/s]\n",
      "100%|██████████| 34/34 [00:00<00:00, 167.27it/s]\n",
      "100%|██████████| 34/34 [00:00<00:00, 388.21it/s]\n"
     ]
    },
    {
     "name": "stdout",
     "output_type": "stream",
     "text": [
      "Dim : 16, Mean Accuracy : 76.30821168462276, Variance : 0.36047513199270037\n"
     ]
    },
    {
     "name": "stderr",
     "output_type": "stream",
     "text": [
      "100%|██████████| 34/34 [00:00<00:00, 380.11it/s]\n",
      "100%|██████████| 34/34 [00:00<00:00, 410.28it/s]\n",
      "100%|██████████| 34/34 [00:00<00:00, 401.94it/s]\n",
      "100%|██████████| 34/34 [00:00<00:00, 386.41it/s]\n",
      "100%|██████████| 34/34 [00:00<00:00, 167.66it/s]"
     ]
    },
    {
     "name": "stdout",
     "output_type": "stream",
     "text": [
      "Dim : 32, Mean Accuracy : 77.0953307288407, Variance : 0.6347919483050101\n"
     ]
    },
    {
     "name": "stderr",
     "output_type": "stream",
     "text": [
      "\n"
     ]
    }
   ],
   "source": [
    "from sklearn.model_selection import KFold\n",
    "import numpy as np\n",
    "\n",
    "# Set number of folds\n",
    "k_folds = 5\n",
    "val_ratio = 0.2\n",
    "MLP_accuracy_array = np.zeros((len(output_dim)), dtype=float)\n",
    "MLP_accuracy_variance_array = np.zeros((len(output_dim)), dtype=float)\n",
    "\n",
    "for i, test_dimension in enumerate(output_dim):\n",
    "    test_signal = \"SM\"\n",
    "    normalizer = Normalizer(*[value for value in embedding_points[test_dimension].values()])\n",
    "    bkg = np.array(embedding_points[test_dimension][test_signal])\n",
    "    selected_bkg, selected_labels = sample_equal_class(bkg, bkg_labels)\n",
    "\n",
    "    kfold = KFold(n_splits=k_folds, shuffle=True, random_state=42)\n",
    "    fold_accuracies = []\n",
    "\n",
    "    for train_index, test_index in kfold.split(selected_bkg):\n",
    "        train_bkg, test_bkg = selected_bkg[train_index], selected_bkg[test_index]\n",
    "        train_labels, test_labels = selected_labels[train_index], selected_labels[test_index]\n",
    "\n",
    "        val_size = int(len(train_bkg) * val_ratio)\n",
    "        val_bkg, val_labels = train_bkg[:val_size], train_labels[:val_size]\n",
    "        train_bkg, train_labels = train_bkg[val_size:], train_labels[val_size:]\n",
    "\n",
    "        # Create datasets and dataloaders\n",
    "        train_dataset = MultiClassifyDataset(train_bkg, train_labels, normalizer)\n",
    "        val_dataset = MultiClassifyDataset(val_bkg, val_labels, normalizer)\n",
    "        test_dataset = MultiClassifyDataset(test_bkg, test_labels, normalizer)\n",
    "\n",
    "        train_dataloader = DataLoader(train_dataset, batch_size=1000, shuffle=True, pin_memory=True, num_workers=10, prefetch_factor=4)\n",
    "        val_dataloader = DataLoader(val_dataset, batch_size=1000, shuffle=False, pin_memory=True, num_workers=10, prefetch_factor=4)\n",
    "        test_dataloader = DataLoader(test_dataset, batch_size=1000, shuffle=False)\n",
    "\n",
    "        # Initialize model, optimizer, and loss function\n",
    "        hidden_dim = [8, 16, 16, 16, 8]\n",
    "        naive_model = MLPmulti(test_dimension, hidden_dim, len(np.unique(bkg_labels)))\n",
    "        naive_model.to(device)\n",
    "        optimizer = torch.optim.Adam(naive_model.parameters(), lr=1e-3, weight_decay=1e-5)\n",
    "        loss_fn = nn.CrossEntropyLoss()\n",
    "        metric_dict = {\"Accuracy\": accuracy}\n",
    "\n",
    "        # Train the model\n",
    "        train_model(\n",
    "            naive_model, optimizer,\n",
    "            loss_fn, metrics_dict=metric_dict,\n",
    "            train_dataloader=train_dataloader, val_dataloader=val_dataloader,\n",
    "            monitor=\"val_Accuracy\", mode=\"max\",\n",
    "            epochs=50,\n",
    "            verbose=False\n",
    "        )\n",
    "\n",
    "        # Evaluate on the test set\n",
    "        targets, predictions = predict_multi(naive_model, test_dataloader, 4)\n",
    "        acc = top_k_accuracy(targets, predictions)\n",
    "        fold_accuracies.append(acc)\n",
    "\n",
    "    # Compute mean and variance for this dimension\n",
    "    MLP_accuracy_array[i] = np.mean(fold_accuracies)\n",
    "    MLP_accuracy_variance_array[i] = np.var(fold_accuracies)\n",
    "    print(f\"Dim : {test_dimension}, Mean Accuracy : {MLP_accuracy_array[i]}, Variance : {MLP_accuracy_variance_array[i]}\")\n"
   ]
  },
  {
   "cell_type": "code",
   "execution_count": 44,
   "metadata": {},
   "outputs": [
    {
     "name": "stderr",
     "output_type": "stream",
     "text": [
      "100%|██████████| 34/34 [00:00<00:00, 418.52it/s]\n"
     ]
    },
    {
     "name": "stdout",
     "output_type": "stream",
     "text": [
      "Dim :  2 Accuracy :  46.0357283196808\n"
     ]
    },
    {
     "name": "stderr",
     "output_type": "stream",
     "text": [
      "100%|██████████| 34/34 [00:00<00:00, 413.22it/s]\n"
     ]
    },
    {
     "name": "stdout",
     "output_type": "stream",
     "text": [
      "Dim :  4 Accuracy :  62.90239700148113\n"
     ]
    },
    {
     "name": "stderr",
     "output_type": "stream",
     "text": [
      "100%|██████████| 34/34 [00:00<00:00, 170.54it/s]\n"
     ]
    },
    {
     "name": "stdout",
     "output_type": "stream",
     "text": [
      "Dim :  8 Accuracy :  67.27322189644228\n"
     ]
    },
    {
     "name": "stderr",
     "output_type": "stream",
     "text": [
      "100%|██████████| 34/34 [00:00<00:00, 421.56it/s]\n"
     ]
    },
    {
     "name": "stdout",
     "output_type": "stream",
     "text": [
      "Dim :  16 Accuracy :  69.51606565305444\n"
     ]
    },
    {
     "name": "stderr",
     "output_type": "stream",
     "text": [
      "100%|██████████| 34/34 [00:00<00:00, 405.56it/s]"
     ]
    },
    {
     "name": "stdout",
     "output_type": "stream",
     "text": [
      "Dim :  32 Accuracy :  73.1765559350724\n",
      "[46.03572832 62.902397   67.2732219  69.51606565 73.17655594]\n"
     ]
    },
    {
     "name": "stderr",
     "output_type": "stream",
     "text": [
      "\n"
     ]
    }
   ],
   "source": [
    "single_accuracy_array = np.zeros((len(output_dim)), dtype=float)\n",
    "for i, test_dimension in enumerate(output_dim):\n",
    "    test_signal = \"SM\"\n",
    "    normalizer = Normalizer(*[value for value in embedding_points[test_dimension].values()])\n",
    "\n",
    "    bkg = np.array(embedding_points[test_dimension][test_signal])\n",
    "    selected_bkg, selected_labels = sample_equal_class(bkg, bkg_labels)\n",
    "\n",
    "\n",
    "    size = len(selected_bkg)\n",
    "    test_size = int(size * test_ratio)\n",
    "    val_size = int((size-test_size) * val_ratio)\n",
    "    train_size = size - test_size - val_size\n",
    "\n",
    "    train_bkg, train_labels = selected_bkg[:train_size], selected_labels[:train_size]\n",
    "    val_bkg, val_labels = selected_bkg[train_size:train_size+val_size], selected_labels[train_size:train_size+val_size]\n",
    "    test_bkg, test_labels = selected_bkg[train_size+val_size:], selected_labels[train_size+val_size:]\n",
    "\n",
    "    train_dataset = MultiClassifyDataset(train_bkg, train_labels, normalizer)\n",
    "    val_dataset = MultiClassifyDataset(val_bkg, val_labels, normalizer)\n",
    "    test_dataset = MultiClassifyDataset(test_bkg, test_labels, normalizer)\n",
    "\n",
    "    train_dataloader = DataLoader(train_dataset, batch_size=1000, shuffle=True, pin_memory=True, num_workers=10, prefetch_factor=4)\n",
    "    val_dataloader = DataLoader(val_dataset, batch_size=1000, shuffle=False, pin_memory=True, num_workers=10, prefetch_factor=4)\n",
    "    test_dataloader = DataLoader(test_dataset, batch_size=1000, shuffle=False)\n",
    "\n",
    "    hidden_dim = [8, 16, 16, 16, 8]\n",
    "    # naive_model = MLPmulti(test_dimension, hidden_dim, len(np.unique(bkg_labels)))\n",
    "    naive_model = LinearMultiClass(test_dimension, len(np.unique(bkg_labels)))\n",
    "    \n",
    "    naive_model.to(device)\n",
    "    optimizer = torch.optim.Adam(naive_model.parameters(), lr=1e-3, weight_decay=1e-5)\n",
    "    loss_fn = nn.CrossEntropyLoss()\n",
    "    metric_dict = {\"Accuracy\": accuracy}\n",
    "\n",
    "    train_model(\n",
    "    naive_model, optimizer,\n",
    "    loss_fn, metrics_dict=metric_dict,\n",
    "    train_dataloader=train_dataloader, val_dataloader=val_dataloader,\n",
    "    monitor=\"val_Accuracy\", mode=\"max\",\n",
    "    epochs=50,\n",
    "    verbose=False\n",
    "    )\n",
    "    targets, predictions = predict_multi(naive_model, test_dataloader, 4)\n",
    "    acc = top_k_accuracy(targets, predictions)\n",
    "    print(\"Dim : \", test_dimension, \"Accuracy : \", acc)\n",
    "    single_accuracy_array[i] = acc\n",
    "print(single_accuracy_array)"
   ]
  },
  {
   "cell_type": "code",
   "execution_count": 45,
   "metadata": {},
   "outputs": [
    {
     "name": "stderr",
     "output_type": "stream",
     "text": [
      "100%|██████████| 34/34 [00:00<00:00, 176.90it/s]\n",
      "100%|██████████| 34/34 [00:00<00:00, 431.10it/s]\n",
      "100%|██████████| 34/34 [00:00<00:00, 418.71it/s]\n",
      "100%|██████████| 34/34 [00:00<00:00, 176.06it/s]\n",
      "100%|██████████| 34/34 [00:00<00:00, 421.47it/s]\n"
     ]
    },
    {
     "name": "stdout",
     "output_type": "stream",
     "text": [
      "Dim : 2, Mean Accuracy : 45.47317589409121, Variance : 128.47332888025136\n"
     ]
    },
    {
     "name": "stderr",
     "output_type": "stream",
     "text": [
      "100%|██████████| 34/34 [00:00<00:00, 420.84it/s]\n",
      "100%|██████████| 34/34 [00:00<00:00, 179.98it/s]\n",
      "100%|██████████| 34/34 [00:00<00:00, 402.47it/s]\n",
      "100%|██████████| 34/34 [00:00<00:00, 176.57it/s]\n",
      "100%|██████████| 34/34 [00:00<00:00, 422.53it/s]\n"
     ]
    },
    {
     "name": "stdout",
     "output_type": "stream",
     "text": [
      "Dim : 4, Mean Accuracy : 59.99602140840864, Variance : 1.4505322967066214\n"
     ]
    },
    {
     "name": "stderr",
     "output_type": "stream",
     "text": [
      "100%|██████████| 34/34 [00:00<00:00, 426.60it/s]\n",
      "100%|██████████| 34/34 [00:00<00:00, 408.72it/s]\n",
      "100%|██████████| 34/34 [00:00<00:00, 171.52it/s]\n",
      "100%|██████████| 34/34 [00:00<00:00, 405.48it/s]\n",
      "100%|██████████| 34/34 [00:00<00:00, 418.30it/s]\n"
     ]
    },
    {
     "name": "stdout",
     "output_type": "stream",
     "text": [
      "Dim : 8, Mean Accuracy : 67.64036179754936, Variance : 10.52969583088577\n"
     ]
    },
    {
     "name": "stderr",
     "output_type": "stream",
     "text": [
      "100%|██████████| 34/34 [00:00<00:00, 176.99it/s]\n",
      "100%|██████████| 34/34 [00:00<00:00, 422.21it/s]\n",
      "100%|██████████| 34/34 [00:00<00:00, 399.32it/s]\n",
      "100%|██████████| 34/34 [00:00<00:00, 173.82it/s]\n",
      "100%|██████████| 34/34 [00:00<00:00, 399.34it/s]\n"
     ]
    },
    {
     "name": "stdout",
     "output_type": "stream",
     "text": [
      "Dim : 16, Mean Accuracy : 72.19374970665169, Variance : 0.4978270204612749\n"
     ]
    },
    {
     "name": "stderr",
     "output_type": "stream",
     "text": [
      "100%|██████████| 34/34 [00:00<00:00, 409.51it/s]\n",
      "100%|██████████| 34/34 [00:00<00:00, 174.52it/s]\n",
      "100%|██████████| 34/34 [00:00<00:00, 402.69it/s]\n",
      "100%|██████████| 34/34 [00:00<00:00, 405.54it/s]\n",
      "100%|██████████| 34/34 [00:00<00:00, 406.27it/s]"
     ]
    },
    {
     "name": "stdout",
     "output_type": "stream",
     "text": [
      "Dim : 32, Mean Accuracy : 71.46105166010011, Variance : 3.1976468026717675\n"
     ]
    },
    {
     "name": "stderr",
     "output_type": "stream",
     "text": [
      "\n"
     ]
    }
   ],
   "source": [
    "from sklearn.model_selection import KFold\n",
    "import numpy as np\n",
    "\n",
    "# Set number of folds\n",
    "k_folds = 5\n",
    "val_ratio = 0.2\n",
    "single_accuracy_array = np.zeros((len(output_dim)), dtype=float)\n",
    "single_accuracy_variance_array = np.zeros((len(output_dim)), dtype=float)\n",
    "\n",
    "for i, test_dimension in enumerate(output_dim):\n",
    "    test_signal = \"SM\"\n",
    "    normalizer = Normalizer(*[value for value in embedding_points[test_dimension].values()])\n",
    "    bkg = np.array(embedding_points[test_dimension][test_signal])\n",
    "    selected_bkg, selected_labels = sample_equal_class(bkg, bkg_labels)\n",
    "\n",
    "    kfold = KFold(n_splits=k_folds, shuffle=True, random_state=42)\n",
    "    fold_accuracies = []\n",
    "\n",
    "    for train_index, test_index in kfold.split(selected_bkg):\n",
    "        train_bkg, test_bkg = selected_bkg[train_index], selected_bkg[test_index]\n",
    "        train_labels, test_labels = selected_labels[train_index], selected_labels[test_index]\n",
    "\n",
    "        val_size = int(len(train_bkg) * val_ratio)\n",
    "        val_bkg, val_labels = train_bkg[:val_size], train_labels[:val_size]\n",
    "        train_bkg, train_labels = train_bkg[val_size:], train_labels[val_size:]\n",
    "\n",
    "        # Create datasets and dataloaders\n",
    "        train_dataset = MultiClassifyDataset(train_bkg, train_labels, normalizer)\n",
    "        val_dataset = MultiClassifyDataset(val_bkg, val_labels, normalizer)\n",
    "        test_dataset = MultiClassifyDataset(test_bkg, test_labels, normalizer)\n",
    "\n",
    "        train_dataloader = DataLoader(train_dataset, batch_size=1000, shuffle=True, pin_memory=True, num_workers=10, prefetch_factor=4)\n",
    "        val_dataloader = DataLoader(val_dataset, batch_size=1000, shuffle=False, pin_memory=True, num_workers=10, prefetch_factor=4)\n",
    "        test_dataloader = DataLoader(test_dataset, batch_size=1000, shuffle=False)\n",
    "\n",
    "        # Initialize model, optimizer, and loss function\n",
    "        \n",
    "        naive_model = LinearMultiClass(test_dimension, len(np.unique(bkg_labels)))\n",
    "        naive_model.to(device)\n",
    "        optimizer = torch.optim.Adam(naive_model.parameters(), lr=1e-3, weight_decay=1e-5)\n",
    "        loss_fn = nn.CrossEntropyLoss()\n",
    "        metric_dict = {\"Accuracy\": accuracy}\n",
    "\n",
    "        # Train the model\n",
    "        train_model(\n",
    "            naive_model, optimizer,\n",
    "            loss_fn, metrics_dict=metric_dict,\n",
    "            train_dataloader=train_dataloader, val_dataloader=val_dataloader,\n",
    "            monitor=\"val_Accuracy\", mode=\"max\",\n",
    "            epochs=50,\n",
    "            verbose=False\n",
    "        )\n",
    "\n",
    "        # Evaluate on the test set\n",
    "        targets, predictions = predict_multi(naive_model, test_dataloader, 4)\n",
    "        acc = top_k_accuracy(targets, predictions)\n",
    "        fold_accuracies.append(acc)\n",
    "\n",
    "    # Compute mean and variance for this dimension\n",
    "    single_accuracy_array[i] = np.mean(fold_accuracies)\n",
    "    single_accuracy_variance_array[i] = np.var(fold_accuracies)\n",
    "    print(f\"Dim : {test_dimension}, Mean Accuracy : {single_accuracy_array[i]}, Variance : {single_accuracy_variance_array[i]}\")"
   ]
  },
  {
   "cell_type": "code",
   "execution_count": 47,
   "metadata": {},
   "outputs": [
    {
     "data": {
      "image/png": "[encoded data removed]",
      "text/plain": [
       "<Figure size 640x480 with 1 Axes>"
      ]
     },
     "metadata": {},
     "output_type": "display_data"
    }
   ],
   "source": [
    "plt.errorbar(output_dim, MLP_accuracy_array, yerr=MLP_accuracy_variance_array, fmt='.', label='MLP')\n",
    "plt.errorbar(output_dim, single_accuracy_array, yerr=single_accuracy_variance_array, fmt='.', label='single')\n",
    "plt.xlabel('Latent dimension size')\n",
    "plt.ylabel('Accuracy')\n",
    "plt.ylim(45,80)\n",
    "plt.legend()\n",
    "plt.xticks(output_dim)\n",
    "plt.show()"
   ]
  },
  {
   "cell_type": "code",
   "execution_count": 49,
   "metadata": {},
   "outputs": [
    {
     "name": "stdout",
     "output_type": "stream",
     "text": [
      "dimension : [ 2  4  8 16 32]\n",
      "mean_accuracy_5_fold : [45.47317589 59.99602141 67.6403618  72.19374971 71.46105166]\n",
      "standard_deviation_5_fold : [128.47332888   1.4505323   10.52969583   0.49782702   3.1976468 ]\n",
      "dimension : [ 2  4  8 16 32]\n",
      "mean_accuracy_5_fold : [71.18416181 75.37059455 75.54287324 76.30821168 77.09533073]\n",
      "standard_deviation_5_fold : [7.87157003 1.31110984 0.10937313 0.36047513 0.63479195]\n"
     ]
    }
   ],
   "source": [
    "np.savez('../paper/single_layer_acc_bkg_classes_k_fold.npz', dimension=output_dim, mean_accuracy_5_fold=single_accuracy_array, standard_deviation_5_fold=single_accuracy_variance_array)\n",
    "np.savez('../paper/MLP_acc_bkg_classes_k_fold.npz', dimension=output_dim, mean_accuracy_5_fold=MLP_accuracy_array, standard_deviation_5_fold=MLP_accuracy_variance_array)\n",
    "npzfile = np.load('../paper/single_layer_acc_bkg_classes_k_fold.npz')\n",
    "for key in npzfile.keys():\n",
    "    print(key, ':', npzfile[key])\n",
    "npzfile = np.load('../paper/MLP_acc_bkg_classes_k_fold.npz')\n",
    "for key in npzfile.keys():\n",
    "    print(key, ':', npzfile[key])\n"
   ]
  },
  {
   "cell_type": "code",
   "execution_count": 41,
   "metadata": {},
   "outputs": [
    {
     "data": {
      "image/png": "[encoded data removed]",
      "text/plain": [
       "<Figure size 640x480 with 1 Axes>"
      ]
     },
     "metadata": {},
     "output_type": "display_data"
    }
   ],
   "source": [
    "plt.plot(output_dim, single_accuracy_array, label='Single')\n",
    "# plt.plot(output_dim, MLP_accuracy_array, label='MLP')\n",
    "plt.xlabel('Latent dimension size')\n",
    "plt.ylabel('Accuracy')\n",
    "plt.legend()\n",
    "plt.xticks(output_dim)\n",
    "plt.show()"
   ]
  },
  {
   "cell_type": "code",
   "execution_count": 40,
   "metadata": {},
   "outputs": [
    {
     "name": "stdout",
     "output_type": "stream",
     "text": [
      "[52.8337817  62.2706526  70.17199166 71.31154974 73.82945924]\n",
      "[72.16092857 76.21134722 74.92972221 76.62847988 76.32923254]\n"
     ]
    }
   ],
   "source": [
    "print(single_accuracy_array)\n",
    "print(MLP_accuracy_array)"
   ]
  },
  {
   "cell_type": "code",
   "execution_count": 42,
   "metadata": {},
   "outputs": [],
   "source": [
    "np.save('../paper/single_layer_acc_bkg_classes.npy', single_accuracy_array)\n",
    "np.save('../paper/MLP_acc_bkg_classes.npy', MLP_accuracy_array)\n"
   ]
  },
  {
   "cell_type": "code",
   "execution_count": null,
   "metadata": {},
   "outputs": [
    {
     "name": "stderr",
     "output_type": "stream",
     "text": [
      "100%|██████████| 305/305 [00:01<00:00, 298.64it/s]\n"
     ]
    },
    {
     "name": "stdout",
     "output_type": "stream",
     "text": [
      "Dim :  2 Signal :  charged_Higgs Accuracy :  0.7743382328762619\n"
     ]
    },
    {
     "name": "stderr",
     "output_type": "stream",
     "text": [
      "100%|██████████| 137/137 [00:00<00:00, 415.86it/s]\n"
     ]
    },
    {
     "name": "stdout",
     "output_type": "stream",
     "text": [
      "Dim :  2 Signal :  leptoquark Accuracy :  0.7490566591786695\n"
     ]
    },
    {
     "name": "stderr",
     "output_type": "stream",
     "text": [
      "100%|██████████| 277/277 [00:00<00:00, 306.15it/s]\n"
     ]
    },
    {
     "name": "stdout",
     "output_type": "stream",
     "text": [
      "Dim :  2 Signal :  neutral_Higgs Accuracy :  0.63044547473184\n"
     ]
    },
    {
     "name": "stderr",
     "output_type": "stream",
     "text": [
      "100%|██████████| 23/23 [00:00<00:00, 414.91it/s]\n"
     ]
    },
    {
     "name": "stdout",
     "output_type": "stream",
     "text": [
      "Dim :  2 Signal :  neutral_boson Accuracy :  0.5\n"
     ]
    },
    {
     "name": "stderr",
     "output_type": "stream",
     "text": [
      "100%|██████████| 305/305 [00:01<00:00, 293.46it/s]\n"
     ]
    },
    {
     "name": "stdout",
     "output_type": "stream",
     "text": [
      "Dim :  4 Signal :  charged_Higgs Accuracy :  0.8564039327874782\n"
     ]
    },
    {
     "name": "stderr",
     "output_type": "stream",
     "text": [
      "100%|██████████| 137/137 [00:00<00:00, 302.36it/s]\n"
     ]
    },
    {
     "name": "stdout",
     "output_type": "stream",
     "text": [
      "Dim :  4 Signal :  leptoquark Accuracy :  0.7605969842458412\n"
     ]
    },
    {
     "name": "stderr",
     "output_type": "stream",
     "text": [
      "100%|██████████| 277/277 [00:00<00:00, 288.97it/s]\n"
     ]
    },
    {
     "name": "stdout",
     "output_type": "stream",
     "text": [
      "Dim :  4 Signal :  neutral_Higgs Accuracy :  0.6677781233499931\n"
     ]
    },
    {
     "name": "stderr",
     "output_type": "stream",
     "text": [
      "100%|██████████| 23/23 [00:00<00:00, 136.44it/s]\n"
     ]
    },
    {
     "name": "stdout",
     "output_type": "stream",
     "text": [
      "Dim :  4 Signal :  neutral_boson Accuracy :  0.5\n"
     ]
    },
    {
     "name": "stderr",
     "output_type": "stream",
     "text": [
      "100%|██████████| 305/305 [00:01<00:00, 294.65it/s]\n"
     ]
    },
    {
     "name": "stdout",
     "output_type": "stream",
     "text": [
      "Dim :  8 Signal :  charged_Higgs Accuracy :  0.868577159580415\n"
     ]
    },
    {
     "name": "stderr",
     "output_type": "stream",
     "text": [
      "100%|██████████| 137/137 [00:00<00:00, 405.82it/s]\n"
     ]
    },
    {
     "name": "stdout",
     "output_type": "stream",
     "text": [
      "Dim :  8 Signal :  leptoquark Accuracy :  0.7778267189358234\n"
     ]
    },
    {
     "name": "stderr",
     "output_type": "stream",
     "text": [
      "100%|██████████| 277/277 [00:00<00:00, 286.32it/s]\n"
     ]
    },
    {
     "name": "stdout",
     "output_type": "stream",
     "text": [
      "Dim :  8 Signal :  neutral_Higgs Accuracy :  0.6750110301829202\n"
     ]
    },
    {
     "name": "stderr",
     "output_type": "stream",
     "text": [
      "100%|██████████| 23/23 [00:00<00:00, 402.89it/s]\n"
     ]
    },
    {
     "name": "stdout",
     "output_type": "stream",
     "text": [
      "Dim :  8 Signal :  neutral_boson Accuracy :  0.6927371806324817\n"
     ]
    },
    {
     "name": "stderr",
     "output_type": "stream",
     "text": [
      "100%|██████████| 305/305 [00:01<00:00, 286.90it/s]\n"
     ]
    },
    {
     "name": "stdout",
     "output_type": "stream",
     "text": [
      "Dim :  16 Signal :  charged_Higgs Accuracy :  0.8698891848344349\n"
     ]
    },
    {
     "name": "stderr",
     "output_type": "stream",
     "text": [
      "100%|██████████| 137/137 [00:00<00:00, 305.77it/s]\n"
     ]
    },
    {
     "name": "stdout",
     "output_type": "stream",
     "text": [
      "Dim :  16 Signal :  leptoquark Accuracy :  0.7891174440969623\n"
     ]
    },
    {
     "name": "stderr",
     "output_type": "stream",
     "text": [
      "100%|██████████| 277/277 [00:00<00:00, 289.53it/s]\n"
     ]
    },
    {
     "name": "stdout",
     "output_type": "stream",
     "text": [
      "Dim :  16 Signal :  neutral_Higgs Accuracy :  0.6792278148665167\n"
     ]
    },
    {
     "name": "stderr",
     "output_type": "stream",
     "text": [
      "100%|██████████| 23/23 [00:00<00:00, 403.38it/s]\n"
     ]
    },
    {
     "name": "stdout",
     "output_type": "stream",
     "text": [
      "Dim :  16 Signal :  neutral_boson Accuracy :  0.6954171877791674\n"
     ]
    },
    {
     "name": "stderr",
     "output_type": "stream",
     "text": [
      "100%|██████████| 305/305 [00:01<00:00, 296.82it/s]\n"
     ]
    },
    {
     "name": "stdout",
     "output_type": "stream",
     "text": [
      "Dim :  32 Signal :  charged_Higgs Accuracy :  0.8729637302291934\n"
     ]
    },
    {
     "name": "stderr",
     "output_type": "stream",
     "text": [
      "100%|██████████| 137/137 [00:00<00:00, 249.32it/s]\n"
     ]
    },
    {
     "name": "stdout",
     "output_type": "stream",
     "text": [
      "Dim :  32 Signal :  leptoquark Accuracy :  0.7927366427344403\n"
     ]
    },
    {
     "name": "stderr",
     "output_type": "stream",
     "text": [
      "100%|██████████| 277/277 [00:00<00:00, 283.04it/s]\n"
     ]
    },
    {
     "name": "stdout",
     "output_type": "stream",
     "text": [
      "Dim :  32 Signal :  neutral_Higgs Accuracy :  0.6879687827741091\n"
     ]
    },
    {
     "name": "stderr",
     "output_type": "stream",
     "text": [
      "100%|██████████| 23/23 [00:00<00:00, 135.01it/s]"
     ]
    },
    {
     "name": "stdout",
     "output_type": "stream",
     "text": [
      "Dim :  32 Signal :  neutral_boson Accuracy :  0.7370466321243523\n"
     ]
    },
    {
     "name": "stderr",
     "output_type": "stream",
     "text": [
      "\n"
     ]
    }
   ],
   "source": [
    "accuracy_array = np.zeros((len(output_dim), len(bsm_events)), dtype=float)\n",
    "for i, test_dimension in enumerate(output_dim):\n",
    "    for j, test_signal in enumerate(bsm_events):\n",
    "        test_ratio=0.2\n",
    "        val_ratio = 0.2\n",
    "\n",
    "        normalizer = Normalizer(*[value for value in embedding_points[test_dimension].values()])\n",
    "        selected_idx = np.random.choice(embedding_points[test_dimension]['SM'].shape[0], len(np.array(embedding_points[test_dimension][test_signal])), replace=False)\n",
    "        exp_events, bkg_events = np.array(embedding_points[test_dimension]['SM'])[selected_idx], np.array(embedding_points[test_dimension][test_signal])\n",
    "        X1, X2, W1, W2 = train_test_split(exp_events, bkg_events, test_ratio)\n",
    "        n1 = len(W1)\n",
    "        m1 = len(X1)\n",
    "        pi = n1 / (n1 + m1)\n",
    "        n2 = len(W2)\n",
    "        m2 = len(X2)\n",
    "        train_dataloader, val_dataloader = get_dataloaders(X1, W1, val_ratio, normalizer, train_batch_size=1000, val_batch_size=1000)\n",
    "        test_dataset = ClassifyDataset(X2, W2, normalizer)\n",
    "        test_dataloader = DataLoader(test_dataset, batch_size=1000, shuffle=False)\n",
    "\n",
    "        # hidden_dim = [8, 16, 16, 16, 8]\n",
    "        # naive_model = MLP(test_dimension, hidden_sizes=hidden_dim)\n",
    "\n",
    "        naive_model = Linear(test_dimension)\n",
    "\n",
    "        naive_model.to(device)\n",
    "        optimizer = torch.optim.Adam(naive_model.parameters(), lr=1e-3, weight_decay=1e-5)\n",
    "        loss_fn = nn.BCELoss()\n",
    "        acc_metric = BinaryACCUpdater()\n",
    "        metric_dict = {\"Accuracy\": acc_metric}\n",
    "        train_model(\n",
    "            naive_model, optimizer,\n",
    "            loss_fn, metrics_dict=metric_dict,\n",
    "            train_dataloader=train_dataloader, val_dataloader=val_dataloader,\n",
    "            monitor=\"val_Accuracy\", mode=\"max\",\n",
    "            epochs=50,\n",
    "            verbose=False\n",
    "            )\n",
    "        \n",
    "        targets, predictions = predict(naive_model, test_dataloader)\n",
    "        accuracy = calculate_accuracy(predictions, targets)\n",
    "        print(\"Dim : \", test_dimension, \"Signal : \", test_signal, \"Accuracy : \", accuracy)\n",
    "        accuracy_array[i][j] = accuracy"
   ]
  },
  {
   "cell_type": "code",
   "execution_count": null,
   "metadata": {},
   "outputs": [],
   "source": []
  },
  {
   "cell_type": "code",
   "execution_count": 7,
   "metadata": {},
   "outputs": [
    {
     "name": "stdout",
     "output_type": "stream",
     "text": [
      "[0.66346009 0.69619476 0.75353802 0.75841291 0.77267895]\n"
     ]
    },
    {
     "data": {
      "image/png": "[encoded data removed]",
      "text/plain": [
       "<Figure size 640x480 with 1 Axes>"
      ]
     },
     "metadata": {},
     "output_type": "display_data"
    }
   ],
   "source": [
    "print(accuracy_array.mean(axis=1))\n",
    "plt.errorbar(output_dim, accuracy_array.mean(axis=1), yerr=accuracy_array.std(axis=1), fmt='.', label='Model-dependent OT')\n",
    "plt.xlabel('Latent dimension size')\n",
    "plt.ylabel('Accuracy')\n",
    "plt.legend()\n",
    "plt.xticks(output_dim)\n",
    "plt.show()"
   ]
  },
  {
   "cell_type": "code",
   "execution_count": 9,
   "metadata": {},
   "outputs": [],
   "source": [
    "np.save('../paper/single_layer_acc.npy', accuracy_array)"
   ]
  },
  {
   "cell_type": "code",
   "execution_count": 8,
   "metadata": {},
   "outputs": [
    {
     "data": {
      "image/png": "[encoded data removed]",
      "text/plain": [
       "<Figure size 640x480 with 1 Axes>"
      ]
     },
     "metadata": {},
     "output_type": "display_data"
    }
   ],
   "source": [
    "for signal in bsm_events:\n",
    "    plt.plot(output_dim, accuracy_array[:, bsm_events.index(signal)], label=signal)\n",
    "plt.xlabel('Latent dimension size')\n",
    "plt.ylabel('Accuracy')\n",
    "plt.legend()\n",
    "plt.xticks(output_dim)\n",
    "plt.show()"
   ]
  },
  {
   "cell_type": "code",
   "execution_count": 12,
   "metadata": {},
   "outputs": [],
   "source": [
    "# Load raw events\n",
    "files = load_toml_config(\"file\")\n",
    "database_path = get_database_path()\n",
    "\n",
    "events = {}\n",
    "for key, value in files.items():\n",
    "    events[key] = read_h5_file(database_path, value)\n",
    "\n",
    "Delphes = np.load(os.path.join('..', 'data', 'datasets_-1.npz'))\n",
    "unpreprocessed_labels = ['x_train','x_test', 'x_val']\n",
    "full_SM_dataset = np.concatenate([Delphes[label] for label in unpreprocessed_labels], axis=0)\n",
    "events['SM'] = full_SM_dataset.reshape(full_SM_dataset.shape[:3])"
   ]
  },
  {
   "cell_type": "code",
   "execution_count": 14,
   "metadata": {},
   "outputs": [
    {
     "name": "stdout",
     "output_type": "stream",
     "text": [
      "SM (14451914, 57)\n",
      "neutral_boson (55969, 57)\n",
      "leptoquark (340544, 57)\n",
      "neutral_Higgs (691283, 57)\n",
      "charged_Higgs (760272, 57)\n"
     ]
    }
   ],
   "source": [
    "for key in events.keys():\n",
    "    events[key] = events[key][:, :, :3].reshape(events[key].shape[0], -1)\n",
    "    print(key, events[key].shape)"
   ]
  },
  {
   "cell_type": "code",
   "execution_count": null,
   "metadata": {},
   "outputs": [
    {
     "ename": "NameError",
     "evalue": "name 'events' is not defined",
     "output_type": "error",
     "traceback": [
      "\u001b[0;31m---------------------------------------------------------------------------\u001b[0m",
      "\u001b[0;31mNameError\u001b[0m                                 Traceback (most recent call last)",
      "Cell \u001b[0;32mIn[3], line 8\u001b[0m\n\u001b[1;32m      5\u001b[0m test_ratio\u001b[38;5;241m=\u001b[39m\u001b[38;5;241m0.2\u001b[39m\n\u001b[1;32m      6\u001b[0m val_ratio \u001b[38;5;241m=\u001b[39m \u001b[38;5;241m0.2\u001b[39m\n\u001b[0;32m----> 8\u001b[0m normalizer \u001b[38;5;241m=\u001b[39m Normalizer(\u001b[38;5;241m*\u001b[39m[value \u001b[38;5;28;01mfor\u001b[39;00m value \u001b[38;5;129;01min\u001b[39;00m events\u001b[38;5;241m.\u001b[39mvalues()])\n\u001b[1;32m      9\u001b[0m selected_idx \u001b[38;5;241m=\u001b[39m np\u001b[38;5;241m.\u001b[39mrandom\u001b[38;5;241m.\u001b[39mchoice(embedding_points[test_dimension][\u001b[38;5;124m'\u001b[39m\u001b[38;5;124mSM\u001b[39m\u001b[38;5;124m'\u001b[39m]\u001b[38;5;241m.\u001b[39mshape[\u001b[38;5;241m0\u001b[39m], \u001b[38;5;28mlen\u001b[39m(np\u001b[38;5;241m.\u001b[39marray(embedding_points[test_dimension][test_signal])), replace\u001b[38;5;241m=\u001b[39m\u001b[38;5;28;01mFalse\u001b[39;00m)\n\u001b[1;32m     10\u001b[0m exp_events, bkg_events \u001b[38;5;241m=\u001b[39m np\u001b[38;5;241m.\u001b[39marray(embedding_points[test_dimension][\u001b[38;5;124m'\u001b[39m\u001b[38;5;124mSM\u001b[39m\u001b[38;5;124m'\u001b[39m])[selected_idx], np\u001b[38;5;241m.\u001b[39marray(embedding_points[test_dimension][test_signal])\n",
      "\u001b[0;31mNameError\u001b[0m: name 'events' is not defined"
     ]
    }
   ],
   "source": [
    "bsm_events = ['charged_Higgs', 'leptoquark', 'neutral_Higgs', 'neutral_boson']\n",
    "baseline_acc = np.zeros(len(bsm_events), dtype=float)\n",
    "\n",
    "for i, test_signal in enumerate(bsm_events):\n",
    "    test_ratio=0.2\n",
    "    val_ratio = 0.2\n",
    "\n",
    "    normalizer = Normalizer(*[value for value in events.values()])\n",
    "    selected_idx = np.random.choice(embedding_points[test_dimension]['SM'].shape[0], len(np.array(embedding_points[test_dimension][test_signal])), replace=False)\n",
    "    exp_events, bkg_events = np.array(embedding_points[test_dimension]['SM'])[selected_idx], np.array(embedding_points[test_dimension][test_signal])\n",
    "    X1, X2, W1, W2 = train_test_split(exp_events, bkg_events, test_ratio)\n",
    "    n1 = len(W1)\n",
    "    m1 = len(X1)\n",
    "    pi = n1 / (n1 + m1)\n",
    "    n2 = len(W2)\n",
    "    m2 = len(X2)\n",
    "    train_dataloader, val_dataloader = get_dataloaders(X1, W1, val_ratio, normalizer=None, train_batch_size=1000, val_batch_size=1000)\n",
    "    test_dataset = ClassifyDataset(X2, W2, None)\n",
    "    test_dataloader = DataLoader(test_dataset, batch_size=1000, shuffle=False)\n",
    "\n",
    "    hidden_dim = [8, 16, 16, 16, 8]\n",
    "    naive_model = MLP(57, hidden_sizes=hidden_dim)\n",
    "\n",
    "    naive_model.to(device)\n",
    "    optimizer = torch.optim.Adam(naive_model.parameters(), lr=1e-3, weight_decay=1e-5)\n",
    "    loss_fn = nn.BCELoss()\n",
    "    acc_metric = BinaryACCUpdater()\n",
    "    metric_dict = {\"Accuracy\": acc_metric}\n",
    "    train_model(\n",
    "        naive_model, optimizer,\n",
    "        loss_fn, metrics_dict=metric_dict,\n",
    "        train_dataloader=train_dataloader, val_dataloader=val_dataloader,\n",
    "        monitor=\"val_Accuracy\", mode=\"max\",\n",
    "        epochs=50\n",
    "        )\n",
    "    \n",
    "    targets, predictions = predict(naive_model, test_dataloader)\n",
    "    accuracy = calculate_accuracy(predictions, targets)\n",
    "    print(\"Dim : \", test_dimension, \"Signal : \", test_signal, \"Accuracy : \", accuracy)\n",
    "    baseline_acc[i] = accuracy"
   ]
  },
  {
   "cell_type": "code",
   "execution_count": null,
   "metadata": {},
   "outputs": [],
   "source": []
  }
 ],
 "metadata": {
  "kernelspec": {
   "display_name": "ad",
   "language": "python",
   "name": "python3"
  },
  "language_info": {
   "codemirror_mode": {
    "name": "ipython",
    "version": 3
   },
   "file_extension": ".py",
   "mimetype": "text/x-python",
   "name": "python",
   "nbconvert_exporter": "python",
   "pygments_lexer": "ipython3",
   "version": "3.11.8"
  }
 },
 "nbformat": 4,
 "nbformat_minor": 2
}
