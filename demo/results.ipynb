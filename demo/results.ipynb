{
 "cells": [
  {
   "cell_type": "code",
   "execution_count": 1,
   "metadata": {},
   "outputs": [],
   "source": [
    "import pandas as pd"
   ]
  },
  {
   "cell_type": "code",
   "execution_count": 2,
   "metadata": {},
   "outputs": [],
   "source": [
    "# test_signal = \"neutral_boson\"\n",
    "# test_signal = \"leptoquark\"\n",
    "test_signal = \"neutral_Higgs\"\n",
    "# test_signal = \"charged_Higgs\"\n",
    "h5file_name = \"mlp_lambda_estimator_{}.h5\".format(test_signal)"
   ]
  },
  {
   "cell_type": "code",
   "execution_count": 3,
   "metadata": {},
   "outputs": [
    {
     "name": "stdout",
     "output_type": "stream",
     "text": [
      "/lambda_mean_dict\n",
      "0       0.016119\n",
      "0.01    0.006776\n",
      "0.05    0.038423\n",
      "0.1     0.059774\n",
      "0.2     0.157836\n",
      "0.3     0.290189\n",
      "0.4     0.384685\n",
      "0.5     0.508988\n",
      "dtype: float64\n",
      "/lambda_std_dict\n",
      "0       0.013219\n",
      "0.01    0.011618\n",
      "0.05    0.021871\n",
      "0.1     0.019451\n",
      "0.2     0.048774\n",
      "0.3     0.058422\n",
      "0.4     0.064259\n",
      "0.5     0.018774\n",
      "dtype: float64\n",
      "/power_df\n",
      "                 0.00  0.01  0.05  0.10  0.20  0.30  0.40  0.50\n",
      "LRT Permutation   0.1   0.3   1.0   1.0   1.0   1.0   1.0   1.0\n",
      "LRT Bootstrap     0.0   0.1   1.0   1.0   1.0   1.0   1.0   1.0\n",
      "AUC Permutation   0.0   0.2   1.0   1.0   1.0   1.0   1.0   1.0\n",
      "AUC Bootstrap     0.0   0.2   1.0   1.0   1.0   1.0   1.0   1.0\n",
      "MCE Permutation   0.2   0.4   1.0   1.0   1.0   1.0   1.0   1.0\n",
      "MCE Bootstrap     0.3   0.4   1.0   1.0   1.0   1.0   1.0   1.0\n"
     ]
    }
   ],
   "source": [
    "h5 = pd.HDFStore(h5file_name)\n",
    "for key in h5.keys():\n",
    "    print(key)\n",
    "    print(h5[key])"
   ]
  },
  {
   "cell_type": "code",
   "execution_count": null,
   "metadata": {},
   "outputs": [],
   "source": []
  }
 ],
 "metadata": {
  "kernelspec": {
   "display_name": "ad",
   "language": "python",
   "name": "python3"
  },
  "language_info": {
   "codemirror_mode": {
    "name": "ipython",
    "version": 3
   },
   "file_extension": ".py",
   "mimetype": "text/x-python",
   "name": "python",
   "nbconvert_exporter": "python",
   "pygments_lexer": "ipython3",
   "version": "3.11.8"
  }
 },
 "nbformat": 4,
 "nbformat_minor": 2
}
