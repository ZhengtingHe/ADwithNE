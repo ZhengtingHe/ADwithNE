{
 "cells": [
  {
   "cell_type": "code",
   "execution_count": 1,
   "metadata": {},
   "outputs": [],
   "source": [
    "import torch\n",
    "from torch import nn\n",
    "import numpy as np\n",
    "import sys\n",
    "import os\n",
    "import pandas as pd\n",
    "from torch.utils.data import Dataset, DataLoader\n",
    "from tqdm import tqdm\n",
    "import importlib\n",
    "\n",
    "sys.path.append(\"..\")\n",
    "from model import BaselineTransformer\n",
    "from data import get_database_path, read_h5_file\n",
    "from utils import load_toml_config\n",
    "\n",
    "import matplotlib.pyplot as plt\n",
    "\n",
    "\n",
    "device = \"cuda\" if torch.cuda.is_available() else \"mps\" if sys.platform == \"darwin\" else \"cpu\"\n",
    "random_seed = 114514\n",
    "torch.manual_seed(random_seed)\n",
    "np.random.seed(random_seed)"
   ]
  },
  {
   "cell_type": "code",
   "execution_count": 2,
   "metadata": {},
   "outputs": [],
   "source": [
    "EMD_config = load_toml_config(\"EMD\")\n",
    "particle_type_scale = EMD_config['particle_type_scale']"
   ]
  },
  {
   "cell_type": "markdown",
   "metadata": {},
   "source": [
    "# Load raw events"
   ]
  },
  {
   "cell_type": "code",
   "execution_count": 3,
   "metadata": {},
   "outputs": [
    {
     "name": "stdout",
     "output_type": "stream",
     "text": [
      "SM (13451915, 19, 4)\n",
      "neutral_boson (55969, 19, 4)\n",
      "leptoquark (340544, 19, 4)\n",
      "neutral_Higgs (691283, 19, 4)\n",
      "charged_Higgs (760272, 19, 4)\n"
     ]
    }
   ],
   "source": [
    "files = load_toml_config(\"file\")\n",
    "database_path = get_database_path()\n",
    "\n",
    "events = {}\n",
    "for key, value in files.items():\n",
    "    events[key] = read_h5_file(database_path, value)\n",
    "    print(key, events[key].shape)"
   ]
  },
  {
   "cell_type": "code",
   "execution_count": 4,
   "metadata": {},
   "outputs": [
    {
     "name": "stdout",
     "output_type": "stream",
     "text": [
      "['neutral_boson', 'leptoquark', 'neutral_Higgs', 'charged_Higgs']\n"
     ]
    }
   ],
   "source": [
    "signals = [key for key in events.keys() if key != \"SM\"]\n",
    "print(signals)"
   ]
  },
  {
   "cell_type": "code",
   "execution_count": 31,
   "metadata": {},
   "outputs": [
    {
     "name": "stdout",
     "output_type": "stream",
     "text": [
      "{'feature_size': 3, 'embed_size': 16, 'num_heads': 8, 'num_layers': 4, 'hidden_dim': 256, 'output_dim': 4}\n"
     ]
    },
    {
     "data": {
      "text/plain": [
       "BaselineTransformer(\n",
       "  (particle_embedding): Linear(in_features=3, out_features=16, bias=True)\n",
       "  (pos_encoder): ParticlePositionalEncoding()\n",
       "  (transformer_encoder): TransformerEncoder(\n",
       "    (layers): ModuleList(\n",
       "      (0-3): 4 x TransformerEncoderLayer(\n",
       "        (self_attn): MultiheadAttention(\n",
       "          (out_proj): NonDynamicallyQuantizableLinear(in_features=16, out_features=16, bias=True)\n",
       "        )\n",
       "        (linear1): Linear(in_features=16, out_features=256, bias=True)\n",
       "        (dropout): Dropout(p=0.1, inplace=False)\n",
       "        (linear2): Linear(in_features=256, out_features=16, bias=True)\n",
       "        (norm1): LayerNorm((16,), eps=1e-05, elementwise_affine=True)\n",
       "        (norm2): LayerNorm((16,), eps=1e-05, elementwise_affine=True)\n",
       "        (dropout1): Dropout(p=0.1, inplace=False)\n",
       "        (dropout2): Dropout(p=0.1, inplace=False)\n",
       "      )\n",
       "    )\n",
       "  )\n",
       "  (output_layer): Linear(in_features=304, out_features=1, bias=True)\n",
       "  (sigmoid): Sigmoid()\n",
       ")"
      ]
     },
     "execution_count": 31,
     "metadata": {},
     "output_type": "execute_result"
    }
   ],
   "source": [
    "model_hyper_parameters = load_toml_config(\"Transformer\")\n",
    "print(model_hyper_parameters)\n",
    "feature_size = model_hyper_parameters[\"feature_size\"]\n",
    "embed_size = model_hyper_parameters[\"embed_size\"]\n",
    "num_heads = model_hyper_parameters[\"num_heads\"]\n",
    "num_layers = model_hyper_parameters[\"num_layers\"]\n",
    "hidden_dim = model_hyper_parameters[\"hidden_dim\"]\n",
    "\n",
    "\n",
    "classify_model = BaselineTransformer(feature_size, embed_size, num_heads, hidden_dim, num_layers)\n",
    "classify_model.to(device)"
   ]
  },
  {
   "cell_type": "markdown",
   "metadata": {},
   "source": [
    "# Split Events"
   ]
  },
  {
   "cell_type": "code",
   "execution_count": 6,
   "metadata": {},
   "outputs": [],
   "source": [
    "from analysis import create_exp_bkg_events, train_test_split, get_dataloaders\n",
    "from data import EventDataset"
   ]
  },
  {
   "cell_type": "code",
   "execution_count": 7,
   "metadata": {},
   "outputs": [],
   "source": [
    "tpr_dict = {}\n",
    "fpr_dict = {}\n",
    "auc_dict = {}"
   ]
  },
  {
   "cell_type": "code",
   "execution_count": 8,
   "metadata": {},
   "outputs": [],
   "source": [
    "test_ratio=0.2\n",
    "val_ratio = 0.2\n",
    "sig_lambda = 0.5\n",
    "n = 100000\n",
    "\n",
    "# test_signal = \"neutral_boson\"\n",
    "# test_signal = \"leptoquark\"\n",
    "# test_signal = \"neutral_Higgs\"\n",
    "test_signal = \"charged_Higgs\"\n",
    "\n",
    "exp_events, bkg_events = create_exp_bkg_events(events['SM'], events[test_signal], sig_lambda, n)\n",
    "X1, X2, W1, W2 = train_test_split(exp_events, bkg_events, test_ratio)\n",
    "n1 = len(W1)\n",
    "m1 = len(X1)\n",
    "pi = n1 / (n1 + m1)\n",
    "n2 = len(W2)\n",
    "m2 = len(X2)\n",
    "train_dataloader, val_dataloader = get_dataloaders(X1[:,:,:3], W1[:, :, :3], val_ratio, )"
   ]
  },
  {
   "cell_type": "markdown",
   "metadata": {},
   "source": [
    "# Train"
   ]
  },
  {
   "cell_type": "code",
   "execution_count": 9,
   "metadata": {},
   "outputs": [],
   "source": [
    "from metrics import BinaryACCUpdater\n",
    "classify_model.to(device)\n",
    "optimizer = torch.optim.Adam(classify_model.parameters(), lr=1e-3, weight_decay=1e-5)\n",
    "loss_fn = nn.BCELoss()\n",
    "acc_metric = BinaryACCUpdater()\n",
    "metric_dict = {\"Accuracy\": acc_metric}"
   ]
  },
  {
   "cell_type": "code",
   "execution_count": 10,
   "metadata": {},
   "outputs": [],
   "source": [
    "from classify import train_model"
   ]
  },
  {
   "cell_type": "code",
   "execution_count": 11,
   "metadata": {},
   "outputs": [
    {
     "name": "stdout",
     "output_type": "stream",
     "text": [
      "\n",
      "================================================================================2024-06-01 20:04:43\n",
      "Epoch 1 / 50\n",
      "\n",
      "100%|██████████| 2000/2000 [00:14<00:00, 141.09it/s, train_Accuracy=0.678, train_loss=0.59] \n",
      "100%|██████████| 125/125 [00:00<00:00, 257.81it/s, val_Accuracy=0.685, val_loss=0.584]\n",
      "<<<<<< reach best val_Accuracy : 0.6851250529289246 >>>>>>\n",
      "\n",
      "================================================================================2024-06-01 20:04:58\n",
      "Epoch 2 / 50\n",
      "\n",
      "100%|██████████| 2000/2000 [00:14<00:00, 142.58it/s, train_Accuracy=0.684, train_loss=0.58] \n",
      "100%|██████████| 125/125 [00:00<00:00, 356.44it/s, val_Accuracy=0.675, val_loss=0.612]\n",
      "\n",
      "================================================================================2024-06-01 20:05:13\n",
      "Epoch 3 / 50\n",
      "\n",
      "100%|██████████| 2000/2000 [00:14<00:00, 142.57it/s, train_Accuracy=0.685, train_loss=0.58] \n",
      "100%|██████████| 125/125 [00:00<00:00, 331.60it/s, val_Accuracy=0.68, val_loss=0.586] \n",
      "\n",
      "================================================================================2024-06-01 20:05:28\n",
      "Epoch 4 / 50\n",
      "\n",
      "100%|██████████| 2000/2000 [00:14<00:00, 141.91it/s, train_Accuracy=0.687, train_loss=0.576]\n",
      "100%|██████████| 125/125 [00:00<00:00, 354.00it/s, val_Accuracy=0.685, val_loss=0.576]\n",
      "<<<<<< reach best val_Accuracy : 0.6854375600814819 >>>>>>\n",
      "\n",
      "================================================================================2024-06-01 20:05:42\n",
      "Epoch 5 / 50\n",
      "\n",
      "100%|██████████| 2000/2000 [00:13<00:00, 146.43it/s, train_Accuracy=0.688, train_loss=0.574]\n",
      "100%|██████████| 125/125 [00:00<00:00, 332.20it/s, val_Accuracy=0.689, val_loss=0.572]\n",
      "<<<<<< reach best val_Accuracy : 0.6892187595367432 >>>>>>\n",
      "\n",
      "================================================================================2024-06-01 20:05:56\n",
      "Epoch 6 / 50\n",
      "\n",
      "100%|██████████| 2000/2000 [00:14<00:00, 141.49it/s, train_Accuracy=0.689, train_loss=0.574]\n",
      "100%|██████████| 125/125 [00:00<00:00, 338.68it/s, val_Accuracy=0.69, val_loss=0.574] \n",
      "<<<<<< reach best val_Accuracy : 0.6899062991142273 >>>>>>\n",
      "\n",
      "================================================================================2024-06-01 20:06:11\n",
      "Epoch 7 / 50\n",
      "\n",
      "100%|██████████| 2000/2000 [00:14<00:00, 142.59it/s, train_Accuracy=0.69, train_loss=0.573] \n",
      "100%|██████████| 125/125 [00:00<00:00, 326.82it/s, val_Accuracy=0.691, val_loss=0.571]\n",
      "<<<<<< reach best val_Accuracy : 0.6905312538146973 >>>>>>\n",
      "\n",
      "================================================================================2024-06-01 20:06:26\n",
      "Epoch 8 / 50\n",
      "\n",
      "100%|██████████| 2000/2000 [00:14<00:00, 141.18it/s, train_Accuracy=0.691, train_loss=0.572]\n",
      "100%|██████████| 125/125 [00:00<00:00, 340.01it/s, val_Accuracy=0.689, val_loss=0.573]\n",
      "\n",
      "================================================================================2024-06-01 20:06:40\n",
      "Epoch 9 / 50\n",
      "\n",
      "100%|██████████| 2000/2000 [00:14<00:00, 140.11it/s, train_Accuracy=0.69, train_loss=0.572] \n",
      "100%|██████████| 125/125 [00:00<00:00, 327.96it/s, val_Accuracy=0.69, val_loss=0.572]\n",
      "\n",
      "================================================================================2024-06-01 20:06:55\n",
      "Epoch 10 / 50\n",
      "\n",
      "100%|██████████| 2000/2000 [00:13<00:00, 143.42it/s, train_Accuracy=0.691, train_loss=0.572]\n",
      "100%|██████████| 125/125 [00:00<00:00, 248.30it/s, val_Accuracy=0.692, val_loss=0.571]\n",
      "<<<<<< reach best val_Accuracy : 0.6919062733650208 >>>>>>\n",
      "\n",
      "================================================================================2024-06-01 20:07:10\n",
      "Epoch 11 / 50\n",
      "\n",
      "100%|██████████| 2000/2000 [00:14<00:00, 141.53it/s, train_Accuracy=0.691, train_loss=0.572]\n",
      "100%|██████████| 125/125 [00:00<00:00, 350.07it/s, val_Accuracy=0.694, val_loss=0.571]\n",
      "<<<<<< reach best val_Accuracy : 0.6936250329017639 >>>>>>\n",
      "\n",
      "================================================================================2024-06-01 20:07:25\n",
      "Epoch 12 / 50\n",
      "\n",
      "100%|██████████| 2000/2000 [00:14<00:00, 139.80it/s, train_Accuracy=0.691, train_loss=0.571]\n",
      "100%|██████████| 125/125 [00:00<00:00, 346.17it/s, val_Accuracy=0.692, val_loss=0.57] \n",
      "\n",
      "================================================================================2024-06-01 20:07:39\n",
      "Epoch 13 / 50\n",
      "\n",
      "100%|██████████| 2000/2000 [00:14<00:00, 141.95it/s, train_Accuracy=0.693, train_loss=0.571]\n",
      "100%|██████████| 125/125 [00:00<00:00, 347.53it/s, val_Accuracy=0.691, val_loss=0.571]\n",
      "\n",
      "================================================================================2024-06-01 20:07:54\n",
      "Epoch 14 / 50\n",
      "\n",
      "100%|██████████| 2000/2000 [00:13<00:00, 143.36it/s, train_Accuracy=0.692, train_loss=0.571]\n",
      "100%|██████████| 125/125 [00:00<00:00, 342.53it/s, val_Accuracy=0.693, val_loss=0.571]\n",
      "\n",
      "================================================================================2024-06-01 20:08:09\n",
      "Epoch 15 / 50\n",
      "\n",
      "100%|██████████| 2000/2000 [00:14<00:00, 141.44it/s, train_Accuracy=0.691, train_loss=0.571]\n",
      "100%|██████████| 125/125 [00:00<00:00, 347.17it/s, val_Accuracy=0.692, val_loss=0.576]\n",
      "\n",
      "================================================================================2024-06-01 20:08:23\n",
      "Epoch 16 / 50\n",
      "\n",
      "100%|██████████| 2000/2000 [00:14<00:00, 142.51it/s, train_Accuracy=0.693, train_loss=0.57] \n",
      "100%|██████████| 125/125 [00:00<00:00, 346.66it/s, val_Accuracy=0.687, val_loss=0.577]\n",
      "<<<<<< val_Accuracy without improvement in 5 epoch, early stopping >>>>>>\n"
     ]
    },
    {
     "data": {
      "text/html": [
       "<div>\n",
       "<style scoped>\n",
       "    .dataframe tbody tr th:only-of-type {\n",
       "        vertical-align: middle;\n",
       "    }\n",
       "\n",
       "    .dataframe tbody tr th {\n",
       "        vertical-align: top;\n",
       "    }\n",
       "\n",
       "    .dataframe thead th {\n",
       "        text-align: right;\n",
       "    }\n",
       "</style>\n",
       "<table border=\"1\" class=\"dataframe\">\n",
       "  <thead>\n",
       "    <tr style=\"text-align: right;\">\n",
       "      <th></th>\n",
       "      <th>train_loss</th>\n",
       "      <th>train_Accuracy</th>\n",
       "      <th>val_loss</th>\n",
       "      <th>val_Accuracy</th>\n",
       "      <th>epoch</th>\n",
       "    </tr>\n",
       "  </thead>\n",
       "  <tbody>\n",
       "    <tr>\n",
       "      <th>0</th>\n",
       "      <td>0.589615</td>\n",
       "      <td>0.678008</td>\n",
       "      <td>0.584199</td>\n",
       "      <td>0.685125</td>\n",
       "      <td>1</td>\n",
       "    </tr>\n",
       "    <tr>\n",
       "      <th>1</th>\n",
       "      <td>0.580050</td>\n",
       "      <td>0.684102</td>\n",
       "      <td>0.612125</td>\n",
       "      <td>0.674531</td>\n",
       "      <td>2</td>\n",
       "    </tr>\n",
       "    <tr>\n",
       "      <th>2</th>\n",
       "      <td>0.579747</td>\n",
       "      <td>0.685328</td>\n",
       "      <td>0.585767</td>\n",
       "      <td>0.680313</td>\n",
       "      <td>3</td>\n",
       "    </tr>\n",
       "    <tr>\n",
       "      <th>3</th>\n",
       "      <td>0.576417</td>\n",
       "      <td>0.687016</td>\n",
       "      <td>0.576475</td>\n",
       "      <td>0.685438</td>\n",
       "      <td>4</td>\n",
       "    </tr>\n",
       "    <tr>\n",
       "      <th>4</th>\n",
       "      <td>0.574306</td>\n",
       "      <td>0.687969</td>\n",
       "      <td>0.572311</td>\n",
       "      <td>0.689219</td>\n",
       "      <td>5</td>\n",
       "    </tr>\n",
       "    <tr>\n",
       "      <th>5</th>\n",
       "      <td>0.573700</td>\n",
       "      <td>0.689484</td>\n",
       "      <td>0.574454</td>\n",
       "      <td>0.689906</td>\n",
       "      <td>6</td>\n",
       "    </tr>\n",
       "    <tr>\n",
       "      <th>6</th>\n",
       "      <td>0.573083</td>\n",
       "      <td>0.689609</td>\n",
       "      <td>0.571243</td>\n",
       "      <td>0.690531</td>\n",
       "      <td>7</td>\n",
       "    </tr>\n",
       "    <tr>\n",
       "      <th>7</th>\n",
       "      <td>0.571937</td>\n",
       "      <td>0.690766</td>\n",
       "      <td>0.572728</td>\n",
       "      <td>0.688875</td>\n",
       "      <td>8</td>\n",
       "    </tr>\n",
       "    <tr>\n",
       "      <th>8</th>\n",
       "      <td>0.572041</td>\n",
       "      <td>0.690086</td>\n",
       "      <td>0.572413</td>\n",
       "      <td>0.689875</td>\n",
       "      <td>9</td>\n",
       "    </tr>\n",
       "    <tr>\n",
       "      <th>9</th>\n",
       "      <td>0.572322</td>\n",
       "      <td>0.690852</td>\n",
       "      <td>0.570947</td>\n",
       "      <td>0.691906</td>\n",
       "      <td>10</td>\n",
       "    </tr>\n",
       "    <tr>\n",
       "      <th>10</th>\n",
       "      <td>0.571716</td>\n",
       "      <td>0.690945</td>\n",
       "      <td>0.570657</td>\n",
       "      <td>0.693625</td>\n",
       "      <td>11</td>\n",
       "    </tr>\n",
       "    <tr>\n",
       "      <th>11</th>\n",
       "      <td>0.571443</td>\n",
       "      <td>0.690828</td>\n",
       "      <td>0.569617</td>\n",
       "      <td>0.691750</td>\n",
       "      <td>12</td>\n",
       "    </tr>\n",
       "    <tr>\n",
       "      <th>12</th>\n",
       "      <td>0.570831</td>\n",
       "      <td>0.692547</td>\n",
       "      <td>0.571190</td>\n",
       "      <td>0.691188</td>\n",
       "      <td>13</td>\n",
       "    </tr>\n",
       "    <tr>\n",
       "      <th>13</th>\n",
       "      <td>0.570709</td>\n",
       "      <td>0.691563</td>\n",
       "      <td>0.571110</td>\n",
       "      <td>0.692531</td>\n",
       "      <td>14</td>\n",
       "    </tr>\n",
       "    <tr>\n",
       "      <th>14</th>\n",
       "      <td>0.570957</td>\n",
       "      <td>0.691156</td>\n",
       "      <td>0.575896</td>\n",
       "      <td>0.691656</td>\n",
       "      <td>15</td>\n",
       "    </tr>\n",
       "    <tr>\n",
       "      <th>15</th>\n",
       "      <td>0.570306</td>\n",
       "      <td>0.692898</td>\n",
       "      <td>0.576843</td>\n",
       "      <td>0.687375</td>\n",
       "      <td>16</td>\n",
       "    </tr>\n",
       "  </tbody>\n",
       "</table>\n",
       "</div>"
      ],
      "text/plain": [
       "    train_loss  train_Accuracy  val_loss  val_Accuracy  epoch\n",
       "0     0.589615        0.678008  0.584199      0.685125      1\n",
       "1     0.580050        0.684102  0.612125      0.674531      2\n",
       "2     0.579747        0.685328  0.585767      0.680313      3\n",
       "3     0.576417        0.687016  0.576475      0.685438      4\n",
       "4     0.574306        0.687969  0.572311      0.689219      5\n",
       "5     0.573700        0.689484  0.574454      0.689906      6\n",
       "6     0.573083        0.689609  0.571243      0.690531      7\n",
       "7     0.571937        0.690766  0.572728      0.688875      8\n",
       "8     0.572041        0.690086  0.572413      0.689875      9\n",
       "9     0.572322        0.690852  0.570947      0.691906     10\n",
       "10    0.571716        0.690945  0.570657      0.693625     11\n",
       "11    0.571443        0.690828  0.569617      0.691750     12\n",
       "12    0.570831        0.692547  0.571190      0.691188     13\n",
       "13    0.570709        0.691563  0.571110      0.692531     14\n",
       "14    0.570957        0.691156  0.575896      0.691656     15\n",
       "15    0.570306        0.692898  0.576843      0.687375     16"
      ]
     },
     "execution_count": 11,
     "metadata": {},
     "output_type": "execute_result"
    }
   ],
   "source": [
    "train_model(\n",
    "    classify_model, optimizer,\n",
    "    loss_fn, metrics_dict=metric_dict,\n",
    "    train_dataloader=train_dataloader, val_dataloader=val_dataloader,\n",
    "    monitor=\"val_Accuracy\", mode=\"max\",\n",
    "    epochs=50\n",
    "    )"
   ]
  },
  {
   "cell_type": "code",
   "execution_count": 12,
   "metadata": {},
   "outputs": [],
   "source": [
    "from analysis import predict"
   ]
  },
  {
   "cell_type": "code",
   "execution_count": 13,
   "metadata": {},
   "outputs": [
    {
     "name": "stderr",
     "output_type": "stream",
     "text": [
      "100%|██████████| 125/125 [00:00<00:00, 427.40it/s]\n"
     ]
    },
    {
     "name": "stdout",
     "output_type": "stream",
     "text": [
      "0.725835623046875\n"
     ]
    },
    {
     "data": {
      "image/png": "[encoded data removed]",
      "text/plain": [
       "<Figure size 640x480 with 1 Axes>"
      ]
     },
     "metadata": {},
     "output_type": "display_data"
    }
   ],
   "source": [
    "targets, predictions = predict(classify_model, val_dataloader)\n",
    "from analysis import calculate_auc\n",
    "from visualize import plot_roc_curve\n",
    "fpr, tpr, auc_roc = calculate_auc(targets, predictions)\n",
    "print(auc_roc)\n",
    "fpr_dict[str(sig_lambda)] = fpr\n",
    "tpr_dict[str(sig_lambda)] = tpr\n",
    "auc_dict[str(sig_lambda)] = auc_roc\n",
    "plot_roc_curve(fpr_dict, tpr_dict, auc_dict, \"ROC Curve\")"
   ]
  },
  {
   "cell_type": "markdown",
   "metadata": {},
   "source": [
    "# Test Statistics"
   ]
  },
  {
   "cell_type": "code",
   "execution_count": 14,
   "metadata": {},
   "outputs": [],
   "source": [
    "import analysis\n",
    "import importlib\n",
    "importlib.reload(analysis)\n",
    "from analysis import Bootstrap_Permutation"
   ]
  },
  {
   "cell_type": "code",
   "execution_count": 15,
   "metadata": {},
   "outputs": [],
   "source": [
    "bootstrap_permutation = Bootstrap_Permutation(X2[:,:,:3], W2[:,:,:3], classify_model, pi, normalizer=None)"
   ]
  },
  {
   "cell_type": "code",
   "execution_count": 16,
   "metadata": {},
   "outputs": [
    {
     "name": "stderr",
     "output_type": "stream",
     "text": [
      "100%|██████████| 10000/10000 [08:10<00:00, 20.40it/s]\n",
      "100%|██████████| 10000/10000 [08:07<00:00, 20.50it/s]\n"
     ]
    }
   ],
   "source": [
    "lrt_null_bootstarp, auc_null_bootstarp, mce_null_bootstarp = bootstrap_permutation.bootstrap(10000)\n",
    "lrt_null_permutation, auc_null_permutation, mce_null_permutation = bootstrap_permutation.permutation(10000)"
   ]
  },
  {
   "cell_type": "code",
   "execution_count": 17,
   "metadata": {},
   "outputs": [
    {
     "data": {
      "image/png": "[encoded data removed]",
      "text/plain": [
       "<Figure size 640x480 with 1 Axes>"
      ]
     },
     "metadata": {},
     "output_type": "display_data"
    }
   ],
   "source": [
    "plt.hist(mce_null_bootstarp, bins=50, alpha=0.5, label=\"bootstrap p value = {}\".format(bootstrap_permutation.mce_p_bootstrap))\n",
    "plt.hist(mce_null_permutation, bins=50, alpha=0.5, label=\"permutation p value = {}\".format(bootstrap_permutation.mce_p_permutation))\n",
    "plt.axvline(bootstrap_permutation.mce_exp, color='r', label=\"exp\")\n",
    "plt.legend()\n",
    "plt.title(\"MCE Null Distribution lambda = {}\".format(sig_lambda))\n",
    "plt.show()"
   ]
  },
  {
   "cell_type": "code",
   "execution_count": 18,
   "metadata": {},
   "outputs": [
    {
     "data": {
      "image/png": "[encoded data removed]",
      "text/plain": [
       "<Figure size 640x480 with 1 Axes>"
      ]
     },
     "metadata": {},
     "output_type": "display_data"
    }
   ],
   "source": [
    "plt.hist(lrt_null_bootstarp, bins=50, alpha=0.5, label=\"bootstrap p value = {}\".format(bootstrap_permutation.lrt_p_bootstrap))\n",
    "plt.hist(lrt_null_permutation, bins=50, alpha=0.5, label=\"permutation p value = {}\".format(bootstrap_permutation.lrt_p_permutation))\n",
    "plt.axvline(bootstrap_permutation.lrt_exp, color='r', label=\"exp\")\n",
    "plt.legend()\n",
    "plt.title(\"LRT Null Distribution lambda = {}\".format(sig_lambda))\n",
    "plt.show()"
   ]
  },
  {
   "cell_type": "code",
   "execution_count": 19,
   "metadata": {},
   "outputs": [
    {
     "data": {
      "image/png": "[encoded data removed]",
      "text/plain": [
       "<Figure size 640x480 with 1 Axes>"
      ]
     },
     "metadata": {},
     "output_type": "display_data"
    }
   ],
   "source": [
    "plt.hist(auc_null_bootstarp, bins=50, alpha=0.5, label=\"bootstrap p value = {}\".format(bootstrap_permutation.auc_p_bootstrap))\n",
    "plt.hist(auc_null_permutation, bins=50, alpha=0.5, label=\"permutation p value = {}\".format(bootstrap_permutation.auc_p_permutation))\n",
    "plt.axvline(bootstrap_permutation.auc_exp, color='r', label=\"exp\")\n",
    "plt.legend()\n",
    "plt.title(\"AUC Null Distribution lambda = {}\".format(sig_lambda))\n",
    "plt.show()"
   ]
  },
  {
   "cell_type": "markdown",
   "metadata": {},
   "source": [
    "# Estimate Signal Strength"
   ]
  },
  {
   "cell_type": "code",
   "execution_count": 20,
   "metadata": {},
   "outputs": [],
   "source": [
    "from analysis import LambdaEstimator"
   ]
  },
  {
   "cell_type": "code",
   "execution_count": 21,
   "metadata": {},
   "outputs": [
    {
     "name": "stdout",
     "output_type": "stream",
     "text": [
      "estimated lambda: 0.4802727272727273\n",
      "beta 0 = -0.6544510805165363, beta 1 = 0\n",
      "last bin height: 0.5197272727272727\n"
     ]
    },
    {
     "data": {
      "image/png": "[encoded data removed]",
      "text/plain": [
       "<Figure size 640x480 with 1 Axes>"
      ]
     },
     "metadata": {},
     "output_type": "display_data"
    }
   ],
   "source": [
    "lambda_estimator = LambdaEstimator(X2[:,:,:3], W2[:,:,:3], classify_model, T=0.5, n_bins=20, normalizer=None)\n",
    "print(\"estimated lambda:\", lambda_estimator.estimated_lambda)\n",
    "print(\"beta 0 = {}, beta 1 = {}\".format(lambda_estimator.beta0, lambda_estimator.beta1))\n",
    "print(\"last bin height:\", lambda_estimator.estimated_H_t[-1])\n",
    "plt.hist(lambda_estimator.rho_W, bins=lambda_estimator.bins, alpha=0.5, edgecolor='black', density=True)\n",
    "start_idx = lambda_estimator.fit_start_idx\n",
    "plt.plot(lambda_estimator.bins[start_idx:], lambda_estimator.estimated_H_t, label=\"Estimated\")\n",
    "plt.plot(lambda_estimator.bins[1:], lambda_estimator.H_t, '*',label=\"True\")\n",
    "plt.legend()\n",
    "plt.title(\"Estimated λ = {:.2f}, true λ = {}\".format(lambda_estimator.estimated_lambda, sig_lambda))\n",
    "plt.show()"
   ]
  },
  {
   "cell_type": "markdown",
   "metadata": {},
   "source": [
    "# Bootstrapped Uncertainty Intervals for λ"
   ]
  },
  {
   "cell_type": "code",
   "execution_count": 22,
   "metadata": {},
   "outputs": [],
   "source": [
    "lambda_mean_dict = {}\n",
    "lambda_std_dict = {}\n",
    "\n",
    "lrt_p_permutation_dict = {}\n",
    "lrt_p_bootstrap_dict = {}\n",
    "auc_p_permutation_dict = {}\n",
    "auc_p_bootstrap_dict = {}\n",
    "mce_p_permutation_dict = {}\n",
    "mce_p_bootstrap_dict = {}"
   ]
  },
  {
   "cell_type": "code",
   "execution_count": 23,
   "metadata": {},
   "outputs": [],
   "source": [
    "import importlib\n",
    "import classify\n",
    "import analysis\n",
    "importlib.reload(classify)\n",
    "importlib.reload(analysis)\n",
    "from classify import train_model\n",
    "from analysis import Bootstrap_Permutation\n",
    "opt_train_model  = torch.compile(train_model)"
   ]
  },
  {
   "cell_type": "code",
   "execution_count": 29,
   "metadata": {},
   "outputs": [
    {
     "data": {
      "text/plain": [
       "BaselineTransformer(\n",
       "  (particle_embedding): Linear(in_features=3, out_features=16, bias=True)\n",
       "  (pos_encoder): ParticlePositionalEncoding()\n",
       "  (transformer_encoder): TransformerEncoder(\n",
       "    (layers): ModuleList(\n",
       "      (0-3): 4 x TransformerEncoderLayer(\n",
       "        (self_attn): MultiheadAttention(\n",
       "          (out_proj): NonDynamicallyQuantizableLinear(in_features=16, out_features=16, bias=True)\n",
       "        )\n",
       "        (linear1): Linear(in_features=16, out_features=256, bias=True)\n",
       "        (dropout): Dropout(p=0.1, inplace=False)\n",
       "        (linear2): Linear(in_features=256, out_features=16, bias=True)\n",
       "        (norm1): LayerNorm((16,), eps=1e-05, elementwise_affine=True)\n",
       "        (norm2): LayerNorm((16,), eps=1e-05, elementwise_affine=True)\n",
       "        (dropout1): Dropout(p=0.1, inplace=False)\n",
       "        (dropout2): Dropout(p=0.1, inplace=False)\n",
       "      )\n",
       "    )\n",
       "  )\n",
       "  (output_layer): Linear(in_features=304, out_features=1, bias=True)\n",
       "  (sigmoid): Sigmoid()\n",
       ")"
      ]
     },
     "execution_count": 29,
     "metadata": {},
     "output_type": "execute_result"
    }
   ],
   "source": [
    "\n",
    "classify_model = BaselineTransformer(feature_size, embed_size, num_heads, hidden_dim, num_layers)\n",
    "classify_model.to(device)"
   ]
  },
  {
   "cell_type": "code",
   "execution_count": 32,
   "metadata": {},
   "outputs": [
    {
     "name": "stdout",
     "output_type": "stream",
     "text": [
      "<<<<<< val_Accuracy without improvement in 5 epoch, early stopping >>>>>>\n",
      "<<<<<< val_Accuracy without improvement in 5 epoch, early stopping >>>>>>\n",
      "<<<<<< val_Accuracy without improvement in 5 epoch, early stopping >>>>>>\n",
      "<<<<<< val_Accuracy without improvement in 5 epoch, early stopping >>>>>>\n",
      "<<<<<< val_Accuracy without improvement in 5 epoch, early stopping >>>>>>\n",
      "<<<<<< val_Accuracy without improvement in 5 epoch, early stopping >>>>>>\n",
      "<<<<<< val_Accuracy without improvement in 5 epoch, early stopping >>>>>>\n",
      "<<<<<< val_Accuracy without improvement in 5 epoch, early stopping >>>>>>\n",
      "<<<<<< val_Accuracy without improvement in 5 epoch, early stopping >>>>>>\n",
      "<<<<<< val_Accuracy without improvement in 5 epoch, early stopping >>>>>>\n",
      "sig_lambda: 0 estimated lambda mean: 0.014012442255954527 estimated lambda std: 0.014663786008225464\n",
      "<<<<<< val_Accuracy without improvement in 5 epoch, early stopping >>>>>>\n"
     ]
    }
   ],
   "source": [
    "n_bootstrap = 10\n",
    "\n",
    "\n",
    "test_ratio=0.2\n",
    "val_ratio = 0.2\n",
    "n = 100000\n",
    "n_null = 1000\n",
    "\n",
    "# test_signal = \"neutral_boson\"\n",
    "# test_signal = \"leptoquark\"\n",
    "# test_signal = \"neutral_Higgs\"\n",
    "test_signal = \"charged_Higgs\"\n",
    "significance = 0.05\n",
    "\n",
    "\n",
    "test_lambdas = [0, 0.01, 0.05, 0.1, 0.2, 0.3, 0.4, 0.5]\n",
    "for i in range(len(test_lambdas)):\n",
    "    sig_lambda = test_lambdas[i]\n",
    "\n",
    "    estimated_lambdas = np.zeros(n_bootstrap)\n",
    "\n",
    "    lrt_permutation_power = 0\n",
    "    lrt_bootstrap_power = 0\n",
    "    auc_permutation_power = 0\n",
    "    auc_bootstrap_power = 0\n",
    "    mce_permutation_power = 0\n",
    "    mce_bootstrap_power = 0\n",
    "    for j in range(n_bootstrap):\n",
    "        exp_events, bkg_events = create_exp_bkg_events(events['SM'], events[test_signal], sig_lambda, n)\n",
    "        X1, X2, W1, W2 = train_test_split(exp_events, bkg_events, test_ratio)\n",
    "        train_dataloader, val_dataloader = get_dataloaders(X1[:,:,:3], W1[:,:,:3], val_ratio, None)\n",
    "\n",
    "        classify_model = BaselineTransformer(feature_size, embed_size, num_heads, hidden_dim, num_layers)\n",
    "        classify_model.to(device)\n",
    "        optimizer = torch.optim.Adam(classify_model.parameters(), lr=1e-3, weight_decay=1e-5)\n",
    "        loss_fn = nn.BCELoss()\n",
    "        acc_metric = BinaryACCUpdater()\n",
    "        metric_dict = {\"Accuracy\": acc_metric}\n",
    "\n",
    "        train_model(\n",
    "            classify_model, optimizer,\n",
    "            loss_fn, metrics_dict=metric_dict,\n",
    "            train_dataloader=train_dataloader, val_dataloader=val_dataloader,\n",
    "            monitor=\"val_Accuracy\", mode=\"max\",\n",
    "            epochs=50,\n",
    "            verbose=False\n",
    "            )\n",
    "        \n",
    "        bootstrap_permutation = Bootstrap_Permutation(X2[:,:,:3], W2[:,:,:3], classify_model, pi, None)\n",
    "        _, _, _ = bootstrap_permutation.bootstrap(n_null, verbose=False)\n",
    "        _, _, _ = bootstrap_permutation.permutation(n_null, verbose=False)\n",
    "        if bootstrap_permutation.lrt_p_permutation < significance:\n",
    "            lrt_permutation_power += 1\n",
    "        if bootstrap_permutation.lrt_p_bootstrap < significance:\n",
    "            lrt_bootstrap_power += 1\n",
    "        if bootstrap_permutation.auc_p_permutation < significance:\n",
    "            auc_permutation_power += 1\n",
    "        if bootstrap_permutation.auc_p_bootstrap < significance:\n",
    "            auc_bootstrap_power += 1\n",
    "        if bootstrap_permutation.mce_p_permutation < significance:\n",
    "            mce_permutation_power += 1\n",
    "        if bootstrap_permutation.mce_p_bootstrap < significance:\n",
    "            mce_bootstrap_power += 1\n",
    "\n",
    "        lambda_estimator = LambdaEstimator(X2[:,:,:3], W2[:,:,:3], classify_model, T=0.5, n_bins=20, normalizer=None)\n",
    "        estimated_lambdas[j] = lambda_estimator.estimated_lambda\n",
    "    print(\"sig_lambda:\", sig_lambda, \"estimated lambda mean:\", estimated_lambdas.mean(), \"estimated lambda std:\", estimated_lambdas.std())\n",
    "    lambda_mean_dict[str(sig_lambda)] = estimated_lambdas.mean()\n",
    "    lambda_std_dict[str(sig_lambda)] = estimated_lambdas.std(ddof = 1)\n",
    "    lrt_p_permutation_dict[str(sig_lambda)] = lrt_permutation_power\n",
    "    lrt_p_bootstrap_dict[str(sig_lambda)] = lrt_bootstrap_power\n",
    "    auc_p_permutation_dict[str(sig_lambda)] = auc_permutation_power\n",
    "    auc_p_bootstrap_dict[str(sig_lambda)] = auc_bootstrap_power\n",
    "    mce_p_permutation_dict[str(sig_lambda)] = mce_permutation_power\n",
    "    mce_p_bootstrap_dict[str(sig_lambda)] = mce_bootstrap_power\n"
   ]
  },
  {
   "cell_type": "code",
   "execution_count": null,
   "metadata": {},
   "outputs": [],
   "source": []
  }
 ],
 "metadata": {
  "kernelspec": {
   "display_name": "ad",
   "language": "python",
   "name": "python3"
  },
  "language_info": {
   "codemirror_mode": {
    "name": "ipython",
    "version": 3
   },
   "file_extension": ".py",
   "mimetype": "text/x-python",
   "name": "python",
   "nbconvert_exporter": "python",
   "pygments_lexer": "ipython3",
   "version": "3.11.8"
  }
 },
 "nbformat": 4,
 "nbformat_minor": 2
}
