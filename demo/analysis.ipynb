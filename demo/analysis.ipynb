{
 "cells": [
  {
   "cell_type": "code",
   "execution_count": 1,
   "metadata": {},
   "outputs": [],
   "source": [
    "import torch\n",
    "from torch import nn\n",
    "import numpy as np\n",
    "import sys\n",
    "import os\n",
    "import pandas as pd\n",
    "from torch.utils.data import Dataset, DataLoader\n",
    "from tqdm import tqdm\n",
    "\n",
    "\n",
    "sys.path.append(\"..\")\n",
    "from model import ParticleEventTransformer\n",
    "from data import get_database_path, get_h5_files, read_h5_file, select_events\n",
    "from utils import load_toml_config\n",
    "\n",
    "\n",
    "device = \"cuda\" if torch.cuda.is_available() else \"mps\" if sys.platform == \"darwin\" else \"cpu\"\n"
   ]
  },
  {
   "cell_type": "code",
   "execution_count": 2,
   "metadata": {},
   "outputs": [],
   "source": [
    "EMD_config = load_toml_config(\"EMD\")\n",
    "particle_type_scale = EMD_config['particle_type_scale']"
   ]
  },
  {
   "cell_type": "markdown",
   "metadata": {},
   "source": [
    "# Load raw events"
   ]
  },
  {
   "cell_type": "code",
   "execution_count": 3,
   "metadata": {},
   "outputs": [
    {
     "name": "stdout",
     "output_type": "stream",
     "text": [
      "dict_keys(['SM', 'neutral_boson', 'leptoquark', 'neutral_Higgs', 'charged_Higgs'])\n"
     ]
    }
   ],
   "source": [
    "files = load_toml_config(\"file\")\n",
    "database_path = get_database_path()\n",
    "bkg_files, sig_files = get_h5_files()\n",
    "\n",
    "print(files.keys())\n",
    "bkg = read_h5_file(database_path, files[\"SM\"])\n",
    "# SM processes\n",
    "\n",
    "neutral_boson = read_h5_file(database_path, files[\"neutral_boson\"])\n",
    "# A neutral scalar boson (A) with mass 50 GeV, decaying to two off-shell Z bosons, each forced to decay to two leptons: A → 4l\n",
    "\n",
    "leptoquark = read_h5_file(database_path, files[\"leptoquark\"])\n",
    "# A leptoquark (LQ) with mass 80 GeV, decaying to a b quark and a τ lepton24\n",
    "\n",
    "neutral_Higgs = read_h5_file(database_path, files[\"neutral_Higgs\"])\n",
    "# A scalar boson with mass 60 GeV, decaying to two tau leptons: h0→ ττ\n",
    "\n",
    "charged_Higgs = read_h5_file(database_path, files[\"charged_Higgs\"])\n",
    "# A charged scalar boson with mass 60 GeV, decaying to a tau lepton and a neutrino"
   ]
  },
  {
   "cell_type": "markdown",
   "metadata": {},
   "source": [
    "# Load embedding model"
   ]
  },
  {
   "cell_type": "code",
   "execution_count": 4,
   "metadata": {},
   "outputs": [
    {
     "name": "stdout",
     "output_type": "stream",
     "text": [
      "{'feature_size': 3, 'embed_size': 16, 'num_heads': 8, 'num_layers': 4, 'hidden_dim': 256, 'output_dim': 4}\n"
     ]
    },
    {
     "name": "stderr",
     "output_type": "stream",
     "text": [
      "/home/desmondhe/anaconda3/envs/ad/lib/python3.11/site-packages/torch/nn/modules/transformer.py:286: UserWarning: enable_nested_tensor is True, but self.use_nested_tensor is False because encoder_layer.self_attn.batch_first was not True(use batch_first for better inference performance)\n",
      "  warnings.warn(f\"enable_nested_tensor is True, but self.use_nested_tensor is False because {why_not_sparsity_fast_path}\")\n"
     ]
    }
   ],
   "source": [
    "model_hyper_parameters = load_toml_config(\"Transformer\")\n",
    "print(model_hyper_parameters)\n",
    "feature_size = model_hyper_parameters[\"feature_size\"]\n",
    "embed_size = model_hyper_parameters[\"embed_size\"]\n",
    "num_heads = model_hyper_parameters[\"num_heads\"]\n",
    "num_layers = model_hyper_parameters[\"num_layers\"]\n",
    "hidden_dim = model_hyper_parameters[\"hidden_dim\"]\n",
    "output_dim = model_hyper_parameters[\"output_dim\"]\n",
    "\n",
    "embedding_model = ParticleEventTransformer(feature_size, embed_size, num_heads, hidden_dim, output_dim, num_layers)"
   ]
  },
  {
   "cell_type": "markdown",
   "metadata": {},
   "source": [
    "# Embed events"
   ]
  },
  {
   "cell_type": "code",
   "execution_count": 5,
   "metadata": {},
   "outputs": [],
   "source": [
    "from analysis import inference"
   ]
  },
  {
   "cell_type": "code",
   "execution_count": 6,
   "metadata": {},
   "outputs": [],
   "source": [
    "from data import EventDataset"
   ]
  },
  {
   "cell_type": "code",
   "execution_count": 7,
   "metadata": {},
   "outputs": [],
   "source": [
    "infer_test_num = 1000000\n",
    "bkg_infer_test = bkg[:infer_test_num]\n",
    "infer_dataset = EventDataset(bkg_infer_test)\n",
    "infer_dataloader = DataLoader(infer_dataset, batch_size=256, num_workers=16, prefetch_factor=5)\n",
    "\n",
    "neutral_boson_infer_test = neutral_boson[:infer_test_num]\n",
    "neutral_boson_infer_dataset = EventDataset(neutral_boson_infer_test)\n",
    "neutral_boson_infer_dataloader = DataLoader(neutral_boson_infer_dataset, batch_size=256, num_workers=16, prefetch_factor=5)\n",
    "\n",
    "leptoquark_infer_test = leptoquark[:infer_test_num]\n",
    "leptoquark_infer_dataset = EventDataset(leptoquark_infer_test)\n",
    "leptoquark_infer_dataloader = DataLoader(leptoquark_infer_dataset, batch_size=256, num_workers=16, prefetch_factor=5)\n",
    "\n",
    "neutral_Higgs_infer_test = neutral_Higgs[:infer_test_num]\n",
    "neutral_Higgs_infer_dataset = EventDataset(neutral_Higgs_infer_test)\n",
    "neutral_Higgs_infer_dataloader = DataLoader(neutral_Higgs_infer_dataset, batch_size=256, num_workers=16, prefetch_factor=5)\n",
    "\n",
    "charged_Higgs_infer_test = charged_Higgs[:infer_test_num]\n",
    "charged_Higgs_infer_dataset = EventDataset(charged_Higgs_infer_test)\n",
    "charged_Higgs_infer_dataloader = DataLoader(charged_Higgs_infer_dataset, batch_size=256, num_workers=16, prefetch_factor=5)"
   ]
  },
  {
   "cell_type": "code",
   "execution_count": 8,
   "metadata": {},
   "outputs": [
    {
     "name": "stderr",
     "output_type": "stream",
     "text": [
      "100%|██████████| 3907/3907 [00:08<00:00, 444.78it/s]"
     ]
    },
    {
     "name": "stdout",
     "output_type": "stream",
     "text": [
      "(1000000, 4)\n"
     ]
    },
    {
     "name": "stderr",
     "output_type": "stream",
     "text": [
      "\n"
     ]
    }
   ],
   "source": [
    "embedding_model.load_state_dict(torch.load(os.path.join(\"..\", \"model\",\"emb_dim{}_type_scale{}.pt\".format(output_dim, particle_type_scale))))\n",
    "embedding_model.to(device)\n",
    "bkg_embed_points = inference(embedding_model, infer_dataloader, embed_dim=output_dim)\n",
    "print(bkg_embed_points.shape)"
   ]
  },
  {
   "cell_type": "code",
   "execution_count": 9,
   "metadata": {},
   "outputs": [
    {
     "name": "stderr",
     "output_type": "stream",
     "text": [
      "100%|██████████| 219/219 [00:01<00:00, 166.25it/s]\n",
      "100%|██████████| 1331/1331 [00:03<00:00, 379.29it/s]\n",
      "100%|██████████| 2701/2701 [00:06<00:00, 430.40it/s]\n",
      "100%|██████████| 2970/2970 [00:06<00:00, 433.98it/s]"
     ]
    },
    {
     "name": "stdout",
     "output_type": "stream",
     "text": [
      "(55969, 4)\n",
      "(340544, 4)\n",
      "(691283, 4)\n",
      "(760272, 4)\n"
     ]
    },
    {
     "name": "stderr",
     "output_type": "stream",
     "text": [
      "\n"
     ]
    }
   ],
   "source": [
    "neutral_boson_embed_points = inference(embedding_model, neutral_boson_infer_dataloader, embed_dim=output_dim)\n",
    "leptoquark_embed_points = inference(embedding_model, leptoquark_infer_dataloader, embed_dim=output_dim)\n",
    "neutral_Higgs_embed_points = inference(embedding_model, neutral_Higgs_infer_dataloader, embed_dim=output_dim)\n",
    "charged_Higgs_embed_points = inference(embedding_model, charged_Higgs_infer_dataloader, embed_dim=output_dim)\n",
    "print(neutral_boson_embed_points.shape)\n",
    "print(leptoquark_embed_points.shape)\n",
    "print(neutral_Higgs_embed_points.shape)\n",
    "print(charged_Higgs_embed_points.shape)"
   ]
  },
  {
   "cell_type": "code",
   "execution_count": 10,
   "metadata": {},
   "outputs": [],
   "source": [
    "bkg_max = np.max(bkg_embed_points, axis=0)\n",
    "bkg_min = np.min(bkg_embed_points, axis=0)\n",
    "neutral_boson_max = np.max(neutral_boson_embed_points, axis=0)\n",
    "neutral_boson_min = np.min(neutral_boson_embed_points, axis=0)\n",
    "leptoquark_max = np.max(leptoquark_embed_points, axis=0)\n",
    "leptoquark_min = np.min(leptoquark_embed_points, axis=0)\n",
    "neutral_Higgs_max = np.max(neutral_Higgs_embed_points, axis=0)\n",
    "neutral_Higgs_min = np.min(neutral_Higgs_embed_points, axis=0)\n",
    "charged_Higgs_max = np.max(charged_Higgs_embed_points, axis=0)\n",
    "charged_Higgs_min = np.min(charged_Higgs_embed_points, axis=0)\n",
    "\n",
    "total_max = np.max(np.array([bkg_max, neutral_boson_max, leptoquark_max, neutral_Higgs_max, charged_Higgs_max]), axis=0)\n",
    "total_min = np.min(np.array([bkg_min, neutral_boson_min, leptoquark_min, neutral_Higgs_min, charged_Higgs_min]), axis=0)\n",
    "def max_min_norm(x):\n",
    "    return (x - total_min) / (total_max - total_min)"
   ]
  },
  {
   "cell_type": "code",
   "execution_count": 11,
   "metadata": {},
   "outputs": [
    {
     "name": "stdout",
     "output_type": "stream",
     "text": [
      "[  96.99357097 -146.39087979 -153.85605629  108.39926677]\n"
     ]
    }
   ],
   "source": [
    "total_mean = np.mean(np.concatenate([bkg_embed_points, neutral_boson_embed_points, leptoquark_embed_points, neutral_Higgs_embed_points, charged_Higgs_embed_points]), axis=0)\n",
    "print(total_mean)"
   ]
  },
  {
   "cell_type": "code",
   "execution_count": 12,
   "metadata": {},
   "outputs": [
    {
     "name": "stdout",
     "output_type": "stream",
     "text": [
      "[ 142.22429516 -210.5637264  -216.82394047  151.97081285]\n",
      "[ 107.49868192 -170.3974457  -157.23823675  100.49644183]\n",
      "[  92.40992917 -147.39542323 -141.82567862   92.84759197]\n",
      "[  97.29988844 -146.78354556 -152.84559856  107.3628698 ]\n",
      "[ 38.50199811 -59.40884638 -77.09169267  59.57889759]\n",
      "[39.62446888 46.32809639 53.42689661 45.55258798]\n",
      "[ 58.95394267  93.2374391  102.7732609   66.65062966]\n",
      "[49.01006039 88.06157974 92.52305241 51.4553242 ]\n",
      "[ 73.25371751 113.53638687 114.03525047  72.54167018]\n",
      "[ 80.00088338 128.19388221 131.19922904  82.24994631]\n"
     ]
    }
   ],
   "source": [
    "print(np.mean(bkg_embed_points, axis=0))\n",
    "print(np.mean(neutral_boson_embed_points, axis=0))\n",
    "print(np.mean(leptoquark_embed_points, axis=0))\n",
    "print(np.mean(neutral_Higgs_embed_points, axis=0))\n",
    "print(np.mean(charged_Higgs_embed_points, axis=0))\n",
    "\n",
    "print(np.std(bkg_embed_points, axis=0))\n",
    "print(np.std(neutral_boson_embed_points, axis=0))\n",
    "print(np.std(leptoquark_embed_points, axis=0))\n",
    "print(np.std(neutral_Higgs_embed_points, axis=0))\n",
    "print(np.std(charged_Higgs_embed_points, axis=0))"
   ]
  },
  {
   "cell_type": "markdown",
   "metadata": {},
   "source": [
    "# Split embed points"
   ]
  },
  {
   "cell_type": "code",
   "execution_count": 13,
   "metadata": {},
   "outputs": [],
   "source": [
    "def create_exp_bkg_events(ori_bkg_events, ori_sig_events, sig_lambda, n=100000):\n",
    "    \"\"\"\n",
    "    Create expperiment events by combining pure signal and background events with signal strength lambda, \n",
    "    and return the background events from remaining pure background events.\n",
    "    Background: X = {X1,...,X_mb}, Xi ∼ pb Signal: Y = {Y1,...,Y_ms}, Experimental: W = {W1,...,W_n},\n",
    "    \"\"\"\n",
    "    m_s = int(n * sig_lambda)\n",
    "    m_b = n - m_s\n",
    "    exp_events = np.concatenate((ori_bkg_events[:m_b], ori_sig_events[:m_s]))\n",
    "    np.random.shuffle(exp_events)\n",
    "    bkg_events = ori_bkg_events[m_b:m_b + n]\n",
    "    return exp_events, bkg_events"
   ]
  },
  {
   "cell_type": "code",
   "execution_count": 14,
   "metadata": {},
   "outputs": [],
   "source": [
    "def train_test_split(exp_events, bkg_events, test_ratio=0.2):\n",
    "    \"\"\"\n",
    "    Split background data X = {X1,...,X_mb} into X1 and X2 of sizes m1 and m2 respectively.\n",
    "    Split experimental data W = {W1,...,W_n} into W1 and W2 of sizes n1 and n2 respectively, with n2 = m2.\n",
    "    Will assume n = mb for now.\n",
    "    \"\"\"\n",
    "    n1 = int((1 - test_ratio) * len(exp_events))\n",
    "    m1 = n1\n",
    "    X1 = bkg_events[:m1]\n",
    "    X2 = bkg_events[m1:]\n",
    "    W1 = exp_events[:n1]\n",
    "    W2 = exp_events[n1:]\n",
    "    return X1, X2, W1, W2"
   ]
  },
  {
   "cell_type": "code",
   "execution_count": 15,
   "metadata": {},
   "outputs": [],
   "source": [
    "class ClassifyDataset(Dataset):\n",
    "    def __init__(self, exp_events ,bkg_events):\n",
    "        \"\"\"\n",
    "        Experiment events labeled as 1, background events labeled as 0.\n",
    "        \"\"\"\n",
    "        # Normalize the data\n",
    "        bkg_events = max_min_norm(bkg_events)\n",
    "        exp_events = max_min_norm(exp_events)\n",
    "\n",
    "        bkg_events = torch.from_numpy(bkg_events).float()\n",
    "        exp_events = torch.from_numpy(exp_events).float()\n",
    "        self.events = torch.cat([bkg_events, exp_events], dim=0)\n",
    "        self.labels = torch.cat([torch.zeros(len(bkg_events)), torch.ones(len(exp_events))])\n",
    "    \n",
    "    def __len__(self):\n",
    "        return len(self.events)\n",
    "    \n",
    "    def __getitem__(self, idx):\n",
    "        return self.events[idx], self.labels[idx]"
   ]
  },
  {
   "cell_type": "code",
   "execution_count": 16,
   "metadata": {},
   "outputs": [],
   "source": [
    "def get_dataloaders(X1, W1, val_ratio):\n",
    "    \"\"\"\n",
    "    Get dataloaders for training and validation sets.\n",
    "    \"\"\"\n",
    "    n_train = int((1 - val_ratio) * len(W1))\n",
    "    X1_train = X1[:n_train]\n",
    "    X1_val = X1[n_train:]\n",
    "    W1_train = W1[:n_train]\n",
    "    W1_val = W1[n_train:]\n",
    "    \n",
    "    train_dataset = ClassifyDataset(W1_train, X1_train)\n",
    "    val_dataset = ClassifyDataset(W1_val, X1_val)\n",
    "    train_dataloader = DataLoader(train_dataset, batch_size=32, shuffle=True, pin_memory=True)\n",
    "    val_dataloader = DataLoader(val_dataset, batch_size=256)\n",
    "    return train_dataloader, val_dataloader"
   ]
  },
  {
   "cell_type": "code",
   "execution_count": 17,
   "metadata": {},
   "outputs": [],
   "source": [
    "test_ratio=0.2\n",
    "val_ratio = 0.2\n",
    "sig_lambda = 0.5\n",
    "n = 100000\n",
    "\n",
    "exp_events, bkg_events = create_exp_bkg_events(bkg_embed_points, charged_Higgs_embed_points, sig_lambda, n)\n",
    "X1, X2, W1, W2 = train_test_split(exp_events, bkg_events, test_ratio)\n",
    "n1 = len(W1)\n",
    "m1 = len(X1)\n",
    "n2 = len(W2)\n",
    "m2 = len(X2)\n",
    "train_dataloader, val_dataloader = get_dataloaders(X1, W1, val_ratio)"
   ]
  },
  {
   "cell_type": "markdown",
   "metadata": {},
   "source": [
    "# Classify Model"
   ]
  },
  {
   "cell_type": "code",
   "execution_count": 25,
   "metadata": {},
   "outputs": [],
   "source": [
    "class MLP(nn.Module):\n",
    "    def __init__(self, input_size, hidden_sizes):\n",
    "        super(MLP, self).__init__()\n",
    "        def make_layer(in_size, out_size):\n",
    "            layer = nn.Sequential(\n",
    "                nn.Linear(in_size, out_size),\n",
    "                nn.LeakyReLU(),\n",
    "                # nn.Dropout(0.1)\n",
    "            )\n",
    "            nn.init.kaiming_normal_(layer[0].weight, nonlinearity='leaky_relu')\n",
    "            return layer\n",
    "        self.layers = nn.Sequential(\n",
    "            make_layer(input_size, hidden_sizes[0]),\n",
    "            *[make_layer(hidden_sizes[i], hidden_sizes[i+1]) for i in range(len(hidden_sizes)-1)],\n",
    "            nn.Linear(hidden_sizes[-1], 1),\n",
    "            nn.Sigmoid()\n",
    "        )\n",
    "    \n",
    "\n",
    "    def forward(self, x):\n",
    "        return self.layers(x).reshape(-1)\n",
    "hidden_dim = [8, 16, 16, 16, 8]\n",
    "naive_model = MLP(output_dim, hidden_sizes=hidden_dim)"
   ]
  },
  {
   "cell_type": "code",
   "execution_count": 19,
   "metadata": {},
   "outputs": [],
   "source": [
    "# class Deep(nn.Module):\n",
    "#     def __init__(self):\n",
    "#         super().__init__()\n",
    "#         self.layer1 = nn.Linear(4, 8)\n",
    "#         self.act1 = nn.ReLU()\n",
    "#         self.layer2 = nn.Linear(8, 16)\n",
    "#         self.act2 = nn.ReLU()\n",
    "#         self.layer3 = nn.Linear(16, 16)\n",
    "#         self.act3 = nn.ReLU()\n",
    "#         self.output = nn.Linear(16, 1)\n",
    "#         self.sigmoid = nn.Sigmoid()\n",
    " \n",
    "#     def forward(self, x):\n",
    "#         x = self.act1(self.layer1(x))\n",
    "#         x = self.act2(self.layer2(x))\n",
    "#         x = self.act3(self.layer3(x))\n",
    "#         x = self.sigmoid(self.output(x))\n",
    "#         x = x.squeeze()\n",
    "#         return x\n",
    "\n",
    "# naive_model = Deep()"
   ]
  },
  {
   "cell_type": "markdown",
   "metadata": {},
   "source": [
    "# Train"
   ]
  },
  {
   "cell_type": "code",
   "execution_count": 26,
   "metadata": {},
   "outputs": [],
   "source": [
    "class BinaryACCUpdater(nn.Module):\n",
    "    def __init__(self, threshold=0.5):\n",
    "        super(BinaryACCUpdater, self).__init__()\n",
    "        self.total_acc = 0\n",
    "        self.count = 0\n",
    "        self.threshold = threshold\n",
    "    def forward(self, output, label):\n",
    "        acc = (output > self.threshold).float() == label\n",
    "        mean_acc = acc.float().mean()\n",
    "        self.update(mean_acc)\n",
    "        return mean_acc\n",
    "    def update(self, metric):\n",
    "        self.total_acc += metric\n",
    "        self.count += 1\n",
    "    def compute(self):\n",
    "        return self.total_acc / self.count\n",
    "    def reset(self):\n",
    "        self.total_acc = 0\n",
    "        self.count = 0"
   ]
  },
  {
   "cell_type": "code",
   "execution_count": 27,
   "metadata": {},
   "outputs": [],
   "source": [
    "naive_model.to(device)\n",
    "optimizer = torch.optim.Adam(naive_model.parameters(), lr=1e-3, weight_decay=1e-5)\n",
    "loss_fn = nn.BCELoss()\n",
    "acc_metric = BinaryACCUpdater()\n",
    "metric_dict = {\"Accuracy\": acc_metric}"
   ]
  },
  {
   "cell_type": "code",
   "execution_count": 28,
   "metadata": {},
   "outputs": [],
   "source": [
    "from classify import train_model"
   ]
  },
  {
   "cell_type": "code",
   "execution_count": 29,
   "metadata": {},
   "outputs": [],
   "source": [
    "opt_train_model  = torch.compile(train_model)"
   ]
  },
  {
   "cell_type": "code",
   "execution_count": 30,
   "metadata": {},
   "outputs": [
    {
     "name": "stdout",
     "output_type": "stream",
     "text": [
      "\n",
      "================================================================================2024-05-13 00:24:30\n",
      "Epoch 1 / 50\n",
      "\n",
      "  0%|          | 0/4000 [00:00<?, ?it/s]"
     ]
    },
    {
     "name": "stderr",
     "output_type": "stream",
     "text": [
      "/home/desmondhe/anaconda3/envs/ad/lib/python3.11/site-packages/torch/_inductor/compile_fx.py:140: UserWarning: TensorFloat32 tensor cores for float32 matrix multiplication available but not enabled. Consider setting `torch.set_float32_matmul_precision('high')` for better performance.\n",
      "  warnings.warn(\n"
     ]
    },
    {
     "name": "stdout",
     "output_type": "stream",
     "text": [
      "100%|██████████| 4000/4000 [00:13<00:00, 291.16it/s, train_Accuracy=0.679, train_loss=0.59] \n",
      "100%|██████████| 125/125 [00:02<00:00, 45.75it/s, val_Accuracy=0.682, val_loss=0.583]\n",
      "<<<<<< reach best val_Accuracy : 0.682187557220459 >>>>>>\n",
      "\n",
      "================================================================================2024-05-13 00:24:47\n",
      "Epoch 2 / 50\n",
      "\n",
      "100%|██████████| 4000/4000 [00:07<00:00, 538.54it/s, train_Accuracy=0.683, train_loss=0.584]\n",
      "100%|██████████| 125/125 [00:00<00:00, 647.64it/s, val_Accuracy=0.682, val_loss=0.583]\n",
      "\n",
      "================================================================================2024-05-13 00:24:54\n",
      "Epoch 3 / 50\n",
      "\n",
      "100%|██████████| 4000/4000 [00:07<00:00, 551.34it/s, train_Accuracy=0.683, train_loss=0.583]\n",
      "100%|██████████| 125/125 [00:00<00:00, 578.21it/s, val_Accuracy=0.684, val_loss=0.581]\n",
      "<<<<<< reach best val_Accuracy : 0.6840937733650208 >>>>>>\n",
      "\n",
      "================================================================================2024-05-13 00:25:02\n",
      "Epoch 4 / 50\n",
      "\n",
      "100%|██████████| 4000/4000 [00:07<00:00, 550.34it/s, train_Accuracy=0.684, train_loss=0.583]\n",
      "100%|██████████| 125/125 [00:00<00:00, 349.95it/s, val_Accuracy=0.685, val_loss=0.581]\n",
      "<<<<<< reach best val_Accuracy : 0.6851875185966492 >>>>>>\n",
      "\n",
      "================================================================================2024-05-13 00:25:10\n",
      "Epoch 5 / 50\n",
      "\n",
      "100%|██████████| 4000/4000 [00:07<00:00, 553.89it/s, train_Accuracy=0.684, train_loss=0.583]\n",
      "100%|██████████| 125/125 [00:00<00:00, 641.49it/s, val_Accuracy=0.684, val_loss=0.582]\n",
      "\n",
      "================================================================================2024-05-13 00:25:17\n",
      "Epoch 6 / 50\n",
      "\n",
      "100%|██████████| 4000/4000 [00:07<00:00, 557.35it/s, train_Accuracy=0.684, train_loss=0.582]\n",
      "100%|██████████| 125/125 [00:00<00:00, 561.55it/s, val_Accuracy=0.682, val_loss=0.586]\n",
      "\n",
      "================================================================================2024-05-13 00:25:24\n",
      "Epoch 7 / 50\n",
      "\n",
      "100%|██████████| 4000/4000 [00:07<00:00, 549.64it/s, train_Accuracy=0.684, train_loss=0.582]\n",
      "100%|██████████| 125/125 [00:00<00:00, 630.05it/s, val_Accuracy=0.684, val_loss=0.582]\n",
      "\n",
      "================================================================================2024-05-13 00:25:32\n",
      "Epoch 8 / 50\n",
      "\n",
      "100%|██████████| 4000/4000 [00:07<00:00, 561.88it/s, train_Accuracy=0.684, train_loss=0.582]\n",
      "100%|██████████| 125/125 [00:00<00:00, 621.54it/s, val_Accuracy=0.686, val_loss=0.581]\n",
      "<<<<<< reach best val_Accuracy : 0.6855937838554382 >>>>>>\n",
      "\n",
      "================================================================================2024-05-13 00:25:39\n",
      "Epoch 9 / 50\n",
      "\n",
      "100%|██████████| 4000/4000 [00:07<00:00, 570.44it/s, train_Accuracy=0.684, train_loss=0.582]\n",
      "100%|██████████| 125/125 [00:00<00:00, 558.52it/s, val_Accuracy=0.686, val_loss=0.581]\n",
      "<<<<<< reach best val_Accuracy : 0.6857500076293945 >>>>>>\n",
      "\n",
      "================================================================================2024-05-13 00:25:46\n",
      "Epoch 10 / 50\n",
      "\n",
      "100%|██████████| 4000/4000 [00:07<00:00, 532.77it/s, train_Accuracy=0.685, train_loss=0.582]\n",
      "100%|██████████| 125/125 [00:00<00:00, 696.06it/s, val_Accuracy=0.685, val_loss=0.581]\n",
      "\n",
      "================================================================================2024-05-13 00:25:54\n",
      "Epoch 11 / 50\n",
      "\n",
      "100%|██████████| 4000/4000 [00:07<00:00, 556.33it/s, train_Accuracy=0.684, train_loss=0.582]\n",
      "100%|██████████| 125/125 [00:00<00:00, 344.75it/s, val_Accuracy=0.684, val_loss=0.581]\n",
      "\n",
      "================================================================================2024-05-13 00:26:02\n",
      "Epoch 12 / 50\n",
      "\n",
      "100%|██████████| 4000/4000 [00:07<00:00, 545.28it/s, train_Accuracy=0.685, train_loss=0.582]\n",
      "100%|██████████| 125/125 [00:00<00:00, 579.03it/s, val_Accuracy=0.685, val_loss=0.583]\n",
      "\n",
      "================================================================================2024-05-13 00:26:09\n",
      "Epoch 13 / 50\n",
      "\n",
      "100%|██████████| 4000/4000 [00:06<00:00, 574.49it/s, train_Accuracy=0.684, train_loss=0.582]\n",
      "100%|██████████| 125/125 [00:00<00:00, 608.64it/s, val_Accuracy=0.685, val_loss=0.58] \n",
      "\n",
      "================================================================================2024-05-13 00:26:16\n",
      "Epoch 14 / 50\n",
      "\n",
      "100%|██████████| 4000/4000 [00:07<00:00, 558.43it/s, train_Accuracy=0.684, train_loss=0.582]\n",
      "100%|██████████| 125/125 [00:00<00:00, 638.94it/s, val_Accuracy=0.684, val_loss=0.58]\n",
      "<<<<<< val_Accuracy without improvement in 5 epoch, early stopping >>>>>>\n"
     ]
    },
    {
     "data": {
      "text/html": [
       "<div>\n",
       "<style scoped>\n",
       "    .dataframe tbody tr th:only-of-type {\n",
       "        vertical-align: middle;\n",
       "    }\n",
       "\n",
       "    .dataframe tbody tr th {\n",
       "        vertical-align: top;\n",
       "    }\n",
       "\n",
       "    .dataframe thead th {\n",
       "        text-align: right;\n",
       "    }\n",
       "</style>\n",
       "<table border=\"1\" class=\"dataframe\">\n",
       "  <thead>\n",
       "    <tr style=\"text-align: right;\">\n",
       "      <th></th>\n",
       "      <th>train_loss</th>\n",
       "      <th>train_Accuracy</th>\n",
       "      <th>val_loss</th>\n",
       "      <th>val_Accuracy</th>\n",
       "      <th>epoch</th>\n",
       "    </tr>\n",
       "  </thead>\n",
       "  <tbody>\n",
       "    <tr>\n",
       "      <th>0</th>\n",
       "      <td>0.590087</td>\n",
       "      <td>0.678859</td>\n",
       "      <td>0.582665</td>\n",
       "      <td>0.682188</td>\n",
       "      <td>1</td>\n",
       "    </tr>\n",
       "    <tr>\n",
       "      <th>1</th>\n",
       "      <td>0.583989</td>\n",
       "      <td>0.682930</td>\n",
       "      <td>0.583346</td>\n",
       "      <td>0.682125</td>\n",
       "      <td>2</td>\n",
       "    </tr>\n",
       "    <tr>\n",
       "      <th>2</th>\n",
       "      <td>0.583309</td>\n",
       "      <td>0.682953</td>\n",
       "      <td>0.580906</td>\n",
       "      <td>0.684094</td>\n",
       "      <td>3</td>\n",
       "    </tr>\n",
       "    <tr>\n",
       "      <th>3</th>\n",
       "      <td>0.582899</td>\n",
       "      <td>0.683648</td>\n",
       "      <td>0.581058</td>\n",
       "      <td>0.685188</td>\n",
       "      <td>4</td>\n",
       "    </tr>\n",
       "    <tr>\n",
       "      <th>4</th>\n",
       "      <td>0.582612</td>\n",
       "      <td>0.683844</td>\n",
       "      <td>0.581982</td>\n",
       "      <td>0.684406</td>\n",
       "      <td>5</td>\n",
       "    </tr>\n",
       "    <tr>\n",
       "      <th>5</th>\n",
       "      <td>0.582463</td>\n",
       "      <td>0.683773</td>\n",
       "      <td>0.585691</td>\n",
       "      <td>0.681594</td>\n",
       "      <td>6</td>\n",
       "    </tr>\n",
       "    <tr>\n",
       "      <th>6</th>\n",
       "      <td>0.582380</td>\n",
       "      <td>0.684273</td>\n",
       "      <td>0.581568</td>\n",
       "      <td>0.683688</td>\n",
       "      <td>7</td>\n",
       "    </tr>\n",
       "    <tr>\n",
       "      <th>7</th>\n",
       "      <td>0.582009</td>\n",
       "      <td>0.684008</td>\n",
       "      <td>0.580900</td>\n",
       "      <td>0.685594</td>\n",
       "      <td>8</td>\n",
       "    </tr>\n",
       "    <tr>\n",
       "      <th>8</th>\n",
       "      <td>0.581950</td>\n",
       "      <td>0.684031</td>\n",
       "      <td>0.580823</td>\n",
       "      <td>0.685750</td>\n",
       "      <td>9</td>\n",
       "    </tr>\n",
       "    <tr>\n",
       "      <th>9</th>\n",
       "      <td>0.582002</td>\n",
       "      <td>0.684852</td>\n",
       "      <td>0.580842</td>\n",
       "      <td>0.684781</td>\n",
       "      <td>10</td>\n",
       "    </tr>\n",
       "    <tr>\n",
       "      <th>10</th>\n",
       "      <td>0.582112</td>\n",
       "      <td>0.684484</td>\n",
       "      <td>0.580939</td>\n",
       "      <td>0.684313</td>\n",
       "      <td>11</td>\n",
       "    </tr>\n",
       "    <tr>\n",
       "      <th>11</th>\n",
       "      <td>0.581954</td>\n",
       "      <td>0.684500</td>\n",
       "      <td>0.583235</td>\n",
       "      <td>0.684969</td>\n",
       "      <td>12</td>\n",
       "    </tr>\n",
       "    <tr>\n",
       "      <th>12</th>\n",
       "      <td>0.581873</td>\n",
       "      <td>0.684031</td>\n",
       "      <td>0.580219</td>\n",
       "      <td>0.684656</td>\n",
       "      <td>13</td>\n",
       "    </tr>\n",
       "    <tr>\n",
       "      <th>13</th>\n",
       "      <td>0.582009</td>\n",
       "      <td>0.684266</td>\n",
       "      <td>0.580311</td>\n",
       "      <td>0.684281</td>\n",
       "      <td>14</td>\n",
       "    </tr>\n",
       "  </tbody>\n",
       "</table>\n",
       "</div>"
      ],
      "text/plain": [
       "    train_loss  train_Accuracy  val_loss  val_Accuracy  epoch\n",
       "0     0.590087        0.678859  0.582665      0.682188      1\n",
       "1     0.583989        0.682930  0.583346      0.682125      2\n",
       "2     0.583309        0.682953  0.580906      0.684094      3\n",
       "3     0.582899        0.683648  0.581058      0.685188      4\n",
       "4     0.582612        0.683844  0.581982      0.684406      5\n",
       "5     0.582463        0.683773  0.585691      0.681594      6\n",
       "6     0.582380        0.684273  0.581568      0.683688      7\n",
       "7     0.582009        0.684008  0.580900      0.685594      8\n",
       "8     0.581950        0.684031  0.580823      0.685750      9\n",
       "9     0.582002        0.684852  0.580842      0.684781     10\n",
       "10    0.582112        0.684484  0.580939      0.684313     11\n",
       "11    0.581954        0.684500  0.583235      0.684969     12\n",
       "12    0.581873        0.684031  0.580219      0.684656     13\n",
       "13    0.582009        0.684266  0.580311      0.684281     14"
      ]
     },
     "execution_count": 30,
     "metadata": {},
     "output_type": "execute_result"
    }
   ],
   "source": [
    "opt_train_model(\n",
    "    naive_model, optimizer,\n",
    "    loss_fn, metrics_dict=metric_dict,\n",
    "    train_dataloader=train_dataloader, val_dataloader=val_dataloader,\n",
    "    monitor=\"val_Accuracy\", mode=\"max\",\n",
    "    epochs=50\n",
    "    )"
   ]
  },
  {
   "cell_type": "markdown",
   "metadata": {},
   "source": [
    "# ROC"
   ]
  },
  {
   "cell_type": "code",
   "execution_count": 31,
   "metadata": {},
   "outputs": [],
   "source": [
    "@torch.no_grad()\n",
    "def predict(model, dataloader):\n",
    "    model.eval()\n",
    "    batch_size = dataloader.batch_size\n",
    "    targets = np.zeros(len(dataloader.dataset))\n",
    "    predictions = np.zeros(len(dataloader.dataset))\n",
    "    for i, (features, labels) in enumerate(tqdm(dataloader)):\n",
    "        features = features.to(device)\n",
    "        outputs = model(features)\n",
    "        targets[i * batch_size: (i + 1) * batch_size] = labels.numpy()\n",
    "        predictions[i * batch_size: (i + 1) * batch_size] = outputs.cpu().numpy()\n",
    "    return targets, predictions"
   ]
  },
  {
   "cell_type": "code",
   "execution_count": 32,
   "metadata": {},
   "outputs": [
    {
     "name": "stderr",
     "output_type": "stream",
     "text": [
      "100%|██████████| 125/125 [00:00<00:00, 1134.20it/s]\n"
     ]
    }
   ],
   "source": [
    "targets, predictions = predict(naive_model, val_dataloader)"
   ]
  },
  {
   "cell_type": "code",
   "execution_count": 33,
   "metadata": {},
   "outputs": [],
   "source": [
    "from sklearn.metrics import roc_curve, auc\n",
    "import matplotlib.pyplot as plt"
   ]
  },
  {
   "cell_type": "code",
   "execution_count": 34,
   "metadata": {},
   "outputs": [],
   "source": [
    "def calculate_auc(targets, predictions):\n",
    "    fpr, tpr, thersholds = roc_curve(targets, predictions)\n",
    "    auc_roc = auc(fpr, tpr)\n",
    "    return fpr, tpr, auc_roc"
   ]
  },
  {
   "cell_type": "code",
   "execution_count": 35,
   "metadata": {},
   "outputs": [],
   "source": [
    "def plot_roc_curve(fpr, tpr, auc_roc, title):\n",
    "    plt.plot(fpr, tpr, 'k--', label='ROC (area = {0:.2f})'.format(auc_roc), lw=2)    \n",
    "    plt.xlim([-0.05, 1.05])\n",
    "    plt.ylim([-0.05, 1.05])\n",
    "    plt.xlabel('FPT')\n",
    "    plt.ylabel('TPR') \n",
    "    plt.title(title)\n",
    "    plt.legend(loc=\"lower right\")\n",
    "    plt.show()\n"
   ]
  },
  {
   "cell_type": "code",
   "execution_count": 36,
   "metadata": {},
   "outputs": [
    {
     "data": {
      "image/png": "[encoded data removed]",
      "text/plain": [
       "<Figure size 640x480 with 1 Axes>"
      ]
     },
     "metadata": {},
     "output_type": "display_data"
    }
   ],
   "source": [
    "fpr, tpr, auc_roc = calculate_auc(targets, predictions)\n",
    "plot_roc_curve(fpr, tpr, auc_roc, \"ROC Curve\")"
   ]
  },
  {
   "cell_type": "markdown",
   "metadata": {},
   "source": [
    "# Test statistics"
   ]
  },
  {
   "cell_type": "code",
   "execution_count": 37,
   "metadata": {},
   "outputs": [],
   "source": [
    "class TestDataset(Dataset):\n",
    "    def __init__(self, events):\n",
    "        events = max_min_norm(events)\n",
    "        self.events = torch.from_numpy(events).float()\n",
    "    \n",
    "    def __len__(self):\n",
    "        return len(self.events)\n",
    "    \n",
    "    def __getitem__(self, idx):\n",
    "        return self.events[idx]"
   ]
  },
  {
   "cell_type": "code",
   "execution_count": 46,
   "metadata": {},
   "outputs": [],
   "source": [
    "@torch.no_grad()\n",
    "def h_hat(classifier, W):\n",
    "    classifier.eval()\n",
    "    W_dataset = TestDataset(W)\n",
    "    batch_size = 512\n",
    "    W_dataloader = DataLoader(W_dataset, batch_size=batch_size)\n",
    "    predictions = np.zeros(len(W))\n",
    "    for i, features in enumerate(tqdm(W_dataloader)):\n",
    "        features = features.to(device)\n",
    "        outputs = classifier(features)\n",
    "        predictions[i * batch_size: (i + 1) * batch_size] = outputs.cpu().numpy()\n",
    "    return predictions"
   ]
  },
  {
   "cell_type": "code",
   "execution_count": 47,
   "metadata": {},
   "outputs": [],
   "source": [
    "def lrt(classifier, W):\n",
    "    pi = n1 / (m1 + n1)\n",
    "    h_W = h_hat(classifier, W)\n",
    "    return np.log((1 - pi) / pi) + (1 / n2) * np.sum(np.log(h_W / (1 - h_W)))\n",
    "\n",
    "\n",
    "def auc(classifier, W, X):\n",
    "    h_W = h_hat(classifier, W)\n",
    "    h_X = h_hat(classifier, X)\n",
    "    sum = 0\n",
    "    for w_j in h_W:\n",
    "        for x_i in h_X:\n",
    "            sum += w_j > x_i\n",
    "    return sum / (m2 * n2)\n",
    "    \n",
    "\n",
    "def mce(classifier, W, X):\n",
    "    pi = n1 / (m1 + n1)\n",
    "    h_W = h_hat(classifier, W)\n",
    "    h_X = h_hat(classifier, X)\n",
    "    x_sum = 0\n",
    "    w_sum = 0\n",
    "    for x_i in h_X:\n",
    "        x_sum += x_i > pi\n",
    "    for w_j in h_W:\n",
    "        w_sum += w_j < pi\n",
    "    return 0.5 * ((1/m2) * x_sum + (1/n2) * w_sum)"
   ]
  },
  {
   "cell_type": "code",
   "execution_count": 51,
   "metadata": {},
   "outputs": [
    {
     "name": "stdout",
     "output_type": "stream",
     "text": [
      "CPU times: user 0 ns, sys: 3 µs, total: 3 µs\n",
      "Wall time: 10 µs\n"
     ]
    },
    {
     "name": "stderr",
     "output_type": "stream",
     "text": [
      "100%|██████████| 40/40 [00:00<00:00, 1085.02it/s]"
     ]
    },
    {
     "name": "stdout",
     "output_type": "stream",
     "text": [
      "0.7366602673385082\n"
     ]
    },
    {
     "name": "stderr",
     "output_type": "stream",
     "text": [
      "\n"
     ]
    }
   ],
   "source": [
    "%time\n",
    "print(lrt(naive_model, W2))"
   ]
  },
  {
   "cell_type": "code",
   "execution_count": 52,
   "metadata": {},
   "outputs": [
    {
     "name": "stdout",
     "output_type": "stream",
     "text": [
      "CPU times: user 3 µs, sys: 1e+03 ns, total: 4 µs\n",
      "Wall time: 5.96 µs\n"
     ]
    },
    {
     "name": "stderr",
     "output_type": "stream",
     "text": [
      "100%|██████████| 40/40 [00:00<00:00, 963.65it/s]\n",
      "100%|██████████| 40/40 [00:00<00:00, 1279.83it/s]\n"
     ]
    },
    {
     "name": "stdout",
     "output_type": "stream",
     "text": [
      "0.7207634175\n"
     ]
    }
   ],
   "source": [
    "%time\n",
    "print(auc(naive_model, W2, X2))"
   ]
  },
  {
   "cell_type": "code",
   "execution_count": 49,
   "metadata": {},
   "outputs": [],
   "source": [
    "class Bootstrap_Permutation:\n",
    "    def __init__(self, X2, W2, classifier):\n",
    "        assert len(X2) == len(W2) # Make sure n2= m2\n",
    "        self.m2 = len(X2)\n",
    "        self.n2 = len(W2)\n",
    "\n",
    "        self.X2 = X2\n",
    "        self.W2 = W2\n",
    "        self.union_W2X2 = np.concatenate((self.X2, self.W2))\n",
    "\n",
    "        self.classifier = classifier\n",
    "\n",
    "        self.lrt_exp = lrt(self.classifier, self.W2)\n",
    "        self.auc_exp = auc(self.classifier, self.W2, self.X2)\n",
    "        self.mce_exp = mce(self.classifier, self.W2, self.X2)\n",
    "\n",
    "    def bootstrap(self, n):\n",
    "        lrt_null = np.zeros(n)\n",
    "        auc_null = np.zeros(n)\n",
    "        mce_null = np.zeros(n)\n",
    "        for i in tqdm(range(n)):\n",
    "            lrt_null = lrt(self.classifier, np.random.choice(self.union_W2X2, self.n2))\n",
    "            auc_null = auc(self.classifier, np.random.choice(self.union_W2X2, self.n2), np.random.choice(self.union_W2X2, self.m2))\n",
    "            mce_null = mce(self.classifier, np.random.choice(self.union_W2X2, self.n2), np.random.choice(self.union_W2X2, self.m2))\n",
    "        return lrt_null, auc_null, mce_null\n",
    "    def permutation(self, n):\n",
    "        lrt_null = np.zeros(n)\n",
    "        auc_null = np.zeros(n)\n",
    "        mce_null = np.zeros(n)\n",
    "        sample1 = self.union_W2X2.copy()\n",
    "        sample2 = self.union_W2X2.copy()\n",
    "        np.random.shuffle(sample1)\n",
    "        np.random.shuffle(sample2)\n",
    "        for i in tqdm(range(n)):\n",
    "            lrt_null = lrt(self.classifier, self.union_W2X2[np.random.choice(len(self.union_W2X2), self.n2, replace=False)])\n",
    "            auc_null = auc(self.classifier, sample1[:self.n2], sample1[self.n2:])\n",
    "            mce_null = mce(self.classifier, sample2[:self.n2], sample2[self.n2:])\n",
    "        return lrt_null, auc_null, mce_null"
   ]
  },
  {
   "cell_type": "code",
   "execution_count": 50,
   "metadata": {},
   "outputs": [
    {
     "name": "stderr",
     "output_type": "stream",
     "text": [
      "100%|██████████| 40/40 [00:00<00:00, 1236.74it/s]\n",
      "100%|██████████| 40/40 [00:00<00:00, 1372.52it/s]\n",
      "100%|██████████| 40/40 [00:00<00:00, 1375.63it/s]\n",
      "100%|██████████| 40/40 [00:00<00:00, 815.83it/s]\n",
      "100%|██████████| 40/40 [00:00<00:00, 1273.94it/s]\n"
     ]
    }
   ],
   "source": [
    "bootstrap_permutation = Bootstrap_Permutation(X2, W2, naive_model)"
   ]
  },
  {
   "cell_type": "code",
   "execution_count": 45,
   "metadata": {},
   "outputs": [
    {
     "name": "stderr",
     "output_type": "stream",
     "text": [
      "  3%|▎         | 3/100 [02:01<1:05:14, 40.35s/it]\n"
     ]
    },
    {
     "ename": "KeyboardInterrupt",
     "evalue": "",
     "output_type": "error",
     "traceback": [
      "\u001b[0;31m---------------------------------------------------------------------------\u001b[0m",
      "\u001b[0;31mKeyboardInterrupt\u001b[0m                         Traceback (most recent call last)",
      "Cell \u001b[0;32mIn[45], line 1\u001b[0m\n\u001b[0;32m----> 1\u001b[0m null_dist_bootstrap \u001b[38;5;241m=\u001b[39m bootstrap_permutation\u001b[38;5;241m.\u001b[39mpermutation(\u001b[38;5;241m100\u001b[39m)\n",
      "Cell \u001b[0;32mIn[43], line 36\u001b[0m, in \u001b[0;36mBootstrap_Permutation.permutation\u001b[0;34m(self, n)\u001b[0m\n\u001b[1;32m     34\u001b[0m \u001b[38;5;28;01mfor\u001b[39;00m i \u001b[38;5;129;01min\u001b[39;00m tqdm(\u001b[38;5;28mrange\u001b[39m(n)):\n\u001b[1;32m     35\u001b[0m     lrt_null \u001b[38;5;241m=\u001b[39m lrt(\u001b[38;5;28mself\u001b[39m\u001b[38;5;241m.\u001b[39mclassifier, \u001b[38;5;28mself\u001b[39m\u001b[38;5;241m.\u001b[39munion_W2X2[np\u001b[38;5;241m.\u001b[39mrandom\u001b[38;5;241m.\u001b[39mchoice(\u001b[38;5;28mlen\u001b[39m(\u001b[38;5;28mself\u001b[39m\u001b[38;5;241m.\u001b[39munion_W2X2), \u001b[38;5;28mself\u001b[39m\u001b[38;5;241m.\u001b[39mn2, replace\u001b[38;5;241m=\u001b[39m\u001b[38;5;28;01mFalse\u001b[39;00m)])\n\u001b[0;32m---> 36\u001b[0m     auc_null \u001b[38;5;241m=\u001b[39m auc(\u001b[38;5;28mself\u001b[39m\u001b[38;5;241m.\u001b[39mclassifier, sample1[:\u001b[38;5;28mself\u001b[39m\u001b[38;5;241m.\u001b[39mn2], sample1[\u001b[38;5;28mself\u001b[39m\u001b[38;5;241m.\u001b[39mn2:])\n\u001b[1;32m     37\u001b[0m     mce_null \u001b[38;5;241m=\u001b[39m mce(\u001b[38;5;28mself\u001b[39m\u001b[38;5;241m.\u001b[39mclassifier, sample2[:\u001b[38;5;28mself\u001b[39m\u001b[38;5;241m.\u001b[39mn2], sample2[\u001b[38;5;28mself\u001b[39m\u001b[38;5;241m.\u001b[39mn2:])\n\u001b[1;32m     38\u001b[0m \u001b[38;5;28;01mreturn\u001b[39;00m lrt_null, auc_null, mce_null\n",
      "Cell \u001b[0;32mIn[41], line 13\u001b[0m, in \u001b[0;36mauc\u001b[0;34m(classifier, W, X)\u001b[0m\n\u001b[1;32m     11\u001b[0m \u001b[38;5;28;01mfor\u001b[39;00m w_j \u001b[38;5;129;01min\u001b[39;00m h_W:\n\u001b[1;32m     12\u001b[0m     \u001b[38;5;28;01mfor\u001b[39;00m x_i \u001b[38;5;129;01min\u001b[39;00m h_X:\n\u001b[0;32m---> 13\u001b[0m         \u001b[38;5;28msum\u001b[39m \u001b[38;5;241m+\u001b[39m\u001b[38;5;241m=\u001b[39m w_j \u001b[38;5;241m>\u001b[39m x_i\n\u001b[1;32m     14\u001b[0m \u001b[38;5;28;01mreturn\u001b[39;00m \u001b[38;5;28msum\u001b[39m \u001b[38;5;241m/\u001b[39m (m2 \u001b[38;5;241m*\u001b[39m n2)\n",
      "\u001b[0;31mKeyboardInterrupt\u001b[0m: "
     ]
    }
   ],
   "source": [
    "null_dist_bootstrap = bootstrap_permutation.permutation(100)"
   ]
  },
  {
   "cell_type": "code",
   "execution_count": null,
   "metadata": {},
   "outputs": [],
   "source": []
  }
 ],
 "metadata": {
  "kernelspec": {
   "display_name": "ad",
   "language": "python",
   "name": "python3"
  },
  "language_info": {
   "codemirror_mode": {
    "name": "ipython",
    "version": 3
   },
   "file_extension": ".py",
   "mimetype": "text/x-python",
   "name": "python",
   "nbconvert_exporter": "python",
   "pygments_lexer": "ipython3",
   "version": "3.11.8"
  }
 },
 "nbformat": 4,
 "nbformat_minor": 2
}
