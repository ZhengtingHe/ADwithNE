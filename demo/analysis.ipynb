{
 "cells": [
  {
   "cell_type": "code",
   "execution_count": 1,
   "metadata": {},
   "outputs": [],
   "source": [
    "import torch\n",
    "from torch import nn\n",
    "import numpy as np\n",
    "import sys\n",
    "import os\n",
    "import pandas as pd\n",
    "from torch.utils.data import Dataset, DataLoader\n",
    "from tqdm import tqdm\n",
    "import importlib\n",
    "\n",
    "sys.path.append(\"..\")\n",
    "from model import ParticleEventTransformer\n",
    "from data import get_database_path, get_h5_files, read_h5_file, select_events\n",
    "from utils import load_toml_config\n",
    "\n",
    "import matplotlib.pyplot as plt\n",
    "\n",
    "\n",
    "device = \"cuda\" if torch.cuda.is_available() else \"mps\" if sys.platform == \"darwin\" else \"cpu\"\n"
   ]
  },
  {
   "cell_type": "code",
   "execution_count": 2,
   "metadata": {},
   "outputs": [],
   "source": [
    "EMD_config = load_toml_config(\"EMD\")\n",
    "particle_type_scale = EMD_config['particle_type_scale']"
   ]
  },
  {
   "cell_type": "markdown",
   "metadata": {},
   "source": [
    "# Load raw events"
   ]
  },
  {
   "cell_type": "code",
   "execution_count": 3,
   "metadata": {},
   "outputs": [
    {
     "name": "stdout",
     "output_type": "stream",
     "text": [
      "SM (13451915, 19, 4)\n",
      "neutral_boson (55969, 19, 4)\n",
      "leptoquark (340544, 19, 4)\n",
      "neutral_Higgs (691283, 19, 4)\n",
      "charged_Higgs (760272, 19, 4)\n"
     ]
    }
   ],
   "source": [
    "files = load_toml_config(\"file\")\n",
    "database_path = get_database_path()\n",
    "bkg_files, sig_files = get_h5_files()\n",
    "\n",
    "# bkg = read_h5_file(database_path, files[\"SM\"])\n",
    "# # SM processes\n",
    "\n",
    "# neutral_boson = read_h5_file(database_path, files[\"neutral_boson\"])\n",
    "# print(neutral_boson.shape)\n",
    "# # A neutral scalar boson (A) with mass 50 GeV, decaying to two off-shell Z bosons, each forced to decay to two leptons: A → 4l\n",
    "\n",
    "# leptoquark = read_h5_file(database_path, files[\"leptoquark\"])\n",
    "# print(leptoquark.shape)\n",
    "# # A leptoquark (LQ) with mass 80 GeV, decaying to a b quark and a τ lepton24\n",
    "\n",
    "# neutral_Higgs = read_h5_file(database_path, files[\"neutral_Higgs\"])\n",
    "# print(neutral_Higgs.shape)\n",
    "# # A scalar boson with mass 60 GeV, decaying to two tau leptons: h0→ ττ\n",
    "\n",
    "# charged_Higgs = read_h5_file(database_path, files[\"charged_Higgs\"])\n",
    "# print(charged_Higgs.shape)\n",
    "# # A charged scalar boson with mass 60 GeV, decaying to a tau lepton and a neutrino\n",
    "\n",
    "events = {}\n",
    "for key, value in files.items():\n",
    "    events[key] = read_h5_file(database_path, value)\n",
    "    print(key, events[key].shape)"
   ]
  },
  {
   "cell_type": "code",
   "execution_count": 4,
   "metadata": {},
   "outputs": [
    {
     "name": "stdout",
     "output_type": "stream",
     "text": [
      "['neutral_boson', 'leptoquark', 'neutral_Higgs', 'charged_Higgs']\n"
     ]
    }
   ],
   "source": [
    "signals = [key for key in events.keys() if key != \"SM\"]\n",
    "print(signals)"
   ]
  },
  {
   "cell_type": "markdown",
   "metadata": {},
   "source": [
    "# Load embedding model"
   ]
  },
  {
   "cell_type": "code",
   "execution_count": 5,
   "metadata": {},
   "outputs": [
    {
     "name": "stdout",
     "output_type": "stream",
     "text": [
      "{'feature_size': 3, 'embed_size': 16, 'num_heads': 8, 'num_layers': 4, 'hidden_dim': 256, 'output_dim': 8}\n"
     ]
    },
    {
     "name": "stderr",
     "output_type": "stream",
     "text": [
      "/home/desmondhe/anaconda3/envs/ad/lib/python3.11/site-packages/torch/nn/modules/transformer.py:286: UserWarning: enable_nested_tensor is True, but self.use_nested_tensor is False because encoder_layer.self_attn.batch_first was not True(use batch_first for better inference performance)\n",
      "  warnings.warn(f\"enable_nested_tensor is True, but self.use_nested_tensor is False because {why_not_sparsity_fast_path}\")\n"
     ]
    }
   ],
   "source": [
    "model_hyper_parameters = load_toml_config(\"Transformer\")\n",
    "print(model_hyper_parameters)\n",
    "feature_size = model_hyper_parameters[\"feature_size\"]\n",
    "embed_size = model_hyper_parameters[\"embed_size\"]\n",
    "num_heads = model_hyper_parameters[\"num_heads\"]\n",
    "num_layers = model_hyper_parameters[\"num_layers\"]\n",
    "hidden_dim = model_hyper_parameters[\"hidden_dim\"]\n",
    "output_dim = model_hyper_parameters[\"output_dim\"]\n",
    "\n",
    "embedding_model = ParticleEventTransformer(feature_size, embed_size, num_heads, hidden_dim, output_dim, num_layers)"
   ]
  },
  {
   "cell_type": "markdown",
   "metadata": {},
   "source": [
    "# Embed events"
   ]
  },
  {
   "cell_type": "code",
   "execution_count": 6,
   "metadata": {},
   "outputs": [],
   "source": [
    "from analysis import inference"
   ]
  },
  {
   "cell_type": "code",
   "execution_count": 7,
   "metadata": {},
   "outputs": [],
   "source": [
    "from data import EventDataset"
   ]
  },
  {
   "cell_type": "code",
   "execution_count": 8,
   "metadata": {},
   "outputs": [],
   "source": [
    "infer_test_num = 1000000\n",
    "dataloaders = {}\n",
    "for key, value in events.items():\n",
    "    dataloaders[key] = DataLoader(EventDataset(value[:infer_test_num]), batch_size=256, num_workers=16, prefetch_factor=5)"
   ]
  },
  {
   "cell_type": "code",
   "execution_count": 9,
   "metadata": {},
   "outputs": [
    {
     "name": "stderr",
     "output_type": "stream",
     "text": [
      "100%|██████████| 3907/3907 [00:08<00:00, 448.58it/s]\n"
     ]
    },
    {
     "name": "stdout",
     "output_type": "stream",
     "text": [
      "SM (1000000, 8)\n"
     ]
    },
    {
     "name": "stderr",
     "output_type": "stream",
     "text": [
      "100%|██████████| 219/219 [00:01<00:00, 197.32it/s]\n"
     ]
    },
    {
     "name": "stdout",
     "output_type": "stream",
     "text": [
      "neutral_boson (55969, 8)\n"
     ]
    },
    {
     "name": "stderr",
     "output_type": "stream",
     "text": [
      "100%|██████████| 1331/1331 [00:03<00:00, 404.89it/s]\n"
     ]
    },
    {
     "name": "stdout",
     "output_type": "stream",
     "text": [
      "leptoquark (340544, 8)\n"
     ]
    },
    {
     "name": "stderr",
     "output_type": "stream",
     "text": [
      "100%|██████████| 2701/2701 [00:06<00:00, 448.57it/s]\n"
     ]
    },
    {
     "name": "stdout",
     "output_type": "stream",
     "text": [
      "neutral_Higgs (691283, 8)\n"
     ]
    },
    {
     "name": "stderr",
     "output_type": "stream",
     "text": [
      "100%|██████████| 2970/2970 [00:06<00:00, 453.16it/s]"
     ]
    },
    {
     "name": "stdout",
     "output_type": "stream",
     "text": [
      "charged_Higgs (760272, 8)\n"
     ]
    },
    {
     "name": "stderr",
     "output_type": "stream",
     "text": [
      "\n"
     ]
    }
   ],
   "source": [
    "embedding_points = {}\n",
    "embedding_model.load_state_dict(torch.load(os.path.join(\"..\", \"model\",\"emb_dim{}_type_scale{}.pt\".format(output_dim, particle_type_scale))))\n",
    "embedding_model.to(device)\n",
    "for key, value in dataloaders.items():\n",
    "    embedding_points[key] = inference(embedding_model, value, embed_dim=output_dim)\n",
    "    print(key, embedding_points[key].shape)"
   ]
  },
  {
   "cell_type": "code",
   "execution_count": 10,
   "metadata": {},
   "outputs": [],
   "source": [
    "from analysis import Normalizer"
   ]
  },
  {
   "cell_type": "code",
   "execution_count": 11,
   "metadata": {},
   "outputs": [],
   "source": [
    "normalizer = Normalizer(*[value for value in embedding_points.values()])"
   ]
  },
  {
   "cell_type": "code",
   "execution_count": 12,
   "metadata": {},
   "outputs": [
    {
     "name": "stdout",
     "output_type": "stream",
     "text": [
      "[195.94314575 306.04678345 169.08666992 229.35830688 275.73455811\n",
      " 311.03366089 153.96336365 290.96902466]\n",
      "[-262.50848389 -289.52780151 -201.62272644 -281.99453735 -297.74050903\n",
      " -282.32440186 -178.91546631 -354.94134521]\n"
     ]
    }
   ],
   "source": [
    "print(normalizer.max)\n",
    "print(normalizer.min)"
   ]
  },
  {
   "cell_type": "markdown",
   "metadata": {},
   "source": [
    "# Split embed points"
   ]
  },
  {
   "cell_type": "code",
   "execution_count": 13,
   "metadata": {},
   "outputs": [],
   "source": [
    "tpr_dict = {}\n",
    "fpr_dict = {}\n",
    "auc_dict = {}"
   ]
  },
  {
   "cell_type": "code",
   "execution_count": 14,
   "metadata": {},
   "outputs": [],
   "source": [
    "from analysis import create_exp_bkg_events, train_test_split, get_dataloaders"
   ]
  },
  {
   "cell_type": "code",
   "execution_count": 15,
   "metadata": {},
   "outputs": [],
   "source": [
    "test_ratio=0.2\n",
    "val_ratio = 0.2\n",
    "sig_lambda = 0.5\n",
    "n = 100000\n",
    "\n",
    "test_signal = \"neutral_boson\"\n",
    "# test_signal = \"leptoquark\"\n",
    "# test_signal = \"neutral_Higgs\"\n",
    "# test_signal = \"charged_Higgs\"\n",
    "\n",
    "exp_events, bkg_events = create_exp_bkg_events(embedding_points['SM'], embedding_points[test_signal], sig_lambda, n)\n",
    "X1, X2, W1, W2 = train_test_split(exp_events, bkg_events, test_ratio)\n",
    "n1 = len(W1)\n",
    "m1 = len(X1)\n",
    "pi = n1 / (n1 + m1)\n",
    "n2 = len(W2)\n",
    "m2 = len(X2)\n",
    "train_dataloader, val_dataloader = get_dataloaders(X1, W1, val_ratio, normalizer)"
   ]
  },
  {
   "cell_type": "markdown",
   "metadata": {},
   "source": [
    "# Classify Model"
   ]
  },
  {
   "cell_type": "code",
   "execution_count": 16,
   "metadata": {},
   "outputs": [],
   "source": [
    "from model import MLP\n",
    "hidden_dim = [8, 16, 16, 16, 8]\n",
    "naive_model = MLP(output_dim, hidden_sizes=hidden_dim)"
   ]
  },
  {
   "cell_type": "markdown",
   "metadata": {},
   "source": [
    "# Train"
   ]
  },
  {
   "cell_type": "code",
   "execution_count": 17,
   "metadata": {},
   "outputs": [],
   "source": [
    "from metrics import BinaryACCUpdater"
   ]
  },
  {
   "cell_type": "code",
   "execution_count": 18,
   "metadata": {},
   "outputs": [],
   "source": [
    "naive_model.to(device)\n",
    "optimizer = torch.optim.Adam(naive_model.parameters(), lr=1e-3, weight_decay=1e-5)\n",
    "loss_fn = nn.BCELoss()\n",
    "acc_metric = BinaryACCUpdater()\n",
    "metric_dict = {\"Accuracy\": acc_metric}"
   ]
  },
  {
   "cell_type": "code",
   "execution_count": 19,
   "metadata": {},
   "outputs": [],
   "source": [
    "from classify import train_model"
   ]
  },
  {
   "cell_type": "code",
   "execution_count": 20,
   "metadata": {},
   "outputs": [],
   "source": [
    "# opt_train_model  = torch.compile(train_model)"
   ]
  },
  {
   "cell_type": "code",
   "execution_count": 21,
   "metadata": {},
   "outputs": [
    {
     "name": "stdout",
     "output_type": "stream",
     "text": [
      "\n",
      "================================================================================2024-05-25 11:04:32\n",
      "Epoch 1 / 50\n",
      "\n",
      "100%|██████████| 4000/4000 [00:07<00:00, 507.90it/s, train_Accuracy=0.59, train_loss=0.665] \n",
      "100%|██████████| 125/125 [00:00<00:00, 418.79it/s, val_Accuracy=0.606, val_loss=0.659]\n",
      "<<<<<< reach best val_Accuracy : 0.6060625314712524 >>>>>>\n",
      "\n",
      "================================================================================2024-05-25 11:04:40\n",
      "Epoch 2 / 50\n",
      "\n",
      "100%|██████████| 4000/4000 [00:07<00:00, 524.03it/s, train_Accuracy=0.61, train_loss=0.654] \n",
      "100%|██████████| 125/125 [00:00<00:00, 669.31it/s, val_Accuracy=0.617, val_loss=0.649]\n",
      "<<<<<< reach best val_Accuracy : 0.6174687743186951 >>>>>>\n",
      "\n",
      "================================================================================2024-05-25 11:04:48\n",
      "Epoch 3 / 50\n",
      "\n",
      "100%|██████████| 4000/4000 [00:07<00:00, 502.40it/s, train_Accuracy=0.62, train_loss=0.646] \n",
      "100%|██████████| 125/125 [00:00<00:00, 706.76it/s, val_Accuracy=0.619, val_loss=0.645]\n",
      "<<<<<< reach best val_Accuracy : 0.6188750267028809 >>>>>>\n",
      "\n",
      "================================================================================2024-05-25 11:04:57\n",
      "Epoch 4 / 50\n",
      "\n",
      "100%|██████████| 4000/4000 [00:07<00:00, 519.05it/s, train_Accuracy=0.626, train_loss=0.64] \n",
      "100%|██████████| 125/125 [00:00<00:00, 687.77it/s, val_Accuracy=0.631, val_loss=0.638]\n",
      "<<<<<< reach best val_Accuracy : 0.6309375166893005 >>>>>>\n",
      "\n",
      "================================================================================2024-05-25 11:05:05\n",
      "Epoch 5 / 50\n",
      "\n",
      "100%|██████████| 4000/4000 [00:08<00:00, 499.76it/s, train_Accuracy=0.63, train_loss=0.636] \n",
      "100%|██████████| 125/125 [00:00<00:00, 710.85it/s, val_Accuracy=0.624, val_loss=0.637]\n",
      "\n",
      "================================================================================2024-05-25 11:05:13\n",
      "Epoch 6 / 50\n",
      "\n",
      "100%|██████████| 4000/4000 [00:07<00:00, 532.32it/s, train_Accuracy=0.636, train_loss=0.632]\n",
      "100%|██████████| 125/125 [00:00<00:00, 705.50it/s, val_Accuracy=0.635, val_loss=0.632]\n",
      "<<<<<< reach best val_Accuracy : 0.6349375247955322 >>>>>>\n",
      "\n",
      "================================================================================2024-05-25 11:05:21\n",
      "Epoch 7 / 50\n",
      "\n",
      "100%|██████████| 4000/4000 [00:07<00:00, 541.56it/s, train_Accuracy=0.636, train_loss=0.63] \n",
      "100%|██████████| 125/125 [00:00<00:00, 673.26it/s, val_Accuracy=0.639, val_loss=0.629]\n",
      "<<<<<< reach best val_Accuracy : 0.6386875510215759 >>>>>>\n",
      "\n",
      "================================================================================2024-05-25 11:05:29\n",
      "Epoch 8 / 50\n",
      "\n",
      "100%|██████████| 4000/4000 [00:07<00:00, 500.95it/s, train_Accuracy=0.638, train_loss=0.628]\n",
      "100%|██████████| 125/125 [00:00<00:00, 659.16it/s, val_Accuracy=0.637, val_loss=0.63]\n",
      "\n",
      "================================================================================2024-05-25 11:05:37\n",
      "Epoch 9 / 50\n",
      "\n",
      "100%|██████████| 4000/4000 [00:07<00:00, 519.65it/s, train_Accuracy=0.64, train_loss=0.627] \n",
      "100%|██████████| 125/125 [00:00<00:00, 416.60it/s, val_Accuracy=0.637, val_loss=0.629]\n",
      "\n",
      "================================================================================2024-05-25 11:05:45\n",
      "Epoch 10 / 50\n",
      "\n",
      "100%|██████████| 4000/4000 [00:07<00:00, 510.64it/s, train_Accuracy=0.64, train_loss=0.626] \n",
      "100%|██████████| 125/125 [00:00<00:00, 686.28it/s, val_Accuracy=0.638, val_loss=0.63]\n",
      "\n",
      "================================================================================2024-05-25 11:05:54\n",
      "Epoch 11 / 50\n",
      "\n",
      "100%|██████████| 4000/4000 [00:07<00:00, 507.64it/s, train_Accuracy=0.642, train_loss=0.625]\n",
      "100%|██████████| 125/125 [00:00<00:00, 704.81it/s, val_Accuracy=0.636, val_loss=0.631]\n",
      "\n",
      "================================================================================2024-05-25 11:06:02\n",
      "Epoch 12 / 50\n",
      "\n",
      "100%|██████████| 4000/4000 [00:08<00:00, 497.50it/s, train_Accuracy=0.642, train_loss=0.624]\n",
      "100%|██████████| 125/125 [00:00<00:00, 692.39it/s, val_Accuracy=0.644, val_loss=0.625]\n",
      "<<<<<< reach best val_Accuracy : 0.644281268119812 >>>>>>\n",
      "\n",
      "================================================================================2024-05-25 11:06:10\n",
      "Epoch 13 / 50\n",
      "\n",
      "100%|██████████| 4000/4000 [00:07<00:00, 505.74it/s, train_Accuracy=0.642, train_loss=0.624]\n",
      "100%|██████████| 125/125 [00:00<00:00, 713.31it/s, val_Accuracy=0.644, val_loss=0.627]\n",
      "\n",
      "================================================================================2024-05-25 11:06:19\n",
      "Epoch 14 / 50\n",
      "\n",
      "100%|██████████| 4000/4000 [00:07<00:00, 529.62it/s, train_Accuracy=0.643, train_loss=0.623]\n",
      "100%|██████████| 125/125 [00:00<00:00, 717.63it/s, val_Accuracy=0.646, val_loss=0.623]\n",
      "<<<<<< reach best val_Accuracy : 0.6457187533378601 >>>>>>\n",
      "\n",
      "================================================================================2024-05-25 11:06:27\n",
      "Epoch 15 / 50\n",
      "\n",
      "100%|██████████| 4000/4000 [00:07<00:00, 514.04it/s, train_Accuracy=0.643, train_loss=0.623]\n",
      "100%|██████████| 125/125 [00:00<00:00, 674.26it/s, val_Accuracy=0.642, val_loss=0.626]\n",
      "\n",
      "================================================================================2024-05-25 11:06:35\n",
      "Epoch 16 / 50\n",
      "\n",
      "100%|██████████| 4000/4000 [00:07<00:00, 514.01it/s, train_Accuracy=0.644, train_loss=0.622]\n",
      "100%|██████████| 125/125 [00:00<00:00, 706.35it/s, val_Accuracy=0.635, val_loss=0.629]\n",
      "\n",
      "================================================================================2024-05-25 11:06:43\n",
      "Epoch 17 / 50\n",
      "\n",
      "100%|██████████| 4000/4000 [00:07<00:00, 512.77it/s, train_Accuracy=0.645, train_loss=0.621]\n",
      "100%|██████████| 125/125 [00:00<00:00, 399.61it/s, val_Accuracy=0.648, val_loss=0.621]\n",
      "<<<<<< reach best val_Accuracy : 0.6479063034057617 >>>>>>\n",
      "\n",
      "================================================================================2024-05-25 11:06:51\n",
      "Epoch 18 / 50\n",
      "\n",
      "100%|██████████| 4000/4000 [00:07<00:00, 542.39it/s, train_Accuracy=0.645, train_loss=0.62] \n",
      "100%|██████████| 125/125 [00:00<00:00, 740.38it/s, val_Accuracy=0.63, val_loss=0.636]\n",
      "\n",
      "================================================================================2024-05-25 11:06:59\n",
      "Epoch 19 / 50\n",
      "\n",
      "100%|██████████| 4000/4000 [00:07<00:00, 510.00it/s, train_Accuracy=0.646, train_loss=0.62] \n",
      "100%|██████████| 125/125 [00:00<00:00, 664.24it/s, val_Accuracy=0.644, val_loss=0.623]\n",
      "\n",
      "================================================================================2024-05-25 11:07:07\n",
      "Epoch 20 / 50\n",
      "\n",
      "100%|██████████| 4000/4000 [00:08<00:00, 497.90it/s, train_Accuracy=0.647, train_loss=0.62] \n",
      "100%|██████████| 125/125 [00:00<00:00, 684.82it/s, val_Accuracy=0.65, val_loss=0.621]\n",
      "<<<<<< reach best val_Accuracy : 0.6495625376701355 >>>>>>\n",
      "\n",
      "================================================================================2024-05-25 11:07:16\n",
      "Epoch 21 / 50\n",
      "\n",
      "100%|██████████| 4000/4000 [00:07<00:00, 509.63it/s, train_Accuracy=0.647, train_loss=0.618]\n",
      "100%|██████████| 125/125 [00:00<00:00, 753.80it/s, val_Accuracy=0.646, val_loss=0.619]\n",
      "\n",
      "================================================================================2024-05-25 11:07:24\n",
      "Epoch 22 / 50\n",
      "\n",
      "100%|██████████| 4000/4000 [00:07<00:00, 501.10it/s, train_Accuracy=0.649, train_loss=0.617]\n",
      "100%|██████████| 125/125 [00:00<00:00, 698.85it/s, val_Accuracy=0.652, val_loss=0.619]\n",
      "<<<<<< reach best val_Accuracy : 0.6522500514984131 >>>>>>\n",
      "\n",
      "================================================================================2024-05-25 11:07:32\n",
      "Epoch 23 / 50\n",
      "\n",
      "100%|██████████| 4000/4000 [00:08<00:00, 489.32it/s, train_Accuracy=0.649, train_loss=0.617]\n",
      "100%|██████████| 125/125 [00:00<00:00, 722.69it/s, val_Accuracy=0.649, val_loss=0.618]\n",
      "\n",
      "================================================================================2024-05-25 11:07:41\n",
      "Epoch 24 / 50\n",
      "\n",
      "100%|██████████| 4000/4000 [00:07<00:00, 522.01it/s, train_Accuracy=0.649, train_loss=0.616]\n",
      "100%|██████████| 125/125 [00:00<00:00, 697.66it/s, val_Accuracy=0.649, val_loss=0.619]\n",
      "\n",
      "================================================================================2024-05-25 11:07:49\n",
      "Epoch 25 / 50\n",
      "\n",
      "100%|██████████| 4000/4000 [00:08<00:00, 491.34it/s, train_Accuracy=0.65, train_loss=0.616] \n",
      "100%|██████████| 125/125 [00:00<00:00, 393.14it/s, val_Accuracy=0.646, val_loss=0.619]\n",
      "\n",
      "================================================================================2024-05-25 11:07:58\n",
      "Epoch 26 / 50\n",
      "\n",
      "100%|██████████| 4000/4000 [00:07<00:00, 508.23it/s, train_Accuracy=0.649, train_loss=0.616]\n",
      "100%|██████████| 125/125 [00:00<00:00, 692.36it/s, val_Accuracy=0.655, val_loss=0.614]\n",
      "<<<<<< reach best val_Accuracy : 0.6546875238418579 >>>>>>\n",
      "\n",
      "================================================================================2024-05-25 11:08:06\n",
      "Epoch 27 / 50\n",
      "\n",
      "100%|██████████| 4000/4000 [00:07<00:00, 524.33it/s, train_Accuracy=0.651, train_loss=0.615]\n",
      "100%|██████████| 125/125 [00:00<00:00, 693.35it/s, val_Accuracy=0.65, val_loss=0.617]\n",
      "\n",
      "================================================================================2024-05-25 11:08:14\n",
      "Epoch 28 / 50\n",
      "\n",
      "100%|██████████| 4000/4000 [00:07<00:00, 550.62it/s, train_Accuracy=0.651, train_loss=0.615]\n",
      "100%|██████████| 125/125 [00:00<00:00, 654.85it/s, val_Accuracy=0.631, val_loss=0.639]\n",
      "\n",
      "================================================================================2024-05-25 11:08:22\n",
      "Epoch 29 / 50\n",
      "\n",
      "100%|██████████| 4000/4000 [00:07<00:00, 535.17it/s, train_Accuracy=0.651, train_loss=0.615]\n",
      "100%|██████████| 125/125 [00:00<00:00, 748.25it/s, val_Accuracy=0.656, val_loss=0.612]\n",
      "<<<<<< reach best val_Accuracy : 0.6558125019073486 >>>>>>\n",
      "\n",
      "================================================================================2024-05-25 11:08:29\n",
      "Epoch 30 / 50\n",
      "\n",
      "100%|██████████| 4000/4000 [00:07<00:00, 524.30it/s, train_Accuracy=0.652, train_loss=0.614]\n",
      "100%|██████████| 125/125 [00:00<00:00, 689.20it/s, val_Accuracy=0.646, val_loss=0.619]\n",
      "\n",
      "================================================================================2024-05-25 11:08:37\n",
      "Epoch 31 / 50\n",
      "\n",
      "100%|██████████| 4000/4000 [00:07<00:00, 508.93it/s, train_Accuracy=0.653, train_loss=0.613]\n",
      "100%|██████████| 125/125 [00:00<00:00, 671.10it/s, val_Accuracy=0.649, val_loss=0.617]\n",
      "\n",
      "================================================================================2024-05-25 11:08:46\n",
      "Epoch 32 / 50\n",
      "\n",
      "100%|██████████| 4000/4000 [00:07<00:00, 524.72it/s, train_Accuracy=0.653, train_loss=0.613]\n",
      "100%|██████████| 125/125 [00:00<00:00, 690.45it/s, val_Accuracy=0.659, val_loss=0.611]\n",
      "<<<<<< reach best val_Accuracy : 0.659406304359436 >>>>>>\n",
      "\n",
      "================================================================================2024-05-25 11:08:54\n",
      "Epoch 33 / 50\n",
      "\n",
      "100%|██████████| 4000/4000 [00:07<00:00, 530.67it/s, train_Accuracy=0.653, train_loss=0.612]\n",
      "100%|██████████| 125/125 [00:00<00:00, 415.54it/s, val_Accuracy=0.652, val_loss=0.613]\n",
      "\n",
      "================================================================================2024-05-25 11:09:02\n",
      "Epoch 34 / 50\n",
      "\n",
      "100%|██████████| 4000/4000 [00:07<00:00, 511.64it/s, train_Accuracy=0.654, train_loss=0.612]\n",
      "100%|██████████| 125/125 [00:00<00:00, 710.33it/s, val_Accuracy=0.649, val_loss=0.617]\n",
      "\n",
      "================================================================================2024-05-25 11:09:10\n",
      "Epoch 35 / 50\n",
      "\n",
      "100%|██████████| 4000/4000 [00:07<00:00, 535.86it/s, train_Accuracy=0.654, train_loss=0.611]\n",
      "100%|██████████| 125/125 [00:00<00:00, 684.78it/s, val_Accuracy=0.647, val_loss=0.617]\n",
      "\n",
      "================================================================================2024-05-25 11:09:18\n",
      "Epoch 36 / 50\n",
      "\n",
      "100%|██████████| 4000/4000 [00:07<00:00, 505.18it/s, train_Accuracy=0.654, train_loss=0.611]\n",
      "100%|██████████| 125/125 [00:00<00:00, 702.02it/s, val_Accuracy=0.647, val_loss=0.619]\n",
      "\n",
      "================================================================================2024-05-25 11:09:26\n",
      "Epoch 37 / 50\n",
      "\n",
      "100%|██████████| 4000/4000 [00:07<00:00, 519.51it/s, train_Accuracy=0.655, train_loss=0.611]\n",
      "100%|██████████| 125/125 [00:00<00:00, 687.55it/s, val_Accuracy=0.638, val_loss=0.625]\n",
      "<<<<<< val_Accuracy without improvement in 5 epoch, early stopping >>>>>>\n"
     ]
    },
    {
     "data": {
      "text/html": [
       "<div>\n",
       "<style scoped>\n",
       "    .dataframe tbody tr th:only-of-type {\n",
       "        vertical-align: middle;\n",
       "    }\n",
       "\n",
       "    .dataframe tbody tr th {\n",
       "        vertical-align: top;\n",
       "    }\n",
       "\n",
       "    .dataframe thead th {\n",
       "        text-align: right;\n",
       "    }\n",
       "</style>\n",
       "<table border=\"1\" class=\"dataframe\">\n",
       "  <thead>\n",
       "    <tr style=\"text-align: right;\">\n",
       "      <th></th>\n",
       "      <th>train_loss</th>\n",
       "      <th>train_Accuracy</th>\n",
       "      <th>val_loss</th>\n",
       "      <th>val_Accuracy</th>\n",
       "      <th>epoch</th>\n",
       "    </tr>\n",
       "  </thead>\n",
       "  <tbody>\n",
       "    <tr>\n",
       "      <th>0</th>\n",
       "      <td>0.665423</td>\n",
       "      <td>0.590313</td>\n",
       "      <td>0.658684</td>\n",
       "      <td>0.606063</td>\n",
       "      <td>1</td>\n",
       "    </tr>\n",
       "    <tr>\n",
       "      <th>1</th>\n",
       "      <td>0.653764</td>\n",
       "      <td>0.609547</td>\n",
       "      <td>0.648624</td>\n",
       "      <td>0.617469</td>\n",
       "      <td>2</td>\n",
       "    </tr>\n",
       "    <tr>\n",
       "      <th>2</th>\n",
       "      <td>0.646154</td>\n",
       "      <td>0.620000</td>\n",
       "      <td>0.645280</td>\n",
       "      <td>0.618875</td>\n",
       "      <td>3</td>\n",
       "    </tr>\n",
       "    <tr>\n",
       "      <th>3</th>\n",
       "      <td>0.640237</td>\n",
       "      <td>0.625539</td>\n",
       "      <td>0.638196</td>\n",
       "      <td>0.630938</td>\n",
       "      <td>4</td>\n",
       "    </tr>\n",
       "    <tr>\n",
       "      <th>4</th>\n",
       "      <td>0.635697</td>\n",
       "      <td>0.630188</td>\n",
       "      <td>0.636994</td>\n",
       "      <td>0.624250</td>\n",
       "      <td>5</td>\n",
       "    </tr>\n",
       "    <tr>\n",
       "      <th>5</th>\n",
       "      <td>0.632206</td>\n",
       "      <td>0.635523</td>\n",
       "      <td>0.632160</td>\n",
       "      <td>0.634938</td>\n",
       "      <td>6</td>\n",
       "    </tr>\n",
       "    <tr>\n",
       "      <th>6</th>\n",
       "      <td>0.629903</td>\n",
       "      <td>0.636234</td>\n",
       "      <td>0.628600</td>\n",
       "      <td>0.638688</td>\n",
       "      <td>7</td>\n",
       "    </tr>\n",
       "    <tr>\n",
       "      <th>7</th>\n",
       "      <td>0.628384</td>\n",
       "      <td>0.637508</td>\n",
       "      <td>0.630281</td>\n",
       "      <td>0.636906</td>\n",
       "      <td>8</td>\n",
       "    </tr>\n",
       "    <tr>\n",
       "      <th>8</th>\n",
       "      <td>0.627030</td>\n",
       "      <td>0.639883</td>\n",
       "      <td>0.629268</td>\n",
       "      <td>0.636906</td>\n",
       "      <td>9</td>\n",
       "    </tr>\n",
       "    <tr>\n",
       "      <th>9</th>\n",
       "      <td>0.625903</td>\n",
       "      <td>0.640109</td>\n",
       "      <td>0.629686</td>\n",
       "      <td>0.638281</td>\n",
       "      <td>10</td>\n",
       "    </tr>\n",
       "    <tr>\n",
       "      <th>10</th>\n",
       "      <td>0.625370</td>\n",
       "      <td>0.641555</td>\n",
       "      <td>0.631228</td>\n",
       "      <td>0.636375</td>\n",
       "      <td>11</td>\n",
       "    </tr>\n",
       "    <tr>\n",
       "      <th>11</th>\n",
       "      <td>0.624275</td>\n",
       "      <td>0.641875</td>\n",
       "      <td>0.624908</td>\n",
       "      <td>0.644281</td>\n",
       "      <td>12</td>\n",
       "    </tr>\n",
       "    <tr>\n",
       "      <th>12</th>\n",
       "      <td>0.623882</td>\n",
       "      <td>0.642313</td>\n",
       "      <td>0.627478</td>\n",
       "      <td>0.644094</td>\n",
       "      <td>13</td>\n",
       "    </tr>\n",
       "    <tr>\n",
       "      <th>13</th>\n",
       "      <td>0.623187</td>\n",
       "      <td>0.643281</td>\n",
       "      <td>0.622729</td>\n",
       "      <td>0.645719</td>\n",
       "      <td>14</td>\n",
       "    </tr>\n",
       "    <tr>\n",
       "      <th>14</th>\n",
       "      <td>0.622867</td>\n",
       "      <td>0.642797</td>\n",
       "      <td>0.625565</td>\n",
       "      <td>0.641938</td>\n",
       "      <td>15</td>\n",
       "    </tr>\n",
       "    <tr>\n",
       "      <th>15</th>\n",
       "      <td>0.622067</td>\n",
       "      <td>0.644063</td>\n",
       "      <td>0.629240</td>\n",
       "      <td>0.634688</td>\n",
       "      <td>16</td>\n",
       "    </tr>\n",
       "    <tr>\n",
       "      <th>16</th>\n",
       "      <td>0.621369</td>\n",
       "      <td>0.644836</td>\n",
       "      <td>0.620932</td>\n",
       "      <td>0.647906</td>\n",
       "      <td>17</td>\n",
       "    </tr>\n",
       "    <tr>\n",
       "      <th>17</th>\n",
       "      <td>0.620073</td>\n",
       "      <td>0.645406</td>\n",
       "      <td>0.635620</td>\n",
       "      <td>0.630156</td>\n",
       "      <td>18</td>\n",
       "    </tr>\n",
       "    <tr>\n",
       "      <th>18</th>\n",
       "      <td>0.620322</td>\n",
       "      <td>0.645805</td>\n",
       "      <td>0.623098</td>\n",
       "      <td>0.644313</td>\n",
       "      <td>19</td>\n",
       "    </tr>\n",
       "    <tr>\n",
       "      <th>19</th>\n",
       "      <td>0.619707</td>\n",
       "      <td>0.646664</td>\n",
       "      <td>0.620756</td>\n",
       "      <td>0.649563</td>\n",
       "      <td>20</td>\n",
       "    </tr>\n",
       "    <tr>\n",
       "      <th>20</th>\n",
       "      <td>0.618304</td>\n",
       "      <td>0.646922</td>\n",
       "      <td>0.619245</td>\n",
       "      <td>0.645563</td>\n",
       "      <td>21</td>\n",
       "    </tr>\n",
       "    <tr>\n",
       "      <th>21</th>\n",
       "      <td>0.617281</td>\n",
       "      <td>0.648578</td>\n",
       "      <td>0.618596</td>\n",
       "      <td>0.652250</td>\n",
       "      <td>22</td>\n",
       "    </tr>\n",
       "    <tr>\n",
       "      <th>22</th>\n",
       "      <td>0.617082</td>\n",
       "      <td>0.649320</td>\n",
       "      <td>0.618176</td>\n",
       "      <td>0.648750</td>\n",
       "      <td>23</td>\n",
       "    </tr>\n",
       "    <tr>\n",
       "      <th>23</th>\n",
       "      <td>0.616471</td>\n",
       "      <td>0.649063</td>\n",
       "      <td>0.618960</td>\n",
       "      <td>0.649469</td>\n",
       "      <td>24</td>\n",
       "    </tr>\n",
       "    <tr>\n",
       "      <th>24</th>\n",
       "      <td>0.615952</td>\n",
       "      <td>0.649625</td>\n",
       "      <td>0.619308</td>\n",
       "      <td>0.646344</td>\n",
       "      <td>25</td>\n",
       "    </tr>\n",
       "    <tr>\n",
       "      <th>25</th>\n",
       "      <td>0.615818</td>\n",
       "      <td>0.649359</td>\n",
       "      <td>0.613911</td>\n",
       "      <td>0.654688</td>\n",
       "      <td>26</td>\n",
       "    </tr>\n",
       "    <tr>\n",
       "      <th>26</th>\n",
       "      <td>0.614988</td>\n",
       "      <td>0.650750</td>\n",
       "      <td>0.617280</td>\n",
       "      <td>0.650469</td>\n",
       "      <td>27</td>\n",
       "    </tr>\n",
       "    <tr>\n",
       "      <th>27</th>\n",
       "      <td>0.614707</td>\n",
       "      <td>0.650852</td>\n",
       "      <td>0.638684</td>\n",
       "      <td>0.630531</td>\n",
       "      <td>28</td>\n",
       "    </tr>\n",
       "    <tr>\n",
       "      <th>28</th>\n",
       "      <td>0.615444</td>\n",
       "      <td>0.650945</td>\n",
       "      <td>0.612198</td>\n",
       "      <td>0.655813</td>\n",
       "      <td>29</td>\n",
       "    </tr>\n",
       "    <tr>\n",
       "      <th>29</th>\n",
       "      <td>0.614026</td>\n",
       "      <td>0.652156</td>\n",
       "      <td>0.619306</td>\n",
       "      <td>0.646469</td>\n",
       "      <td>30</td>\n",
       "    </tr>\n",
       "    <tr>\n",
       "      <th>30</th>\n",
       "      <td>0.613199</td>\n",
       "      <td>0.653320</td>\n",
       "      <td>0.617164</td>\n",
       "      <td>0.648813</td>\n",
       "      <td>31</td>\n",
       "    </tr>\n",
       "    <tr>\n",
       "      <th>31</th>\n",
       "      <td>0.612872</td>\n",
       "      <td>0.652859</td>\n",
       "      <td>0.611307</td>\n",
       "      <td>0.659406</td>\n",
       "      <td>32</td>\n",
       "    </tr>\n",
       "    <tr>\n",
       "      <th>32</th>\n",
       "      <td>0.612310</td>\n",
       "      <td>0.653414</td>\n",
       "      <td>0.612928</td>\n",
       "      <td>0.651500</td>\n",
       "      <td>33</td>\n",
       "    </tr>\n",
       "    <tr>\n",
       "      <th>33</th>\n",
       "      <td>0.612247</td>\n",
       "      <td>0.654141</td>\n",
       "      <td>0.616846</td>\n",
       "      <td>0.648656</td>\n",
       "      <td>34</td>\n",
       "    </tr>\n",
       "    <tr>\n",
       "      <th>34</th>\n",
       "      <td>0.611027</td>\n",
       "      <td>0.654320</td>\n",
       "      <td>0.617254</td>\n",
       "      <td>0.647375</td>\n",
       "      <td>35</td>\n",
       "    </tr>\n",
       "    <tr>\n",
       "      <th>35</th>\n",
       "      <td>0.611256</td>\n",
       "      <td>0.653883</td>\n",
       "      <td>0.618894</td>\n",
       "      <td>0.647313</td>\n",
       "      <td>36</td>\n",
       "    </tr>\n",
       "    <tr>\n",
       "      <th>36</th>\n",
       "      <td>0.611143</td>\n",
       "      <td>0.655078</td>\n",
       "      <td>0.625265</td>\n",
       "      <td>0.638031</td>\n",
       "      <td>37</td>\n",
       "    </tr>\n",
       "  </tbody>\n",
       "</table>\n",
       "</div>"
      ],
      "text/plain": [
       "    train_loss  train_Accuracy  val_loss  val_Accuracy  epoch\n",
       "0     0.665423        0.590313  0.658684      0.606063      1\n",
       "1     0.653764        0.609547  0.648624      0.617469      2\n",
       "2     0.646154        0.620000  0.645280      0.618875      3\n",
       "3     0.640237        0.625539  0.638196      0.630938      4\n",
       "4     0.635697        0.630188  0.636994      0.624250      5\n",
       "5     0.632206        0.635523  0.632160      0.634938      6\n",
       "6     0.629903        0.636234  0.628600      0.638688      7\n",
       "7     0.628384        0.637508  0.630281      0.636906      8\n",
       "8     0.627030        0.639883  0.629268      0.636906      9\n",
       "9     0.625903        0.640109  0.629686      0.638281     10\n",
       "10    0.625370        0.641555  0.631228      0.636375     11\n",
       "11    0.624275        0.641875  0.624908      0.644281     12\n",
       "12    0.623882        0.642313  0.627478      0.644094     13\n",
       "13    0.623187        0.643281  0.622729      0.645719     14\n",
       "14    0.622867        0.642797  0.625565      0.641938     15\n",
       "15    0.622067        0.644063  0.629240      0.634688     16\n",
       "16    0.621369        0.644836  0.620932      0.647906     17\n",
       "17    0.620073        0.645406  0.635620      0.630156     18\n",
       "18    0.620322        0.645805  0.623098      0.644313     19\n",
       "19    0.619707        0.646664  0.620756      0.649563     20\n",
       "20    0.618304        0.646922  0.619245      0.645563     21\n",
       "21    0.617281        0.648578  0.618596      0.652250     22\n",
       "22    0.617082        0.649320  0.618176      0.648750     23\n",
       "23    0.616471        0.649063  0.618960      0.649469     24\n",
       "24    0.615952        0.649625  0.619308      0.646344     25\n",
       "25    0.615818        0.649359  0.613911      0.654688     26\n",
       "26    0.614988        0.650750  0.617280      0.650469     27\n",
       "27    0.614707        0.650852  0.638684      0.630531     28\n",
       "28    0.615444        0.650945  0.612198      0.655813     29\n",
       "29    0.614026        0.652156  0.619306      0.646469     30\n",
       "30    0.613199        0.653320  0.617164      0.648813     31\n",
       "31    0.612872        0.652859  0.611307      0.659406     32\n",
       "32    0.612310        0.653414  0.612928      0.651500     33\n",
       "33    0.612247        0.654141  0.616846      0.648656     34\n",
       "34    0.611027        0.654320  0.617254      0.647375     35\n",
       "35    0.611256        0.653883  0.618894      0.647313     36\n",
       "36    0.611143        0.655078  0.625265      0.638031     37"
      ]
     },
     "execution_count": 21,
     "metadata": {},
     "output_type": "execute_result"
    }
   ],
   "source": [
    "train_model(\n",
    "    naive_model, optimizer,\n",
    "    loss_fn, metrics_dict=metric_dict,\n",
    "    train_dataloader=train_dataloader, val_dataloader=val_dataloader,\n",
    "    monitor=\"val_Accuracy\", mode=\"max\",\n",
    "    epochs=50\n",
    "    )"
   ]
  },
  {
   "cell_type": "markdown",
   "metadata": {},
   "source": [
    "# ROC"
   ]
  },
  {
   "cell_type": "code",
   "execution_count": 22,
   "metadata": {},
   "outputs": [],
   "source": [
    "from analysis import predict"
   ]
  },
  {
   "cell_type": "code",
   "execution_count": 23,
   "metadata": {},
   "outputs": [
    {
     "name": "stderr",
     "output_type": "stream",
     "text": [
      "100%|██████████| 125/125 [00:00<00:00, 1091.32it/s]\n"
     ]
    }
   ],
   "source": [
    "targets, predictions = predict(naive_model, val_dataloader)"
   ]
  },
  {
   "cell_type": "code",
   "execution_count": 24,
   "metadata": {},
   "outputs": [
    {
     "name": "stdout",
     "output_type": "stream",
     "text": [
      "0.69555903125\n"
     ]
    },
    {
     "data": {
      "image/png": "[encoded data removed]",
      "text/plain": [
       "<Figure size 640x480 with 1 Axes>"
      ]
     },
     "metadata": {},
     "output_type": "display_data"
    }
   ],
   "source": [
    "from analysis import calculate_auc\n",
    "from visualize import plot_roc_curve\n",
    "fpr, tpr, auc_roc = calculate_auc(targets, predictions)\n",
    "print(auc_roc)\n",
    "fpr_dict[str(sig_lambda)] = fpr\n",
    "tpr_dict[str(sig_lambda)] = tpr\n",
    "auc_dict[str(sig_lambda)] = auc_roc\n",
    "plot_roc_curve(fpr_dict, tpr_dict, auc_dict, \"ROC Curve\")"
   ]
  },
  {
   "cell_type": "markdown",
   "metadata": {},
   "source": [
    "# Test statistics"
   ]
  },
  {
   "cell_type": "code",
   "execution_count": 25,
   "metadata": {},
   "outputs": [],
   "source": [
    "import analysis\n",
    "import importlib\n",
    "importlib.reload(analysis)\n",
    "from analysis import Bootstrap_Permutation"
   ]
  },
  {
   "cell_type": "code",
   "execution_count": 26,
   "metadata": {},
   "outputs": [],
   "source": [
    "bootstrap_permutation = Bootstrap_Permutation(X2, W2, naive_model, pi, normalizer)"
   ]
  },
  {
   "cell_type": "code",
   "execution_count": 27,
   "metadata": {},
   "outputs": [
    {
     "name": "stderr",
     "output_type": "stream",
     "text": [
      " 49%|████▊     | 486/1000 [00:25<00:21, 24.22it/s]"
     ]
    },
    {
     "name": "stderr",
     "output_type": "stream",
     "text": [
      "100%|██████████| 1000/1000 [00:50<00:00, 19.68it/s]\n"
     ]
    }
   ],
   "source": [
    "lrt_null_bootstarp, auc_null_bootstarp, mce_null_bootstarp = bootstrap_permutation.bootstrap(1000)"
   ]
  },
  {
   "cell_type": "code",
   "execution_count": 28,
   "metadata": {},
   "outputs": [
    {
     "name": "stderr",
     "output_type": "stream",
     "text": [
      " 50%|████▉     | 499/1000 [00:25<00:21, 23.04it/s]"
     ]
    },
    {
     "name": "stderr",
     "output_type": "stream",
     "text": [
      "100%|██████████| 1000/1000 [00:50<00:00, 19.64it/s]\n"
     ]
    }
   ],
   "source": [
    "lrt_null_permutation, auc_null_permutation, mce_null_permutation = bootstrap_permutation.permutation(1000)"
   ]
  },
  {
   "cell_type": "code",
   "execution_count": 29,
   "metadata": {},
   "outputs": [
    {
     "data": {
      "image/png": "[encoded data removed]",
      "text/plain": [
       "<Figure size 640x480 with 1 Axes>"
      ]
     },
     "metadata": {},
     "output_type": "display_data"
    }
   ],
   "source": [
    "plt.hist(mce_null_bootstarp, bins=50, alpha=0.5, label=\"bootstrap p value = {}\".format(bootstrap_permutation.mce_p_bootstrap))\n",
    "plt.hist(mce_null_permutation, bins=50, alpha=0.5, label=\"permutation p value = {}\".format(bootstrap_permutation.mce_p_permutation))\n",
    "plt.axvline(bootstrap_permutation.mce_exp, color='r', label=\"exp\")\n",
    "plt.legend()\n",
    "plt.title(\"MCE Null Distribution lambda = {}\".format(sig_lambda))\n",
    "plt.show()"
   ]
  },
  {
   "cell_type": "code",
   "execution_count": 30,
   "metadata": {},
   "outputs": [
    {
     "data": {
      "image/png": "[encoded data removed]",
      "text/plain": [
       "<Figure size 640x480 with 1 Axes>"
      ]
     },
     "metadata": {},
     "output_type": "display_data"
    }
   ],
   "source": [
    "plt.hist(lrt_null_bootstarp, bins=50, alpha=0.5, label=\"bootstrap p value = {}\".format(bootstrap_permutation.lrt_p_bootstrap))\n",
    "plt.hist(lrt_null_permutation, bins=50, alpha=0.5, label=\"permutation p value = {}\".format(bootstrap_permutation.lrt_p_permutation))\n",
    "plt.axvline(bootstrap_permutation.lrt_exp, color='r', label=\"exp\")\n",
    "plt.legend()\n",
    "plt.title(\"LRT Null Distribution lambda = {}\".format(sig_lambda))\n",
    "plt.show()"
   ]
  },
  {
   "cell_type": "code",
   "execution_count": 31,
   "metadata": {},
   "outputs": [
    {
     "data": {
      "image/png": "[encoded data removed]",
      "text/plain": [
       "<Figure size 640x480 with 1 Axes>"
      ]
     },
     "metadata": {},
     "output_type": "display_data"
    }
   ],
   "source": [
    "plt.hist(auc_null_bootstarp, bins=50, alpha=0.5, label=\"bootstrap p value = {}\".format(bootstrap_permutation.auc_p_bootstrap))\n",
    "plt.hist(auc_null_permutation, bins=50, alpha=0.5, label=\"permutation p value = {}\".format(bootstrap_permutation.auc_p_permutation))\n",
    "plt.axvline(bootstrap_permutation.auc_exp, color='r', label=\"exp\")\n",
    "plt.legend()\n",
    "plt.title(\"AUC Null Distribution lambda = {}\".format(sig_lambda))\n",
    "plt.show()"
   ]
  },
  {
   "cell_type": "markdown",
   "metadata": {},
   "source": [
    "# Estimate signal strength"
   ]
  },
  {
   "cell_type": "code",
   "execution_count": 34,
   "metadata": {},
   "outputs": [],
   "source": [
    "from analysis import LambdaEstimator"
   ]
  },
  {
   "cell_type": "code",
   "execution_count": 35,
   "metadata": {},
   "outputs": [
    {
     "name": "stdout",
     "output_type": "stream",
     "text": [
      "estimated lambda: 0.5252928859226461\n",
      "beta 0 = -0.18796610779927334, beta 1 = -0.5570911592677928\n",
      "last bin height: 0.4747071140773539\n"
     ]
    },
    {
     "data": {
      "image/png": "[encoded data removed]",
      "text/plain": [
       "<Figure size 640x480 with 1 Axes>"
      ]
     },
     "metadata": {},
     "output_type": "display_data"
    }
   ],
   "source": [
    "lambda_estimator = LambdaEstimator(X2, W2, naive_model, T=0.5, n_bins=20, normalizer=normalizer)\n",
    "print(\"estimated lambda:\", lambda_estimator.estimated_lambda)\n",
    "print(\"beta 0 = {}, beta 1 = {}\".format(lambda_estimator.beta0, lambda_estimator.beta1))\n",
    "print(\"last bin height:\", lambda_estimator.estimated_H_t[-1])\n",
    "plt.hist(lambda_estimator.rho_W, bins=lambda_estimator.bins, alpha=0.5, edgecolor='black', density=True)\n",
    "start_idx = lambda_estimator.fit_start_idx\n",
    "plt.plot(lambda_estimator.bins[start_idx:], lambda_estimator.estimated_H_t, label=\"Estimated\")\n",
    "plt.plot(lambda_estimator.bins[1:], lambda_estimator.H_t, '*',label=\"True\")\n",
    "plt.legend()\n",
    "plt.title(\"Estimated λ = {:.2f}, true λ = {}\".format(lambda_estimator.estimated_lambda, sig_lambda))\n",
    "plt.show()"
   ]
  },
  {
   "cell_type": "markdown",
   "metadata": {},
   "source": [
    "# Bootstrapped Uncertainty Intervals for λ"
   ]
  },
  {
   "cell_type": "code",
   "execution_count": 36,
   "metadata": {},
   "outputs": [],
   "source": [
    "lambda_mean_dict = {}\n",
    "lambda_std_dict = {}\n",
    "\n",
    "lrt_p_permutation_dict = {}\n",
    "lrt_p_bootstrap_dict = {}\n",
    "auc_p_permutation_dict = {}\n",
    "auc_p_bootstrap_dict = {}\n",
    "mce_p_permutation_dict = {}\n",
    "mce_p_bootstrap_dict = {}"
   ]
  },
  {
   "cell_type": "code",
   "execution_count": 37,
   "metadata": {},
   "outputs": [],
   "source": [
    "import importlib\n",
    "import classify\n",
    "import analysis\n",
    "importlib.reload(classify)\n",
    "importlib.reload(analysis)\n",
    "from classify import train_model\n",
    "from analysis import Bootstrap_Permutation\n",
    "opt_train_model  = torch.compile(train_model)"
   ]
  },
  {
   "cell_type": "code",
   "execution_count": 38,
   "metadata": {},
   "outputs": [
    {
     "name": "stdout",
     "output_type": "stream",
     "text": [
      "<<<<<< val_Accuracy without improvement in 5 epoch, early stopping >>>>>>\n",
      "<<<<<< val_Accuracy without improvement in 5 epoch, early stopping >>>>>>\n",
      "<<<<<< val_Accuracy without improvement in 5 epoch, early stopping >>>>>>\n",
      "<<<<<< val_Accuracy without improvement in 5 epoch, early stopping >>>>>>\n",
      "<<<<<< val_Accuracy without improvement in 5 epoch, early stopping >>>>>>\n",
      "<<<<<< val_Accuracy without improvement in 5 epoch, early stopping >>>>>>\n",
      "<<<<<< val_Accuracy without improvement in 5 epoch, early stopping >>>>>>\n",
      "<<<<<< val_Accuracy without improvement in 5 epoch, early stopping >>>>>>\n",
      "<<<<<< val_Accuracy without improvement in 5 epoch, early stopping >>>>>>\n",
      "<<<<<< val_Accuracy without improvement in 5 epoch, early stopping >>>>>>\n",
      "sig_lambda: 0 estimated lambda mean: 0.004499298659446404 estimated lambda std: 0.012412271265757105\n",
      "<<<<<< val_Accuracy without improvement in 5 epoch, early stopping >>>>>>\n",
      "<<<<<< val_Accuracy without improvement in 5 epoch, early stopping >>>>>>\n",
      "<<<<<< val_Accuracy without improvement in 5 epoch, early stopping >>>>>>\n",
      "<<<<<< val_Accuracy without improvement in 5 epoch, early stopping >>>>>>\n",
      "<<<<<< val_Accuracy without improvement in 5 epoch, early stopping >>>>>>\n",
      "<<<<<< val_Accuracy without improvement in 5 epoch, early stopping >>>>>>\n",
      "<<<<<< val_Accuracy without improvement in 5 epoch, early stopping >>>>>>\n",
      "<<<<<< val_Accuracy without improvement in 5 epoch, early stopping >>>>>>\n",
      "<<<<<< val_Accuracy without improvement in 5 epoch, early stopping >>>>>>\n",
      "<<<<<< val_Accuracy without improvement in 5 epoch, early stopping >>>>>>\n",
      "sig_lambda: 0.01 estimated lambda mean: 0.029859759259271878 estimated lambda std: 0.02649941433372802\n",
      "<<<<<< val_Accuracy without improvement in 5 epoch, early stopping >>>>>>\n",
      "<<<<<< val_Accuracy without improvement in 5 epoch, early stopping >>>>>>\n",
      "<<<<<< val_Accuracy without improvement in 5 epoch, early stopping >>>>>>\n",
      "<<<<<< val_Accuracy without improvement in 5 epoch, early stopping >>>>>>\n",
      "<<<<<< val_Accuracy without improvement in 5 epoch, early stopping >>>>>>\n",
      "<<<<<< val_Accuracy without improvement in 5 epoch, early stopping >>>>>>\n",
      "<<<<<< val_Accuracy without improvement in 5 epoch, early stopping >>>>>>\n",
      "<<<<<< val_Accuracy without improvement in 5 epoch, early stopping >>>>>>\n",
      "<<<<<< val_Accuracy without improvement in 5 epoch, early stopping >>>>>>\n",
      "<<<<<< val_Accuracy without improvement in 5 epoch, early stopping >>>>>>\n",
      "sig_lambda: 0.05 estimated lambda mean: 0.060339289181966904 estimated lambda std: 0.020279141317527536\n",
      "<<<<<< val_Accuracy without improvement in 5 epoch, early stopping >>>>>>\n",
      "<<<<<< val_Accuracy without improvement in 5 epoch, early stopping >>>>>>\n",
      "<<<<<< val_Accuracy without improvement in 5 epoch, early stopping >>>>>>\n",
      "<<<<<< val_Accuracy without improvement in 5 epoch, early stopping >>>>>>\n",
      "<<<<<< val_Accuracy without improvement in 5 epoch, early stopping >>>>>>\n",
      "<<<<<< val_Accuracy without improvement in 5 epoch, early stopping >>>>>>\n",
      "<<<<<< val_Accuracy without improvement in 5 epoch, early stopping >>>>>>\n",
      "<<<<<< val_Accuracy without improvement in 5 epoch, early stopping >>>>>>\n",
      "<<<<<< val_Accuracy without improvement in 5 epoch, early stopping >>>>>>\n",
      "<<<<<< val_Accuracy without improvement in 5 epoch, early stopping >>>>>>\n",
      "sig_lambda: 0.1 estimated lambda mean: 0.10331131629312398 estimated lambda std: 0.017570043243488792\n",
      "<<<<<< val_Accuracy without improvement in 5 epoch, early stopping >>>>>>\n",
      "<<<<<< val_Accuracy without improvement in 5 epoch, early stopping >>>>>>\n",
      "<<<<<< val_Accuracy without improvement in 5 epoch, early stopping >>>>>>\n",
      "<<<<<< val_Accuracy without improvement in 5 epoch, early stopping >>>>>>\n",
      "<<<<<< val_Accuracy without improvement in 5 epoch, early stopping >>>>>>\n",
      "<<<<<< val_Accuracy without improvement in 5 epoch, early stopping >>>>>>\n",
      "<<<<<< val_Accuracy without improvement in 5 epoch, early stopping >>>>>>\n",
      "<<<<<< val_Accuracy without improvement in 5 epoch, early stopping >>>>>>\n",
      "<<<<<< val_Accuracy without improvement in 5 epoch, early stopping >>>>>>\n",
      "<<<<<< val_Accuracy without improvement in 5 epoch, early stopping >>>>>>\n",
      "sig_lambda: 0.2 estimated lambda mean: 0.2073135039582318 estimated lambda std: 0.021844327458582388\n",
      "<<<<<< val_Accuracy without improvement in 5 epoch, early stopping >>>>>>\n",
      "<<<<<< val_Accuracy without improvement in 5 epoch, early stopping >>>>>>\n",
      "<<<<<< val_Accuracy without improvement in 5 epoch, early stopping >>>>>>\n",
      "<<<<<< val_Accuracy without improvement in 5 epoch, early stopping >>>>>>\n",
      "<<<<<< val_Accuracy without improvement in 5 epoch, early stopping >>>>>>\n",
      "<<<<<< val_Accuracy without improvement in 5 epoch, early stopping >>>>>>\n",
      "<<<<<< val_Accuracy without improvement in 5 epoch, early stopping >>>>>>\n",
      "<<<<<< val_Accuracy without improvement in 5 epoch, early stopping >>>>>>\n",
      "<<<<<< val_Accuracy without improvement in 5 epoch, early stopping >>>>>>\n",
      "<<<<<< val_Accuracy without improvement in 5 epoch, early stopping >>>>>>\n",
      "sig_lambda: 0.3 estimated lambda mean: 0.3136191424662297 estimated lambda std: 0.012999925899822243\n",
      "<<<<<< val_Accuracy without improvement in 5 epoch, early stopping >>>>>>\n",
      "<<<<<< val_Accuracy without improvement in 5 epoch, early stopping >>>>>>\n",
      "<<<<<< val_Accuracy without improvement in 5 epoch, early stopping >>>>>>\n",
      "<<<<<< val_Accuracy without improvement in 5 epoch, early stopping >>>>>>\n",
      "<<<<<< val_Accuracy without improvement in 5 epoch, early stopping >>>>>>\n",
      "<<<<<< val_Accuracy without improvement in 5 epoch, early stopping >>>>>>\n",
      "<<<<<< val_Accuracy without improvement in 5 epoch, early stopping >>>>>>\n",
      "<<<<<< val_Accuracy without improvement in 5 epoch, early stopping >>>>>>\n",
      "<<<<<< val_Accuracy without improvement in 5 epoch, early stopping >>>>>>\n",
      "<<<<<< val_Accuracy without improvement in 5 epoch, early stopping >>>>>>\n",
      "sig_lambda: 0.4 estimated lambda mean: 0.41878112406699025 estimated lambda std: 0.016118308336167016\n",
      "<<<<<< val_Accuracy without improvement in 5 epoch, early stopping >>>>>>\n",
      "<<<<<< val_Accuracy without improvement in 5 epoch, early stopping >>>>>>\n",
      "<<<<<< val_Accuracy without improvement in 5 epoch, early stopping >>>>>>\n",
      "<<<<<< val_Accuracy without improvement in 5 epoch, early stopping >>>>>>\n",
      "<<<<<< val_Accuracy without improvement in 5 epoch, early stopping >>>>>>\n",
      "<<<<<< val_Accuracy without improvement in 5 epoch, early stopping >>>>>>\n",
      "<<<<<< val_Accuracy without improvement in 5 epoch, early stopping >>>>>>\n",
      "<<<<<< val_Accuracy without improvement in 5 epoch, early stopping >>>>>>\n",
      "<<<<<< val_Accuracy without improvement in 5 epoch, early stopping >>>>>>\n",
      "<<<<<< val_Accuracy without improvement in 5 epoch, early stopping >>>>>>\n",
      "sig_lambda: 0.5 estimated lambda mean: 0.5185188137004034 estimated lambda std: 0.010210719852731356\n"
     ]
    }
   ],
   "source": [
    "n_bootstrap = 10\n",
    "\n",
    "\n",
    "test_ratio=0.2\n",
    "val_ratio = 0.2\n",
    "n = 100000\n",
    "n_null = 1000\n",
    "\n",
    "test_signal = \"neutral_boson\"\n",
    "# test_signal = \"leptoquark\"\n",
    "# test_signal = \"neutral_Higgs\"\n",
    "# test_signal = \"charged_Higgs\"\n",
    "significance = 0.05\n",
    "\n",
    "\n",
    "test_lambdas = [0, 0.01, 0.05, 0.1, 0.2, 0.3, 0.4, 0.5]\n",
    "for i in range(len(test_lambdas)):\n",
    "    sig_lambda = test_lambdas[i]\n",
    "\n",
    "    estimated_lambdas = np.zeros(n_bootstrap)\n",
    "\n",
    "    lrt_permutation_power = 0\n",
    "    lrt_bootstrap_power = 0\n",
    "    auc_permutation_power = 0\n",
    "    auc_bootstrap_power = 0\n",
    "    mce_permutation_power = 0\n",
    "    mce_bootstrap_power = 0\n",
    "    for j in range(n_bootstrap):\n",
    "        exp_events, bkg_events = create_exp_bkg_events(embedding_points['SM'], embedding_points[test_signal], sig_lambda, n)\n",
    "        X1, X2, W1, W2 = train_test_split(exp_events, bkg_events, test_ratio)\n",
    "        n1 = len(W1)\n",
    "        m1 = len(X1)\n",
    "        n2 = len(W2)\n",
    "        m2 = len(X2)\n",
    "        train_dataloader, val_dataloader = get_dataloaders(X1, W1, val_ratio, normalizer)\n",
    "\n",
    "        hidden_dim = [8, 16, 16, 16, 8]\n",
    "        naive_model = MLP(output_dim, hidden_sizes=hidden_dim)\n",
    "        naive_model.to(device)\n",
    "        optimizer = torch.optim.Adam(naive_model.parameters(), lr=1e-3, weight_decay=1e-5)\n",
    "        loss_fn = nn.BCELoss()\n",
    "        acc_metric = BinaryACCUpdater()\n",
    "        metric_dict = {\"Accuracy\": acc_metric}\n",
    "\n",
    "        train_model(\n",
    "            naive_model, optimizer,\n",
    "            loss_fn, metrics_dict=metric_dict,\n",
    "            train_dataloader=train_dataloader, val_dataloader=val_dataloader,\n",
    "            monitor=\"val_Accuracy\", mode=\"max\",\n",
    "            epochs=50,\n",
    "            verbose=False\n",
    "            )\n",
    "        \n",
    "        bootstrap_permutation = Bootstrap_Permutation(X2, W2, naive_model, pi, normalizer)\n",
    "        _, _, _ = bootstrap_permutation.bootstrap(n_null, verbose=False)\n",
    "        _, _, _ = bootstrap_permutation.permutation(n_null, verbose=False)\n",
    "        if bootstrap_permutation.lrt_p_permutation < significance:\n",
    "            lrt_permutation_power += 1\n",
    "        if bootstrap_permutation.lrt_p_bootstrap < significance:\n",
    "            lrt_bootstrap_power += 1\n",
    "        if bootstrap_permutation.auc_p_permutation < significance:\n",
    "            auc_permutation_power += 1\n",
    "        if bootstrap_permutation.auc_p_bootstrap < significance:\n",
    "            auc_bootstrap_power += 1\n",
    "        if bootstrap_permutation.mce_p_permutation < significance:\n",
    "            mce_permutation_power += 1\n",
    "        if bootstrap_permutation.mce_p_bootstrap < significance:\n",
    "            mce_bootstrap_power += 1\n",
    "\n",
    "        lambda_estimator = LambdaEstimator(X2, W2, naive_model, T=0.5, n_bins=20, normalizer=normalizer)\n",
    "        estimated_lambdas[j] = lambda_estimator.estimated_lambda\n",
    "    print(\"sig_lambda:\", sig_lambda, \"estimated lambda mean:\", estimated_lambdas.mean(), \"estimated lambda std:\", estimated_lambdas.std())\n",
    "    lambda_mean_dict[str(sig_lambda)] = estimated_lambdas.mean()\n",
    "    lambda_std_dict[str(sig_lambda)] = estimated_lambdas.std(ddof = 1)\n",
    "    lrt_p_permutation_dict[str(sig_lambda)] = lrt_permutation_power\n",
    "    lrt_p_bootstrap_dict[str(sig_lambda)] = lrt_bootstrap_power\n",
    "    auc_p_permutation_dict[str(sig_lambda)] = auc_permutation_power\n",
    "    auc_p_bootstrap_dict[str(sig_lambda)] = auc_bootstrap_power\n",
    "    mce_p_permutation_dict[str(sig_lambda)] = mce_permutation_power\n",
    "    mce_p_bootstrap_dict[str(sig_lambda)] = mce_bootstrap_power\n"
   ]
  },
  {
   "cell_type": "code",
   "execution_count": 39,
   "metadata": {},
   "outputs": [
    {
     "name": "stdout",
     "output_type": "stream",
     "text": [
      "[0.52798845 0.5086411  0.50050429 0.52558945 0.5265721  0.50137583\n",
      " 0.52683259 0.52177548 0.5241825  0.52172635]\n",
      "{'0': 0.004499298659446404, '0.01': 0.029859759259271878, '0.05': 0.060339289181966904, '0.1': 0.10331131629312398, '0.2': 0.2073135039582318, '0.3': 0.3136191424662297, '0.4': 0.41878112406699025, '0.5': 0.5185188137004034}\n",
      "{'0': 0.01308368271188453, '0.01': 0.02793283531836462, '0.05': 0.021376091851938294, '0.1': 0.018520451745692328, '0.2': 0.023025942907892595, '0.3': 0.013703125085617399, '0.4': 0.016990188790388903, '0.5': 0.010763043761510044}\n"
     ]
    }
   ],
   "source": [
    "print(estimated_lambdas)\n",
    "print(lambda_mean_dict)\n",
    "print(lambda_std_dict)"
   ]
  },
  {
   "cell_type": "code",
   "execution_count": 40,
   "metadata": {},
   "outputs": [],
   "source": [
    "import visualize\n",
    "importlib.reload(visualize)\n",
    "from visualize import plot_lambda"
   ]
  },
  {
   "cell_type": "code",
   "execution_count": 41,
   "metadata": {},
   "outputs": [
    {
     "data": {
      "image/png": "[encoded data removed]",
      "text/plain": [
       "<Figure size 640x480 with 1 Axes>"
      ]
     },
     "metadata": {},
     "output_type": "display_data"
    }
   ],
   "source": [
    "plot_lambda(lambda_mean_dict, lambda_std_dict, test_signal)"
   ]
  },
  {
   "cell_type": "code",
   "execution_count": 42,
   "metadata": {},
   "outputs": [
    {
     "name": "stdout",
     "output_type": "stream",
     "text": [
      "{'0': 1, '0.01': 3, '0.05': 10, '0.1': 10, '0.2': 10, '0.3': 10, '0.4': 10, '0.5': 10}\n",
      "{'0': 0, '0.01': 0, '0.05': 10, '0.1': 10, '0.2': 10, '0.3': 10, '0.4': 10, '0.5': 10}\n",
      "{'0': 1, '0.01': 1, '0.05': 10, '0.1': 10, '0.2': 10, '0.3': 10, '0.4': 10, '0.5': 10}\n",
      "{'0': 1, '0.01': 1, '0.05': 10, '0.1': 10, '0.2': 10, '0.3': 10, '0.4': 10, '0.5': 10}\n",
      "{'0': 7, '0.01': 5, '0.05': 10, '0.1': 10, '0.2': 10, '0.3': 10, '0.4': 10, '0.5': 10}\n",
      "{'0': 7, '0.01': 5, '0.05': 10, '0.1': 10, '0.2': 10, '0.3': 10, '0.4': 10, '0.5': 10}\n"
     ]
    }
   ],
   "source": [
    "print(lrt_p_permutation_dict)\n",
    "print(lrt_p_bootstrap_dict)\n",
    "print(auc_p_permutation_dict)\n",
    "print(auc_p_bootstrap_dict)\n",
    "print(mce_p_permutation_dict)\n",
    "print(mce_p_bootstrap_dict)"
   ]
  },
  {
   "cell_type": "code",
   "execution_count": 43,
   "metadata": {},
   "outputs": [
    {
     "data": {
      "image/png": "[encoded data removed]",
      "text/plain": [
       "<Figure size 640x480 with 1 Axes>"
      ]
     },
     "metadata": {},
     "output_type": "display_data"
    }
   ],
   "source": [
    "plt.plot(test_lambdas, np.array([lrt_p_permutation_dict[str(sig_lambda)] for sig_lambda in test_lambdas])/n_bootstrap, label=\"LRT Permutation\")\n",
    "plt.plot(test_lambdas, np.array([lrt_p_bootstrap_dict[str(sig_lambda)] for sig_lambda in test_lambdas])/n_bootstrap, label=\"LRT Bootstrap\")\n",
    "plt.plot(test_lambdas, np.array([auc_p_permutation_dict[str(sig_lambda)] for sig_lambda in test_lambdas])/n_bootstrap, label=\"AUC Permutation\")\n",
    "plt.plot(test_lambdas, np.array([auc_p_bootstrap_dict[str(sig_lambda)] for sig_lambda in test_lambdas])/n_bootstrap, label=\"AUC Bootstrap\")\n",
    "plt.plot(test_lambdas, np.array([mce_p_permutation_dict[str(sig_lambda)] for sig_lambda in test_lambdas])/n_bootstrap, label=\"MCE Permutation\")\n",
    "plt.plot(test_lambdas, np.array([mce_p_bootstrap_dict[str(sig_lambda)] for sig_lambda in test_lambdas])/n_bootstrap, label=\"MCE Bootstrap\")\n",
    "plt.title(\"Power to detect {} at significance level {:.0%}\".format(test_signal, significance))\n",
    "plt.legend()\n",
    "plt.show()"
   ]
  },
  {
   "cell_type": "code",
   "execution_count": 44,
   "metadata": {},
   "outputs": [],
   "source": [
    "import pandas as pd\n",
    "power_df = pd.DataFrame(columns=test_lambdas)\n",
    "power_df.loc[\"LRT Permutation\"] = [lrt_p_permutation_dict[str(sig_lambda)]/n_bootstrap for sig_lambda in test_lambdas]\n",
    "power_df.loc[\"LRT Bootstrap\"] = [lrt_p_bootstrap_dict[str(sig_lambda)]/n_bootstrap for sig_lambda in test_lambdas]\n",
    "power_df.loc[\"AUC Permutation\"] = [auc_p_permutation_dict[str(sig_lambda)]/n_bootstrap for sig_lambda in test_lambdas]\n",
    "power_df.loc[\"AUC Bootstrap\"] = [auc_p_bootstrap_dict[str(sig_lambda)]/n_bootstrap for sig_lambda in test_lambdas]\n",
    "power_df.loc[\"MCE Permutation\"] = [mce_p_permutation_dict[str(sig_lambda)]/n_bootstrap for sig_lambda in test_lambdas]\n",
    "power_df.loc[\"MCE Bootstrap\"] = [mce_p_bootstrap_dict[str(sig_lambda)]/n_bootstrap for sig_lambda in test_lambdas]"
   ]
  },
  {
   "cell_type": "code",
   "execution_count": 45,
   "metadata": {},
   "outputs": [
    {
     "data": {
      "text/html": [
       "<div>\n",
       "<style scoped>\n",
       "    .dataframe tbody tr th:only-of-type {\n",
       "        vertical-align: middle;\n",
       "    }\n",
       "\n",
       "    .dataframe tbody tr th {\n",
       "        vertical-align: top;\n",
       "    }\n",
       "\n",
       "    .dataframe thead th {\n",
       "        text-align: right;\n",
       "    }\n",
       "</style>\n",
       "<table border=\"1\" class=\"dataframe\">\n",
       "  <thead>\n",
       "    <tr style=\"text-align: right;\">\n",
       "      <th></th>\n",
       "      <th>0.00</th>\n",
       "      <th>0.01</th>\n",
       "      <th>0.05</th>\n",
       "      <th>0.10</th>\n",
       "      <th>0.20</th>\n",
       "      <th>0.30</th>\n",
       "      <th>0.40</th>\n",
       "      <th>0.50</th>\n",
       "    </tr>\n",
       "  </thead>\n",
       "  <tbody>\n",
       "    <tr>\n",
       "      <th>LRT Permutation</th>\n",
       "      <td>0.1</td>\n",
       "      <td>0.3</td>\n",
       "      <td>1.0</td>\n",
       "      <td>1.0</td>\n",
       "      <td>1.0</td>\n",
       "      <td>1.0</td>\n",
       "      <td>1.0</td>\n",
       "      <td>1.0</td>\n",
       "    </tr>\n",
       "    <tr>\n",
       "      <th>LRT Bootstrap</th>\n",
       "      <td>0.0</td>\n",
       "      <td>0.0</td>\n",
       "      <td>1.0</td>\n",
       "      <td>1.0</td>\n",
       "      <td>1.0</td>\n",
       "      <td>1.0</td>\n",
       "      <td>1.0</td>\n",
       "      <td>1.0</td>\n",
       "    </tr>\n",
       "    <tr>\n",
       "      <th>AUC Permutation</th>\n",
       "      <td>0.1</td>\n",
       "      <td>0.1</td>\n",
       "      <td>1.0</td>\n",
       "      <td>1.0</td>\n",
       "      <td>1.0</td>\n",
       "      <td>1.0</td>\n",
       "      <td>1.0</td>\n",
       "      <td>1.0</td>\n",
       "    </tr>\n",
       "    <tr>\n",
       "      <th>AUC Bootstrap</th>\n",
       "      <td>0.1</td>\n",
       "      <td>0.1</td>\n",
       "      <td>1.0</td>\n",
       "      <td>1.0</td>\n",
       "      <td>1.0</td>\n",
       "      <td>1.0</td>\n",
       "      <td>1.0</td>\n",
       "      <td>1.0</td>\n",
       "    </tr>\n",
       "    <tr>\n",
       "      <th>MCE Permutation</th>\n",
       "      <td>0.7</td>\n",
       "      <td>0.5</td>\n",
       "      <td>1.0</td>\n",
       "      <td>1.0</td>\n",
       "      <td>1.0</td>\n",
       "      <td>1.0</td>\n",
       "      <td>1.0</td>\n",
       "      <td>1.0</td>\n",
       "    </tr>\n",
       "    <tr>\n",
       "      <th>MCE Bootstrap</th>\n",
       "      <td>0.7</td>\n",
       "      <td>0.5</td>\n",
       "      <td>1.0</td>\n",
       "      <td>1.0</td>\n",
       "      <td>1.0</td>\n",
       "      <td>1.0</td>\n",
       "      <td>1.0</td>\n",
       "      <td>1.0</td>\n",
       "    </tr>\n",
       "  </tbody>\n",
       "</table>\n",
       "</div>"
      ],
      "text/plain": [
       "                 0.00  0.01  0.05  0.10  0.20  0.30  0.40  0.50\n",
       "LRT Permutation   0.1   0.3   1.0   1.0   1.0   1.0   1.0   1.0\n",
       "LRT Bootstrap     0.0   0.0   1.0   1.0   1.0   1.0   1.0   1.0\n",
       "AUC Permutation   0.1   0.1   1.0   1.0   1.0   1.0   1.0   1.0\n",
       "AUC Bootstrap     0.1   0.1   1.0   1.0   1.0   1.0   1.0   1.0\n",
       "MCE Permutation   0.7   0.5   1.0   1.0   1.0   1.0   1.0   1.0\n",
       "MCE Bootstrap     0.7   0.5   1.0   1.0   1.0   1.0   1.0   1.0"
      ]
     },
     "metadata": {},
     "output_type": "display_data"
    }
   ],
   "source": [
    "display(power_df)"
   ]
  },
  {
   "cell_type": "code",
   "execution_count": null,
   "metadata": {},
   "outputs": [],
   "source": []
  }
 ],
 "metadata": {
  "kernelspec": {
   "display_name": "ad",
   "language": "python",
   "name": "python3"
  },
  "language_info": {
   "codemirror_mode": {
    "name": "ipython",
    "version": 3
   },
   "file_extension": ".py",
   "mimetype": "text/x-python",
   "name": "python",
   "nbconvert_exporter": "python",
   "pygments_lexer": "ipython3",
   "version": "3.11.8"
  }
 },
 "nbformat": 4,
 "nbformat_minor": 2
}
