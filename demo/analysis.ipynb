{
 "cells": [
  {
   "cell_type": "code",
   "execution_count": 1,
   "metadata": {},
   "outputs": [],
   "source": [
    "import torch\n",
    "from torch import nn\n",
    "import numpy as np\n",
    "import sys\n",
    "import os\n",
    "import pandas as pd\n",
    "from torch.utils.data import Dataset, DataLoader\n",
    "from tqdm import tqdm\n",
    "\n",
    "\n",
    "sys.path.append(\"..\")\n",
    "from model import ParticleEventTransformer\n",
    "from data import get_database_path, get_h5_files, read_h5_file, select_events\n",
    "from utils import load_toml_config\n",
    "\n",
    "import matplotlib.pyplot as plt\n",
    "\n",
    "\n",
    "device = \"cuda\" if torch.cuda.is_available() else \"mps\" if sys.platform == \"darwin\" else \"cpu\"\n"
   ]
  },
  {
   "cell_type": "code",
   "execution_count": 2,
   "metadata": {},
   "outputs": [],
   "source": [
    "EMD_config = load_toml_config(\"EMD\")\n",
    "particle_type_scale = EMD_config['particle_type_scale']"
   ]
  },
  {
   "cell_type": "markdown",
   "metadata": {},
   "source": [
    "# Load raw events"
   ]
  },
  {
   "cell_type": "code",
   "execution_count": 3,
   "metadata": {},
   "outputs": [
    {
     "name": "stdout",
     "output_type": "stream",
     "text": [
      "SM (13451915, 19, 4)\n",
      "neutral_boson (55969, 19, 4)\n",
      "leptoquark (340544, 19, 4)\n",
      "neutral_Higgs (691283, 19, 4)\n",
      "charged_Higgs (760272, 19, 4)\n"
     ]
    }
   ],
   "source": [
    "files = load_toml_config(\"file\")\n",
    "database_path = get_database_path()\n",
    "bkg_files, sig_files = get_h5_files()\n",
    "\n",
    "# bkg = read_h5_file(database_path, files[\"SM\"])\n",
    "# # SM processes\n",
    "\n",
    "# neutral_boson = read_h5_file(database_path, files[\"neutral_boson\"])\n",
    "# print(neutral_boson.shape)\n",
    "# # A neutral scalar boson (A) with mass 50 GeV, decaying to two off-shell Z bosons, each forced to decay to two leptons: A → 4l\n",
    "\n",
    "# leptoquark = read_h5_file(database_path, files[\"leptoquark\"])\n",
    "# print(leptoquark.shape)\n",
    "# # A leptoquark (LQ) with mass 80 GeV, decaying to a b quark and a τ lepton24\n",
    "\n",
    "# neutral_Higgs = read_h5_file(database_path, files[\"neutral_Higgs\"])\n",
    "# print(neutral_Higgs.shape)\n",
    "# # A scalar boson with mass 60 GeV, decaying to two tau leptons: h0→ ττ\n",
    "\n",
    "# charged_Higgs = read_h5_file(database_path, files[\"charged_Higgs\"])\n",
    "# print(charged_Higgs.shape)\n",
    "# # A charged scalar boson with mass 60 GeV, decaying to a tau lepton and a neutrino\n",
    "\n",
    "events = {}\n",
    "for key, value in files.items():\n",
    "    events[key] = read_h5_file(database_path, value)\n",
    "    print(key, events[key].shape)"
   ]
  },
  {
   "cell_type": "code",
   "execution_count": 8,
   "metadata": {},
   "outputs": [
    {
     "name": "stdout",
     "output_type": "stream",
     "text": [
      "['neutral_boson', 'leptoquark', 'neutral_Higgs', 'charged_Higgs']\n"
     ]
    }
   ],
   "source": [
    "signals = [key for key in events.keys() if key != \"SM\"]\n",
    "print(signals)"
   ]
  },
  {
   "cell_type": "markdown",
   "metadata": {},
   "source": [
    "# Load embedding model"
   ]
  },
  {
   "cell_type": "code",
   "execution_count": 15,
   "metadata": {},
   "outputs": [
    {
     "name": "stdout",
     "output_type": "stream",
     "text": [
      "{'feature_size': 3, 'embed_size': 16, 'num_heads': 8, 'num_layers': 4, 'hidden_dim': 256, 'output_dim': 4}\n"
     ]
    },
    {
     "name": "stderr",
     "output_type": "stream",
     "text": [
      "/home/desmondhe/anaconda3/envs/ad/lib/python3.11/site-packages/torch/nn/modules/transformer.py:286: UserWarning: enable_nested_tensor is True, but self.use_nested_tensor is False because encoder_layer.self_attn.batch_first was not True(use batch_first for better inference performance)\n",
      "  warnings.warn(f\"enable_nested_tensor is True, but self.use_nested_tensor is False because {why_not_sparsity_fast_path}\")\n"
     ]
    }
   ],
   "source": [
    "model_hyper_parameters = load_toml_config(\"Transformer\")\n",
    "print(model_hyper_parameters)\n",
    "feature_size = model_hyper_parameters[\"feature_size\"]\n",
    "embed_size = model_hyper_parameters[\"embed_size\"]\n",
    "num_heads = model_hyper_parameters[\"num_heads\"]\n",
    "num_layers = model_hyper_parameters[\"num_layers\"]\n",
    "hidden_dim = model_hyper_parameters[\"hidden_dim\"]\n",
    "output_dim = model_hyper_parameters[\"output_dim\"]\n",
    "\n",
    "embedding_model = ParticleEventTransformer(feature_size, embed_size, num_heads, hidden_dim, output_dim, num_layers)"
   ]
  },
  {
   "cell_type": "markdown",
   "metadata": {},
   "source": [
    "# Embed events"
   ]
  },
  {
   "cell_type": "code",
   "execution_count": 10,
   "metadata": {},
   "outputs": [],
   "source": [
    "from analysis import inference"
   ]
  },
  {
   "cell_type": "code",
   "execution_count": 11,
   "metadata": {},
   "outputs": [],
   "source": [
    "from data import EventDataset"
   ]
  },
  {
   "cell_type": "code",
   "execution_count": 13,
   "metadata": {},
   "outputs": [],
   "source": [
    "infer_test_num = 1000000\n",
    "dataloaders = {}\n",
    "for key, value in events.items():\n",
    "    dataloaders[key] = DataLoader(EventDataset(value[:infer_test_num]), batch_size=256, num_workers=16, prefetch_factor=5)"
   ]
  },
  {
   "cell_type": "code",
   "execution_count": 16,
   "metadata": {},
   "outputs": [
    {
     "name": "stderr",
     "output_type": "stream",
     "text": [
      "100%|██████████| 3907/3907 [00:08<00:00, 457.45it/s]\n"
     ]
    },
    {
     "name": "stdout",
     "output_type": "stream",
     "text": [
      "SM (1000000, 4)\n"
     ]
    },
    {
     "name": "stderr",
     "output_type": "stream",
     "text": [
      "100%|██████████| 219/219 [00:01<00:00, 205.39it/s]\n"
     ]
    },
    {
     "name": "stdout",
     "output_type": "stream",
     "text": [
      "neutral_boson (55969, 4)\n"
     ]
    },
    {
     "name": "stderr",
     "output_type": "stream",
     "text": [
      "100%|██████████| 1331/1331 [00:03<00:00, 401.57it/s]\n"
     ]
    },
    {
     "name": "stdout",
     "output_type": "stream",
     "text": [
      "leptoquark (340544, 4)\n"
     ]
    },
    {
     "name": "stderr",
     "output_type": "stream",
     "text": [
      "100%|██████████| 2701/2701 [00:06<00:00, 444.75it/s]\n"
     ]
    },
    {
     "name": "stdout",
     "output_type": "stream",
     "text": [
      "neutral_Higgs (691283, 4)\n"
     ]
    },
    {
     "name": "stderr",
     "output_type": "stream",
     "text": [
      "100%|██████████| 2970/2970 [00:06<00:00, 448.37it/s]"
     ]
    },
    {
     "name": "stdout",
     "output_type": "stream",
     "text": [
      "charged_Higgs (760272, 4)\n"
     ]
    },
    {
     "name": "stderr",
     "output_type": "stream",
     "text": [
      "\n"
     ]
    }
   ],
   "source": [
    "embedding_points = {}\n",
    "embedding_model.load_state_dict(torch.load(os.path.join(\"..\", \"model\",\"emb_dim{}_type_scale{}.pt\".format(output_dim, particle_type_scale))))\n",
    "embedding_model.to(device)\n",
    "for key, value in dataloaders.items():\n",
    "    embedding_points[key] = inference(embedding_model, value, embed_dim=output_dim)\n",
    "    print(key, embedding_points[key].shape)"
   ]
  },
  {
   "cell_type": "code",
   "execution_count": 18,
   "metadata": {},
   "outputs": [],
   "source": [
    "from analysis import Normalizer"
   ]
  },
  {
   "cell_type": "code",
   "execution_count": 28,
   "metadata": {},
   "outputs": [],
   "source": [
    "normalizer = Normalizer(*[value for value in embedding_points.values()])"
   ]
  },
  {
   "cell_type": "code",
   "execution_count": 29,
   "metadata": {},
   "outputs": [
    {
     "name": "stdout",
     "output_type": "stream",
     "text": [
      "[382.31155396 401.36450195 345.75421143 340.81079102]\n",
      "[-374.65716553 -361.722229   -324.36480713 -334.16223145]\n"
     ]
    }
   ],
   "source": [
    "print(normalizer.max)\n",
    "print(normalizer.min)"
   ]
  },
  {
   "cell_type": "markdown",
   "metadata": {},
   "source": [
    "# Split embed points"
   ]
  },
  {
   "cell_type": "code",
   "execution_count": 31,
   "metadata": {},
   "outputs": [],
   "source": [
    "tpr_dict = {}\n",
    "fpr_dict = {}\n",
    "auc_dict = {}"
   ]
  },
  {
   "cell_type": "code",
   "execution_count": 32,
   "metadata": {},
   "outputs": [],
   "source": [
    "from analysis import create_exp_bkg_events, train_test_split, get_dataloaders"
   ]
  },
  {
   "cell_type": "code",
   "execution_count": 33,
   "metadata": {},
   "outputs": [],
   "source": [
    "test_ratio=0.2\n",
    "val_ratio = 0.2\n",
    "sig_lambda = 0.5\n",
    "n = 100000\n",
    "\n",
    "exp_events, bkg_events = create_exp_bkg_events(embedding_points['SM'], embedding_points['neutral_boson'], sig_lambda, n)\n",
    "# exp_events, bkg_events = create_exp_bkg_events(bkg_embed_points, leptoquark_embed_points, sig_lambda, n)\n",
    "# exp_events, bkg_events = create_exp_bkg_events(bkg_embed_points, neutral_Higgs_embed_points, sig_lambda, n)\n",
    "# exp_events, bkg_events = create_exp_bkg_events(bkg_embed_points, charged_Higgs_embed_points, sig_lambda, n)\n",
    "X1, X2, W1, W2 = train_test_split(exp_events, bkg_events, test_ratio)\n",
    "n1 = len(W1)\n",
    "m1 = len(X1)\n",
    "pi = n1 / (n1 + m1)\n",
    "n2 = len(W2)\n",
    "m2 = len(X2)\n",
    "train_dataloader, val_dataloader = get_dataloaders(X1, W1, val_ratio, normalizer)"
   ]
  },
  {
   "cell_type": "markdown",
   "metadata": {},
   "source": [
    "# Classify Model"
   ]
  },
  {
   "cell_type": "code",
   "execution_count": 34,
   "metadata": {},
   "outputs": [],
   "source": [
    "from model import MLP\n",
    "hidden_dim = [8, 16, 16, 16, 8]\n",
    "naive_model = MLP(output_dim, hidden_sizes=hidden_dim)"
   ]
  },
  {
   "cell_type": "markdown",
   "metadata": {},
   "source": [
    "# Train"
   ]
  },
  {
   "cell_type": "code",
   "execution_count": 35,
   "metadata": {},
   "outputs": [],
   "source": [
    "from metrics import BinaryACCUpdater"
   ]
  },
  {
   "cell_type": "code",
   "execution_count": 36,
   "metadata": {},
   "outputs": [],
   "source": [
    "naive_model.to(device)\n",
    "optimizer = torch.optim.Adam(naive_model.parameters(), lr=1e-3, weight_decay=1e-5)\n",
    "loss_fn = nn.BCELoss()\n",
    "acc_metric = BinaryACCUpdater()\n",
    "metric_dict = {\"Accuracy\": acc_metric}"
   ]
  },
  {
   "cell_type": "code",
   "execution_count": 37,
   "metadata": {},
   "outputs": [],
   "source": [
    "from classify import train_model"
   ]
  },
  {
   "cell_type": "code",
   "execution_count": 38,
   "metadata": {},
   "outputs": [],
   "source": [
    "# opt_train_model  = torch.compile(train_model)"
   ]
  },
  {
   "cell_type": "code",
   "execution_count": 39,
   "metadata": {},
   "outputs": [
    {
     "name": "stdout",
     "output_type": "stream",
     "text": [
      "\n",
      "================================================================================2024-05-21 21:29:20\n",
      "Epoch 1 / 50\n",
      "\n",
      "100%|██████████| 4000/4000 [00:06<00:00, 584.51it/s, train_Accuracy=0.596, train_loss=0.665]\n",
      "100%|██████████| 125/125 [00:00<00:00, 586.48it/s, val_Accuracy=0.594, val_loss=0.663]\n",
      "<<<<<< reach best val_Accuracy : 0.5938437581062317 >>>>>>\n",
      "\n",
      "================================================================================2024-05-21 21:29:27\n",
      "Epoch 2 / 50\n",
      "\n",
      "100%|██████████| 4000/4000 [00:06<00:00, 598.38it/s, train_Accuracy=0.605, train_loss=0.661]\n",
      "100%|██████████| 125/125 [00:00<00:00, 587.78it/s, val_Accuracy=0.599, val_loss=0.662]\n",
      "<<<<<< reach best val_Accuracy : 0.5994375348091125 >>>>>>\n",
      "\n",
      "================================================================================2024-05-21 21:29:34\n",
      "Epoch 3 / 50\n",
      "\n",
      "100%|██████████| 4000/4000 [00:06<00:00, 596.10it/s, train_Accuracy=0.608, train_loss=0.66] \n",
      "100%|██████████| 125/125 [00:00<00:00, 697.23it/s, val_Accuracy=0.611, val_loss=0.658]\n",
      "<<<<<< reach best val_Accuracy : 0.6105625033378601 >>>>>>\n",
      "\n",
      "================================================================================2024-05-21 21:29:41\n",
      "Epoch 4 / 50\n",
      "\n",
      "100%|██████████| 4000/4000 [00:06<00:00, 586.23it/s, train_Accuracy=0.608, train_loss=0.66] \n",
      "100%|██████████| 125/125 [00:00<00:00, 580.85it/s, val_Accuracy=0.606, val_loss=0.66] \n",
      "\n",
      "================================================================================2024-05-21 21:29:48\n",
      "Epoch 5 / 50\n",
      "\n",
      "100%|██████████| 4000/4000 [00:06<00:00, 596.13it/s, train_Accuracy=0.608, train_loss=0.659]\n",
      "100%|██████████| 125/125 [00:00<00:00, 368.50it/s, val_Accuracy=0.608, val_loss=0.656]\n",
      "\n",
      "================================================================================2024-05-21 21:29:55\n",
      "Epoch 6 / 50\n",
      "\n",
      "100%|██████████| 4000/4000 [00:06<00:00, 585.67it/s, train_Accuracy=0.61, train_loss=0.657] \n",
      "100%|██████████| 125/125 [00:00<00:00, 564.95it/s, val_Accuracy=0.615, val_loss=0.655]\n",
      "<<<<<< reach best val_Accuracy : 0.6145000457763672 >>>>>>\n",
      "\n",
      "================================================================================2024-05-21 21:30:02\n",
      "Epoch 7 / 50\n",
      "\n",
      "100%|██████████| 4000/4000 [00:06<00:00, 594.45it/s, train_Accuracy=0.613, train_loss=0.655]\n",
      "100%|██████████| 125/125 [00:00<00:00, 579.82it/s, val_Accuracy=0.617, val_loss=0.651]\n",
      "<<<<<< reach best val_Accuracy : 0.6170938014984131 >>>>>>\n",
      "\n",
      "================================================================================2024-05-21 21:30:09\n",
      "Epoch 8 / 50\n",
      "\n",
      "100%|██████████| 4000/4000 [00:06<00:00, 589.49it/s, train_Accuracy=0.614, train_loss=0.653]\n",
      "100%|██████████| 125/125 [00:00<00:00, 581.92it/s, val_Accuracy=0.618, val_loss=0.651]\n",
      "<<<<<< reach best val_Accuracy : 0.6183750033378601 >>>>>>\n",
      "\n",
      "================================================================================2024-05-21 21:30:16\n",
      "Epoch 9 / 50\n",
      "\n",
      "100%|██████████| 4000/4000 [00:06<00:00, 587.43it/s, train_Accuracy=0.615, train_loss=0.652]\n",
      "100%|██████████| 125/125 [00:00<00:00, 632.80it/s, val_Accuracy=0.62, val_loss=0.649]\n",
      "<<<<<< reach best val_Accuracy : 0.6202812790870667 >>>>>>\n",
      "\n",
      "================================================================================2024-05-21 21:30:23\n",
      "Epoch 10 / 50\n",
      "\n",
      "100%|██████████| 4000/4000 [00:06<00:00, 573.70it/s, train_Accuracy=0.615, train_loss=0.652]\n",
      "100%|██████████| 125/125 [00:00<00:00, 596.15it/s, val_Accuracy=0.618, val_loss=0.65] \n",
      "\n",
      "================================================================================2024-05-21 21:30:30\n",
      "Epoch 11 / 50\n",
      "\n",
      "100%|██████████| 4000/4000 [00:06<00:00, 610.18it/s, train_Accuracy=0.618, train_loss=0.65] \n",
      "100%|██████████| 125/125 [00:00<00:00, 563.40it/s, val_Accuracy=0.62, val_loss=0.647] \n",
      "\n",
      "================================================================================2024-05-21 21:30:37\n",
      "Epoch 12 / 50\n",
      "\n",
      "100%|██████████| 4000/4000 [00:06<00:00, 605.10it/s, train_Accuracy=0.619, train_loss=0.649]\n",
      "100%|██████████| 125/125 [00:00<00:00, 631.48it/s, val_Accuracy=0.623, val_loss=0.646]\n",
      "<<<<<< reach best val_Accuracy : 0.6227187514305115 >>>>>>\n",
      "\n",
      "================================================================================2024-05-21 21:30:44\n",
      "Epoch 13 / 50\n",
      "\n",
      "100%|██████████| 4000/4000 [00:07<00:00, 567.23it/s, train_Accuracy=0.626, train_loss=0.641]\n",
      "100%|██████████| 125/125 [00:00<00:00, 724.43it/s, val_Accuracy=0.627, val_loss=0.641]\n",
      "<<<<<< reach best val_Accuracy : 0.6269688010215759 >>>>>>\n",
      "\n",
      "================================================================================2024-05-21 21:30:51\n",
      "Epoch 14 / 50\n",
      "\n",
      "100%|██████████| 4000/4000 [00:06<00:00, 602.64it/s, train_Accuracy=0.629, train_loss=0.637]\n",
      "100%|██████████| 125/125 [00:00<00:00, 720.22it/s, val_Accuracy=0.638, val_loss=0.633]\n",
      "<<<<<< reach best val_Accuracy : 0.6382500529289246 >>>>>>\n",
      "\n",
      "================================================================================2024-05-21 21:30:58\n",
      "Epoch 15 / 50\n",
      "\n",
      "100%|██████████| 4000/4000 [00:06<00:00, 597.66it/s, train_Accuracy=0.63, train_loss=0.635] \n",
      "100%|██████████| 125/125 [00:00<00:00, 377.50it/s, val_Accuracy=0.627, val_loss=0.638]\n",
      "\n",
      "================================================================================2024-05-21 21:31:05\n",
      "Epoch 16 / 50\n",
      "\n",
      "100%|██████████| 4000/4000 [00:06<00:00, 621.27it/s, train_Accuracy=0.631, train_loss=0.634]\n",
      "100%|██████████| 125/125 [00:00<00:00, 592.20it/s, val_Accuracy=0.638, val_loss=0.631]\n",
      "\n",
      "================================================================================2024-05-21 21:31:12\n",
      "Epoch 17 / 50\n",
      "\n",
      "100%|██████████| 4000/4000 [00:06<00:00, 619.43it/s, train_Accuracy=0.631, train_loss=0.634]\n",
      "100%|██████████| 125/125 [00:00<00:00, 569.09it/s, val_Accuracy=0.633, val_loss=0.633]\n",
      "\n",
      "================================================================================2024-05-21 21:31:18\n",
      "Epoch 18 / 50\n",
      "\n",
      "100%|██████████| 4000/4000 [00:06<00:00, 616.20it/s, train_Accuracy=0.632, train_loss=0.633]\n",
      "100%|██████████| 125/125 [00:00<00:00, 702.68it/s, val_Accuracy=0.635, val_loss=0.633]\n",
      "\n",
      "================================================================================2024-05-21 21:31:25\n",
      "Epoch 19 / 50\n",
      "\n",
      "100%|██████████| 4000/4000 [00:06<00:00, 622.64it/s, train_Accuracy=0.632, train_loss=0.633]\n",
      "100%|██████████| 125/125 [00:00<00:00, 576.35it/s, val_Accuracy=0.635, val_loss=0.631]\n",
      "<<<<<< val_Accuracy without improvement in 5 epoch, early stopping >>>>>>\n"
     ]
    },
    {
     "data": {
      "text/html": [
       "<div>\n",
       "<style scoped>\n",
       "    .dataframe tbody tr th:only-of-type {\n",
       "        vertical-align: middle;\n",
       "    }\n",
       "\n",
       "    .dataframe tbody tr th {\n",
       "        vertical-align: top;\n",
       "    }\n",
       "\n",
       "    .dataframe thead th {\n",
       "        text-align: right;\n",
       "    }\n",
       "</style>\n",
       "<table border=\"1\" class=\"dataframe\">\n",
       "  <thead>\n",
       "    <tr style=\"text-align: right;\">\n",
       "      <th></th>\n",
       "      <th>train_loss</th>\n",
       "      <th>train_Accuracy</th>\n",
       "      <th>val_loss</th>\n",
       "      <th>val_Accuracy</th>\n",
       "      <th>epoch</th>\n",
       "    </tr>\n",
       "  </thead>\n",
       "  <tbody>\n",
       "    <tr>\n",
       "      <th>0</th>\n",
       "      <td>0.665345</td>\n",
       "      <td>0.595617</td>\n",
       "      <td>0.663150</td>\n",
       "      <td>0.593844</td>\n",
       "      <td>1</td>\n",
       "    </tr>\n",
       "    <tr>\n",
       "      <th>1</th>\n",
       "      <td>0.661039</td>\n",
       "      <td>0.605391</td>\n",
       "      <td>0.661741</td>\n",
       "      <td>0.599438</td>\n",
       "      <td>2</td>\n",
       "    </tr>\n",
       "    <tr>\n",
       "      <th>2</th>\n",
       "      <td>0.660268</td>\n",
       "      <td>0.607813</td>\n",
       "      <td>0.657665</td>\n",
       "      <td>0.610563</td>\n",
       "      <td>3</td>\n",
       "    </tr>\n",
       "    <tr>\n",
       "      <th>3</th>\n",
       "      <td>0.659659</td>\n",
       "      <td>0.607969</td>\n",
       "      <td>0.660127</td>\n",
       "      <td>0.606063</td>\n",
       "      <td>4</td>\n",
       "    </tr>\n",
       "    <tr>\n",
       "      <th>4</th>\n",
       "      <td>0.658890</td>\n",
       "      <td>0.607781</td>\n",
       "      <td>0.656330</td>\n",
       "      <td>0.608344</td>\n",
       "      <td>5</td>\n",
       "    </tr>\n",
       "    <tr>\n",
       "      <th>5</th>\n",
       "      <td>0.657459</td>\n",
       "      <td>0.609883</td>\n",
       "      <td>0.654864</td>\n",
       "      <td>0.614500</td>\n",
       "      <td>6</td>\n",
       "    </tr>\n",
       "    <tr>\n",
       "      <th>6</th>\n",
       "      <td>0.654926</td>\n",
       "      <td>0.612805</td>\n",
       "      <td>0.650972</td>\n",
       "      <td>0.617094</td>\n",
       "      <td>7</td>\n",
       "    </tr>\n",
       "    <tr>\n",
       "      <th>7</th>\n",
       "      <td>0.653258</td>\n",
       "      <td>0.613859</td>\n",
       "      <td>0.651094</td>\n",
       "      <td>0.618375</td>\n",
       "      <td>8</td>\n",
       "    </tr>\n",
       "    <tr>\n",
       "      <th>8</th>\n",
       "      <td>0.652313</td>\n",
       "      <td>0.614750</td>\n",
       "      <td>0.649266</td>\n",
       "      <td>0.620281</td>\n",
       "      <td>9</td>\n",
       "    </tr>\n",
       "    <tr>\n",
       "      <th>9</th>\n",
       "      <td>0.651824</td>\n",
       "      <td>0.614742</td>\n",
       "      <td>0.650367</td>\n",
       "      <td>0.617500</td>\n",
       "      <td>10</td>\n",
       "    </tr>\n",
       "    <tr>\n",
       "      <th>10</th>\n",
       "      <td>0.650385</td>\n",
       "      <td>0.617734</td>\n",
       "      <td>0.647243</td>\n",
       "      <td>0.620219</td>\n",
       "      <td>11</td>\n",
       "    </tr>\n",
       "    <tr>\n",
       "      <th>11</th>\n",
       "      <td>0.648813</td>\n",
       "      <td>0.619172</td>\n",
       "      <td>0.645744</td>\n",
       "      <td>0.622719</td>\n",
       "      <td>12</td>\n",
       "    </tr>\n",
       "    <tr>\n",
       "      <th>12</th>\n",
       "      <td>0.641242</td>\n",
       "      <td>0.625836</td>\n",
       "      <td>0.640720</td>\n",
       "      <td>0.626969</td>\n",
       "      <td>13</td>\n",
       "    </tr>\n",
       "    <tr>\n",
       "      <th>13</th>\n",
       "      <td>0.637173</td>\n",
       "      <td>0.628852</td>\n",
       "      <td>0.632771</td>\n",
       "      <td>0.638250</td>\n",
       "      <td>14</td>\n",
       "    </tr>\n",
       "    <tr>\n",
       "      <th>14</th>\n",
       "      <td>0.635352</td>\n",
       "      <td>0.630383</td>\n",
       "      <td>0.637697</td>\n",
       "      <td>0.626563</td>\n",
       "      <td>15</td>\n",
       "    </tr>\n",
       "    <tr>\n",
       "      <th>15</th>\n",
       "      <td>0.634352</td>\n",
       "      <td>0.631281</td>\n",
       "      <td>0.630980</td>\n",
       "      <td>0.638219</td>\n",
       "      <td>16</td>\n",
       "    </tr>\n",
       "    <tr>\n",
       "      <th>16</th>\n",
       "      <td>0.633589</td>\n",
       "      <td>0.630875</td>\n",
       "      <td>0.632686</td>\n",
       "      <td>0.632906</td>\n",
       "      <td>17</td>\n",
       "    </tr>\n",
       "    <tr>\n",
       "      <th>17</th>\n",
       "      <td>0.633421</td>\n",
       "      <td>0.631523</td>\n",
       "      <td>0.632523</td>\n",
       "      <td>0.634938</td>\n",
       "      <td>18</td>\n",
       "    </tr>\n",
       "    <tr>\n",
       "      <th>18</th>\n",
       "      <td>0.632837</td>\n",
       "      <td>0.631648</td>\n",
       "      <td>0.630621</td>\n",
       "      <td>0.635438</td>\n",
       "      <td>19</td>\n",
       "    </tr>\n",
       "  </tbody>\n",
       "</table>\n",
       "</div>"
      ],
      "text/plain": [
       "    train_loss  train_Accuracy  val_loss  val_Accuracy  epoch\n",
       "0     0.665345        0.595617  0.663150      0.593844      1\n",
       "1     0.661039        0.605391  0.661741      0.599438      2\n",
       "2     0.660268        0.607813  0.657665      0.610563      3\n",
       "3     0.659659        0.607969  0.660127      0.606063      4\n",
       "4     0.658890        0.607781  0.656330      0.608344      5\n",
       "5     0.657459        0.609883  0.654864      0.614500      6\n",
       "6     0.654926        0.612805  0.650972      0.617094      7\n",
       "7     0.653258        0.613859  0.651094      0.618375      8\n",
       "8     0.652313        0.614750  0.649266      0.620281      9\n",
       "9     0.651824        0.614742  0.650367      0.617500     10\n",
       "10    0.650385        0.617734  0.647243      0.620219     11\n",
       "11    0.648813        0.619172  0.645744      0.622719     12\n",
       "12    0.641242        0.625836  0.640720      0.626969     13\n",
       "13    0.637173        0.628852  0.632771      0.638250     14\n",
       "14    0.635352        0.630383  0.637697      0.626563     15\n",
       "15    0.634352        0.631281  0.630980      0.638219     16\n",
       "16    0.633589        0.630875  0.632686      0.632906     17\n",
       "17    0.633421        0.631523  0.632523      0.634938     18\n",
       "18    0.632837        0.631648  0.630621      0.635438     19"
      ]
     },
     "execution_count": 39,
     "metadata": {},
     "output_type": "execute_result"
    }
   ],
   "source": [
    "train_model(\n",
    "    naive_model, optimizer,\n",
    "    loss_fn, metrics_dict=metric_dict,\n",
    "    train_dataloader=train_dataloader, val_dataloader=val_dataloader,\n",
    "    monitor=\"val_Accuracy\", mode=\"max\",\n",
    "    epochs=50\n",
    "    )"
   ]
  },
  {
   "cell_type": "markdown",
   "metadata": {},
   "source": [
    "# ROC"
   ]
  },
  {
   "cell_type": "code",
   "execution_count": 40,
   "metadata": {},
   "outputs": [],
   "source": [
    "from analysis import predict"
   ]
  },
  {
   "cell_type": "code",
   "execution_count": 41,
   "metadata": {},
   "outputs": [
    {
     "name": "stderr",
     "output_type": "stream",
     "text": [
      "100%|██████████| 125/125 [00:00<00:00, 1145.94it/s]\n"
     ]
    }
   ],
   "source": [
    "targets, predictions = predict(naive_model, val_dataloader)"
   ]
  },
  {
   "cell_type": "code",
   "execution_count": 42,
   "metadata": {},
   "outputs": [
    {
     "name": "stdout",
     "output_type": "stream",
     "text": [
      "0.682451529296875\n"
     ]
    },
    {
     "data": {
      "image/png": "[encoded data removed]",
      "text/plain": [
       "<Figure size 640x480 with 1 Axes>"
      ]
     },
     "metadata": {},
     "output_type": "display_data"
    }
   ],
   "source": [
    "from analysis import calculate_auc\n",
    "from visualize import plot_roc_curve\n",
    "fpr, tpr, auc_roc = calculate_auc(targets, predictions)\n",
    "print(auc_roc)\n",
    "fpr_dict[str(sig_lambda)] = fpr\n",
    "tpr_dict[str(sig_lambda)] = tpr\n",
    "auc_dict[str(sig_lambda)] = auc_roc\n",
    "plot_roc_curve(fpr_dict, tpr_dict, auc_dict, \"ROC Curve\")"
   ]
  },
  {
   "cell_type": "markdown",
   "metadata": {},
   "source": [
    "# Test statistics"
   ]
  },
  {
   "cell_type": "code",
   "execution_count": 43,
   "metadata": {},
   "outputs": [],
   "source": [
    "from analysis import Bootstrap_Permutation"
   ]
  },
  {
   "cell_type": "code",
   "execution_count": 44,
   "metadata": {},
   "outputs": [],
   "source": [
    "bootstrap_permutation = Bootstrap_Permutation(X2, W2, naive_model, pi, normalizer)"
   ]
  },
  {
   "cell_type": "code",
   "execution_count": 45,
   "metadata": {},
   "outputs": [
    {
     "name": "stderr",
     "output_type": "stream",
     "text": [
      "100%|██████████| 1000/1000 [02:25<00:00,  6.88it/s]\n"
     ]
    }
   ],
   "source": [
    "lrt_null_bootstarp, auc_null_bootstarp, mce_null_bootstarp = bootstrap_permutation.bootstrap(1000)"
   ]
  },
  {
   "cell_type": "code",
   "execution_count": 46,
   "metadata": {},
   "outputs": [
    {
     "name": "stderr",
     "output_type": "stream",
     "text": [
      "100%|██████████| 1000/1000 [02:26<00:00,  6.81it/s]\n"
     ]
    }
   ],
   "source": [
    "lrt_null_permutation, auc_null_permutation, mce_null_permutation = bootstrap_permutation.permutation(1000)"
   ]
  },
  {
   "cell_type": "code",
   "execution_count": 47,
   "metadata": {},
   "outputs": [
    {
     "data": {
      "image/png": "[encoded data removed]",
      "text/plain": [
       "<Figure size 640x480 with 1 Axes>"
      ]
     },
     "metadata": {},
     "output_type": "display_data"
    }
   ],
   "source": [
    "plt.hist(mce_null_bootstarp, bins=50, alpha=0.5, label=\"bootstrap p value = {}\".format(bootstrap_permutation.mce_p_bootstrap))\n",
    "plt.hist(mce_null_permutation, bins=50, alpha=0.5, label=\"permutation p value = {}\".format(bootstrap_permutation.mce_p_permutation))\n",
    "plt.axvline(bootstrap_permutation.mce_exp, color='r', label=\"exp\")\n",
    "plt.legend()\n",
    "plt.title(\"MCE Null Distribution lambda = {}\".format(sig_lambda))\n",
    "plt.show()"
   ]
  },
  {
   "cell_type": "code",
   "execution_count": 48,
   "metadata": {},
   "outputs": [
    {
     "data": {
      "image/png": "[encoded data removed]",
      "text/plain": [
       "<Figure size 640x480 with 1 Axes>"
      ]
     },
     "metadata": {},
     "output_type": "display_data"
    }
   ],
   "source": [
    "plt.hist(lrt_null_bootstarp, bins=50, alpha=0.5, label=\"bootstrap p value = {}\".format(bootstrap_permutation.lrt_p_bootstrap))\n",
    "plt.hist(lrt_null_permutation, bins=50, alpha=0.5, label=\"permutation p value = {}\".format(bootstrap_permutation.lrt_p_permutation))\n",
    "plt.axvline(bootstrap_permutation.lrt_exp, color='r', label=\"exp\")\n",
    "plt.legend()\n",
    "plt.title(\"LRT Null Distribution lambda = {}\".format(sig_lambda))\n",
    "plt.show()"
   ]
  },
  {
   "cell_type": "code",
   "execution_count": 49,
   "metadata": {},
   "outputs": [
    {
     "data": {
      "image/png": "[encoded data removed]",
      "text/plain": [
       "<Figure size 640x480 with 1 Axes>"
      ]
     },
     "metadata": {},
     "output_type": "display_data"
    }
   ],
   "source": [
    "plt.hist(auc_null_bootstarp, bins=50, alpha=0.5, label=\"bootstrap p value = {}\".format(bootstrap_permutation.auc_p_bootstrap))\n",
    "plt.hist(auc_null_permutation, bins=50, alpha=0.5, label=\"permutation p value = {}\".format(bootstrap_permutation.auc_p_permutation))\n",
    "plt.axvline(bootstrap_permutation.auc_exp, color='r', label=\"exp\")\n",
    "plt.legend()\n",
    "plt.title(\"AUC Null Distribution lambda = {}\".format(sig_lambda))\n",
    "plt.show()"
   ]
  },
  {
   "cell_type": "markdown",
   "metadata": {},
   "source": [
    "# Estimate signal strength"
   ]
  },
  {
   "cell_type": "code",
   "execution_count": 50,
   "metadata": {},
   "outputs": [],
   "source": [
    "from analysis import LambdaEstimator"
   ]
  },
  {
   "cell_type": "code",
   "execution_count": 51,
   "metadata": {},
   "outputs": [
    {
     "name": "stdout",
     "output_type": "stream",
     "text": [
      "estimated lambda: 0.533135782665134\n",
      "beta 0 = -0.09167724717294595, beta 1 = -0.6700395715893667\n",
      "last bin height: 0.4668642173348661\n"
     ]
    },
    {
     "data": {
      "image/png": "[encoded data removed]",
      "text/plain": [
       "<Figure size 640x480 with 1 Axes>"
      ]
     },
     "metadata": {},
     "output_type": "display_data"
    }
   ],
   "source": [
    "lambda_estimator = LambdaEstimator(X2, W2, naive_model, T=0.5, n_bins=20, normalizer=normalizer)\n",
    "print(\"estimated lambda:\", lambda_estimator.estimated_lambda)\n",
    "print(\"beta 0 = {}, beta 1 = {}\".format(lambda_estimator.beta0, lambda_estimator.beta1))\n",
    "print(\"last bin height:\", lambda_estimator.estimated_H_t[-1])\n",
    "plt.hist(lambda_estimator.rho_W, bins=lambda_estimator.bins, alpha=0.5, edgecolor='black', density=True)\n",
    "start_idx = lambda_estimator.fit_start_idx\n",
    "plt.plot(lambda_estimator.bins[start_idx:], lambda_estimator.estimated_H_t, label=\"Estimated\")\n",
    "plt.plot(lambda_estimator.bins[1:], lambda_estimator.H_t, '*',label=\"True\")\n",
    "plt.legend()\n",
    "plt.title(\"Estimated λ = {:.2f}, true λ = {}\".format(lambda_estimator.estimated_lambda, sig_lambda))\n",
    "plt.show()"
   ]
  },
  {
   "cell_type": "markdown",
   "metadata": {},
   "source": [
    "# Bootstrapped Uncertainty Intervals for λ"
   ]
  },
  {
   "cell_type": "code",
   "execution_count": 52,
   "metadata": {},
   "outputs": [],
   "source": [
    "lambda_mean_dict = {}\n",
    "lambda_std_dict = {}\n",
    "\n",
    "lrt_p_permutation_dict = {}\n",
    "lrt_p_bootstrap_dict = {}\n",
    "auc_p_permutation_dict = {}\n",
    "auc_p_bootstrap_dict = {}\n",
    "mce_p_permutation_dict = {}\n",
    "mce_p_bootstrap_dict = {}"
   ]
  },
  {
   "cell_type": "code",
   "execution_count": 53,
   "metadata": {},
   "outputs": [],
   "source": [
    "import importlib\n",
    "import classify\n",
    "import analysis\n",
    "importlib.reload(classify)\n",
    "importlib.reload(analysis)\n",
    "from classify import train_model\n",
    "from analysis import Bootstrap_Permutation\n",
    "opt_train_model  = torch.compile(train_model)"
   ]
  },
  {
   "cell_type": "code",
   "execution_count": 54,
   "metadata": {},
   "outputs": [
    {
     "name": "stdout",
     "output_type": "stream",
     "text": [
      "<<<<<< val_Accuracy without improvement in 5 epoch, early stopping >>>>>>\n",
      "<<<<<< val_Accuracy without improvement in 5 epoch, early stopping >>>>>>\n",
      "<<<<<< val_Accuracy without improvement in 5 epoch, early stopping >>>>>>\n",
      "<<<<<< val_Accuracy without improvement in 5 epoch, early stopping >>>>>>\n",
      "<<<<<< val_Accuracy without improvement in 5 epoch, early stopping >>>>>>\n",
      "<<<<<< val_Accuracy without improvement in 5 epoch, early stopping >>>>>>\n",
      "<<<<<< val_Accuracy without improvement in 5 epoch, early stopping >>>>>>\n",
      "<<<<<< val_Accuracy without improvement in 5 epoch, early stopping >>>>>>\n",
      "<<<<<< val_Accuracy without improvement in 5 epoch, early stopping >>>>>>\n",
      "<<<<<< val_Accuracy without improvement in 5 epoch, early stopping >>>>>>\n",
      "sig_lambda: 0 estimated lambda mean: 0.005969546752898114 estimated lambda std: 0.010851349172504417\n",
      "<<<<<< val_Accuracy without improvement in 5 epoch, early stopping >>>>>>\n",
      "<<<<<< val_Accuracy without improvement in 5 epoch, early stopping >>>>>>\n",
      "<<<<<< val_Accuracy without improvement in 5 epoch, early stopping >>>>>>\n",
      "<<<<<< val_Accuracy without improvement in 5 epoch, early stopping >>>>>>\n",
      "<<<<<< val_Accuracy without improvement in 5 epoch, early stopping >>>>>>\n",
      "<<<<<< val_Accuracy without improvement in 5 epoch, early stopping >>>>>>\n",
      "<<<<<< val_Accuracy without improvement in 5 epoch, early stopping >>>>>>\n",
      "<<<<<< val_Accuracy without improvement in 5 epoch, early stopping >>>>>>\n",
      "<<<<<< val_Accuracy without improvement in 5 epoch, early stopping >>>>>>\n",
      "<<<<<< val_Accuracy without improvement in 5 epoch, early stopping >>>>>>\n",
      "sig_lambda: 0.01 estimated lambda mean: 0.010558094530063743 estimated lambda std: 0.018211533857851618\n",
      "<<<<<< val_Accuracy without improvement in 5 epoch, early stopping >>>>>>\n",
      "<<<<<< val_Accuracy without improvement in 5 epoch, early stopping >>>>>>\n",
      "<<<<<< val_Accuracy without improvement in 5 epoch, early stopping >>>>>>\n",
      "<<<<<< val_Accuracy without improvement in 5 epoch, early stopping >>>>>>\n",
      "<<<<<< val_Accuracy without improvement in 5 epoch, early stopping >>>>>>\n",
      "<<<<<< val_Accuracy without improvement in 5 epoch, early stopping >>>>>>\n",
      "<<<<<< val_Accuracy without improvement in 5 epoch, early stopping >>>>>>\n",
      "<<<<<< val_Accuracy without improvement in 5 epoch, early stopping >>>>>>\n",
      "<<<<<< val_Accuracy without improvement in 5 epoch, early stopping >>>>>>\n",
      "<<<<<< val_Accuracy without improvement in 5 epoch, early stopping >>>>>>\n",
      "sig_lambda: 0.05 estimated lambda mean: 0.06712282934173913 estimated lambda std: 0.021642482757750665\n",
      "<<<<<< val_Accuracy without improvement in 5 epoch, early stopping >>>>>>\n",
      "<<<<<< val_Accuracy without improvement in 5 epoch, early stopping >>>>>>\n",
      "<<<<<< val_Accuracy without improvement in 5 epoch, early stopping >>>>>>\n",
      "<<<<<< val_Accuracy without improvement in 5 epoch, early stopping >>>>>>\n",
      "<<<<<< val_Accuracy without improvement in 5 epoch, early stopping >>>>>>\n",
      "<<<<<< val_Accuracy without improvement in 5 epoch, early stopping >>>>>>\n",
      "<<<<<< val_Accuracy without improvement in 5 epoch, early stopping >>>>>>\n",
      "<<<<<< val_Accuracy without improvement in 5 epoch, early stopping >>>>>>\n",
      "<<<<<< val_Accuracy without improvement in 5 epoch, early stopping >>>>>>\n",
      "<<<<<< val_Accuracy without improvement in 5 epoch, early stopping >>>>>>\n",
      "sig_lambda: 0.1 estimated lambda mean: 0.11782966660955578 estimated lambda std: 0.024592780731258125\n",
      "<<<<<< val_Accuracy without improvement in 5 epoch, early stopping >>>>>>\n",
      "<<<<<< val_Accuracy without improvement in 5 epoch, early stopping >>>>>>\n",
      "<<<<<< val_Accuracy without improvement in 5 epoch, early stopping >>>>>>\n",
      "<<<<<< val_Accuracy without improvement in 5 epoch, early stopping >>>>>>\n",
      "<<<<<< val_Accuracy without improvement in 5 epoch, early stopping >>>>>>\n",
      "<<<<<< val_Accuracy without improvement in 5 epoch, early stopping >>>>>>\n",
      "<<<<<< val_Accuracy without improvement in 5 epoch, early stopping >>>>>>\n",
      "<<<<<< val_Accuracy without improvement in 5 epoch, early stopping >>>>>>\n",
      "<<<<<< val_Accuracy without improvement in 5 epoch, early stopping >>>>>>\n",
      "<<<<<< val_Accuracy without improvement in 5 epoch, early stopping >>>>>>\n",
      "sig_lambda: 0.2 estimated lambda mean: 0.24818072684826986 estimated lambda std: 0.018472736087911786\n",
      "<<<<<< val_Accuracy without improvement in 5 epoch, early stopping >>>>>>\n",
      "<<<<<< val_Accuracy without improvement in 5 epoch, early stopping >>>>>>\n",
      "<<<<<< val_Accuracy without improvement in 5 epoch, early stopping >>>>>>\n",
      "<<<<<< val_Accuracy without improvement in 5 epoch, early stopping >>>>>>\n",
      "<<<<<< val_Accuracy without improvement in 5 epoch, early stopping >>>>>>\n",
      "<<<<<< val_Accuracy without improvement in 5 epoch, early stopping >>>>>>\n",
      "<<<<<< val_Accuracy without improvement in 5 epoch, early stopping >>>>>>\n",
      "<<<<<< val_Accuracy without improvement in 5 epoch, early stopping >>>>>>\n",
      "<<<<<< val_Accuracy without improvement in 5 epoch, early stopping >>>>>>\n",
      "<<<<<< val_Accuracy without improvement in 5 epoch, early stopping >>>>>>\n",
      "sig_lambda: 0.3 estimated lambda mean: 0.34995057464591284 estimated lambda std: 0.021581961910881072\n",
      "<<<<<< val_Accuracy without improvement in 5 epoch, early stopping >>>>>>\n",
      "<<<<<< val_Accuracy without improvement in 5 epoch, early stopping >>>>>>\n",
      "<<<<<< val_Accuracy without improvement in 5 epoch, early stopping >>>>>>\n",
      "<<<<<< val_Accuracy without improvement in 5 epoch, early stopping >>>>>>\n",
      "<<<<<< val_Accuracy without improvement in 5 epoch, early stopping >>>>>>\n",
      "<<<<<< val_Accuracy without improvement in 5 epoch, early stopping >>>>>>\n",
      "<<<<<< val_Accuracy without improvement in 5 epoch, early stopping >>>>>>\n",
      "<<<<<< val_Accuracy without improvement in 5 epoch, early stopping >>>>>>\n",
      "<<<<<< val_Accuracy without improvement in 5 epoch, early stopping >>>>>>\n",
      "<<<<<< val_Accuracy without improvement in 5 epoch, early stopping >>>>>>\n",
      "sig_lambda: 0.4 estimated lambda mean: 0.4449987330066431 estimated lambda std: 0.016304195597243765\n",
      "<<<<<< val_Accuracy without improvement in 5 epoch, early stopping >>>>>>\n",
      "<<<<<< val_Accuracy without improvement in 5 epoch, early stopping >>>>>>\n",
      "<<<<<< val_Accuracy without improvement in 5 epoch, early stopping >>>>>>\n",
      "<<<<<< val_Accuracy without improvement in 5 epoch, early stopping >>>>>>\n",
      "<<<<<< val_Accuracy without improvement in 5 epoch, early stopping >>>>>>\n",
      "<<<<<< val_Accuracy without improvement in 5 epoch, early stopping >>>>>>\n",
      "<<<<<< val_Accuracy without improvement in 5 epoch, early stopping >>>>>>\n",
      "<<<<<< val_Accuracy without improvement in 5 epoch, early stopping >>>>>>\n",
      "<<<<<< val_Accuracy without improvement in 5 epoch, early stopping >>>>>>\n",
      "<<<<<< val_Accuracy without improvement in 5 epoch, early stopping >>>>>>\n",
      "sig_lambda: 0.5 estimated lambda mean: 0.5471430778321638 estimated lambda std: 0.01395675101771139\n"
     ]
    }
   ],
   "source": [
    "n_bootstrap = 10\n",
    "\n",
    "\n",
    "test_ratio=0.2\n",
    "val_ratio = 0.2\n",
    "n = 100000\n",
    "n_null = 1000\n",
    "test_signal = 'neutral_boson'\n",
    "significance = 0.05\n",
    "\n",
    "\n",
    "test_lambdas = [0, 0.01, 0.05, 0.1, 0.2, 0.3, 0.4, 0.5]\n",
    "for i in range(len(test_lambdas)):\n",
    "    sig_lambda = test_lambdas[i]\n",
    "\n",
    "    estimated_lambdas = np.zeros(n_bootstrap)\n",
    "\n",
    "    lrt_permutation_power = 0\n",
    "    lrt_bootstrap_power = 0\n",
    "    auc_permutation_power = 0\n",
    "    auc_bootstrap_power = 0\n",
    "    mce_permutation_power = 0\n",
    "    mce_bootstrap_power = 0\n",
    "    for j in range(n_bootstrap):\n",
    "        exp_events, bkg_events = create_exp_bkg_events(embedding_points['SM'], embedding_points[test_signal], sig_lambda, n)\n",
    "        X1, X2, W1, W2 = train_test_split(exp_events, bkg_events, test_ratio)\n",
    "        n1 = len(W1)\n",
    "        m1 = len(X1)\n",
    "        n2 = len(W2)\n",
    "        m2 = len(X2)\n",
    "        train_dataloader, val_dataloader = get_dataloaders(X1, W1, val_ratio, normalizer)\n",
    "\n",
    "        hidden_dim = [8, 16, 16, 16, 8]\n",
    "        naive_model = MLP(output_dim, hidden_sizes=hidden_dim)\n",
    "        naive_model.to(device)\n",
    "        optimizer = torch.optim.Adam(naive_model.parameters(), lr=1e-3, weight_decay=1e-5)\n",
    "        loss_fn = nn.BCELoss()\n",
    "        acc_metric = BinaryACCUpdater()\n",
    "        metric_dict = {\"Accuracy\": acc_metric}\n",
    "\n",
    "        train_model(\n",
    "            naive_model, optimizer,\n",
    "            loss_fn, metrics_dict=metric_dict,\n",
    "            train_dataloader=train_dataloader, val_dataloader=val_dataloader,\n",
    "            monitor=\"val_Accuracy\", mode=\"max\",\n",
    "            epochs=50,\n",
    "            verbose=False\n",
    "            )\n",
    "        \n",
    "        bootstrap_permutation = Bootstrap_Permutation(X2, W2, naive_model, pi, normalizer)\n",
    "        _, _, _ = bootstrap_permutation.bootstrap(n_null, verbose=False)\n",
    "        _, _, _ = bootstrap_permutation.permutation(n_null, verbose=False)\n",
    "        if bootstrap_permutation.lrt_p_permutation < significance:\n",
    "            lrt_permutation_power += 1\n",
    "        if bootstrap_permutation.lrt_p_bootstrap < significance:\n",
    "            lrt_bootstrap_power += 1\n",
    "        if bootstrap_permutation.auc_p_permutation < significance:\n",
    "            auc_permutation_power += 1\n",
    "        if bootstrap_permutation.auc_p_bootstrap < significance:\n",
    "            auc_bootstrap_power += 1\n",
    "        if bootstrap_permutation.mce_p_permutation < significance:\n",
    "            mce_permutation_power += 1\n",
    "        if bootstrap_permutation.mce_p_bootstrap < significance:\n",
    "            mce_bootstrap_power += 1\n",
    "\n",
    "        lambda_estimator = LambdaEstimator(X2, W2, naive_model, T=0.5, n_bins=20, normalizer=normalizer)\n",
    "        estimated_lambdas[j] = lambda_estimator.estimated_lambda\n",
    "    print(\"sig_lambda:\", sig_lambda, \"estimated lambda mean:\", estimated_lambdas.mean(), \"estimated lambda std:\", estimated_lambdas.std())\n",
    "    lambda_mean_dict[str(sig_lambda)] = estimated_lambdas.mean()\n",
    "    lambda_std_dict[str(sig_lambda)] = estimated_lambdas.std(ddof = 1)\n",
    "    lrt_p_permutation_dict[str(sig_lambda)] = lrt_permutation_power\n",
    "    lrt_p_bootstrap_dict[str(sig_lambda)] = lrt_bootstrap_power\n",
    "    auc_p_permutation_dict[str(sig_lambda)] = auc_permutation_power\n",
    "    auc_p_bootstrap_dict[str(sig_lambda)] = auc_bootstrap_power\n",
    "    mce_p_permutation_dict[str(sig_lambda)] = mce_permutation_power\n",
    "    mce_p_bootstrap_dict[str(sig_lambda)] = mce_bootstrap_power\n"
   ]
  },
  {
   "cell_type": "code",
   "execution_count": 55,
   "metadata": {},
   "outputs": [
    {
     "name": "stdout",
     "output_type": "stream",
     "text": [
      "[0.53706151 0.5510534  0.53780696 0.53478084 0.52919577 0.55735226\n",
      " 0.54806824 0.5760629  0.53755764 0.56249126]\n",
      "{'0': 0.005969546752898114, '0.01': 0.010558094530063743, '0.05': 0.06712282934173913, '0.1': 0.11782966660955578, '0.2': 0.24818072684826986, '0.3': 0.34995057464591284, '0.4': 0.4449987330066431, '0.5': 0.5471430778321638}\n",
      "{'0': 0.011438326356965782, '0.01': 0.019196642225361413, '0.05': 0.022813179911804756, '0.1': 0.025923067035958983, '0.2': 0.019471973550996554, '0.3': 0.022749385337794695, '0.4': 0.01718613116805987, '0.5': 0.01471170731728034}\n"
     ]
    }
   ],
   "source": [
    "print(estimated_lambdas)\n",
    "print(lambda_mean_dict)\n",
    "print(lambda_std_dict)"
   ]
  },
  {
   "cell_type": "code",
   "execution_count": 56,
   "metadata": {},
   "outputs": [],
   "source": [
    "from visualize import plot_lambda"
   ]
  },
  {
   "cell_type": "code",
   "execution_count": 57,
   "metadata": {},
   "outputs": [
    {
     "data": {
      "image/png": "[encoded data removed]",
      "text/plain": [
       "<Figure size 640x480 with 1 Axes>"
      ]
     },
     "metadata": {},
     "output_type": "display_data"
    }
   ],
   "source": [
    "plot_lambda(lambda_mean_dict, lambda_std_dict)"
   ]
  },
  {
   "cell_type": "code",
   "execution_count": null,
   "metadata": {},
   "outputs": [],
   "source": []
  }
 ],
 "metadata": {
  "kernelspec": {
   "display_name": "ad",
   "language": "python",
   "name": "python3"
  },
  "language_info": {
   "codemirror_mode": {
    "name": "ipython",
    "version": 3
   },
   "file_extension": ".py",
   "mimetype": "text/x-python",
   "name": "python",
   "nbconvert_exporter": "python",
   "pygments_lexer": "ipython3",
   "version": "3.11.8"
  }
 },
 "nbformat": 4,
 "nbformat_minor": 2
}
