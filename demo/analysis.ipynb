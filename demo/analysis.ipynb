{
 "cells": [
  {
   "cell_type": "code",
   "execution_count": 1,
   "metadata": {},
   "outputs": [],
   "source": [
    "import torch\n",
    "from torch import nn\n",
    "import numpy as np\n",
    "import sys\n",
    "import os\n",
    "import pandas as pd\n",
    "from torch.utils.data import Dataset, DataLoader\n",
    "from tqdm import tqdm\n",
    "\n",
    "\n",
    "sys.path.append(\"..\")\n",
    "from model import ParticleEventTransformer\n",
    "from data import get_database_path, get_h5_files, read_h5_file, select_events\n",
    "from utils import load_toml_config\n",
    "\n",
    "import matplotlib.pyplot as plt\n",
    "\n",
    "\n",
    "device = \"cuda\" if torch.cuda.is_available() else \"mps\" if sys.platform == \"darwin\" else \"cpu\"\n"
   ]
  },
  {
   "cell_type": "code",
   "execution_count": 2,
   "metadata": {},
   "outputs": [],
   "source": [
    "EMD_config = load_toml_config(\"EMD\")\n",
    "particle_type_scale = EMD_config['particle_type_scale']"
   ]
  },
  {
   "cell_type": "markdown",
   "metadata": {},
   "source": [
    "# Load raw events"
   ]
  },
  {
   "cell_type": "code",
   "execution_count": 3,
   "metadata": {},
   "outputs": [
    {
     "name": "stdout",
     "output_type": "stream",
     "text": [
      "dict_keys(['SM', 'neutral_boson', 'leptoquark', 'neutral_Higgs', 'charged_Higgs'])\n"
     ]
    }
   ],
   "source": [
    "files = load_toml_config(\"file\")\n",
    "database_path = get_database_path()\n",
    "bkg_files, sig_files = get_h5_files()\n",
    "\n",
    "print(files.keys())\n",
    "bkg = read_h5_file(database_path, files[\"SM\"])\n",
    "# SM processes\n",
    "\n",
    "neutral_boson = read_h5_file(database_path, files[\"neutral_boson\"])\n",
    "# A neutral scalar boson (A) with mass 50 GeV, decaying to two off-shell Z bosons, each forced to decay to two leptons: A → 4l\n",
    "\n",
    "leptoquark = read_h5_file(database_path, files[\"leptoquark\"])\n",
    "# A leptoquark (LQ) with mass 80 GeV, decaying to a b quark and a τ lepton24\n",
    "\n",
    "neutral_Higgs = read_h5_file(database_path, files[\"neutral_Higgs\"])\n",
    "# A scalar boson with mass 60 GeV, decaying to two tau leptons: h0→ ττ\n",
    "\n",
    "charged_Higgs = read_h5_file(database_path, files[\"charged_Higgs\"])\n",
    "# A charged scalar boson with mass 60 GeV, decaying to a tau lepton and a neutrino"
   ]
  },
  {
   "cell_type": "markdown",
   "metadata": {},
   "source": [
    "# Load embedding model"
   ]
  },
  {
   "cell_type": "code",
   "execution_count": 4,
   "metadata": {},
   "outputs": [
    {
     "name": "stdout",
     "output_type": "stream",
     "text": [
      "{'feature_size': 3, 'embed_size': 16, 'num_heads': 8, 'num_layers': 4, 'hidden_dim': 256, 'output_dim': 4}\n"
     ]
    },
    {
     "name": "stderr",
     "output_type": "stream",
     "text": [
      "/home/desmondhe/anaconda3/envs/ad/lib/python3.11/site-packages/torch/nn/modules/transformer.py:286: UserWarning: enable_nested_tensor is True, but self.use_nested_tensor is False because encoder_layer.self_attn.batch_first was not True(use batch_first for better inference performance)\n",
      "  warnings.warn(f\"enable_nested_tensor is True, but self.use_nested_tensor is False because {why_not_sparsity_fast_path}\")\n"
     ]
    }
   ],
   "source": [
    "model_hyper_parameters = load_toml_config(\"Transformer\")\n",
    "print(model_hyper_parameters)\n",
    "feature_size = model_hyper_parameters[\"feature_size\"]\n",
    "embed_size = model_hyper_parameters[\"embed_size\"]\n",
    "num_heads = model_hyper_parameters[\"num_heads\"]\n",
    "num_layers = model_hyper_parameters[\"num_layers\"]\n",
    "hidden_dim = model_hyper_parameters[\"hidden_dim\"]\n",
    "output_dim = model_hyper_parameters[\"output_dim\"]\n",
    "\n",
    "embedding_model = ParticleEventTransformer(feature_size, embed_size, num_heads, hidden_dim, output_dim, num_layers)"
   ]
  },
  {
   "cell_type": "markdown",
   "metadata": {},
   "source": [
    "# Embed events"
   ]
  },
  {
   "cell_type": "code",
   "execution_count": 5,
   "metadata": {},
   "outputs": [],
   "source": [
    "from analysis import inference"
   ]
  },
  {
   "cell_type": "code",
   "execution_count": 6,
   "metadata": {},
   "outputs": [],
   "source": [
    "from data import EventDataset"
   ]
  },
  {
   "cell_type": "code",
   "execution_count": 7,
   "metadata": {},
   "outputs": [],
   "source": [
    "infer_test_num = 1000000\n",
    "bkg_infer_test = bkg[:infer_test_num]\n",
    "infer_dataset = EventDataset(bkg_infer_test)\n",
    "infer_dataloader = DataLoader(infer_dataset, batch_size=256, num_workers=16, prefetch_factor=5)\n",
    "\n",
    "neutral_boson_infer_test = neutral_boson[:infer_test_num]\n",
    "neutral_boson_infer_dataset = EventDataset(neutral_boson_infer_test)\n",
    "neutral_boson_infer_dataloader = DataLoader(neutral_boson_infer_dataset, batch_size=256, num_workers=16, prefetch_factor=5)\n",
    "\n",
    "leptoquark_infer_test = leptoquark[:infer_test_num]\n",
    "leptoquark_infer_dataset = EventDataset(leptoquark_infer_test)\n",
    "leptoquark_infer_dataloader = DataLoader(leptoquark_infer_dataset, batch_size=256, num_workers=16, prefetch_factor=5)\n",
    "\n",
    "neutral_Higgs_infer_test = neutral_Higgs[:infer_test_num]\n",
    "neutral_Higgs_infer_dataset = EventDataset(neutral_Higgs_infer_test)\n",
    "neutral_Higgs_infer_dataloader = DataLoader(neutral_Higgs_infer_dataset, batch_size=256, num_workers=16, prefetch_factor=5)\n",
    "\n",
    "charged_Higgs_infer_test = charged_Higgs[:infer_test_num]\n",
    "charged_Higgs_infer_dataset = EventDataset(charged_Higgs_infer_test)\n",
    "charged_Higgs_infer_dataloader = DataLoader(charged_Higgs_infer_dataset, batch_size=256, num_workers=16, prefetch_factor=5)"
   ]
  },
  {
   "cell_type": "code",
   "execution_count": 8,
   "metadata": {},
   "outputs": [
    {
     "name": "stderr",
     "output_type": "stream",
     "text": [
      "  0%|          | 0/3907 [00:00<?, ?it/s]"
     ]
    },
    {
     "name": "stderr",
     "output_type": "stream",
     "text": [
      "100%|██████████| 3907/3907 [00:08<00:00, 462.71it/s]"
     ]
    },
    {
     "name": "stdout",
     "output_type": "stream",
     "text": [
      "(1000000, 4)\n"
     ]
    },
    {
     "name": "stderr",
     "output_type": "stream",
     "text": [
      "\n"
     ]
    }
   ],
   "source": [
    "embedding_model.load_state_dict(torch.load(os.path.join(\"..\", \"model\",\"emb_dim{}_type_scale{}.pt\".format(output_dim, particle_type_scale))))\n",
    "embedding_model.to(device)\n",
    "bkg_embed_points = inference(embedding_model, infer_dataloader, embed_dim=output_dim)\n",
    "print(bkg_embed_points.shape)"
   ]
  },
  {
   "cell_type": "code",
   "execution_count": 9,
   "metadata": {},
   "outputs": [
    {
     "name": "stderr",
     "output_type": "stream",
     "text": [
      "100%|██████████| 219/219 [00:01<00:00, 198.84it/s]\n",
      "100%|██████████| 1331/1331 [00:03<00:00, 402.98it/s]\n",
      "100%|██████████| 2701/2701 [00:05<00:00, 450.35it/s]\n",
      "100%|██████████| 2970/2970 [00:06<00:00, 452.23it/s]"
     ]
    },
    {
     "name": "stdout",
     "output_type": "stream",
     "text": [
      "(55969, 4)\n",
      "(340544, 4)\n",
      "(691283, 4)\n",
      "(760272, 4)\n"
     ]
    },
    {
     "name": "stderr",
     "output_type": "stream",
     "text": [
      "\n"
     ]
    }
   ],
   "source": [
    "neutral_boson_embed_points = inference(embedding_model, neutral_boson_infer_dataloader, embed_dim=output_dim)\n",
    "leptoquark_embed_points = inference(embedding_model, leptoquark_infer_dataloader, embed_dim=output_dim)\n",
    "neutral_Higgs_embed_points = inference(embedding_model, neutral_Higgs_infer_dataloader, embed_dim=output_dim)\n",
    "charged_Higgs_embed_points = inference(embedding_model, charged_Higgs_infer_dataloader, embed_dim=output_dim)\n",
    "print(neutral_boson_embed_points.shape)\n",
    "print(leptoquark_embed_points.shape)\n",
    "print(neutral_Higgs_embed_points.shape)\n",
    "print(charged_Higgs_embed_points.shape)"
   ]
  },
  {
   "cell_type": "code",
   "execution_count": 10,
   "metadata": {},
   "outputs": [],
   "source": [
    "bkg_max = np.max(bkg_embed_points, axis=0)\n",
    "bkg_min = np.min(bkg_embed_points, axis=0)\n",
    "neutral_boson_max = np.max(neutral_boson_embed_points, axis=0)\n",
    "neutral_boson_min = np.min(neutral_boson_embed_points, axis=0)\n",
    "leptoquark_max = np.max(leptoquark_embed_points, axis=0)\n",
    "leptoquark_min = np.min(leptoquark_embed_points, axis=0)\n",
    "neutral_Higgs_max = np.max(neutral_Higgs_embed_points, axis=0)\n",
    "neutral_Higgs_min = np.min(neutral_Higgs_embed_points, axis=0)\n",
    "charged_Higgs_max = np.max(charged_Higgs_embed_points, axis=0)\n",
    "charged_Higgs_min = np.min(charged_Higgs_embed_points, axis=0)\n",
    "\n",
    "total_max = np.max(np.array([bkg_max, neutral_boson_max, leptoquark_max, neutral_Higgs_max, charged_Higgs_max]), axis=0)\n",
    "total_min = np.min(np.array([bkg_min, neutral_boson_min, leptoquark_min, neutral_Higgs_min, charged_Higgs_min]), axis=0)\n",
    "def max_min_norm(x):\n",
    "    return (x - total_min) / (total_max - total_min)"
   ]
  },
  {
   "cell_type": "code",
   "execution_count": 11,
   "metadata": {},
   "outputs": [
    {
     "name": "stdout",
     "output_type": "stream",
     "text": [
      "[  96.99357097 -146.39087979 -153.85605629  108.39926677]\n"
     ]
    }
   ],
   "source": [
    "total_mean = np.mean(np.concatenate([bkg_embed_points, neutral_boson_embed_points, leptoquark_embed_points, neutral_Higgs_embed_points, charged_Higgs_embed_points]), axis=0)\n",
    "print(total_mean)"
   ]
  },
  {
   "cell_type": "code",
   "execution_count": 12,
   "metadata": {},
   "outputs": [
    {
     "name": "stdout",
     "output_type": "stream",
     "text": [
      "[ 142.22429516 -210.5637264  -216.82394047  151.97081285]\n",
      "[ 107.49868192 -170.3974457  -157.23823675  100.49644183]\n",
      "[  92.40992917 -147.39542323 -141.82567862   92.84759197]\n",
      "[  97.29988844 -146.78354556 -152.84559856  107.3628698 ]\n",
      "[ 38.50199811 -59.40884638 -77.09169267  59.57889759]\n",
      "[39.62446888 46.32809639 53.42689661 45.55258798]\n",
      "[ 58.95394267  93.2374391  102.7732609   66.65062966]\n",
      "[49.01006039 88.06157974 92.52305241 51.4553242 ]\n",
      "[ 73.25371751 113.53638687 114.03525047  72.54167018]\n",
      "[ 80.00088338 128.19388221 131.19922904  82.24994631]\n"
     ]
    }
   ],
   "source": [
    "print(np.mean(bkg_embed_points, axis=0))\n",
    "print(np.mean(neutral_boson_embed_points, axis=0))\n",
    "print(np.mean(leptoquark_embed_points, axis=0))\n",
    "print(np.mean(neutral_Higgs_embed_points, axis=0))\n",
    "print(np.mean(charged_Higgs_embed_points, axis=0))\n",
    "\n",
    "print(np.std(bkg_embed_points, axis=0))\n",
    "print(np.std(neutral_boson_embed_points, axis=0))\n",
    "print(np.std(leptoquark_embed_points, axis=0))\n",
    "print(np.std(neutral_Higgs_embed_points, axis=0))\n",
    "print(np.std(charged_Higgs_embed_points, axis=0))"
   ]
  },
  {
   "cell_type": "markdown",
   "metadata": {},
   "source": [
    "# Split embed points"
   ]
  },
  {
   "cell_type": "code",
   "execution_count": 13,
   "metadata": {},
   "outputs": [],
   "source": [
    "def create_exp_bkg_events(ori_bkg_events, ori_sig_events, sig_lambda, n=100000):\n",
    "    \"\"\"\n",
    "    Create expperiment events by combining pure signal and background events with signal strength lambda, \n",
    "    and return the background events from remaining pure background events.\n",
    "    Background: X = {X1,...,X_mb}, Xi ∼ pb Signal: Y = {Y1,...,Y_ms}, Experimental: W = {W1,...,W_n},\n",
    "    \"\"\"\n",
    "    m_s = int(n * sig_lambda)\n",
    "    m_b = n - m_s\n",
    "    exp_events = np.concatenate((ori_bkg_events[:m_b], ori_sig_events[:m_s]))\n",
    "    np.random.shuffle(exp_events)\n",
    "    bkg_events = ori_bkg_events[m_b:m_b + n]\n",
    "    np.random.shuffle(bkg_events)\n",
    "    return exp_events, bkg_events"
   ]
  },
  {
   "cell_type": "code",
   "execution_count": 14,
   "metadata": {},
   "outputs": [],
   "source": [
    "def train_test_split(exp_events, bkg_events, test_ratio=0.2):\n",
    "    \"\"\"\n",
    "    Split background data X = {X1,...,X_mb} into X1 and X2 of sizes m1 and m2 respectively.\n",
    "    Split experimental data W = {W1,...,W_n} into W1 and W2 of sizes n1 and n2 respectively, with n2 = m2.\n",
    "    Will assume n = mb for now.\n",
    "    \"\"\"\n",
    "    n1 = int((1 - test_ratio) * len(exp_events))\n",
    "    m1 = n1\n",
    "    np.random.shuffle(exp_events)\n",
    "    np.random.shuffle(bkg_events)\n",
    "    X1 = bkg_events[:m1]\n",
    "    X2 = bkg_events[m1:]\n",
    "    W1 = exp_events[:n1]\n",
    "    W2 = exp_events[n1:]\n",
    "    return X1, X2, W1, W2"
   ]
  },
  {
   "cell_type": "code",
   "execution_count": 15,
   "metadata": {},
   "outputs": [],
   "source": [
    "class ClassifyDataset(Dataset):\n",
    "    def __init__(self, exp_events ,bkg_events):\n",
    "        \"\"\"\n",
    "        Experiment events labeled as 1, background events labeled as 0.\n",
    "        \"\"\"\n",
    "        # Normalize the data\n",
    "        bkg_events = max_min_norm(bkg_events)\n",
    "        exp_events = max_min_norm(exp_events)\n",
    "\n",
    "        bkg_events = torch.from_numpy(bkg_events).float()\n",
    "        exp_events = torch.from_numpy(exp_events).float()\n",
    "        self.events = torch.cat([bkg_events, exp_events], dim=0)\n",
    "        self.labels = torch.cat([torch.zeros(len(bkg_events)), torch.ones(len(exp_events))])\n",
    "    \n",
    "    def __len__(self):\n",
    "        return len(self.events)\n",
    "    \n",
    "    def __getitem__(self, idx):\n",
    "        return self.events[idx], self.labels[idx]"
   ]
  },
  {
   "cell_type": "code",
   "execution_count": 16,
   "metadata": {},
   "outputs": [],
   "source": [
    "def get_dataloaders(X1, W1, val_ratio):\n",
    "    \"\"\"\n",
    "    Get dataloaders for training and validation sets.\n",
    "    \"\"\"\n",
    "    n_train = int((1 - val_ratio) * len(W1))\n",
    "    X1_train = X1[:n_train]\n",
    "    X1_val = X1[n_train:]\n",
    "    W1_train = W1[:n_train]\n",
    "    W1_val = W1[n_train:]\n",
    "    \n",
    "    train_dataset = ClassifyDataset(W1_train, X1_train)\n",
    "    val_dataset = ClassifyDataset(W1_val, X1_val)\n",
    "    train_dataloader = DataLoader(train_dataset, batch_size=32, shuffle=True, pin_memory=True)\n",
    "    val_dataloader = DataLoader(val_dataset, batch_size=256)\n",
    "    return train_dataloader, val_dataloader"
   ]
  },
  {
   "cell_type": "code",
   "execution_count": 17,
   "metadata": {},
   "outputs": [],
   "source": [
    "tpr_dict = {}\n",
    "fpr_dict = {}\n",
    "auc_dict = {}"
   ]
  },
  {
   "cell_type": "code",
   "execution_count": 102,
   "metadata": {},
   "outputs": [],
   "source": [
    "test_ratio=0.2\n",
    "val_ratio = 0.2\n",
    "sig_lambda = 0.9\n",
    "n = 100000\n",
    "\n",
    "exp_events, bkg_events = create_exp_bkg_events(bkg_embed_points, charged_Higgs_embed_points, sig_lambda, n)\n",
    "X1, X2, W1, W2 = train_test_split(exp_events, bkg_events, test_ratio)\n",
    "n1 = len(W1)\n",
    "m1 = len(X1)\n",
    "n2 = len(W2)\n",
    "m2 = len(X2)\n",
    "train_dataloader, val_dataloader = get_dataloaders(X1, W1, val_ratio)"
   ]
  },
  {
   "cell_type": "markdown",
   "metadata": {},
   "source": [
    "# Classify Model"
   ]
  },
  {
   "cell_type": "code",
   "execution_count": 103,
   "metadata": {},
   "outputs": [],
   "source": [
    "class MLP(nn.Module):\n",
    "    def __init__(self, input_size, hidden_sizes):\n",
    "        super(MLP, self).__init__()\n",
    "        def make_layer(in_size, out_size):\n",
    "            layer = nn.Sequential(\n",
    "                nn.Linear(in_size, out_size),\n",
    "                nn.LeakyReLU(),\n",
    "                # nn.Dropout(0.1)\n",
    "            )\n",
    "            nn.init.kaiming_normal_(layer[0].weight, nonlinearity='leaky_relu')\n",
    "            return layer\n",
    "        self.layers = nn.Sequential(\n",
    "            make_layer(input_size, hidden_sizes[0]),\n",
    "            *[make_layer(hidden_sizes[i], hidden_sizes[i+1]) for i in range(len(hidden_sizes)-1)],\n",
    "            nn.Linear(hidden_sizes[-1], 1),\n",
    "            nn.Sigmoid()\n",
    "        )\n",
    "    \n",
    "\n",
    "    def forward(self, x):\n",
    "        return self.layers(x).reshape(-1)\n",
    "hidden_dim = [8, 16, 16, 16, 8]\n",
    "naive_model = MLP(output_dim, hidden_sizes=hidden_dim)"
   ]
  },
  {
   "cell_type": "code",
   "execution_count": 104,
   "metadata": {},
   "outputs": [],
   "source": [
    "# class Deep(nn.Module):\n",
    "#     def __init__(self):\n",
    "#         super().__init__()\n",
    "#         self.layer1 = nn.Linear(4, 8)\n",
    "#         self.act1 = nn.ReLU()\n",
    "#         self.layer2 = nn.Linear(8, 16)\n",
    "#         self.act2 = nn.ReLU()\n",
    "#         self.layer3 = nn.Linear(16, 16)\n",
    "#         self.act3 = nn.ReLU()\n",
    "#         self.output = nn.Linear(16, 1)\n",
    "#         self.sigmoid = nn.Sigmoid()\n",
    " \n",
    "#     def forward(self, x):\n",
    "#         x = self.act1(self.layer1(x))\n",
    "#         x = self.act2(self.layer2(x))\n",
    "#         x = self.act3(self.layer3(x))\n",
    "#         x = self.sigmoid(self.output(x))\n",
    "#         x = x.squeeze()\n",
    "#         return x\n",
    "\n",
    "# naive_model = Deep()"
   ]
  },
  {
   "cell_type": "markdown",
   "metadata": {},
   "source": [
    "# Train"
   ]
  },
  {
   "cell_type": "code",
   "execution_count": 105,
   "metadata": {},
   "outputs": [],
   "source": [
    "class BinaryACCUpdater(nn.Module):\n",
    "    def __init__(self, threshold=0.5):\n",
    "        super(BinaryACCUpdater, self).__init__()\n",
    "        self.total_acc = 0\n",
    "        self.count = 0\n",
    "        self.threshold = threshold\n",
    "    def forward(self, output, label):\n",
    "        acc = (output > self.threshold).float() == label\n",
    "        mean_acc = acc.float().mean()\n",
    "        self.update(mean_acc)\n",
    "        return mean_acc\n",
    "    def update(self, metric):\n",
    "        self.total_acc += metric\n",
    "        self.count += 1\n",
    "    def compute(self):\n",
    "        return self.total_acc / self.count\n",
    "    def reset(self):\n",
    "        self.total_acc = 0\n",
    "        self.count = 0"
   ]
  },
  {
   "cell_type": "code",
   "execution_count": 106,
   "metadata": {},
   "outputs": [],
   "source": [
    "naive_model.to(device)\n",
    "optimizer = torch.optim.Adam(naive_model.parameters(), lr=1e-3, weight_decay=1e-5)\n",
    "loss_fn = nn.BCELoss()\n",
    "acc_metric = BinaryACCUpdater()\n",
    "metric_dict = {\"Accuracy\": acc_metric}"
   ]
  },
  {
   "cell_type": "code",
   "execution_count": 107,
   "metadata": {},
   "outputs": [],
   "source": [
    "from classify import train_model"
   ]
  },
  {
   "cell_type": "code",
   "execution_count": 108,
   "metadata": {},
   "outputs": [],
   "source": [
    "opt_train_model  = torch.compile(train_model)"
   ]
  },
  {
   "cell_type": "code",
   "execution_count": 109,
   "metadata": {},
   "outputs": [
    {
     "name": "stdout",
     "output_type": "stream",
     "text": [
      "\n",
      "================================================================================2024-05-15 14:19:14\n",
      "Epoch 1 / 50\n",
      "\n",
      "100%|██████████| 4000/4000 [00:11<00:00, 337.31it/s, train_Accuracy=0.826, train_loss=0.411]\n",
      "100%|██████████| 125/125 [00:00<00:00, 132.10it/s, val_Accuracy=0.831, val_loss=0.399]\n",
      "<<<<<< reach best val_Accuracy : 0.8311875462532043 >>>>>>\n",
      "\n",
      "================================================================================2024-05-15 14:19:27\n",
      "Epoch 2 / 50\n",
      "\n",
      "100%|██████████| 4000/4000 [00:11<00:00, 359.28it/s, train_Accuracy=0.832, train_loss=0.397]\n",
      "100%|██████████| 125/125 [00:00<00:00, 582.28it/s, val_Accuracy=0.83, val_loss=0.4]   \n",
      "\n",
      "================================================================================2024-05-15 14:19:38\n",
      "Epoch 3 / 50\n",
      "\n",
      "100%|██████████| 4000/4000 [00:10<00:00, 375.89it/s, train_Accuracy=0.832, train_loss=0.397]\n",
      "100%|██████████| 125/125 [00:00<00:00, 580.83it/s, val_Accuracy=0.831, val_loss=0.399]\n",
      "\n",
      "================================================================================2024-05-15 14:19:49\n",
      "Epoch 4 / 50\n",
      "\n",
      "100%|██████████| 4000/4000 [00:11<00:00, 363.63it/s, train_Accuracy=0.833, train_loss=0.396]\n",
      "100%|██████████| 125/125 [00:00<00:00, 613.61it/s, val_Accuracy=0.832, val_loss=0.399]\n",
      "<<<<<< reach best val_Accuracy : 0.831656277179718 >>>>>>\n",
      "\n",
      "================================================================================2024-05-15 14:20:00\n",
      "Epoch 5 / 50\n",
      "\n",
      "100%|██████████| 4000/4000 [00:10<00:00, 374.30it/s, train_Accuracy=0.832, train_loss=0.396]\n",
      "100%|██████████| 125/125 [00:00<00:00, 648.52it/s, val_Accuracy=0.83, val_loss=0.4]  \n",
      "\n",
      "================================================================================2024-05-15 14:20:11\n",
      "Epoch 6 / 50\n",
      "\n",
      "100%|██████████| 4000/4000 [00:10<00:00, 373.01it/s, train_Accuracy=0.832, train_loss=0.395]\n",
      "100%|██████████| 125/125 [00:00<00:00, 680.25it/s, val_Accuracy=0.831, val_loss=0.401]\n",
      "\n",
      "================================================================================2024-05-15 14:20:22\n",
      "Epoch 7 / 50\n",
      "\n",
      "100%|██████████| 4000/4000 [00:10<00:00, 372.16it/s, train_Accuracy=0.833, train_loss=0.395]\n",
      "100%|██████████| 125/125 [00:00<00:00, 577.19it/s, val_Accuracy=0.829, val_loss=0.403]\n",
      "\n",
      "================================================================================2024-05-15 14:20:33\n",
      "Epoch 8 / 50\n",
      "\n",
      "100%|██████████| 4000/4000 [00:10<00:00, 371.51it/s, train_Accuracy=0.832, train_loss=0.395]\n",
      "100%|██████████| 125/125 [00:00<00:00, 568.96it/s, val_Accuracy=0.831, val_loss=0.4]  \n",
      "\n",
      "================================================================================2024-05-15 14:20:44\n",
      "Epoch 9 / 50\n",
      "\n",
      "100%|██████████| 4000/4000 [00:10<00:00, 366.17it/s, train_Accuracy=0.833, train_loss=0.394]\n",
      "100%|██████████| 125/125 [00:00<00:00, 595.34it/s, val_Accuracy=0.826, val_loss=0.406]\n",
      "<<<<<< val_Accuracy without improvement in 5 epoch, early stopping >>>>>>\n"
     ]
    },
    {
     "data": {
      "text/html": [
       "<div>\n",
       "<style scoped>\n",
       "    .dataframe tbody tr th:only-of-type {\n",
       "        vertical-align: middle;\n",
       "    }\n",
       "\n",
       "    .dataframe tbody tr th {\n",
       "        vertical-align: top;\n",
       "    }\n",
       "\n",
       "    .dataframe thead th {\n",
       "        text-align: right;\n",
       "    }\n",
       "</style>\n",
       "<table border=\"1\" class=\"dataframe\">\n",
       "  <thead>\n",
       "    <tr style=\"text-align: right;\">\n",
       "      <th></th>\n",
       "      <th>train_loss</th>\n",
       "      <th>train_Accuracy</th>\n",
       "      <th>val_loss</th>\n",
       "      <th>val_Accuracy</th>\n",
       "      <th>epoch</th>\n",
       "    </tr>\n",
       "  </thead>\n",
       "  <tbody>\n",
       "    <tr>\n",
       "      <th>0</th>\n",
       "      <td>0.410783</td>\n",
       "      <td>0.825828</td>\n",
       "      <td>0.398799</td>\n",
       "      <td>0.831188</td>\n",
       "      <td>1</td>\n",
       "    </tr>\n",
       "    <tr>\n",
       "      <th>1</th>\n",
       "      <td>0.397444</td>\n",
       "      <td>0.832352</td>\n",
       "      <td>0.400038</td>\n",
       "      <td>0.830000</td>\n",
       "      <td>2</td>\n",
       "    </tr>\n",
       "    <tr>\n",
       "      <th>2</th>\n",
       "      <td>0.396855</td>\n",
       "      <td>0.832492</td>\n",
       "      <td>0.398625</td>\n",
       "      <td>0.830938</td>\n",
       "      <td>3</td>\n",
       "    </tr>\n",
       "    <tr>\n",
       "      <th>3</th>\n",
       "      <td>0.396023</td>\n",
       "      <td>0.832570</td>\n",
       "      <td>0.398850</td>\n",
       "      <td>0.831656</td>\n",
       "      <td>4</td>\n",
       "    </tr>\n",
       "    <tr>\n",
       "      <th>4</th>\n",
       "      <td>0.395617</td>\n",
       "      <td>0.832242</td>\n",
       "      <td>0.400110</td>\n",
       "      <td>0.829844</td>\n",
       "      <td>5</td>\n",
       "    </tr>\n",
       "    <tr>\n",
       "      <th>5</th>\n",
       "      <td>0.395160</td>\n",
       "      <td>0.832273</td>\n",
       "      <td>0.400980</td>\n",
       "      <td>0.831250</td>\n",
       "      <td>6</td>\n",
       "    </tr>\n",
       "    <tr>\n",
       "      <th>6</th>\n",
       "      <td>0.394862</td>\n",
       "      <td>0.832930</td>\n",
       "      <td>0.403308</td>\n",
       "      <td>0.829281</td>\n",
       "      <td>7</td>\n",
       "    </tr>\n",
       "    <tr>\n",
       "      <th>7</th>\n",
       "      <td>0.394717</td>\n",
       "      <td>0.832328</td>\n",
       "      <td>0.399541</td>\n",
       "      <td>0.831469</td>\n",
       "      <td>8</td>\n",
       "    </tr>\n",
       "    <tr>\n",
       "      <th>8</th>\n",
       "      <td>0.394472</td>\n",
       "      <td>0.832984</td>\n",
       "      <td>0.405755</td>\n",
       "      <td>0.825969</td>\n",
       "      <td>9</td>\n",
       "    </tr>\n",
       "  </tbody>\n",
       "</table>\n",
       "</div>"
      ],
      "text/plain": [
       "   train_loss  train_Accuracy  val_loss  val_Accuracy  epoch\n",
       "0    0.410783        0.825828  0.398799      0.831188      1\n",
       "1    0.397444        0.832352  0.400038      0.830000      2\n",
       "2    0.396855        0.832492  0.398625      0.830938      3\n",
       "3    0.396023        0.832570  0.398850      0.831656      4\n",
       "4    0.395617        0.832242  0.400110      0.829844      5\n",
       "5    0.395160        0.832273  0.400980      0.831250      6\n",
       "6    0.394862        0.832930  0.403308      0.829281      7\n",
       "7    0.394717        0.832328  0.399541      0.831469      8\n",
       "8    0.394472        0.832984  0.405755      0.825969      9"
      ]
     },
     "execution_count": 109,
     "metadata": {},
     "output_type": "execute_result"
    }
   ],
   "source": [
    "opt_train_model(\n",
    "    naive_model, optimizer,\n",
    "    loss_fn, metrics_dict=metric_dict,\n",
    "    train_dataloader=train_dataloader, val_dataloader=val_dataloader,\n",
    "    monitor=\"val_Accuracy\", mode=\"max\",\n",
    "    epochs=50\n",
    "    )"
   ]
  },
  {
   "cell_type": "markdown",
   "metadata": {},
   "source": [
    "# ROC"
   ]
  },
  {
   "cell_type": "code",
   "execution_count": 189,
   "metadata": {},
   "outputs": [],
   "source": [
    "@torch.no_grad()\n",
    "def predict(model, dataloader):\n",
    "    model.eval()\n",
    "    batch_size = dataloader.batch_size\n",
    "    targets = np.zeros(len(dataloader.dataset))\n",
    "    predictions = np.zeros(len(dataloader.dataset))\n",
    "    for i, (features, labels) in enumerate(tqdm(dataloader)):\n",
    "        features = features.to(device)\n",
    "        outputs = model(features)\n",
    "        targets[i * batch_size: (i + 1) * batch_size] = labels.numpy()\n",
    "        predictions[i * batch_size: (i + 1) * batch_size] = outputs.cpu().numpy()\n",
    "    return targets, predictions"
   ]
  },
  {
   "cell_type": "code",
   "execution_count": 190,
   "metadata": {},
   "outputs": [
    {
     "name": "stderr",
     "output_type": "stream",
     "text": [
      "100%|██████████| 125/125 [00:00<00:00, 1202.69it/s]\n"
     ]
    }
   ],
   "source": [
    "targets, predictions = predict(naive_model, val_dataloader)"
   ]
  },
  {
   "cell_type": "code",
   "execution_count": 34,
   "metadata": {},
   "outputs": [],
   "source": [
    "from sklearn.metrics import roc_curve, auc"
   ]
  },
  {
   "cell_type": "code",
   "execution_count": 192,
   "metadata": {},
   "outputs": [],
   "source": [
    "def calculate_auc(targets, predictions):\n",
    "    fpr, tpr, thersholds = roc_curve(targets, predictions)\n",
    "    auc_roc = auc(fpr, tpr)\n",
    "    return fpr, tpr, auc_roc"
   ]
  },
  {
   "cell_type": "code",
   "execution_count": 193,
   "metadata": {},
   "outputs": [],
   "source": [
    "def plot_roc_curve(fpr_dict, tpr_dict, auc_dict, title):\n",
    "    for key in fpr_dict.keys():\n",
    "        fpr = fpr_dict[key]\n",
    "        tpr = tpr_dict[key]\n",
    "        auc_roc = auc_dict[key]\n",
    "        plt.plot(fpr, tpr, label='Lambda = {} (AUC = {:.2f})'.format(key, auc_roc))\n",
    "    # plt.plot(fpr, tpr, 'k--', label='ROC (area = {0:.2f})'.format(auc_roc), lw=2)    \n",
    "    plt.xlim([-0.05, 1.05])\n",
    "    plt.ylim([-0.05, 1.05])\n",
    "    plt.xlabel('FPR')\n",
    "    plt.ylabel('TPR') \n",
    "    plt.title(title)\n",
    "    plt.legend(loc=\"lower right\")\n",
    "    plt.show()\n"
   ]
  },
  {
   "cell_type": "code",
   "execution_count": 194,
   "metadata": {},
   "outputs": [
    {
     "data": {
      "image/png": "[encoded data removed]",
      "text/plain": [
       "<Figure size 640x480 with 1 Axes>"
      ]
     },
     "metadata": {},
     "output_type": "display_data"
    }
   ],
   "source": [
    "fpr, tpr, auc_roc = calculate_auc(targets, predictions)\n",
    "fpr_dict[str(sig_lambda)] = fpr\n",
    "tpr_dict[str(sig_lambda)] = tpr\n",
    "auc_dict[str(sig_lambda)] = auc_roc\n",
    "plot_roc_curve(fpr_dict, tpr_dict, auc_dict, \"ROC Curve\")"
   ]
  },
  {
   "cell_type": "markdown",
   "metadata": {},
   "source": [
    "# Test statistics"
   ]
  },
  {
   "cell_type": "code",
   "execution_count": 26,
   "metadata": {},
   "outputs": [],
   "source": [
    "class TestDataset(Dataset):\n",
    "    def __init__(self, events):\n",
    "        events = max_min_norm(events)\n",
    "        self.events = torch.from_numpy(events).float()\n",
    "    \n",
    "    def __len__(self):\n",
    "        return len(self.events)\n",
    "    \n",
    "    def __getitem__(self, idx):\n",
    "        return self.events[idx]"
   ]
  },
  {
   "cell_type": "code",
   "execution_count": 27,
   "metadata": {},
   "outputs": [],
   "source": [
    "@torch.no_grad()\n",
    "def h_hat(classifier, W):\n",
    "    classifier.eval()\n",
    "    W_dataset = TestDataset(W)\n",
    "    batch_size = 512\n",
    "    W_dataloader = DataLoader(W_dataset, batch_size=batch_size)\n",
    "    predictions = np.zeros(len(W))\n",
    "    for i, features in enumerate(W_dataloader):\n",
    "        features = features.to(device)\n",
    "        outputs = classifier(features)\n",
    "        predictions[i * batch_size: (i + 1) * batch_size] = outputs.cpu().numpy()\n",
    "    return predictions"
   ]
  },
  {
   "cell_type": "code",
   "execution_count": 197,
   "metadata": {},
   "outputs": [],
   "source": [
    "def lrt(h_W):\n",
    "    pi = n1 / (m1 + n1)\n",
    "    return np.log((1 - pi) / pi) + (1 / n2) * np.sum(np.log(h_W / (1 - h_W)))\n",
    "\n",
    "\n",
    "def auc(h_W, h_X):\n",
    "    result = h_W[:, None] > h_X[None, :]\n",
    "    sum = np.sum(result)\n",
    "    return sum / (m2 * n2)\n",
    "    \n",
    "\n",
    "def mce(h_W, h_X):\n",
    "    pi = n1 / (m1 + n1)\n",
    "    x_sum = np.sum(h_X > pi)\n",
    "    w_sum = np.sum(h_W < pi)\n",
    "    return 0.5 * ((1/m2) * x_sum + (1/n2) * w_sum)"
   ]
  },
  {
   "cell_type": "code",
   "execution_count": 198,
   "metadata": {},
   "outputs": [
    {
     "name": "stdout",
     "output_type": "stream",
     "text": [
      "CPU times: user 3 µs, sys: 0 ns, total: 3 µs\n",
      "Wall time: 5.96 µs\n",
      "1.4060561556834585\n"
     ]
    }
   ],
   "source": [
    "%time\n",
    "h_W2 = h_hat(naive_model, W2)\n",
    "print(lrt(h_W2))"
   ]
  },
  {
   "cell_type": "code",
   "execution_count": 199,
   "metadata": {},
   "outputs": [
    {
     "name": "stdout",
     "output_type": "stream",
     "text": [
      "CPU times: user 2 µs, sys: 0 ns, total: 2 µs\n",
      "Wall time: 4.05 µs\n",
      "0.85207461\n"
     ]
    }
   ],
   "source": [
    "%time\n",
    "h_X2 = h_hat(naive_model, X2)\n",
    "print(auc(h_W2, h_X2))"
   ]
  },
  {
   "cell_type": "code",
   "execution_count": 200,
   "metadata": {},
   "outputs": [
    {
     "name": "stdout",
     "output_type": "stream",
     "text": [
      "CPU times: user 3 µs, sys: 0 ns, total: 3 µs\n",
      "Wall time: 5.72 µs\n",
      "0.2058\n"
     ]
    }
   ],
   "source": [
    "%time\n",
    "print(mce(h_W2, h_X2))"
   ]
  },
  {
   "cell_type": "code",
   "execution_count": 148,
   "metadata": {},
   "outputs": [],
   "source": [
    "class Bootstrap_Permutation:\n",
    "    def __init__(self, X2, W2, classifier):\n",
    "        assert len(X2) == len(W2) # Make sure n2= m2\n",
    "        self.m2 = len(X2)\n",
    "        self.n2 = len(W2)\n",
    "        self.n_union = self.m2 + self.n2\n",
    "\n",
    "        self.X2 = X2\n",
    "        self.W2 = W2\n",
    "        self.union = np.concatenate((self.X2, self.W2))\n",
    "\n",
    "        self.h_X2 = h_hat(classifier, self.X2)\n",
    "        self.h_W2 = h_hat(classifier, self.W2)\n",
    "        self.h_union = h_hat(classifier, self.union)\n",
    "\n",
    "\n",
    "        self.lrt_exp = lrt(self.h_W2)\n",
    "        self.auc_exp = auc(self.h_W2, self.h_X2)\n",
    "        self.mce_exp = mce(self.h_W2, self.h_X2)\n",
    "\n",
    "    def bootstrap(self, n):\n",
    "        lrt_null = np.zeros(n)\n",
    "        auc_null = np.zeros(n)\n",
    "        mce_null = np.zeros(n)\n",
    "        for i in tqdm(range(n)):\n",
    "            lrt_null[i] = lrt(self.h_union[np.random.randint(0, self.n_union, self.n2)])\n",
    "            auc_null[i] = auc(self.h_union[np.random.randint(0, self.n_union, self.n2)], self.h_union[np.random.randint(0, self.n_union, self.m2)])\n",
    "            mce_null[i] = mce(self.h_union[np.random.randint(0, self.n_union, self.n2)], self.h_union[np.random.randint(0, self.n_union, self.m2)])\n",
    "        # P-value\n",
    "        if self.lrt_exp > np.mean(lrt_null):\n",
    "            lrt_p = np.mean(lrt_null > self.lrt_exp)\n",
    "        else:\n",
    "            lrt_p = np.mean(lrt_null < self.lrt_exp)\n",
    "        if self.auc_exp > np.mean(auc_null):\n",
    "            auc_p = np.mean(auc_null > self.auc_exp)\n",
    "        else:\n",
    "            auc_p = np.mean(auc_null < self.auc_exp)\n",
    "        if self.mce_exp > np.mean(mce_null):\n",
    "            mce_p = np.mean(mce_null > self.mce_exp)\n",
    "        else:\n",
    "            mce_p = np.mean(mce_null < self.mce_exp)\n",
    "        self.lrt_p_bootstrap = lrt_p\n",
    "        self.auc_p_bootstrap = auc_p\n",
    "        self.mce_p_bootstrap = mce_p\n",
    "        return lrt_null, auc_null, mce_null\n",
    "        \n",
    "    def permutation(self, n):\n",
    "        lrt_null = np.zeros(n)\n",
    "        auc_null = np.zeros(n)\n",
    "        mce_null = np.zeros(n)\n",
    "        \n",
    "        for i in tqdm(range(n)):\n",
    "            sample1 = self.h_union.copy()\n",
    "            sample2 = self.h_union.copy()\n",
    "            np.random.shuffle(sample1)\n",
    "            np.random.shuffle(sample2)\n",
    "            lrt_null[i] = lrt(self.h_union[np.random.choice(self.n_union, self.n2, replace=False)])\n",
    "            auc_null[i] = auc(sample1[:self.n2], sample1[self.n2:])\n",
    "            mce_null[i] = mce(sample2[:self.n2], sample2[self.n2:])\n",
    "        # P-value\n",
    "        if self.lrt_exp > np.mean(lrt_null):\n",
    "            lrt_p = np.mean(lrt_null > self.lrt_exp)\n",
    "        else:\n",
    "            lrt_p = np.mean(lrt_null < self.lrt_exp)\n",
    "        if self.auc_exp > np.mean(auc_null):\n",
    "            auc_p = np.mean(auc_null > self.auc_exp)\n",
    "        else:\n",
    "            auc_p = np.mean(auc_null < self.auc_exp)\n",
    "        if self.mce_exp > np.mean(mce_null):\n",
    "            mce_p = np.mean(mce_null > self.mce_exp)\n",
    "        else:\n",
    "            mce_p = np.mean(mce_null < self.mce_exp)\n",
    "        self.lrt_p_permutation = lrt_p\n",
    "        self.auc_p_permutation = auc_p\n",
    "        self.mce_p_permutation = mce_p\n",
    "        \n",
    "        return lrt_null, auc_null, mce_null"
   ]
  },
  {
   "cell_type": "code",
   "execution_count": 149,
   "metadata": {},
   "outputs": [],
   "source": [
    "bootstrap_permutation = Bootstrap_Permutation(X2, W2, naive_model)"
   ]
  },
  {
   "cell_type": "code",
   "execution_count": 150,
   "metadata": {},
   "outputs": [
    {
     "name": "stderr",
     "output_type": "stream",
     "text": [
      "100%|██████████| 10000/10000 [23:15<00:00,  7.17it/s]\n"
     ]
    }
   ],
   "source": [
    "lrt_null_bootstarp, auc_null_bootstarp, mce_null_bootstarp = bootstrap_permutation.bootstrap(10000)"
   ]
  },
  {
   "cell_type": "code",
   "execution_count": 151,
   "metadata": {},
   "outputs": [
    {
     "name": "stderr",
     "output_type": "stream",
     "text": [
      "100%|██████████| 10000/10000 [23:42<00:00,  7.03it/s]\n"
     ]
    }
   ],
   "source": [
    "lrt_null_permutation, auc_null_permutation, mce_null_permutation = bootstrap_permutation.permutation(10000)"
   ]
  },
  {
   "cell_type": "code",
   "execution_count": 309,
   "metadata": {},
   "outputs": [
    {
     "data": {
      "image/png": "[encoded data removed]",
      "text/plain": [
       "<Figure size 640x480 with 1 Axes>"
      ]
     },
     "metadata": {},
     "output_type": "display_data"
    }
   ],
   "source": [
    "plt.hist(mce_null_bootstarp, bins=50, alpha=0.5, label=\"bootstrap p value = {}\".format(bootstrap_permutation.mce_p_bootstrap))\n",
    "plt.hist(mce_null_permutation, bins=50, alpha=0.5, label=\"permutation p value = {}\".format(bootstrap_permutation.mce_p_permutation))\n",
    "plt.axvline(bootstrap_permutation.mce_exp, color='r', label=\"exp\")\n",
    "plt.legend()\n",
    "plt.title(\"MCE Null Distribution lambda = {}\".format(sig_lambda))\n",
    "plt.show()"
   ]
  },
  {
   "cell_type": "code",
   "execution_count": 310,
   "metadata": {},
   "outputs": [
    {
     "data": {
      "image/png": "[encoded data removed]",
      "text/plain": [
       "<Figure size 640x480 with 1 Axes>"
      ]
     },
     "metadata": {},
     "output_type": "display_data"
    }
   ],
   "source": [
    "plt.hist(lrt_null_bootstarp, bins=50, alpha=0.5, label=\"bootstrap p value = {}\".format(bootstrap_permutation.lrt_p_bootstrap))\n",
    "plt.hist(lrt_null_permutation, bins=50, alpha=0.5, label=\"permutation p value = {}\".format(bootstrap_permutation.lrt_p_permutation))\n",
    "plt.axvline(bootstrap_permutation.lrt_exp, color='r', label=\"exp\")\n",
    "plt.legend()\n",
    "plt.title(\"LRT Null Distribution lambda = {}\".format(sig_lambda))\n",
    "plt.show()"
   ]
  },
  {
   "cell_type": "code",
   "execution_count": 311,
   "metadata": {},
   "outputs": [
    {
     "data": {
      "image/png": "[encoded data removed]",
      "text/plain": [
       "<Figure size 640x480 with 1 Axes>"
      ]
     },
     "metadata": {},
     "output_type": "display_data"
    }
   ],
   "source": [
    "plt.hist(auc_null_bootstarp, bins=50, alpha=0.5, label=\"bootstrap p value = {}\".format(bootstrap_permutation.auc_p_bootstrap))\n",
    "plt.hist(auc_null_permutation, bins=50, alpha=0.5, label=\"permutation p value = {}\".format(bootstrap_permutation.auc_p_permutation))\n",
    "plt.axvline(bootstrap_permutation.auc_exp, color='r', label=\"exp\")\n",
    "plt.legend()\n",
    "plt.title(\"AUC Null Distribution lambda = {}\".format(sig_lambda))\n",
    "plt.show()"
   ]
  },
  {
   "cell_type": "markdown",
   "metadata": {},
   "source": [
    "# Estimate signal strength"
   ]
  },
  {
   "cell_type": "code",
   "execution_count": 110,
   "metadata": {},
   "outputs": [],
   "source": [
    "from scipy.optimize import curve_fit\n",
    "class LambdaEstimator:\n",
    "    def __init__(self, X2, W2, classifier, T=0.5, n_bins=20):\n",
    "        assert len(X2) == len(W2) # Make sure n2= m2\n",
    "        self.m2 = len(X2)\n",
    "        self.n2 = len(W2)\n",
    "\n",
    "        self.X2 = X2\n",
    "        self.W2 = W2\n",
    "\n",
    "        self.h_X2 = h_hat(classifier, self.X2)\n",
    "        self.h_W2 = h_hat(classifier, self.W2)\n",
    "        result = self.h_X2[:, None] > self.h_W2[None, :]\n",
    "        self.rho_W = np.sum(result, axis=0) / m2\n",
    "        self.T = T\n",
    "        self.bins = np.linspace(0, 1, n_bins+1)\n",
    "        self.H_t = np.histogram(self.rho_W, bins=self.bins, density=True)[0]\n",
    "        assert T in self.bins\n",
    "        self.fit_start_idx = np.where(self.bins == T)[0][0]\n",
    "        # fit a Poisson regression f(t) = exp(β0+ β1t)\n",
    "        def poisson(t, beta0, beta1):\n",
    "            return np.exp(beta0 + beta1 * t)\n",
    "        opt, cov = curve_fit(poisson, self.bins[self.fit_start_idx:], self.H_t[self.fit_start_idx-1:])\n",
    "        self.beta0, self.beta1 = opt\n",
    "        # Constrain β1 ≤ 0\n",
    "        self.beta1 = min(self.beta1, 0)\n",
    "        self.estimated_H_t = poisson(self.bins[self.fit_start_idx:], self.beta0, self.beta1)\n",
    "        self.estimated_lambda = 1 - poisson(1, self.beta0, self.beta1)"
   ]
  },
  {
   "cell_type": "code",
   "execution_count": 111,
   "metadata": {},
   "outputs": [
    {
     "name": "stdout",
     "output_type": "stream",
     "text": [
      "estimated lambda: 0.8734751717730768\n",
      "beta 0 = -1.592523137230194, beta 1 = -0.4747935822743533\n",
      "last bin height: 0.1265248282269232\n"
     ]
    },
    {
     "data": {
      "image/png": "[encoded data removed]",
      "text/plain": [
       "<Figure size 640x480 with 1 Axes>"
      ]
     },
     "metadata": {},
     "output_type": "display_data"
    }
   ],
   "source": [
    "lambda_estimator = LambdaEstimator(X2, W2, naive_model, T=0.5, n_bins=20)\n",
    "print(\"estimated lambda:\", lambda_estimator.estimated_lambda)\n",
    "print(\"beta 0 = {}, beta 1 = {}\".format(lambda_estimator.beta0, lambda_estimator.beta1))\n",
    "print(\"last bin height:\", lambda_estimator.estimated_H_t[-1])\n",
    "plt.hist(lambda_estimator.rho_W, bins=lambda_estimator.bins, alpha=0.5, edgecolor='black', density=True)\n",
    "start_idx = lambda_estimator.fit_start_idx\n",
    "plt.plot(lambda_estimator.bins[start_idx:], lambda_estimator.estimated_H_t, label=\"Estimated\")\n",
    "plt.plot(lambda_estimator.bins[1:], lambda_estimator.H_t, '*',label=\"True\")\n",
    "plt.legend()\n",
    "plt.title(\"Estimated λ = {:.2f}, true λ = {}\".format(lambda_estimator.estimated_lambda, sig_lambda))\n",
    "plt.show()"
   ]
  },
  {
   "cell_type": "code",
   "execution_count": 255,
   "metadata": {},
   "outputs": [
    {
     "data": {
      "image/png": "[encoded data removed]",
      "text/plain": [
       "<Figure size 1000x100 with 1 Axes>"
      ]
     },
     "metadata": {},
     "output_type": "display_data"
    }
   ],
   "source": [
    "n = 10\n",
    "datasets = np.concatenate([np.zeros(n), np.ones(n)])\n",
    "# sample = datasets[np.random.randint(0, 2*n, 2*n)]\n",
    "sample = datasets[np.random.choice(2*n, 2*n, replace=False)]\n",
    "colors = ['#5C9BD5' if x == 0 else '#70AD47' for x in sample]\n",
    "\n",
    "\n",
    "plt.figure(figsize=(10, 1))\n",
    "plt.bar(range(len(sample)), np.ones(len(sample)), color=colors, edgecolor='black', width=1.0)\n",
    "plt.ylim(0, 1)\n",
    "plt.xlim(-0.5, len(sample) - 0.5)\n",
    "plt.xticks([])\n",
    "plt.yticks([]) \n",
    "\n",
    "plt.show()\n"
   ]
  },
  {
   "cell_type": "markdown",
   "metadata": {},
   "source": [
    "# Bootstrapped Uncertainty Intervals for λ"
   ]
  },
  {
   "cell_type": "code",
   "execution_count": 30,
   "metadata": {},
   "outputs": [],
   "source": [
    "lambda_mean_dict = {}\n",
    "lambda_std_dict = {}"
   ]
  },
  {
   "cell_type": "code",
   "execution_count": 54,
   "metadata": {},
   "outputs": [
    {
     "name": "stdout",
     "output_type": "stream",
     "text": [
      "\n",
      "================================================================================2024-05-15 13:38:16\n",
      "Epoch 1 / 50\n",
      "\n",
      "100%|██████████| 4000/4000 [00:10<00:00, 396.90it/s, train_Accuracy=0.756, train_loss=0.513]\n",
      "100%|██████████| 125/125 [00:00<00:00, 681.81it/s, val_Accuracy=0.754, val_loss=0.507]\n",
      "<<<<<< reach best val_Accuracy : 0.7540000081062317 >>>>>>\n",
      "\n",
      "================================================================================2024-05-15 13:38:26\n",
      "Epoch 2 / 50\n",
      "\n",
      "100%|██████████| 4000/4000 [00:09<00:00, 402.50it/s, train_Accuracy=0.757, train_loss=0.507]\n",
      "100%|██████████| 125/125 [00:00<00:00, 604.88it/s, val_Accuracy=0.751, val_loss=0.51] \n",
      "\n",
      "================================================================================2024-05-15 13:38:37\n",
      "Epoch 3 / 50\n",
      "\n",
      "100%|██████████| 4000/4000 [00:09<00:00, 420.77it/s, train_Accuracy=0.757, train_loss=0.507]\n",
      "100%|██████████| 125/125 [00:00<00:00, 602.95it/s, val_Accuracy=0.756, val_loss=0.506]\n",
      "<<<<<< reach best val_Accuracy : 0.7557500600814819 >>>>>>\n",
      "\n",
      "================================================================================2024-05-15 13:38:46\n",
      "Epoch 4 / 50\n",
      "\n",
      "100%|██████████| 4000/4000 [00:09<00:00, 401.05it/s, train_Accuracy=0.758, train_loss=0.506]\n",
      "100%|██████████| 125/125 [00:00<00:00, 561.06it/s, val_Accuracy=0.755, val_loss=0.506]\n",
      "\n",
      "================================================================================2024-05-15 13:38:57\n",
      "Epoch 5 / 50\n",
      "\n",
      "100%|██████████| 4000/4000 [00:10<00:00, 397.99it/s, train_Accuracy=0.757, train_loss=0.506]\n",
      "100%|██████████| 125/125 [00:00<00:00, 572.19it/s, val_Accuracy=0.756, val_loss=0.506]\n",
      "<<<<<< reach best val_Accuracy : 0.7558437585830688 >>>>>>\n",
      "\n",
      "================================================================================2024-05-15 13:39:07\n",
      "Epoch 6 / 50\n",
      "\n",
      "100%|██████████| 4000/4000 [00:09<00:00, 417.23it/s, train_Accuracy=0.758, train_loss=0.506]\n",
      "100%|██████████| 125/125 [00:00<00:00, 548.74it/s, val_Accuracy=0.756, val_loss=0.506]\n",
      "\n",
      "================================================================================2024-05-15 13:39:17\n",
      "Epoch 7 / 50\n",
      "\n",
      "100%|██████████| 4000/4000 [00:10<00:00, 399.28it/s, train_Accuracy=0.758, train_loss=0.506]\n",
      "100%|██████████| 125/125 [00:00<00:00, 564.10it/s, val_Accuracy=0.757, val_loss=0.507]\n",
      "<<<<<< reach best val_Accuracy : 0.7565000653266907 >>>>>>\n",
      "\n",
      "================================================================================2024-05-15 13:39:27\n",
      "Epoch 8 / 50\n",
      "\n",
      "100%|██████████| 4000/4000 [00:10<00:00, 399.21it/s, train_Accuracy=0.758, train_loss=0.506]\n",
      "100%|██████████| 125/125 [00:00<00:00, 625.08it/s, val_Accuracy=0.756, val_loss=0.506]\n",
      "\n",
      "================================================================================2024-05-15 13:39:37\n",
      "Epoch 9 / 50\n",
      "\n",
      "100%|██████████| 4000/4000 [00:09<00:00, 403.34it/s, train_Accuracy=0.758, train_loss=0.505]\n",
      "100%|██████████| 125/125 [00:00<00:00, 577.57it/s, val_Accuracy=0.756, val_loss=0.506]\n",
      "\n",
      "================================================================================2024-05-15 13:39:47\n",
      "Epoch 10 / 50\n",
      "\n",
      "100%|██████████| 4000/4000 [00:09<00:00, 409.51it/s, train_Accuracy=0.759, train_loss=0.506]\n",
      "100%|██████████| 125/125 [00:00<00:00, 589.71it/s, val_Accuracy=0.756, val_loss=0.505]\n",
      "\n",
      "================================================================================2024-05-15 13:39:57\n",
      "Epoch 11 / 50\n",
      "\n",
      "100%|██████████| 4000/4000 [00:09<00:00, 402.34it/s, train_Accuracy=0.759, train_loss=0.505]\n",
      "100%|██████████| 125/125 [00:00<00:00, 627.26it/s, val_Accuracy=0.756, val_loss=0.505]\n",
      "\n",
      "================================================================================2024-05-15 13:40:07\n",
      "Epoch 12 / 50\n",
      "\n",
      "100%|██████████| 4000/4000 [00:10<00:00, 399.32it/s, train_Accuracy=0.759, train_loss=0.505]\n",
      "100%|██████████| 125/125 [00:00<00:00, 568.10it/s, val_Accuracy=0.755, val_loss=0.506]\n",
      "<<<<<< val_Accuracy without improvement in 5 epoch, early stopping >>>>>>\n",
      "\n",
      "================================================================================2024-05-15 13:40:18\n",
      "Epoch 1 / 50\n",
      "\n",
      "100%|██████████| 4000/4000 [00:10<00:00, 396.06it/s, train_Accuracy=0.749, train_loss=0.52] \n",
      "100%|██████████| 125/125 [00:00<00:00, 564.99it/s, val_Accuracy=0.757, val_loss=0.508]\n",
      "<<<<<< reach best val_Accuracy : 0.7573750615119934 >>>>>>\n",
      "\n",
      "================================================================================2024-05-15 13:40:28\n",
      "Epoch 2 / 50\n",
      "\n",
      "100%|██████████| 4000/4000 [00:09<00:00, 405.70it/s, train_Accuracy=0.758, train_loss=0.507]\n",
      "100%|██████████| 125/125 [00:00<00:00, 653.97it/s, val_Accuracy=0.758, val_loss=0.508]\n",
      "<<<<<< reach best val_Accuracy : 0.7583438158035278 >>>>>>\n",
      "\n",
      "================================================================================2024-05-15 13:40:39\n",
      "Epoch 3 / 50\n",
      "\n",
      "100%|██████████| 4000/4000 [00:10<00:00, 392.06it/s, train_Accuracy=0.758, train_loss=0.506]\n",
      "100%|██████████| 125/125 [00:00<00:00, 609.03it/s, val_Accuracy=0.758, val_loss=0.509]\n",
      "\n",
      "================================================================================2024-05-15 13:40:49\n",
      "Epoch 4 / 50\n",
      "\n",
      "100%|██████████| 4000/4000 [00:10<00:00, 397.69it/s, train_Accuracy=0.758, train_loss=0.506]\n",
      "100%|██████████| 125/125 [00:00<00:00, 563.42it/s, val_Accuracy=0.759, val_loss=0.505]\n",
      "<<<<<< reach best val_Accuracy : 0.7591875195503235 >>>>>>\n",
      "\n",
      "================================================================================2024-05-15 13:40:59\n",
      "Epoch 5 / 50\n",
      "\n",
      "100%|██████████| 4000/4000 [00:09<00:00, 406.27it/s, train_Accuracy=0.758, train_loss=0.505]\n",
      "100%|██████████| 125/125 [00:00<00:00, 619.57it/s, val_Accuracy=0.757, val_loss=0.507]\n",
      "\n",
      "================================================================================2024-05-15 13:41:09\n",
      "Epoch 6 / 50\n",
      "\n",
      "100%|██████████| 4000/4000 [00:09<00:00, 402.77it/s, train_Accuracy=0.758, train_loss=0.505]\n",
      "100%|██████████| 125/125 [00:00<00:00, 557.30it/s, val_Accuracy=0.755, val_loss=0.511]\n",
      "\n",
      "================================================================================2024-05-15 13:41:19\n",
      "Epoch 7 / 50\n",
      "\n",
      "100%|██████████| 4000/4000 [00:10<00:00, 397.84it/s, train_Accuracy=0.758, train_loss=0.505]\n",
      "100%|██████████| 125/125 [00:00<00:00, 592.68it/s, val_Accuracy=0.758, val_loss=0.505]\n",
      "\n",
      "================================================================================2024-05-15 13:41:30\n",
      "Epoch 8 / 50\n",
      "\n",
      "100%|██████████| 4000/4000 [00:09<00:00, 401.26it/s, train_Accuracy=0.759, train_loss=0.504]\n",
      "100%|██████████| 125/125 [00:00<00:00, 685.87it/s, val_Accuracy=0.759, val_loss=0.505]\n",
      "<<<<<< reach best val_Accuracy : 0.7593750357627869 >>>>>>\n",
      "\n",
      "================================================================================2024-05-15 13:41:40\n",
      "Epoch 9 / 50\n",
      "\n",
      "100%|██████████| 4000/4000 [00:09<00:00, 401.67it/s, train_Accuracy=0.759, train_loss=0.504]\n",
      "100%|██████████| 125/125 [00:00<00:00, 564.38it/s, val_Accuracy=0.76, val_loss=0.504] \n",
      "<<<<<< reach best val_Accuracy : 0.7600000500679016 >>>>>>\n",
      "\n",
      "================================================================================2024-05-15 13:41:50\n",
      "Epoch 10 / 50\n",
      "\n",
      "100%|██████████| 4000/4000 [00:10<00:00, 389.63it/s, train_Accuracy=0.759, train_loss=0.504]\n",
      "100%|██████████| 125/125 [00:00<00:00, 568.63it/s, val_Accuracy=0.76, val_loss=0.505] \n",
      "<<<<<< reach best val_Accuracy : 0.7601250410079956 >>>>>>\n",
      "\n",
      "================================================================================2024-05-15 13:42:00\n",
      "Epoch 11 / 50\n",
      "\n",
      "100%|██████████| 4000/4000 [00:09<00:00, 405.45it/s, train_Accuracy=0.758, train_loss=0.504]\n",
      "100%|██████████| 125/125 [00:00<00:00, 569.00it/s, val_Accuracy=0.759, val_loss=0.504]\n",
      "\n",
      "================================================================================2024-05-15 13:42:11\n",
      "Epoch 12 / 50\n",
      "\n",
      "100%|██████████| 4000/4000 [00:10<00:00, 394.60it/s, train_Accuracy=0.758, train_loss=0.504]\n",
      "100%|██████████| 125/125 [00:00<00:00, 562.46it/s, val_Accuracy=0.76, val_loss=0.504] \n",
      "\n",
      "================================================================================2024-05-15 13:42:21\n",
      "Epoch 13 / 50\n",
      "\n",
      "100%|██████████| 4000/4000 [00:09<00:00, 400.80it/s, train_Accuracy=0.759, train_loss=0.504]\n",
      "100%|██████████| 125/125 [00:00<00:00, 571.27it/s, val_Accuracy=0.759, val_loss=0.504]\n",
      "\n",
      "================================================================================2024-05-15 13:42:31\n",
      "Epoch 14 / 50\n",
      "\n",
      "100%|██████████| 4000/4000 [00:10<00:00, 396.74it/s, train_Accuracy=0.759, train_loss=0.504]\n",
      "100%|██████████| 125/125 [00:00<00:00, 628.18it/s, val_Accuracy=0.759, val_loss=0.505]\n",
      "\n",
      "================================================================================2024-05-15 13:42:41\n",
      "Epoch 15 / 50\n",
      "\n",
      "100%|██████████| 4000/4000 [00:09<00:00, 407.88it/s, train_Accuracy=0.759, train_loss=0.504]\n",
      "100%|██████████| 125/125 [00:00<00:00, 620.76it/s, val_Accuracy=0.759, val_loss=0.505]\n",
      "<<<<<< val_Accuracy without improvement in 5 epoch, early stopping >>>>>>\n",
      "\n",
      "================================================================================2024-05-15 13:42:52\n",
      "Epoch 1 / 50\n",
      "\n",
      "100%|██████████| 4000/4000 [00:09<00:00, 413.80it/s, train_Accuracy=0.754, train_loss=0.515]\n",
      "100%|██████████| 125/125 [00:00<00:00, 126.57it/s, val_Accuracy=0.756, val_loss=0.507]\n",
      "<<<<<< reach best val_Accuracy : 0.7563437819480896 >>>>>>\n",
      "\n",
      "================================================================================2024-05-15 13:43:03\n",
      "Epoch 2 / 50\n",
      "\n",
      "100%|██████████| 4000/4000 [00:09<00:00, 403.69it/s, train_Accuracy=0.757, train_loss=0.508]\n",
      "100%|██████████| 125/125 [00:00<00:00, 562.19it/s, val_Accuracy=0.757, val_loss=0.506]\n",
      "<<<<<< reach best val_Accuracy : 0.757312536239624 >>>>>>\n",
      "\n",
      "================================================================================2024-05-15 13:43:13\n",
      "Epoch 3 / 50\n",
      "\n",
      "100%|██████████| 4000/4000 [00:09<00:00, 407.96it/s, train_Accuracy=0.757, train_loss=0.506]\n",
      "100%|██████████| 125/125 [00:00<00:00, 673.72it/s, val_Accuracy=0.758, val_loss=0.504]\n",
      "<<<<<< reach best val_Accuracy : 0.7582812905311584 >>>>>>\n",
      "\n",
      "================================================================================2024-05-15 13:43:23\n",
      "Epoch 4 / 50\n",
      "\n",
      "100%|██████████| 4000/4000 [00:09<00:00, 423.36it/s, train_Accuracy=0.758, train_loss=0.505]\n",
      "100%|██████████| 125/125 [00:00<00:00, 561.44it/s, val_Accuracy=0.758, val_loss=0.505]\n",
      "<<<<<< reach best val_Accuracy : 0.7583750486373901 >>>>>>\n",
      "\n",
      "================================================================================2024-05-15 13:43:32\n",
      "Epoch 5 / 50\n",
      "\n",
      "100%|██████████| 4000/4000 [00:10<00:00, 387.60it/s, train_Accuracy=0.759, train_loss=0.505]\n",
      "100%|██████████| 125/125 [00:00<00:00, 635.47it/s, val_Accuracy=0.759, val_loss=0.504]\n",
      "<<<<<< reach best val_Accuracy : 0.7589063048362732 >>>>>>\n",
      "\n",
      "================================================================================2024-05-15 13:43:43\n",
      "Epoch 6 / 50\n",
      "\n",
      "100%|██████████| 4000/4000 [00:09<00:00, 410.21it/s, train_Accuracy=0.758, train_loss=0.505]\n",
      "100%|██████████| 125/125 [00:00<00:00, 591.93it/s, val_Accuracy=0.758, val_loss=0.504]\n",
      "\n",
      "================================================================================2024-05-15 13:43:53\n",
      "Epoch 7 / 50\n",
      "\n",
      "100%|██████████| 4000/4000 [00:10<00:00, 396.17it/s, train_Accuracy=0.758, train_loss=0.505]\n",
      "100%|██████████| 125/125 [00:00<00:00, 594.96it/s, val_Accuracy=0.756, val_loss=0.509]\n",
      "\n",
      "================================================================================2024-05-15 13:44:03\n",
      "Epoch 8 / 50\n",
      "\n",
      "100%|██████████| 4000/4000 [00:09<00:00, 403.17it/s, train_Accuracy=0.758, train_loss=0.505]\n",
      "100%|██████████| 125/125 [00:00<00:00, 565.34it/s, val_Accuracy=0.758, val_loss=0.504]\n",
      "\n",
      "================================================================================2024-05-15 13:44:13\n",
      "Epoch 9 / 50\n",
      "\n",
      "100%|██████████| 4000/4000 [00:10<00:00, 397.01it/s, train_Accuracy=0.758, train_loss=0.505]\n",
      "100%|██████████| 125/125 [00:00<00:00, 567.05it/s, val_Accuracy=0.758, val_loss=0.504]\n",
      "\n",
      "================================================================================2024-05-15 13:44:24\n",
      "Epoch 10 / 50\n",
      "\n",
      "100%|██████████| 4000/4000 [00:09<00:00, 411.28it/s, train_Accuracy=0.758, train_loss=0.505]\n",
      "100%|██████████| 125/125 [00:00<00:00, 630.56it/s, val_Accuracy=0.759, val_loss=0.504]\n",
      "<<<<<< val_Accuracy without improvement in 5 epoch, early stopping >>>>>>\n",
      "\n",
      "================================================================================2024-05-15 13:44:34\n",
      "Epoch 1 / 50\n",
      "\n",
      "100%|██████████| 4000/4000 [00:09<00:00, 408.59it/s, train_Accuracy=0.755, train_loss=0.512]\n",
      "100%|██████████| 125/125 [00:00<00:00, 637.73it/s, val_Accuracy=0.756, val_loss=0.509]\n",
      "<<<<<< reach best val_Accuracy : 0.7563125491142273 >>>>>>\n",
      "\n",
      "================================================================================2024-05-15 13:44:44\n",
      "Epoch 2 / 50\n",
      "\n",
      "100%|██████████| 4000/4000 [00:09<00:00, 413.39it/s, train_Accuracy=0.758, train_loss=0.506]\n",
      "100%|██████████| 125/125 [00:00<00:00, 642.69it/s, val_Accuracy=0.754, val_loss=0.512]\n",
      "\n",
      "================================================================================2024-05-15 13:44:54\n",
      "Epoch 3 / 50\n",
      "\n",
      "100%|██████████| 4000/4000 [00:09<00:00, 424.78it/s, train_Accuracy=0.759, train_loss=0.506]\n",
      "100%|██████████| 125/125 [00:00<00:00, 567.27it/s, val_Accuracy=0.755, val_loss=0.51] \n",
      "\n",
      "================================================================================2024-05-15 13:45:04\n",
      "Epoch 4 / 50\n",
      "\n",
      "100%|██████████| 4000/4000 [00:09<00:00, 412.29it/s, train_Accuracy=0.759, train_loss=0.505]\n",
      "100%|██████████| 125/125 [00:00<00:00, 577.08it/s, val_Accuracy=0.756, val_loss=0.511]\n",
      "\n",
      "================================================================================2024-05-15 13:45:14\n",
      "Epoch 5 / 50\n",
      "\n",
      "100%|██████████| 4000/4000 [00:09<00:00, 411.19it/s, train_Accuracy=0.759, train_loss=0.505]\n",
      "100%|██████████| 125/125 [00:00<00:00, 638.25it/s, val_Accuracy=0.755, val_loss=0.508]\n",
      "\n",
      "================================================================================2024-05-15 13:45:23\n",
      "Epoch 6 / 50\n",
      "\n",
      "100%|██████████| 4000/4000 [00:09<00:00, 403.85it/s, train_Accuracy=0.759, train_loss=0.505]\n",
      "100%|██████████| 125/125 [00:00<00:00, 593.35it/s, val_Accuracy=0.752, val_loss=0.513]\n",
      "<<<<<< val_Accuracy without improvement in 5 epoch, early stopping >>>>>>\n",
      "\n",
      "================================================================================2024-05-15 13:45:34\n",
      "Epoch 1 / 50\n",
      "\n",
      "100%|██████████| 4000/4000 [00:09<00:00, 417.64it/s, train_Accuracy=0.75, train_loss=0.523] \n",
      "100%|██████████| 125/125 [00:00<00:00, 674.93it/s, val_Accuracy=0.756, val_loss=0.509]\n",
      "<<<<<< reach best val_Accuracy : 0.7556875348091125 >>>>>>\n",
      "\n",
      "================================================================================2024-05-15 13:45:44\n",
      "Epoch 2 / 50\n",
      "\n",
      "100%|██████████| 4000/4000 [00:09<00:00, 405.55it/s, train_Accuracy=0.758, train_loss=0.507]\n",
      "100%|██████████| 125/125 [00:00<00:00, 604.94it/s, val_Accuracy=0.757, val_loss=0.505]\n",
      "<<<<<< reach best val_Accuracy : 0.75718754529953 >>>>>>\n",
      "\n",
      "================================================================================2024-05-15 13:45:54\n",
      "Epoch 3 / 50\n",
      "\n",
      "100%|██████████| 4000/4000 [00:09<00:00, 421.05it/s, train_Accuracy=0.759, train_loss=0.505]\n",
      "100%|██████████| 125/125 [00:00<00:00, 591.71it/s, val_Accuracy=0.757, val_loss=0.506]\n",
      "\n",
      "================================================================================2024-05-15 13:46:04\n",
      "Epoch 4 / 50\n",
      "\n",
      "100%|██████████| 4000/4000 [00:09<00:00, 412.23it/s, train_Accuracy=0.759, train_loss=0.505]\n",
      "100%|██████████| 125/125 [00:00<00:00, 604.33it/s, val_Accuracy=0.756, val_loss=0.508]\n",
      "\n",
      "================================================================================2024-05-15 13:46:14\n",
      "Epoch 5 / 50\n",
      "\n",
      "100%|██████████| 4000/4000 [00:09<00:00, 412.10it/s, train_Accuracy=0.759, train_loss=0.505]\n",
      "100%|██████████| 125/125 [00:00<00:00, 684.52it/s, val_Accuracy=0.758, val_loss=0.505]\n",
      "<<<<<< reach best val_Accuracy : 0.7578750252723694 >>>>>>\n",
      "\n",
      "================================================================================2024-05-15 13:46:23\n",
      "Epoch 6 / 50\n",
      "\n",
      "100%|██████████| 4000/4000 [00:09<00:00, 414.92it/s, train_Accuracy=0.759, train_loss=0.505]\n",
      "100%|██████████| 125/125 [00:00<00:00, 571.81it/s, val_Accuracy=0.757, val_loss=0.506]\n",
      "\n",
      "================================================================================2024-05-15 13:46:33\n",
      "Epoch 7 / 50\n",
      "\n",
      "100%|██████████| 4000/4000 [00:09<00:00, 405.48it/s, train_Accuracy=0.759, train_loss=0.505]\n",
      "100%|██████████| 125/125 [00:00<00:00, 556.14it/s, val_Accuracy=0.757, val_loss=0.504]\n",
      "\n",
      "================================================================================2024-05-15 13:46:43\n",
      "Epoch 8 / 50\n",
      "\n",
      "100%|██████████| 4000/4000 [00:09<00:00, 412.58it/s, train_Accuracy=0.759, train_loss=0.505]\n",
      "100%|██████████| 125/125 [00:00<00:00, 565.96it/s, val_Accuracy=0.758, val_loss=0.504]\n",
      "<<<<<< reach best val_Accuracy : 0.7581250071525574 >>>>>>\n",
      "\n",
      "================================================================================2024-05-15 13:46:53\n",
      "Epoch 9 / 50\n",
      "\n",
      "100%|██████████| 4000/4000 [00:09<00:00, 409.28it/s, train_Accuracy=0.759, train_loss=0.504]\n",
      "100%|██████████| 125/125 [00:00<00:00, 600.76it/s, val_Accuracy=0.758, val_loss=0.503]\n",
      "\n",
      "================================================================================2024-05-15 13:47:03\n",
      "Epoch 10 / 50\n",
      "\n",
      "100%|██████████| 4000/4000 [00:10<00:00, 397.80it/s, train_Accuracy=0.759, train_loss=0.504]\n",
      "100%|██████████| 125/125 [00:00<00:00, 655.11it/s, val_Accuracy=0.757, val_loss=0.504]\n",
      "\n",
      "================================================================================2024-05-15 13:47:14\n",
      "Epoch 11 / 50\n",
      "\n",
      "100%|██████████| 4000/4000 [00:09<00:00, 403.65it/s, train_Accuracy=0.759, train_loss=0.504]\n",
      "100%|██████████| 125/125 [00:00<00:00, 617.17it/s, val_Accuracy=0.758, val_loss=0.504]\n",
      "\n",
      "================================================================================2024-05-15 13:47:24\n",
      "Epoch 12 / 50\n",
      "\n",
      "100%|██████████| 4000/4000 [00:10<00:00, 391.84it/s, train_Accuracy=0.759, train_loss=0.504]\n",
      "100%|██████████| 125/125 [00:00<00:00, 559.61it/s, val_Accuracy=0.756, val_loss=0.507]\n",
      "\n",
      "================================================================================2024-05-15 13:47:34\n",
      "Epoch 13 / 50\n",
      "\n",
      "100%|██████████| 4000/4000 [00:09<00:00, 410.61it/s, train_Accuracy=0.759, train_loss=0.504]\n",
      "100%|██████████| 125/125 [00:00<00:00, 596.67it/s, val_Accuracy=0.757, val_loss=0.505]\n",
      "<<<<<< val_Accuracy without improvement in 5 epoch, early stopping >>>>>>\n",
      "\n",
      "================================================================================2024-05-15 13:47:45\n",
      "Epoch 1 / 50\n",
      "\n",
      "100%|██████████| 4000/4000 [00:09<00:00, 414.03it/s, train_Accuracy=0.753, train_loss=0.515]\n",
      "100%|██████████| 125/125 [00:00<00:00, 642.56it/s, val_Accuracy=0.761, val_loss=0.503]\n",
      "<<<<<< reach best val_Accuracy : 0.7611562609672546 >>>>>>\n",
      "\n",
      "================================================================================2024-05-15 13:47:54\n",
      "Epoch 2 / 50\n",
      "\n",
      "100%|██████████| 4000/4000 [00:09<00:00, 408.57it/s, train_Accuracy=0.756, train_loss=0.509]\n",
      "100%|██████████| 125/125 [00:00<00:00, 563.71it/s, val_Accuracy=0.761, val_loss=0.504]\n",
      "\n",
      "================================================================================2024-05-15 13:48:04\n",
      "Epoch 3 / 50\n",
      "\n",
      "100%|██████████| 4000/4000 [00:09<00:00, 408.55it/s, train_Accuracy=0.757, train_loss=0.508]\n",
      "100%|██████████| 125/125 [00:00<00:00, 588.20it/s, val_Accuracy=0.76, val_loss=0.503] \n",
      "\n",
      "================================================================================2024-05-15 13:48:14\n",
      "Epoch 4 / 50\n",
      "\n",
      "100%|██████████| 4000/4000 [00:10<00:00, 399.74it/s, train_Accuracy=0.757, train_loss=0.507]\n",
      "100%|██████████| 125/125 [00:00<00:00, 569.09it/s, val_Accuracy=0.76, val_loss=0.505] \n",
      "\n",
      "================================================================================2024-05-15 13:48:25\n",
      "Epoch 5 / 50\n",
      "\n",
      "100%|██████████| 4000/4000 [00:09<00:00, 401.18it/s, train_Accuracy=0.756, train_loss=0.507]\n",
      "100%|██████████| 125/125 [00:00<00:00, 564.25it/s, val_Accuracy=0.76, val_loss=0.502] \n",
      "\n",
      "================================================================================2024-05-15 13:48:35\n",
      "Epoch 6 / 50\n",
      "\n",
      "100%|██████████| 4000/4000 [00:09<00:00, 401.25it/s, train_Accuracy=0.757, train_loss=0.507]\n",
      "100%|██████████| 125/125 [00:00<00:00, 558.26it/s, val_Accuracy=0.755, val_loss=0.508]\n",
      "<<<<<< val_Accuracy without improvement in 5 epoch, early stopping >>>>>>\n",
      "\n",
      "================================================================================2024-05-15 13:48:46\n",
      "Epoch 1 / 50\n",
      "\n",
      "100%|██████████| 4000/4000 [00:10<00:00, 388.48it/s, train_Accuracy=0.751, train_loss=0.516]\n",
      "100%|██████████| 125/125 [00:00<00:00, 627.08it/s, val_Accuracy=0.752, val_loss=0.51]\n",
      "<<<<<< reach best val_Accuracy : 0.7524687647819519 >>>>>>\n",
      "\n",
      "================================================================================2024-05-15 13:48:56\n",
      "Epoch 2 / 50\n",
      "\n",
      "100%|██████████| 4000/4000 [00:10<00:00, 397.98it/s, train_Accuracy=0.757, train_loss=0.506]\n",
      "100%|██████████| 125/125 [00:00<00:00, 605.17it/s, val_Accuracy=0.755, val_loss=0.508]\n",
      "<<<<<< reach best val_Accuracy : 0.7546875476837158 >>>>>>\n",
      "\n",
      "================================================================================2024-05-15 13:49:06\n",
      "Epoch 3 / 50\n",
      "\n",
      "100%|██████████| 4000/4000 [00:09<00:00, 403.98it/s, train_Accuracy=0.758, train_loss=0.506]\n",
      "100%|██████████| 125/125 [00:00<00:00, 558.89it/s, val_Accuracy=0.754, val_loss=0.507]\n",
      "\n",
      "================================================================================2024-05-15 13:49:17\n",
      "Epoch 4 / 50\n",
      "\n",
      "100%|██████████| 4000/4000 [00:09<00:00, 402.79it/s, train_Accuracy=0.758, train_loss=0.505]\n",
      "100%|██████████| 125/125 [00:00<00:00, 615.60it/s, val_Accuracy=0.754, val_loss=0.508]\n",
      "\n",
      "================================================================================2024-05-15 13:49:27\n",
      "Epoch 5 / 50\n",
      "\n",
      "100%|██████████| 4000/4000 [00:10<00:00, 399.08it/s, train_Accuracy=0.758, train_loss=0.505]\n",
      "100%|██████████| 125/125 [00:00<00:00, 605.44it/s, val_Accuracy=0.755, val_loss=0.508]\n",
      "<<<<<< reach best val_Accuracy : 0.7551250457763672 >>>>>>\n",
      "\n",
      "================================================================================2024-05-15 13:49:37\n",
      "Epoch 6 / 50\n",
      "\n",
      "100%|██████████| 4000/4000 [00:09<00:00, 411.70it/s, train_Accuracy=0.758, train_loss=0.505]\n",
      "100%|██████████| 125/125 [00:00<00:00, 656.31it/s, val_Accuracy=0.754, val_loss=0.508]\n",
      "\n",
      "================================================================================2024-05-15 13:49:47\n",
      "Epoch 7 / 50\n",
      "\n",
      "100%|██████████| 4000/4000 [00:09<00:00, 414.22it/s, train_Accuracy=0.759, train_loss=0.505]\n",
      "100%|██████████| 125/125 [00:00<00:00, 630.30it/s, val_Accuracy=0.753, val_loss=0.509]\n",
      "\n",
      "================================================================================2024-05-15 13:49:57\n",
      "Epoch 8 / 50\n",
      "\n",
      "100%|██████████| 4000/4000 [00:09<00:00, 413.81it/s, train_Accuracy=0.759, train_loss=0.505]\n",
      "100%|██████████| 125/125 [00:00<00:00, 631.27it/s, val_Accuracy=0.754, val_loss=0.507]\n",
      "\n",
      "================================================================================2024-05-15 13:50:07\n",
      "Epoch 9 / 50\n",
      "\n",
      "100%|██████████| 4000/4000 [00:09<00:00, 401.19it/s, train_Accuracy=0.759, train_loss=0.505]\n",
      "100%|██████████| 125/125 [00:00<00:00, 675.88it/s, val_Accuracy=0.755, val_loss=0.508]\n",
      "\n",
      "================================================================================2024-05-15 13:50:17\n",
      "Epoch 10 / 50\n",
      "\n",
      "100%|██████████| 4000/4000 [00:10<00:00, 396.04it/s, train_Accuracy=0.759, train_loss=0.504]\n",
      "100%|██████████| 125/125 [00:00<00:00, 619.19it/s, val_Accuracy=0.752, val_loss=0.511]\n",
      "<<<<<< val_Accuracy without improvement in 5 epoch, early stopping >>>>>>\n",
      "\n",
      "================================================================================2024-05-15 13:50:28\n",
      "Epoch 1 / 50\n",
      "\n",
      "100%|██████████| 4000/4000 [00:09<00:00, 400.25it/s, train_Accuracy=0.748, train_loss=0.519]\n",
      "100%|██████████| 125/125 [00:00<00:00, 653.72it/s, val_Accuracy=0.754, val_loss=0.51]\n",
      "<<<<<< reach best val_Accuracy : 0.7541562914848328 >>>>>>\n",
      "\n",
      "================================================================================2024-05-15 13:50:38\n",
      "Epoch 2 / 50\n",
      "\n",
      "100%|██████████| 4000/4000 [00:09<00:00, 402.06it/s, train_Accuracy=0.76, train_loss=0.505] \n",
      "100%|██████████| 125/125 [00:00<00:00, 550.24it/s, val_Accuracy=0.754, val_loss=0.51] \n",
      "\n",
      "================================================================================2024-05-15 13:50:48\n",
      "Epoch 3 / 50\n",
      "\n",
      "100%|██████████| 4000/4000 [00:09<00:00, 405.84it/s, train_Accuracy=0.759, train_loss=0.505]\n",
      "100%|██████████| 125/125 [00:00<00:00, 705.10it/s, val_Accuracy=0.754, val_loss=0.51]\n",
      "<<<<<< reach best val_Accuracy : 0.7543438076972961 >>>>>>\n",
      "\n",
      "================================================================================2024-05-15 13:50:58\n",
      "Epoch 4 / 50\n",
      "\n",
      "100%|██████████| 4000/4000 [00:09<00:00, 405.71it/s, train_Accuracy=0.759, train_loss=0.504]\n",
      "100%|██████████| 125/125 [00:00<00:00, 638.15it/s, val_Accuracy=0.753, val_loss=0.511]\n",
      "\n",
      "================================================================================2024-05-15 13:51:08\n",
      "Epoch 5 / 50\n",
      "\n",
      "100%|██████████| 4000/4000 [00:09<00:00, 400.45it/s, train_Accuracy=0.76, train_loss=0.504] \n",
      "100%|██████████| 125/125 [00:00<00:00, 651.85it/s, val_Accuracy=0.755, val_loss=0.51]\n",
      "<<<<<< reach best val_Accuracy : 0.7549062967300415 >>>>>>\n",
      "\n",
      "================================================================================2024-05-15 13:51:18\n",
      "Epoch 6 / 50\n",
      "\n",
      "100%|██████████| 4000/4000 [00:10<00:00, 398.77it/s, train_Accuracy=0.76, train_loss=0.504] \n",
      "100%|██████████| 125/125 [00:00<00:00, 589.92it/s, val_Accuracy=0.755, val_loss=0.509]\n",
      "\n",
      "================================================================================2024-05-15 13:51:28\n",
      "Epoch 7 / 50\n",
      "\n",
      "100%|██████████| 4000/4000 [00:09<00:00, 417.56it/s, train_Accuracy=0.76, train_loss=0.504] \n",
      "100%|██████████| 125/125 [00:00<00:00, 604.16it/s, val_Accuracy=0.754, val_loss=0.51] \n",
      "\n",
      "================================================================================2024-05-15 13:51:38\n",
      "Epoch 8 / 50\n",
      "\n",
      "100%|██████████| 4000/4000 [00:09<00:00, 416.47it/s, train_Accuracy=0.76, train_loss=0.503] \n",
      "100%|██████████| 125/125 [00:00<00:00, 596.02it/s, val_Accuracy=0.754, val_loss=0.51] \n",
      "\n",
      "================================================================================2024-05-15 13:51:48\n",
      "Epoch 9 / 50\n",
      "\n",
      "100%|██████████| 4000/4000 [00:09<00:00, 402.63it/s, train_Accuracy=0.76, train_loss=0.503] \n",
      "100%|██████████| 125/125 [00:00<00:00, 557.67it/s, val_Accuracy=0.754, val_loss=0.509]\n",
      "\n",
      "================================================================================2024-05-15 13:51:58\n",
      "Epoch 10 / 50\n",
      "\n",
      "100%|██████████| 4000/4000 [00:10<00:00, 397.91it/s, train_Accuracy=0.76, train_loss=0.503] \n",
      "100%|██████████| 125/125 [00:00<00:00, 672.17it/s, val_Accuracy=0.754, val_loss=0.509]\n",
      "<<<<<< val_Accuracy without improvement in 5 epoch, early stopping >>>>>>\n",
      "\n",
      "================================================================================2024-05-15 13:52:09\n",
      "Epoch 1 / 50\n",
      "\n",
      "100%|██████████| 4000/4000 [00:09<00:00, 407.46it/s, train_Accuracy=0.747, train_loss=0.514]\n",
      "100%|██████████| 125/125 [00:00<00:00, 655.38it/s, val_Accuracy=0.758, val_loss=0.505]\n",
      "<<<<<< reach best val_Accuracy : 0.7581875324249268 >>>>>>\n",
      "\n",
      "================================================================================2024-05-15 13:52:19\n",
      "Epoch 2 / 50\n",
      "\n",
      "100%|██████████| 4000/4000 [00:09<00:00, 400.55it/s, train_Accuracy=0.758, train_loss=0.507]\n",
      "100%|██████████| 125/125 [00:00<00:00, 554.14it/s, val_Accuracy=0.757, val_loss=0.508]\n",
      "\n",
      "================================================================================2024-05-15 13:52:29\n",
      "Epoch 3 / 50\n",
      "\n",
      "100%|██████████| 4000/4000 [00:09<00:00, 400.83it/s, train_Accuracy=0.758, train_loss=0.506]\n",
      "100%|██████████| 125/125 [00:00<00:00, 575.31it/s, val_Accuracy=0.758, val_loss=0.505]\n",
      "\n",
      "================================================================================2024-05-15 13:52:39\n",
      "Epoch 4 / 50\n",
      "\n",
      "100%|██████████| 4000/4000 [00:09<00:00, 400.26it/s, train_Accuracy=0.758, train_loss=0.506]\n",
      "100%|██████████| 125/125 [00:00<00:00, 632.90it/s, val_Accuracy=0.759, val_loss=0.503]\n",
      "<<<<<< reach best val_Accuracy : 0.7590000629425049 >>>>>>\n",
      "\n",
      "================================================================================2024-05-15 13:52:50\n",
      "Epoch 5 / 50\n",
      "\n",
      "100%|██████████| 4000/4000 [00:10<00:00, 396.45it/s, train_Accuracy=0.758, train_loss=0.506]\n",
      "100%|██████████| 125/125 [00:00<00:00, 618.94it/s, val_Accuracy=0.759, val_loss=0.503]\n",
      "\n",
      "================================================================================2024-05-15 13:53:00\n",
      "Epoch 6 / 50\n",
      "\n",
      "100%|██████████| 4000/4000 [00:10<00:00, 399.97it/s, train_Accuracy=0.758, train_loss=0.505]\n",
      "100%|██████████| 125/125 [00:00<00:00, 581.40it/s, val_Accuracy=0.758, val_loss=0.504]\n",
      "\n",
      "================================================================================2024-05-15 13:53:10\n",
      "Epoch 7 / 50\n",
      "\n",
      "100%|██████████| 4000/4000 [00:10<00:00, 398.04it/s, train_Accuracy=0.759, train_loss=0.505]\n",
      "100%|██████████| 125/125 [00:00<00:00, 694.85it/s, val_Accuracy=0.759, val_loss=0.502]\n",
      "\n",
      "================================================================================2024-05-15 13:53:20\n",
      "Epoch 8 / 50\n",
      "\n",
      "100%|██████████| 4000/4000 [00:09<00:00, 400.66it/s, train_Accuracy=0.758, train_loss=0.505]\n",
      "100%|██████████| 125/125 [00:00<00:00, 622.10it/s, val_Accuracy=0.759, val_loss=0.503]\n",
      "\n",
      "================================================================================2024-05-15 13:53:30\n",
      "Epoch 9 / 50\n",
      "\n",
      "100%|██████████| 4000/4000 [00:09<00:00, 403.28it/s, train_Accuracy=0.759, train_loss=0.505]\n",
      "100%|██████████| 125/125 [00:00<00:00, 649.55it/s, val_Accuracy=0.759, val_loss=0.503]\n",
      "<<<<<< val_Accuracy without improvement in 5 epoch, early stopping >>>>>>\n",
      "\n",
      "================================================================================2024-05-15 13:53:41\n",
      "Epoch 1 / 50\n",
      "\n",
      "100%|██████████| 4000/4000 [00:09<00:00, 403.17it/s, train_Accuracy=0.752, train_loss=0.513]\n",
      "100%|██████████| 125/125 [00:00<00:00, 569.20it/s, val_Accuracy=0.758, val_loss=0.506]\n",
      "<<<<<< reach best val_Accuracy : 0.7579062581062317 >>>>>>\n",
      "\n",
      "================================================================================2024-05-15 13:53:51\n",
      "Epoch 2 / 50\n",
      "\n",
      "100%|██████████| 4000/4000 [00:10<00:00, 390.51it/s, train_Accuracy=0.756, train_loss=0.506]\n",
      "100%|██████████| 125/125 [00:00<00:00, 590.93it/s, val_Accuracy=0.759, val_loss=0.505]\n",
      "<<<<<< reach best val_Accuracy : 0.7585937976837158 >>>>>>\n",
      "\n",
      "================================================================================2024-05-15 13:54:02\n",
      "Epoch 3 / 50\n",
      "\n",
      "100%|██████████| 4000/4000 [00:09<00:00, 405.77it/s, train_Accuracy=0.757, train_loss=0.506]\n",
      "100%|██████████| 125/125 [00:00<00:00, 596.06it/s, val_Accuracy=0.759, val_loss=0.505]\n",
      "<<<<<< reach best val_Accuracy : 0.7590937614440918 >>>>>>\n",
      "\n",
      "================================================================================2024-05-15 13:54:12\n",
      "Epoch 4 / 50\n",
      "\n",
      "100%|██████████| 4000/4000 [00:09<00:00, 412.77it/s, train_Accuracy=0.757, train_loss=0.506]\n",
      "100%|██████████| 125/125 [00:01<00:00, 123.43it/s, val_Accuracy=0.759, val_loss=0.505]\n",
      "\n",
      "================================================================================2024-05-15 13:54:22\n",
      "Epoch 5 / 50\n",
      "\n",
      "100%|██████████| 4000/4000 [00:09<00:00, 419.53it/s, train_Accuracy=0.757, train_loss=0.505]\n",
      "100%|██████████| 125/125 [00:00<00:00, 583.93it/s, val_Accuracy=0.755, val_loss=0.509]\n",
      "\n",
      "================================================================================2024-05-15 13:54:32\n",
      "Epoch 6 / 50\n",
      "\n",
      "100%|██████████| 4000/4000 [00:09<00:00, 409.37it/s, train_Accuracy=0.757, train_loss=0.505]\n",
      "100%|██████████| 125/125 [00:00<00:00, 581.27it/s, val_Accuracy=0.759, val_loss=0.505]\n",
      "<<<<<< reach best val_Accuracy : 0.7591250538825989 >>>>>>\n",
      "\n",
      "================================================================================2024-05-15 13:54:42\n",
      "Epoch 7 / 50\n",
      "\n",
      "100%|██████████| 4000/4000 [00:09<00:00, 409.48it/s, train_Accuracy=0.757, train_loss=0.505]\n",
      "100%|██████████| 125/125 [00:00<00:00, 599.85it/s, val_Accuracy=0.759, val_loss=0.504]\n",
      "<<<<<< reach best val_Accuracy : 0.7594687938690186 >>>>>>\n",
      "\n",
      "================================================================================2024-05-15 13:54:52\n",
      "Epoch 8 / 50\n",
      "\n",
      "100%|██████████| 4000/4000 [00:09<00:00, 401.27it/s, train_Accuracy=0.757, train_loss=0.505]\n",
      "100%|██████████| 125/125 [00:00<00:00, 590.79it/s, val_Accuracy=0.759, val_loss=0.504]\n",
      "\n",
      "================================================================================2024-05-15 13:55:02\n",
      "Epoch 9 / 50\n",
      "\n",
      "100%|██████████| 4000/4000 [00:09<00:00, 403.46it/s, train_Accuracy=0.757, train_loss=0.505]\n",
      "100%|██████████| 125/125 [00:00<00:00, 671.13it/s, val_Accuracy=0.759, val_loss=0.505]\n",
      "\n",
      "================================================================================2024-05-15 13:55:12\n",
      "Epoch 10 / 50\n",
      "\n",
      "100%|██████████| 4000/4000 [00:10<00:00, 391.86it/s, train_Accuracy=0.757, train_loss=0.505]\n",
      "100%|██████████| 125/125 [00:00<00:00, 562.29it/s, val_Accuracy=0.759, val_loss=0.506]\n",
      "\n",
      "================================================================================2024-05-15 13:55:23\n",
      "Epoch 11 / 50\n",
      "\n",
      "100%|██████████| 4000/4000 [00:09<00:00, 403.86it/s, train_Accuracy=0.758, train_loss=0.505]\n",
      "100%|██████████| 125/125 [00:00<00:00, 669.82it/s, val_Accuracy=0.759, val_loss=0.505]\n",
      "\n",
      "================================================================================2024-05-15 13:55:33\n",
      "Epoch 12 / 50\n",
      "\n",
      "100%|██████████| 4000/4000 [00:10<00:00, 398.77it/s, train_Accuracy=0.757, train_loss=0.505]\n",
      "100%|██████████| 125/125 [00:00<00:00, 612.82it/s, val_Accuracy=0.758, val_loss=0.506]\n",
      "<<<<<< val_Accuracy without improvement in 5 epoch, early stopping >>>>>>\n",
      "sig_lambda: 0.7 estimated lambda mean: 0.683867879035141 estimated lambda std: 0.008804164343403439\n"
     ]
    }
   ],
   "source": [
    "sig_lambda = 0.7\n",
    "n_bootstrap = 10\n",
    "\n",
    "\n",
    "test_ratio=0.2\n",
    "val_ratio = 0.2\n",
    "n = 100000\n",
    "estimated_lambdas = np.zeros(n_bootstrap)\n",
    "\n",
    "for j in range(n_bootstrap):\n",
    "    exp_events, bkg_events = create_exp_bkg_events(bkg_embed_points, charged_Higgs_embed_points, sig_lambda, n)\n",
    "    X1, X2, W1, W2 = train_test_split(exp_events, bkg_events, test_ratio)\n",
    "    n1 = len(W1)\n",
    "    m1 = len(X1)\n",
    "    n2 = len(W2)\n",
    "    m2 = len(X2)\n",
    "    train_dataloader, val_dataloader = get_dataloaders(X1, W1, val_ratio)\n",
    "\n",
    "    hidden_dim = [8, 16, 16, 16, 8]\n",
    "    naive_model = MLP(output_dim, hidden_sizes=hidden_dim)\n",
    "    naive_model.to(device)\n",
    "    optimizer = torch.optim.Adam(naive_model.parameters(), lr=1e-3, weight_decay=1e-5)\n",
    "    loss_fn = nn.BCELoss()\n",
    "    acc_metric = BinaryACCUpdater()\n",
    "    metric_dict = {\"Accuracy\": acc_metric}\n",
    "\n",
    "    opt_train_model(\n",
    "        naive_model, optimizer,\n",
    "        loss_fn, metrics_dict=metric_dict,\n",
    "        train_dataloader=train_dataloader, val_dataloader=val_dataloader,\n",
    "        monitor=\"val_Accuracy\", mode=\"max\",\n",
    "        epochs=50\n",
    "        )\n",
    "\n",
    "    lambda_estimator = LambdaEstimator(X2, W2, naive_model, T=0.5, n_bins=20)\n",
    "    estimated_lambdas[j] = lambda_estimator.estimated_lambda\n",
    "print(\"sig_lambda:\", sig_lambda, \"estimated lambda mean:\", estimated_lambdas.mean(), \"estimated lambda std:\", estimated_lambdas.std())\n",
    "lambda_mean_dict[str(sig_lambda)] = estimated_lambdas.mean()\n",
    "lambda_std_dict[str(sig_lambda)] = estimated_lambdas.std(ddof = 1)\n"
   ]
  },
  {
   "cell_type": "code",
   "execution_count": 55,
   "metadata": {},
   "outputs": [
    {
     "name": "stdout",
     "output_type": "stream",
     "text": [
      "[0.67767463 0.6854761  0.7041745  0.67219736 0.67686253 0.69136277\n",
      " 0.68783416 0.68433273 0.67590432 0.68285969]\n",
      "{'0.2': 0.21395800234544088, '0.1': 0.12334302431550137, '0.01': 0.0389904562468628, '0.3': 0.3075356981517861, '0.5': 0.5018241489125538, '0.05': 0.06839376291379526, '0.7': 0.683867879035141}\n",
      "{'0.2': 0.01735698151131395, '0.1': 0.02653298099017536, '0.01': 0.031091590720282773, '0.3': 0.01873010738310009, '0.5': 0.01977075955557156, '0.05': 0.023983858541157095, '0.7': 0.009280404073198568}\n"
     ]
    }
   ],
   "source": [
    "print(estimated_lambdas)\n",
    "print(lambda_mean_dict)\n",
    "print(lambda_std_dict)"
   ]
  },
  {
   "cell_type": "code",
   "execution_count": 73,
   "metadata": {},
   "outputs": [],
   "source": [
    "def plot_lambda(lambda_mean_dict, lambda_std_dict):\n",
    "    x = np.array([float(key) for key in lambda_mean_dict.keys()])\n",
    "    y = np.array([lambda_mean_dict[key] for key in lambda_mean_dict.keys()])\n",
    "    yerr = np.array([lambda_std_dict[key] for key in lambda_std_dict.keys()])\n",
    "    plt.errorbar(x, y, yerr=yerr, fmt='o', color='black', ecolor='lightgray', elinewidth=3)\n",
    "    true_x = np.linspace(0, np.max(x), 10)\n",
    "    plt.plot(true_x, true_x, '--')\n",
    "    plt.xlabel(\"True Lambda\")\n",
    "    plt.ylabel(\"Estimated Lambda\")\n",
    "    plt.title(\"Estimated Lambda vs True Lambda\")\n",
    "    plt.show()"
   ]
  },
  {
   "cell_type": "code",
   "execution_count": 74,
   "metadata": {},
   "outputs": [
    {
     "data": {
      "image/png": "[encoded data removed]",
      "text/plain": [
       "<Figure size 640x480 with 1 Axes>"
      ]
     },
     "metadata": {},
     "output_type": "display_data"
    }
   ],
   "source": [
    "plot_lambda(lambda_mean_dict, lambda_std_dict)"
   ]
  },
  {
   "cell_type": "code",
   "execution_count": null,
   "metadata": {},
   "outputs": [],
   "source": []
  }
 ],
 "metadata": {
  "kernelspec": {
   "display_name": "ad",
   "language": "python",
   "name": "python3"
  },
  "language_info": {
   "codemirror_mode": {
    "name": "ipython",
    "version": 3
   },
   "file_extension": ".py",
   "mimetype": "text/x-python",
   "name": "python",
   "nbconvert_exporter": "python",
   "pygments_lexer": "ipython3",
   "version": "3.11.8"
  }
 },
 "nbformat": 4,
 "nbformat_minor": 2
}
