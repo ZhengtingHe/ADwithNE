{
 "cells": [
  {
   "cell_type": "code",
   "execution_count": 1,
   "metadata": {},
   "outputs": [],
   "source": [
    "import torch\n",
    "from torch import nn\n",
    "import numpy as np\n",
    "import sys\n",
    "import os\n",
    "import pandas as pd\n",
    "from torch.utils.data import Dataset, DataLoader\n",
    "from tqdm import tqdm\n",
    "import importlib\n",
    "\n",
    "sys.path.append(\"..\")\n",
    "from model import ParticleEventTransformer\n",
    "from data import get_database_path, get_h5_files, read_h5_file, select_events\n",
    "from utils import load_toml_config\n",
    "\n",
    "import matplotlib.pyplot as plt\n",
    "\n",
    "\n",
    "device = \"cuda\" if torch.cuda.is_available() else \"mps\" if sys.platform == \"darwin\" else \"cpu\"\n"
   ]
  },
  {
   "cell_type": "code",
   "execution_count": 2,
   "metadata": {},
   "outputs": [],
   "source": [
    "EMD_config = load_toml_config(\"EMD\")\n",
    "particle_type_scale = EMD_config['particle_type_scale']"
   ]
  },
  {
   "cell_type": "markdown",
   "metadata": {},
   "source": [
    "# Load raw events"
   ]
  },
  {
   "cell_type": "code",
   "execution_count": 3,
   "metadata": {},
   "outputs": [
    {
     "name": "stdout",
     "output_type": "stream",
     "text": [
      "SM (13451915, 19, 4)\n",
      "neutral_boson (55969, 19, 4)\n",
      "leptoquark (340544, 19, 4)\n",
      "neutral_Higgs (691283, 19, 4)\n",
      "charged_Higgs (760272, 19, 4)\n"
     ]
    }
   ],
   "source": [
    "files = load_toml_config(\"file\")\n",
    "database_path = get_database_path()\n",
    "bkg_files, sig_files = get_h5_files()\n",
    "\n",
    "# bkg = read_h5_file(database_path, files[\"SM\"])\n",
    "# # SM processes\n",
    "\n",
    "# neutral_boson = read_h5_file(database_path, files[\"neutral_boson\"])\n",
    "# print(neutral_boson.shape)\n",
    "# # A neutral scalar boson (A) with mass 50 GeV, decaying to two off-shell Z bosons, each forced to decay to two leptons: A → 4l\n",
    "\n",
    "# leptoquark = read_h5_file(database_path, files[\"leptoquark\"])\n",
    "# print(leptoquark.shape)\n",
    "# # A leptoquark (LQ) with mass 80 GeV, decaying to a b quark and a τ lepton24\n",
    "\n",
    "# neutral_Higgs = read_h5_file(database_path, files[\"neutral_Higgs\"])\n",
    "# print(neutral_Higgs.shape)\n",
    "# # A scalar boson with mass 60 GeV, decaying to two tau leptons: h0→ ττ\n",
    "\n",
    "# charged_Higgs = read_h5_file(database_path, files[\"charged_Higgs\"])\n",
    "# print(charged_Higgs.shape)\n",
    "# # A charged scalar boson with mass 60 GeV, decaying to a tau lepton and a neutrino\n",
    "\n",
    "events = {}\n",
    "for key, value in files.items():\n",
    "    events[key] = read_h5_file(database_path, value)\n",
    "    print(key, events[key].shape)"
   ]
  },
  {
   "cell_type": "code",
   "execution_count": 4,
   "metadata": {},
   "outputs": [
    {
     "name": "stdout",
     "output_type": "stream",
     "text": [
      "['neutral_boson', 'leptoquark', 'neutral_Higgs', 'charged_Higgs']\n"
     ]
    }
   ],
   "source": [
    "signals = [key for key in events.keys() if key != \"SM\"]\n",
    "print(signals)"
   ]
  },
  {
   "cell_type": "markdown",
   "metadata": {},
   "source": [
    "# Load embedding model"
   ]
  },
  {
   "cell_type": "code",
   "execution_count": 5,
   "metadata": {},
   "outputs": [
    {
     "name": "stdout",
     "output_type": "stream",
     "text": [
      "{'feature_size': 3, 'embed_size': 16, 'num_heads': 8, 'num_layers': 4, 'hidden_dim': 256, 'output_dim': 8}\n"
     ]
    },
    {
     "name": "stderr",
     "output_type": "stream",
     "text": [
      "/home/desmondhe/anaconda3/envs/ad/lib/python3.11/site-packages/torch/nn/modules/transformer.py:286: UserWarning: enable_nested_tensor is True, but self.use_nested_tensor is False because encoder_layer.self_attn.batch_first was not True(use batch_first for better inference performance)\n",
      "  warnings.warn(f\"enable_nested_tensor is True, but self.use_nested_tensor is False because {why_not_sparsity_fast_path}\")\n"
     ]
    }
   ],
   "source": [
    "model_hyper_parameters = load_toml_config(\"Transformer\")\n",
    "print(model_hyper_parameters)\n",
    "feature_size = model_hyper_parameters[\"feature_size\"]\n",
    "embed_size = model_hyper_parameters[\"embed_size\"]\n",
    "num_heads = model_hyper_parameters[\"num_heads\"]\n",
    "num_layers = model_hyper_parameters[\"num_layers\"]\n",
    "hidden_dim = model_hyper_parameters[\"hidden_dim\"]\n",
    "output_dim = model_hyper_parameters[\"output_dim\"]\n",
    "\n",
    "embedding_model = ParticleEventTransformer(feature_size, embed_size, num_heads, hidden_dim, output_dim, num_layers)"
   ]
  },
  {
   "cell_type": "markdown",
   "metadata": {},
   "source": [
    "# Embed events"
   ]
  },
  {
   "cell_type": "code",
   "execution_count": 6,
   "metadata": {},
   "outputs": [],
   "source": [
    "from analysis import inference"
   ]
  },
  {
   "cell_type": "code",
   "execution_count": 7,
   "metadata": {},
   "outputs": [],
   "source": [
    "from data import EventDataset"
   ]
  },
  {
   "cell_type": "code",
   "execution_count": 8,
   "metadata": {},
   "outputs": [],
   "source": [
    "infer_test_num = 1000000\n",
    "dataloaders = {}\n",
    "for key, value in events.items():\n",
    "    dataloaders[key] = DataLoader(EventDataset(value[:infer_test_num]), batch_size=256, num_workers=16, prefetch_factor=5)"
   ]
  },
  {
   "cell_type": "code",
   "execution_count": 9,
   "metadata": {},
   "outputs": [
    {
     "name": "stderr",
     "output_type": "stream",
     "text": [
      "100%|██████████| 3907/3907 [00:08<00:00, 442.13it/s]\n"
     ]
    },
    {
     "name": "stdout",
     "output_type": "stream",
     "text": [
      "SM (1000000, 8)\n"
     ]
    },
    {
     "name": "stderr",
     "output_type": "stream",
     "text": [
      "100%|██████████| 219/219 [00:01<00:00, 201.68it/s]\n"
     ]
    },
    {
     "name": "stdout",
     "output_type": "stream",
     "text": [
      "neutral_boson (55969, 8)\n"
     ]
    },
    {
     "name": "stderr",
     "output_type": "stream",
     "text": [
      "100%|██████████| 1331/1331 [00:03<00:00, 406.00it/s]\n"
     ]
    },
    {
     "name": "stdout",
     "output_type": "stream",
     "text": [
      "leptoquark (340544, 8)\n"
     ]
    },
    {
     "name": "stderr",
     "output_type": "stream",
     "text": [
      "100%|██████████| 2701/2701 [00:05<00:00, 452.72it/s]\n"
     ]
    },
    {
     "name": "stdout",
     "output_type": "stream",
     "text": [
      "neutral_Higgs (691283, 8)\n"
     ]
    },
    {
     "name": "stderr",
     "output_type": "stream",
     "text": [
      "100%|██████████| 2970/2970 [00:06<00:00, 453.84it/s]"
     ]
    },
    {
     "name": "stdout",
     "output_type": "stream",
     "text": [
      "charged_Higgs (760272, 8)\n"
     ]
    },
    {
     "name": "stderr",
     "output_type": "stream",
     "text": [
      "\n"
     ]
    }
   ],
   "source": [
    "embedding_points = {}\n",
    "embedding_model.load_state_dict(torch.load(os.path.join(\"..\", \"model\",\"emb_dim{}_type_scale{}.pt\".format(output_dim, particle_type_scale))))\n",
    "embedding_model.to(device)\n",
    "for key, value in dataloaders.items():\n",
    "    embedding_points[key] = inference(embedding_model, value, embed_dim=output_dim)\n",
    "    print(key, embedding_points[key].shape)"
   ]
  },
  {
   "cell_type": "code",
   "execution_count": 10,
   "metadata": {},
   "outputs": [],
   "source": [
    "from analysis import Normalizer"
   ]
  },
  {
   "cell_type": "code",
   "execution_count": 11,
   "metadata": {},
   "outputs": [],
   "source": [
    "normalizer = Normalizer(*[value for value in embedding_points.values()])"
   ]
  },
  {
   "cell_type": "code",
   "execution_count": 12,
   "metadata": {},
   "outputs": [
    {
     "name": "stdout",
     "output_type": "stream",
     "text": [
      "[195.94314575 306.04678345 169.08666992 229.35830688 275.73455811\n",
      " 311.03366089 153.96336365 290.96902466]\n",
      "[-262.50848389 -289.52780151 -201.62272644 -281.99453735 -297.74050903\n",
      " -282.32440186 -178.91546631 -354.94134521]\n"
     ]
    }
   ],
   "source": [
    "print(normalizer.max)\n",
    "print(normalizer.min)"
   ]
  },
  {
   "cell_type": "markdown",
   "metadata": {},
   "source": [
    "# Split embed points"
   ]
  },
  {
   "cell_type": "code",
   "execution_count": 13,
   "metadata": {},
   "outputs": [],
   "source": [
    "tpr_dict = {}\n",
    "fpr_dict = {}\n",
    "auc_dict = {}"
   ]
  },
  {
   "cell_type": "code",
   "execution_count": 14,
   "metadata": {},
   "outputs": [],
   "source": [
    "from analysis import create_exp_bkg_events, train_test_split, get_dataloaders"
   ]
  },
  {
   "cell_type": "code",
   "execution_count": 15,
   "metadata": {},
   "outputs": [],
   "source": [
    "test_ratio=0.2\n",
    "val_ratio = 0.2\n",
    "sig_lambda = 0.5\n",
    "n = 100000\n",
    "\n",
    "test_signal = \"neutral_boson\"\n",
    "# test_signal = \"leptoquark\"\n",
    "# test_signal = \"neutral_Higgs\"\n",
    "# test_signal = \"charged_Higgs\"\n",
    "\n",
    "exp_events, bkg_events = create_exp_bkg_events(embedding_points['SM'], embedding_points[test_signal], sig_lambda, n)\n",
    "X1, X2, W1, W2 = train_test_split(exp_events, bkg_events, test_ratio)\n",
    "n1 = len(W1)\n",
    "m1 = len(X1)\n",
    "pi = n1 / (n1 + m1)\n",
    "n2 = len(W2)\n",
    "m2 = len(X2)\n",
    "train_dataloader, val_dataloader = get_dataloaders(X1, W1, val_ratio, normalizer)"
   ]
  },
  {
   "cell_type": "markdown",
   "metadata": {},
   "source": [
    "# Classify Model"
   ]
  },
  {
   "cell_type": "code",
   "execution_count": 16,
   "metadata": {},
   "outputs": [],
   "source": [
    "from model import MLP\n",
    "hidden_dim = [8, 16, 16, 16, 8]\n",
    "naive_model = MLP(output_dim, hidden_sizes=hidden_dim)"
   ]
  },
  {
   "cell_type": "markdown",
   "metadata": {},
   "source": [
    "# Train"
   ]
  },
  {
   "cell_type": "code",
   "execution_count": 17,
   "metadata": {},
   "outputs": [],
   "source": [
    "from metrics import BinaryACCUpdater"
   ]
  },
  {
   "cell_type": "code",
   "execution_count": 18,
   "metadata": {},
   "outputs": [],
   "source": [
    "naive_model.to(device)\n",
    "optimizer = torch.optim.Adam(naive_model.parameters(), lr=1e-3, weight_decay=1e-5)\n",
    "loss_fn = nn.BCELoss()\n",
    "acc_metric = BinaryACCUpdater()\n",
    "metric_dict = {\"Accuracy\": acc_metric}"
   ]
  },
  {
   "cell_type": "code",
   "execution_count": 19,
   "metadata": {},
   "outputs": [],
   "source": [
    "from classify import train_model"
   ]
  },
  {
   "cell_type": "code",
   "execution_count": 20,
   "metadata": {},
   "outputs": [],
   "source": [
    "# opt_train_model  = torch.compile(train_model)"
   ]
  },
  {
   "cell_type": "code",
   "execution_count": 21,
   "metadata": {},
   "outputs": [
    {
     "name": "stdout",
     "output_type": "stream",
     "text": [
      "\n",
      "================================================================================2024-05-26 10:54:34\n",
      "Epoch 1 / 50\n",
      "\n",
      "100%|██████████| 4000/4000 [00:07<00:00, 525.12it/s, train_Accuracy=0.585, train_loss=0.669]\n",
      "100%|██████████| 125/125 [00:00<00:00, 418.83it/s, val_Accuracy=0.608, val_loss=0.657]\n",
      "<<<<<< reach best val_Accuracy : 0.6082500219345093 >>>>>>\n",
      "\n",
      "================================================================================2024-05-26 10:54:42\n",
      "Epoch 2 / 50\n",
      "\n",
      "100%|██████████| 4000/4000 [00:07<00:00, 520.31it/s, train_Accuracy=0.607, train_loss=0.655]\n",
      "100%|██████████| 125/125 [00:00<00:00, 668.39it/s, val_Accuracy=0.621, val_loss=0.647]\n",
      "<<<<<< reach best val_Accuracy : 0.6207500100135803 >>>>>>\n",
      "\n",
      "================================================================================2024-05-26 10:54:50\n",
      "Epoch 3 / 50\n",
      "\n",
      "100%|██████████| 4000/4000 [00:07<00:00, 505.92it/s, train_Accuracy=0.619, train_loss=0.647]\n",
      "100%|██████████| 125/125 [00:00<00:00, 648.69it/s, val_Accuracy=0.626, val_loss=0.644]\n",
      "<<<<<< reach best val_Accuracy : 0.6262187957763672 >>>>>>\n",
      "\n",
      "================================================================================2024-05-26 10:54:59\n",
      "Epoch 4 / 50\n",
      "\n",
      "100%|██████████| 4000/4000 [00:07<00:00, 514.32it/s, train_Accuracy=0.624, train_loss=0.642]\n",
      "100%|██████████| 125/125 [00:00<00:00, 666.08it/s, val_Accuracy=0.627, val_loss=0.641]\n",
      "<<<<<< reach best val_Accuracy : 0.6266875267028809 >>>>>>\n",
      "\n",
      "================================================================================2024-05-26 10:55:07\n",
      "Epoch 5 / 50\n",
      "\n",
      "100%|██████████| 4000/4000 [00:07<00:00, 514.73it/s, train_Accuracy=0.63, train_loss=0.637] \n",
      "100%|██████████| 125/125 [00:00<00:00, 747.55it/s, val_Accuracy=0.62, val_loss=0.643]\n",
      "\n",
      "================================================================================2024-05-26 10:55:15\n",
      "Epoch 6 / 50\n",
      "\n",
      "100%|██████████| 4000/4000 [00:07<00:00, 515.50it/s, train_Accuracy=0.636, train_loss=0.632]\n",
      "100%|██████████| 125/125 [00:00<00:00, 718.87it/s, val_Accuracy=0.635, val_loss=0.629]\n",
      "<<<<<< reach best val_Accuracy : 0.6348437666893005 >>>>>>\n",
      "\n",
      "================================================================================2024-05-26 10:55:23\n",
      "Epoch 7 / 50\n",
      "\n",
      "100%|██████████| 4000/4000 [00:07<00:00, 513.17it/s, train_Accuracy=0.638, train_loss=0.629]\n",
      "100%|██████████| 125/125 [00:00<00:00, 665.42it/s, val_Accuracy=0.645, val_loss=0.625]\n",
      "<<<<<< reach best val_Accuracy : 0.6452500224113464 >>>>>>\n",
      "\n",
      "================================================================================2024-05-26 10:55:31\n",
      "Epoch 8 / 50\n",
      "\n",
      "100%|██████████| 4000/4000 [00:07<00:00, 503.12it/s, train_Accuracy=0.643, train_loss=0.627]\n",
      "100%|██████████| 125/125 [00:00<00:00, 720.53it/s, val_Accuracy=0.647, val_loss=0.624]\n",
      "<<<<<< reach best val_Accuracy : 0.6468750238418579 >>>>>>\n",
      "\n",
      "================================================================================2024-05-26 10:55:40\n",
      "Epoch 9 / 50\n",
      "\n",
      "100%|██████████| 4000/4000 [00:07<00:00, 530.56it/s, train_Accuracy=0.642, train_loss=0.626]\n",
      "100%|██████████| 125/125 [00:00<00:00, 419.32it/s, val_Accuracy=0.642, val_loss=0.625]\n",
      "\n",
      "================================================================================2024-05-26 10:55:48\n",
      "Epoch 10 / 50\n",
      "\n",
      "100%|██████████| 4000/4000 [00:07<00:00, 539.26it/s, train_Accuracy=0.645, train_loss=0.625]\n",
      "100%|██████████| 125/125 [00:00<00:00, 702.35it/s, val_Accuracy=0.648, val_loss=0.622]\n",
      "<<<<<< reach best val_Accuracy : 0.6484687924385071 >>>>>>\n",
      "\n",
      "================================================================================2024-05-26 10:55:56\n",
      "Epoch 11 / 50\n",
      "\n",
      "100%|██████████| 4000/4000 [00:07<00:00, 532.10it/s, train_Accuracy=0.645, train_loss=0.624]\n",
      "100%|██████████| 125/125 [00:00<00:00, 763.57it/s, val_Accuracy=0.645, val_loss=0.624]\n",
      "\n",
      "================================================================================2024-05-26 10:56:03\n",
      "Epoch 12 / 50\n",
      "\n",
      "100%|██████████| 4000/4000 [00:07<00:00, 504.22it/s, train_Accuracy=0.646, train_loss=0.623]\n",
      "100%|██████████| 125/125 [00:00<00:00, 715.73it/s, val_Accuracy=0.652, val_loss=0.618]\n",
      "<<<<<< reach best val_Accuracy : 0.6524062752723694 >>>>>>\n",
      "\n",
      "================================================================================2024-05-26 10:56:12\n",
      "Epoch 13 / 50\n",
      "\n",
      "100%|██████████| 4000/4000 [00:08<00:00, 497.18it/s, train_Accuracy=0.646, train_loss=0.623]\n",
      "100%|██████████| 125/125 [00:00<00:00, 668.71it/s, val_Accuracy=0.646, val_loss=0.622]\n",
      "\n",
      "================================================================================2024-05-26 10:56:20\n",
      "Epoch 14 / 50\n",
      "\n",
      "100%|██████████| 4000/4000 [00:07<00:00, 507.10it/s, train_Accuracy=0.646, train_loss=0.623]\n",
      "100%|██████████| 125/125 [00:00<00:00, 713.71it/s, val_Accuracy=0.655, val_loss=0.617]\n",
      "<<<<<< reach best val_Accuracy : 0.6550312638282776 >>>>>>\n",
      "\n",
      "================================================================================2024-05-26 10:56:28\n",
      "Epoch 15 / 50\n",
      "\n",
      "100%|██████████| 4000/4000 [00:08<00:00, 494.12it/s, train_Accuracy=0.647, train_loss=0.623]\n",
      "100%|██████████| 125/125 [00:00<00:00, 694.42it/s, val_Accuracy=0.633, val_loss=0.641]\n",
      "\n",
      "================================================================================2024-05-26 10:56:37\n",
      "Epoch 16 / 50\n",
      "\n",
      "100%|██████████| 4000/4000 [00:07<00:00, 523.44it/s, train_Accuracy=0.647, train_loss=0.622]\n",
      "100%|██████████| 125/125 [00:00<00:00, 704.91it/s, val_Accuracy=0.653, val_loss=0.617]\n",
      "\n",
      "================================================================================2024-05-26 10:56:45\n",
      "Epoch 17 / 50\n",
      "\n",
      "100%|██████████| 4000/4000 [00:08<00:00, 485.21it/s, train_Accuracy=0.649, train_loss=0.622]\n",
      "100%|██████████| 125/125 [00:00<00:00, 431.64it/s, val_Accuracy=0.654, val_loss=0.617]\n",
      "\n",
      "================================================================================2024-05-26 10:56:54\n",
      "Epoch 18 / 50\n",
      "\n",
      "100%|██████████| 4000/4000 [00:07<00:00, 512.00it/s, train_Accuracy=0.648, train_loss=0.622]\n",
      "100%|██████████| 125/125 [00:00<00:00, 724.95it/s, val_Accuracy=0.651, val_loss=0.621]\n",
      "\n",
      "================================================================================2024-05-26 10:57:02\n",
      "Epoch 19 / 50\n",
      "\n",
      "100%|██████████| 4000/4000 [00:07<00:00, 516.87it/s, train_Accuracy=0.649, train_loss=0.621]\n",
      "100%|██████████| 125/125 [00:00<00:00, 702.73it/s, val_Accuracy=0.654, val_loss=0.616]\n",
      "<<<<<< val_Accuracy without improvement in 5 epoch, early stopping >>>>>>\n"
     ]
    },
    {
     "data": {
      "text/html": [
       "<div>\n",
       "<style scoped>\n",
       "    .dataframe tbody tr th:only-of-type {\n",
       "        vertical-align: middle;\n",
       "    }\n",
       "\n",
       "    .dataframe tbody tr th {\n",
       "        vertical-align: top;\n",
       "    }\n",
       "\n",
       "    .dataframe thead th {\n",
       "        text-align: right;\n",
       "    }\n",
       "</style>\n",
       "<table border=\"1\" class=\"dataframe\">\n",
       "  <thead>\n",
       "    <tr style=\"text-align: right;\">\n",
       "      <th></th>\n",
       "      <th>train_loss</th>\n",
       "      <th>train_Accuracy</th>\n",
       "      <th>val_loss</th>\n",
       "      <th>val_Accuracy</th>\n",
       "      <th>epoch</th>\n",
       "    </tr>\n",
       "  </thead>\n",
       "  <tbody>\n",
       "    <tr>\n",
       "      <th>0</th>\n",
       "      <td>0.668997</td>\n",
       "      <td>0.584891</td>\n",
       "      <td>0.656661</td>\n",
       "      <td>0.608250</td>\n",
       "      <td>1</td>\n",
       "    </tr>\n",
       "    <tr>\n",
       "      <th>1</th>\n",
       "      <td>0.654700</td>\n",
       "      <td>0.607461</td>\n",
       "      <td>0.647476</td>\n",
       "      <td>0.620750</td>\n",
       "      <td>2</td>\n",
       "    </tr>\n",
       "    <tr>\n",
       "      <th>2</th>\n",
       "      <td>0.647106</td>\n",
       "      <td>0.618773</td>\n",
       "      <td>0.644197</td>\n",
       "      <td>0.626219</td>\n",
       "      <td>3</td>\n",
       "    </tr>\n",
       "    <tr>\n",
       "      <th>3</th>\n",
       "      <td>0.642216</td>\n",
       "      <td>0.624289</td>\n",
       "      <td>0.640871</td>\n",
       "      <td>0.626688</td>\n",
       "      <td>4</td>\n",
       "    </tr>\n",
       "    <tr>\n",
       "      <th>4</th>\n",
       "      <td>0.637012</td>\n",
       "      <td>0.630375</td>\n",
       "      <td>0.643149</td>\n",
       "      <td>0.620188</td>\n",
       "      <td>5</td>\n",
       "    </tr>\n",
       "    <tr>\n",
       "      <th>5</th>\n",
       "      <td>0.632277</td>\n",
       "      <td>0.636414</td>\n",
       "      <td>0.628543</td>\n",
       "      <td>0.634844</td>\n",
       "      <td>6</td>\n",
       "    </tr>\n",
       "    <tr>\n",
       "      <th>6</th>\n",
       "      <td>0.629208</td>\n",
       "      <td>0.638359</td>\n",
       "      <td>0.624885</td>\n",
       "      <td>0.645250</td>\n",
       "      <td>7</td>\n",
       "    </tr>\n",
       "    <tr>\n",
       "      <th>7</th>\n",
       "      <td>0.626669</td>\n",
       "      <td>0.642844</td>\n",
       "      <td>0.623583</td>\n",
       "      <td>0.646875</td>\n",
       "      <td>8</td>\n",
       "    </tr>\n",
       "    <tr>\n",
       "      <th>8</th>\n",
       "      <td>0.626126</td>\n",
       "      <td>0.642250</td>\n",
       "      <td>0.625460</td>\n",
       "      <td>0.641906</td>\n",
       "      <td>9</td>\n",
       "    </tr>\n",
       "    <tr>\n",
       "      <th>9</th>\n",
       "      <td>0.624503</td>\n",
       "      <td>0.644922</td>\n",
       "      <td>0.622304</td>\n",
       "      <td>0.648469</td>\n",
       "      <td>10</td>\n",
       "    </tr>\n",
       "    <tr>\n",
       "      <th>10</th>\n",
       "      <td>0.624295</td>\n",
       "      <td>0.644813</td>\n",
       "      <td>0.624095</td>\n",
       "      <td>0.645438</td>\n",
       "      <td>11</td>\n",
       "    </tr>\n",
       "    <tr>\n",
       "      <th>11</th>\n",
       "      <td>0.623303</td>\n",
       "      <td>0.646164</td>\n",
       "      <td>0.617842</td>\n",
       "      <td>0.652406</td>\n",
       "      <td>12</td>\n",
       "    </tr>\n",
       "    <tr>\n",
       "      <th>12</th>\n",
       "      <td>0.623033</td>\n",
       "      <td>0.645734</td>\n",
       "      <td>0.621960</td>\n",
       "      <td>0.645594</td>\n",
       "      <td>13</td>\n",
       "    </tr>\n",
       "    <tr>\n",
       "      <th>13</th>\n",
       "      <td>0.623079</td>\n",
       "      <td>0.645656</td>\n",
       "      <td>0.616693</td>\n",
       "      <td>0.655031</td>\n",
       "      <td>14</td>\n",
       "    </tr>\n",
       "    <tr>\n",
       "      <th>14</th>\n",
       "      <td>0.622957</td>\n",
       "      <td>0.646914</td>\n",
       "      <td>0.641238</td>\n",
       "      <td>0.633188</td>\n",
       "      <td>15</td>\n",
       "    </tr>\n",
       "    <tr>\n",
       "      <th>15</th>\n",
       "      <td>0.622280</td>\n",
       "      <td>0.646813</td>\n",
       "      <td>0.617106</td>\n",
       "      <td>0.653375</td>\n",
       "      <td>16</td>\n",
       "    </tr>\n",
       "    <tr>\n",
       "      <th>16</th>\n",
       "      <td>0.621778</td>\n",
       "      <td>0.648523</td>\n",
       "      <td>0.616618</td>\n",
       "      <td>0.653563</td>\n",
       "      <td>17</td>\n",
       "    </tr>\n",
       "    <tr>\n",
       "      <th>17</th>\n",
       "      <td>0.621727</td>\n",
       "      <td>0.647828</td>\n",
       "      <td>0.620869</td>\n",
       "      <td>0.651250</td>\n",
       "      <td>18</td>\n",
       "    </tr>\n",
       "    <tr>\n",
       "      <th>18</th>\n",
       "      <td>0.620775</td>\n",
       "      <td>0.648555</td>\n",
       "      <td>0.615814</td>\n",
       "      <td>0.654313</td>\n",
       "      <td>19</td>\n",
       "    </tr>\n",
       "  </tbody>\n",
       "</table>\n",
       "</div>"
      ],
      "text/plain": [
       "    train_loss  train_Accuracy  val_loss  val_Accuracy  epoch\n",
       "0     0.668997        0.584891  0.656661      0.608250      1\n",
       "1     0.654700        0.607461  0.647476      0.620750      2\n",
       "2     0.647106        0.618773  0.644197      0.626219      3\n",
       "3     0.642216        0.624289  0.640871      0.626688      4\n",
       "4     0.637012        0.630375  0.643149      0.620188      5\n",
       "5     0.632277        0.636414  0.628543      0.634844      6\n",
       "6     0.629208        0.638359  0.624885      0.645250      7\n",
       "7     0.626669        0.642844  0.623583      0.646875      8\n",
       "8     0.626126        0.642250  0.625460      0.641906      9\n",
       "9     0.624503        0.644922  0.622304      0.648469     10\n",
       "10    0.624295        0.644813  0.624095      0.645438     11\n",
       "11    0.623303        0.646164  0.617842      0.652406     12\n",
       "12    0.623033        0.645734  0.621960      0.645594     13\n",
       "13    0.623079        0.645656  0.616693      0.655031     14\n",
       "14    0.622957        0.646914  0.641238      0.633188     15\n",
       "15    0.622280        0.646813  0.617106      0.653375     16\n",
       "16    0.621778        0.648523  0.616618      0.653563     17\n",
       "17    0.621727        0.647828  0.620869      0.651250     18\n",
       "18    0.620775        0.648555  0.615814      0.654313     19"
      ]
     },
     "execution_count": 21,
     "metadata": {},
     "output_type": "execute_result"
    }
   ],
   "source": [
    "train_model(\n",
    "    naive_model, optimizer,\n",
    "    loss_fn, metrics_dict=metric_dict,\n",
    "    train_dataloader=train_dataloader, val_dataloader=val_dataloader,\n",
    "    monitor=\"val_Accuracy\", mode=\"max\",\n",
    "    epochs=50\n",
    "    )"
   ]
  },
  {
   "cell_type": "markdown",
   "metadata": {},
   "source": [
    "# ROC"
   ]
  },
  {
   "cell_type": "code",
   "execution_count": 22,
   "metadata": {},
   "outputs": [],
   "source": [
    "from analysis import predict"
   ]
  },
  {
   "cell_type": "code",
   "execution_count": 23,
   "metadata": {},
   "outputs": [
    {
     "name": "stderr",
     "output_type": "stream",
     "text": [
      "100%|██████████| 125/125 [00:00<00:00, 1059.79it/s]\n"
     ]
    }
   ],
   "source": [
    "targets, predictions = predict(naive_model, val_dataloader)"
   ]
  },
  {
   "cell_type": "code",
   "execution_count": 24,
   "metadata": {},
   "outputs": [
    {
     "name": "stdout",
     "output_type": "stream",
     "text": [
      "0.694374400390625\n"
     ]
    },
    {
     "data": {
      "image/png": "[encoded data removed]",
      "text/plain": [
       "<Figure size 640x480 with 1 Axes>"
      ]
     },
     "metadata": {},
     "output_type": "display_data"
    }
   ],
   "source": [
    "from analysis import calculate_auc\n",
    "from visualize import plot_roc_curve\n",
    "fpr, tpr, auc_roc = calculate_auc(targets, predictions)\n",
    "print(auc_roc)\n",
    "fpr_dict[str(sig_lambda)] = fpr\n",
    "tpr_dict[str(sig_lambda)] = tpr\n",
    "auc_dict[str(sig_lambda)] = auc_roc\n",
    "plot_roc_curve(fpr_dict, tpr_dict, auc_dict, \"ROC Curve\")"
   ]
  },
  {
   "cell_type": "markdown",
   "metadata": {},
   "source": [
    "# Test statistics"
   ]
  },
  {
   "cell_type": "code",
   "execution_count": 25,
   "metadata": {},
   "outputs": [],
   "source": [
    "import analysis\n",
    "import importlib\n",
    "importlib.reload(analysis)\n",
    "from analysis import Bootstrap_Permutation"
   ]
  },
  {
   "cell_type": "code",
   "execution_count": 26,
   "metadata": {},
   "outputs": [],
   "source": [
    "bootstrap_permutation = Bootstrap_Permutation(X2, W2, naive_model, pi, normalizer)"
   ]
  },
  {
   "cell_type": "code",
   "execution_count": 27,
   "metadata": {},
   "outputs": [
    {
     "name": "stderr",
     "output_type": "stream",
     "text": [
      "100%|██████████| 1000/1000 [00:50<00:00, 19.84it/s]\n"
     ]
    }
   ],
   "source": [
    "lrt_null_bootstarp, auc_null_bootstarp, mce_null_bootstarp = bootstrap_permutation.bootstrap(1000)"
   ]
  },
  {
   "cell_type": "code",
   "execution_count": 28,
   "metadata": {},
   "outputs": [
    {
     "name": "stderr",
     "output_type": "stream",
     "text": [
      "100%|██████████| 1000/1000 [00:50<00:00, 19.77it/s]\n"
     ]
    }
   ],
   "source": [
    "lrt_null_permutation, auc_null_permutation, mce_null_permutation = bootstrap_permutation.permutation(1000)"
   ]
  },
  {
   "cell_type": "code",
   "execution_count": 29,
   "metadata": {},
   "outputs": [
    {
     "data": {
      "image/png": "[encoded data removed]",
      "text/plain": [
       "<Figure size 640x480 with 1 Axes>"
      ]
     },
     "metadata": {},
     "output_type": "display_data"
    }
   ],
   "source": [
    "plt.hist(mce_null_bootstarp, bins=50, alpha=0.5, label=\"bootstrap p value = {}\".format(bootstrap_permutation.mce_p_bootstrap))\n",
    "plt.hist(mce_null_permutation, bins=50, alpha=0.5, label=\"permutation p value = {}\".format(bootstrap_permutation.mce_p_permutation))\n",
    "plt.axvline(bootstrap_permutation.mce_exp, color='r', label=\"exp\")\n",
    "plt.legend()\n",
    "plt.title(\"MCE Null Distribution lambda = {}\".format(sig_lambda))\n",
    "plt.show()"
   ]
  },
  {
   "cell_type": "code",
   "execution_count": 30,
   "metadata": {},
   "outputs": [
    {
     "data": {
      "image/png": "[encoded data removed]",
      "text/plain": [
       "<Figure size 640x480 with 1 Axes>"
      ]
     },
     "metadata": {},
     "output_type": "display_data"
    }
   ],
   "source": [
    "plt.hist(lrt_null_bootstarp, bins=50, alpha=0.5, label=\"bootstrap p value = {}\".format(bootstrap_permutation.lrt_p_bootstrap))\n",
    "plt.hist(lrt_null_permutation, bins=50, alpha=0.5, label=\"permutation p value = {}\".format(bootstrap_permutation.lrt_p_permutation))\n",
    "plt.axvline(bootstrap_permutation.lrt_exp, color='r', label=\"exp\")\n",
    "plt.legend()\n",
    "plt.title(\"LRT Null Distribution lambda = {}\".format(sig_lambda))\n",
    "plt.show()"
   ]
  },
  {
   "cell_type": "code",
   "execution_count": 31,
   "metadata": {},
   "outputs": [
    {
     "data": {
      "image/png": "[encoded data removed]",
      "text/plain": [
       "<Figure size 640x480 with 1 Axes>"
      ]
     },
     "metadata": {},
     "output_type": "display_data"
    }
   ],
   "source": [
    "plt.hist(auc_null_bootstarp, bins=50, alpha=0.5, label=\"bootstrap p value = {}\".format(bootstrap_permutation.auc_p_bootstrap))\n",
    "plt.hist(auc_null_permutation, bins=50, alpha=0.5, label=\"permutation p value = {}\".format(bootstrap_permutation.auc_p_permutation))\n",
    "plt.axvline(bootstrap_permutation.auc_exp, color='r', label=\"exp\")\n",
    "plt.legend()\n",
    "plt.title(\"AUC Null Distribution lambda = {}\".format(sig_lambda))\n",
    "plt.show()"
   ]
  },
  {
   "cell_type": "markdown",
   "metadata": {},
   "source": [
    "# Pull background null distribution"
   ]
  },
  {
   "cell_type": "code",
   "execution_count": null,
   "metadata": {},
   "outputs": [],
   "source": [
    "from analysis import create_exp_null"
   ]
  },
  {
   "cell_type": "code",
   "execution_count": null,
   "metadata": {},
   "outputs": [],
   "source": [
    "n = 100000\n",
    "n_null = 1000\n",
    "\n",
    "exp_events, bkg_events = create_exp_null(embedding_points['SM'], n)\n",
    "X1, X2, W1, W2 = train_test_split(exp_events, bkg_events, test_ratio)\n",
    "n1 = len(W1)\n",
    "m1 = len(X1)\n",
    "n2 = len(W2)\n",
    "m2 = len(X2)\n",
    "train_dataloader, val_dataloader = get_dataloaders(X1, W1, val_ratio, normalizer)\n",
    "\n",
    "hidden_dim = [8, 16, 16, 16, 8]\n",
    "bkg_model = MLP(output_dim, hidden_sizes=hidden_dim)\n",
    "bkg_model.to(device)\n",
    "optimizer = torch.optim.Adam(naive_model.parameters(), lr=1e-3, weight_decay=1e-5)\n",
    "loss_fn = nn.BCELoss()\n",
    "acc_metric = BinaryACCUpdater()\n",
    "metric_dict = {\"Accuracy\": acc_metric}\n",
    "\n",
    "train_model(\n",
    "    bkg_model, optimizer,\n",
    "    loss_fn, metrics_dict=metric_dict,\n",
    "    train_dataloader=train_dataloader, val_dataloader=val_dataloader,\n",
    "    monitor=\"val_Accuracy\", mode=\"max\",\n",
    "    epochs=50,\n",
    "    verbose=False\n",
    "    )\n",
    "\n",
    "bkg_null = Bootstrap_Permutation(X2, W2, naive_model, pi, normalizer)\n",
    "_, _, _ = bkg_null.bootstrap(n_null, verbose=False)\n",
    "_, _, _ = bkg_null.permutation(n_null, verbose=False)"
   ]
  },
  {
   "cell_type": "markdown",
   "metadata": {},
   "source": [
    "# Estimate signal strength"
   ]
  },
  {
   "cell_type": "code",
   "execution_count": 32,
   "metadata": {},
   "outputs": [],
   "source": [
    "from analysis import LambdaEstimator"
   ]
  },
  {
   "cell_type": "code",
   "execution_count": 33,
   "metadata": {},
   "outputs": [
    {
     "name": "stdout",
     "output_type": "stream",
     "text": [
      "estimated lambda: 0.5060553975333284\n",
      "beta 0 = -0.18427769510115588, beta 1 = -0.5210542137370288\n",
      "last bin height: 0.49394460246667166\n"
     ]
    },
    {
     "data": {
      "image/png": "[encoded data removed]",
      "text/plain": [
       "<Figure size 640x480 with 1 Axes>"
      ]
     },
     "metadata": {},
     "output_type": "display_data"
    }
   ],
   "source": [
    "lambda_estimator = LambdaEstimator(X2, W2, naive_model, T=0.5, n_bins=20, normalizer=normalizer)\n",
    "print(\"estimated lambda:\", lambda_estimator.estimated_lambda)\n",
    "print(\"beta 0 = {}, beta 1 = {}\".format(lambda_estimator.beta0, lambda_estimator.beta1))\n",
    "print(\"last bin height:\", lambda_estimator.estimated_H_t[-1])\n",
    "plt.hist(lambda_estimator.rho_W, bins=lambda_estimator.bins, alpha=0.5, edgecolor='black', density=True)\n",
    "start_idx = lambda_estimator.fit_start_idx\n",
    "plt.plot(lambda_estimator.bins[start_idx:], lambda_estimator.estimated_H_t, label=\"Estimated\")\n",
    "plt.plot(lambda_estimator.bins[1:], lambda_estimator.H_t, '*',label=\"True\")\n",
    "plt.legend()\n",
    "plt.title(\"Estimated λ = {:.2f}, true λ = {}\".format(lambda_estimator.estimated_lambda, sig_lambda))\n",
    "plt.show()"
   ]
  },
  {
   "cell_type": "markdown",
   "metadata": {},
   "source": [
    "# Bootstrapped Uncertainty Intervals for λ"
   ]
  },
  {
   "cell_type": "code",
   "execution_count": 34,
   "metadata": {},
   "outputs": [],
   "source": [
    "lambda_mean_dict = {}\n",
    "lambda_std_dict = {}\n",
    "\n",
    "lrt_p_permutation_dict = {}\n",
    "lrt_p_bootstrap_dict = {}\n",
    "auc_p_permutation_dict = {}\n",
    "auc_p_bootstrap_dict = {}\n",
    "mce_p_permutation_dict = {}\n",
    "mce_p_bootstrap_dict = {}"
   ]
  },
  {
   "cell_type": "code",
   "execution_count": 35,
   "metadata": {},
   "outputs": [],
   "source": [
    "import importlib\n",
    "import classify\n",
    "import analysis\n",
    "importlib.reload(classify)\n",
    "importlib.reload(analysis)\n",
    "from classify import train_model\n",
    "from analysis import Bootstrap_Permutation\n",
    "opt_train_model  = torch.compile(train_model)"
   ]
  },
  {
   "cell_type": "code",
   "execution_count": 44,
   "metadata": {},
   "outputs": [
    {
     "name": "stdout",
     "output_type": "stream",
     "text": [
      "<<<<<< val_Accuracy without improvement in 5 epoch, early stopping >>>>>>\n",
      "<<<<<< val_Accuracy without improvement in 5 epoch, early stopping >>>>>>\n",
      "<<<<<< val_Accuracy without improvement in 5 epoch, early stopping >>>>>>\n",
      "<<<<<< val_Accuracy without improvement in 5 epoch, early stopping >>>>>>\n",
      "<<<<<< val_Accuracy without improvement in 5 epoch, early stopping >>>>>>\n",
      "<<<<<< val_Accuracy without improvement in 5 epoch, early stopping >>>>>>\n",
      "<<<<<< val_Accuracy without improvement in 5 epoch, early stopping >>>>>>\n",
      "<<<<<< val_Accuracy without improvement in 5 epoch, early stopping >>>>>>\n",
      "<<<<<< val_Accuracy without improvement in 5 epoch, early stopping >>>>>>\n",
      "<<<<<< val_Accuracy without improvement in 5 epoch, early stopping >>>>>>\n",
      "sig_lambda: 0 estimated lambda mean: 0.007906653842744749 estimated lambda std: 0.012155170783703222\n",
      "<<<<<< val_Accuracy without improvement in 5 epoch, early stopping >>>>>>\n",
      "<<<<<< val_Accuracy without improvement in 5 epoch, early stopping >>>>>>\n",
      "<<<<<< val_Accuracy without improvement in 5 epoch, early stopping >>>>>>\n",
      "<<<<<< val_Accuracy without improvement in 5 epoch, early stopping >>>>>>\n",
      "<<<<<< val_Accuracy without improvement in 5 epoch, early stopping >>>>>>\n",
      "<<<<<< val_Accuracy without improvement in 5 epoch, early stopping >>>>>>\n",
      "<<<<<< val_Accuracy without improvement in 5 epoch, early stopping >>>>>>\n",
      "<<<<<< val_Accuracy without improvement in 5 epoch, early stopping >>>>>>\n",
      "<<<<<< val_Accuracy without improvement in 5 epoch, early stopping >>>>>>\n",
      "<<<<<< val_Accuracy without improvement in 5 epoch, early stopping >>>>>>\n",
      "sig_lambda: 0.01 estimated lambda mean: 0.009724745370712096 estimated lambda std: 0.015927041909119984\n",
      "<<<<<< val_Accuracy without improvement in 5 epoch, early stopping >>>>>>\n",
      "<<<<<< val_Accuracy without improvement in 5 epoch, early stopping >>>>>>\n",
      "<<<<<< val_Accuracy without improvement in 5 epoch, early stopping >>>>>>\n",
      "<<<<<< val_Accuracy without improvement in 5 epoch, early stopping >>>>>>\n",
      "<<<<<< val_Accuracy without improvement in 5 epoch, early stopping >>>>>>\n",
      "<<<<<< val_Accuracy without improvement in 5 epoch, early stopping >>>>>>\n",
      "<<<<<< val_Accuracy without improvement in 5 epoch, early stopping >>>>>>\n",
      "<<<<<< val_Accuracy without improvement in 5 epoch, early stopping >>>>>>\n",
      "<<<<<< val_Accuracy without improvement in 5 epoch, early stopping >>>>>>\n",
      "<<<<<< val_Accuracy without improvement in 5 epoch, early stopping >>>>>>\n",
      "sig_lambda: 0.05 estimated lambda mean: 0.041742611966005636 estimated lambda std: 0.020134044621852518\n",
      "<<<<<< val_Accuracy without improvement in 5 epoch, early stopping >>>>>>\n",
      "<<<<<< val_Accuracy without improvement in 5 epoch, early stopping >>>>>>\n",
      "<<<<<< val_Accuracy without improvement in 5 epoch, early stopping >>>>>>\n",
      "<<<<<< val_Accuracy without improvement in 5 epoch, early stopping >>>>>>\n",
      "<<<<<< val_Accuracy without improvement in 5 epoch, early stopping >>>>>>\n",
      "<<<<<< val_Accuracy without improvement in 5 epoch, early stopping >>>>>>\n",
      "<<<<<< val_Accuracy without improvement in 5 epoch, early stopping >>>>>>\n",
      "<<<<<< val_Accuracy without improvement in 5 epoch, early stopping >>>>>>\n",
      "<<<<<< val_Accuracy without improvement in 5 epoch, early stopping >>>>>>\n",
      "<<<<<< val_Accuracy without improvement in 5 epoch, early stopping >>>>>>\n",
      "sig_lambda: 0.1 estimated lambda mean: 0.06581878089610652 estimated lambda std: 0.022311617715973082\n",
      "<<<<<< val_Accuracy without improvement in 5 epoch, early stopping >>>>>>\n",
      "<<<<<< val_Accuracy without improvement in 5 epoch, early stopping >>>>>>\n",
      "<<<<<< val_Accuracy without improvement in 5 epoch, early stopping >>>>>>\n",
      "<<<<<< val_Accuracy without improvement in 5 epoch, early stopping >>>>>>\n",
      "<<<<<< val_Accuracy without improvement in 5 epoch, early stopping >>>>>>\n",
      "<<<<<< val_Accuracy without improvement in 5 epoch, early stopping >>>>>>\n",
      "<<<<<< val_Accuracy without improvement in 5 epoch, early stopping >>>>>>\n",
      "<<<<<< val_Accuracy without improvement in 5 epoch, early stopping >>>>>>\n",
      "<<<<<< val_Accuracy without improvement in 5 epoch, early stopping >>>>>>\n",
      "<<<<<< val_Accuracy without improvement in 5 epoch, early stopping >>>>>>\n",
      "sig_lambda: 0.2 estimated lambda mean: 0.15831299720077507 estimated lambda std: 0.037045355050877596\n",
      "<<<<<< val_Accuracy without improvement in 5 epoch, early stopping >>>>>>\n"
     ]
    }
   ],
   "source": [
    "n_bootstrap = 10\n",
    "\n",
    "\n",
    "test_ratio=0.2\n",
    "val_ratio = 0.2\n",
    "n = 100000\n",
    "n_null = 1000\n",
    "\n",
    "# test_signal = \"neutral_boson\"\n",
    "# test_signal = \"leptoquark\"\n",
    "test_signal = \"neutral_Higgs\"\n",
    "# test_signal = \"charged_Higgs\"\n",
    "significance = 0.05\n",
    "\n",
    "\n",
    "test_lambdas = [0, 0.01, 0.05, 0.1, 0.2, 0.3, 0.4, 0.5]\n",
    "for i in range(len(test_lambdas)):\n",
    "    sig_lambda = test_lambdas[i]\n",
    "\n",
    "    estimated_lambdas = np.zeros(n_bootstrap)\n",
    "\n",
    "    lrt_permutation_power = 0\n",
    "    lrt_bootstrap_power = 0\n",
    "    auc_permutation_power = 0\n",
    "    auc_bootstrap_power = 0\n",
    "    mce_permutation_power = 0\n",
    "    mce_bootstrap_power = 0\n",
    "    for j in range(n_bootstrap):\n",
    "        exp_events, bkg_events = create_exp_bkg_events(embedding_points['SM'], embedding_points[test_signal], sig_lambda, n)\n",
    "        X1, X2, W1, W2 = train_test_split(exp_events, bkg_events, test_ratio)\n",
    "        n1 = len(W1)\n",
    "        m1 = len(X1)\n",
    "        n2 = len(W2)\n",
    "        m2 = len(X2)\n",
    "        train_dataloader, val_dataloader = get_dataloaders(X1, W1, val_ratio, normalizer)\n",
    "\n",
    "        hidden_dim = [8, 16, 16, 16, 8]\n",
    "        naive_model = MLP(output_dim, hidden_sizes=hidden_dim)\n",
    "        naive_model.to(device)\n",
    "        optimizer = torch.optim.Adam(naive_model.parameters(), lr=1e-3, weight_decay=1e-5)\n",
    "        loss_fn = nn.BCELoss()\n",
    "        acc_metric = BinaryACCUpdater()\n",
    "        metric_dict = {\"Accuracy\": acc_metric}\n",
    "\n",
    "        train_model(\n",
    "            naive_model, optimizer,\n",
    "            loss_fn, metrics_dict=metric_dict,\n",
    "            train_dataloader=train_dataloader, val_dataloader=val_dataloader,\n",
    "            monitor=\"val_Accuracy\", mode=\"max\",\n",
    "            epochs=50,\n",
    "            verbose=False\n",
    "            )\n",
    "        \n",
    "        bootstrap_permutation = Bootstrap_Permutation(X2, W2, naive_model, pi, normalizer)\n",
    "        _, _, _ = bootstrap_permutation.bootstrap(n_null, verbose=False)\n",
    "        _, _, _ = bootstrap_permutation.permutation(n_null, verbose=False)\n",
    "        if bootstrap_permutation.lrt_p_permutation < significance:\n",
    "            lrt_permutation_power += 1\n",
    "        if bootstrap_permutation.lrt_p_bootstrap < significance:\n",
    "            lrt_bootstrap_power += 1\n",
    "        if bootstrap_permutation.auc_p_permutation < significance:\n",
    "            auc_permutation_power += 1\n",
    "        if bootstrap_permutation.auc_p_bootstrap < significance:\n",
    "            auc_bootstrap_power += 1\n",
    "        if bootstrap_permutation.mce_p_permutation < significance:\n",
    "            mce_permutation_power += 1\n",
    "        if bootstrap_permutation.mce_p_bootstrap < significance:\n",
    "            mce_bootstrap_power += 1\n",
    "\n",
    "        lambda_estimator = LambdaEstimator(X2, W2, naive_model, T=0.5, n_bins=20, normalizer=normalizer)\n",
    "        estimated_lambdas[j] = lambda_estimator.estimated_lambda\n",
    "    print(\"sig_lambda:\", sig_lambda, \"estimated lambda mean:\", estimated_lambdas.mean(), \"estimated lambda std:\", estimated_lambdas.std())\n",
    "    lambda_mean_dict[str(sig_lambda)] = estimated_lambdas.mean()\n",
    "    lambda_std_dict[str(sig_lambda)] = estimated_lambdas.std(ddof = 1)\n",
    "    lrt_p_permutation_dict[str(sig_lambda)] = lrt_permutation_power\n",
    "    lrt_p_bootstrap_dict[str(sig_lambda)] = lrt_bootstrap_power\n",
    "    auc_p_permutation_dict[str(sig_lambda)] = auc_permutation_power\n",
    "    auc_p_bootstrap_dict[str(sig_lambda)] = auc_bootstrap_power\n",
    "    mce_p_permutation_dict[str(sig_lambda)] = mce_permutation_power\n",
    "    mce_p_bootstrap_dict[str(sig_lambda)] = mce_bootstrap_power\n"
   ]
  },
  {
   "cell_type": "code",
   "execution_count": null,
   "metadata": {},
   "outputs": [
    {
     "name": "stdout",
     "output_type": "stream",
     "text": [
      "[0.52509565 0.49158573 0.53438513 0.50716277 0.52628814 0.52704176\n",
      " 0.53822071 0.51245938 0.51371156 0.52414501]\n",
      "{'0': 0.008760449122745706, '0.01': 0.0013275525275852074, '0.05': 0.04704803637526868, '0.1': 0.09760295760819597, '0.2': 0.21171650978786277, '0.3': 0.3209293518848411, '0.4': 0.4171630945852886, '0.5': 0.520009584051379}\n",
      "{'0': 0.01545288499245897, '0.01': 0.008403337477243577, '0.05': 0.00945412047843514, '0.1': 0.013586404358569719, '0.2': 0.014950091348389434, '0.3': 0.012262192590897107, '0.4': 0.01657743917018098, '0.5': 0.013903516060435384}\n"
     ]
    }
   ],
   "source": [
    "print(estimated_lambdas)\n",
    "print(lambda_mean_dict)\n",
    "print(lambda_std_dict)"
   ]
  },
  {
   "cell_type": "code",
   "execution_count": null,
   "metadata": {},
   "outputs": [],
   "source": [
    "import visualize\n",
    "importlib.reload(visualize)\n",
    "from visualize import plot_lambda"
   ]
  },
  {
   "cell_type": "code",
   "execution_count": null,
   "metadata": {},
   "outputs": [
    {
     "data": {
      "image/png": "[encoded data removed]",
      "text/plain": [
       "<Figure size 640x480 with 1 Axes>"
      ]
     },
     "metadata": {},
     "output_type": "display_data"
    }
   ],
   "source": [
    "plot_lambda(lambda_mean_dict, lambda_std_dict, test_signal)"
   ]
  },
  {
   "cell_type": "code",
   "execution_count": null,
   "metadata": {},
   "outputs": [
    {
     "name": "stdout",
     "output_type": "stream",
     "text": [
      "{'0': 0, '0.01': 1, '0.05': 10, '0.1': 10, '0.2': 10, '0.3': 10, '0.4': 10, '0.5': 10}\n",
      "{'0': 0, '0.01': 2, '0.05': 10, '0.1': 10, '0.2': 10, '0.3': 10, '0.4': 10, '0.5': 10}\n",
      "{'0': 1, '0.01': 0, '0.05': 10, '0.1': 10, '0.2': 10, '0.3': 10, '0.4': 10, '0.5': 10}\n",
      "{'0': 0, '0.01': 2, '0.05': 10, '0.1': 10, '0.2': 10, '0.3': 10, '0.4': 10, '0.5': 10}\n",
      "{'0': 9, '0.01': 2, '0.05': 10, '0.1': 10, '0.2': 10, '0.3': 10, '0.4': 10, '0.5': 10}\n",
      "{'0': 9, '0.01': 2, '0.05': 10, '0.1': 10, '0.2': 10, '0.3': 10, '0.4': 10, '0.5': 10}\n"
     ]
    }
   ],
   "source": [
    "print(lrt_p_permutation_dict)\n",
    "print(lrt_p_bootstrap_dict)\n",
    "print(auc_p_permutation_dict)\n",
    "print(auc_p_bootstrap_dict)\n",
    "print(mce_p_permutation_dict)\n",
    "print(mce_p_bootstrap_dict)"
   ]
  },
  {
   "cell_type": "code",
   "execution_count": null,
   "metadata": {},
   "outputs": [
    {
     "data": {
      "image/png": "[encoded data removed]",
      "text/plain": [
       "<Figure size 640x480 with 1 Axes>"
      ]
     },
     "metadata": {},
     "output_type": "display_data"
    }
   ],
   "source": [
    "plt.plot(test_lambdas, np.array([lrt_p_permutation_dict[str(sig_lambda)] for sig_lambda in test_lambdas])/n_bootstrap, label=\"LRT Permutation\")\n",
    "plt.plot(test_lambdas, np.array([lrt_p_bootstrap_dict[str(sig_lambda)] for sig_lambda in test_lambdas])/n_bootstrap, label=\"LRT Bootstrap\")\n",
    "plt.plot(test_lambdas, np.array([auc_p_permutation_dict[str(sig_lambda)] for sig_lambda in test_lambdas])/n_bootstrap, label=\"AUC Permutation\")\n",
    "plt.plot(test_lambdas, np.array([auc_p_bootstrap_dict[str(sig_lambda)] for sig_lambda in test_lambdas])/n_bootstrap, label=\"AUC Bootstrap\")\n",
    "plt.plot(test_lambdas, np.array([mce_p_permutation_dict[str(sig_lambda)] for sig_lambda in test_lambdas])/n_bootstrap, label=\"MCE Permutation\")\n",
    "plt.plot(test_lambdas, np.array([mce_p_bootstrap_dict[str(sig_lambda)] for sig_lambda in test_lambdas])/n_bootstrap, label=\"MCE Bootstrap\")\n",
    "plt.title(\"Power to detect {} at significance level {:.0%}\".format(test_signal, significance))\n",
    "plt.legend()\n",
    "plt.show()"
   ]
  },
  {
   "cell_type": "code",
   "execution_count": null,
   "metadata": {},
   "outputs": [],
   "source": [
    "import pandas as pd\n",
    "power_df = pd.DataFrame(columns=test_lambdas)\n",
    "power_df.loc[\"LRT Permutation\"] = [lrt_p_permutation_dict[str(sig_lambda)]/n_bootstrap for sig_lambda in test_lambdas]\n",
    "power_df.loc[\"LRT Bootstrap\"] = [lrt_p_bootstrap_dict[str(sig_lambda)]/n_bootstrap for sig_lambda in test_lambdas]\n",
    "power_df.loc[\"AUC Permutation\"] = [auc_p_permutation_dict[str(sig_lambda)]/n_bootstrap for sig_lambda in test_lambdas]\n",
    "power_df.loc[\"AUC Bootstrap\"] = [auc_p_bootstrap_dict[str(sig_lambda)]/n_bootstrap for sig_lambda in test_lambdas]\n",
    "power_df.loc[\"MCE Permutation\"] = [mce_p_permutation_dict[str(sig_lambda)]/n_bootstrap for sig_lambda in test_lambdas]\n",
    "power_df.loc[\"MCE Bootstrap\"] = [mce_p_bootstrap_dict[str(sig_lambda)]/n_bootstrap for sig_lambda in test_lambdas]"
   ]
  },
  {
   "cell_type": "code",
   "execution_count": null,
   "metadata": {},
   "outputs": [
    {
     "data": {
      "text/html": [
       "<div>\n",
       "<style scoped>\n",
       "    .dataframe tbody tr th:only-of-type {\n",
       "        vertical-align: middle;\n",
       "    }\n",
       "\n",
       "    .dataframe tbody tr th {\n",
       "        vertical-align: top;\n",
       "    }\n",
       "\n",
       "    .dataframe thead th {\n",
       "        text-align: right;\n",
       "    }\n",
       "</style>\n",
       "<table border=\"1\" class=\"dataframe\">\n",
       "  <thead>\n",
       "    <tr style=\"text-align: right;\">\n",
       "      <th></th>\n",
       "      <th>0.00</th>\n",
       "      <th>0.01</th>\n",
       "      <th>0.05</th>\n",
       "      <th>0.10</th>\n",
       "      <th>0.20</th>\n",
       "      <th>0.30</th>\n",
       "      <th>0.40</th>\n",
       "      <th>0.50</th>\n",
       "    </tr>\n",
       "  </thead>\n",
       "  <tbody>\n",
       "    <tr>\n",
       "      <th>LRT Permutation</th>\n",
       "      <td>0.0</td>\n",
       "      <td>0.1</td>\n",
       "      <td>1.0</td>\n",
       "      <td>1.0</td>\n",
       "      <td>1.0</td>\n",
       "      <td>1.0</td>\n",
       "      <td>1.0</td>\n",
       "      <td>1.0</td>\n",
       "    </tr>\n",
       "    <tr>\n",
       "      <th>LRT Bootstrap</th>\n",
       "      <td>0.0</td>\n",
       "      <td>0.2</td>\n",
       "      <td>1.0</td>\n",
       "      <td>1.0</td>\n",
       "      <td>1.0</td>\n",
       "      <td>1.0</td>\n",
       "      <td>1.0</td>\n",
       "      <td>1.0</td>\n",
       "    </tr>\n",
       "    <tr>\n",
       "      <th>AUC Permutation</th>\n",
       "      <td>0.1</td>\n",
       "      <td>0.0</td>\n",
       "      <td>1.0</td>\n",
       "      <td>1.0</td>\n",
       "      <td>1.0</td>\n",
       "      <td>1.0</td>\n",
       "      <td>1.0</td>\n",
       "      <td>1.0</td>\n",
       "    </tr>\n",
       "    <tr>\n",
       "      <th>AUC Bootstrap</th>\n",
       "      <td>0.0</td>\n",
       "      <td>0.2</td>\n",
       "      <td>1.0</td>\n",
       "      <td>1.0</td>\n",
       "      <td>1.0</td>\n",
       "      <td>1.0</td>\n",
       "      <td>1.0</td>\n",
       "      <td>1.0</td>\n",
       "    </tr>\n",
       "    <tr>\n",
       "      <th>MCE Permutation</th>\n",
       "      <td>0.9</td>\n",
       "      <td>0.2</td>\n",
       "      <td>1.0</td>\n",
       "      <td>1.0</td>\n",
       "      <td>1.0</td>\n",
       "      <td>1.0</td>\n",
       "      <td>1.0</td>\n",
       "      <td>1.0</td>\n",
       "    </tr>\n",
       "    <tr>\n",
       "      <th>MCE Bootstrap</th>\n",
       "      <td>0.9</td>\n",
       "      <td>0.2</td>\n",
       "      <td>1.0</td>\n",
       "      <td>1.0</td>\n",
       "      <td>1.0</td>\n",
       "      <td>1.0</td>\n",
       "      <td>1.0</td>\n",
       "      <td>1.0</td>\n",
       "    </tr>\n",
       "  </tbody>\n",
       "</table>\n",
       "</div>"
      ],
      "text/plain": [
       "                 0.00  0.01  0.05  0.10  0.20  0.30  0.40  0.50\n",
       "LRT Permutation   0.0   0.1   1.0   1.0   1.0   1.0   1.0   1.0\n",
       "LRT Bootstrap     0.0   0.2   1.0   1.0   1.0   1.0   1.0   1.0\n",
       "AUC Permutation   0.1   0.0   1.0   1.0   1.0   1.0   1.0   1.0\n",
       "AUC Bootstrap     0.0   0.2   1.0   1.0   1.0   1.0   1.0   1.0\n",
       "MCE Permutation   0.9   0.2   1.0   1.0   1.0   1.0   1.0   1.0\n",
       "MCE Bootstrap     0.9   0.2   1.0   1.0   1.0   1.0   1.0   1.0"
      ]
     },
     "metadata": {},
     "output_type": "display_data"
    }
   ],
   "source": [
    "display(power_df)"
   ]
  },
  {
   "cell_type": "code",
   "execution_count": null,
   "metadata": {},
   "outputs": [],
   "source": []
  }
 ],
 "metadata": {
  "kernelspec": {
   "display_name": "ad",
   "language": "python",
   "name": "python3"
  },
  "language_info": {
   "codemirror_mode": {
    "name": "ipython",
    "version": 3
   },
   "file_extension": ".py",
   "mimetype": "text/x-python",
   "name": "python",
   "nbconvert_exporter": "python",
   "pygments_lexer": "ipython3",
   "version": "3.11.8"
  }
 },
 "nbformat": 4,
 "nbformat_minor": 2
}
