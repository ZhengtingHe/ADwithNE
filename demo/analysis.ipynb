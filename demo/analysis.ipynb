{
 "cells": [
  {
   "cell_type": "code",
   "execution_count": 1,
   "metadata": {},
   "outputs": [],
   "source": [
    "import torch\n",
    "from torch import nn\n",
    "import numpy as np\n",
    "import sys\n",
    "import os\n",
    "import pandas as pd\n",
    "from torch.utils.data import Dataset, DataLoader\n",
    "from tqdm import tqdm\n",
    "\n",
    "\n",
    "sys.path.append(\"..\")\n",
    "from model import ParticleEventTransformer\n",
    "from data import get_database_path, get_h5_files, read_h5_file, select_events\n",
    "from utils import load_toml_config\n",
    "\n",
    "import matplotlib.pyplot as plt\n",
    "\n",
    "\n",
    "device = \"cuda\" if torch.cuda.is_available() else \"mps\" if sys.platform == \"darwin\" else \"cpu\"\n"
   ]
  },
  {
   "cell_type": "code",
   "execution_count": 2,
   "metadata": {},
   "outputs": [],
   "source": [
    "EMD_config = load_toml_config(\"EMD\")\n",
    "particle_type_scale = EMD_config['particle_type_scale']"
   ]
  },
  {
   "cell_type": "markdown",
   "metadata": {},
   "source": [
    "# Load raw events"
   ]
  },
  {
   "cell_type": "code",
   "execution_count": 3,
   "metadata": {},
   "outputs": [
    {
     "name": "stdout",
     "output_type": "stream",
     "text": [
      "SM (13451915, 19, 4)\n",
      "neutral_boson (55969, 19, 4)\n",
      "leptoquark (340544, 19, 4)\n",
      "neutral_Higgs (691283, 19, 4)\n",
      "charged_Higgs (760272, 19, 4)\n"
     ]
    }
   ],
   "source": [
    "files = load_toml_config(\"file\")\n",
    "database_path = get_database_path()\n",
    "bkg_files, sig_files = get_h5_files()\n",
    "\n",
    "# bkg = read_h5_file(database_path, files[\"SM\"])\n",
    "# # SM processes\n",
    "\n",
    "# neutral_boson = read_h5_file(database_path, files[\"neutral_boson\"])\n",
    "# print(neutral_boson.shape)\n",
    "# # A neutral scalar boson (A) with mass 50 GeV, decaying to two off-shell Z bosons, each forced to decay to two leptons: A → 4l\n",
    "\n",
    "# leptoquark = read_h5_file(database_path, files[\"leptoquark\"])\n",
    "# print(leptoquark.shape)\n",
    "# # A leptoquark (LQ) with mass 80 GeV, decaying to a b quark and a τ lepton24\n",
    "\n",
    "# neutral_Higgs = read_h5_file(database_path, files[\"neutral_Higgs\"])\n",
    "# print(neutral_Higgs.shape)\n",
    "# # A scalar boson with mass 60 GeV, decaying to two tau leptons: h0→ ττ\n",
    "\n",
    "# charged_Higgs = read_h5_file(database_path, files[\"charged_Higgs\"])\n",
    "# print(charged_Higgs.shape)\n",
    "# # A charged scalar boson with mass 60 GeV, decaying to a tau lepton and a neutrino\n",
    "\n",
    "events = {}\n",
    "for key, value in files.items():\n",
    "    events[key] = read_h5_file(database_path, value)\n",
    "    print(key, events[key].shape)"
   ]
  },
  {
   "cell_type": "code",
   "execution_count": 4,
   "metadata": {},
   "outputs": [
    {
     "name": "stdout",
     "output_type": "stream",
     "text": [
      "['neutral_boson', 'leptoquark', 'neutral_Higgs', 'charged_Higgs']\n"
     ]
    }
   ],
   "source": [
    "signals = [key for key in events.keys() if key != \"SM\"]\n",
    "print(signals)"
   ]
  },
  {
   "cell_type": "markdown",
   "metadata": {},
   "source": [
    "# Load embedding model"
   ]
  },
  {
   "cell_type": "code",
   "execution_count": 5,
   "metadata": {},
   "outputs": [
    {
     "name": "stdout",
     "output_type": "stream",
     "text": [
      "{'feature_size': 3, 'embed_size': 16, 'num_heads': 8, 'num_layers': 4, 'hidden_dim': 256, 'output_dim': 4}\n"
     ]
    },
    {
     "name": "stderr",
     "output_type": "stream",
     "text": [
      "/home/desmondhe/anaconda3/envs/ad/lib/python3.11/site-packages/torch/nn/modules/transformer.py:286: UserWarning: enable_nested_tensor is True, but self.use_nested_tensor is False because encoder_layer.self_attn.batch_first was not True(use batch_first for better inference performance)\n",
      "  warnings.warn(f\"enable_nested_tensor is True, but self.use_nested_tensor is False because {why_not_sparsity_fast_path}\")\n"
     ]
    }
   ],
   "source": [
    "model_hyper_parameters = load_toml_config(\"Transformer\")\n",
    "print(model_hyper_parameters)\n",
    "feature_size = model_hyper_parameters[\"feature_size\"]\n",
    "embed_size = model_hyper_parameters[\"embed_size\"]\n",
    "num_heads = model_hyper_parameters[\"num_heads\"]\n",
    "num_layers = model_hyper_parameters[\"num_layers\"]\n",
    "hidden_dim = model_hyper_parameters[\"hidden_dim\"]\n",
    "output_dim = model_hyper_parameters[\"output_dim\"]\n",
    "\n",
    "embedding_model = ParticleEventTransformer(feature_size, embed_size, num_heads, hidden_dim, output_dim, num_layers)"
   ]
  },
  {
   "cell_type": "markdown",
   "metadata": {},
   "source": [
    "# Embed events"
   ]
  },
  {
   "cell_type": "code",
   "execution_count": 6,
   "metadata": {},
   "outputs": [],
   "source": [
    "from analysis import inference"
   ]
  },
  {
   "cell_type": "code",
   "execution_count": 7,
   "metadata": {},
   "outputs": [],
   "source": [
    "from data import EventDataset"
   ]
  },
  {
   "cell_type": "code",
   "execution_count": 8,
   "metadata": {},
   "outputs": [],
   "source": [
    "infer_test_num = 1000000\n",
    "dataloaders = {}\n",
    "for key, value in events.items():\n",
    "    dataloaders[key] = DataLoader(EventDataset(value[:infer_test_num]), batch_size=256, num_workers=16, prefetch_factor=5)"
   ]
  },
  {
   "cell_type": "code",
   "execution_count": 9,
   "metadata": {},
   "outputs": [
    {
     "name": "stderr",
     "output_type": "stream",
     "text": [
      "100%|██████████| 3907/3907 [00:08<00:00, 455.10it/s]\n"
     ]
    },
    {
     "name": "stdout",
     "output_type": "stream",
     "text": [
      "SM (1000000, 4)\n"
     ]
    },
    {
     "name": "stderr",
     "output_type": "stream",
     "text": [
      "100%|██████████| 219/219 [00:01<00:00, 201.98it/s]\n"
     ]
    },
    {
     "name": "stdout",
     "output_type": "stream",
     "text": [
      "neutral_boson (55969, 4)\n"
     ]
    },
    {
     "name": "stderr",
     "output_type": "stream",
     "text": [
      "100%|██████████| 1331/1331 [00:03<00:00, 397.71it/s]\n"
     ]
    },
    {
     "name": "stdout",
     "output_type": "stream",
     "text": [
      "leptoquark (340544, 4)\n"
     ]
    },
    {
     "name": "stderr",
     "output_type": "stream",
     "text": [
      "100%|██████████| 2701/2701 [00:06<00:00, 442.31it/s]\n"
     ]
    },
    {
     "name": "stdout",
     "output_type": "stream",
     "text": [
      "neutral_Higgs (691283, 4)\n"
     ]
    },
    {
     "name": "stderr",
     "output_type": "stream",
     "text": [
      "100%|██████████| 2970/2970 [00:06<00:00, 447.64it/s]"
     ]
    },
    {
     "name": "stdout",
     "output_type": "stream",
     "text": [
      "charged_Higgs (760272, 4)\n"
     ]
    },
    {
     "name": "stderr",
     "output_type": "stream",
     "text": [
      "\n"
     ]
    }
   ],
   "source": [
    "embedding_points = {}\n",
    "embedding_model.load_state_dict(torch.load(os.path.join(\"..\", \"model\",\"emb_dim{}_type_scale{}.pt\".format(output_dim, particle_type_scale))))\n",
    "embedding_model.to(device)\n",
    "for key, value in dataloaders.items():\n",
    "    embedding_points[key] = inference(embedding_model, value, embed_dim=output_dim)\n",
    "    print(key, embedding_points[key].shape)"
   ]
  },
  {
   "cell_type": "code",
   "execution_count": 10,
   "metadata": {},
   "outputs": [],
   "source": [
    "from analysis import Normalizer"
   ]
  },
  {
   "cell_type": "code",
   "execution_count": 11,
   "metadata": {},
   "outputs": [],
   "source": [
    "normalizer = Normalizer(*[value for value in embedding_points.values()])"
   ]
  },
  {
   "cell_type": "code",
   "execution_count": 12,
   "metadata": {},
   "outputs": [
    {
     "name": "stdout",
     "output_type": "stream",
     "text": [
      "[382.31155396 401.36450195 345.75421143 340.81079102]\n",
      "[-374.65716553 -361.722229   -324.36480713 -334.16223145]\n"
     ]
    }
   ],
   "source": [
    "print(normalizer.max)\n",
    "print(normalizer.min)"
   ]
  },
  {
   "cell_type": "markdown",
   "metadata": {},
   "source": [
    "# Split embed points"
   ]
  },
  {
   "cell_type": "code",
   "execution_count": 13,
   "metadata": {},
   "outputs": [],
   "source": [
    "tpr_dict = {}\n",
    "fpr_dict = {}\n",
    "auc_dict = {}"
   ]
  },
  {
   "cell_type": "code",
   "execution_count": 14,
   "metadata": {},
   "outputs": [],
   "source": [
    "from analysis import create_exp_bkg_events, train_test_split, get_dataloaders"
   ]
  },
  {
   "cell_type": "code",
   "execution_count": 15,
   "metadata": {},
   "outputs": [],
   "source": [
    "test_ratio=0.2\n",
    "val_ratio = 0.2\n",
    "sig_lambda = 0.5\n",
    "n = 100000\n",
    "\n",
    "exp_events, bkg_events = create_exp_bkg_events(embedding_points['SM'], embedding_points['neutral_boson'], sig_lambda, n)\n",
    "# exp_events, bkg_events = create_exp_bkg_events(bkg_embed_points, leptoquark_embed_points, sig_lambda, n)\n",
    "# exp_events, bkg_events = create_exp_bkg_events(bkg_embed_points, neutral_Higgs_embed_points, sig_lambda, n)\n",
    "# exp_events, bkg_events = create_exp_bkg_events(bkg_embed_points, charged_Higgs_embed_points, sig_lambda, n)\n",
    "X1, X2, W1, W2 = train_test_split(exp_events, bkg_events, test_ratio)\n",
    "n1 = len(W1)\n",
    "m1 = len(X1)\n",
    "pi = n1 / (n1 + m1)\n",
    "n2 = len(W2)\n",
    "m2 = len(X2)\n",
    "train_dataloader, val_dataloader = get_dataloaders(X1, W1, val_ratio, normalizer)"
   ]
  },
  {
   "cell_type": "markdown",
   "metadata": {},
   "source": [
    "# Classify Model"
   ]
  },
  {
   "cell_type": "code",
   "execution_count": 16,
   "metadata": {},
   "outputs": [],
   "source": [
    "from model import MLP\n",
    "hidden_dim = [8, 16, 16, 16, 8]\n",
    "naive_model = MLP(output_dim, hidden_sizes=hidden_dim)"
   ]
  },
  {
   "cell_type": "markdown",
   "metadata": {},
   "source": [
    "# Train"
   ]
  },
  {
   "cell_type": "code",
   "execution_count": 17,
   "metadata": {},
   "outputs": [],
   "source": [
    "from metrics import BinaryACCUpdater"
   ]
  },
  {
   "cell_type": "code",
   "execution_count": 18,
   "metadata": {},
   "outputs": [],
   "source": [
    "naive_model.to(device)\n",
    "optimizer = torch.optim.Adam(naive_model.parameters(), lr=1e-3, weight_decay=1e-5)\n",
    "loss_fn = nn.BCELoss()\n",
    "acc_metric = BinaryACCUpdater()\n",
    "metric_dict = {\"Accuracy\": acc_metric}"
   ]
  },
  {
   "cell_type": "code",
   "execution_count": 19,
   "metadata": {},
   "outputs": [],
   "source": [
    "from classify import train_model"
   ]
  },
  {
   "cell_type": "code",
   "execution_count": 20,
   "metadata": {},
   "outputs": [],
   "source": [
    "# opt_train_model  = torch.compile(train_model)"
   ]
  },
  {
   "cell_type": "code",
   "execution_count": 48,
   "metadata": {},
   "outputs": [
    {
     "name": "stdout",
     "output_type": "stream",
     "text": [
      "\n",
      "================================================================================2024-05-22 19:48:51\n",
      "Epoch 1 / 50\n",
      "\n",
      "100%|██████████| 4000/4000 [00:07<00:00, 522.99it/s, train_Accuracy=0.633, train_loss=0.632]\n",
      "100%|██████████| 125/125 [00:00<00:00, 702.69it/s, val_Accuracy=0.634, val_loss=0.63]\n",
      "<<<<<< reach best val_Accuracy : 0.6339375376701355 >>>>>>\n",
      "\n",
      "================================================================================2024-05-22 19:48:59\n",
      "Epoch 2 / 50\n",
      "\n",
      "100%|██████████| 4000/4000 [00:08<00:00, 486.46it/s, train_Accuracy=0.634, train_loss=0.631]\n",
      "100%|██████████| 125/125 [00:00<00:00, 702.12it/s, val_Accuracy=0.637, val_loss=0.631]\n",
      "<<<<<< reach best val_Accuracy : 0.6365312933921814 >>>>>>\n",
      "\n",
      "================================================================================2024-05-22 19:49:08\n",
      "Epoch 3 / 50\n",
      "\n",
      "100%|██████████| 4000/4000 [00:07<00:00, 528.85it/s, train_Accuracy=0.634, train_loss=0.631]\n",
      "100%|██████████| 125/125 [00:00<00:00, 687.87it/s, val_Accuracy=0.635, val_loss=0.63]\n",
      "\n",
      "================================================================================2024-05-22 19:49:16\n",
      "Epoch 4 / 50\n",
      "\n",
      "100%|██████████| 4000/4000 [00:07<00:00, 502.31it/s, train_Accuracy=0.635, train_loss=0.63] \n",
      "100%|██████████| 125/125 [00:00<00:00, 652.14it/s, val_Accuracy=0.638, val_loss=0.627]\n",
      "<<<<<< reach best val_Accuracy : 0.6383750438690186 >>>>>>\n",
      "\n",
      "================================================================================2024-05-22 19:49:24\n",
      "Epoch 5 / 50\n",
      "\n",
      "100%|██████████| 4000/4000 [00:08<00:00, 491.96it/s, train_Accuracy=0.635, train_loss=0.63] \n",
      "100%|██████████| 125/125 [00:00<00:00, 699.78it/s, val_Accuracy=0.637, val_loss=0.629]\n",
      "\n",
      "================================================================================2024-05-22 19:49:33\n",
      "Epoch 6 / 50\n",
      "\n",
      "100%|██████████| 4000/4000 [00:07<00:00, 510.83it/s, train_Accuracy=0.635, train_loss=0.63] \n",
      "100%|██████████| 125/125 [00:00<00:00, 670.44it/s, val_Accuracy=0.637, val_loss=0.628]\n",
      "\n",
      "================================================================================2024-05-22 19:49:41\n",
      "Epoch 7 / 50\n",
      "\n",
      "100%|██████████| 4000/4000 [00:07<00:00, 508.51it/s, train_Accuracy=0.637, train_loss=0.629]\n",
      "100%|██████████| 125/125 [00:00<00:00, 699.28it/s, val_Accuracy=0.631, val_loss=0.631]\n",
      "\n",
      "================================================================================2024-05-22 19:49:49\n",
      "Epoch 8 / 50\n",
      "\n",
      "100%|██████████| 4000/4000 [00:07<00:00, 514.32it/s, train_Accuracy=0.636, train_loss=0.63] \n",
      "100%|██████████| 125/125 [00:00<00:00, 676.55it/s, val_Accuracy=0.628, val_loss=0.633]\n",
      "\n",
      "================================================================================2024-05-22 19:49:57\n",
      "Epoch 9 / 50\n",
      "\n",
      "100%|██████████| 4000/4000 [00:08<00:00, 489.22it/s, train_Accuracy=0.637, train_loss=0.629]\n",
      "100%|██████████| 125/125 [00:00<00:00, 641.95it/s, val_Accuracy=0.638, val_loss=0.626]\n",
      "<<<<<< val_Accuracy without improvement in 5 epoch, early stopping >>>>>>\n"
     ]
    },
    {
     "data": {
      "text/html": [
       "<div>\n",
       "<style scoped>\n",
       "    .dataframe tbody tr th:only-of-type {\n",
       "        vertical-align: middle;\n",
       "    }\n",
       "\n",
       "    .dataframe tbody tr th {\n",
       "        vertical-align: top;\n",
       "    }\n",
       "\n",
       "    .dataframe thead th {\n",
       "        text-align: right;\n",
       "    }\n",
       "</style>\n",
       "<table border=\"1\" class=\"dataframe\">\n",
       "  <thead>\n",
       "    <tr style=\"text-align: right;\">\n",
       "      <th></th>\n",
       "      <th>train_loss</th>\n",
       "      <th>train_Accuracy</th>\n",
       "      <th>val_loss</th>\n",
       "      <th>val_Accuracy</th>\n",
       "      <th>epoch</th>\n",
       "    </tr>\n",
       "  </thead>\n",
       "  <tbody>\n",
       "    <tr>\n",
       "      <th>0</th>\n",
       "      <td>0.631798</td>\n",
       "      <td>0.632641</td>\n",
       "      <td>0.629549</td>\n",
       "      <td>0.633938</td>\n",
       "      <td>1</td>\n",
       "    </tr>\n",
       "    <tr>\n",
       "      <th>1</th>\n",
       "      <td>0.631204</td>\n",
       "      <td>0.634234</td>\n",
       "      <td>0.630637</td>\n",
       "      <td>0.636531</td>\n",
       "      <td>2</td>\n",
       "    </tr>\n",
       "    <tr>\n",
       "      <th>2</th>\n",
       "      <td>0.630775</td>\n",
       "      <td>0.634086</td>\n",
       "      <td>0.630491</td>\n",
       "      <td>0.634500</td>\n",
       "      <td>3</td>\n",
       "    </tr>\n",
       "    <tr>\n",
       "      <th>3</th>\n",
       "      <td>0.630287</td>\n",
       "      <td>0.634852</td>\n",
       "      <td>0.627049</td>\n",
       "      <td>0.638375</td>\n",
       "      <td>4</td>\n",
       "    </tr>\n",
       "    <tr>\n",
       "      <th>4</th>\n",
       "      <td>0.629805</td>\n",
       "      <td>0.634695</td>\n",
       "      <td>0.628584</td>\n",
       "      <td>0.636875</td>\n",
       "      <td>5</td>\n",
       "    </tr>\n",
       "    <tr>\n",
       "      <th>5</th>\n",
       "      <td>0.630063</td>\n",
       "      <td>0.635313</td>\n",
       "      <td>0.627568</td>\n",
       "      <td>0.637031</td>\n",
       "      <td>6</td>\n",
       "    </tr>\n",
       "    <tr>\n",
       "      <th>6</th>\n",
       "      <td>0.629437</td>\n",
       "      <td>0.637414</td>\n",
       "      <td>0.630971</td>\n",
       "      <td>0.631000</td>\n",
       "      <td>7</td>\n",
       "    </tr>\n",
       "    <tr>\n",
       "      <th>7</th>\n",
       "      <td>0.629841</td>\n",
       "      <td>0.636234</td>\n",
       "      <td>0.632828</td>\n",
       "      <td>0.627938</td>\n",
       "      <td>8</td>\n",
       "    </tr>\n",
       "    <tr>\n",
       "      <th>8</th>\n",
       "      <td>0.629348</td>\n",
       "      <td>0.637172</td>\n",
       "      <td>0.625653</td>\n",
       "      <td>0.638281</td>\n",
       "      <td>9</td>\n",
       "    </tr>\n",
       "  </tbody>\n",
       "</table>\n",
       "</div>"
      ],
      "text/plain": [
       "   train_loss  train_Accuracy  val_loss  val_Accuracy  epoch\n",
       "0    0.631798        0.632641  0.629549      0.633938      1\n",
       "1    0.631204        0.634234  0.630637      0.636531      2\n",
       "2    0.630775        0.634086  0.630491      0.634500      3\n",
       "3    0.630287        0.634852  0.627049      0.638375      4\n",
       "4    0.629805        0.634695  0.628584      0.636875      5\n",
       "5    0.630063        0.635313  0.627568      0.637031      6\n",
       "6    0.629437        0.637414  0.630971      0.631000      7\n",
       "7    0.629841        0.636234  0.632828      0.627938      8\n",
       "8    0.629348        0.637172  0.625653      0.638281      9"
      ]
     },
     "execution_count": 48,
     "metadata": {},
     "output_type": "execute_result"
    }
   ],
   "source": [
    "train_model(\n",
    "    naive_model, optimizer,\n",
    "    loss_fn, metrics_dict=metric_dict,\n",
    "    train_dataloader=train_dataloader, val_dataloader=val_dataloader,\n",
    "    monitor=\"val_Accuracy\", mode=\"max\",\n",
    "    epochs=50\n",
    "    )"
   ]
  },
  {
   "cell_type": "markdown",
   "metadata": {},
   "source": [
    "# ROC"
   ]
  },
  {
   "cell_type": "code",
   "execution_count": 49,
   "metadata": {},
   "outputs": [],
   "source": [
    "from analysis import predict"
   ]
  },
  {
   "cell_type": "code",
   "execution_count": 50,
   "metadata": {},
   "outputs": [
    {
     "name": "stderr",
     "output_type": "stream",
     "text": [
      "100%|██████████| 125/125 [00:00<00:00, 504.09it/s]\n"
     ]
    }
   ],
   "source": [
    "targets, predictions = predict(naive_model, val_dataloader)"
   ]
  },
  {
   "cell_type": "code",
   "execution_count": 51,
   "metadata": {},
   "outputs": [
    {
     "name": "stdout",
     "output_type": "stream",
     "text": [
      "0.684023185546875\n"
     ]
    },
    {
     "data": {
      "image/png": "[encoded data removed]",
      "text/plain": [
       "<Figure size 640x480 with 1 Axes>"
      ]
     },
     "metadata": {},
     "output_type": "display_data"
    }
   ],
   "source": [
    "from analysis import calculate_auc\n",
    "from visualize import plot_roc_curve\n",
    "fpr, tpr, auc_roc = calculate_auc(targets, predictions)\n",
    "print(auc_roc)\n",
    "fpr_dict[str(sig_lambda)] = fpr\n",
    "tpr_dict[str(sig_lambda)] = tpr\n",
    "auc_dict[str(sig_lambda)] = auc_roc\n",
    "plot_roc_curve(fpr_dict, tpr_dict, auc_dict, \"ROC Curve\")"
   ]
  },
  {
   "cell_type": "markdown",
   "metadata": {},
   "source": [
    "# Test statistics"
   ]
  },
  {
   "cell_type": "code",
   "execution_count": 52,
   "metadata": {},
   "outputs": [],
   "source": [
    "import analysis\n",
    "import importlib\n",
    "importlib.reload(analysis)\n",
    "from analysis import Bootstrap_Permutation"
   ]
  },
  {
   "cell_type": "code",
   "execution_count": 53,
   "metadata": {},
   "outputs": [],
   "source": [
    "bootstrap_permutation = Bootstrap_Permutation(X2, W2, naive_model, pi, normalizer)"
   ]
  },
  {
   "cell_type": "code",
   "execution_count": 54,
   "metadata": {},
   "outputs": [
    {
     "name": "stderr",
     "output_type": "stream",
     "text": [
      "100%|██████████| 1000/1000 [00:47<00:00, 20.88it/s]\n"
     ]
    }
   ],
   "source": [
    "lrt_null_bootstarp, auc_null_bootstarp, mce_null_bootstarp = bootstrap_permutation.bootstrap(1000)"
   ]
  },
  {
   "cell_type": "code",
   "execution_count": 55,
   "metadata": {},
   "outputs": [
    {
     "name": "stderr",
     "output_type": "stream",
     "text": [
      "100%|██████████| 1000/1000 [00:47<00:00, 20.93it/s]\n"
     ]
    }
   ],
   "source": [
    "lrt_null_permutation, auc_null_permutation, mce_null_permutation = bootstrap_permutation.permutation(1000)"
   ]
  },
  {
   "cell_type": "code",
   "execution_count": 56,
   "metadata": {},
   "outputs": [
    {
     "data": {
      "image/png": "[encoded data removed]",
      "text/plain": [
       "<Figure size 640x480 with 1 Axes>"
      ]
     },
     "metadata": {},
     "output_type": "display_data"
    }
   ],
   "source": [
    "plt.hist(mce_null_bootstarp, bins=50, alpha=0.5, label=\"bootstrap p value = {}\".format(bootstrap_permutation.mce_p_bootstrap))\n",
    "plt.hist(mce_null_permutation, bins=50, alpha=0.5, label=\"permutation p value = {}\".format(bootstrap_permutation.mce_p_permutation))\n",
    "plt.axvline(bootstrap_permutation.mce_exp, color='r', label=\"exp\")\n",
    "plt.legend()\n",
    "plt.title(\"MCE Null Distribution lambda = {}\".format(sig_lambda))\n",
    "plt.show()"
   ]
  },
  {
   "cell_type": "code",
   "execution_count": 57,
   "metadata": {},
   "outputs": [
    {
     "data": {
      "image/png": "[encoded data removed]",
      "text/plain": [
       "<Figure size 640x480 with 1 Axes>"
      ]
     },
     "metadata": {},
     "output_type": "display_data"
    }
   ],
   "source": [
    "plt.hist(lrt_null_bootstarp, bins=50, alpha=0.5, label=\"bootstrap p value = {}\".format(bootstrap_permutation.lrt_p_bootstrap))\n",
    "plt.hist(lrt_null_permutation, bins=50, alpha=0.5, label=\"permutation p value = {}\".format(bootstrap_permutation.lrt_p_permutation))\n",
    "plt.axvline(bootstrap_permutation.lrt_exp, color='r', label=\"exp\")\n",
    "plt.legend()\n",
    "plt.title(\"LRT Null Distribution lambda = {}\".format(sig_lambda))\n",
    "plt.show()"
   ]
  },
  {
   "cell_type": "code",
   "execution_count": 58,
   "metadata": {},
   "outputs": [
    {
     "data": {
      "image/png": "[encoded data removed]",
      "text/plain": [
       "<Figure size 640x480 with 1 Axes>"
      ]
     },
     "metadata": {},
     "output_type": "display_data"
    }
   ],
   "source": [
    "plt.hist(auc_null_bootstarp, bins=50, alpha=0.5, label=\"bootstrap p value = {}\".format(bootstrap_permutation.auc_p_bootstrap))\n",
    "plt.hist(auc_null_permutation, bins=50, alpha=0.5, label=\"permutation p value = {}\".format(bootstrap_permutation.auc_p_permutation))\n",
    "plt.axvline(bootstrap_permutation.auc_exp, color='r', label=\"exp\")\n",
    "plt.legend()\n",
    "plt.title(\"AUC Null Distribution lambda = {}\".format(sig_lambda))\n",
    "plt.show()"
   ]
  },
  {
   "cell_type": "markdown",
   "metadata": {},
   "source": [
    "# Estimate signal strength"
   ]
  },
  {
   "cell_type": "code",
   "execution_count": 59,
   "metadata": {},
   "outputs": [],
   "source": [
    "from analysis import LambdaEstimator"
   ]
  },
  {
   "cell_type": "code",
   "execution_count": 60,
   "metadata": {},
   "outputs": [
    {
     "name": "stdout",
     "output_type": "stream",
     "text": [
      "estimated lambda: 0.546656111080734\n",
      "beta 0 = 0.049170238981811144, beta 1 = -0.8402745437923033\n",
      "last bin height: 0.453343888919266\n"
     ]
    },
    {
     "data": {
      "image/png": "[encoded data removed]",
      "text/plain": [
       "<Figure size 640x480 with 1 Axes>"
      ]
     },
     "metadata": {},
     "output_type": "display_data"
    }
   ],
   "source": [
    "lambda_estimator = LambdaEstimator(X2, W2, naive_model, T=0.5, n_bins=20, normalizer=normalizer)\n",
    "print(\"estimated lambda:\", lambda_estimator.estimated_lambda)\n",
    "print(\"beta 0 = {}, beta 1 = {}\".format(lambda_estimator.beta0, lambda_estimator.beta1))\n",
    "print(\"last bin height:\", lambda_estimator.estimated_H_t[-1])\n",
    "plt.hist(lambda_estimator.rho_W, bins=lambda_estimator.bins, alpha=0.5, edgecolor='black', density=True)\n",
    "start_idx = lambda_estimator.fit_start_idx\n",
    "plt.plot(lambda_estimator.bins[start_idx:], lambda_estimator.estimated_H_t, label=\"Estimated\")\n",
    "plt.plot(lambda_estimator.bins[1:], lambda_estimator.H_t, '*',label=\"True\")\n",
    "plt.legend()\n",
    "plt.title(\"Estimated λ = {:.2f}, true λ = {}\".format(lambda_estimator.estimated_lambda, sig_lambda))\n",
    "plt.show()"
   ]
  },
  {
   "cell_type": "markdown",
   "metadata": {},
   "source": [
    "# Bootstrapped Uncertainty Intervals for λ"
   ]
  },
  {
   "cell_type": "code",
   "execution_count": 61,
   "metadata": {},
   "outputs": [],
   "source": [
    "lambda_mean_dict = {}\n",
    "lambda_std_dict = {}\n",
    "\n",
    "lrt_p_permutation_dict = {}\n",
    "lrt_p_bootstrap_dict = {}\n",
    "auc_p_permutation_dict = {}\n",
    "auc_p_bootstrap_dict = {}\n",
    "mce_p_permutation_dict = {}\n",
    "mce_p_bootstrap_dict = {}"
   ]
  },
  {
   "cell_type": "code",
   "execution_count": 35,
   "metadata": {},
   "outputs": [],
   "source": [
    "import importlib\n",
    "import classify\n",
    "import analysis\n",
    "importlib.reload(classify)\n",
    "importlib.reload(analysis)\n",
    "from classify import train_model\n",
    "from analysis import Bootstrap_Permutation\n",
    "opt_train_model  = torch.compile(train_model)"
   ]
  },
  {
   "cell_type": "code",
   "execution_count": 36,
   "metadata": {},
   "outputs": [
    {
     "name": "stdout",
     "output_type": "stream",
     "text": [
      "<<<<<< val_Accuracy without improvement in 5 epoch, early stopping >>>>>>\n",
      "<<<<<< val_Accuracy without improvement in 5 epoch, early stopping >>>>>>\n",
      "<<<<<< val_Accuracy without improvement in 5 epoch, early stopping >>>>>>\n",
      "<<<<<< val_Accuracy without improvement in 5 epoch, early stopping >>>>>>\n",
      "<<<<<< val_Accuracy without improvement in 5 epoch, early stopping >>>>>>\n",
      "<<<<<< val_Accuracy without improvement in 5 epoch, early stopping >>>>>>\n",
      "<<<<<< val_Accuracy without improvement in 5 epoch, early stopping >>>>>>\n",
      "<<<<<< val_Accuracy without improvement in 5 epoch, early stopping >>>>>>\n",
      "<<<<<< val_Accuracy without improvement in 5 epoch, early stopping >>>>>>\n",
      "<<<<<< val_Accuracy without improvement in 5 epoch, early stopping >>>>>>\n",
      "sig_lambda: 0 estimated lambda mean: 0.03506350110521443 estimated lambda std: 0.09178497945402851\n",
      "<<<<<< val_Accuracy without improvement in 5 epoch, early stopping >>>>>>\n",
      "<<<<<< val_Accuracy without improvement in 5 epoch, early stopping >>>>>>\n",
      "<<<<<< val_Accuracy without improvement in 5 epoch, early stopping >>>>>>\n",
      "<<<<<< val_Accuracy without improvement in 5 epoch, early stopping >>>>>>\n",
      "<<<<<< val_Accuracy without improvement in 5 epoch, early stopping >>>>>>\n",
      "<<<<<< val_Accuracy without improvement in 5 epoch, early stopping >>>>>>\n",
      "<<<<<< val_Accuracy without improvement in 5 epoch, early stopping >>>>>>\n",
      "<<<<<< val_Accuracy without improvement in 5 epoch, early stopping >>>>>>\n",
      "<<<<<< val_Accuracy without improvement in 5 epoch, early stopping >>>>>>\n",
      "<<<<<< val_Accuracy without improvement in 5 epoch, early stopping >>>>>>\n",
      "sig_lambda: 0.01 estimated lambda mean: 0.05803511734166302 estimated lambda std: 0.13216220373688625\n",
      "<<<<<< val_Accuracy without improvement in 5 epoch, early stopping >>>>>>\n",
      "<<<<<< val_Accuracy without improvement in 5 epoch, early stopping >>>>>>\n",
      "<<<<<< val_Accuracy without improvement in 5 epoch, early stopping >>>>>>\n",
      "<<<<<< val_Accuracy without improvement in 5 epoch, early stopping >>>>>>\n",
      "<<<<<< val_Accuracy without improvement in 5 epoch, early stopping >>>>>>\n",
      "<<<<<< val_Accuracy without improvement in 5 epoch, early stopping >>>>>>\n",
      "<<<<<< val_Accuracy without improvement in 5 epoch, early stopping >>>>>>\n",
      "<<<<<< val_Accuracy without improvement in 5 epoch, early stopping >>>>>>\n",
      "<<<<<< val_Accuracy without improvement in 5 epoch, early stopping >>>>>>\n",
      "<<<<<< val_Accuracy without improvement in 5 epoch, early stopping >>>>>>\n",
      "sig_lambda: 0.05 estimated lambda mean: 0.04378289638942201 estimated lambda std: 0.016750645377288816\n",
      "<<<<<< val_Accuracy without improvement in 5 epoch, early stopping >>>>>>\n",
      "<<<<<< val_Accuracy without improvement in 5 epoch, early stopping >>>>>>\n",
      "<<<<<< val_Accuracy without improvement in 5 epoch, early stopping >>>>>>\n",
      "<<<<<< val_Accuracy without improvement in 5 epoch, early stopping >>>>>>\n",
      "<<<<<< val_Accuracy without improvement in 5 epoch, early stopping >>>>>>\n",
      "<<<<<< val_Accuracy without improvement in 5 epoch, early stopping >>>>>>\n",
      "<<<<<< val_Accuracy without improvement in 5 epoch, early stopping >>>>>>\n",
      "<<<<<< val_Accuracy without improvement in 5 epoch, early stopping >>>>>>\n",
      "<<<<<< val_Accuracy without improvement in 5 epoch, early stopping >>>>>>\n",
      "<<<<<< val_Accuracy without improvement in 5 epoch, early stopping >>>>>>\n",
      "sig_lambda: 0.1 estimated lambda mean: 0.1142440647244087 estimated lambda std: 0.02177568198868179\n",
      "<<<<<< val_Accuracy without improvement in 5 epoch, early stopping >>>>>>\n",
      "<<<<<< val_Accuracy without improvement in 5 epoch, early stopping >>>>>>\n",
      "<<<<<< val_Accuracy without improvement in 5 epoch, early stopping >>>>>>\n",
      "<<<<<< val_Accuracy without improvement in 5 epoch, early stopping >>>>>>\n",
      "<<<<<< val_Accuracy without improvement in 5 epoch, early stopping >>>>>>\n",
      "<<<<<< val_Accuracy without improvement in 5 epoch, early stopping >>>>>>\n",
      "<<<<<< val_Accuracy without improvement in 5 epoch, early stopping >>>>>>\n",
      "<<<<<< val_Accuracy without improvement in 5 epoch, early stopping >>>>>>\n",
      "<<<<<< val_Accuracy without improvement in 5 epoch, early stopping >>>>>>\n",
      "<<<<<< val_Accuracy without improvement in 5 epoch, early stopping >>>>>>\n",
      "sig_lambda: 0.2 estimated lambda mean: 0.23461821887378553 estimated lambda std: 0.0210289748657048\n",
      "<<<<<< val_Accuracy without improvement in 5 epoch, early stopping >>>>>>\n",
      "<<<<<< val_Accuracy without improvement in 5 epoch, early stopping >>>>>>\n",
      "<<<<<< val_Accuracy without improvement in 5 epoch, early stopping >>>>>>\n",
      "<<<<<< val_Accuracy without improvement in 5 epoch, early stopping >>>>>>\n",
      "<<<<<< val_Accuracy without improvement in 5 epoch, early stopping >>>>>>\n",
      "<<<<<< val_Accuracy without improvement in 5 epoch, early stopping >>>>>>\n",
      "<<<<<< val_Accuracy without improvement in 5 epoch, early stopping >>>>>>\n",
      "<<<<<< val_Accuracy without improvement in 5 epoch, early stopping >>>>>>\n",
      "<<<<<< val_Accuracy without improvement in 5 epoch, early stopping >>>>>>\n",
      "<<<<<< val_Accuracy without improvement in 5 epoch, early stopping >>>>>>\n",
      "sig_lambda: 0.3 estimated lambda mean: 0.3249648464398779 estimated lambda std: 0.02058492725241136\n",
      "<<<<<< val_Accuracy without improvement in 5 epoch, early stopping >>>>>>\n",
      "<<<<<< val_Accuracy without improvement in 5 epoch, early stopping >>>>>>\n",
      "<<<<<< val_Accuracy without improvement in 5 epoch, early stopping >>>>>>\n",
      "<<<<<< val_Accuracy without improvement in 5 epoch, early stopping >>>>>>\n",
      "<<<<<< val_Accuracy without improvement in 5 epoch, early stopping >>>>>>\n",
      "<<<<<< val_Accuracy without improvement in 5 epoch, early stopping >>>>>>\n",
      "<<<<<< val_Accuracy without improvement in 5 epoch, early stopping >>>>>>\n",
      "<<<<<< val_Accuracy without improvement in 5 epoch, early stopping >>>>>>\n",
      "<<<<<< val_Accuracy without improvement in 5 epoch, early stopping >>>>>>\n",
      "<<<<<< val_Accuracy without improvement in 5 epoch, early stopping >>>>>>\n",
      "sig_lambda: 0.4 estimated lambda mean: 0.4382613804570494 estimated lambda std: 0.017731925699149706\n",
      "<<<<<< val_Accuracy without improvement in 5 epoch, early stopping >>>>>>\n",
      "<<<<<< val_Accuracy without improvement in 5 epoch, early stopping >>>>>>\n",
      "<<<<<< val_Accuracy without improvement in 5 epoch, early stopping >>>>>>\n",
      "<<<<<< val_Accuracy without improvement in 5 epoch, early stopping >>>>>>\n",
      "<<<<<< val_Accuracy without improvement in 5 epoch, early stopping >>>>>>\n",
      "<<<<<< val_Accuracy without improvement in 5 epoch, early stopping >>>>>>\n",
      "<<<<<< val_Accuracy without improvement in 5 epoch, early stopping >>>>>>\n",
      "<<<<<< val_Accuracy without improvement in 5 epoch, early stopping >>>>>>\n",
      "<<<<<< val_Accuracy without improvement in 5 epoch, early stopping >>>>>>\n",
      "<<<<<< val_Accuracy without improvement in 5 epoch, early stopping >>>>>>\n",
      "sig_lambda: 0.5 estimated lambda mean: 0.5450681634285909 estimated lambda std: 0.0156408894128403\n"
     ]
    }
   ],
   "source": [
    "n_bootstrap = 10\n",
    "\n",
    "\n",
    "test_ratio=0.2\n",
    "val_ratio = 0.2\n",
    "n = 100000\n",
    "n_null = 1000\n",
    "test_signal = 'neutral_boson'\n",
    "significance = 0.05\n",
    "\n",
    "\n",
    "test_lambdas = [0, 0.01, 0.05, 0.1, 0.2, 0.3, 0.4, 0.5]\n",
    "for i in range(len(test_lambdas)):\n",
    "    sig_lambda = test_lambdas[i]\n",
    "\n",
    "    estimated_lambdas = np.zeros(n_bootstrap)\n",
    "\n",
    "    lrt_permutation_power = 0\n",
    "    lrt_bootstrap_power = 0\n",
    "    auc_permutation_power = 0\n",
    "    auc_bootstrap_power = 0\n",
    "    mce_permutation_power = 0\n",
    "    mce_bootstrap_power = 0\n",
    "    for j in range(n_bootstrap):\n",
    "        exp_events, bkg_events = create_exp_bkg_events(embedding_points['SM'], embedding_points[test_signal], sig_lambda, n)\n",
    "        X1, X2, W1, W2 = train_test_split(exp_events, bkg_events, test_ratio)\n",
    "        n1 = len(W1)\n",
    "        m1 = len(X1)\n",
    "        n2 = len(W2)\n",
    "        m2 = len(X2)\n",
    "        train_dataloader, val_dataloader = get_dataloaders(X1, W1, val_ratio, normalizer)\n",
    "\n",
    "        hidden_dim = [8, 16, 16, 16, 8]\n",
    "        naive_model = MLP(output_dim, hidden_sizes=hidden_dim)\n",
    "        naive_model.to(device)\n",
    "        optimizer = torch.optim.Adam(naive_model.parameters(), lr=1e-3, weight_decay=1e-5)\n",
    "        loss_fn = nn.BCELoss()\n",
    "        acc_metric = BinaryACCUpdater()\n",
    "        metric_dict = {\"Accuracy\": acc_metric}\n",
    "\n",
    "        train_model(\n",
    "            naive_model, optimizer,\n",
    "            loss_fn, metrics_dict=metric_dict,\n",
    "            train_dataloader=train_dataloader, val_dataloader=val_dataloader,\n",
    "            monitor=\"val_Accuracy\", mode=\"max\",\n",
    "            epochs=50,\n",
    "            verbose=False\n",
    "            )\n",
    "        \n",
    "        bootstrap_permutation = Bootstrap_Permutation(X2, W2, naive_model, pi, normalizer)\n",
    "        _, _, _ = bootstrap_permutation.bootstrap(n_null, verbose=False)\n",
    "        _, _, _ = bootstrap_permutation.permutation(n_null, verbose=False)\n",
    "        if bootstrap_permutation.lrt_p_permutation < significance:\n",
    "            lrt_permutation_power += 1\n",
    "        if bootstrap_permutation.lrt_p_bootstrap < significance:\n",
    "            lrt_bootstrap_power += 1\n",
    "        if bootstrap_permutation.auc_p_permutation < significance:\n",
    "            auc_permutation_power += 1\n",
    "        if bootstrap_permutation.auc_p_bootstrap < significance:\n",
    "            auc_bootstrap_power += 1\n",
    "        if bootstrap_permutation.mce_p_permutation < significance:\n",
    "            mce_permutation_power += 1\n",
    "        if bootstrap_permutation.mce_p_bootstrap < significance:\n",
    "            mce_bootstrap_power += 1\n",
    "\n",
    "        lambda_estimator = LambdaEstimator(X2, W2, naive_model, T=0.5, n_bins=20, normalizer=normalizer)\n",
    "        estimated_lambdas[j] = lambda_estimator.estimated_lambda\n",
    "    print(\"sig_lambda:\", sig_lambda, \"estimated lambda mean:\", estimated_lambdas.mean(), \"estimated lambda std:\", estimated_lambdas.std())\n",
    "    lambda_mean_dict[str(sig_lambda)] = estimated_lambdas.mean()\n",
    "    lambda_std_dict[str(sig_lambda)] = estimated_lambdas.std(ddof = 1)\n",
    "    lrt_p_permutation_dict[str(sig_lambda)] = lrt_permutation_power\n",
    "    lrt_p_bootstrap_dict[str(sig_lambda)] = lrt_bootstrap_power\n",
    "    auc_p_permutation_dict[str(sig_lambda)] = auc_permutation_power\n",
    "    auc_p_bootstrap_dict[str(sig_lambda)] = auc_bootstrap_power\n",
    "    mce_p_permutation_dict[str(sig_lambda)] = mce_permutation_power\n",
    "    mce_p_bootstrap_dict[str(sig_lambda)] = mce_bootstrap_power\n"
   ]
  },
  {
   "cell_type": "code",
   "execution_count": 37,
   "metadata": {},
   "outputs": [
    {
     "name": "stdout",
     "output_type": "stream",
     "text": [
      "[0.52787578 0.5498452  0.54633062 0.55651354 0.54156377 0.58069108\n",
      " 0.52961261 0.54803858 0.5466788  0.52353165]\n",
      "{'0': 0.03506350110521443, '0.01': 0.05803511734166302, '0.05': 0.04378289638942201, '0.1': 0.1142440647244087, '0.2': 0.23461821887378553, '0.3': 0.3249648464398779, '0.4': 0.4382613804570494, '0.5': 0.5450681634285909}\n",
      "{'0': 0.09674986335549603, '0.01': 0.13931119479859244, '0.05': 0.01765673055666772, '0.1': 0.022953584229246458, '0.2': 0.022166485811353543, '0.3': 0.021698418528830563, '0.4': 0.018691090836728895, '0.5': 0.016486945058463}\n"
     ]
    }
   ],
   "source": [
    "print(estimated_lambdas)\n",
    "print(lambda_mean_dict)\n",
    "print(lambda_std_dict)"
   ]
  },
  {
   "cell_type": "code",
   "execution_count": 38,
   "metadata": {},
   "outputs": [],
   "source": [
    "from visualize import plot_lambda"
   ]
  },
  {
   "cell_type": "code",
   "execution_count": 39,
   "metadata": {},
   "outputs": [
    {
     "data": {
      "image/png": "[encoded data removed]",
      "text/plain": [
       "<Figure size 640x480 with 1 Axes>"
      ]
     },
     "metadata": {},
     "output_type": "display_data"
    }
   ],
   "source": [
    "plot_lambda(lambda_mean_dict, lambda_std_dict)"
   ]
  },
  {
   "cell_type": "code",
   "execution_count": 40,
   "metadata": {},
   "outputs": [
    {
     "name": "stdout",
     "output_type": "stream",
     "text": [
      "{'0': 3, '0.01': 2, '0.05': 10, '0.1': 10, '0.2': 10, '0.3': 10, '0.4': 10, '0.5': 10}\n",
      "{'0': 0, '0.01': 1, '0.05': 10, '0.1': 10, '0.2': 10, '0.3': 10, '0.4': 10, '0.5': 10}\n",
      "{'0': 1, '0.01': 2, '0.05': 10, '0.1': 10, '0.2': 10, '0.3': 10, '0.4': 10, '0.5': 10}\n",
      "{'0': 2, '0.01': 2, '0.05': 10, '0.1': 10, '0.2': 10, '0.3': 10, '0.4': 10, '0.5': 10}\n",
      "{'0': 3, '0.01': 4, '0.05': 10, '0.1': 10, '0.2': 10, '0.3': 10, '0.4': 10, '0.5': 10}\n",
      "{'0': 3, '0.01': 4, '0.05': 10, '0.1': 10, '0.2': 10, '0.3': 10, '0.4': 10, '0.5': 10}\n"
     ]
    }
   ],
   "source": [
    "print(lrt_p_permutation_dict)\n",
    "print(lrt_p_bootstrap_dict)\n",
    "print(auc_p_permutation_dict)\n",
    "print(auc_p_bootstrap_dict)\n",
    "print(mce_p_permutation_dict)\n",
    "print(mce_p_bootstrap_dict)"
   ]
  },
  {
   "cell_type": "code",
   "execution_count": null,
   "metadata": {},
   "outputs": [],
   "source": []
  }
 ],
 "metadata": {
  "kernelspec": {
   "display_name": "ad",
   "language": "python",
   "name": "python3"
  },
  "language_info": {
   "codemirror_mode": {
    "name": "ipython",
    "version": 3
   },
   "file_extension": ".py",
   "mimetype": "text/x-python",
   "name": "python",
   "nbconvert_exporter": "python",
   "pygments_lexer": "ipython3",
   "version": "3.11.8"
  }
 },
 "nbformat": 4,
 "nbformat_minor": 2
}
