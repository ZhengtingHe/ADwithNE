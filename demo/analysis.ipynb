{
 "cells": [
  {
   "cell_type": "code",
   "execution_count": 1,
   "metadata": {},
   "outputs": [],
   "source": [
    "import torch\n",
    "from torch import nn\n",
    "import numpy as np\n",
    "import sys\n",
    "import os\n",
    "import pandas as pd\n",
    "from torch.utils.data import Dataset, DataLoader\n",
    "from tqdm import tqdm\n",
    "\n",
    "\n",
    "sys.path.append(\"..\")\n",
    "from model import ParticleEventTransformer\n",
    "from data import get_database_path, get_h5_files, read_h5_file, select_events\n",
    "from utils import load_toml_config\n",
    "\n",
    "\n",
    "device = \"cuda\" if torch.cuda.is_available() else \"mps\" if sys.platform == \"darwin\" else \"cpu\"\n"
   ]
  },
  {
   "cell_type": "code",
   "execution_count": 2,
   "metadata": {},
   "outputs": [],
   "source": [
    "EMD_config = load_toml_config(\"EMD\")\n",
    "particle_type_scale = EMD_config['particle_type_scale']"
   ]
  },
  {
   "cell_type": "code",
   "execution_count": 3,
   "metadata": {},
   "outputs": [
    {
     "name": "stdout",
     "output_type": "stream",
     "text": [
      "dict_keys(['SM', 'neutral_boson', 'leptoquark', 'neutral_Higgs', 'charged_Higgs'])\n"
     ]
    }
   ],
   "source": [
    "files = load_toml_config(\"file\")\n",
    "database_path = get_database_path()\n",
    "bkg_files, sig_files = get_h5_files()\n",
    "\n",
    "print(files.keys())\n",
    "bkg = read_h5_file(database_path, files[\"SM\"])\n",
    "# SM processes\n",
    "\n",
    "neutral_boson = read_h5_file(database_path, files[\"neutral_boson\"])\n",
    "# A neutral scalar boson (A) with mass 50 GeV, decaying to two off-shell Z bosons, each forced to decay to two leptons: A → 4l\n",
    "\n",
    "leptoquark = read_h5_file(database_path, files[\"leptoquark\"])\n",
    "# A leptoquark (LQ) with mass 80 GeV, decaying to a b quark and a τ lepton24\n",
    "\n",
    "neutral_Higgs = read_h5_file(database_path, files[\"neutral_Higgs\"])\n",
    "# A scalar boson with mass 60 GeV, decaying to two tau leptons: h0→ ττ\n",
    "\n",
    "charged_Higgs = read_h5_file(database_path, files[\"charged_Higgs\"])\n",
    "# A charged scalar boson with mass 60 GeV, decaying to a tau lepton and a neutrino"
   ]
  },
  {
   "cell_type": "code",
   "execution_count": 4,
   "metadata": {},
   "outputs": [
    {
     "name": "stdout",
     "output_type": "stream",
     "text": [
      "{'feature_size': 3, 'embed_size': 16, 'num_heads': 8, 'num_layers': 4, 'hidden_dim': 256, 'output_dim': 4}\n"
     ]
    },
    {
     "name": "stderr",
     "output_type": "stream",
     "text": [
      "/home/desmondhe/anaconda3/envs/ad/lib/python3.11/site-packages/torch/nn/modules/transformer.py:286: UserWarning: enable_nested_tensor is True, but self.use_nested_tensor is False because encoder_layer.self_attn.batch_first was not True(use batch_first for better inference performance)\n",
      "  warnings.warn(f\"enable_nested_tensor is True, but self.use_nested_tensor is False because {why_not_sparsity_fast_path}\")\n"
     ]
    }
   ],
   "source": [
    "model_hyper_parameters = load_toml_config(\"Transformer\")\n",
    "print(model_hyper_parameters)\n",
    "feature_size = model_hyper_parameters[\"feature_size\"]\n",
    "embed_size = model_hyper_parameters[\"embed_size\"]\n",
    "num_heads = model_hyper_parameters[\"num_heads\"]\n",
    "num_layers = model_hyper_parameters[\"num_layers\"]\n",
    "hidden_dim = model_hyper_parameters[\"hidden_dim\"]\n",
    "output_dim = model_hyper_parameters[\"output_dim\"]\n",
    "\n",
    "model = ParticleEventTransformer(feature_size, embed_size, num_heads, hidden_dim, output_dim, num_layers)"
   ]
  },
  {
   "cell_type": "code",
   "execution_count": 5,
   "metadata": {},
   "outputs": [],
   "source": [
    "from analysis import inference"
   ]
  },
  {
   "cell_type": "code",
   "execution_count": 6,
   "metadata": {},
   "outputs": [],
   "source": [
    "from data import EventDataset"
   ]
  },
  {
   "cell_type": "code",
   "execution_count": 7,
   "metadata": {},
   "outputs": [],
   "source": [
    "infer_test_num = 1000000\n",
    "bkg_infer_test = bkg[:infer_test_num]\n",
    "infer_dataset = EventDataset(bkg_infer_test)\n",
    "infer_dataloader = DataLoader(infer_dataset, batch_size=256, num_workers=16, prefetch_factor=5)\n",
    "\n",
    "neutral_boson_infer_test = neutral_boson[:infer_test_num]\n",
    "neutral_boson_infer_dataset = EventDataset(neutral_boson_infer_test)\n",
    "neutral_boson_infer_dataloader = DataLoader(neutral_boson_infer_dataset, batch_size=256, num_workers=16, prefetch_factor=5)\n",
    "\n",
    "leptoquark_infer_test = leptoquark[:infer_test_num]\n",
    "leptoquark_infer_dataset = EventDataset(leptoquark_infer_test)\n",
    "leptoquark_infer_dataloader = DataLoader(leptoquark_infer_dataset, batch_size=256, num_workers=16, prefetch_factor=5)\n",
    "\n",
    "neutral_Higgs_infer_test = neutral_Higgs[:infer_test_num]\n",
    "neutral_Higgs_infer_dataset = EventDataset(neutral_Higgs_infer_test)\n",
    "neutral_Higgs_infer_dataloader = DataLoader(neutral_Higgs_infer_dataset, batch_size=256, num_workers=16, prefetch_factor=5)\n",
    "\n",
    "charged_Higgs_infer_test = charged_Higgs[:infer_test_num]\n",
    "charged_Higgs_infer_dataset = EventDataset(charged_Higgs_infer_test)\n",
    "charged_Higgs_infer_dataloader = DataLoader(charged_Higgs_infer_dataset, batch_size=256, num_workers=16, prefetch_factor=5)"
   ]
  },
  {
   "cell_type": "code",
   "execution_count": 8,
   "metadata": {},
   "outputs": [
    {
     "name": "stderr",
     "output_type": "stream",
     "text": [
      "100%|██████████| 3907/3907 [00:08<00:00, 448.37it/s]"
     ]
    },
    {
     "name": "stdout",
     "output_type": "stream",
     "text": [
      "(1000000, 4)\n"
     ]
    },
    {
     "name": "stderr",
     "output_type": "stream",
     "text": [
      "\n"
     ]
    }
   ],
   "source": [
    "model.load_state_dict(torch.load(os.path.join(\"..\", \"model\",\"emb_dim{}_type_scale{}.pt\".format(output_dim, particle_type_scale))))\n",
    "model.to(device)\n",
    "bkg_embed_points = inference(model, infer_dataloader, embed_dim=output_dim)\n",
    "print(bkg_embed_points.shape)"
   ]
  },
  {
   "cell_type": "code",
   "execution_count": 9,
   "metadata": {},
   "outputs": [
    {
     "name": "stderr",
     "output_type": "stream",
     "text": [
      "100%|██████████| 219/219 [00:01<00:00, 178.90it/s]\n",
      "100%|██████████| 1331/1331 [00:03<00:00, 387.94it/s]\n",
      "100%|██████████| 2701/2701 [00:06<00:00, 440.39it/s]\n",
      "100%|██████████| 2970/2970 [00:06<00:00, 446.25it/s]\n"
     ]
    }
   ],
   "source": [
    "neutral_boson_embed_points = inference(model, neutral_boson_infer_dataloader, embed_dim=output_dim)\n",
    "leptoquark_embed_points = inference(model, leptoquark_infer_dataloader, embed_dim=output_dim)\n",
    "neutral_Higgs_embed_points = inference(model, neutral_Higgs_infer_dataloader, embed_dim=output_dim)\n",
    "charged_Higgs_embed_points = inference(model, charged_Higgs_infer_dataloader, embed_dim=output_dim)\n"
   ]
  },
  {
   "cell_type": "code",
   "execution_count": 10,
   "metadata": {},
   "outputs": [],
   "source": [
    "class ClassifyDataset(Dataset):\n",
    "    def __init__(self, exp_events ,bkg_events, lambda_=0.2, n_events=100000):\n",
    "        # Normalize the data\n",
    "        self.m_b = len(bkg_events)\n",
    "        self.n = len(exp_events)\n",
    "        self.pi = self.n / (self.m_b + self.n)\n",
    "        bkg_events = (bkg_events - bkg_events.mean()) / bkg_events.std()\n",
    "        exp_events = (exp_events - exp_events.mean()) / exp_events.std()\n",
    "\n",
    "        bkg_events = torch.from_numpy(bkg_events).float()\n",
    "        exp_events = torch.from_numpy(exp_events).float()\n",
    "        self.events = torch.cat([bkg_events, exp_events], dim=0)\n",
    "        self.labels = torch.cat([torch.zeros(len(bkg_events)), torch.ones(len(exp_events))])\n",
    "    \n",
    "    def __len__(self):\n",
    "        return len(self.events)\n",
    "    \n",
    "    def __getitem__(self, idx):\n",
    "        return self.events[idx], self.labels[idx]"
   ]
  },
  {
   "cell_type": "code",
   "execution_count": 26,
   "metadata": {},
   "outputs": [],
   "source": [
    "val_ratio = 0.2\n",
    "train_num_bkg = int(len(bkg_embed_points) * (1 - val_ratio))\n",
    "train_num_sig = int(len(charged_Higgs_embed_points) * (1 - val_ratio))\n",
    "\n",
    "sig_lambda = 0.01\n",
    "train_dataset = ClassifyDataset(bkg_embed_points[:train_num_bkg], charged_Higgs_embed_points[:train_num_sig], lambda_=sig_lambda)\n",
    "val_dataset = ClassifyDataset(bkg_embed_points[train_num_sig:], charged_Higgs_embed_points[train_num_sig:], lambda_=sig_lambda)"
   ]
  },
  {
   "cell_type": "code",
   "execution_count": 27,
   "metadata": {},
   "outputs": [],
   "source": [
    "train_dataloader = DataLoader(train_dataset, batch_size=16, shuffle=True, pin_memory=True)\n",
    "val_dataloader = DataLoader(val_dataset, batch_size=256)"
   ]
  },
  {
   "cell_type": "markdown",
   "metadata": {},
   "source": [
    "# Model"
   ]
  },
  {
   "cell_type": "code",
   "execution_count": 28,
   "metadata": {},
   "outputs": [],
   "source": [
    "class MLP(nn.Module):\n",
    "    def __init__(self, input_size, hidden_sizes):\n",
    "        super(MLP, self).__init__()\n",
    "        def make_layer(in_size, out_size):\n",
    "            layer = nn.Sequential(\n",
    "                nn.Linear(in_size, out_size),\n",
    "                nn.LeakyReLU(),\n",
    "                # nn.Dropout(0.1)\n",
    "            )\n",
    "            nn.init.kaiming_normal_(layer[0].weight, nonlinearity='leaky_relu')\n",
    "            return layer\n",
    "        self.layers = nn.Sequential(\n",
    "            make_layer(input_size, hidden_sizes[0]),\n",
    "            *[make_layer(hidden_sizes[i], hidden_sizes[i+1]) for i in range(len(hidden_sizes)-1)],\n",
    "            nn.Linear(hidden_sizes[-1], 1),\n",
    "            nn.Sigmoid()\n",
    "        )\n",
    "    \n",
    "\n",
    "    def forward(self, x):\n",
    "        return self.layers(x).reshape(-1)\n",
    "hidden_dim = [8, 16, 16, 16, 8]\n",
    "naive_model = MLP(output_dim, hidden_sizes=hidden_dim)"
   ]
  },
  {
   "cell_type": "code",
   "execution_count": 29,
   "metadata": {},
   "outputs": [],
   "source": [
    "class Deep(nn.Module):\n",
    "    def __init__(self):\n",
    "        super().__init__()\n",
    "        self.layer1 = nn.Linear(4, 8)\n",
    "        self.act1 = nn.ReLU()\n",
    "        self.layer2 = nn.Linear(8, 16)\n",
    "        self.act2 = nn.ReLU()\n",
    "        self.layer3 = nn.Linear(16, 16)\n",
    "        self.act3 = nn.ReLU()\n",
    "        self.output = nn.Linear(16, 1)\n",
    "        self.sigmoid = nn.Sigmoid()\n",
    " \n",
    "    def forward(self, x):\n",
    "        x = self.act1(self.layer1(x))\n",
    "        x = self.act2(self.layer2(x))\n",
    "        x = self.act3(self.layer3(x))\n",
    "        x = self.sigmoid(self.output(x))\n",
    "        x = x.squeeze()\n",
    "        return x\n",
    "\n",
    "naive_model = Deep()"
   ]
  },
  {
   "cell_type": "markdown",
   "metadata": {},
   "source": [
    "# Train"
   ]
  },
  {
   "cell_type": "code",
   "execution_count": 30,
   "metadata": {},
   "outputs": [],
   "source": [
    "class BinaryACCUpdater(nn.Module):\n",
    "    def __init__(self, threshold=0.5):\n",
    "        super(BinaryACCUpdater, self).__init__()\n",
    "        self.total_acc = 0\n",
    "        self.count = 0\n",
    "        self.threshold = threshold\n",
    "    def forward(self, output, label):\n",
    "        acc = (output > self.threshold).float() == label\n",
    "        mean_acc = acc.float().mean()\n",
    "        self.update(mean_acc)\n",
    "        return mean_acc\n",
    "    def update(self, metric):\n",
    "        self.total_acc += metric\n",
    "        self.count += 1\n",
    "    def compute(self):\n",
    "        return self.total_acc / self.count\n",
    "    def reset(self):\n",
    "        self.total_acc = 0\n",
    "        self.count = 0"
   ]
  },
  {
   "cell_type": "code",
   "execution_count": 31,
   "metadata": {},
   "outputs": [],
   "source": [
    "naive_model.to(device)\n",
    "optimizer = torch.optim.Adam(naive_model.parameters(), lr=1e-3, weight_decay=1e-5)\n",
    "loss_fn = nn.BCELoss()\n",
    "from torcheval.metrics import BinaryAccuracy\n",
    "acc_metric = BinaryACCUpdater()\n",
    "metric_dict = {\"Accuracy\": acc_metric}"
   ]
  },
  {
   "cell_type": "code",
   "execution_count": 32,
   "metadata": {},
   "outputs": [],
   "source": [
    "from classify import train_model"
   ]
  },
  {
   "cell_type": "code",
   "execution_count": 33,
   "metadata": {},
   "outputs": [],
   "source": [
    "opt_train_model  = torch.compile(train_model)"
   ]
  },
  {
   "cell_type": "code",
   "execution_count": 34,
   "metadata": {},
   "outputs": [
    {
     "name": "stdout",
     "output_type": "stream",
     "text": [
      "\n",
      "================================================================================2024-05-10 21:59:02\n",
      "Epoch 1 / 10\n",
      "\n",
      "100%|██████████| 12500/12500 [00:22<00:00, 554.90it/s, train_Accuracy=0.501, train_loss=0.693]\n",
      "100%|██████████| 782/782 [00:02<00:00, 355.47it/s, val_Accuracy=0.502, val_loss=0.693]  \n",
      "<<<<<< reach best val_Accuracy : 0.5021629333496094 >>>>>>\n",
      "\n",
      "================================================================================2024-05-10 21:59:27\n",
      "Epoch 2 / 10\n",
      "\n",
      "100%|██████████| 12500/12500 [00:18<00:00, 671.27it/s, train_Accuracy=0.5, train_loss=0.693]  \n",
      "100%|██████████| 782/782 [00:01<00:00, 767.38it/s, val_Accuracy=0.501, val_loss=0.693]  \n",
      "\n",
      "================================================================================2024-05-10 21:59:47\n",
      "Epoch 3 / 10\n",
      "\n",
      "100%|██████████| 12500/12500 [00:19<00:00, 633.66it/s, train_Accuracy=0.502, train_loss=0.693] \n",
      "100%|██████████| 782/782 [00:01<00:00, 744.03it/s, val_Accuracy=0.504, val_loss=0.693] \n",
      "<<<<<< reach best val_Accuracy : 0.5037364363670349 >>>>>>\n",
      "\n",
      "================================================================================2024-05-10 22:00:07\n",
      "Epoch 4 / 10\n",
      "\n",
      "100%|██████████| 12500/12500 [00:18<00:00, 681.04it/s, train_Accuracy=0.503, train_loss=0.693]\n",
      "100%|██████████| 782/782 [00:01<00:00, 730.49it/s, val_Accuracy=0.5, val_loss=0.693]  \n",
      "\n",
      "================================================================================2024-05-10 22:00:27\n",
      "Epoch 5 / 10\n",
      "\n",
      "100%|██████████| 12500/12500 [00:19<00:00, 648.89it/s, train_Accuracy=0.502, train_loss=0.693] \n",
      "100%|██████████| 782/782 [00:01<00:00, 729.52it/s, val_Accuracy=0.501, val_loss=0.693]\n",
      "\n",
      "================================================================================2024-05-10 22:00:47\n",
      "Epoch 6 / 10\n",
      "\n",
      "100%|██████████| 12500/12500 [00:18<00:00, 664.91it/s, train_Accuracy=0.502, train_loss=0.693]\n",
      "100%|██████████| 782/782 [00:01<00:00, 736.99it/s, val_Accuracy=0.504, val_loss=0.693] \n",
      "\n",
      "================================================================================2024-05-10 22:01:07\n",
      "Epoch 7 / 10\n",
      "\n",
      "100%|██████████| 12500/12500 [00:20<00:00, 622.39it/s, train_Accuracy=0.503, train_loss=0.693] \n",
      "100%|██████████| 782/782 [00:01<00:00, 753.17it/s, val_Accuracy=0.501, val_loss=0.693] \n",
      "\n",
      "================================================================================2024-05-10 22:01:28\n",
      "Epoch 8 / 10\n",
      "\n",
      "100%|██████████| 12500/12500 [00:18<00:00, 668.84it/s, train_Accuracy=0.504, train_loss=0.693]\n",
      "100%|██████████| 782/782 [00:01<00:00, 749.98it/s, val_Accuracy=0.5, val_loss=0.693]  \n",
      "<<<<<< val_Accuracy without improvement in 5 epoch, early stopping >>>>>>\n"
     ]
    },
    {
     "data": {
      "text/html": [
       "<div>\n",
       "<style scoped>\n",
       "    .dataframe tbody tr th:only-of-type {\n",
       "        vertical-align: middle;\n",
       "    }\n",
       "\n",
       "    .dataframe tbody tr th {\n",
       "        vertical-align: top;\n",
       "    }\n",
       "\n",
       "    .dataframe thead th {\n",
       "        text-align: right;\n",
       "    }\n",
       "</style>\n",
       "<table border=\"1\" class=\"dataframe\">\n",
       "  <thead>\n",
       "    <tr style=\"text-align: right;\">\n",
       "      <th></th>\n",
       "      <th>train_loss</th>\n",
       "      <th>train_Accuracy</th>\n",
       "      <th>val_loss</th>\n",
       "      <th>val_Accuracy</th>\n",
       "      <th>epoch</th>\n",
       "    </tr>\n",
       "  </thead>\n",
       "  <tbody>\n",
       "    <tr>\n",
       "      <th>0</th>\n",
       "      <td>0.693248</td>\n",
       "      <td>0.501405</td>\n",
       "      <td>0.693097</td>\n",
       "      <td>0.502163</td>\n",
       "      <td>1</td>\n",
       "    </tr>\n",
       "    <tr>\n",
       "      <th>1</th>\n",
       "      <td>0.693122</td>\n",
       "      <td>0.499665</td>\n",
       "      <td>0.692935</td>\n",
       "      <td>0.500639</td>\n",
       "      <td>2</td>\n",
       "    </tr>\n",
       "    <tr>\n",
       "      <th>2</th>\n",
       "      <td>0.693052</td>\n",
       "      <td>0.502100</td>\n",
       "      <td>0.692883</td>\n",
       "      <td>0.503736</td>\n",
       "      <td>3</td>\n",
       "    </tr>\n",
       "    <tr>\n",
       "      <th>3</th>\n",
       "      <td>0.693026</td>\n",
       "      <td>0.502820</td>\n",
       "      <td>0.693034</td>\n",
       "      <td>0.500480</td>\n",
       "      <td>4</td>\n",
       "    </tr>\n",
       "    <tr>\n",
       "      <th>4</th>\n",
       "      <td>0.693009</td>\n",
       "      <td>0.501615</td>\n",
       "      <td>0.692948</td>\n",
       "      <td>0.501299</td>\n",
       "      <td>5</td>\n",
       "    </tr>\n",
       "    <tr>\n",
       "      <th>5</th>\n",
       "      <td>0.693001</td>\n",
       "      <td>0.502310</td>\n",
       "      <td>0.692860</td>\n",
       "      <td>0.503646</td>\n",
       "      <td>6</td>\n",
       "    </tr>\n",
       "    <tr>\n",
       "      <th>6</th>\n",
       "      <td>0.693000</td>\n",
       "      <td>0.502980</td>\n",
       "      <td>0.692877</td>\n",
       "      <td>0.501209</td>\n",
       "      <td>7</td>\n",
       "    </tr>\n",
       "    <tr>\n",
       "      <th>7</th>\n",
       "      <td>0.692969</td>\n",
       "      <td>0.503570</td>\n",
       "      <td>0.692944</td>\n",
       "      <td>0.500480</td>\n",
       "      <td>8</td>\n",
       "    </tr>\n",
       "  </tbody>\n",
       "</table>\n",
       "</div>"
      ],
      "text/plain": [
       "   train_loss  train_Accuracy  val_loss  val_Accuracy  epoch\n",
       "0    0.693248        0.501405  0.693097      0.502163      1\n",
       "1    0.693122        0.499665  0.692935      0.500639      2\n",
       "2    0.693052        0.502100  0.692883      0.503736      3\n",
       "3    0.693026        0.502820  0.693034      0.500480      4\n",
       "4    0.693009        0.501615  0.692948      0.501299      5\n",
       "5    0.693001        0.502310  0.692860      0.503646      6\n",
       "6    0.693000        0.502980  0.692877      0.501209      7\n",
       "7    0.692969        0.503570  0.692944      0.500480      8"
      ]
     },
     "execution_count": 34,
     "metadata": {},
     "output_type": "execute_result"
    }
   ],
   "source": [
    "opt_train_model(\n",
    "    naive_model, optimizer,\n",
    "    loss_fn, metrics_dict=metric_dict,\n",
    "    train_dataloader=train_dataloader, val_dataloader=val_dataloader,\n",
    "    monitor=\"val_Accuracy\", mode=\"max\",\n",
    "    epochs=10\n",
    "    )"
   ]
  },
  {
   "cell_type": "markdown",
   "metadata": {},
   "source": [
    "# ROC"
   ]
  },
  {
   "cell_type": "code",
   "execution_count": 35,
   "metadata": {},
   "outputs": [],
   "source": [
    "@torch.no_grad()\n",
    "def predict(model, dataloader):\n",
    "    model.eval()\n",
    "    batch_size = dataloader.batch_size\n",
    "    targets = np.zeros(len(dataloader.dataset))\n",
    "    predictions = np.zeros(len(dataloader.dataset))\n",
    "    for i, (features, labels) in enumerate(tqdm(dataloader)):\n",
    "        features = features.to(device)\n",
    "        outputs = model(features)\n",
    "        targets[i * batch_size: (i + 1) * batch_size] = labels.numpy()\n",
    "        predictions[i * batch_size: (i + 1) * batch_size] = outputs.cpu().numpy()\n",
    "    return targets, predictions"
   ]
  },
  {
   "cell_type": "code",
   "execution_count": 36,
   "metadata": {},
   "outputs": [
    {
     "name": "stderr",
     "output_type": "stream",
     "text": [
      "100%|██████████| 782/782 [00:00<00:00, 1236.66it/s]\n"
     ]
    }
   ],
   "source": [
    "targets, predictions = predict(naive_model, val_dataloader)"
   ]
  },
  {
   "cell_type": "code",
   "execution_count": 37,
   "metadata": {},
   "outputs": [],
   "source": [
    "from sklearn.metrics import roc_curve, auc\n",
    "import matplotlib.pyplot as plt"
   ]
  },
  {
   "cell_type": "code",
   "execution_count": 38,
   "metadata": {},
   "outputs": [],
   "source": [
    "def calculate_auc(targets, predictions):\n",
    "    fpr, tpr, thersholds = roc_curve(targets, predictions)\n",
    "    auc_roc = auc(fpr, tpr)\n",
    "    return fpr, tpr, auc_roc"
   ]
  },
  {
   "cell_type": "code",
   "execution_count": 39,
   "metadata": {},
   "outputs": [],
   "source": [
    "def plot_roc_curve(fpr, tpr, auc_roc, title):\n",
    "    plt.plot(fpr, tpr, 'k--', label='ROC (area = {0:.2f})'.format(auc_roc), lw=2)    \n",
    "    plt.xlim([-0.05, 1.05])\n",
    "    plt.ylim([-0.05, 1.05])\n",
    "    plt.xlabel('FPT')\n",
    "    plt.ylabel('TPR') \n",
    "    plt.title(title)\n",
    "    plt.legend(loc=\"lower right\")\n",
    "    plt.show()\n"
   ]
  },
  {
   "cell_type": "code",
   "execution_count": 40,
   "metadata": {},
   "outputs": [
    {
     "data": {
      "image/png": "[encoded data removed]",
      "text/plain": [
       "<Figure size 640x480 with 1 Axes>"
      ]
     },
     "metadata": {},
     "output_type": "display_data"
    }
   ],
   "source": [
    "fpr, tpr, auc_roc = calculate_auc(targets, predictions)\n",
    "plot_roc_curve(fpr, tpr, auc_roc, \"ROC Curve\")"
   ]
  },
  {
   "cell_type": "markdown",
   "metadata": {},
   "source": [
    "# Test statistics"
   ]
  },
  {
   "cell_type": "code",
   "execution_count": 41,
   "metadata": {},
   "outputs": [],
   "source": [
    "from typing import Any\n",
    "\n",
    "\n",
    "class LRT:\n",
    "    def __init__(self, m_b, n, classifier):\n",
    "        self.classifier = classifier\n",
    "        self.classifier.eval()\n",
    "        pi = n / (n + m_b)\n",
    "        self.scale = (1 - pi) / pi\n",
    "\n",
    "    def psi(self, z):\n",
    "        h_hat = self.classifier(z)\n",
    "        return self.scale * h_hat / (1 - h_hat)\n",
    "    \n",
    "    def __call__(self, W):\n",
    "        sum = 0\n",
    "        for w_i in W:\n",
    "            sum += np.log(self.psi(w_i))\n",
    "        return 2 * sum\n",
    "    \n",
    "class AUC:\n",
    "    def __init__(self, m_b, n, classifier):\n",
    "        self.scale = 1 / (m_b * n)\n",
    "        self.classifier = classifier\n",
    "        self.classifier.eval()\n",
    "    \n",
    "    def __call__(self, W, X):\n",
    "        sum = 0\n",
    "        for w_j in W:\n",
    "            for x_i in X:\n",
    "                sum += self.classifier(w_j) > self.classifier(x_i)\n",
    "        return self.scale * sum\n",
    "    \n",
    "class MCE:\n",
    "    def __init__(self, m_b, n, classifier):\n",
    "        self.m_b = m_b\n",
    "        self.n = n\n",
    "        self.pi = n / (n + m_b)\n",
    "        self.classifier = classifier\n",
    "        self.classifier.eval()\n",
    "    \n",
    "    def __call__(self, W, X):\n",
    "        x_sum = 0\n",
    "        w_sum = 0\n",
    "        for x_i in X:\n",
    "            x_sum += self.classifier(x_i) > self.pi\n",
    "        for w_j in W:\n",
    "            w_sum += self.classifier(w_j) < self.pi\n",
    "        return 0.5 * ((1/self.m_b) * x_sum + (1/self.n) * w_sum)"
   ]
  },
  {
   "cell_type": "code",
   "execution_count": null,
   "metadata": {},
   "outputs": [],
   "source": [
    "class Bootstrap_Permutation:\n",
    "    def __init__(self, X, W, train_ratio,classifier) -> None:\n",
    "        assert len(X) == len(W) # Make sure total length is the same for bkg and exp data so n2=m2\n",
    "        m1 = int(train_ratio * len(X))\n",
    "        n1 = m1\n",
    "        self.m2 = len(X) - m1\n",
    "        self.n2 = len(W) - n1\n",
    "        self.X1 = X[:m1]\n",
    "        self.X2 = X[m1:]\n",
    "        self.W1 = W[:n1]\n",
    "        self.W2 = W[n1:]\n",
    "        self.union_W2X2 = np.concatenate(self.X2, self.W2)\n",
    "\n",
    "        opt_train_model(\n",
    "            classifier, optimizer,\n",
    "            loss_fn, metrics_dict=metric_dict,\n",
    "            train_dataloader=train_dataloader, val_dataloader=val_dataloader,\n",
    "            monitor=\"val_Accuracy\", mode=\"max\",\n",
    "            epochs=10\n",
    "            )\n",
    "        self.classifier = classifier\n",
    "\n",
    "        self.lrt = LRT(self.m2, self.n2, self.classifier)\n",
    "        self.auc = AUC(self.m2, self.n2, self.classifier)\n",
    "        self.mce = MCE(self.m2, self.n2, self.classifier)\n",
    "        self.lrt_exp = self.lrt(self.W2)\n",
    "        self.auc_exp = self.auc(self.W2, self.X2)\n",
    "        self.mce_exp = self.mce(self.W2, self.X2)\n",
    "\n",
    "    def bootstrap(self, n):\n",
    "        lrt_null = np.zeros(n)\n",
    "        auc_null = np.zeros(n)\n",
    "        mce_null = np.zeros(n)\n",
    "        for i in range(n):\n",
    "            lrt_null = self.lrt(np.random.choice(self.union_W2X2, self.n2))\n",
    "            auc_null = self.auc(np.random.choice(self.union_W2X2, self.n2), np.random.choice(self.union_W2X2, self.m2))\n",
    "            mce_null = self.mce(np.random.choice(self.union_W2X2, self.n2), np.random.choice(self.union_W2X2, self.m2))\n",
    "        return lrt_null, auc_null, mce_null\n",
    "    def permutation(self, n):\n",
    "        lrt_null = np.zeros(n)\n",
    "        auc_null = np.zeros(n)\n",
    "        mce_null = np.zeros(n)\n",
    "        sample1 = self.union_W2X2.copy()\n",
    "        sample2 = self.union_W2X2.copy()\n",
    "        np.random.shuffle(sample1)\n",
    "        np.random.shuffle(sample2)\n",
    "        for i in range(n):\n",
    "            lrt_null = self.lrt(np.random.choice(self.union_W2X2, self.n2, replace=False))\n",
    "            auc_null = self.auc(sample1[:self.n2], sample1[self.n2:])\n",
    "            mce_null = self.mce(sample2[:self.n2], sample2[self.n2:])\n",
    "        return lrt_null, auc_null, mce_null"
   ]
  },
  {
   "cell_type": "code",
   "execution_count": null,
   "metadata": {},
   "outputs": [],
   "source": []
  }
 ],
 "metadata": {
  "kernelspec": {
   "display_name": "ad",
   "language": "python",
   "name": "python3"
  },
  "language_info": {
   "codemirror_mode": {
    "name": "ipython",
    "version": 3
   },
   "file_extension": ".py",
   "mimetype": "text/x-python",
   "name": "python",
   "nbconvert_exporter": "python",
   "pygments_lexer": "ipython3",
   "version": "3.11.8"
  }
 },
 "nbformat": 4,
 "nbformat_minor": 2
}
