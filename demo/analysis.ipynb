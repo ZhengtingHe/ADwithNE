{
 "cells": [
  {
   "cell_type": "code",
   "execution_count": 1,
   "metadata": {},
   "outputs": [],
   "source": [
    "import torch\n",
    "from torch import nn\n",
    "import numpy as np\n",
    "import sys\n",
    "import os\n",
    "import pandas as pd\n",
    "from torch.utils.data import Dataset, DataLoader\n",
    "from tqdm import tqdm\n",
    "\n",
    "\n",
    "sys.path.append(\"..\")\n",
    "from model import ParticleEventTransformer\n",
    "from data import get_database_path, get_h5_files, read_h5_file, select_events\n",
    "from utils import load_toml_config\n",
    "\n",
    "import matplotlib.pyplot as plt\n",
    "\n",
    "\n",
    "device = \"cuda\" if torch.cuda.is_available() else \"mps\" if sys.platform == \"darwin\" else \"cpu\"\n"
   ]
  },
  {
   "cell_type": "code",
   "execution_count": 2,
   "metadata": {},
   "outputs": [],
   "source": [
    "EMD_config = load_toml_config(\"EMD\")\n",
    "particle_type_scale = EMD_config['particle_type_scale']"
   ]
  },
  {
   "cell_type": "markdown",
   "metadata": {},
   "source": [
    "# Load raw events"
   ]
  },
  {
   "cell_type": "code",
   "execution_count": 3,
   "metadata": {},
   "outputs": [
    {
     "name": "stdout",
     "output_type": "stream",
     "text": [
      "dict_keys(['SM', 'neutral_boson', 'leptoquark', 'neutral_Higgs', 'charged_Higgs'])\n"
     ]
    }
   ],
   "source": [
    "files = load_toml_config(\"file\")\n",
    "database_path = get_database_path()\n",
    "bkg_files, sig_files = get_h5_files()\n",
    "\n",
    "print(files.keys())\n",
    "bkg = read_h5_file(database_path, files[\"SM\"])\n",
    "# SM processes\n",
    "\n",
    "neutral_boson = read_h5_file(database_path, files[\"neutral_boson\"])\n",
    "# A neutral scalar boson (A) with mass 50 GeV, decaying to two off-shell Z bosons, each forced to decay to two leptons: A → 4l\n",
    "\n",
    "leptoquark = read_h5_file(database_path, files[\"leptoquark\"])\n",
    "# A leptoquark (LQ) with mass 80 GeV, decaying to a b quark and a τ lepton24\n",
    "\n",
    "neutral_Higgs = read_h5_file(database_path, files[\"neutral_Higgs\"])\n",
    "# A scalar boson with mass 60 GeV, decaying to two tau leptons: h0→ ττ\n",
    "\n",
    "charged_Higgs = read_h5_file(database_path, files[\"charged_Higgs\"])\n",
    "# A charged scalar boson with mass 60 GeV, decaying to a tau lepton and a neutrino"
   ]
  },
  {
   "cell_type": "markdown",
   "metadata": {},
   "source": [
    "# Load embedding model"
   ]
  },
  {
   "cell_type": "code",
   "execution_count": 4,
   "metadata": {},
   "outputs": [
    {
     "name": "stdout",
     "output_type": "stream",
     "text": [
      "{'feature_size': 3, 'embed_size': 16, 'num_heads': 8, 'num_layers': 4, 'hidden_dim': 256, 'output_dim': 4}\n"
     ]
    },
    {
     "name": "stderr",
     "output_type": "stream",
     "text": [
      "/home/desmondhe/anaconda3/envs/ad/lib/python3.11/site-packages/torch/nn/modules/transformer.py:286: UserWarning: enable_nested_tensor is True, but self.use_nested_tensor is False because encoder_layer.self_attn.batch_first was not True(use batch_first for better inference performance)\n",
      "  warnings.warn(f\"enable_nested_tensor is True, but self.use_nested_tensor is False because {why_not_sparsity_fast_path}\")\n"
     ]
    }
   ],
   "source": [
    "model_hyper_parameters = load_toml_config(\"Transformer\")\n",
    "print(model_hyper_parameters)\n",
    "feature_size = model_hyper_parameters[\"feature_size\"]\n",
    "embed_size = model_hyper_parameters[\"embed_size\"]\n",
    "num_heads = model_hyper_parameters[\"num_heads\"]\n",
    "num_layers = model_hyper_parameters[\"num_layers\"]\n",
    "hidden_dim = model_hyper_parameters[\"hidden_dim\"]\n",
    "output_dim = model_hyper_parameters[\"output_dim\"]\n",
    "\n",
    "embedding_model = ParticleEventTransformer(feature_size, embed_size, num_heads, hidden_dim, output_dim, num_layers)"
   ]
  },
  {
   "cell_type": "markdown",
   "metadata": {},
   "source": [
    "# Embed events"
   ]
  },
  {
   "cell_type": "code",
   "execution_count": 5,
   "metadata": {},
   "outputs": [],
   "source": [
    "from analysis import inference"
   ]
  },
  {
   "cell_type": "code",
   "execution_count": 6,
   "metadata": {},
   "outputs": [],
   "source": [
    "from data import EventDataset"
   ]
  },
  {
   "cell_type": "code",
   "execution_count": 7,
   "metadata": {},
   "outputs": [],
   "source": [
    "infer_test_num = 1000000\n",
    "bkg_infer_test = bkg[:infer_test_num]\n",
    "infer_dataset = EventDataset(bkg_infer_test)\n",
    "infer_dataloader = DataLoader(infer_dataset, batch_size=256, num_workers=16, prefetch_factor=5)\n",
    "\n",
    "neutral_boson_infer_test = neutral_boson[:infer_test_num]\n",
    "neutral_boson_infer_dataset = EventDataset(neutral_boson_infer_test)\n",
    "neutral_boson_infer_dataloader = DataLoader(neutral_boson_infer_dataset, batch_size=256, num_workers=16, prefetch_factor=5)\n",
    "\n",
    "leptoquark_infer_test = leptoquark[:infer_test_num]\n",
    "leptoquark_infer_dataset = EventDataset(leptoquark_infer_test)\n",
    "leptoquark_infer_dataloader = DataLoader(leptoquark_infer_dataset, batch_size=256, num_workers=16, prefetch_factor=5)\n",
    "\n",
    "neutral_Higgs_infer_test = neutral_Higgs[:infer_test_num]\n",
    "neutral_Higgs_infer_dataset = EventDataset(neutral_Higgs_infer_test)\n",
    "neutral_Higgs_infer_dataloader = DataLoader(neutral_Higgs_infer_dataset, batch_size=256, num_workers=16, prefetch_factor=5)\n",
    "\n",
    "charged_Higgs_infer_test = charged_Higgs[:infer_test_num]\n",
    "charged_Higgs_infer_dataset = EventDataset(charged_Higgs_infer_test)\n",
    "charged_Higgs_infer_dataloader = DataLoader(charged_Higgs_infer_dataset, batch_size=256, num_workers=16, prefetch_factor=5)"
   ]
  },
  {
   "cell_type": "code",
   "execution_count": 8,
   "metadata": {},
   "outputs": [
    {
     "name": "stderr",
     "output_type": "stream",
     "text": [
      "100%|██████████| 3907/3907 [00:08<00:00, 446.30it/s]"
     ]
    },
    {
     "name": "stdout",
     "output_type": "stream",
     "text": [
      "(1000000, 4)\n"
     ]
    },
    {
     "name": "stderr",
     "output_type": "stream",
     "text": [
      "\n"
     ]
    }
   ],
   "source": [
    "embedding_model.load_state_dict(torch.load(os.path.join(\"..\", \"model\",\"emb_dim{}_type_scale{}.pt\".format(output_dim, particle_type_scale))))\n",
    "embedding_model.to(device)\n",
    "bkg_embed_points = inference(embedding_model, infer_dataloader, embed_dim=output_dim)\n",
    "print(bkg_embed_points.shape)"
   ]
  },
  {
   "cell_type": "code",
   "execution_count": 9,
   "metadata": {},
   "outputs": [
    {
     "name": "stderr",
     "output_type": "stream",
     "text": [
      "100%|██████████| 219/219 [00:01<00:00, 202.63it/s]\n",
      "100%|██████████| 1331/1331 [00:03<00:00, 402.62it/s]\n",
      "100%|██████████| 2701/2701 [00:06<00:00, 443.79it/s]\n",
      "100%|██████████| 2970/2970 [00:06<00:00, 446.90it/s]"
     ]
    },
    {
     "name": "stdout",
     "output_type": "stream",
     "text": [
      "(55969, 4)\n",
      "(340544, 4)\n",
      "(691283, 4)\n",
      "(760272, 4)\n"
     ]
    },
    {
     "name": "stderr",
     "output_type": "stream",
     "text": [
      "\n"
     ]
    }
   ],
   "source": [
    "neutral_boson_embed_points = inference(embedding_model, neutral_boson_infer_dataloader, embed_dim=output_dim)\n",
    "leptoquark_embed_points = inference(embedding_model, leptoquark_infer_dataloader, embed_dim=output_dim)\n",
    "neutral_Higgs_embed_points = inference(embedding_model, neutral_Higgs_infer_dataloader, embed_dim=output_dim)\n",
    "charged_Higgs_embed_points = inference(embedding_model, charged_Higgs_infer_dataloader, embed_dim=output_dim)\n",
    "print(neutral_boson_embed_points.shape)\n",
    "print(leptoquark_embed_points.shape)\n",
    "print(neutral_Higgs_embed_points.shape)\n",
    "print(charged_Higgs_embed_points.shape)"
   ]
  },
  {
   "cell_type": "code",
   "execution_count": 10,
   "metadata": {},
   "outputs": [],
   "source": [
    "from analysis import Normalizer"
   ]
  },
  {
   "cell_type": "code",
   "execution_count": 11,
   "metadata": {},
   "outputs": [],
   "source": [
    "import importlib\n",
    "import analysis\n",
    "importlib.reload(analysis)\n",
    "from analysis import Normalizer"
   ]
  },
  {
   "cell_type": "code",
   "execution_count": 12,
   "metadata": {},
   "outputs": [],
   "source": [
    "normalizer = Normalizer(bkg_embed_points, neutral_boson_embed_points, leptoquark_embed_points, neutral_Higgs_embed_points, charged_Higgs_embed_points)"
   ]
  },
  {
   "cell_type": "markdown",
   "metadata": {},
   "source": [
    "# Split embed points"
   ]
  },
  {
   "cell_type": "code",
   "execution_count": 13,
   "metadata": {},
   "outputs": [],
   "source": [
    "tpr_dict = {}\n",
    "fpr_dict = {}\n",
    "auc_dict = {}"
   ]
  },
  {
   "cell_type": "code",
   "execution_count": 14,
   "metadata": {},
   "outputs": [],
   "source": [
    "from analysis import create_exp_bkg_events, train_test_split, get_dataloaders"
   ]
  },
  {
   "cell_type": "code",
   "execution_count": 15,
   "metadata": {},
   "outputs": [],
   "source": [
    "test_ratio=0.2\n",
    "val_ratio = 0.2\n",
    "sig_lambda = 0.5\n",
    "n = 100000\n",
    "\n",
    "# exp_events, bkg_events = create_exp_bkg_events(bkg_embed_points, neutral_boson_embed_points, sig_lambda, n)\n",
    "# exp_events, bkg_events = create_exp_bkg_events(bkg_embed_points, leptoquark_embed_points, sig_lambda, n)\n",
    "# exp_events, bkg_events = create_exp_bkg_events(bkg_embed_points, neutral_Higgs_embed_points, sig_lambda, n)\n",
    "exp_events, bkg_events = create_exp_bkg_events(bkg_embed_points, charged_Higgs_embed_points, sig_lambda, n)\n",
    "X1, X2, W1, W2 = train_test_split(exp_events, bkg_events, test_ratio)\n",
    "n1 = len(W1)\n",
    "m1 = len(X1)\n",
    "pi = n1 / (n1 + m1)\n",
    "n2 = len(W2)\n",
    "m2 = len(X2)\n",
    "train_dataloader, val_dataloader = get_dataloaders(X1, W1, val_ratio, normalizer)"
   ]
  },
  {
   "cell_type": "markdown",
   "metadata": {},
   "source": [
    "# Classify Model"
   ]
  },
  {
   "cell_type": "code",
   "execution_count": 16,
   "metadata": {},
   "outputs": [],
   "source": [
    "from model import MLP\n",
    "hidden_dim = [8, 16, 16, 16, 8]\n",
    "naive_model = MLP(output_dim, hidden_sizes=hidden_dim)"
   ]
  },
  {
   "cell_type": "markdown",
   "metadata": {},
   "source": [
    "# Train"
   ]
  },
  {
   "cell_type": "code",
   "execution_count": 17,
   "metadata": {},
   "outputs": [],
   "source": [
    "from metrics import BinaryACCUpdater"
   ]
  },
  {
   "cell_type": "code",
   "execution_count": 18,
   "metadata": {},
   "outputs": [],
   "source": [
    "naive_model.to(device)\n",
    "optimizer = torch.optim.Adam(naive_model.parameters(), lr=1e-3, weight_decay=1e-5)\n",
    "loss_fn = nn.BCELoss()\n",
    "acc_metric = BinaryACCUpdater()\n",
    "metric_dict = {\"Accuracy\": acc_metric}"
   ]
  },
  {
   "cell_type": "code",
   "execution_count": 19,
   "metadata": {},
   "outputs": [],
   "source": [
    "from classify import train_model"
   ]
  },
  {
   "cell_type": "code",
   "execution_count": 20,
   "metadata": {},
   "outputs": [],
   "source": [
    "opt_train_model  = torch.compile(train_model)"
   ]
  },
  {
   "cell_type": "code",
   "execution_count": 21,
   "metadata": {},
   "outputs": [
    {
     "name": "stdout",
     "output_type": "stream",
     "text": [
      "\n",
      "================================================================================2024-05-18 21:24:14\n",
      "Epoch 1 / 50\n",
      "\n",
      "  0%|          | 0/4000 [00:00<?, ?it/s]"
     ]
    },
    {
     "name": "stderr",
     "output_type": "stream",
     "text": [
      "/home/desmondhe/anaconda3/envs/ad/lib/python3.11/site-packages/torch/_inductor/compile_fx.py:140: UserWarning: TensorFloat32 tensor cores for float32 matrix multiplication available but not enabled. Consider setting `torch.set_float32_matmul_precision('high')` for better performance.\n",
      "  warnings.warn(\n"
     ]
    },
    {
     "name": "stdout",
     "output_type": "stream",
     "text": [
      "100%|██████████| 4000/4000 [00:18<00:00, 217.89it/s, train_Accuracy=0.661, train_loss=0.607]\n",
      "100%|██████████| 125/125 [00:04<00:00, 28.29it/s, val_Accuracy=0.681, val_loss=0.589]\n",
      "<<<<<< reach best val_Accuracy : 0.6806562542915344 >>>>>>\n",
      "\n",
      "================================================================================2024-05-18 21:24:37\n",
      "Epoch 2 / 50\n",
      "\n",
      "100%|██████████| 4000/4000 [00:07<00:00, 548.76it/s, train_Accuracy=0.679, train_loss=0.59] \n",
      "100%|██████████| 125/125 [00:00<00:00, 630.68it/s, val_Accuracy=0.677, val_loss=0.589]\n",
      "\n",
      "================================================================================2024-05-18 21:24:44\n",
      "Epoch 3 / 50\n",
      "\n",
      "100%|██████████| 4000/4000 [00:07<00:00, 533.14it/s, train_Accuracy=0.679, train_loss=0.588]\n",
      "100%|██████████| 125/125 [00:00<00:00, 585.75it/s, val_Accuracy=0.681, val_loss=0.586]\n",
      "\n",
      "================================================================================2024-05-18 21:24:52\n",
      "Epoch 4 / 50\n",
      "\n",
      "100%|██████████| 4000/4000 [00:07<00:00, 531.78it/s, train_Accuracy=0.68, train_loss=0.588] \n",
      "100%|██████████| 125/125 [00:00<00:00, 581.24it/s, val_Accuracy=0.681, val_loss=0.586]\n",
      "<<<<<< reach best val_Accuracy : 0.6806875467300415 >>>>>>\n",
      "\n",
      "================================================================================2024-05-18 21:25:00\n",
      "Epoch 5 / 50\n",
      "\n",
      "100%|██████████| 4000/4000 [00:07<00:00, 551.54it/s, train_Accuracy=0.679, train_loss=0.587]\n",
      "100%|██████████| 125/125 [00:00<00:00, 567.69it/s, val_Accuracy=0.679, val_loss=0.586]\n",
      "\n",
      "================================================================================2024-05-18 21:25:07\n",
      "Epoch 6 / 50\n",
      "\n",
      "100%|██████████| 4000/4000 [00:07<00:00, 556.05it/s, train_Accuracy=0.679, train_loss=0.587]\n",
      "100%|██████████| 125/125 [00:00<00:00, 584.11it/s, val_Accuracy=0.678, val_loss=0.59] \n",
      "\n",
      "================================================================================2024-05-18 21:25:15\n",
      "Epoch 7 / 50\n",
      "\n",
      "100%|██████████| 4000/4000 [00:07<00:00, 537.98it/s, train_Accuracy=0.68, train_loss=0.586] \n",
      "100%|██████████| 125/125 [00:00<00:00, 714.58it/s, val_Accuracy=0.679, val_loss=0.585]\n",
      "\n",
      "================================================================================2024-05-18 21:25:22\n",
      "Epoch 8 / 50\n",
      "\n",
      "100%|██████████| 4000/4000 [00:07<00:00, 543.84it/s, train_Accuracy=0.68, train_loss=0.586] \n",
      "100%|██████████| 125/125 [00:00<00:00, 596.04it/s, val_Accuracy=0.68, val_loss=0.585] \n",
      "\n",
      "================================================================================2024-05-18 21:25:30\n",
      "Epoch 9 / 50\n",
      "\n",
      "100%|██████████| 4000/4000 [00:07<00:00, 561.45it/s, train_Accuracy=0.68, train_loss=0.586] \n",
      "100%|██████████| 125/125 [00:00<00:00, 666.58it/s, val_Accuracy=0.68, val_loss=0.584]\n",
      "<<<<<< val_Accuracy without improvement in 5 epoch, early stopping >>>>>>\n"
     ]
    },
    {
     "data": {
      "text/html": [
       "<div>\n",
       "<style scoped>\n",
       "    .dataframe tbody tr th:only-of-type {\n",
       "        vertical-align: middle;\n",
       "    }\n",
       "\n",
       "    .dataframe tbody tr th {\n",
       "        vertical-align: top;\n",
       "    }\n",
       "\n",
       "    .dataframe thead th {\n",
       "        text-align: right;\n",
       "    }\n",
       "</style>\n",
       "<table border=\"1\" class=\"dataframe\">\n",
       "  <thead>\n",
       "    <tr style=\"text-align: right;\">\n",
       "      <th></th>\n",
       "      <th>train_loss</th>\n",
       "      <th>train_Accuracy</th>\n",
       "      <th>val_loss</th>\n",
       "      <th>val_Accuracy</th>\n",
       "      <th>epoch</th>\n",
       "    </tr>\n",
       "  </thead>\n",
       "  <tbody>\n",
       "    <tr>\n",
       "      <th>0</th>\n",
       "      <td>0.607028</td>\n",
       "      <td>0.660508</td>\n",
       "      <td>0.588944</td>\n",
       "      <td>0.680656</td>\n",
       "      <td>1</td>\n",
       "    </tr>\n",
       "    <tr>\n",
       "      <th>1</th>\n",
       "      <td>0.589539</td>\n",
       "      <td>0.678781</td>\n",
       "      <td>0.589455</td>\n",
       "      <td>0.676719</td>\n",
       "      <td>2</td>\n",
       "    </tr>\n",
       "    <tr>\n",
       "      <th>2</th>\n",
       "      <td>0.588336</td>\n",
       "      <td>0.678813</td>\n",
       "      <td>0.586267</td>\n",
       "      <td>0.680500</td>\n",
       "      <td>3</td>\n",
       "    </tr>\n",
       "    <tr>\n",
       "      <th>3</th>\n",
       "      <td>0.587623</td>\n",
       "      <td>0.679672</td>\n",
       "      <td>0.585847</td>\n",
       "      <td>0.680688</td>\n",
       "      <td>4</td>\n",
       "    </tr>\n",
       "    <tr>\n",
       "      <th>4</th>\n",
       "      <td>0.587166</td>\n",
       "      <td>0.678773</td>\n",
       "      <td>0.585847</td>\n",
       "      <td>0.679188</td>\n",
       "      <td>5</td>\n",
       "    </tr>\n",
       "    <tr>\n",
       "      <th>5</th>\n",
       "      <td>0.586760</td>\n",
       "      <td>0.678977</td>\n",
       "      <td>0.590350</td>\n",
       "      <td>0.677625</td>\n",
       "      <td>6</td>\n",
       "    </tr>\n",
       "    <tr>\n",
       "      <th>6</th>\n",
       "      <td>0.586432</td>\n",
       "      <td>0.679641</td>\n",
       "      <td>0.585250</td>\n",
       "      <td>0.678906</td>\n",
       "      <td>7</td>\n",
       "    </tr>\n",
       "    <tr>\n",
       "      <th>7</th>\n",
       "      <td>0.586261</td>\n",
       "      <td>0.680109</td>\n",
       "      <td>0.584787</td>\n",
       "      <td>0.679531</td>\n",
       "      <td>8</td>\n",
       "    </tr>\n",
       "    <tr>\n",
       "      <th>8</th>\n",
       "      <td>0.586013</td>\n",
       "      <td>0.679922</td>\n",
       "      <td>0.584211</td>\n",
       "      <td>0.680375</td>\n",
       "      <td>9</td>\n",
       "    </tr>\n",
       "  </tbody>\n",
       "</table>\n",
       "</div>"
      ],
      "text/plain": [
       "   train_loss  train_Accuracy  val_loss  val_Accuracy  epoch\n",
       "0    0.607028        0.660508  0.588944      0.680656      1\n",
       "1    0.589539        0.678781  0.589455      0.676719      2\n",
       "2    0.588336        0.678813  0.586267      0.680500      3\n",
       "3    0.587623        0.679672  0.585847      0.680688      4\n",
       "4    0.587166        0.678773  0.585847      0.679188      5\n",
       "5    0.586760        0.678977  0.590350      0.677625      6\n",
       "6    0.586432        0.679641  0.585250      0.678906      7\n",
       "7    0.586261        0.680109  0.584787      0.679531      8\n",
       "8    0.586013        0.679922  0.584211      0.680375      9"
      ]
     },
     "execution_count": 21,
     "metadata": {},
     "output_type": "execute_result"
    }
   ],
   "source": [
    "opt_train_model(\n",
    "    naive_model, optimizer,\n",
    "    loss_fn, metrics_dict=metric_dict,\n",
    "    train_dataloader=train_dataloader, val_dataloader=val_dataloader,\n",
    "    monitor=\"val_Accuracy\", mode=\"max\",\n",
    "    epochs=50\n",
    "    )"
   ]
  },
  {
   "cell_type": "markdown",
   "metadata": {},
   "source": [
    "# ROC"
   ]
  },
  {
   "cell_type": "code",
   "execution_count": 22,
   "metadata": {},
   "outputs": [],
   "source": [
    "from analysis import predict"
   ]
  },
  {
   "cell_type": "code",
   "execution_count": 23,
   "metadata": {},
   "outputs": [
    {
     "name": "stderr",
     "output_type": "stream",
     "text": [
      "100%|██████████| 125/125 [00:00<00:00, 962.79it/s]\n"
     ]
    }
   ],
   "source": [
    "targets, predictions = predict(naive_model, val_dataloader)"
   ]
  },
  {
   "cell_type": "code",
   "execution_count": 24,
   "metadata": {},
   "outputs": [
    {
     "name": "stdout",
     "output_type": "stream",
     "text": [
      "0.71805504296875\n"
     ]
    },
    {
     "data": {
      "image/png": "[encoded data removed]",
      "text/plain": [
       "<Figure size 640x480 with 1 Axes>"
      ]
     },
     "metadata": {},
     "output_type": "display_data"
    }
   ],
   "source": [
    "from analysis import calculate_auc\n",
    "from visualize import plot_roc_curve\n",
    "fpr, tpr, auc_roc = calculate_auc(targets, predictions)\n",
    "print(auc_roc)\n",
    "fpr_dict[str(sig_lambda)] = fpr\n",
    "tpr_dict[str(sig_lambda)] = tpr\n",
    "auc_dict[str(sig_lambda)] = auc_roc\n",
    "plot_roc_curve(fpr_dict, tpr_dict, auc_dict, \"ROC Curve\")"
   ]
  },
  {
   "cell_type": "markdown",
   "metadata": {},
   "source": [
    "# Test statistics"
   ]
  },
  {
   "cell_type": "code",
   "execution_count": 34,
   "metadata": {},
   "outputs": [],
   "source": [
    "from analysis import Bootstrap_Permutation"
   ]
  },
  {
   "cell_type": "code",
   "execution_count": 38,
   "metadata": {},
   "outputs": [],
   "source": [
    "importlib.reload(analysis)\n",
    "from analysis import Bootstrap_Permutation"
   ]
  },
  {
   "cell_type": "code",
   "execution_count": 39,
   "metadata": {},
   "outputs": [],
   "source": [
    "bootstrap_permutation = Bootstrap_Permutation(X2, W2, naive_model, pi, normalizer)"
   ]
  },
  {
   "cell_type": "code",
   "execution_count": 40,
   "metadata": {},
   "outputs": [
    {
     "name": "stderr",
     "output_type": "stream",
     "text": [
      "100%|██████████| 10000/10000 [21:44<00:00,  7.66it/s]\n"
     ]
    }
   ],
   "source": [
    "lrt_null_bootstarp, auc_null_bootstarp, mce_null_bootstarp = bootstrap_permutation.bootstrap(10000)"
   ]
  },
  {
   "cell_type": "code",
   "execution_count": 41,
   "metadata": {},
   "outputs": [
    {
     "name": "stderr",
     "output_type": "stream",
     "text": [
      "100%|██████████| 10000/10000 [22:54<00:00,  7.27it/s]\n"
     ]
    }
   ],
   "source": [
    "lrt_null_permutation, auc_null_permutation, mce_null_permutation = bootstrap_permutation.permutation(10000)"
   ]
  },
  {
   "cell_type": "code",
   "execution_count": 42,
   "metadata": {},
   "outputs": [
    {
     "data": {
      "image/png": "[encoded data removed]",
      "text/plain": [
       "<Figure size 640x480 with 1 Axes>"
      ]
     },
     "metadata": {},
     "output_type": "display_data"
    }
   ],
   "source": [
    "plt.hist(mce_null_bootstarp, bins=50, alpha=0.5, label=\"bootstrap p value = {}\".format(bootstrap_permutation.mce_p_bootstrap))\n",
    "plt.hist(mce_null_permutation, bins=50, alpha=0.5, label=\"permutation p value = {}\".format(bootstrap_permutation.mce_p_permutation))\n",
    "plt.axvline(bootstrap_permutation.mce_exp, color='r', label=\"exp\")\n",
    "plt.legend()\n",
    "plt.title(\"MCE Null Distribution lambda = {}\".format(sig_lambda))\n",
    "plt.show()"
   ]
  },
  {
   "cell_type": "code",
   "execution_count": 43,
   "metadata": {},
   "outputs": [
    {
     "data": {
      "image/png": "[encoded data removed]",
      "text/plain": [
       "<Figure size 640x480 with 1 Axes>"
      ]
     },
     "metadata": {},
     "output_type": "display_data"
    }
   ],
   "source": [
    "plt.hist(lrt_null_bootstarp, bins=50, alpha=0.5, label=\"bootstrap p value = {}\".format(bootstrap_permutation.lrt_p_bootstrap))\n",
    "plt.hist(lrt_null_permutation, bins=50, alpha=0.5, label=\"permutation p value = {}\".format(bootstrap_permutation.lrt_p_permutation))\n",
    "plt.axvline(bootstrap_permutation.lrt_exp, color='r', label=\"exp\")\n",
    "plt.legend()\n",
    "plt.title(\"LRT Null Distribution lambda = {}\".format(sig_lambda))\n",
    "plt.show()"
   ]
  },
  {
   "cell_type": "code",
   "execution_count": 44,
   "metadata": {},
   "outputs": [
    {
     "data": {
      "image/png": "[encoded data removed]",
      "text/plain": [
       "<Figure size 640x480 with 1 Axes>"
      ]
     },
     "metadata": {},
     "output_type": "display_data"
    }
   ],
   "source": [
    "plt.hist(auc_null_bootstarp, bins=50, alpha=0.5, label=\"bootstrap p value = {}\".format(bootstrap_permutation.auc_p_bootstrap))\n",
    "plt.hist(auc_null_permutation, bins=50, alpha=0.5, label=\"permutation p value = {}\".format(bootstrap_permutation.auc_p_permutation))\n",
    "plt.axvline(bootstrap_permutation.auc_exp, color='r', label=\"exp\")\n",
    "plt.legend()\n",
    "plt.title(\"AUC Null Distribution lambda = {}\".format(sig_lambda))\n",
    "plt.show()"
   ]
  },
  {
   "cell_type": "markdown",
   "metadata": {},
   "source": [
    "# Estimate signal strength"
   ]
  },
  {
   "cell_type": "code",
   "execution_count": 25,
   "metadata": {},
   "outputs": [],
   "source": [
    "from analysis import LambdaEstimator"
   ]
  },
  {
   "cell_type": "code",
   "execution_count": 26,
   "metadata": {},
   "outputs": [
    {
     "name": "stdout",
     "output_type": "stream",
     "text": [
      "estimated lambda: 0.47777884627994394\n",
      "beta 0 = -0.5286130283182882, beta 1 = -0.12105108637198939\n",
      "last bin height: 0.5222211537200561\n"
     ]
    },
    {
     "data": {
      "image/png": "[encoded data removed]",
      "text/plain": [
       "<Figure size 640x480 with 1 Axes>"
      ]
     },
     "metadata": {},
     "output_type": "display_data"
    }
   ],
   "source": [
    "lambda_estimator = LambdaEstimator(X2, W2, naive_model, T=0.5, n_bins=20, normalizer=normalizer)\n",
    "print(\"estimated lambda:\", lambda_estimator.estimated_lambda)\n",
    "print(\"beta 0 = {}, beta 1 = {}\".format(lambda_estimator.beta0, lambda_estimator.beta1))\n",
    "print(\"last bin height:\", lambda_estimator.estimated_H_t[-1])\n",
    "plt.hist(lambda_estimator.rho_W, bins=lambda_estimator.bins, alpha=0.5, edgecolor='black', density=True)\n",
    "start_idx = lambda_estimator.fit_start_idx\n",
    "plt.plot(lambda_estimator.bins[start_idx:], lambda_estimator.estimated_H_t, label=\"Estimated\")\n",
    "plt.plot(lambda_estimator.bins[1:], lambda_estimator.H_t, '*',label=\"True\")\n",
    "plt.legend()\n",
    "plt.title(\"Estimated λ = {:.2f}, true λ = {}\".format(lambda_estimator.estimated_lambda, sig_lambda))\n",
    "plt.show()"
   ]
  },
  {
   "cell_type": "markdown",
   "metadata": {},
   "source": [
    "# Bootstrapped Uncertainty Intervals for λ"
   ]
  },
  {
   "cell_type": "code",
   "execution_count": 27,
   "metadata": {},
   "outputs": [],
   "source": [
    "lambda_mean_dict = {}\n",
    "lambda_std_dict = {}"
   ]
  },
  {
   "cell_type": "code",
   "execution_count": 32,
   "metadata": {},
   "outputs": [
    {
     "name": "stdout",
     "output_type": "stream",
     "text": [
      "\n",
      "================================================================================2024-05-18 21:40:32\n",
      "Epoch 1 / 50\n",
      "\n",
      "100%|██████████| 4000/4000 [00:09<00:00, 411.62it/s, train_Accuracy=0.499, train_loss=0.694]\n",
      "100%|██████████| 125/125 [00:00<00:00, 568.40it/s, val_Accuracy=0.501, val_loss=0.693]  \n",
      "<<<<<< reach best val_Accuracy : 0.5009687542915344 >>>>>>\n",
      "\n",
      "================================================================================2024-05-18 21:40:42\n",
      "Epoch 2 / 50\n",
      "\n",
      "100%|██████████| 4000/4000 [00:09<00:00, 402.75it/s, train_Accuracy=0.502, train_loss=0.693]\n",
      "100%|██████████| 125/125 [00:00<00:00, 575.75it/s, val_Accuracy=0.5, val_loss=0.694]\n",
      "\n",
      "================================================================================2024-05-18 21:40:52\n",
      "Epoch 3 / 50\n",
      "\n",
      "100%|██████████| 4000/4000 [00:10<00:00, 394.85it/s, train_Accuracy=0.503, train_loss=0.693]\n",
      "100%|██████████| 125/125 [00:00<00:00, 667.72it/s, val_Accuracy=0.502, val_loss=0.693]\n",
      "<<<<<< reach best val_Accuracy : 0.5022812485694885 >>>>>>\n",
      "\n",
      "================================================================================2024-05-18 21:41:03\n",
      "Epoch 4 / 50\n",
      "\n",
      "100%|██████████| 4000/4000 [00:10<00:00, 397.90it/s, train_Accuracy=0.503, train_loss=0.693]\n",
      "100%|██████████| 125/125 [00:00<00:00, 571.10it/s, val_Accuracy=0.504, val_loss=0.693] \n",
      "<<<<<< reach best val_Accuracy : 0.5042812824249268 >>>>>>\n",
      "\n",
      "================================================================================2024-05-18 21:41:13\n",
      "Epoch 5 / 50\n",
      "\n",
      "100%|██████████| 4000/4000 [00:10<00:00, 396.59it/s, train_Accuracy=0.502, train_loss=0.693]\n",
      "100%|██████████| 125/125 [00:00<00:00, 568.18it/s, val_Accuracy=0.502, val_loss=0.693]\n",
      "\n",
      "================================================================================2024-05-18 21:41:23\n",
      "Epoch 6 / 50\n",
      "\n",
      "100%|██████████| 4000/4000 [00:10<00:00, 386.13it/s, train_Accuracy=0.505, train_loss=0.693]\n",
      "100%|██████████| 125/125 [00:00<00:00, 623.94it/s, val_Accuracy=0.502, val_loss=0.693]\n",
      "\n",
      "================================================================================2024-05-18 21:41:34\n",
      "Epoch 7 / 50\n",
      "\n",
      "100%|██████████| 4000/4000 [00:09<00:00, 402.67it/s, train_Accuracy=0.504, train_loss=0.693]\n",
      "100%|██████████| 125/125 [00:00<00:00, 623.21it/s, val_Accuracy=0.502, val_loss=0.693]\n",
      "\n",
      "================================================================================2024-05-18 21:41:44\n",
      "Epoch 8 / 50\n",
      "\n",
      "100%|██████████| 4000/4000 [00:09<00:00, 413.53it/s, train_Accuracy=0.504, train_loss=0.693]\n",
      "100%|██████████| 125/125 [00:00<00:00, 588.87it/s, val_Accuracy=0.5, val_loss=0.693]\n",
      "\n",
      "================================================================================2024-05-18 21:41:54\n",
      "Epoch 9 / 50\n",
      "\n",
      "100%|██████████| 4000/4000 [00:09<00:00, 413.92it/s, train_Accuracy=0.505, train_loss=0.693]\n",
      "100%|██████████| 125/125 [00:00<00:00, 649.68it/s, val_Accuracy=0.504, val_loss=0.693]\n",
      "<<<<<< val_Accuracy without improvement in 5 epoch, early stopping >>>>>>\n",
      "\n",
      "================================================================================2024-05-18 21:42:04\n",
      "Epoch 1 / 50\n",
      "\n",
      "100%|██████████| 4000/4000 [00:09<00:00, 422.01it/s, train_Accuracy=0.505, train_loss=0.693]\n",
      "100%|██████████| 125/125 [00:01<00:00, 124.43it/s, val_Accuracy=0.5, val_loss=0.693]\n",
      "<<<<<< reach best val_Accuracy : 0.5 >>>>>>\n",
      "\n",
      "================================================================================2024-05-18 21:42:15\n",
      "Epoch 2 / 50\n",
      "\n",
      "100%|██████████| 4000/4000 [00:09<00:00, 420.17it/s, train_Accuracy=0.499, train_loss=0.693]\n",
      "100%|██████████| 125/125 [00:00<00:00, 610.00it/s, val_Accuracy=0.5, val_loss=0.693]\n",
      "\n",
      "================================================================================2024-05-18 21:42:25\n",
      "Epoch 3 / 50\n",
      "\n",
      "100%|██████████| 4000/4000 [00:09<00:00, 404.91it/s, train_Accuracy=0.501, train_loss=0.693]\n",
      "100%|██████████| 125/125 [00:00<00:00, 557.77it/s, val_Accuracy=0.5, val_loss=0.693]\n",
      "\n",
      "================================================================================2024-05-18 21:42:35\n",
      "Epoch 4 / 50\n",
      "\n",
      "100%|██████████| 4000/4000 [00:10<00:00, 398.07it/s, train_Accuracy=0.502, train_loss=0.693]\n",
      "100%|██████████| 125/125 [00:00<00:00, 563.67it/s, val_Accuracy=0.5, val_loss=0.693]\n",
      "\n",
      "================================================================================2024-05-18 21:42:45\n",
      "Epoch 5 / 50\n",
      "\n",
      "100%|██████████| 4000/4000 [00:09<00:00, 402.15it/s, train_Accuracy=0.501, train_loss=0.693]\n",
      "100%|██████████| 125/125 [00:00<00:00, 619.42it/s, val_Accuracy=0.5, val_loss=0.693]\n",
      "\n",
      "================================================================================2024-05-18 21:42:55\n",
      "Epoch 6 / 50\n",
      "\n",
      "100%|██████████| 4000/4000 [00:10<00:00, 393.11it/s, train_Accuracy=0.503, train_loss=0.693]\n",
      "100%|██████████| 125/125 [00:00<00:00, 631.83it/s, val_Accuracy=0.5, val_loss=0.693]\n",
      "<<<<<< val_Accuracy without improvement in 5 epoch, early stopping >>>>>>\n",
      "\n",
      "================================================================================2024-05-18 21:43:06\n",
      "Epoch 1 / 50\n",
      "\n",
      "100%|██████████| 4000/4000 [00:10<00:00, 393.83it/s, train_Accuracy=0.5, train_loss=0.693]  \n",
      "100%|██████████| 125/125 [00:00<00:00, 672.65it/s, val_Accuracy=0.5, val_loss=0.693]\n",
      "<<<<<< reach best val_Accuracy : 0.5 >>>>>>\n",
      "\n",
      "================================================================================2024-05-18 21:43:16\n",
      "Epoch 2 / 50\n",
      "\n",
      "100%|██████████| 4000/4000 [00:09<00:00, 422.91it/s, train_Accuracy=0.501, train_loss=0.693]\n",
      "100%|██████████| 125/125 [00:00<00:00, 678.20it/s, val_Accuracy=0.5, val_loss=0.693]\n",
      "\n",
      "================================================================================2024-05-18 21:43:26\n",
      "Epoch 3 / 50\n",
      "\n",
      "100%|██████████| 4000/4000 [00:09<00:00, 420.56it/s, train_Accuracy=0.499, train_loss=0.693]\n",
      "100%|██████████| 125/125 [00:00<00:00, 648.84it/s, val_Accuracy=0.5, val_loss=0.693]\n",
      "\n",
      "================================================================================2024-05-18 21:43:36\n",
      "Epoch 4 / 50\n",
      "\n",
      "100%|██████████| 4000/4000 [00:09<00:00, 423.53it/s, train_Accuracy=0.499, train_loss=0.693]\n",
      "100%|██████████| 125/125 [00:00<00:00, 570.21it/s, val_Accuracy=0.5, val_loss=0.693]\n",
      "\n",
      "================================================================================2024-05-18 21:43:45\n",
      "Epoch 5 / 50\n",
      "\n",
      "100%|██████████| 4000/4000 [00:09<00:00, 403.23it/s, train_Accuracy=0.497, train_loss=0.693]\n",
      "100%|██████████| 125/125 [00:00<00:00, 621.69it/s, val_Accuracy=0.5, val_loss=0.693]\n",
      "\n",
      "================================================================================2024-05-18 21:43:55\n",
      "Epoch 6 / 50\n",
      "\n",
      "100%|██████████| 4000/4000 [00:09<00:00, 406.41it/s, train_Accuracy=0.501, train_loss=0.693]\n",
      "100%|██████████| 125/125 [00:00<00:00, 625.93it/s, val_Accuracy=0.5, val_loss=0.693]\n",
      "<<<<<< val_Accuracy without improvement in 5 epoch, early stopping >>>>>>\n",
      "\n",
      "================================================================================2024-05-18 21:44:06\n",
      "Epoch 1 / 50\n",
      "\n",
      "100%|██████████| 4000/4000 [00:09<00:00, 402.91it/s, train_Accuracy=0.501, train_loss=0.694]\n",
      "100%|██████████| 125/125 [00:00<00:00, 563.79it/s, val_Accuracy=0.503, val_loss=0.693]  \n",
      "<<<<<< reach best val_Accuracy : 0.5028125047683716 >>>>>>\n",
      "\n",
      "================================================================================2024-05-18 21:44:16\n",
      "Epoch 2 / 50\n",
      "\n",
      "100%|██████████| 4000/4000 [00:09<00:00, 403.21it/s, train_Accuracy=0.501, train_loss=0.693]\n",
      "100%|██████████| 125/125 [00:00<00:00, 539.63it/s, val_Accuracy=0.499, val_loss=0.693] \n",
      "\n",
      "================================================================================2024-05-18 21:44:26\n",
      "Epoch 3 / 50\n",
      "\n",
      "100%|██████████| 4000/4000 [00:10<00:00, 396.36it/s, train_Accuracy=0.5, train_loss=0.693]  \n",
      "100%|██████████| 125/125 [00:00<00:00, 567.92it/s, val_Accuracy=0.503, val_loss=0.693] \n",
      "<<<<<< reach best val_Accuracy : 0.503000020980835 >>>>>>\n",
      "\n",
      "================================================================================2024-05-18 21:44:37\n",
      "Epoch 4 / 50\n",
      "\n",
      "100%|██████████| 4000/4000 [00:10<00:00, 391.47it/s, train_Accuracy=0.502, train_loss=0.693]\n",
      "100%|██████████| 125/125 [00:00<00:00, 705.63it/s, val_Accuracy=0.502, val_loss=0.693] \n",
      "\n",
      "================================================================================2024-05-18 21:44:47\n",
      "Epoch 5 / 50\n",
      "\n",
      "100%|██████████| 4000/4000 [00:10<00:00, 399.95it/s, train_Accuracy=0.502, train_loss=0.693]\n",
      "100%|██████████| 125/125 [00:00<00:00, 611.13it/s, val_Accuracy=0.504, val_loss=0.693]\n",
      "<<<<<< reach best val_Accuracy : 0.5035000443458557 >>>>>>\n",
      "\n",
      "================================================================================2024-05-18 21:44:57\n",
      "Epoch 6 / 50\n",
      "\n",
      "100%|██████████| 4000/4000 [00:10<00:00, 398.44it/s, train_Accuracy=0.501, train_loss=0.693]\n",
      "100%|██████████| 125/125 [00:00<00:00, 602.83it/s, val_Accuracy=0.502, val_loss=0.693] \n",
      "\n",
      "================================================================================2024-05-18 21:45:08\n",
      "Epoch 7 / 50\n",
      "\n",
      "100%|██████████| 4000/4000 [00:09<00:00, 409.39it/s, train_Accuracy=0.502, train_loss=0.693]\n",
      "100%|██████████| 125/125 [00:00<00:00, 601.56it/s, val_Accuracy=0.503, val_loss=0.693] \n",
      "\n",
      "================================================================================2024-05-18 21:45:18\n",
      "Epoch 8 / 50\n",
      "\n",
      "100%|██████████| 4000/4000 [00:09<00:00, 421.30it/s, train_Accuracy=0.501, train_loss=0.693]\n",
      "100%|██████████| 125/125 [00:00<00:00, 655.68it/s, val_Accuracy=0.504, val_loss=0.693]\n",
      "\n",
      "================================================================================2024-05-18 21:45:27\n",
      "Epoch 9 / 50\n",
      "\n",
      "100%|██████████| 4000/4000 [00:09<00:00, 402.44it/s, train_Accuracy=0.502, train_loss=0.693]\n",
      "100%|██████████| 125/125 [00:00<00:00, 655.76it/s, val_Accuracy=0.5, val_loss=0.693]\n",
      "\n",
      "================================================================================2024-05-18 21:45:37\n",
      "Epoch 10 / 50\n",
      "\n",
      "100%|██████████| 4000/4000 [00:09<00:00, 408.25it/s, train_Accuracy=0.501, train_loss=0.693]\n",
      "100%|██████████| 125/125 [00:00<00:00, 611.35it/s, val_Accuracy=0.5, val_loss=0.693]\n",
      "<<<<<< val_Accuracy without improvement in 5 epoch, early stopping >>>>>>\n",
      "\n",
      "================================================================================2024-05-18 21:45:48\n",
      "Epoch 1 / 50\n",
      "\n",
      "100%|██████████| 4000/4000 [00:10<00:00, 391.38it/s, train_Accuracy=0.502, train_loss=0.693]\n",
      "100%|██████████| 125/125 [00:00<00:00, 615.28it/s, val_Accuracy=0.502, val_loss=0.693] \n",
      "<<<<<< reach best val_Accuracy : 0.5015625357627869 >>>>>>\n",
      "\n",
      "================================================================================2024-05-18 21:45:58\n",
      "Epoch 2 / 50\n",
      "\n",
      "100%|██████████| 4000/4000 [00:09<00:00, 418.13it/s, train_Accuracy=0.502, train_loss=0.693]\n",
      "100%|██████████| 125/125 [00:00<00:00, 611.19it/s, val_Accuracy=0.5, val_loss=0.693]   \n",
      "\n",
      "================================================================================2024-05-18 21:46:08\n",
      "Epoch 3 / 50\n",
      "\n",
      "100%|██████████| 4000/4000 [00:09<00:00, 408.98it/s, train_Accuracy=0.501, train_loss=0.693]\n",
      "100%|██████████| 125/125 [00:00<00:00, 594.63it/s, val_Accuracy=0.504, val_loss=0.693] \n",
      "<<<<<< reach best val_Accuracy : 0.5036250352859497 >>>>>>\n",
      "\n",
      "================================================================================2024-05-18 21:46:18\n",
      "Epoch 4 / 50\n",
      "\n",
      "100%|██████████| 4000/4000 [00:10<00:00, 390.81it/s, train_Accuracy=0.502, train_loss=0.693]\n",
      "100%|██████████| 125/125 [00:00<00:00, 596.80it/s, val_Accuracy=0.504, val_loss=0.693]\n",
      "\n",
      "================================================================================2024-05-18 21:46:29\n",
      "Epoch 5 / 50\n",
      "\n",
      "100%|██████████| 4000/4000 [00:10<00:00, 397.62it/s, train_Accuracy=0.5, train_loss=0.693]  \n",
      "100%|██████████| 125/125 [00:00<00:00, 649.97it/s, val_Accuracy=0.505, val_loss=0.693]\n",
      "<<<<<< reach best val_Accuracy : 0.5049375295639038 >>>>>>\n",
      "\n",
      "================================================================================2024-05-18 21:46:39\n",
      "Epoch 6 / 50\n",
      "\n",
      "100%|██████████| 4000/4000 [00:09<00:00, 402.20it/s, train_Accuracy=0.503, train_loss=0.693]\n",
      "100%|██████████| 125/125 [00:00<00:00, 625.08it/s, val_Accuracy=0.504, val_loss=0.693]\n",
      "\n",
      "================================================================================2024-05-18 21:46:49\n",
      "Epoch 7 / 50\n",
      "\n",
      "100%|██████████| 4000/4000 [00:09<00:00, 419.72it/s, train_Accuracy=0.502, train_loss=0.693]\n",
      "100%|██████████| 125/125 [00:00<00:00, 656.26it/s, val_Accuracy=0.505, val_loss=0.693]\n",
      "<<<<<< reach best val_Accuracy : 0.5050625205039978 >>>>>>\n",
      "\n",
      "================================================================================2024-05-18 21:46:59\n",
      "Epoch 8 / 50\n",
      "\n",
      "100%|██████████| 4000/4000 [00:09<00:00, 404.33it/s, train_Accuracy=0.501, train_loss=0.693]\n",
      "100%|██████████| 125/125 [00:00<00:00, 690.20it/s, val_Accuracy=0.505, val_loss=0.693]\n",
      "\n",
      "================================================================================2024-05-18 21:47:09\n",
      "Epoch 9 / 50\n",
      "\n",
      "100%|██████████| 4000/4000 [00:10<00:00, 397.07it/s, train_Accuracy=0.503, train_loss=0.693]\n",
      "100%|██████████| 125/125 [00:00<00:00, 566.48it/s, val_Accuracy=0.5, val_loss=0.693]\n",
      "\n",
      "================================================================================2024-05-18 21:47:19\n",
      "Epoch 10 / 50\n",
      "\n",
      "100%|██████████| 4000/4000 [00:09<00:00, 401.39it/s, train_Accuracy=0.502, train_loss=0.693]\n",
      "100%|██████████| 125/125 [00:00<00:00, 603.84it/s, val_Accuracy=0.504, val_loss=0.693]\n",
      "\n",
      "================================================================================2024-05-18 21:47:29\n",
      "Epoch 11 / 50\n",
      "\n",
      "100%|██████████| 4000/4000 [00:10<00:00, 397.55it/s, train_Accuracy=0.5, train_loss=0.693]  \n",
      "100%|██████████| 125/125 [00:00<00:00, 655.06it/s, val_Accuracy=0.504, val_loss=0.693]\n",
      "\n",
      "================================================================================2024-05-18 21:47:39\n",
      "Epoch 12 / 50\n",
      "\n",
      "100%|██████████| 4000/4000 [00:09<00:00, 406.64it/s, train_Accuracy=0.504, train_loss=0.693]\n",
      "100%|██████████| 125/125 [00:00<00:00, 561.58it/s, val_Accuracy=0.5, val_loss=0.693]\n",
      "<<<<<< val_Accuracy without improvement in 5 epoch, early stopping >>>>>>\n",
      "\n",
      "================================================================================2024-05-18 21:47:50\n",
      "Epoch 1 / 50\n",
      "\n",
      "100%|██████████| 4000/4000 [00:09<00:00, 402.89it/s, train_Accuracy=0.502, train_loss=0.693]\n",
      "100%|██████████| 125/125 [00:00<00:00, 587.77it/s, val_Accuracy=0.503, val_loss=0.693] \n",
      "<<<<<< reach best val_Accuracy : 0.502625048160553 >>>>>>\n",
      "\n",
      "================================================================================2024-05-18 21:48:00\n",
      "Epoch 2 / 50\n",
      "\n",
      "100%|██████████| 4000/4000 [00:09<00:00, 419.35it/s, train_Accuracy=0.5, train_loss=0.693]  \n",
      "100%|██████████| 125/125 [00:00<00:00, 636.56it/s, val_Accuracy=0.5, val_loss=0.693] \n",
      "\n",
      "================================================================================2024-05-18 21:48:10\n",
      "Epoch 3 / 50\n",
      "\n",
      "100%|██████████| 4000/4000 [00:09<00:00, 403.27it/s, train_Accuracy=0.502, train_loss=0.693]\n",
      "100%|██████████| 125/125 [00:00<00:00, 671.41it/s, val_Accuracy=0.503, val_loss=0.693]\n",
      "<<<<<< reach best val_Accuracy : 0.503000020980835 >>>>>>\n",
      "\n",
      "================================================================================2024-05-18 21:48:20\n",
      "Epoch 4 / 50\n",
      "\n",
      "100%|██████████| 4000/4000 [00:10<00:00, 396.88it/s, train_Accuracy=0.504, train_loss=0.693]\n",
      "100%|██████████| 125/125 [00:00<00:00, 600.17it/s, val_Accuracy=0.503, val_loss=0.693]\n",
      "<<<<<< reach best val_Accuracy : 0.5031875371932983 >>>>>>\n",
      "\n",
      "================================================================================2024-05-18 21:48:30\n",
      "Epoch 5 / 50\n",
      "\n",
      "100%|██████████| 4000/4000 [00:10<00:00, 392.86it/s, train_Accuracy=0.502, train_loss=0.693]\n",
      "100%|██████████| 125/125 [00:00<00:00, 575.52it/s, val_Accuracy=0.502, val_loss=0.693]  \n",
      "\n",
      "================================================================================2024-05-18 21:48:41\n",
      "Epoch 6 / 50\n",
      "\n",
      "100%|██████████| 4000/4000 [00:09<00:00, 403.92it/s, train_Accuracy=0.503, train_loss=0.693]\n",
      "100%|██████████| 125/125 [00:00<00:00, 621.17it/s, val_Accuracy=0.503, val_loss=0.693]\n",
      "<<<<<< reach best val_Accuracy : 0.5032187700271606 >>>>>>\n",
      "\n",
      "================================================================================2024-05-18 21:48:51\n",
      "Epoch 7 / 50\n",
      "\n",
      "100%|██████████| 4000/4000 [00:10<00:00, 396.23it/s, train_Accuracy=0.503, train_loss=0.693]\n",
      "100%|██████████| 125/125 [00:00<00:00, 608.81it/s, val_Accuracy=0.504, val_loss=0.693] \n",
      "<<<<<< reach best val_Accuracy : 0.5037500262260437 >>>>>>\n",
      "\n",
      "================================================================================2024-05-18 21:49:01\n",
      "Epoch 8 / 50\n",
      "\n",
      "100%|██████████| 4000/4000 [00:09<00:00, 410.23it/s, train_Accuracy=0.504, train_loss=0.693]\n",
      "100%|██████████| 125/125 [00:00<00:00, 626.22it/s, val_Accuracy=0.504, val_loss=0.693]\n",
      "<<<<<< reach best val_Accuracy : 0.5044062733650208 >>>>>>\n",
      "\n",
      "================================================================================2024-05-18 21:49:11\n",
      "Epoch 9 / 50\n",
      "\n",
      "100%|██████████| 4000/4000 [00:09<00:00, 413.67it/s, train_Accuracy=0.502, train_loss=0.693]\n",
      "100%|██████████| 125/125 [00:00<00:00, 627.04it/s, val_Accuracy=0.502, val_loss=0.693] \n",
      "\n",
      "================================================================================2024-05-18 21:49:21\n",
      "Epoch 10 / 50\n",
      "\n",
      "100%|██████████| 4000/4000 [00:09<00:00, 404.89it/s, train_Accuracy=0.504, train_loss=0.693]\n",
      "100%|██████████| 125/125 [00:00<00:00, 608.52it/s, val_Accuracy=0.502, val_loss=0.693] \n",
      "\n",
      "================================================================================2024-05-18 21:49:31\n",
      "Epoch 11 / 50\n",
      "\n",
      "100%|██████████| 4000/4000 [00:09<00:00, 403.57it/s, train_Accuracy=0.502, train_loss=0.693]\n",
      "100%|██████████| 125/125 [00:00<00:00, 602.66it/s, val_Accuracy=0.503, val_loss=0.693] \n",
      "\n",
      "================================================================================2024-05-18 21:49:41\n",
      "Epoch 12 / 50\n",
      "\n",
      "100%|██████████| 4000/4000 [00:10<00:00, 388.56it/s, train_Accuracy=0.503, train_loss=0.693]\n",
      "100%|██████████| 125/125 [00:00<00:00, 650.58it/s, val_Accuracy=0.504, val_loss=0.693]\n",
      "\n",
      "================================================================================2024-05-18 21:49:52\n",
      "Epoch 13 / 50\n",
      "\n",
      "100%|██████████| 4000/4000 [00:10<00:00, 390.82it/s, train_Accuracy=0.504, train_loss=0.693]\n",
      "100%|██████████| 125/125 [00:00<00:00, 652.07it/s, val_Accuracy=0.505, val_loss=0.693]\n",
      "<<<<<< reach best val_Accuracy : 0.5051250457763672 >>>>>>\n",
      "\n",
      "================================================================================2024-05-18 21:50:02\n",
      "Epoch 14 / 50\n",
      "\n",
      "100%|██████████| 4000/4000 [00:09<00:00, 406.90it/s, train_Accuracy=0.501, train_loss=0.693]\n",
      "100%|██████████| 125/125 [00:00<00:00, 574.67it/s, val_Accuracy=0.504, val_loss=0.693]\n",
      "\n",
      "================================================================================2024-05-18 21:50:12\n",
      "Epoch 15 / 50\n",
      "\n",
      "100%|██████████| 4000/4000 [00:10<00:00, 396.69it/s, train_Accuracy=0.503, train_loss=0.693]\n",
      "100%|██████████| 125/125 [00:00<00:00, 655.76it/s, val_Accuracy=0.504, val_loss=0.693]\n",
      "\n",
      "================================================================================2024-05-18 21:50:22\n",
      "Epoch 16 / 50\n",
      "\n",
      "100%|██████████| 4000/4000 [00:09<00:00, 405.26it/s, train_Accuracy=0.502, train_loss=0.693]\n",
      "100%|██████████| 125/125 [00:00<00:00, 125.69it/s, val_Accuracy=0.504, val_loss=0.693]\n",
      "\n",
      "================================================================================2024-05-18 21:50:33\n",
      "Epoch 17 / 50\n",
      "\n",
      "100%|██████████| 4000/4000 [00:09<00:00, 414.92it/s, train_Accuracy=0.502, train_loss=0.693]\n",
      "100%|██████████| 125/125 [00:00<00:00, 573.60it/s, val_Accuracy=0.503, val_loss=0.693]\n",
      "\n",
      "================================================================================2024-05-18 21:50:43\n",
      "Epoch 18 / 50\n",
      "\n",
      "100%|██████████| 4000/4000 [00:09<00:00, 404.24it/s, train_Accuracy=0.503, train_loss=0.693]\n",
      "100%|██████████| 125/125 [00:00<00:00, 563.14it/s, val_Accuracy=0.505, val_loss=0.693] \n",
      "<<<<<< reach best val_Accuracy : 0.5051875114440918 >>>>>>\n",
      "\n",
      "================================================================================2024-05-18 21:50:53\n",
      "Epoch 19 / 50\n",
      "\n",
      "100%|██████████| 4000/4000 [00:10<00:00, 397.85it/s, train_Accuracy=0.504, train_loss=0.693]\n",
      "100%|██████████| 125/125 [00:00<00:00, 582.36it/s, val_Accuracy=0.504, val_loss=0.693]\n",
      "\n",
      "================================================================================2024-05-18 21:51:04\n",
      "Epoch 20 / 50\n",
      "\n",
      "100%|██████████| 4000/4000 [00:09<00:00, 413.74it/s, train_Accuracy=0.503, train_loss=0.693]\n",
      "100%|██████████| 125/125 [00:00<00:00, 586.68it/s, val_Accuracy=0.505, val_loss=0.693] \n",
      "\n",
      "================================================================================2024-05-18 21:51:13\n",
      "Epoch 21 / 50\n",
      "\n",
      "100%|██████████| 4000/4000 [00:10<00:00, 399.81it/s, train_Accuracy=0.502, train_loss=0.693]\n",
      "100%|██████████| 125/125 [00:00<00:00, 571.29it/s, val_Accuracy=0.506, val_loss=0.693] \n",
      "<<<<<< reach best val_Accuracy : 0.5056875348091125 >>>>>>\n",
      "\n",
      "================================================================================2024-05-18 21:51:24\n",
      "Epoch 22 / 50\n",
      "\n",
      "100%|██████████| 4000/4000 [00:10<00:00, 397.01it/s, train_Accuracy=0.5, train_loss=0.693]  \n",
      "100%|██████████| 125/125 [00:00<00:00, 560.50it/s, val_Accuracy=0.504, val_loss=0.693] \n",
      "\n",
      "================================================================================2024-05-18 21:51:34\n",
      "Epoch 23 / 50\n",
      "\n",
      "100%|██████████| 4000/4000 [00:09<00:00, 404.49it/s, train_Accuracy=0.503, train_loss=0.693]\n",
      "100%|██████████| 125/125 [00:00<00:00, 655.63it/s, val_Accuracy=0.502, val_loss=0.693]\n",
      "\n",
      "================================================================================2024-05-18 21:51:44\n",
      "Epoch 24 / 50\n",
      "\n",
      "100%|██████████| 4000/4000 [00:09<00:00, 405.76it/s, train_Accuracy=0.502, train_loss=0.693]\n",
      "100%|██████████| 125/125 [00:00<00:00, 675.44it/s, val_Accuracy=0.502, val_loss=0.693]\n",
      "\n",
      "================================================================================2024-05-18 21:51:54\n",
      "Epoch 25 / 50\n",
      "\n",
      "100%|██████████| 4000/4000 [00:10<00:00, 384.75it/s, train_Accuracy=0.503, train_loss=0.693]\n",
      "100%|██████████| 125/125 [00:00<00:00, 662.96it/s, val_Accuracy=0.505, val_loss=0.693]\n",
      "\n",
      "================================================================================2024-05-18 21:52:05\n",
      "Epoch 26 / 50\n",
      "\n",
      "100%|██████████| 4000/4000 [00:09<00:00, 418.27it/s, train_Accuracy=0.504, train_loss=0.693]\n",
      "100%|██████████| 125/125 [00:00<00:00, 645.45it/s, val_Accuracy=0.504, val_loss=0.693]\n",
      "<<<<<< val_Accuracy without improvement in 5 epoch, early stopping >>>>>>\n",
      "\n",
      "================================================================================2024-05-18 21:52:15\n",
      "Epoch 1 / 50\n",
      "\n",
      "100%|██████████| 4000/4000 [00:09<00:00, 406.62it/s, train_Accuracy=0.5, train_loss=0.693]  \n",
      "100%|██████████| 125/125 [00:00<00:00, 560.61it/s, val_Accuracy=0.5, val_loss=0.693]    \n",
      "<<<<<< reach best val_Accuracy : 0.5000625252723694 >>>>>>\n",
      "\n",
      "================================================================================2024-05-18 21:52:25\n",
      "Epoch 2 / 50\n",
      "\n",
      "100%|██████████| 4000/4000 [00:09<00:00, 404.05it/s, train_Accuracy=0.503, train_loss=0.693]\n",
      "100%|██████████| 125/125 [00:00<00:00, 605.04it/s, val_Accuracy=0.5, val_loss=0.693]\n",
      "\n",
      "================================================================================2024-05-18 21:52:35\n",
      "Epoch 3 / 50\n",
      "\n",
      "100%|██████████| 4000/4000 [00:09<00:00, 401.37it/s, train_Accuracy=0.501, train_loss=0.693]\n",
      "100%|██████████| 125/125 [00:00<00:00, 641.36it/s, val_Accuracy=0.5, val_loss=0.693] \n",
      "<<<<<< reach best val_Accuracy : 0.5002812743186951 >>>>>>\n",
      "\n",
      "================================================================================2024-05-18 21:52:45\n",
      "Epoch 4 / 50\n",
      "\n",
      "100%|██████████| 4000/4000 [00:09<00:00, 400.87it/s, train_Accuracy=0.5, train_loss=0.693]  \n",
      "100%|██████████| 125/125 [00:00<00:00, 593.63it/s, val_Accuracy=0.5, val_loss=0.693]\n",
      "\n",
      "================================================================================2024-05-18 21:52:55\n",
      "Epoch 5 / 50\n",
      "\n",
      "100%|██████████| 4000/4000 [00:09<00:00, 410.08it/s, train_Accuracy=0.502, train_loss=0.693]\n",
      "100%|██████████| 125/125 [00:00<00:00, 661.98it/s, val_Accuracy=0.501, val_loss=0.693] \n",
      "<<<<<< reach best val_Accuracy : 0.5013124942779541 >>>>>>\n",
      "\n",
      "================================================================================2024-05-18 21:53:05\n",
      "Epoch 6 / 50\n",
      "\n",
      "100%|██████████| 4000/4000 [00:09<00:00, 404.89it/s, train_Accuracy=0.502, train_loss=0.693]\n",
      "100%|██████████| 125/125 [00:00<00:00, 602.17it/s, val_Accuracy=0.5, val_loss=0.693]\n",
      "\n",
      "================================================================================2024-05-18 21:53:16\n",
      "Epoch 7 / 50\n",
      "\n",
      "100%|██████████| 4000/4000 [00:10<00:00, 384.33it/s, train_Accuracy=0.502, train_loss=0.693]\n",
      "100%|██████████| 125/125 [00:00<00:00, 629.28it/s, val_Accuracy=0.5, val_loss=0.693]  \n",
      "\n",
      "================================================================================2024-05-18 21:53:26\n",
      "Epoch 8 / 50\n",
      "\n",
      "100%|██████████| 4000/4000 [00:09<00:00, 408.42it/s, train_Accuracy=0.503, train_loss=0.693]\n",
      "100%|██████████| 125/125 [00:00<00:00, 582.48it/s, val_Accuracy=0.501, val_loss=0.693]\n",
      "\n",
      "================================================================================2024-05-18 21:53:36\n",
      "Epoch 9 / 50\n",
      "\n",
      "100%|██████████| 4000/4000 [00:09<00:00, 401.51it/s, train_Accuracy=0.504, train_loss=0.693]\n",
      "100%|██████████| 125/125 [00:00<00:00, 558.45it/s, val_Accuracy=0.501, val_loss=0.693] \n",
      "\n",
      "================================================================================2024-05-18 21:53:46\n",
      "Epoch 10 / 50\n",
      "\n",
      "100%|██████████| 4000/4000 [00:09<00:00, 416.98it/s, train_Accuracy=0.501, train_loss=0.693]\n",
      "100%|██████████| 125/125 [00:00<00:00, 634.45it/s, val_Accuracy=0.501, val_loss=0.693]\n",
      "<<<<<< reach best val_Accuracy : 0.5014062523841858 >>>>>>\n",
      "\n",
      "================================================================================2024-05-18 21:53:56\n",
      "Epoch 11 / 50\n",
      "\n",
      "100%|██████████| 4000/4000 [00:09<00:00, 404.00it/s, train_Accuracy=0.502, train_loss=0.693]\n",
      "100%|██████████| 125/125 [00:00<00:00, 579.64it/s, val_Accuracy=0.5, val_loss=0.693]\n",
      "\n",
      "================================================================================2024-05-18 21:54:06\n",
      "Epoch 12 / 50\n",
      "\n",
      "100%|██████████| 4000/4000 [00:10<00:00, 391.37it/s, train_Accuracy=0.502, train_loss=0.693]\n",
      "100%|██████████| 125/125 [00:00<00:00, 561.19it/s, val_Accuracy=0.5, val_loss=0.693]\n",
      "\n",
      "================================================================================2024-05-18 21:54:17\n",
      "Epoch 13 / 50\n",
      "\n",
      "100%|██████████| 4000/4000 [00:10<00:00, 398.45it/s, train_Accuracy=0.502, train_loss=0.693]\n",
      "100%|██████████| 125/125 [00:00<00:00, 543.86it/s, val_Accuracy=0.502, val_loss=0.693]  \n",
      "<<<<<< reach best val_Accuracy : 0.5017187595367432 >>>>>>\n",
      "\n",
      "================================================================================2024-05-18 21:54:27\n",
      "Epoch 14 / 50\n",
      "\n",
      "100%|██████████| 4000/4000 [00:10<00:00, 390.05it/s, train_Accuracy=0.503, train_loss=0.693]\n",
      "100%|██████████| 125/125 [00:00<00:00, 555.35it/s, val_Accuracy=0.5, val_loss=0.693]  \n",
      "\n",
      "================================================================================2024-05-18 21:54:37\n",
      "Epoch 15 / 50\n",
      "\n",
      "100%|██████████| 4000/4000 [00:09<00:00, 400.66it/s, train_Accuracy=0.502, train_loss=0.693]\n",
      "100%|██████████| 125/125 [00:00<00:00, 551.35it/s, val_Accuracy=0.5, val_loss=0.693]\n",
      "\n",
      "================================================================================2024-05-18 21:54:48\n",
      "Epoch 16 / 50\n",
      "\n",
      "100%|██████████| 4000/4000 [00:10<00:00, 390.64it/s, train_Accuracy=0.502, train_loss=0.693]\n",
      "100%|██████████| 125/125 [00:00<00:00, 558.46it/s, val_Accuracy=0.5, val_loss=0.693]  \n",
      "\n",
      "================================================================================2024-05-18 21:54:58\n",
      "Epoch 17 / 50\n",
      "\n",
      "100%|██████████| 4000/4000 [00:09<00:00, 412.03it/s, train_Accuracy=0.504, train_loss=0.693]\n",
      "100%|██████████| 125/125 [00:00<00:00, 592.42it/s, val_Accuracy=0.502, val_loss=0.693] \n",
      "\n",
      "================================================================================2024-05-18 21:55:08\n",
      "Epoch 18 / 50\n",
      "\n",
      "100%|██████████| 4000/4000 [00:09<00:00, 404.11it/s, train_Accuracy=0.504, train_loss=0.693]\n",
      "100%|██████████| 125/125 [00:00<00:00, 566.54it/s, val_Accuracy=0.5, val_loss=0.693]  \n",
      "<<<<<< val_Accuracy without improvement in 5 epoch, early stopping >>>>>>\n",
      "\n",
      "================================================================================2024-05-18 21:55:19\n",
      "Epoch 1 / 50\n",
      "\n",
      "100%|██████████| 4000/4000 [00:09<00:00, 417.06it/s, train_Accuracy=0.5, train_loss=0.693]  \n",
      "100%|██████████| 125/125 [00:00<00:00, 634.51it/s, val_Accuracy=0.5, val_loss=0.693]   \n",
      "<<<<<< reach best val_Accuracy : 0.5002187490463257 >>>>>>\n",
      "\n",
      "================================================================================2024-05-18 21:55:28\n",
      "Epoch 2 / 50\n",
      "\n",
      "100%|██████████| 4000/4000 [00:09<00:00, 400.64it/s, train_Accuracy=0.503, train_loss=0.693]\n",
      "100%|██████████| 125/125 [00:00<00:00, 566.26it/s, val_Accuracy=0.501, val_loss=0.693] \n",
      "<<<<<< reach best val_Accuracy : 0.5005000233650208 >>>>>>\n",
      "\n",
      "================================================================================2024-05-18 21:55:39\n",
      "Epoch 3 / 50\n",
      "\n",
      "100%|██████████| 4000/4000 [00:09<00:00, 411.73it/s, train_Accuracy=0.503, train_loss=0.693]\n",
      "100%|██████████| 125/125 [00:00<00:00, 606.93it/s, val_Accuracy=0.5, val_loss=0.693]\n",
      "\n",
      "================================================================================2024-05-18 21:55:49\n",
      "Epoch 4 / 50\n",
      "\n",
      "100%|██████████| 4000/4000 [00:09<00:00, 402.84it/s, train_Accuracy=0.501, train_loss=0.693]\n",
      "100%|██████████| 125/125 [00:00<00:00, 674.02it/s, val_Accuracy=0.501, val_loss=0.693]\n",
      "<<<<<< reach best val_Accuracy : 0.5014062523841858 >>>>>>\n",
      "\n",
      "================================================================================2024-05-18 21:55:59\n",
      "Epoch 5 / 50\n",
      "\n",
      "100%|██████████| 4000/4000 [00:09<00:00, 404.66it/s, train_Accuracy=0.503, train_loss=0.693]\n",
      "100%|██████████| 125/125 [00:00<00:00, 621.70it/s, val_Accuracy=0.502, val_loss=0.693]\n",
      "<<<<<< reach best val_Accuracy : 0.5021562576293945 >>>>>>\n",
      "\n",
      "================================================================================2024-05-18 21:56:09\n",
      "Epoch 6 / 50\n",
      "\n",
      "100%|██████████| 4000/4000 [00:10<00:00, 393.38it/s, train_Accuracy=0.502, train_loss=0.693]\n",
      "100%|██████████| 125/125 [00:00<00:00, 571.11it/s, val_Accuracy=0.502, val_loss=0.693] \n",
      "\n",
      "================================================================================2024-05-18 21:56:19\n",
      "Epoch 7 / 50\n",
      "\n",
      "100%|██████████| 4000/4000 [00:10<00:00, 398.71it/s, train_Accuracy=0.502, train_loss=0.693]\n",
      "100%|██████████| 125/125 [00:00<00:00, 602.83it/s, val_Accuracy=0.501, val_loss=0.693] \n",
      "\n",
      "================================================================================2024-05-18 21:56:29\n",
      "Epoch 8 / 50\n",
      "\n",
      "100%|██████████| 4000/4000 [00:09<00:00, 409.36it/s, train_Accuracy=0.504, train_loss=0.693]\n",
      "100%|██████████| 125/125 [00:00<00:00, 612.45it/s, val_Accuracy=0.501, val_loss=0.693]\n",
      "\n",
      "================================================================================2024-05-18 21:56:39\n",
      "Epoch 9 / 50\n",
      "\n",
      "100%|██████████| 4000/4000 [00:10<00:00, 393.18it/s, train_Accuracy=0.504, train_loss=0.693]\n",
      "100%|██████████| 125/125 [00:00<00:00, 600.50it/s, val_Accuracy=0.5, val_loss=0.693]\n",
      "\n",
      "================================================================================2024-05-18 21:56:50\n",
      "Epoch 10 / 50\n",
      "\n",
      "100%|██████████| 4000/4000 [00:10<00:00, 394.77it/s, train_Accuracy=0.503, train_loss=0.693]\n",
      "100%|██████████| 125/125 [00:00<00:00, 584.26it/s, val_Accuracy=0.5, val_loss=0.693]  \n",
      "<<<<<< val_Accuracy without improvement in 5 epoch, early stopping >>>>>>\n",
      "\n",
      "================================================================================2024-05-18 21:57:01\n",
      "Epoch 1 / 50\n",
      "\n",
      "100%|██████████| 4000/4000 [00:09<00:00, 402.74it/s, train_Accuracy=0.503, train_loss=0.694]\n",
      "100%|██████████| 125/125 [00:00<00:00, 652.55it/s, val_Accuracy=0.5, val_loss=0.693]\n",
      "<<<<<< reach best val_Accuracy : 0.5 >>>>>>\n",
      "\n",
      "================================================================================2024-05-18 21:57:11\n",
      "Epoch 2 / 50\n",
      "\n",
      "100%|██████████| 4000/4000 [00:09<00:00, 410.38it/s, train_Accuracy=0.5, train_loss=0.693]   \n",
      "100%|██████████| 125/125 [00:00<00:00, 534.84it/s, val_Accuracy=0.505, val_loss=0.693] \n",
      "<<<<<< reach best val_Accuracy : 0.5045312643051147 >>>>>>\n",
      "\n",
      "================================================================================2024-05-18 21:57:21\n",
      "Epoch 3 / 50\n",
      "\n",
      "100%|██████████| 4000/4000 [00:09<00:00, 405.61it/s, train_Accuracy=0.5, train_loss=0.693]  \n",
      "100%|██████████| 125/125 [00:00<00:00, 699.25it/s, val_Accuracy=0.505, val_loss=0.693]\n",
      "<<<<<< reach best val_Accuracy : 0.5053125023841858 >>>>>>\n",
      "\n",
      "================================================================================2024-05-18 21:57:31\n",
      "Epoch 4 / 50\n",
      "\n",
      "100%|██████████| 4000/4000 [00:10<00:00, 399.55it/s, train_Accuracy=0.5, train_loss=0.693]  \n",
      "100%|██████████| 125/125 [00:00<00:00, 612.45it/s, val_Accuracy=0.501, val_loss=0.693]\n",
      "\n",
      "================================================================================2024-05-18 21:57:41\n",
      "Epoch 5 / 50\n",
      "\n",
      "100%|██████████| 4000/4000 [00:09<00:00, 408.80it/s, train_Accuracy=0.502, train_loss=0.693]\n",
      "100%|██████████| 125/125 [00:00<00:00, 663.93it/s, val_Accuracy=0.504, val_loss=0.693]\n",
      "\n",
      "================================================================================2024-05-18 21:57:51\n",
      "Epoch 6 / 50\n",
      "\n",
      "100%|██████████| 4000/4000 [00:09<00:00, 410.90it/s, train_Accuracy=0.502, train_loss=0.693]\n",
      "100%|██████████| 125/125 [00:00<00:00, 607.05it/s, val_Accuracy=0.504, val_loss=0.693]\n",
      "\n",
      "================================================================================2024-05-18 21:58:01\n",
      "Epoch 7 / 50\n",
      "\n",
      "100%|██████████| 4000/4000 [00:09<00:00, 416.61it/s, train_Accuracy=0.503, train_loss=0.693]\n",
      "100%|██████████| 125/125 [00:00<00:00, 606.91it/s, val_Accuracy=0.503, val_loss=0.693]\n",
      "\n",
      "================================================================================2024-05-18 21:58:11\n",
      "Epoch 8 / 50\n",
      "\n",
      "100%|██████████| 4000/4000 [00:09<00:00, 402.11it/s, train_Accuracy=0.501, train_loss=0.693]\n",
      "100%|██████████| 125/125 [00:00<00:00, 609.15it/s, val_Accuracy=0.503, val_loss=0.693]\n",
      "<<<<<< val_Accuracy without improvement in 5 epoch, early stopping >>>>>>\n",
      "\n",
      "================================================================================2024-05-18 21:58:22\n",
      "Epoch 1 / 50\n",
      "\n",
      "100%|██████████| 4000/4000 [00:10<00:00, 397.13it/s, train_Accuracy=0.502, train_loss=0.693]\n",
      "100%|██████████| 125/125 [00:00<00:00, 547.23it/s, val_Accuracy=0.501, val_loss=0.693]\n",
      "<<<<<< reach best val_Accuracy : 0.5010312795639038 >>>>>>\n",
      "\n",
      "================================================================================2024-05-18 21:58:32\n",
      "Epoch 2 / 50\n",
      "\n",
      "100%|██████████| 4000/4000 [00:09<00:00, 416.22it/s, train_Accuracy=0.502, train_loss=0.693]\n",
      "100%|██████████| 125/125 [00:00<00:00, 574.36it/s, val_Accuracy=0.5, val_loss=0.693]\n",
      "\n",
      "================================================================================2024-05-18 21:58:42\n",
      "Epoch 3 / 50\n",
      "\n",
      "100%|██████████| 4000/4000 [00:10<00:00, 393.82it/s, train_Accuracy=0.502, train_loss=0.693]\n",
      "100%|██████████| 125/125 [00:00<00:00, 127.51it/s, val_Accuracy=0.5, val_loss=0.693]\n",
      "\n",
      "================================================================================2024-05-18 21:58:53\n",
      "Epoch 4 / 50\n",
      "\n",
      "100%|██████████| 4000/4000 [00:09<00:00, 408.09it/s, train_Accuracy=0.502, train_loss=0.693]\n",
      "100%|██████████| 125/125 [00:00<00:00, 693.91it/s, val_Accuracy=0.502, val_loss=0.693]\n",
      "<<<<<< reach best val_Accuracy : 0.5021875500679016 >>>>>>\n",
      "\n",
      "================================================================================2024-05-18 21:59:03\n",
      "Epoch 5 / 50\n",
      "\n",
      "100%|██████████| 4000/4000 [00:10<00:00, 382.97it/s, train_Accuracy=0.503, train_loss=0.693]\n",
      "100%|██████████| 125/125 [00:00<00:00, 676.42it/s, val_Accuracy=0.502, val_loss=0.693]\n",
      "\n",
      "================================================================================2024-05-18 21:59:13\n",
      "Epoch 6 / 50\n",
      "\n",
      "100%|██████████| 4000/4000 [00:09<00:00, 401.70it/s, train_Accuracy=0.501, train_loss=0.693]\n",
      "100%|██████████| 125/125 [00:00<00:00, 590.98it/s, val_Accuracy=0.502, val_loss=0.693]\n",
      "<<<<<< reach best val_Accuracy : 0.5023125410079956 >>>>>>\n",
      "\n",
      "================================================================================2024-05-18 21:59:24\n",
      "Epoch 7 / 50\n",
      "\n",
      "100%|██████████| 4000/4000 [00:09<00:00, 400.30it/s, train_Accuracy=0.502, train_loss=0.693]\n",
      "100%|██████████| 125/125 [00:00<00:00, 610.86it/s, val_Accuracy=0.502, val_loss=0.693] \n",
      "<<<<<< reach best val_Accuracy : 0.5024062991142273 >>>>>>\n",
      "\n",
      "================================================================================2024-05-18 21:59:34\n",
      "Epoch 8 / 50\n",
      "\n",
      "100%|██████████| 4000/4000 [00:10<00:00, 386.33it/s, train_Accuracy=0.502, train_loss=0.693]\n",
      "100%|██████████| 125/125 [00:00<00:00, 608.57it/s, val_Accuracy=0.503, val_loss=0.693] \n",
      "<<<<<< reach best val_Accuracy : 0.5025312900543213 >>>>>>\n",
      "\n",
      "================================================================================2024-05-18 21:59:44\n",
      "Epoch 9 / 50\n",
      "\n",
      "100%|██████████| 4000/4000 [00:09<00:00, 415.71it/s, train_Accuracy=0.502, train_loss=0.693]\n",
      "100%|██████████| 125/125 [00:00<00:00, 563.28it/s, val_Accuracy=0.503, val_loss=0.693] \n",
      "<<<<<< reach best val_Accuracy : 0.5031562447547913 >>>>>>\n",
      "\n",
      "================================================================================2024-05-18 21:59:54\n",
      "Epoch 10 / 50\n",
      "\n",
      "100%|██████████| 4000/4000 [00:09<00:00, 416.56it/s, train_Accuracy=0.502, train_loss=0.693]\n",
      "100%|██████████| 125/125 [00:00<00:00, 540.50it/s, val_Accuracy=0.502, val_loss=0.693] \n",
      "\n",
      "================================================================================2024-05-18 22:00:04\n",
      "Epoch 11 / 50\n",
      "\n",
      "100%|██████████| 4000/4000 [00:10<00:00, 396.53it/s, train_Accuracy=0.5, train_loss=0.693]  \n",
      "100%|██████████| 125/125 [00:00<00:00, 663.45it/s, val_Accuracy=0.5, val_loss=0.693]\n",
      "\n",
      "================================================================================2024-05-18 22:00:14\n",
      "Epoch 12 / 50\n",
      "\n",
      "100%|██████████| 4000/4000 [00:09<00:00, 403.06it/s, train_Accuracy=0.501, train_loss=0.693]\n",
      "100%|██████████| 125/125 [00:00<00:00, 649.69it/s, val_Accuracy=0.503, val_loss=0.693]\n",
      "<<<<<< reach best val_Accuracy : 0.5033437609672546 >>>>>>\n",
      "\n",
      "================================================================================2024-05-18 22:00:24\n",
      "Epoch 13 / 50\n",
      "\n",
      "100%|██████████| 4000/4000 [00:10<00:00, 395.40it/s, train_Accuracy=0.5, train_loss=0.693]  \n",
      "100%|██████████| 125/125 [00:00<00:00, 560.70it/s, val_Accuracy=0.502, val_loss=0.693]\n",
      "\n",
      "================================================================================2024-05-18 22:00:35\n",
      "Epoch 14 / 50\n",
      "\n",
      "100%|██████████| 4000/4000 [00:10<00:00, 394.26it/s, train_Accuracy=0.503, train_loss=0.693]\n",
      "100%|██████████| 125/125 [00:00<00:00, 556.60it/s, val_Accuracy=0.502, val_loss=0.693] \n",
      "\n",
      "================================================================================2024-05-18 22:00:45\n",
      "Epoch 15 / 50\n",
      "\n",
      "100%|██████████| 4000/4000 [00:10<00:00, 398.82it/s, train_Accuracy=0.499, train_loss=0.693]\n",
      "100%|██████████| 125/125 [00:00<00:00, 568.30it/s, val_Accuracy=0.5, val_loss=0.693]\n",
      "\n",
      "================================================================================2024-05-18 22:00:55\n",
      "Epoch 16 / 50\n",
      "\n",
      "100%|██████████| 4000/4000 [00:10<00:00, 395.65it/s, train_Accuracy=0.504, train_loss=0.693]\n",
      "100%|██████████| 125/125 [00:00<00:00, 626.36it/s, val_Accuracy=0.5, val_loss=0.693]\n",
      "\n",
      "================================================================================2024-05-18 22:01:06\n",
      "Epoch 17 / 50\n",
      "\n",
      "100%|██████████| 4000/4000 [00:10<00:00, 392.03it/s, train_Accuracy=0.501, train_loss=0.693]\n",
      "100%|██████████| 125/125 [00:00<00:00, 693.27it/s, val_Accuracy=0.503, val_loss=0.693]\n",
      "<<<<<< val_Accuracy without improvement in 5 epoch, early stopping >>>>>>\n",
      "sig_lambda: 0.01 estimated lambda mean: 0.1418588409770117 estimated lambda std: 0.1836737622407411\n"
     ]
    }
   ],
   "source": [
    "n_bootstrap = 10\n",
    "\n",
    "\n",
    "test_ratio=0.2\n",
    "val_ratio = 0.2\n",
    "n = 100000\n",
    "sig_lambda = 0.01\n",
    "estimated_lambdas = np.zeros(n_bootstrap)\n",
    "for j in range(n_bootstrap):\n",
    "    exp_events, bkg_events = create_exp_bkg_events(bkg_embed_points, charged_Higgs_embed_points, sig_lambda, n)\n",
    "    X1, X2, W1, W2 = train_test_split(exp_events, bkg_events, test_ratio)\n",
    "    n1 = len(W1)\n",
    "    m1 = len(X1)\n",
    "    n2 = len(W2)\n",
    "    m2 = len(X2)\n",
    "    train_dataloader, val_dataloader = get_dataloaders(X1, W1, val_ratio, normalizer)\n",
    "\n",
    "    hidden_dim = [8, 16, 16, 16, 8]\n",
    "    naive_model = MLP(output_dim, hidden_sizes=hidden_dim)\n",
    "    naive_model.to(device)\n",
    "    optimizer = torch.optim.Adam(naive_model.parameters(), lr=1e-3, weight_decay=1e-5)\n",
    "    loss_fn = nn.BCELoss()\n",
    "    acc_metric = BinaryACCUpdater()\n",
    "    metric_dict = {\"Accuracy\": acc_metric}\n",
    "\n",
    "    opt_train_model(\n",
    "        naive_model, optimizer,\n",
    "        loss_fn, metrics_dict=metric_dict,\n",
    "        train_dataloader=train_dataloader, val_dataloader=val_dataloader,\n",
    "        monitor=\"val_Accuracy\", mode=\"max\",\n",
    "        epochs=50\n",
    "        )\n",
    "\n",
    "    lambda_estimator = LambdaEstimator(X2, W2, naive_model, T=0.5, n_bins=20, normalizer=normalizer)\n",
    "    estimated_lambdas[j] = lambda_estimator.estimated_lambda\n",
    "print(\"sig_lambda:\", sig_lambda, \"estimated lambda mean:\", estimated_lambdas.mean(), \"estimated lambda std:\", estimated_lambdas.std())\n",
    "lambda_mean_dict[str(sig_lambda)] = estimated_lambdas.mean()\n",
    "lambda_std_dict[str(sig_lambda)] = estimated_lambdas.std(ddof = 1)\n"
   ]
  },
  {
   "cell_type": "code",
   "execution_count": 33,
   "metadata": {},
   "outputs": [
    {
     "name": "stdout",
     "output_type": "stream",
     "text": [
      "[3.63636363e-04 8.09090857e-03 7.27272727e-04 6.72727246e-03\n",
      " 2.71015370e-02 3.96059458e-01 5.30599016e-01 2.24361125e-01\n",
      " 3.18181817e-03 2.21376366e-01]\n",
      "{'0': 0.0080320690971304, '0.01': 0.1418588409770117}\n",
      "{'0': 0.019326242534985116, '0.01': 0.19360914503099133}\n"
     ]
    }
   ],
   "source": [
    "print(estimated_lambdas)\n",
    "print(lambda_mean_dict)\n",
    "print(lambda_std_dict)"
   ]
  },
  {
   "cell_type": "code",
   "execution_count": 34,
   "metadata": {},
   "outputs": [],
   "source": [
    "from visualize import plot_lambda"
   ]
  },
  {
   "cell_type": "code",
   "execution_count": 35,
   "metadata": {},
   "outputs": [
    {
     "data": {
      "image/png": "[encoded data removed]",
      "text/plain": [
       "<Figure size 640x480 with 1 Axes>"
      ]
     },
     "metadata": {},
     "output_type": "display_data"
    }
   ],
   "source": [
    "plot_lambda(lambda_mean_dict, lambda_std_dict)"
   ]
  },
  {
   "cell_type": "code",
   "execution_count": null,
   "metadata": {},
   "outputs": [],
   "source": []
  }
 ],
 "metadata": {
  "kernelspec": {
   "display_name": "ad",
   "language": "python",
   "name": "python3"
  },
  "language_info": {
   "codemirror_mode": {
    "name": "ipython",
    "version": 3
   },
   "file_extension": ".py",
   "mimetype": "text/x-python",
   "name": "python",
   "nbconvert_exporter": "python",
   "pygments_lexer": "ipython3",
   "version": "3.11.8"
  }
 },
 "nbformat": 4,
 "nbformat_minor": 2
}
