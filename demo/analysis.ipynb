{
 "cells": [
  {
   "cell_type": "code",
   "execution_count": 2,
   "metadata": {},
   "outputs": [],
   "source": [
    "import torch\n",
    "from torch import nn\n",
    "import numpy as np\n",
    "import sys\n",
    "import os\n",
    "import pandas as pd\n",
    "from torch.utils.data import Dataset, DataLoader\n",
    "from tqdm import tqdm\n",
    "\n",
    "\n",
    "sys.path.append(\"..\")\n",
    "from model import ParticleEventTransformer\n",
    "from data import get_database_path, get_h5_files, read_h5_file, select_events\n",
    "from utils import load_toml_config\n",
    "\n",
    "import matplotlib.pyplot as plt\n",
    "\n",
    "\n",
    "device = \"cuda\" if torch.cuda.is_available() else \"mps\" if sys.platform == \"darwin\" else \"cpu\"\n"
   ]
  },
  {
   "cell_type": "code",
   "execution_count": 3,
   "metadata": {},
   "outputs": [],
   "source": [
    "EMD_config = load_toml_config(\"EMD\")\n",
    "particle_type_scale = EMD_config['particle_type_scale']"
   ]
  },
  {
   "cell_type": "markdown",
   "metadata": {},
   "source": [
    "# Load raw events"
   ]
  },
  {
   "cell_type": "code",
   "execution_count": 5,
   "metadata": {},
   "outputs": [
    {
     "name": "stdout",
     "output_type": "stream",
     "text": [
      "SM (13451915, 19, 4)\n",
      "neutral_boson (55969, 19, 4)\n",
      "leptoquark (340544, 19, 4)\n",
      "neutral_Higgs (691283, 19, 4)\n",
      "charged_Higgs (760272, 19, 4)\n"
     ]
    }
   ],
   "source": [
    "files = load_toml_config(\"file\")\n",
    "database_path = get_database_path()\n",
    "bkg_files, sig_files = get_h5_files()\n",
    "\n",
    "# bkg = read_h5_file(database_path, files[\"SM\"])\n",
    "# # SM processes\n",
    "\n",
    "# neutral_boson = read_h5_file(database_path, files[\"neutral_boson\"])\n",
    "# print(neutral_boson.shape)\n",
    "# # A neutral scalar boson (A) with mass 50 GeV, decaying to two off-shell Z bosons, each forced to decay to two leptons: A → 4l\n",
    "\n",
    "# leptoquark = read_h5_file(database_path, files[\"leptoquark\"])\n",
    "# print(leptoquark.shape)\n",
    "# # A leptoquark (LQ) with mass 80 GeV, decaying to a b quark and a τ lepton24\n",
    "\n",
    "# neutral_Higgs = read_h5_file(database_path, files[\"neutral_Higgs\"])\n",
    "# print(neutral_Higgs.shape)\n",
    "# # A scalar boson with mass 60 GeV, decaying to two tau leptons: h0→ ττ\n",
    "\n",
    "# charged_Higgs = read_h5_file(database_path, files[\"charged_Higgs\"])\n",
    "# print(charged_Higgs.shape)\n",
    "# # A charged scalar boson with mass 60 GeV, decaying to a tau lepton and a neutrino\n",
    "\n",
    "events = {}\n",
    "for key, value in files.items():\n",
    "    events[key] = read_h5_file(database_path, value)\n",
    "    print(key, events[key].shape)"
   ]
  },
  {
   "cell_type": "code",
   "execution_count": null,
   "metadata": {},
   "outputs": [],
   "source": [
    "print()"
   ]
  },
  {
   "cell_type": "code",
   "execution_count": 58,
   "metadata": {},
   "outputs": [
    {
     "name": "stdout",
     "output_type": "stream",
     "text": [
      "dict_keys(['SM', 'neutral_boson', 'leptoquark', 'neutral_Higgs', 'charged_Higgs'])\n"
     ]
    }
   ],
   "source": [
    "print(files.keys())"
   ]
  },
  {
   "cell_type": "markdown",
   "metadata": {},
   "source": [
    "# Load embedding model"
   ]
  },
  {
   "cell_type": "code",
   "execution_count": 4,
   "metadata": {},
   "outputs": [
    {
     "name": "stdout",
     "output_type": "stream",
     "text": [
      "{'feature_size': 3, 'embed_size': 16, 'num_heads': 8, 'num_layers': 4, 'hidden_dim': 256, 'output_dim': 4}\n"
     ]
    },
    {
     "name": "stderr",
     "output_type": "stream",
     "text": [
      "/home/desmondhe/anaconda3/envs/ad/lib/python3.11/site-packages/torch/nn/modules/transformer.py:286: UserWarning: enable_nested_tensor is True, but self.use_nested_tensor is False because encoder_layer.self_attn.batch_first was not True(use batch_first for better inference performance)\n",
      "  warnings.warn(f\"enable_nested_tensor is True, but self.use_nested_tensor is False because {why_not_sparsity_fast_path}\")\n"
     ]
    }
   ],
   "source": [
    "model_hyper_parameters = load_toml_config(\"Transformer\")\n",
    "print(model_hyper_parameters)\n",
    "feature_size = model_hyper_parameters[\"feature_size\"]\n",
    "embed_size = model_hyper_parameters[\"embed_size\"]\n",
    "num_heads = model_hyper_parameters[\"num_heads\"]\n",
    "num_layers = model_hyper_parameters[\"num_layers\"]\n",
    "hidden_dim = model_hyper_parameters[\"hidden_dim\"]\n",
    "output_dim = model_hyper_parameters[\"output_dim\"]\n",
    "\n",
    "embedding_model = ParticleEventTransformer(feature_size, embed_size, num_heads, hidden_dim, output_dim, num_layers)"
   ]
  },
  {
   "cell_type": "markdown",
   "metadata": {},
   "source": [
    "# Embed events"
   ]
  },
  {
   "cell_type": "code",
   "execution_count": 5,
   "metadata": {},
   "outputs": [],
   "source": [
    "from analysis import inference"
   ]
  },
  {
   "cell_type": "code",
   "execution_count": 6,
   "metadata": {},
   "outputs": [],
   "source": [
    "from data import EventDataset"
   ]
  },
  {
   "cell_type": "code",
   "execution_count": 7,
   "metadata": {},
   "outputs": [],
   "source": [
    "infer_test_num = 1000000\n",
    "bkg_infer_test = bkg[:infer_test_num]\n",
    "infer_dataset = EventDataset(bkg_infer_test)\n",
    "infer_dataloader = DataLoader(infer_dataset, batch_size=256, num_workers=16, prefetch_factor=5)\n",
    "\n",
    "neutral_boson_infer_test = neutral_boson[:infer_test_num]\n",
    "neutral_boson_infer_dataset = EventDataset(neutral_boson_infer_test)\n",
    "neutral_boson_infer_dataloader = DataLoader(neutral_boson_infer_dataset, batch_size=256, num_workers=16, prefetch_factor=5)\n",
    "\n",
    "leptoquark_infer_test = leptoquark[:infer_test_num]\n",
    "leptoquark_infer_dataset = EventDataset(leptoquark_infer_test)\n",
    "leptoquark_infer_dataloader = DataLoader(leptoquark_infer_dataset, batch_size=256, num_workers=16, prefetch_factor=5)\n",
    "\n",
    "neutral_Higgs_infer_test = neutral_Higgs[:infer_test_num]\n",
    "neutral_Higgs_infer_dataset = EventDataset(neutral_Higgs_infer_test)\n",
    "neutral_Higgs_infer_dataloader = DataLoader(neutral_Higgs_infer_dataset, batch_size=256, num_workers=16, prefetch_factor=5)\n",
    "\n",
    "charged_Higgs_infer_test = charged_Higgs[:infer_test_num]\n",
    "charged_Higgs_infer_dataset = EventDataset(charged_Higgs_infer_test)\n",
    "charged_Higgs_infer_dataloader = DataLoader(charged_Higgs_infer_dataset, batch_size=256, num_workers=16, prefetch_factor=5)"
   ]
  },
  {
   "cell_type": "code",
   "execution_count": 8,
   "metadata": {},
   "outputs": [
    {
     "name": "stderr",
     "output_type": "stream",
     "text": [
      "100%|██████████| 3907/3907 [00:08<00:00, 457.04it/s]"
     ]
    },
    {
     "name": "stdout",
     "output_type": "stream",
     "text": [
      "(1000000, 4)\n"
     ]
    },
    {
     "name": "stderr",
     "output_type": "stream",
     "text": [
      "\n"
     ]
    }
   ],
   "source": [
    "embedding_model.load_state_dict(torch.load(os.path.join(\"..\", \"model\",\"emb_dim{}_type_scale{}.pt\".format(output_dim, particle_type_scale))))\n",
    "embedding_model.to(device)\n",
    "bkg_embed_points = inference(embedding_model, infer_dataloader, embed_dim=output_dim)\n",
    "print(bkg_embed_points.shape)"
   ]
  },
  {
   "cell_type": "code",
   "execution_count": 9,
   "metadata": {},
   "outputs": [
    {
     "name": "stderr",
     "output_type": "stream",
     "text": [
      "100%|██████████| 219/219 [00:01<00:00, 197.00it/s]\n",
      "100%|██████████| 1331/1331 [00:03<00:00, 404.87it/s]\n",
      "100%|██████████| 2701/2701 [00:06<00:00, 442.79it/s]\n",
      "100%|██████████| 2970/2970 [00:06<00:00, 448.12it/s]"
     ]
    },
    {
     "name": "stdout",
     "output_type": "stream",
     "text": [
      "(55969, 4)\n",
      "(340544, 4)\n",
      "(691283, 4)\n",
      "(760272, 4)\n"
     ]
    },
    {
     "name": "stderr",
     "output_type": "stream",
     "text": [
      "\n"
     ]
    }
   ],
   "source": [
    "neutral_boson_embed_points = inference(embedding_model, neutral_boson_infer_dataloader, embed_dim=output_dim)\n",
    "leptoquark_embed_points = inference(embedding_model, leptoquark_infer_dataloader, embed_dim=output_dim)\n",
    "neutral_Higgs_embed_points = inference(embedding_model, neutral_Higgs_infer_dataloader, embed_dim=output_dim)\n",
    "charged_Higgs_embed_points = inference(embedding_model, charged_Higgs_infer_dataloader, embed_dim=output_dim)\n",
    "print(neutral_boson_embed_points.shape)\n",
    "print(leptoquark_embed_points.shape)\n",
    "print(neutral_Higgs_embed_points.shape)\n",
    "print(charged_Higgs_embed_points.shape)"
   ]
  },
  {
   "cell_type": "code",
   "execution_count": 10,
   "metadata": {},
   "outputs": [],
   "source": [
    "from analysis import Normalizer"
   ]
  },
  {
   "cell_type": "code",
   "execution_count": 11,
   "metadata": {},
   "outputs": [],
   "source": [
    "import importlib\n",
    "import analysis\n",
    "importlib.reload(analysis)\n",
    "from analysis import Normalizer"
   ]
  },
  {
   "cell_type": "code",
   "execution_count": 12,
   "metadata": {},
   "outputs": [],
   "source": [
    "normalizer = Normalizer(bkg_embed_points, neutral_boson_embed_points, leptoquark_embed_points, neutral_Higgs_embed_points, charged_Higgs_embed_points)"
   ]
  },
  {
   "cell_type": "markdown",
   "metadata": {},
   "source": [
    "# Split embed points"
   ]
  },
  {
   "cell_type": "code",
   "execution_count": 13,
   "metadata": {},
   "outputs": [],
   "source": [
    "tpr_dict = {}\n",
    "fpr_dict = {}\n",
    "auc_dict = {}"
   ]
  },
  {
   "cell_type": "code",
   "execution_count": 14,
   "metadata": {},
   "outputs": [],
   "source": [
    "from analysis import create_exp_bkg_events, train_test_split, get_dataloaders"
   ]
  },
  {
   "cell_type": "code",
   "execution_count": 59,
   "metadata": {},
   "outputs": [],
   "source": [
    "test_ratio=0.2\n",
    "val_ratio = 0.2\n",
    "sig_lambda = 0.8\n",
    "n = 100000\n",
    "\n",
    "exp_events, bkg_events = create_exp_bkg_events(bkg_embed_points, neutral_boson_embed_points, sig_lambda, n)\n",
    "# exp_events, bkg_events = create_exp_bkg_events(bkg_embed_points, leptoquark_embed_points, sig_lambda, n)\n",
    "# exp_events, bkg_events = create_exp_bkg_events(bkg_embed_points, neutral_Higgs_embed_points, sig_lambda, n)\n",
    "# exp_events, bkg_events = create_exp_bkg_events(bkg_embed_points, charged_Higgs_embed_points, sig_lambda, n)\n",
    "X1, X2, W1, W2 = train_test_split(exp_events, bkg_events, test_ratio)\n",
    "n1 = len(W1)\n",
    "m1 = len(X1)\n",
    "pi = n1 / (n1 + m1)\n",
    "n2 = len(W2)\n",
    "m2 = len(X2)\n",
    "train_dataloader, val_dataloader = get_dataloaders(X1, W1, val_ratio, normalizer)"
   ]
  },
  {
   "cell_type": "markdown",
   "metadata": {},
   "source": [
    "# Classify Model"
   ]
  },
  {
   "cell_type": "code",
   "execution_count": 60,
   "metadata": {},
   "outputs": [],
   "source": [
    "from model import MLP\n",
    "hidden_dim = [8, 16, 16, 16, 8]\n",
    "naive_model = MLP(output_dim, hidden_sizes=hidden_dim)"
   ]
  },
  {
   "cell_type": "markdown",
   "metadata": {},
   "source": [
    "# Train"
   ]
  },
  {
   "cell_type": "code",
   "execution_count": 61,
   "metadata": {},
   "outputs": [],
   "source": [
    "from metrics import BinaryACCUpdater"
   ]
  },
  {
   "cell_type": "code",
   "execution_count": 62,
   "metadata": {},
   "outputs": [],
   "source": [
    "naive_model.to(device)\n",
    "optimizer = torch.optim.Adam(naive_model.parameters(), lr=1e-3, weight_decay=1e-5)\n",
    "loss_fn = nn.BCELoss()\n",
    "acc_metric = BinaryACCUpdater()\n",
    "metric_dict = {\"Accuracy\": acc_metric}"
   ]
  },
  {
   "cell_type": "code",
   "execution_count": 63,
   "metadata": {},
   "outputs": [],
   "source": [
    "from classify import train_model"
   ]
  },
  {
   "cell_type": "code",
   "execution_count": 20,
   "metadata": {},
   "outputs": [],
   "source": [
    "# opt_train_model  = torch.compile(train_model)"
   ]
  },
  {
   "cell_type": "code",
   "execution_count": 64,
   "metadata": {},
   "outputs": [
    {
     "name": "stdout",
     "output_type": "stream",
     "text": [
      "\n",
      "================================================================================2024-05-19 20:57:42\n",
      "Epoch 1 / 50\n",
      "\n",
      "100%|██████████| 3039/3039 [00:05<00:00, 593.01it/s, train_Accuracy=0.637, train_loss=0.643]\n",
      "100%|██████████| 95/95 [00:00<00:00, 581.33it/s, val_Accuracy=0.651, val_loss=0.626]\n",
      "<<<<<< reach best val_Accuracy : 0.6507047414779663 >>>>>>\n",
      "\n",
      "================================================================================2024-05-19 20:57:47\n",
      "Epoch 2 / 50\n",
      "\n",
      "100%|██████████| 3039/3039 [00:05<00:00, 599.18it/s, train_Accuracy=0.659, train_loss=0.626]\n",
      "100%|██████████| 95/95 [00:00<00:00, 697.77it/s, val_Accuracy=0.657, val_loss=0.62] \n",
      "<<<<<< reach best val_Accuracy : 0.6571248769760132 >>>>>>\n",
      "\n",
      "================================================================================2024-05-19 20:57:53\n",
      "Epoch 3 / 50\n",
      "\n",
      "100%|██████████| 3039/3039 [00:04<00:00, 613.83it/s, train_Accuracy=0.66, train_loss=0.624] \n",
      "100%|██████████| 95/95 [00:00<00:00, 655.79it/s, val_Accuracy=0.663, val_loss=0.62] \n",
      "<<<<<< reach best val_Accuracy : 0.6631993651390076 >>>>>>\n",
      "\n",
      "================================================================================2024-05-19 20:57:58\n",
      "Epoch 4 / 50\n",
      "\n",
      "100%|██████████| 3039/3039 [00:05<00:00, 579.81it/s, train_Accuracy=0.66, train_loss=0.624] \n",
      "100%|██████████| 95/95 [00:00<00:00, 606.36it/s, val_Accuracy=0.662, val_loss=0.62] \n",
      "\n",
      "================================================================================2024-05-19 20:58:03\n",
      "Epoch 5 / 50\n",
      "\n",
      "100%|██████████| 3039/3039 [00:05<00:00, 584.07it/s, train_Accuracy=0.661, train_loss=0.623]\n",
      "100%|██████████| 95/95 [00:00<00:00, 659.33it/s, val_Accuracy=0.662, val_loss=0.618]\n",
      "\n",
      "================================================================================2024-05-19 20:58:09\n",
      "Epoch 6 / 50\n",
      "\n",
      "100%|██████████| 3039/3039 [00:04<00:00, 626.97it/s, train_Accuracy=0.66, train_loss=0.623] \n",
      "100%|██████████| 95/95 [00:00<00:00, 592.09it/s, val_Accuracy=0.646, val_loss=0.642]\n",
      "\n",
      "================================================================================2024-05-19 20:58:14\n",
      "Epoch 7 / 50\n",
      "\n",
      "100%|██████████| 3039/3039 [00:05<00:00, 594.66it/s, train_Accuracy=0.66, train_loss=0.622] \n",
      "100%|██████████| 95/95 [00:00<00:00, 596.53it/s, val_Accuracy=0.657, val_loss=0.626]\n",
      "\n",
      "================================================================================2024-05-19 20:58:19\n",
      "Epoch 8 / 50\n",
      "\n",
      "100%|██████████| 3039/3039 [00:05<00:00, 600.09it/s, train_Accuracy=0.662, train_loss=0.621]\n",
      "100%|██████████| 95/95 [00:00<00:00, 741.65it/s, val_Accuracy=0.664, val_loss=0.619]\n",
      "<<<<<< reach best val_Accuracy : 0.663694441318512 >>>>>>\n",
      "\n",
      "================================================================================2024-05-19 20:58:24\n",
      "Epoch 9 / 50\n",
      "\n",
      "100%|██████████| 3039/3039 [00:05<00:00, 589.90it/s, train_Accuracy=0.661, train_loss=0.621]\n",
      "100%|██████████| 95/95 [00:00<00:00, 570.78it/s, val_Accuracy=0.66, val_loss=0.619] \n",
      "\n",
      "================================================================================2024-05-19 20:58:29\n",
      "Epoch 10 / 50\n",
      "\n",
      "100%|██████████| 3039/3039 [00:05<00:00, 567.49it/s, train_Accuracy=0.662, train_loss=0.62] \n",
      "100%|██████████| 95/95 [00:00<00:00, 551.98it/s, val_Accuracy=0.665, val_loss=0.617]\n",
      "<<<<<< reach best val_Accuracy : 0.6648969650268555 >>>>>>\n",
      "\n",
      "================================================================================2024-05-19 20:58:35\n",
      "Epoch 11 / 50\n",
      "\n",
      "100%|██████████| 3039/3039 [00:05<00:00, 597.27it/s, train_Accuracy=0.665, train_loss=0.618]\n",
      "100%|██████████| 95/95 [00:00<00:00, 578.27it/s, val_Accuracy=0.666, val_loss=0.615]\n",
      "<<<<<< reach best val_Accuracy : 0.6658520102500916 >>>>>>\n",
      "\n",
      "================================================================================2024-05-19 20:58:40\n",
      "Epoch 12 / 50\n",
      "\n",
      "100%|██████████| 3039/3039 [00:05<00:00, 584.75it/s, train_Accuracy=0.666, train_loss=0.617]\n",
      "100%|██████████| 95/95 [00:00<00:00, 667.17it/s, val_Accuracy=0.669, val_loss=0.61] \n",
      "<<<<<< reach best val_Accuracy : 0.6687747836112976 >>>>>>\n",
      "\n",
      "================================================================================2024-05-19 20:58:45\n",
      "Epoch 13 / 50\n",
      "\n",
      "100%|██████████| 3039/3039 [00:05<00:00, 565.66it/s, train_Accuracy=0.667, train_loss=0.614]\n",
      "100%|██████████| 95/95 [00:00<00:00, 636.63it/s, val_Accuracy=0.668, val_loss=0.609]\n",
      "\n",
      "================================================================================2024-05-19 20:58:51\n",
      "Epoch 14 / 50\n",
      "\n",
      "100%|██████████| 3039/3039 [00:05<00:00, 598.02it/s, train_Accuracy=0.668, train_loss=0.613]\n",
      "100%|██████████| 95/95 [00:00<00:00, 640.46it/s, val_Accuracy=0.666, val_loss=0.611]\n",
      "\n",
      "================================================================================2024-05-19 20:58:56\n",
      "Epoch 15 / 50\n",
      "\n",
      "100%|██████████| 3039/3039 [00:05<00:00, 603.22it/s, train_Accuracy=0.669, train_loss=0.611]\n",
      "100%|██████████| 95/95 [00:00<00:00, 586.69it/s, val_Accuracy=0.673, val_loss=0.606]\n",
      "<<<<<< reach best val_Accuracy : 0.6734362244606018 >>>>>>\n",
      "\n",
      "================================================================================2024-05-19 20:59:01\n",
      "Epoch 16 / 50\n",
      "\n",
      "100%|██████████| 3039/3039 [00:05<00:00, 594.82it/s, train_Accuracy=0.67, train_loss=0.609] \n",
      "100%|██████████| 95/95 [00:00<00:00, 576.88it/s, val_Accuracy=0.672, val_loss=0.603]\n",
      "\n",
      "================================================================================2024-05-19 20:59:07\n",
      "Epoch 17 / 50\n",
      "\n",
      "100%|██████████| 3039/3039 [00:04<00:00, 627.64it/s, train_Accuracy=0.673, train_loss=0.605]\n",
      "100%|██████████| 95/95 [00:00<00:00, 691.94it/s, val_Accuracy=0.673, val_loss=0.6]  \n",
      "\n",
      "================================================================================2024-05-19 20:59:12\n",
      "Epoch 18 / 50\n",
      "\n",
      "100%|██████████| 3039/3039 [00:04<00:00, 625.03it/s, train_Accuracy=0.676, train_loss=0.598]\n",
      "100%|██████████| 95/95 [00:00<00:00, 742.41it/s, val_Accuracy=0.685, val_loss=0.586]\n",
      "<<<<<< reach best val_Accuracy : 0.6850131750106812 >>>>>>\n",
      "\n",
      "================================================================================2024-05-19 20:59:17\n",
      "Epoch 19 / 50\n",
      "\n",
      "100%|██████████| 3039/3039 [00:04<00:00, 630.84it/s, train_Accuracy=0.68, train_loss=0.592] \n",
      "100%|██████████| 95/95 [00:00<00:00, 614.02it/s, val_Accuracy=0.682, val_loss=0.591]\n",
      "\n",
      "================================================================================2024-05-19 20:59:22\n",
      "Epoch 20 / 50\n",
      "\n",
      "100%|██████████| 3039/3039 [00:05<00:00, 597.70it/s, train_Accuracy=0.685, train_loss=0.589]\n",
      "100%|██████████| 95/95 [00:00<00:00, 645.54it/s, val_Accuracy=0.692, val_loss=0.579]\n",
      "<<<<<< reach best val_Accuracy : 0.6919287443161011 >>>>>>\n",
      "\n",
      "================================================================================2024-05-19 20:59:27\n",
      "Epoch 21 / 50\n",
      "\n",
      "100%|██████████| 3039/3039 [00:05<00:00, 601.52it/s, train_Accuracy=0.687, train_loss=0.586]\n",
      "100%|██████████| 95/95 [00:00<00:00, 608.12it/s, val_Accuracy=0.685, val_loss=0.582]\n",
      "\n",
      "================================================================================2024-05-19 20:59:32\n",
      "Epoch 22 / 50\n",
      "\n",
      "100%|██████████| 3039/3039 [00:04<00:00, 618.05it/s, train_Accuracy=0.689, train_loss=0.584]\n",
      "100%|██████████| 95/95 [00:00<00:00, 584.03it/s, val_Accuracy=0.699, val_loss=0.581]\n",
      "<<<<<< reach best val_Accuracy : 0.6987283229827881 >>>>>>\n",
      "\n",
      "================================================================================2024-05-19 20:59:37\n",
      "Epoch 23 / 50\n",
      "\n",
      "100%|██████████| 3039/3039 [00:05<00:00, 595.64it/s, train_Accuracy=0.693, train_loss=0.582]\n",
      "100%|██████████| 95/95 [00:00<00:00, 638.87it/s, val_Accuracy=0.697, val_loss=0.576]\n",
      "\n",
      "================================================================================2024-05-19 20:59:42\n",
      "Epoch 24 / 50\n",
      "\n",
      "100%|██████████| 3039/3039 [00:05<00:00, 592.59it/s, train_Accuracy=0.693, train_loss=0.581]\n",
      "100%|██████████| 95/95 [00:00<00:00, 647.21it/s, val_Accuracy=0.687, val_loss=0.586]\n",
      "\n",
      "================================================================================2024-05-19 20:59:48\n",
      "Epoch 25 / 50\n",
      "\n",
      "100%|██████████| 3039/3039 [00:04<00:00, 616.81it/s, train_Accuracy=0.694, train_loss=0.581]\n",
      "100%|██████████| 95/95 [00:00<00:00, 581.36it/s, val_Accuracy=0.695, val_loss=0.576]\n",
      "\n",
      "================================================================================2024-05-19 20:59:53\n",
      "Epoch 26 / 50\n",
      "\n",
      "100%|██████████| 3039/3039 [00:05<00:00, 603.24it/s, train_Accuracy=0.695, train_loss=0.58] \n",
      "100%|██████████| 95/95 [00:00<00:00, 676.59it/s, val_Accuracy=0.702, val_loss=0.572]\n",
      "<<<<<< reach best val_Accuracy : 0.701907217502594 >>>>>>\n",
      "\n",
      "================================================================================2024-05-19 20:59:58\n",
      "Epoch 27 / 50\n",
      "\n",
      "100%|██████████| 3039/3039 [00:05<00:00, 600.80it/s, train_Accuracy=0.694, train_loss=0.58] \n",
      "100%|██████████| 95/95 [00:00<00:00, 585.44it/s, val_Accuracy=0.689, val_loss=0.583]\n",
      "\n",
      "================================================================================2024-05-19 21:00:03\n",
      "Epoch 28 / 50\n",
      "\n",
      "100%|██████████| 3039/3039 [00:04<00:00, 615.53it/s, train_Accuracy=0.694, train_loss=0.579]\n",
      "100%|██████████| 95/95 [00:00<00:00, 750.38it/s, val_Accuracy=0.69, val_loss=0.579] \n",
      "\n",
      "================================================================================2024-05-19 21:00:08\n",
      "Epoch 29 / 50\n",
      "\n",
      "100%|██████████| 3039/3039 [00:05<00:00, 591.36it/s, train_Accuracy=0.697, train_loss=0.579]\n",
      "100%|██████████| 95/95 [00:00<00:00, 573.42it/s, val_Accuracy=0.699, val_loss=0.576]\n",
      "\n",
      "================================================================================2024-05-19 21:00:14\n",
      "Epoch 30 / 50\n",
      "\n",
      "100%|██████████| 3039/3039 [00:05<00:00, 573.13it/s, train_Accuracy=0.697, train_loss=0.579]\n",
      "100%|██████████| 95/95 [00:00<00:00, 659.81it/s, val_Accuracy=0.697, val_loss=0.574]\n",
      "\n",
      "================================================================================2024-05-19 21:00:19\n",
      "Epoch 31 / 50\n",
      "\n",
      "100%|██████████| 3039/3039 [00:05<00:00, 565.19it/s, train_Accuracy=0.697, train_loss=0.579]\n",
      "100%|██████████| 95/95 [00:00<00:00, 567.43it/s, val_Accuracy=0.702, val_loss=0.574]\n",
      "<<<<<< reach best val_Accuracy : 0.7020238041877747 >>>>>>\n",
      "\n",
      "================================================================================2024-05-19 21:00:25\n",
      "Epoch 32 / 50\n",
      "\n",
      "100%|██████████| 3039/3039 [00:05<00:00, 577.31it/s, train_Accuracy=0.698, train_loss=0.577]\n",
      "100%|██████████| 95/95 [00:00<00:00, 578.63it/s, val_Accuracy=0.677, val_loss=0.594]\n",
      "\n",
      "================================================================================2024-05-19 21:00:30\n",
      "Epoch 33 / 50\n",
      "\n",
      "100%|██████████| 3039/3039 [00:05<00:00, 589.46it/s, train_Accuracy=0.698, train_loss=0.577]\n",
      "100%|██████████| 95/95 [00:00<00:00, 586.65it/s, val_Accuracy=0.701, val_loss=0.572]\n",
      "\n",
      "================================================================================2024-05-19 21:00:35\n",
      "Epoch 34 / 50\n",
      "\n",
      "100%|██████████| 3039/3039 [00:04<00:00, 626.09it/s, train_Accuracy=0.698, train_loss=0.577]\n",
      "100%|██████████| 95/95 [00:00<00:00, 694.71it/s, val_Accuracy=0.698, val_loss=0.573]\n",
      "\n",
      "================================================================================2024-05-19 21:00:40\n",
      "Epoch 35 / 50\n",
      "\n",
      "100%|██████████| 3039/3039 [00:05<00:00, 564.75it/s, train_Accuracy=0.697, train_loss=0.576]\n",
      "100%|██████████| 95/95 [00:00<00:00, 570.46it/s, val_Accuracy=0.688, val_loss=0.583]\n",
      "\n",
      "================================================================================2024-05-19 21:00:46\n",
      "Epoch 36 / 50\n",
      "\n",
      "100%|██████████| 3039/3039 [00:05<00:00, 594.42it/s, train_Accuracy=0.699, train_loss=0.576]\n",
      "100%|██████████| 95/95 [00:00<00:00, 571.15it/s, val_Accuracy=0.689, val_loss=0.581]\n",
      "<<<<<< val_Accuracy without improvement in 5 epoch, early stopping >>>>>>\n"
     ]
    },
    {
     "data": {
      "text/html": [
       "<div>\n",
       "<style scoped>\n",
       "    .dataframe tbody tr th:only-of-type {\n",
       "        vertical-align: middle;\n",
       "    }\n",
       "\n",
       "    .dataframe tbody tr th {\n",
       "        vertical-align: top;\n",
       "    }\n",
       "\n",
       "    .dataframe thead th {\n",
       "        text-align: right;\n",
       "    }\n",
       "</style>\n",
       "<table border=\"1\" class=\"dataframe\">\n",
       "  <thead>\n",
       "    <tr style=\"text-align: right;\">\n",
       "      <th></th>\n",
       "      <th>train_loss</th>\n",
       "      <th>train_Accuracy</th>\n",
       "      <th>val_loss</th>\n",
       "      <th>val_Accuracy</th>\n",
       "      <th>epoch</th>\n",
       "    </tr>\n",
       "  </thead>\n",
       "  <tbody>\n",
       "    <tr>\n",
       "      <th>0</th>\n",
       "      <td>0.643084</td>\n",
       "      <td>0.637216</td>\n",
       "      <td>0.626125</td>\n",
       "      <td>0.650705</td>\n",
       "      <td>1</td>\n",
       "    </tr>\n",
       "    <tr>\n",
       "      <th>1</th>\n",
       "      <td>0.625590</td>\n",
       "      <td>0.658509</td>\n",
       "      <td>0.620052</td>\n",
       "      <td>0.657125</td>\n",
       "      <td>2</td>\n",
       "    </tr>\n",
       "    <tr>\n",
       "      <th>2</th>\n",
       "      <td>0.623971</td>\n",
       "      <td>0.660010</td>\n",
       "      <td>0.619715</td>\n",
       "      <td>0.663199</td>\n",
       "      <td>3</td>\n",
       "    </tr>\n",
       "    <tr>\n",
       "      <th>3</th>\n",
       "      <td>0.623529</td>\n",
       "      <td>0.659561</td>\n",
       "      <td>0.619930</td>\n",
       "      <td>0.662134</td>\n",
       "      <td>4</td>\n",
       "    </tr>\n",
       "    <tr>\n",
       "      <th>4</th>\n",
       "      <td>0.622679</td>\n",
       "      <td>0.661169</td>\n",
       "      <td>0.618287</td>\n",
       "      <td>0.661957</td>\n",
       "      <td>5</td>\n",
       "    </tr>\n",
       "    <tr>\n",
       "      <th>5</th>\n",
       "      <td>0.622670</td>\n",
       "      <td>0.660445</td>\n",
       "      <td>0.642295</td>\n",
       "      <td>0.645792</td>\n",
       "      <td>6</td>\n",
       "    </tr>\n",
       "    <tr>\n",
       "      <th>6</th>\n",
       "      <td>0.622000</td>\n",
       "      <td>0.660456</td>\n",
       "      <td>0.626186</td>\n",
       "      <td>0.656521</td>\n",
       "      <td>7</td>\n",
       "    </tr>\n",
       "    <tr>\n",
       "      <th>7</th>\n",
       "      <td>0.621245</td>\n",
       "      <td>0.661601</td>\n",
       "      <td>0.618738</td>\n",
       "      <td>0.663694</td>\n",
       "      <td>8</td>\n",
       "    </tr>\n",
       "    <tr>\n",
       "      <th>8</th>\n",
       "      <td>0.621290</td>\n",
       "      <td>0.661189</td>\n",
       "      <td>0.619129</td>\n",
       "      <td>0.660077</td>\n",
       "      <td>9</td>\n",
       "    </tr>\n",
       "    <tr>\n",
       "      <th>9</th>\n",
       "      <td>0.620297</td>\n",
       "      <td>0.662427</td>\n",
       "      <td>0.616610</td>\n",
       "      <td>0.664897</td>\n",
       "      <td>10</td>\n",
       "    </tr>\n",
       "    <tr>\n",
       "      <th>10</th>\n",
       "      <td>0.618461</td>\n",
       "      <td>0.664675</td>\n",
       "      <td>0.614935</td>\n",
       "      <td>0.665852</td>\n",
       "      <td>11</td>\n",
       "    </tr>\n",
       "    <tr>\n",
       "      <th>11</th>\n",
       "      <td>0.616643</td>\n",
       "      <td>0.665758</td>\n",
       "      <td>0.610190</td>\n",
       "      <td>0.668775</td>\n",
       "      <td>12</td>\n",
       "    </tr>\n",
       "    <tr>\n",
       "      <th>12</th>\n",
       "      <td>0.614421</td>\n",
       "      <td>0.666985</td>\n",
       "      <td>0.608844</td>\n",
       "      <td>0.668322</td>\n",
       "      <td>13</td>\n",
       "    </tr>\n",
       "    <tr>\n",
       "      <th>13</th>\n",
       "      <td>0.612681</td>\n",
       "      <td>0.668357</td>\n",
       "      <td>0.610513</td>\n",
       "      <td>0.666419</td>\n",
       "      <td>14</td>\n",
       "    </tr>\n",
       "    <tr>\n",
       "      <th>14</th>\n",
       "      <td>0.610989</td>\n",
       "      <td>0.668967</td>\n",
       "      <td>0.605999</td>\n",
       "      <td>0.673436</td>\n",
       "      <td>15</td>\n",
       "    </tr>\n",
       "    <tr>\n",
       "      <th>15</th>\n",
       "      <td>0.608624</td>\n",
       "      <td>0.669748</td>\n",
       "      <td>0.602828</td>\n",
       "      <td>0.672099</td>\n",
       "      <td>16</td>\n",
       "    </tr>\n",
       "    <tr>\n",
       "      <th>16</th>\n",
       "      <td>0.604745</td>\n",
       "      <td>0.672504</td>\n",
       "      <td>0.599953</td>\n",
       "      <td>0.673211</td>\n",
       "      <td>17</td>\n",
       "    </tr>\n",
       "    <tr>\n",
       "      <th>17</th>\n",
       "      <td>0.598388</td>\n",
       "      <td>0.675503</td>\n",
       "      <td>0.585798</td>\n",
       "      <td>0.685013</td>\n",
       "      <td>18</td>\n",
       "    </tr>\n",
       "    <tr>\n",
       "      <th>18</th>\n",
       "      <td>0.592391</td>\n",
       "      <td>0.680110</td>\n",
       "      <td>0.591399</td>\n",
       "      <td>0.681696</td>\n",
       "      <td>19</td>\n",
       "    </tr>\n",
       "    <tr>\n",
       "      <th>19</th>\n",
       "      <td>0.588606</td>\n",
       "      <td>0.684525</td>\n",
       "      <td>0.579372</td>\n",
       "      <td>0.691929</td>\n",
       "      <td>20</td>\n",
       "    </tr>\n",
       "    <tr>\n",
       "      <th>20</th>\n",
       "      <td>0.586211</td>\n",
       "      <td>0.687397</td>\n",
       "      <td>0.582252</td>\n",
       "      <td>0.684707</td>\n",
       "      <td>21</td>\n",
       "    </tr>\n",
       "    <tr>\n",
       "      <th>21</th>\n",
       "      <td>0.583580</td>\n",
       "      <td>0.689330</td>\n",
       "      <td>0.580828</td>\n",
       "      <td>0.698728</td>\n",
       "      <td>22</td>\n",
       "    </tr>\n",
       "    <tr>\n",
       "      <th>22</th>\n",
       "      <td>0.582020</td>\n",
       "      <td>0.693317</td>\n",
       "      <td>0.576055</td>\n",
       "      <td>0.696766</td>\n",
       "      <td>23</td>\n",
       "    </tr>\n",
       "    <tr>\n",
       "      <th>23</th>\n",
       "      <td>0.581400</td>\n",
       "      <td>0.692594</td>\n",
       "      <td>0.586266</td>\n",
       "      <td>0.687133</td>\n",
       "      <td>24</td>\n",
       "    </tr>\n",
       "    <tr>\n",
       "      <th>24</th>\n",
       "      <td>0.580639</td>\n",
       "      <td>0.694139</td>\n",
       "      <td>0.575819</td>\n",
       "      <td>0.695124</td>\n",
       "      <td>25</td>\n",
       "    </tr>\n",
       "    <tr>\n",
       "      <th>25</th>\n",
       "      <td>0.580437</td>\n",
       "      <td>0.694767</td>\n",
       "      <td>0.572452</td>\n",
       "      <td>0.701907</td>\n",
       "      <td>26</td>\n",
       "    </tr>\n",
       "    <tr>\n",
       "      <th>26</th>\n",
       "      <td>0.579543</td>\n",
       "      <td>0.693944</td>\n",
       "      <td>0.582979</td>\n",
       "      <td>0.688683</td>\n",
       "      <td>27</td>\n",
       "    </tr>\n",
       "    <tr>\n",
       "      <th>27</th>\n",
       "      <td>0.578781</td>\n",
       "      <td>0.694468</td>\n",
       "      <td>0.578915</td>\n",
       "      <td>0.690291</td>\n",
       "      <td>28</td>\n",
       "    </tr>\n",
       "    <tr>\n",
       "      <th>28</th>\n",
       "      <td>0.578542</td>\n",
       "      <td>0.696744</td>\n",
       "      <td>0.576301</td>\n",
       "      <td>0.699312</td>\n",
       "      <td>29</td>\n",
       "    </tr>\n",
       "    <tr>\n",
       "      <th>29</th>\n",
       "      <td>0.578518</td>\n",
       "      <td>0.696957</td>\n",
       "      <td>0.573737</td>\n",
       "      <td>0.697121</td>\n",
       "      <td>30</td>\n",
       "    </tr>\n",
       "    <tr>\n",
       "      <th>30</th>\n",
       "      <td>0.578620</td>\n",
       "      <td>0.696546</td>\n",
       "      <td>0.574340</td>\n",
       "      <td>0.702024</td>\n",
       "      <td>31</td>\n",
       "    </tr>\n",
       "    <tr>\n",
       "      <th>31</th>\n",
       "      <td>0.577053</td>\n",
       "      <td>0.698246</td>\n",
       "      <td>0.594000</td>\n",
       "      <td>0.676755</td>\n",
       "      <td>32</td>\n",
       "    </tr>\n",
       "    <tr>\n",
       "      <th>32</th>\n",
       "      <td>0.577220</td>\n",
       "      <td>0.697557</td>\n",
       "      <td>0.572064</td>\n",
       "      <td>0.700715</td>\n",
       "      <td>33</td>\n",
       "    </tr>\n",
       "    <tr>\n",
       "      <th>33</th>\n",
       "      <td>0.577218</td>\n",
       "      <td>0.697615</td>\n",
       "      <td>0.572560</td>\n",
       "      <td>0.698378</td>\n",
       "      <td>34</td>\n",
       "    </tr>\n",
       "    <tr>\n",
       "      <th>34</th>\n",
       "      <td>0.576185</td>\n",
       "      <td>0.697296</td>\n",
       "      <td>0.582709</td>\n",
       "      <td>0.688380</td>\n",
       "      <td>35</td>\n",
       "    </tr>\n",
       "    <tr>\n",
       "      <th>35</th>\n",
       "      <td>0.576187</td>\n",
       "      <td>0.699120</td>\n",
       "      <td>0.580647</td>\n",
       "      <td>0.689128</td>\n",
       "      <td>36</td>\n",
       "    </tr>\n",
       "  </tbody>\n",
       "</table>\n",
       "</div>"
      ],
      "text/plain": [
       "    train_loss  train_Accuracy  val_loss  val_Accuracy  epoch\n",
       "0     0.643084        0.637216  0.626125      0.650705      1\n",
       "1     0.625590        0.658509  0.620052      0.657125      2\n",
       "2     0.623971        0.660010  0.619715      0.663199      3\n",
       "3     0.623529        0.659561  0.619930      0.662134      4\n",
       "4     0.622679        0.661169  0.618287      0.661957      5\n",
       "5     0.622670        0.660445  0.642295      0.645792      6\n",
       "6     0.622000        0.660456  0.626186      0.656521      7\n",
       "7     0.621245        0.661601  0.618738      0.663694      8\n",
       "8     0.621290        0.661189  0.619129      0.660077      9\n",
       "9     0.620297        0.662427  0.616610      0.664897     10\n",
       "10    0.618461        0.664675  0.614935      0.665852     11\n",
       "11    0.616643        0.665758  0.610190      0.668775     12\n",
       "12    0.614421        0.666985  0.608844      0.668322     13\n",
       "13    0.612681        0.668357  0.610513      0.666419     14\n",
       "14    0.610989        0.668967  0.605999      0.673436     15\n",
       "15    0.608624        0.669748  0.602828      0.672099     16\n",
       "16    0.604745        0.672504  0.599953      0.673211     17\n",
       "17    0.598388        0.675503  0.585798      0.685013     18\n",
       "18    0.592391        0.680110  0.591399      0.681696     19\n",
       "19    0.588606        0.684525  0.579372      0.691929     20\n",
       "20    0.586211        0.687397  0.582252      0.684707     21\n",
       "21    0.583580        0.689330  0.580828      0.698728     22\n",
       "22    0.582020        0.693317  0.576055      0.696766     23\n",
       "23    0.581400        0.692594  0.586266      0.687133     24\n",
       "24    0.580639        0.694139  0.575819      0.695124     25\n",
       "25    0.580437        0.694767  0.572452      0.701907     26\n",
       "26    0.579543        0.693944  0.582979      0.688683     27\n",
       "27    0.578781        0.694468  0.578915      0.690291     28\n",
       "28    0.578542        0.696744  0.576301      0.699312     29\n",
       "29    0.578518        0.696957  0.573737      0.697121     30\n",
       "30    0.578620        0.696546  0.574340      0.702024     31\n",
       "31    0.577053        0.698246  0.594000      0.676755     32\n",
       "32    0.577220        0.697557  0.572064      0.700715     33\n",
       "33    0.577218        0.697615  0.572560      0.698378     34\n",
       "34    0.576185        0.697296  0.582709      0.688380     35\n",
       "35    0.576187        0.699120  0.580647      0.689128     36"
      ]
     },
     "execution_count": 64,
     "metadata": {},
     "output_type": "execute_result"
    }
   ],
   "source": [
    "train_model(\n",
    "    naive_model, optimizer,\n",
    "    loss_fn, metrics_dict=metric_dict,\n",
    "    train_dataloader=train_dataloader, val_dataloader=val_dataloader,\n",
    "    monitor=\"val_Accuracy\", mode=\"max\",\n",
    "    epochs=50\n",
    "    )"
   ]
  },
  {
   "cell_type": "markdown",
   "metadata": {},
   "source": [
    "# ROC"
   ]
  },
  {
   "cell_type": "code",
   "execution_count": 65,
   "metadata": {},
   "outputs": [],
   "source": [
    "from analysis import predict"
   ]
  },
  {
   "cell_type": "code",
   "execution_count": 66,
   "metadata": {},
   "outputs": [
    {
     "name": "stderr",
     "output_type": "stream",
     "text": [
      "100%|██████████| 95/95 [00:00<00:00, 1098.16it/s]\n"
     ]
    }
   ],
   "source": [
    "targets, predictions = predict(naive_model, val_dataloader)"
   ]
  },
  {
   "cell_type": "code",
   "execution_count": 67,
   "metadata": {},
   "outputs": [
    {
     "name": "stdout",
     "output_type": "stream",
     "text": [
      "0.7661117023175725\n"
     ]
    },
    {
     "data": {
      "image/png": "[encoded data removed]",
      "text/plain": [
       "<Figure size 640x480 with 1 Axes>"
      ]
     },
     "metadata": {},
     "output_type": "display_data"
    }
   ],
   "source": [
    "from analysis import calculate_auc\n",
    "from visualize import plot_roc_curve\n",
    "fpr, tpr, auc_roc = calculate_auc(targets, predictions)\n",
    "print(auc_roc)\n",
    "fpr_dict[str(sig_lambda)] = fpr\n",
    "tpr_dict[str(sig_lambda)] = tpr\n",
    "auc_dict[str(sig_lambda)] = auc_roc\n",
    "plot_roc_curve(fpr_dict, tpr_dict, auc_dict, \"ROC Curve\")"
   ]
  },
  {
   "cell_type": "markdown",
   "metadata": {},
   "source": [
    "# Test statistics"
   ]
  },
  {
   "cell_type": "code",
   "execution_count": 68,
   "metadata": {},
   "outputs": [],
   "source": [
    "from analysis import Bootstrap_Permutation"
   ]
  },
  {
   "cell_type": "code",
   "execution_count": 69,
   "metadata": {},
   "outputs": [
    {
     "ename": "AssertionError",
     "evalue": "",
     "output_type": "error",
     "traceback": [
      "\u001b[0;31m---------------------------------------------------------------------------\u001b[0m",
      "\u001b[0;31mAssertionError\u001b[0m                            Traceback (most recent call last)",
      "Cell \u001b[0;32mIn[69], line 1\u001b[0m\n\u001b[0;32m----> 1\u001b[0m bootstrap_permutation \u001b[38;5;241m=\u001b[39m Bootstrap_Permutation(X2, W2, naive_model, pi, normalizer)\n",
      "File \u001b[0;32m~/ADwithNE/demo/../analysis.py:166\u001b[0m, in \u001b[0;36mBootstrap_Permutation.__init__\u001b[0;34m(self, X2, W2, classifier, pi, normalizer)\u001b[0m\n\u001b[1;32m    165\u001b[0m \u001b[38;5;28;01mdef\u001b[39;00m \u001b[38;5;21m__init__\u001b[39m(\u001b[38;5;28mself\u001b[39m, X2, W2, classifier, pi, normalizer):\n\u001b[0;32m--> 166\u001b[0m     \u001b[38;5;28;01massert\u001b[39;00m \u001b[38;5;28mlen\u001b[39m(X2) \u001b[38;5;241m==\u001b[39m \u001b[38;5;28mlen\u001b[39m(W2) \u001b[38;5;66;03m# Make sure n2= m2\u001b[39;00m\n\u001b[1;32m    167\u001b[0m     \u001b[38;5;28mself\u001b[39m\u001b[38;5;241m.\u001b[39mm2 \u001b[38;5;241m=\u001b[39m \u001b[38;5;28mlen\u001b[39m(X2)\n\u001b[1;32m    168\u001b[0m     \u001b[38;5;28mself\u001b[39m\u001b[38;5;241m.\u001b[39mn2 \u001b[38;5;241m=\u001b[39m \u001b[38;5;28mlen\u001b[39m(W2)\n",
      "\u001b[0;31mAssertionError\u001b[0m: "
     ]
    }
   ],
   "source": [
    "bootstrap_permutation = Bootstrap_Permutation(X2, W2, naive_model, pi, normalizer)"
   ]
  },
  {
   "cell_type": "code",
   "execution_count": 70,
   "metadata": {},
   "outputs": [
    {
     "name": "stderr",
     "output_type": "stream",
     "text": [
      "100%|██████████| 1000/1000 [02:29<00:00,  6.70it/s]\n"
     ]
    }
   ],
   "source": [
    "lrt_null_bootstarp, auc_null_bootstarp, mce_null_bootstarp = bootstrap_permutation.bootstrap(1000)"
   ]
  },
  {
   "cell_type": "code",
   "execution_count": 29,
   "metadata": {},
   "outputs": [
    {
     "name": "stderr",
     "output_type": "stream",
     "text": [
      "100%|██████████| 1000/1000 [02:22<00:00,  7.01it/s]\n"
     ]
    }
   ],
   "source": [
    "lrt_null_permutation, auc_null_permutation, mce_null_permutation = bootstrap_permutation.permutation(1000)"
   ]
  },
  {
   "cell_type": "code",
   "execution_count": 30,
   "metadata": {},
   "outputs": [
    {
     "data": {
      "image/png": "[encoded data removed]",
      "text/plain": [
       "<Figure size 640x480 with 1 Axes>"
      ]
     },
     "metadata": {},
     "output_type": "display_data"
    }
   ],
   "source": [
    "plt.hist(mce_null_bootstarp, bins=50, alpha=0.5, label=\"bootstrap p value = {}\".format(bootstrap_permutation.mce_p_bootstrap))\n",
    "plt.hist(mce_null_permutation, bins=50, alpha=0.5, label=\"permutation p value = {}\".format(bootstrap_permutation.mce_p_permutation))\n",
    "plt.axvline(bootstrap_permutation.mce_exp, color='r', label=\"exp\")\n",
    "plt.legend()\n",
    "plt.title(\"MCE Null Distribution lambda = {}\".format(sig_lambda))\n",
    "plt.show()"
   ]
  },
  {
   "cell_type": "code",
   "execution_count": 31,
   "metadata": {},
   "outputs": [
    {
     "data": {
      "image/png": "[encoded data removed]",
      "text/plain": [
       "<Figure size 640x480 with 1 Axes>"
      ]
     },
     "metadata": {},
     "output_type": "display_data"
    }
   ],
   "source": [
    "plt.hist(lrt_null_bootstarp, bins=50, alpha=0.5, label=\"bootstrap p value = {}\".format(bootstrap_permutation.lrt_p_bootstrap))\n",
    "plt.hist(lrt_null_permutation, bins=50, alpha=0.5, label=\"permutation p value = {}\".format(bootstrap_permutation.lrt_p_permutation))\n",
    "plt.axvline(bootstrap_permutation.lrt_exp, color='r', label=\"exp\")\n",
    "plt.legend()\n",
    "plt.title(\"LRT Null Distribution lambda = {}\".format(sig_lambda))\n",
    "plt.show()"
   ]
  },
  {
   "cell_type": "code",
   "execution_count": 32,
   "metadata": {},
   "outputs": [
    {
     "data": {
      "image/png": "[encoded data removed]",
      "text/plain": [
       "<Figure size 640x480 with 1 Axes>"
      ]
     },
     "metadata": {},
     "output_type": "display_data"
    }
   ],
   "source": [
    "plt.hist(auc_null_bootstarp, bins=50, alpha=0.5, label=\"bootstrap p value = {}\".format(bootstrap_permutation.auc_p_bootstrap))\n",
    "plt.hist(auc_null_permutation, bins=50, alpha=0.5, label=\"permutation p value = {}\".format(bootstrap_permutation.auc_p_permutation))\n",
    "plt.axvline(bootstrap_permutation.auc_exp, color='r', label=\"exp\")\n",
    "plt.legend()\n",
    "plt.title(\"AUC Null Distribution lambda = {}\".format(sig_lambda))\n",
    "plt.show()"
   ]
  },
  {
   "cell_type": "markdown",
   "metadata": {},
   "source": [
    "# Estimate signal strength"
   ]
  },
  {
   "cell_type": "code",
   "execution_count": 33,
   "metadata": {},
   "outputs": [],
   "source": [
    "from analysis import LambdaEstimator"
   ]
  },
  {
   "cell_type": "code",
   "execution_count": 34,
   "metadata": {},
   "outputs": [
    {
     "name": "stdout",
     "output_type": "stream",
     "text": [
      "estimated lambda: 0.4912260490435474\n",
      "beta 0 = -0.6117973044458668, beta 1 = -0.06395416084052079\n",
      "last bin height: 0.5087739509564526\n"
     ]
    },
    {
     "data": {
      "image/png": "[encoded data removed]",
      "text/plain": [
       "<Figure size 640x480 with 1 Axes>"
      ]
     },
     "metadata": {},
     "output_type": "display_data"
    }
   ],
   "source": [
    "lambda_estimator = LambdaEstimator(X2, W2, naive_model, T=0.5, n_bins=20, normalizer=normalizer)\n",
    "print(\"estimated lambda:\", lambda_estimator.estimated_lambda)\n",
    "print(\"beta 0 = {}, beta 1 = {}\".format(lambda_estimator.beta0, lambda_estimator.beta1))\n",
    "print(\"last bin height:\", lambda_estimator.estimated_H_t[-1])\n",
    "plt.hist(lambda_estimator.rho_W, bins=lambda_estimator.bins, alpha=0.5, edgecolor='black', density=True)\n",
    "start_idx = lambda_estimator.fit_start_idx\n",
    "plt.plot(lambda_estimator.bins[start_idx:], lambda_estimator.estimated_H_t, label=\"Estimated\")\n",
    "plt.plot(lambda_estimator.bins[1:], lambda_estimator.H_t, '*',label=\"True\")\n",
    "plt.legend()\n",
    "plt.title(\"Estimated λ = {:.2f}, true λ = {}\".format(lambda_estimator.estimated_lambda, sig_lambda))\n",
    "plt.show()"
   ]
  },
  {
   "cell_type": "markdown",
   "metadata": {},
   "source": [
    "# Bootstrapped Uncertainty Intervals for λ"
   ]
  },
  {
   "cell_type": "code",
   "execution_count": 35,
   "metadata": {},
   "outputs": [],
   "source": [
    "lambda_mean_dict = {}\n",
    "lambda_std_dict = {}"
   ]
  },
  {
   "cell_type": "code",
   "execution_count": 36,
   "metadata": {},
   "outputs": [],
   "source": [
    "import importlib\n",
    "import classify\n",
    "importlib.reload(classify)\n",
    "from classify import train_model\n",
    "opt_train_model  = torch.compile(train_model)"
   ]
  },
  {
   "cell_type": "code",
   "execution_count": 46,
   "metadata": {},
   "outputs": [
    {
     "name": "stdout",
     "output_type": "stream",
     "text": [
      "<<<<<< val_Accuracy without improvement in 5 epoch, early stopping >>>>>>\n",
      "<<<<<< val_Accuracy without improvement in 5 epoch, early stopping >>>>>>\n",
      "<<<<<< val_Accuracy without improvement in 5 epoch, early stopping >>>>>>\n",
      "<<<<<< val_Accuracy without improvement in 5 epoch, early stopping >>>>>>\n",
      "<<<<<< val_Accuracy without improvement in 5 epoch, early stopping >>>>>>\n",
      "<<<<<< val_Accuracy without improvement in 5 epoch, early stopping >>>>>>\n",
      "<<<<<< val_Accuracy without improvement in 5 epoch, early stopping >>>>>>\n",
      "<<<<<< val_Accuracy without improvement in 5 epoch, early stopping >>>>>>\n",
      "<<<<<< val_Accuracy without improvement in 5 epoch, early stopping >>>>>>\n",
      "<<<<<< val_Accuracy without improvement in 5 epoch, early stopping >>>>>>\n",
      "sig_lambda: 0.1 estimated lambda mean: 0.09851968534671515 estimated lambda std: 0.009480530845271288\n",
      "<<<<<< val_Accuracy without improvement in 5 epoch, early stopping >>>>>>\n",
      "<<<<<< val_Accuracy without improvement in 5 epoch, early stopping >>>>>>\n",
      "<<<<<< val_Accuracy without improvement in 5 epoch, early stopping >>>>>>\n",
      "<<<<<< val_Accuracy without improvement in 5 epoch, early stopping >>>>>>\n",
      "<<<<<< val_Accuracy without improvement in 5 epoch, early stopping >>>>>>\n",
      "<<<<<< val_Accuracy without improvement in 5 epoch, early stopping >>>>>>\n",
      "<<<<<< val_Accuracy without improvement in 5 epoch, early stopping >>>>>>\n",
      "<<<<<< val_Accuracy without improvement in 5 epoch, early stopping >>>>>>\n",
      "<<<<<< val_Accuracy without improvement in 5 epoch, early stopping >>>>>>\n",
      "<<<<<< val_Accuracy without improvement in 5 epoch, early stopping >>>>>>\n",
      "sig_lambda: 0.2 estimated lambda mean: 0.20490832504947 estimated lambda std: 0.016641328806076477\n",
      "<<<<<< val_Accuracy without improvement in 5 epoch, early stopping >>>>>>\n",
      "<<<<<< val_Accuracy without improvement in 5 epoch, early stopping >>>>>>\n",
      "<<<<<< val_Accuracy without improvement in 5 epoch, early stopping >>>>>>\n",
      "<<<<<< val_Accuracy without improvement in 5 epoch, early stopping >>>>>>\n",
      "<<<<<< val_Accuracy without improvement in 5 epoch, early stopping >>>>>>\n",
      "<<<<<< val_Accuracy without improvement in 5 epoch, early stopping >>>>>>\n",
      "<<<<<< val_Accuracy without improvement in 5 epoch, early stopping >>>>>>\n",
      "<<<<<< val_Accuracy without improvement in 5 epoch, early stopping >>>>>>\n",
      "<<<<<< val_Accuracy without improvement in 5 epoch, early stopping >>>>>>\n",
      "<<<<<< val_Accuracy without improvement in 5 epoch, early stopping >>>>>>\n",
      "sig_lambda: 0.3 estimated lambda mean: 0.29209338284123837 estimated lambda std: 0.018624423887505567\n",
      "<<<<<< val_Accuracy without improvement in 5 epoch, early stopping >>>>>>\n",
      "<<<<<< val_Accuracy without improvement in 5 epoch, early stopping >>>>>>\n",
      "<<<<<< val_Accuracy without improvement in 5 epoch, early stopping >>>>>>\n",
      "<<<<<< val_Accuracy without improvement in 5 epoch, early stopping >>>>>>\n",
      "<<<<<< val_Accuracy without improvement in 5 epoch, early stopping >>>>>>\n",
      "<<<<<< val_Accuracy without improvement in 5 epoch, early stopping >>>>>>\n",
      "<<<<<< val_Accuracy without improvement in 5 epoch, early stopping >>>>>>\n",
      "<<<<<< val_Accuracy without improvement in 5 epoch, early stopping >>>>>>\n",
      "<<<<<< val_Accuracy without improvement in 5 epoch, early stopping >>>>>>\n",
      "<<<<<< val_Accuracy without improvement in 5 epoch, early stopping >>>>>>\n",
      "sig_lambda: 0.4 estimated lambda mean: 0.3906915886735839 estimated lambda std: 0.007744605030925076\n",
      "<<<<<< val_Accuracy without improvement in 5 epoch, early stopping >>>>>>\n",
      "<<<<<< val_Accuracy without improvement in 5 epoch, early stopping >>>>>>\n",
      "<<<<<< val_Accuracy without improvement in 5 epoch, early stopping >>>>>>\n",
      "<<<<<< val_Accuracy without improvement in 5 epoch, early stopping >>>>>>\n",
      "<<<<<< val_Accuracy without improvement in 5 epoch, early stopping >>>>>>\n",
      "<<<<<< val_Accuracy without improvement in 5 epoch, early stopping >>>>>>\n",
      "<<<<<< val_Accuracy without improvement in 5 epoch, early stopping >>>>>>\n",
      "<<<<<< val_Accuracy without improvement in 5 epoch, early stopping >>>>>>\n",
      "<<<<<< val_Accuracy without improvement in 5 epoch, early stopping >>>>>>\n",
      "<<<<<< val_Accuracy without improvement in 5 epoch, early stopping >>>>>>\n",
      "sig_lambda: 0.5 estimated lambda mean: 0.4823504306830375 estimated lambda std: 0.012309419717362302\n"
     ]
    }
   ],
   "source": [
    "n_bootstrap = 10\n",
    "\n",
    "\n",
    "test_ratio=0.2\n",
    "val_ratio = 0.2\n",
    "n = 100000\n",
    "\n",
    "test_lambdas = [0.1, 0.2, 0.3, 0.4, 0.5]\n",
    "for i in range(len(test_lambdas)):\n",
    "    sig_lambda = test_lambdas[i]\n",
    "\n",
    "    estimated_lambdas = np.zeros(n_bootstrap)\n",
    "    for j in range(n_bootstrap):\n",
    "        exp_events, bkg_events = create_exp_bkg_events(bkg_embed_points, charged_Higgs_embed_points, sig_lambda, n)\n",
    "        X1, X2, W1, W2 = train_test_split(exp_events, bkg_events, test_ratio)\n",
    "        n1 = len(W1)\n",
    "        m1 = len(X1)\n",
    "        n2 = len(W2)\n",
    "        m2 = len(X2)\n",
    "        train_dataloader, val_dataloader = get_dataloaders(X1, W1, val_ratio, normalizer)\n",
    "\n",
    "        hidden_dim = [8, 16, 16, 16, 8]\n",
    "        naive_model = MLP(output_dim, hidden_sizes=hidden_dim)\n",
    "        naive_model.to(device)\n",
    "        optimizer = torch.optim.Adam(naive_model.parameters(), lr=1e-3, weight_decay=1e-5)\n",
    "        loss_fn = nn.BCELoss()\n",
    "        acc_metric = BinaryACCUpdater()\n",
    "        metric_dict = {\"Accuracy\": acc_metric}\n",
    "\n",
    "        train_model(\n",
    "            naive_model, optimizer,\n",
    "            loss_fn, metrics_dict=metric_dict,\n",
    "            train_dataloader=train_dataloader, val_dataloader=val_dataloader,\n",
    "            monitor=\"val_Accuracy\", mode=\"max\",\n",
    "            epochs=50,\n",
    "            verbose=False\n",
    "            )\n",
    "\n",
    "        lambda_estimator = LambdaEstimator(X2, W2, naive_model, T=0.5, n_bins=20, normalizer=normalizer)\n",
    "        estimated_lambdas[j] = lambda_estimator.estimated_lambda\n",
    "    print(\"sig_lambda:\", sig_lambda, \"estimated lambda mean:\", estimated_lambdas.mean(), \"estimated lambda std:\", estimated_lambdas.std())\n",
    "    lambda_mean_dict[str(sig_lambda)] = estimated_lambdas.mean()\n",
    "    lambda_std_dict[str(sig_lambda)] = estimated_lambdas.std(ddof = 1)\n"
   ]
  },
  {
   "cell_type": "code",
   "execution_count": 47,
   "metadata": {},
   "outputs": [
    {
     "name": "stdout",
     "output_type": "stream",
     "text": [
      "[0.49272577 0.46845455 0.45790909 0.48569311 0.50214839 0.48640427\n",
      " 0.4895573  0.47088455 0.48572727 0.484     ]\n",
      "{'0.7': 0.6877911880537608, '0.01': 0.03568395765059531, '0.1': 0.09851968534671515, '0.2': 0.20490832504947, '0.3': 0.29209338284123837, '0.4': 0.3906915886735839, '0.5': 0.4823504306830375}\n",
      "{'0.7': 0.009919047210761197, '0.01': 0.04109887479312309, '0.1': 0.009993356966179546, '0.2': 0.01754150077299072, '0.3': 0.019631866530988393, '0.4': 0.008163530492040669, '0.5': 0.01297526766061699}\n"
     ]
    }
   ],
   "source": [
    "print(estimated_lambdas)\n",
    "print(lambda_mean_dict)\n",
    "print(lambda_std_dict)"
   ]
  },
  {
   "cell_type": "code",
   "execution_count": 48,
   "metadata": {},
   "outputs": [],
   "source": [
    "from visualize import plot_lambda"
   ]
  },
  {
   "cell_type": "code",
   "execution_count": 49,
   "metadata": {},
   "outputs": [
    {
     "data": {
      "image/png": "[encoded data removed]",
      "text/plain": [
       "<Figure size 640x480 with 1 Axes>"
      ]
     },
     "metadata": {},
     "output_type": "display_data"
    }
   ],
   "source": [
    "plot_lambda(lambda_mean_dict, lambda_std_dict)"
   ]
  },
  {
   "cell_type": "code",
   "execution_count": null,
   "metadata": {},
   "outputs": [],
   "source": []
  }
 ],
 "metadata": {
  "kernelspec": {
   "display_name": "ad",
   "language": "python",
   "name": "python3"
  },
  "language_info": {
   "codemirror_mode": {
    "name": "ipython",
    "version": 3
   },
   "file_extension": ".py",
   "mimetype": "text/x-python",
   "name": "python",
   "nbconvert_exporter": "python",
   "pygments_lexer": "ipython3",
   "version": "3.11.8"
  }
 },
 "nbformat": 4,
 "nbformat_minor": 2
}
