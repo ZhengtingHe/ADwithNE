{
 "cells": [
  {
   "cell_type": "code",
   "execution_count": 26,
   "metadata": {},
   "outputs": [],
   "source": [
    "import torch\n",
    "from torch import nn\n",
    "import numpy as np\n",
    "import sys\n",
    "import os\n",
    "import pandas as pd\n",
    "from torch.utils.data import Dataset, DataLoader\n",
    "from tqdm import tqdm\n",
    "\n",
    "\n",
    "sys.path.append(\"..\")\n",
    "from model import ParticleEventTransformer\n",
    "from data import get_database_path, get_h5_files, read_h5_file, select_events\n",
    "from utils import load_toml_config\n",
    "\n",
    "\n",
    "device = \"cuda\" if torch.cuda.is_available() else \"mps\" if sys.platform == \"darwin\" else \"cpu\"\n"
   ]
  },
  {
   "cell_type": "code",
   "execution_count": 2,
   "metadata": {},
   "outputs": [],
   "source": [
    "EMD_config = load_toml_config(\"EMD\")\n",
    "particle_type_scale = EMD_config['particle_type_scale']"
   ]
  },
  {
   "cell_type": "code",
   "execution_count": 3,
   "metadata": {},
   "outputs": [
    {
     "name": "stdout",
     "output_type": "stream",
     "text": [
      "dict_keys(['SM', 'neutral_boson', 'leptoquark', 'neutral_Higgs', 'charged_Higgs'])\n"
     ]
    }
   ],
   "source": [
    "files = load_toml_config(\"file\")\n",
    "database_path = get_database_path()\n",
    "bkg_files, sig_files = get_h5_files()\n",
    "\n",
    "print(files.keys())\n",
    "bkg = read_h5_file(database_path, files[\"SM\"])\n",
    "# SM processes\n",
    "\n",
    "neutral_boson = read_h5_file(database_path, files[\"neutral_boson\"])\n",
    "# A neutral scalar boson (A) with mass 50 GeV, decaying to two off-shell Z bosons, each forced to decay to two leptons: A → 4l\n",
    "\n",
    "leptoquark = read_h5_file(database_path, files[\"leptoquark\"])\n",
    "# A leptoquark (LQ) with mass 80 GeV, decaying to a b quark and a τ lepton24\n",
    "\n",
    "neutral_Higgs = read_h5_file(database_path, files[\"neutral_Higgs\"])\n",
    "# A scalar boson with mass 60 GeV, decaying to two tau leptons: h0→ ττ\n",
    "\n",
    "charged_Higgs = read_h5_file(database_path, files[\"charged_Higgs\"])\n",
    "# A charged scalar boson with mass 60 GeV, decaying to a tau lepton and a neutrino"
   ]
  },
  {
   "cell_type": "code",
   "execution_count": 4,
   "metadata": {},
   "outputs": [
    {
     "name": "stdout",
     "output_type": "stream",
     "text": [
      "{'feature_size': 3, 'embed_size': 16, 'num_heads': 8, 'num_layers': 4, 'hidden_dim': 256, 'output_dim': 4}\n"
     ]
    },
    {
     "name": "stderr",
     "output_type": "stream",
     "text": [
      "/home/desmondhe/anaconda3/envs/ad/lib/python3.11/site-packages/torch/nn/modules/transformer.py:286: UserWarning: enable_nested_tensor is True, but self.use_nested_tensor is False because encoder_layer.self_attn.batch_first was not True(use batch_first for better inference performance)\n",
      "  warnings.warn(f\"enable_nested_tensor is True, but self.use_nested_tensor is False because {why_not_sparsity_fast_path}\")\n"
     ]
    }
   ],
   "source": [
    "model_hyper_parameters = load_toml_config(\"Transformer\")\n",
    "print(model_hyper_parameters)\n",
    "feature_size = model_hyper_parameters[\"feature_size\"]\n",
    "embed_size = model_hyper_parameters[\"embed_size\"]\n",
    "num_heads = model_hyper_parameters[\"num_heads\"]\n",
    "num_layers = model_hyper_parameters[\"num_layers\"]\n",
    "hidden_dim = model_hyper_parameters[\"hidden_dim\"]\n",
    "output_dim = model_hyper_parameters[\"output_dim\"]\n",
    "\n",
    "model = ParticleEventTransformer(feature_size, embed_size, num_heads, hidden_dim, output_dim, num_layers)"
   ]
  },
  {
   "cell_type": "code",
   "execution_count": 5,
   "metadata": {},
   "outputs": [],
   "source": [
    "from analysis import inference"
   ]
  },
  {
   "cell_type": "code",
   "execution_count": 6,
   "metadata": {},
   "outputs": [],
   "source": [
    "from data import EventDataset"
   ]
  },
  {
   "cell_type": "code",
   "execution_count": 43,
   "metadata": {},
   "outputs": [],
   "source": [
    "infer_test_num = 1000000\n",
    "bkg_infer_test = bkg[:infer_test_num]\n",
    "infer_dataset = EventDataset(bkg_infer_test)\n",
    "infer_dataloader = DataLoader(infer_dataset, batch_size=256, num_workers=16, prefetch_factor=5)\n",
    "\n",
    "neutral_boson_infer_test = neutral_boson[:infer_test_num]\n",
    "neutral_boson_infer_dataset = EventDataset(neutral_boson_infer_test)\n",
    "neutral_boson_infer_dataloader = DataLoader(neutral_boson_infer_dataset, batch_size=256, num_workers=16, prefetch_factor=5)\n",
    "\n",
    "leptoquark_infer_test = leptoquark[:infer_test_num]\n",
    "leptoquark_infer_dataset = EventDataset(leptoquark_infer_test)\n",
    "leptoquark_infer_dataloader = DataLoader(leptoquark_infer_dataset, batch_size=256, num_workers=16, prefetch_factor=5)\n",
    "\n",
    "neutral_Higgs_infer_test = neutral_Higgs[:infer_test_num]\n",
    "neutral_Higgs_infer_dataset = EventDataset(neutral_Higgs_infer_test)\n",
    "neutral_Higgs_infer_dataloader = DataLoader(neutral_Higgs_infer_dataset, batch_size=256, num_workers=16, prefetch_factor=5)\n",
    "\n",
    "charged_Higgs_infer_test = charged_Higgs[:infer_test_num]\n",
    "charged_Higgs_infer_dataset = EventDataset(charged_Higgs_infer_test)\n",
    "charged_Higgs_infer_dataloader = DataLoader(charged_Higgs_infer_dataset, batch_size=256, num_workers=16, prefetch_factor=5)"
   ]
  },
  {
   "cell_type": "code",
   "execution_count": 44,
   "metadata": {},
   "outputs": [
    {
     "name": "stderr",
     "output_type": "stream",
     "text": [
      "100%|██████████| 3907/3907 [00:08<00:00, 474.55it/s]"
     ]
    },
    {
     "name": "stdout",
     "output_type": "stream",
     "text": [
      "(1000000, 4)\n"
     ]
    },
    {
     "name": "stderr",
     "output_type": "stream",
     "text": [
      "\n"
     ]
    }
   ],
   "source": [
    "model.load_state_dict(torch.load(os.path.join(\"..\", \"model\",\"emb_dim{}_type_scale{}.pt\".format(output_dim, particle_type_scale))))\n",
    "model.to(device)\n",
    "bkg_embed_points = inference(model, infer_dataloader, embed_dim=output_dim)\n",
    "print(bkg_embed_points.shape)"
   ]
  },
  {
   "cell_type": "code",
   "execution_count": 45,
   "metadata": {},
   "outputs": [
    {
     "name": "stderr",
     "output_type": "stream",
     "text": [
      "100%|██████████| 219/219 [00:00<00:00, 232.41it/s]\n",
      "100%|██████████| 1331/1331 [00:03<00:00, 428.79it/s]\n",
      "100%|██████████| 2701/2701 [00:05<00:00, 469.47it/s]\n",
      "100%|██████████| 2970/2970 [00:06<00:00, 469.22it/s]\n"
     ]
    }
   ],
   "source": [
    "neutral_boson_embed_points = inference(model, neutral_boson_infer_dataloader, embed_dim=output_dim)\n",
    "leptoquark_embed_points = inference(model, leptoquark_infer_dataloader, embed_dim=output_dim)\n",
    "neutral_Higgs_embed_points = inference(model, neutral_Higgs_infer_dataloader, embed_dim=output_dim)\n",
    "charged_Higgs_embed_points = inference(model, charged_Higgs_infer_dataloader, embed_dim=output_dim)\n"
   ]
  },
  {
   "cell_type": "code",
   "execution_count": 47,
   "metadata": {},
   "outputs": [],
   "source": [
    "class ClassifyDataset(Dataset):\n",
    "    def __init__(self, bkg_event, sig_event, lambda_=0.2, n_events=100000):\n",
    "        exp_n_sig = int(n_events * lambda_)\n",
    "        exp_n_bkg = n_events - exp_n_sig\n",
    "        exp_bkg_event = bkg_event[:exp_n_bkg]\n",
    "        exp_sig_event = sig_event[:exp_n_sig]\n",
    "        exp_event = np.concatenate([exp_bkg_event, exp_sig_event], axis=0)\n",
    "        bkg_event = bkg_event[exp_n_bkg:exp_n_bkg + n_events]\n",
    "        # Normalize the data\n",
    "        bkg_events = (bkg_event - bkg_event.mean()) / bkg_event.std()\n",
    "        exp_events = (exp_event - exp_event.mean()) / exp_event.std()\n",
    "\n",
    "        bkg_events = torch.from_numpy(bkg_events).float()\n",
    "        exp_events = torch.from_numpy(exp_events).float()\n",
    "        self.events = torch.cat([bkg_events, exp_events], dim=0)\n",
    "        self.labels = torch.cat([torch.zeros(len(bkg_events)), torch.ones(len(exp_events))])\n",
    "    \n",
    "    def __len__(self):\n",
    "        return len(self.events)\n",
    "    \n",
    "    def __getitem__(self, idx):\n",
    "        return self.events[idx], self.labels[idx]"
   ]
  },
  {
   "cell_type": "code",
   "execution_count": 48,
   "metadata": {},
   "outputs": [],
   "source": [
    "val_ratio = 0.2\n",
    "train_num_bkg = int(len(bkg_embed_points) * (1 - val_ratio))\n",
    "train_num_sig = int(len(charged_Higgs_embed_points) * (1 - val_ratio))\n",
    "\n",
    "\n",
    "train_dataset = ClassifyDataset(bkg_embed_points[:train_num_bkg], charged_Higgs_embed_points[:train_num_sig])\n",
    "val_dataset = ClassifyDataset(bkg_embed_points[train_num_sig:], charged_Higgs_embed_points[train_num_sig:])"
   ]
  },
  {
   "cell_type": "code",
   "execution_count": 49,
   "metadata": {},
   "outputs": [],
   "source": [
    "train_dataloader = DataLoader(train_dataset, batch_size=16, shuffle=True, pin_memory=True)\n",
    "val_dataloader = DataLoader(val_dataset, batch_size=256)"
   ]
  },
  {
   "cell_type": "code",
   "execution_count": 50,
   "metadata": {},
   "outputs": [
    {
     "name": "stdout",
     "output_type": "stream",
     "text": [
      "Batch 1\n",
      "Features shape: torch.Size([16, 4])\n",
      "Labels shape: torch.Size([16])\n",
      "Features dtype: torch.float32\n",
      "Labels dtype: torch.float32\n",
      "Sample features: tensor([ 0.6793,  0.0417, -0.3466,  0.4540])\n",
      "Sample labels: tensor(1.)\n",
      "Batch 2\n",
      "Features shape: torch.Size([16, 4])\n",
      "Labels shape: torch.Size([16])\n",
      "Features dtype: torch.float32\n",
      "Labels dtype: torch.float32\n",
      "Sample features: tensor([ 0.8296, -1.0632, -0.8525,  0.8846])\n",
      "Sample labels: tensor(0.)\n",
      "Batch 3\n",
      "Features shape: torch.Size([16, 4])\n",
      "Labels shape: torch.Size([16])\n",
      "Features dtype: torch.float32\n",
      "Labels dtype: torch.float32\n",
      "Sample features: tensor([0.0851, 0.6766, 0.3093, 0.1274])\n",
      "Sample labels: tensor(1.)\n"
     ]
    }
   ],
   "source": [
    "num_batches_to_print = 3\n",
    "\n",
    "for i, (features, labels) in enumerate(train_dataloader):\n",
    "    print(f\"Batch {i + 1}\")\n",
    "    print(f\"Features shape: {features.shape}\")\n",
    "    print(f\"Labels shape: {labels.shape}\")\n",
    "    print(f\"Features dtype: {features.dtype}\")\n",
    "    print(f\"Labels dtype: {labels.dtype}\")\n",
    "    print(\"Sample features:\", features[0]) \n",
    "    print(\"Sample labels:\", labels[0])\n",
    "\n",
    "    if i + 1 == num_batches_to_print:\n",
    "        break"
   ]
  },
  {
   "cell_type": "markdown",
   "metadata": {},
   "source": [
    "# Model"
   ]
  },
  {
   "cell_type": "code",
   "execution_count": 17,
   "metadata": {},
   "outputs": [],
   "source": [
    "class MLP(nn.Module):\n",
    "    def __init__(self, input_size, hidden_sizes):\n",
    "        super(MLP, self).__init__()\n",
    "        def make_layer(in_size, out_size):\n",
    "            layer = nn.Sequential(\n",
    "                nn.Linear(in_size, out_size),\n",
    "                nn.LeakyReLU(),\n",
    "                # nn.Dropout(0.1)\n",
    "            )\n",
    "            nn.init.kaiming_normal_(layer[0].weight, nonlinearity='leaky_relu')\n",
    "            return layer\n",
    "        self.layers = nn.Sequential(\n",
    "            make_layer(input_size, hidden_sizes[0]),\n",
    "            *[make_layer(hidden_sizes[i], hidden_sizes[i+1]) for i in range(len(hidden_sizes)-1)],\n",
    "            nn.Linear(hidden_sizes[-1], 1),\n",
    "            nn.Sigmoid()\n",
    "        )\n",
    "    \n",
    "\n",
    "    def forward(self, x):\n",
    "        return self.layers(x).reshape(-1)\n",
    "hidden_dim = [8, 16, 16, 16, 8]\n",
    "naive_model = MLP(output_dim, hidden_sizes=hidden_dim)"
   ]
  },
  {
   "cell_type": "code",
   "execution_count": 18,
   "metadata": {},
   "outputs": [],
   "source": [
    "class Deep(nn.Module):\n",
    "    def __init__(self):\n",
    "        super().__init__()\n",
    "        self.layer1 = nn.Linear(4, 8)\n",
    "        self.act1 = nn.ReLU()\n",
    "        self.layer2 = nn.Linear(8, 16)\n",
    "        self.act2 = nn.ReLU()\n",
    "        self.layer3 = nn.Linear(16, 16)\n",
    "        self.act3 = nn.ReLU()\n",
    "        self.output = nn.Linear(16, 1)\n",
    "        self.sigmoid = nn.Sigmoid()\n",
    " \n",
    "    def forward(self, x):\n",
    "        x = self.act1(self.layer1(x))\n",
    "        x = self.act2(self.layer2(x))\n",
    "        x = self.act3(self.layer3(x))\n",
    "        x = self.sigmoid(self.output(x))\n",
    "        x = x.squeeze()\n",
    "        return x\n",
    "\n",
    "naive_model = Deep()"
   ]
  },
  {
   "cell_type": "markdown",
   "metadata": {},
   "source": [
    "# Train"
   ]
  },
  {
   "cell_type": "code",
   "execution_count": 19,
   "metadata": {},
   "outputs": [],
   "source": [
    "class BinaryACCUpdater(nn.Module):\n",
    "    def __init__(self, threshold=0.5):\n",
    "        super(BinaryACCUpdater, self).__init__()\n",
    "        self.total_acc = 0\n",
    "        self.count = 0\n",
    "        self.threshold = threshold\n",
    "    def forward(self, output, label):\n",
    "        acc = (output > self.threshold).float() == label\n",
    "        mean_acc = acc.float().mean()\n",
    "        self.update(mean_acc)\n",
    "        return mean_acc\n",
    "    def update(self, metric):\n",
    "        self.total_acc += metric\n",
    "        self.count += 1\n",
    "    def compute(self):\n",
    "        return self.total_acc / self.count\n",
    "    def reset(self):\n",
    "        self.total_acc = 0\n",
    "        self.count = 0"
   ]
  },
  {
   "cell_type": "code",
   "execution_count": 20,
   "metadata": {},
   "outputs": [],
   "source": [
    "naive_model.to(device)\n",
    "optimizer = torch.optim.Adam(naive_model.parameters(), lr=1e-3, weight_decay=1e-5)\n",
    "loss_fn = nn.BCELoss()\n",
    "from torcheval.metrics import BinaryAccuracy\n",
    "acc_metric = BinaryACCUpdater()\n",
    "metric_dict = {\"Accuracy\": acc_metric}"
   ]
  },
  {
   "cell_type": "code",
   "execution_count": 21,
   "metadata": {},
   "outputs": [],
   "source": [
    "from classify import train_model"
   ]
  },
  {
   "cell_type": "code",
   "execution_count": null,
   "metadata": {},
   "outputs": [],
   "source": [
    "opt_train_model  = torch.compile(train_model)"
   ]
  },
  {
   "cell_type": "code",
   "execution_count": 22,
   "metadata": {},
   "outputs": [
    {
     "name": "stdout",
     "output_type": "stream",
     "text": [
      "\n",
      "================================================================================2024-05-09 20:12:27\n",
      "Epoch 1 / 10\n",
      "\n",
      "100%|██████████| 10000/10000 [00:13<00:00, 736.28it/s, train_Accuracy=0.931, train_loss=0.166]\n",
      "100%|██████████| 157/157 [00:00<00:00, 416.44it/s, val_Accuracy=0.944, val_loss=0.134] \n",
      "<<<<<< reach best val_Accuracy : 0.944491446018219 >>>>>>\n",
      "\n",
      "================================================================================2024-05-09 20:12:41\n",
      "Epoch 2 / 10\n",
      "\n",
      "100%|██████████| 10000/10000 [00:13<00:00, 720.03it/s, train_Accuracy=0.951, train_loss=0.12] \n",
      "100%|██████████| 157/157 [00:00<00:00, 623.77it/s, val_Accuracy=0.948, val_loss=0.124] \n",
      "<<<<<< reach best val_Accuracy : 0.9478254318237305 >>>>>>\n",
      "\n",
      "================================================================================2024-05-09 20:12:55\n",
      "Epoch 3 / 10\n",
      "\n",
      "100%|██████████| 10000/10000 [00:14<00:00, 713.26it/s, train_Accuracy=0.954, train_loss=0.113]\n",
      "100%|██████████| 157/157 [00:00<00:00, 635.38it/s, val_Accuracy=0.952, val_loss=0.116] \n",
      "<<<<<< reach best val_Accuracy : 0.951681911945343 >>>>>>\n",
      "\n",
      "================================================================================2024-05-09 20:13:09\n",
      "Epoch 4 / 10\n",
      "\n",
      "100%|██████████| 10000/10000 [00:13<00:00, 728.42it/s, train_Accuracy=0.956, train_loss=0.108]\n",
      "100%|██████████| 157/157 [00:00<00:00, 665.67it/s, val_Accuracy=0.949, val_loss=0.126] \n",
      "\n",
      "================================================================================2024-05-09 20:13:23\n",
      "Epoch 5 / 10\n",
      "\n",
      "100%|██████████| 10000/10000 [00:14<00:00, 701.91it/s, train_Accuracy=0.957, train_loss=0.106]\n",
      "100%|██████████| 157/157 [00:00<00:00, 668.98it/s, val_Accuracy=0.952, val_loss=0.115] \n",
      "<<<<<< reach best val_Accuracy : 0.9520053863525391 >>>>>>\n",
      "\n",
      "================================================================================2024-05-09 20:13:38\n",
      "Epoch 6 / 10\n",
      "\n",
      "100%|██████████| 10000/10000 [00:14<00:00, 710.92it/s, train_Accuracy=0.958, train_loss=0.104]\n",
      "100%|██████████| 157/157 [00:00<00:00, 627.43it/s, val_Accuracy=0.954, val_loss=0.112] \n",
      "<<<<<< reach best val_Accuracy : 0.9536724090576172 >>>>>>\n",
      "\n",
      "================================================================================2024-05-09 20:13:52\n",
      "Epoch 7 / 10\n",
      "\n",
      "100%|██████████| 10000/10000 [00:14<00:00, 701.53it/s, train_Accuracy=0.958, train_loss=0.103]\n",
      "100%|██████████| 157/157 [00:00<00:00, 651.32it/s, val_Accuracy=0.953, val_loss=0.11]  \n",
      "\n",
      "================================================================================2024-05-09 20:14:07\n",
      "Epoch 8 / 10\n",
      "\n",
      "100%|██████████| 10000/10000 [00:13<00:00, 718.56it/s, train_Accuracy=0.959, train_loss=0.103]\n",
      "100%|██████████| 157/157 [00:00<00:00, 454.65it/s, val_Accuracy=0.952, val_loss=0.112] \n",
      "\n",
      "================================================================================2024-05-09 20:14:21\n",
      "Epoch 9 / 10\n",
      "\n",
      "100%|██████████| 10000/10000 [00:13<00:00, 717.90it/s, train_Accuracy=0.959, train_loss=0.102]\n",
      "100%|██████████| 157/157 [00:00<00:00, 636.42it/s, val_Accuracy=0.954, val_loss=0.11]  \n",
      "<<<<<< reach best val_Accuracy : 0.9536972641944885 >>>>>>\n",
      "\n",
      "================================================================================2024-05-09 20:14:35\n",
      "Epoch 10 / 10\n",
      "\n",
      "100%|██████████| 10000/10000 [00:14<00:00, 701.36it/s, train_Accuracy=0.959, train_loss=0.102]\n",
      "100%|██████████| 157/157 [00:00<00:00, 649.58it/s, val_Accuracy=0.954, val_loss=0.111] \n"
     ]
    },
    {
     "data": {
      "text/html": [
       "<div>\n",
       "<style scoped>\n",
       "    .dataframe tbody tr th:only-of-type {\n",
       "        vertical-align: middle;\n",
       "    }\n",
       "\n",
       "    .dataframe tbody tr th {\n",
       "        vertical-align: top;\n",
       "    }\n",
       "\n",
       "    .dataframe thead th {\n",
       "        text-align: right;\n",
       "    }\n",
       "</style>\n",
       "<table border=\"1\" class=\"dataframe\">\n",
       "  <thead>\n",
       "    <tr style=\"text-align: right;\">\n",
       "      <th></th>\n",
       "      <th>train_loss</th>\n",
       "      <th>train_Accuracy</th>\n",
       "      <th>val_loss</th>\n",
       "      <th>val_Accuracy</th>\n",
       "      <th>epoch</th>\n",
       "    </tr>\n",
       "  </thead>\n",
       "  <tbody>\n",
       "    <tr>\n",
       "      <th>0</th>\n",
       "      <td>0.166147</td>\n",
       "      <td>0.930531</td>\n",
       "      <td>0.133602</td>\n",
       "      <td>0.944491</td>\n",
       "      <td>1</td>\n",
       "    </tr>\n",
       "    <tr>\n",
       "      <th>1</th>\n",
       "      <td>0.120488</td>\n",
       "      <td>0.950925</td>\n",
       "      <td>0.124109</td>\n",
       "      <td>0.947825</td>\n",
       "      <td>2</td>\n",
       "    </tr>\n",
       "    <tr>\n",
       "      <th>2</th>\n",
       "      <td>0.113450</td>\n",
       "      <td>0.954131</td>\n",
       "      <td>0.115898</td>\n",
       "      <td>0.951682</td>\n",
       "      <td>3</td>\n",
       "    </tr>\n",
       "    <tr>\n",
       "      <th>3</th>\n",
       "      <td>0.108230</td>\n",
       "      <td>0.956200</td>\n",
       "      <td>0.125504</td>\n",
       "      <td>0.949269</td>\n",
       "      <td>4</td>\n",
       "    </tr>\n",
       "    <tr>\n",
       "      <th>4</th>\n",
       "      <td>0.105816</td>\n",
       "      <td>0.956844</td>\n",
       "      <td>0.115197</td>\n",
       "      <td>0.952005</td>\n",
       "      <td>5</td>\n",
       "    </tr>\n",
       "    <tr>\n",
       "      <th>5</th>\n",
       "      <td>0.104458</td>\n",
       "      <td>0.957644</td>\n",
       "      <td>0.111695</td>\n",
       "      <td>0.953672</td>\n",
       "      <td>6</td>\n",
       "    </tr>\n",
       "    <tr>\n",
       "      <th>6</th>\n",
       "      <td>0.103271</td>\n",
       "      <td>0.958312</td>\n",
       "      <td>0.110193</td>\n",
       "      <td>0.953448</td>\n",
       "      <td>7</td>\n",
       "    </tr>\n",
       "    <tr>\n",
       "      <th>7</th>\n",
       "      <td>0.102714</td>\n",
       "      <td>0.958537</td>\n",
       "      <td>0.111535</td>\n",
       "      <td>0.952403</td>\n",
       "      <td>8</td>\n",
       "    </tr>\n",
       "    <tr>\n",
       "      <th>8</th>\n",
       "      <td>0.102022</td>\n",
       "      <td>0.958737</td>\n",
       "      <td>0.109617</td>\n",
       "      <td>0.953697</td>\n",
       "      <td>9</td>\n",
       "    </tr>\n",
       "    <tr>\n",
       "      <th>9</th>\n",
       "      <td>0.101631</td>\n",
       "      <td>0.959294</td>\n",
       "      <td>0.110642</td>\n",
       "      <td>0.953523</td>\n",
       "      <td>10</td>\n",
       "    </tr>\n",
       "  </tbody>\n",
       "</table>\n",
       "</div>"
      ],
      "text/plain": [
       "   train_loss  train_Accuracy  val_loss  val_Accuracy  epoch\n",
       "0    0.166147        0.930531  0.133602      0.944491      1\n",
       "1    0.120488        0.950925  0.124109      0.947825      2\n",
       "2    0.113450        0.954131  0.115898      0.951682      3\n",
       "3    0.108230        0.956200  0.125504      0.949269      4\n",
       "4    0.105816        0.956844  0.115197      0.952005      5\n",
       "5    0.104458        0.957644  0.111695      0.953672      6\n",
       "6    0.103271        0.958312  0.110193      0.953448      7\n",
       "7    0.102714        0.958537  0.111535      0.952403      8\n",
       "8    0.102022        0.958737  0.109617      0.953697      9\n",
       "9    0.101631        0.959294  0.110642      0.953523     10"
      ]
     },
     "execution_count": 22,
     "metadata": {},
     "output_type": "execute_result"
    }
   ],
   "source": [
    "opt_train_model(\n",
    "    naive_model, optimizer,\n",
    "    loss_fn, metrics_dict=metric_dict,\n",
    "    train_dataloader=train_dataloader, val_dataloader=val_dataloader,\n",
    "    monitor=\"val_Accuracy\", mode=\"max\",\n",
    "    epochs=10\n",
    "    )"
   ]
  },
  {
   "cell_type": "markdown",
   "metadata": {},
   "source": [
    "# ROC"
   ]
  },
  {
   "cell_type": "code",
   "execution_count": 27,
   "metadata": {},
   "outputs": [],
   "source": [
    "@torch.no_grad()\n",
    "def predict(model, dataloader):\n",
    "    model.eval()\n",
    "    batch_size = dataloader.batch_size\n",
    "    targets = np.zeros(len(dataloader.dataset))\n",
    "    predictions = np.zeros(len(dataloader.dataset))\n",
    "    for i, (features, labels) in enumerate(tqdm(dataloader)):\n",
    "        features = features.to(device)\n",
    "        outputs = model(features)\n",
    "        targets[i * batch_size: (i + 1) * batch_size] = labels.numpy()\n",
    "        predictions[i * batch_size: (i + 1) * batch_size] = outputs.cpu().numpy()\n",
    "    return targets, predictions"
   ]
  },
  {
   "cell_type": "code",
   "execution_count": 28,
   "metadata": {},
   "outputs": [
    {
     "name": "stderr",
     "output_type": "stream",
     "text": [
      "100%|██████████| 157/157 [00:00<00:00, 1120.64it/s]\n"
     ]
    }
   ],
   "source": [
    "targets, predictions = predict(naive_model, val_dataloader)"
   ]
  },
  {
   "cell_type": "code",
   "execution_count": 39,
   "metadata": {},
   "outputs": [],
   "source": [
    "from sklearn.metrics import roc_curve, auc\n",
    "import matplotlib.pyplot as plt"
   ]
  },
  {
   "cell_type": "code",
   "execution_count": 40,
   "metadata": {},
   "outputs": [],
   "source": [
    "def calculate_auc(targets, predictions):\n",
    "    fpr, tpr, thersholds = roc_curve(targets, predictions)\n",
    "    auc_roc = auc(fpr, tpr)\n",
    "    return fpr, tpr, auc_roc"
   ]
  },
  {
   "cell_type": "code",
   "execution_count": 37,
   "metadata": {},
   "outputs": [],
   "source": [
    "def plot_roc_curve(fpr, tpr, auc_roc, title):\n",
    "    plt.plot(fpr, tpr, 'k--', label='ROC (area = {0:.2f})'.format(auc_roc), lw=2)    \n",
    "    plt.xlim([-0.05, 1.05])\n",
    "    plt.ylim([-0.05, 1.05])\n",
    "    plt.xlabel('FPT')\n",
    "    plt.ylabel('TPR') \n",
    "    plt.title(title)\n",
    "    plt.legend(loc=\"lower right\")\n",
    "    plt.show()\n"
   ]
  },
  {
   "cell_type": "code",
   "execution_count": 41,
   "metadata": {},
   "outputs": [
    {
     "data": {
      "image/png": "[encoded data removed]",
      "text/plain": [
       "<Figure size 640x480 with 1 Axes>"
      ]
     },
     "metadata": {},
     "output_type": "display_data"
    }
   ],
   "source": [
    "fpr, tpr, auc_roc = calculate_auc(targets, predictions)\n",
    "plot_roc_curve(fpr, tpr, auc_roc, \"ROC Curve\")"
   ]
  },
  {
   "cell_type": "code",
   "execution_count": null,
   "metadata": {},
   "outputs": [],
   "source": []
  }
 ],
 "metadata": {
  "kernelspec": {
   "display_name": "ad",
   "language": "python",
   "name": "python3"
  },
  "language_info": {
   "codemirror_mode": {
    "name": "ipython",
    "version": 3
   },
   "file_extension": ".py",
   "mimetype": "text/x-python",
   "name": "python",
   "nbconvert_exporter": "python",
   "pygments_lexer": "ipython3",
   "version": "3.11.8"
  }
 },
 "nbformat": 4,
 "nbformat_minor": 2
}
