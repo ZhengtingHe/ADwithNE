{
 "cells": [
  {
   "cell_type": "code",
   "execution_count": 1,
   "metadata": {},
   "outputs": [],
   "source": [
    "import torch\n",
    "from torch import nn\n",
    "import numpy as np\n",
    "import sys\n",
    "import os\n",
    "import pandas as pd\n",
    "from torch.utils.data import Dataset, DataLoader\n",
    "from tqdm import tqdm\n",
    "\n",
    "\n",
    "sys.path.append(\"..\")\n",
    "from model import ParticleEventTransformer\n",
    "from data import get_database_path, get_h5_files, read_h5_file, select_events\n",
    "from utils import load_toml_config\n",
    "\n",
    "import matplotlib.pyplot as plt\n",
    "\n",
    "\n",
    "device = \"cuda\" if torch.cuda.is_available() else \"mps\" if sys.platform == \"darwin\" else \"cpu\"\n"
   ]
  },
  {
   "cell_type": "code",
   "execution_count": 2,
   "metadata": {},
   "outputs": [],
   "source": [
    "EMD_config = load_toml_config(\"EMD\")\n",
    "particle_type_scale = EMD_config['particle_type_scale']"
   ]
  },
  {
   "cell_type": "markdown",
   "metadata": {},
   "source": [
    "# Load raw events"
   ]
  },
  {
   "cell_type": "code",
   "execution_count": 3,
   "metadata": {},
   "outputs": [
    {
     "name": "stdout",
     "output_type": "stream",
     "text": [
      "dict_keys(['SM', 'neutral_boson', 'leptoquark', 'neutral_Higgs', 'charged_Higgs'])\n"
     ]
    }
   ],
   "source": [
    "files = load_toml_config(\"file\")\n",
    "database_path = get_database_path()\n",
    "bkg_files, sig_files = get_h5_files()\n",
    "\n",
    "print(files.keys())\n",
    "bkg = read_h5_file(database_path, files[\"SM\"])\n",
    "# SM processes\n",
    "\n",
    "neutral_boson = read_h5_file(database_path, files[\"neutral_boson\"])\n",
    "# A neutral scalar boson (A) with mass 50 GeV, decaying to two off-shell Z bosons, each forced to decay to two leptons: A → 4l\n",
    "\n",
    "leptoquark = read_h5_file(database_path, files[\"leptoquark\"])\n",
    "# A leptoquark (LQ) with mass 80 GeV, decaying to a b quark and a τ lepton24\n",
    "\n",
    "neutral_Higgs = read_h5_file(database_path, files[\"neutral_Higgs\"])\n",
    "# A scalar boson with mass 60 GeV, decaying to two tau leptons: h0→ ττ\n",
    "\n",
    "charged_Higgs = read_h5_file(database_path, files[\"charged_Higgs\"])\n",
    "# A charged scalar boson with mass 60 GeV, decaying to a tau lepton and a neutrino"
   ]
  },
  {
   "cell_type": "markdown",
   "metadata": {},
   "source": [
    "# Load embedding model"
   ]
  },
  {
   "cell_type": "code",
   "execution_count": 4,
   "metadata": {},
   "outputs": [
    {
     "name": "stdout",
     "output_type": "stream",
     "text": [
      "{'feature_size': 3, 'embed_size': 16, 'num_heads': 8, 'num_layers': 4, 'hidden_dim': 256, 'output_dim': 4}\n"
     ]
    },
    {
     "name": "stderr",
     "output_type": "stream",
     "text": [
      "/home/desmondhe/anaconda3/envs/ad/lib/python3.11/site-packages/torch/nn/modules/transformer.py:286: UserWarning: enable_nested_tensor is True, but self.use_nested_tensor is False because encoder_layer.self_attn.batch_first was not True(use batch_first for better inference performance)\n",
      "  warnings.warn(f\"enable_nested_tensor is True, but self.use_nested_tensor is False because {why_not_sparsity_fast_path}\")\n"
     ]
    }
   ],
   "source": [
    "model_hyper_parameters = load_toml_config(\"Transformer\")\n",
    "print(model_hyper_parameters)\n",
    "feature_size = model_hyper_parameters[\"feature_size\"]\n",
    "embed_size = model_hyper_parameters[\"embed_size\"]\n",
    "num_heads = model_hyper_parameters[\"num_heads\"]\n",
    "num_layers = model_hyper_parameters[\"num_layers\"]\n",
    "hidden_dim = model_hyper_parameters[\"hidden_dim\"]\n",
    "output_dim = model_hyper_parameters[\"output_dim\"]\n",
    "\n",
    "embedding_model = ParticleEventTransformer(feature_size, embed_size, num_heads, hidden_dim, output_dim, num_layers)"
   ]
  },
  {
   "cell_type": "markdown",
   "metadata": {},
   "source": [
    "# Embed events"
   ]
  },
  {
   "cell_type": "code",
   "execution_count": 5,
   "metadata": {},
   "outputs": [],
   "source": [
    "from analysis import inference"
   ]
  },
  {
   "cell_type": "code",
   "execution_count": 6,
   "metadata": {},
   "outputs": [],
   "source": [
    "from data import EventDataset"
   ]
  },
  {
   "cell_type": "code",
   "execution_count": 7,
   "metadata": {},
   "outputs": [],
   "source": [
    "infer_test_num = 1000000\n",
    "bkg_infer_test = bkg[:infer_test_num]\n",
    "infer_dataset = EventDataset(bkg_infer_test)\n",
    "infer_dataloader = DataLoader(infer_dataset, batch_size=256, num_workers=16, prefetch_factor=5)\n",
    "\n",
    "neutral_boson_infer_test = neutral_boson[:infer_test_num]\n",
    "neutral_boson_infer_dataset = EventDataset(neutral_boson_infer_test)\n",
    "neutral_boson_infer_dataloader = DataLoader(neutral_boson_infer_dataset, batch_size=256, num_workers=16, prefetch_factor=5)\n",
    "\n",
    "leptoquark_infer_test = leptoquark[:infer_test_num]\n",
    "leptoquark_infer_dataset = EventDataset(leptoquark_infer_test)\n",
    "leptoquark_infer_dataloader = DataLoader(leptoquark_infer_dataset, batch_size=256, num_workers=16, prefetch_factor=5)\n",
    "\n",
    "neutral_Higgs_infer_test = neutral_Higgs[:infer_test_num]\n",
    "neutral_Higgs_infer_dataset = EventDataset(neutral_Higgs_infer_test)\n",
    "neutral_Higgs_infer_dataloader = DataLoader(neutral_Higgs_infer_dataset, batch_size=256, num_workers=16, prefetch_factor=5)\n",
    "\n",
    "charged_Higgs_infer_test = charged_Higgs[:infer_test_num]\n",
    "charged_Higgs_infer_dataset = EventDataset(charged_Higgs_infer_test)\n",
    "charged_Higgs_infer_dataloader = DataLoader(charged_Higgs_infer_dataset, batch_size=256, num_workers=16, prefetch_factor=5)"
   ]
  },
  {
   "cell_type": "code",
   "execution_count": 8,
   "metadata": {},
   "outputs": [
    {
     "name": "stderr",
     "output_type": "stream",
     "text": [
      "100%|██████████| 3907/3907 [00:08<00:00, 458.50it/s]"
     ]
    },
    {
     "name": "stdout",
     "output_type": "stream",
     "text": [
      "(1000000, 4)\n"
     ]
    },
    {
     "name": "stderr",
     "output_type": "stream",
     "text": [
      "\n"
     ]
    }
   ],
   "source": [
    "embedding_model.load_state_dict(torch.load(os.path.join(\"..\", \"model\",\"emb_dim{}_type_scale{}.pt\".format(output_dim, particle_type_scale))))\n",
    "embedding_model.to(device)\n",
    "bkg_embed_points = inference(embedding_model, infer_dataloader, embed_dim=output_dim)\n",
    "print(bkg_embed_points.shape)"
   ]
  },
  {
   "cell_type": "code",
   "execution_count": 9,
   "metadata": {},
   "outputs": [
    {
     "name": "stderr",
     "output_type": "stream",
     "text": [
      "100%|██████████| 219/219 [00:01<00:00, 200.23it/s]\n",
      "100%|██████████| 1331/1331 [00:03<00:00, 404.46it/s]\n",
      "100%|██████████| 2701/2701 [00:06<00:00, 443.35it/s]\n",
      "100%|██████████| 2970/2970 [00:06<00:00, 453.74it/s]"
     ]
    },
    {
     "name": "stdout",
     "output_type": "stream",
     "text": [
      "(55969, 4)\n",
      "(340544, 4)\n",
      "(691283, 4)\n",
      "(760272, 4)\n"
     ]
    },
    {
     "name": "stderr",
     "output_type": "stream",
     "text": [
      "\n"
     ]
    }
   ],
   "source": [
    "neutral_boson_embed_points = inference(embedding_model, neutral_boson_infer_dataloader, embed_dim=output_dim)\n",
    "leptoquark_embed_points = inference(embedding_model, leptoquark_infer_dataloader, embed_dim=output_dim)\n",
    "neutral_Higgs_embed_points = inference(embedding_model, neutral_Higgs_infer_dataloader, embed_dim=output_dim)\n",
    "charged_Higgs_embed_points = inference(embedding_model, charged_Higgs_infer_dataloader, embed_dim=output_dim)\n",
    "print(neutral_boson_embed_points.shape)\n",
    "print(leptoquark_embed_points.shape)\n",
    "print(neutral_Higgs_embed_points.shape)\n",
    "print(charged_Higgs_embed_points.shape)"
   ]
  },
  {
   "cell_type": "code",
   "execution_count": 10,
   "metadata": {},
   "outputs": [],
   "source": [
    "from analysis import Normalizer"
   ]
  },
  {
   "cell_type": "code",
   "execution_count": 15,
   "metadata": {},
   "outputs": [],
   "source": [
    "import importlib\n",
    "import analysis\n",
    "importlib.reload(analysis)\n",
    "from analysis import Normalizer"
   ]
  },
  {
   "cell_type": "code",
   "execution_count": 16,
   "metadata": {},
   "outputs": [],
   "source": [
    "normalizer = Normalizer(bkg_embed_points, neutral_boson_embed_points, leptoquark_embed_points, neutral_Higgs_embed_points, charged_Higgs_embed_points)"
   ]
  },
  {
   "cell_type": "markdown",
   "metadata": {},
   "source": [
    "# Split embed points"
   ]
  },
  {
   "cell_type": "code",
   "execution_count": 17,
   "metadata": {},
   "outputs": [],
   "source": [
    "tpr_dict = {}\n",
    "fpr_dict = {}\n",
    "auc_dict = {}"
   ]
  },
  {
   "cell_type": "code",
   "execution_count": 18,
   "metadata": {},
   "outputs": [],
   "source": [
    "from analysis import create_exp_bkg_events, train_test_split, get_dataloaders"
   ]
  },
  {
   "cell_type": "code",
   "execution_count": 19,
   "metadata": {},
   "outputs": [],
   "source": [
    "test_ratio=0.2\n",
    "val_ratio = 0.2\n",
    "sig_lambda = 0.2\n",
    "n = 100000\n",
    "\n",
    "# exp_events, bkg_events = create_exp_bkg_events(bkg_embed_points, neutral_boson_embed_points, sig_lambda, n)\n",
    "# exp_events, bkg_events = create_exp_bkg_events(bkg_embed_points, leptoquark_embed_points, sig_lambda, n)\n",
    "# exp_events, bkg_events = create_exp_bkg_events(bkg_embed_points, neutral_Higgs_embed_points, sig_lambda, n)\n",
    "exp_events, bkg_events = create_exp_bkg_events(bkg_embed_points, charged_Higgs_embed_points, sig_lambda, n)\n",
    "X1, X2, W1, W2 = train_test_split(exp_events, bkg_events, test_ratio)\n",
    "n1 = len(W1)\n",
    "m1 = len(X1)\n",
    "pi = n1 / (n1 + m1)\n",
    "n2 = len(W2)\n",
    "m2 = len(X2)\n",
    "train_dataloader, val_dataloader = get_dataloaders(X1, W1, val_ratio, normalizer)"
   ]
  },
  {
   "cell_type": "markdown",
   "metadata": {},
   "source": [
    "# Classify Model"
   ]
  },
  {
   "cell_type": "code",
   "execution_count": 20,
   "metadata": {},
   "outputs": [],
   "source": [
    "from model import MLP\n",
    "hidden_dim = [8, 16, 16, 16, 8]\n",
    "naive_model = MLP(output_dim, hidden_sizes=hidden_dim)"
   ]
  },
  {
   "cell_type": "markdown",
   "metadata": {},
   "source": [
    "# Train"
   ]
  },
  {
   "cell_type": "code",
   "execution_count": 21,
   "metadata": {},
   "outputs": [],
   "source": [
    "from metrics import BinaryACCUpdater"
   ]
  },
  {
   "cell_type": "code",
   "execution_count": 22,
   "metadata": {},
   "outputs": [],
   "source": [
    "naive_model.to(device)\n",
    "optimizer = torch.optim.Adam(naive_model.parameters(), lr=1e-3, weight_decay=1e-5)\n",
    "loss_fn = nn.BCELoss()\n",
    "acc_metric = BinaryACCUpdater()\n",
    "metric_dict = {\"Accuracy\": acc_metric}"
   ]
  },
  {
   "cell_type": "code",
   "execution_count": 23,
   "metadata": {},
   "outputs": [],
   "source": [
    "from classify import train_model"
   ]
  },
  {
   "cell_type": "code",
   "execution_count": 24,
   "metadata": {},
   "outputs": [],
   "source": [
    "opt_train_model  = torch.compile(train_model)"
   ]
  },
  {
   "cell_type": "code",
   "execution_count": 25,
   "metadata": {},
   "outputs": [
    {
     "name": "stdout",
     "output_type": "stream",
     "text": [
      "\n",
      "================================================================================2024-05-17 21:51:43\n",
      "Epoch 1 / 50\n",
      "\n",
      "  0%|          | 0/4000 [00:00<?, ?it/s]"
     ]
    },
    {
     "name": "stderr",
     "output_type": "stream",
     "text": [
      "/home/desmondhe/anaconda3/envs/ad/lib/python3.11/site-packages/torch/_inductor/compile_fx.py:140: UserWarning: TensorFloat32 tensor cores for float32 matrix multiplication available but not enabled. Consider setting `torch.set_float32_matmul_precision('high')` for better performance.\n",
      "  warnings.warn(\n"
     ]
    },
    {
     "name": "stdout",
     "output_type": "stream",
     "text": [
      "100%|██████████| 4000/4000 [00:13<00:00, 298.06it/s, train_Accuracy=0.566, train_loss=0.672]\n",
      "100%|██████████| 125/125 [00:02<00:00, 45.22it/s, val_Accuracy=0.57, val_loss=0.667]\n",
      "<<<<<< reach best val_Accuracy : 0.5699062943458557 >>>>>>\n",
      "\n",
      "================================================================================2024-05-17 21:51:59\n",
      "Epoch 2 / 50\n",
      "\n",
      "100%|██████████| 4000/4000 [00:07<00:00, 553.03it/s, train_Accuracy=0.57, train_loss=0.667] \n",
      "100%|██████████| 125/125 [00:00<00:00, 620.72it/s, val_Accuracy=0.571, val_loss=0.665]\n",
      "<<<<<< reach best val_Accuracy : 0.5711875557899475 >>>>>>\n",
      "\n",
      "================================================================================2024-05-17 21:52:07\n",
      "Epoch 3 / 50\n",
      "\n",
      "100%|██████████| 4000/4000 [00:07<00:00, 547.06it/s, train_Accuracy=0.571, train_loss=0.666]\n",
      "100%|██████████| 125/125 [00:00<00:00, 693.01it/s, val_Accuracy=0.571, val_loss=0.665]\n",
      "\n",
      "================================================================================2024-05-17 21:52:14\n",
      "Epoch 4 / 50\n",
      "\n",
      "100%|██████████| 4000/4000 [00:07<00:00, 564.93it/s, train_Accuracy=0.572, train_loss=0.666]\n",
      "100%|██████████| 125/125 [00:00<00:00, 602.22it/s, val_Accuracy=0.571, val_loss=0.665]\n",
      "\n",
      "================================================================================2024-05-17 21:52:22\n",
      "Epoch 5 / 50\n",
      "\n",
      "100%|██████████| 4000/4000 [00:07<00:00, 550.83it/s, train_Accuracy=0.572, train_loss=0.665]\n",
      "100%|██████████| 125/125 [00:00<00:00, 591.18it/s, val_Accuracy=0.571, val_loss=0.665]\n",
      "\n",
      "================================================================================2024-05-17 21:52:29\n",
      "Epoch 6 / 50\n",
      "\n",
      "100%|██████████| 4000/4000 [00:07<00:00, 558.35it/s, train_Accuracy=0.571, train_loss=0.665]\n",
      "100%|██████████| 125/125 [00:00<00:00, 591.87it/s, val_Accuracy=0.571, val_loss=0.664]\n",
      "\n",
      "================================================================================2024-05-17 21:52:37\n",
      "Epoch 7 / 50\n",
      "\n",
      "100%|██████████| 4000/4000 [00:07<00:00, 544.88it/s, train_Accuracy=0.572, train_loss=0.665]\n",
      "100%|██████████| 125/125 [00:00<00:00, 615.12it/s, val_Accuracy=0.571, val_loss=0.665]\n",
      "<<<<<< val_Accuracy without improvement in 5 epoch, early stopping >>>>>>\n"
     ]
    },
    {
     "data": {
      "text/html": [
       "<div>\n",
       "<style scoped>\n",
       "    .dataframe tbody tr th:only-of-type {\n",
       "        vertical-align: middle;\n",
       "    }\n",
       "\n",
       "    .dataframe tbody tr th {\n",
       "        vertical-align: top;\n",
       "    }\n",
       "\n",
       "    .dataframe thead th {\n",
       "        text-align: right;\n",
       "    }\n",
       "</style>\n",
       "<table border=\"1\" class=\"dataframe\">\n",
       "  <thead>\n",
       "    <tr style=\"text-align: right;\">\n",
       "      <th></th>\n",
       "      <th>train_loss</th>\n",
       "      <th>train_Accuracy</th>\n",
       "      <th>val_loss</th>\n",
       "      <th>val_Accuracy</th>\n",
       "      <th>epoch</th>\n",
       "    </tr>\n",
       "  </thead>\n",
       "  <tbody>\n",
       "    <tr>\n",
       "      <th>0</th>\n",
       "      <td>0.671761</td>\n",
       "      <td>0.566328</td>\n",
       "      <td>0.666919</td>\n",
       "      <td>0.569906</td>\n",
       "      <td>1</td>\n",
       "    </tr>\n",
       "    <tr>\n",
       "      <th>1</th>\n",
       "      <td>0.666951</td>\n",
       "      <td>0.570453</td>\n",
       "      <td>0.665356</td>\n",
       "      <td>0.571188</td>\n",
       "      <td>2</td>\n",
       "    </tr>\n",
       "    <tr>\n",
       "      <th>2</th>\n",
       "      <td>0.665941</td>\n",
       "      <td>0.570672</td>\n",
       "      <td>0.664982</td>\n",
       "      <td>0.570656</td>\n",
       "      <td>3</td>\n",
       "    </tr>\n",
       "    <tr>\n",
       "      <th>3</th>\n",
       "      <td>0.665546</td>\n",
       "      <td>0.571695</td>\n",
       "      <td>0.665311</td>\n",
       "      <td>0.571031</td>\n",
       "      <td>4</td>\n",
       "    </tr>\n",
       "    <tr>\n",
       "      <th>4</th>\n",
       "      <td>0.665224</td>\n",
       "      <td>0.572320</td>\n",
       "      <td>0.664699</td>\n",
       "      <td>0.571031</td>\n",
       "      <td>5</td>\n",
       "    </tr>\n",
       "    <tr>\n",
       "      <th>5</th>\n",
       "      <td>0.664951</td>\n",
       "      <td>0.571172</td>\n",
       "      <td>0.664383</td>\n",
       "      <td>0.570844</td>\n",
       "      <td>6</td>\n",
       "    </tr>\n",
       "    <tr>\n",
       "      <th>6</th>\n",
       "      <td>0.664918</td>\n",
       "      <td>0.572281</td>\n",
       "      <td>0.664918</td>\n",
       "      <td>0.570719</td>\n",
       "      <td>7</td>\n",
       "    </tr>\n",
       "  </tbody>\n",
       "</table>\n",
       "</div>"
      ],
      "text/plain": [
       "   train_loss  train_Accuracy  val_loss  val_Accuracy  epoch\n",
       "0    0.671761        0.566328  0.666919      0.569906      1\n",
       "1    0.666951        0.570453  0.665356      0.571188      2\n",
       "2    0.665941        0.570672  0.664982      0.570656      3\n",
       "3    0.665546        0.571695  0.665311      0.571031      4\n",
       "4    0.665224        0.572320  0.664699      0.571031      5\n",
       "5    0.664951        0.571172  0.664383      0.570844      6\n",
       "6    0.664918        0.572281  0.664918      0.570719      7"
      ]
     },
     "execution_count": 25,
     "metadata": {},
     "output_type": "execute_result"
    }
   ],
   "source": [
    "opt_train_model(\n",
    "    naive_model, optimizer,\n",
    "    loss_fn, metrics_dict=metric_dict,\n",
    "    train_dataloader=train_dataloader, val_dataloader=val_dataloader,\n",
    "    monitor=\"val_Accuracy\", mode=\"max\",\n",
    "    epochs=50\n",
    "    )"
   ]
  },
  {
   "cell_type": "markdown",
   "metadata": {},
   "source": [
    "# ROC"
   ]
  },
  {
   "cell_type": "code",
   "execution_count": 26,
   "metadata": {},
   "outputs": [],
   "source": [
    "from analysis import predict"
   ]
  },
  {
   "cell_type": "code",
   "execution_count": 27,
   "metadata": {},
   "outputs": [
    {
     "name": "stderr",
     "output_type": "stream",
     "text": [
      "100%|██████████| 125/125 [00:00<00:00, 1099.64it/s]\n"
     ]
    }
   ],
   "source": [
    "targets, predictions = predict(naive_model, val_dataloader)"
   ]
  },
  {
   "cell_type": "code",
   "execution_count": 28,
   "metadata": {},
   "outputs": [],
   "source": [
    "from analysis import calculate_auc"
   ]
  },
  {
   "cell_type": "code",
   "execution_count": 29,
   "metadata": {},
   "outputs": [],
   "source": [
    "from visualize import plot_roc_curve"
   ]
  },
  {
   "cell_type": "code",
   "execution_count": 30,
   "metadata": {},
   "outputs": [
    {
     "data": {
      "image/png": "[encoded data removed]",
      "text/plain": [
       "<Figure size 640x480 with 1 Axes>"
      ]
     },
     "metadata": {},
     "output_type": "display_data"
    }
   ],
   "source": [
    "fpr, tpr, auc_roc = calculate_auc(targets, predictions)\n",
    "fpr_dict[str(sig_lambda)] = fpr\n",
    "tpr_dict[str(sig_lambda)] = tpr\n",
    "auc_dict[str(sig_lambda)] = auc_roc\n",
    "plot_roc_curve(fpr_dict, tpr_dict, auc_dict, \"ROC Curve\")"
   ]
  },
  {
   "cell_type": "markdown",
   "metadata": {},
   "source": [
    "# Test statistics"
   ]
  },
  {
   "cell_type": "code",
   "execution_count": 34,
   "metadata": {},
   "outputs": [],
   "source": [
    "from analysis import Bootstrap_Permutation"
   ]
  },
  {
   "cell_type": "code",
   "execution_count": 38,
   "metadata": {},
   "outputs": [],
   "source": [
    "importlib.reload(analysis)\n",
    "from analysis import Bootstrap_Permutation"
   ]
  },
  {
   "cell_type": "code",
   "execution_count": 39,
   "metadata": {},
   "outputs": [],
   "source": [
    "bootstrap_permutation = Bootstrap_Permutation(X2, W2, naive_model, pi, normalizer)"
   ]
  },
  {
   "cell_type": "code",
   "execution_count": 40,
   "metadata": {},
   "outputs": [
    {
     "name": "stderr",
     "output_type": "stream",
     "text": [
      "100%|██████████| 10000/10000 [21:44<00:00,  7.66it/s]\n"
     ]
    }
   ],
   "source": [
    "lrt_null_bootstarp, auc_null_bootstarp, mce_null_bootstarp = bootstrap_permutation.bootstrap(10000)"
   ]
  },
  {
   "cell_type": "code",
   "execution_count": 41,
   "metadata": {},
   "outputs": [
    {
     "name": "stderr",
     "output_type": "stream",
     "text": [
      "100%|██████████| 10000/10000 [22:54<00:00,  7.27it/s]\n"
     ]
    }
   ],
   "source": [
    "lrt_null_permutation, auc_null_permutation, mce_null_permutation = bootstrap_permutation.permutation(10000)"
   ]
  },
  {
   "cell_type": "code",
   "execution_count": 42,
   "metadata": {},
   "outputs": [
    {
     "data": {
      "image/png": "[encoded data removed]",
      "text/plain": [
       "<Figure size 640x480 with 1 Axes>"
      ]
     },
     "metadata": {},
     "output_type": "display_data"
    }
   ],
   "source": [
    "plt.hist(mce_null_bootstarp, bins=50, alpha=0.5, label=\"bootstrap p value = {}\".format(bootstrap_permutation.mce_p_bootstrap))\n",
    "plt.hist(mce_null_permutation, bins=50, alpha=0.5, label=\"permutation p value = {}\".format(bootstrap_permutation.mce_p_permutation))\n",
    "plt.axvline(bootstrap_permutation.mce_exp, color='r', label=\"exp\")\n",
    "plt.legend()\n",
    "plt.title(\"MCE Null Distribution lambda = {}\".format(sig_lambda))\n",
    "plt.show()"
   ]
  },
  {
   "cell_type": "code",
   "execution_count": 43,
   "metadata": {},
   "outputs": [
    {
     "data": {
      "image/png": "[encoded data removed]",
      "text/plain": [
       "<Figure size 640x480 with 1 Axes>"
      ]
     },
     "metadata": {},
     "output_type": "display_data"
    }
   ],
   "source": [
    "plt.hist(lrt_null_bootstarp, bins=50, alpha=0.5, label=\"bootstrap p value = {}\".format(bootstrap_permutation.lrt_p_bootstrap))\n",
    "plt.hist(lrt_null_permutation, bins=50, alpha=0.5, label=\"permutation p value = {}\".format(bootstrap_permutation.lrt_p_permutation))\n",
    "plt.axvline(bootstrap_permutation.lrt_exp, color='r', label=\"exp\")\n",
    "plt.legend()\n",
    "plt.title(\"LRT Null Distribution lambda = {}\".format(sig_lambda))\n",
    "plt.show()"
   ]
  },
  {
   "cell_type": "code",
   "execution_count": 44,
   "metadata": {},
   "outputs": [
    {
     "data": {
      "image/png": "[encoded data removed]",
      "text/plain": [
       "<Figure size 640x480 with 1 Axes>"
      ]
     },
     "metadata": {},
     "output_type": "display_data"
    }
   ],
   "source": [
    "plt.hist(auc_null_bootstarp, bins=50, alpha=0.5, label=\"bootstrap p value = {}\".format(bootstrap_permutation.auc_p_bootstrap))\n",
    "plt.hist(auc_null_permutation, bins=50, alpha=0.5, label=\"permutation p value = {}\".format(bootstrap_permutation.auc_p_permutation))\n",
    "plt.axvline(bootstrap_permutation.auc_exp, color='r', label=\"exp\")\n",
    "plt.legend()\n",
    "plt.title(\"AUC Null Distribution lambda = {}\".format(sig_lambda))\n",
    "plt.show()"
   ]
  },
  {
   "cell_type": "markdown",
   "metadata": {},
   "source": [
    "# Estimate signal strength"
   ]
  },
  {
   "cell_type": "code",
   "execution_count": 45,
   "metadata": {},
   "outputs": [],
   "source": [
    "from analysis import LambdaEstimator"
   ]
  },
  {
   "cell_type": "code",
   "execution_count": 47,
   "metadata": {},
   "outputs": [
    {
     "name": "stdout",
     "output_type": "stream",
     "text": [
      "estimated lambda: 0.20146470598405852\n",
      "beta 0 = -0.20903140294248504, beta 1 = -0.01594470896572489\n",
      "last bin height: 0.7985352940159415\n"
     ]
    },
    {
     "data": {
      "image/png": "[encoded data removed]",
      "text/plain": [
       "<Figure size 640x480 with 1 Axes>"
      ]
     },
     "metadata": {},
     "output_type": "display_data"
    }
   ],
   "source": [
    "lambda_estimator = LambdaEstimator(X2, W2, naive_model, T=0.5, n_bins=20, normalizer=normalizer)\n",
    "print(\"estimated lambda:\", lambda_estimator.estimated_lambda)\n",
    "print(\"beta 0 = {}, beta 1 = {}\".format(lambda_estimator.beta0, lambda_estimator.beta1))\n",
    "print(\"last bin height:\", lambda_estimator.estimated_H_t[-1])\n",
    "plt.hist(lambda_estimator.rho_W, bins=lambda_estimator.bins, alpha=0.5, edgecolor='black', density=True)\n",
    "start_idx = lambda_estimator.fit_start_idx\n",
    "plt.plot(lambda_estimator.bins[start_idx:], lambda_estimator.estimated_H_t, label=\"Estimated\")\n",
    "plt.plot(lambda_estimator.bins[1:], lambda_estimator.H_t, '*',label=\"True\")\n",
    "plt.legend()\n",
    "plt.title(\"Estimated λ = {:.2f}, true λ = {}\".format(lambda_estimator.estimated_lambda, sig_lambda))\n",
    "plt.show()"
   ]
  },
  {
   "cell_type": "markdown",
   "metadata": {},
   "source": [
    "# Bootstrapped Uncertainty Intervals for λ"
   ]
  },
  {
   "cell_type": "code",
   "execution_count": 48,
   "metadata": {},
   "outputs": [],
   "source": [
    "lambda_mean_dict = {}\n",
    "lambda_std_dict = {}"
   ]
  },
  {
   "cell_type": "code",
   "execution_count": 54,
   "metadata": {},
   "outputs": [
    {
     "name": "stdout",
     "output_type": "stream",
     "text": [
      "\n",
      "================================================================================2024-05-15 13:38:16\n",
      "Epoch 1 / 50\n",
      "\n",
      "100%|██████████| 4000/4000 [00:10<00:00, 396.90it/s, train_Accuracy=0.756, train_loss=0.513]\n",
      "100%|██████████| 125/125 [00:00<00:00, 681.81it/s, val_Accuracy=0.754, val_loss=0.507]\n",
      "<<<<<< reach best val_Accuracy : 0.7540000081062317 >>>>>>\n",
      "\n",
      "================================================================================2024-05-15 13:38:26\n",
      "Epoch 2 / 50\n",
      "\n",
      "100%|██████████| 4000/4000 [00:09<00:00, 402.50it/s, train_Accuracy=0.757, train_loss=0.507]\n",
      "100%|██████████| 125/125 [00:00<00:00, 604.88it/s, val_Accuracy=0.751, val_loss=0.51] \n",
      "\n",
      "================================================================================2024-05-15 13:38:37\n",
      "Epoch 3 / 50\n",
      "\n",
      "100%|██████████| 4000/4000 [00:09<00:00, 420.77it/s, train_Accuracy=0.757, train_loss=0.507]\n",
      "100%|██████████| 125/125 [00:00<00:00, 602.95it/s, val_Accuracy=0.756, val_loss=0.506]\n",
      "<<<<<< reach best val_Accuracy : 0.7557500600814819 >>>>>>\n",
      "\n",
      "================================================================================2024-05-15 13:38:46\n",
      "Epoch 4 / 50\n",
      "\n",
      "100%|██████████| 4000/4000 [00:09<00:00, 401.05it/s, train_Accuracy=0.758, train_loss=0.506]\n",
      "100%|██████████| 125/125 [00:00<00:00, 561.06it/s, val_Accuracy=0.755, val_loss=0.506]\n",
      "\n",
      "================================================================================2024-05-15 13:38:57\n",
      "Epoch 5 / 50\n",
      "\n",
      "100%|██████████| 4000/4000 [00:10<00:00, 397.99it/s, train_Accuracy=0.757, train_loss=0.506]\n",
      "100%|██████████| 125/125 [00:00<00:00, 572.19it/s, val_Accuracy=0.756, val_loss=0.506]\n",
      "<<<<<< reach best val_Accuracy : 0.7558437585830688 >>>>>>\n",
      "\n",
      "================================================================================2024-05-15 13:39:07\n",
      "Epoch 6 / 50\n",
      "\n",
      "100%|██████████| 4000/4000 [00:09<00:00, 417.23it/s, train_Accuracy=0.758, train_loss=0.506]\n",
      "100%|██████████| 125/125 [00:00<00:00, 548.74it/s, val_Accuracy=0.756, val_loss=0.506]\n",
      "\n",
      "================================================================================2024-05-15 13:39:17\n",
      "Epoch 7 / 50\n",
      "\n",
      "100%|██████████| 4000/4000 [00:10<00:00, 399.28it/s, train_Accuracy=0.758, train_loss=0.506]\n",
      "100%|██████████| 125/125 [00:00<00:00, 564.10it/s, val_Accuracy=0.757, val_loss=0.507]\n",
      "<<<<<< reach best val_Accuracy : 0.7565000653266907 >>>>>>\n",
      "\n",
      "================================================================================2024-05-15 13:39:27\n",
      "Epoch 8 / 50\n",
      "\n",
      "100%|██████████| 4000/4000 [00:10<00:00, 399.21it/s, train_Accuracy=0.758, train_loss=0.506]\n",
      "100%|██████████| 125/125 [00:00<00:00, 625.08it/s, val_Accuracy=0.756, val_loss=0.506]\n",
      "\n",
      "================================================================================2024-05-15 13:39:37\n",
      "Epoch 9 / 50\n",
      "\n",
      "100%|██████████| 4000/4000 [00:09<00:00, 403.34it/s, train_Accuracy=0.758, train_loss=0.505]\n",
      "100%|██████████| 125/125 [00:00<00:00, 577.57it/s, val_Accuracy=0.756, val_loss=0.506]\n",
      "\n",
      "================================================================================2024-05-15 13:39:47\n",
      "Epoch 10 / 50\n",
      "\n",
      "100%|██████████| 4000/4000 [00:09<00:00, 409.51it/s, train_Accuracy=0.759, train_loss=0.506]\n",
      "100%|██████████| 125/125 [00:00<00:00, 589.71it/s, val_Accuracy=0.756, val_loss=0.505]\n",
      "\n",
      "================================================================================2024-05-15 13:39:57\n",
      "Epoch 11 / 50\n",
      "\n",
      "100%|██████████| 4000/4000 [00:09<00:00, 402.34it/s, train_Accuracy=0.759, train_loss=0.505]\n",
      "100%|██████████| 125/125 [00:00<00:00, 627.26it/s, val_Accuracy=0.756, val_loss=0.505]\n",
      "\n",
      "================================================================================2024-05-15 13:40:07\n",
      "Epoch 12 / 50\n",
      "\n",
      "100%|██████████| 4000/4000 [00:10<00:00, 399.32it/s, train_Accuracy=0.759, train_loss=0.505]\n",
      "100%|██████████| 125/125 [00:00<00:00, 568.10it/s, val_Accuracy=0.755, val_loss=0.506]\n",
      "<<<<<< val_Accuracy without improvement in 5 epoch, early stopping >>>>>>\n",
      "\n",
      "================================================================================2024-05-15 13:40:18\n",
      "Epoch 1 / 50\n",
      "\n",
      "100%|██████████| 4000/4000 [00:10<00:00, 396.06it/s, train_Accuracy=0.749, train_loss=0.52] \n",
      "100%|██████████| 125/125 [00:00<00:00, 564.99it/s, val_Accuracy=0.757, val_loss=0.508]\n",
      "<<<<<< reach best val_Accuracy : 0.7573750615119934 >>>>>>\n",
      "\n",
      "================================================================================2024-05-15 13:40:28\n",
      "Epoch 2 / 50\n",
      "\n",
      "100%|██████████| 4000/4000 [00:09<00:00, 405.70it/s, train_Accuracy=0.758, train_loss=0.507]\n",
      "100%|██████████| 125/125 [00:00<00:00, 653.97it/s, val_Accuracy=0.758, val_loss=0.508]\n",
      "<<<<<< reach best val_Accuracy : 0.7583438158035278 >>>>>>\n",
      "\n",
      "================================================================================2024-05-15 13:40:39\n",
      "Epoch 3 / 50\n",
      "\n",
      "100%|██████████| 4000/4000 [00:10<00:00, 392.06it/s, train_Accuracy=0.758, train_loss=0.506]\n",
      "100%|██████████| 125/125 [00:00<00:00, 609.03it/s, val_Accuracy=0.758, val_loss=0.509]\n",
      "\n",
      "================================================================================2024-05-15 13:40:49\n",
      "Epoch 4 / 50\n",
      "\n",
      "100%|██████████| 4000/4000 [00:10<00:00, 397.69it/s, train_Accuracy=0.758, train_loss=0.506]\n",
      "100%|██████████| 125/125 [00:00<00:00, 563.42it/s, val_Accuracy=0.759, val_loss=0.505]\n",
      "<<<<<< reach best val_Accuracy : 0.7591875195503235 >>>>>>\n",
      "\n",
      "================================================================================2024-05-15 13:40:59\n",
      "Epoch 5 / 50\n",
      "\n",
      "100%|██████████| 4000/4000 [00:09<00:00, 406.27it/s, train_Accuracy=0.758, train_loss=0.505]\n",
      "100%|██████████| 125/125 [00:00<00:00, 619.57it/s, val_Accuracy=0.757, val_loss=0.507]\n",
      "\n",
      "================================================================================2024-05-15 13:41:09\n",
      "Epoch 6 / 50\n",
      "\n",
      "100%|██████████| 4000/4000 [00:09<00:00, 402.77it/s, train_Accuracy=0.758, train_loss=0.505]\n",
      "100%|██████████| 125/125 [00:00<00:00, 557.30it/s, val_Accuracy=0.755, val_loss=0.511]\n",
      "\n",
      "================================================================================2024-05-15 13:41:19\n",
      "Epoch 7 / 50\n",
      "\n",
      "100%|██████████| 4000/4000 [00:10<00:00, 397.84it/s, train_Accuracy=0.758, train_loss=0.505]\n",
      "100%|██████████| 125/125 [00:00<00:00, 592.68it/s, val_Accuracy=0.758, val_loss=0.505]\n",
      "\n",
      "================================================================================2024-05-15 13:41:30\n",
      "Epoch 8 / 50\n",
      "\n",
      "100%|██████████| 4000/4000 [00:09<00:00, 401.26it/s, train_Accuracy=0.759, train_loss=0.504]\n",
      "100%|██████████| 125/125 [00:00<00:00, 685.87it/s, val_Accuracy=0.759, val_loss=0.505]\n",
      "<<<<<< reach best val_Accuracy : 0.7593750357627869 >>>>>>\n",
      "\n",
      "================================================================================2024-05-15 13:41:40\n",
      "Epoch 9 / 50\n",
      "\n",
      "100%|██████████| 4000/4000 [00:09<00:00, 401.67it/s, train_Accuracy=0.759, train_loss=0.504]\n",
      "100%|██████████| 125/125 [00:00<00:00, 564.38it/s, val_Accuracy=0.76, val_loss=0.504] \n",
      "<<<<<< reach best val_Accuracy : 0.7600000500679016 >>>>>>\n",
      "\n",
      "================================================================================2024-05-15 13:41:50\n",
      "Epoch 10 / 50\n",
      "\n",
      "100%|██████████| 4000/4000 [00:10<00:00, 389.63it/s, train_Accuracy=0.759, train_loss=0.504]\n",
      "100%|██████████| 125/125 [00:00<00:00, 568.63it/s, val_Accuracy=0.76, val_loss=0.505] \n",
      "<<<<<< reach best val_Accuracy : 0.7601250410079956 >>>>>>\n",
      "\n",
      "================================================================================2024-05-15 13:42:00\n",
      "Epoch 11 / 50\n",
      "\n",
      "100%|██████████| 4000/4000 [00:09<00:00, 405.45it/s, train_Accuracy=0.758, train_loss=0.504]\n",
      "100%|██████████| 125/125 [00:00<00:00, 569.00it/s, val_Accuracy=0.759, val_loss=0.504]\n",
      "\n",
      "================================================================================2024-05-15 13:42:11\n",
      "Epoch 12 / 50\n",
      "\n",
      "100%|██████████| 4000/4000 [00:10<00:00, 394.60it/s, train_Accuracy=0.758, train_loss=0.504]\n",
      "100%|██████████| 125/125 [00:00<00:00, 562.46it/s, val_Accuracy=0.76, val_loss=0.504] \n",
      "\n",
      "================================================================================2024-05-15 13:42:21\n",
      "Epoch 13 / 50\n",
      "\n",
      "100%|██████████| 4000/4000 [00:09<00:00, 400.80it/s, train_Accuracy=0.759, train_loss=0.504]\n",
      "100%|██████████| 125/125 [00:00<00:00, 571.27it/s, val_Accuracy=0.759, val_loss=0.504]\n",
      "\n",
      "================================================================================2024-05-15 13:42:31\n",
      "Epoch 14 / 50\n",
      "\n",
      "100%|██████████| 4000/4000 [00:10<00:00, 396.74it/s, train_Accuracy=0.759, train_loss=0.504]\n",
      "100%|██████████| 125/125 [00:00<00:00, 628.18it/s, val_Accuracy=0.759, val_loss=0.505]\n",
      "\n",
      "================================================================================2024-05-15 13:42:41\n",
      "Epoch 15 / 50\n",
      "\n",
      "100%|██████████| 4000/4000 [00:09<00:00, 407.88it/s, train_Accuracy=0.759, train_loss=0.504]\n",
      "100%|██████████| 125/125 [00:00<00:00, 620.76it/s, val_Accuracy=0.759, val_loss=0.505]\n",
      "<<<<<< val_Accuracy without improvement in 5 epoch, early stopping >>>>>>\n",
      "\n",
      "================================================================================2024-05-15 13:42:52\n",
      "Epoch 1 / 50\n",
      "\n",
      "100%|██████████| 4000/4000 [00:09<00:00, 413.80it/s, train_Accuracy=0.754, train_loss=0.515]\n",
      "100%|██████████| 125/125 [00:00<00:00, 126.57it/s, val_Accuracy=0.756, val_loss=0.507]\n",
      "<<<<<< reach best val_Accuracy : 0.7563437819480896 >>>>>>\n",
      "\n",
      "================================================================================2024-05-15 13:43:03\n",
      "Epoch 2 / 50\n",
      "\n",
      "100%|██████████| 4000/4000 [00:09<00:00, 403.69it/s, train_Accuracy=0.757, train_loss=0.508]\n",
      "100%|██████████| 125/125 [00:00<00:00, 562.19it/s, val_Accuracy=0.757, val_loss=0.506]\n",
      "<<<<<< reach best val_Accuracy : 0.757312536239624 >>>>>>\n",
      "\n",
      "================================================================================2024-05-15 13:43:13\n",
      "Epoch 3 / 50\n",
      "\n",
      "100%|██████████| 4000/4000 [00:09<00:00, 407.96it/s, train_Accuracy=0.757, train_loss=0.506]\n",
      "100%|██████████| 125/125 [00:00<00:00, 673.72it/s, val_Accuracy=0.758, val_loss=0.504]\n",
      "<<<<<< reach best val_Accuracy : 0.7582812905311584 >>>>>>\n",
      "\n",
      "================================================================================2024-05-15 13:43:23\n",
      "Epoch 4 / 50\n",
      "\n",
      "100%|██████████| 4000/4000 [00:09<00:00, 423.36it/s, train_Accuracy=0.758, train_loss=0.505]\n",
      "100%|██████████| 125/125 [00:00<00:00, 561.44it/s, val_Accuracy=0.758, val_loss=0.505]\n",
      "<<<<<< reach best val_Accuracy : 0.7583750486373901 >>>>>>\n",
      "\n",
      "================================================================================2024-05-15 13:43:32\n",
      "Epoch 5 / 50\n",
      "\n",
      "100%|██████████| 4000/4000 [00:10<00:00, 387.60it/s, train_Accuracy=0.759, train_loss=0.505]\n",
      "100%|██████████| 125/125 [00:00<00:00, 635.47it/s, val_Accuracy=0.759, val_loss=0.504]\n",
      "<<<<<< reach best val_Accuracy : 0.7589063048362732 >>>>>>\n",
      "\n",
      "================================================================================2024-05-15 13:43:43\n",
      "Epoch 6 / 50\n",
      "\n",
      "100%|██████████| 4000/4000 [00:09<00:00, 410.21it/s, train_Accuracy=0.758, train_loss=0.505]\n",
      "100%|██████████| 125/125 [00:00<00:00, 591.93it/s, val_Accuracy=0.758, val_loss=0.504]\n",
      "\n",
      "================================================================================2024-05-15 13:43:53\n",
      "Epoch 7 / 50\n",
      "\n",
      "100%|██████████| 4000/4000 [00:10<00:00, 396.17it/s, train_Accuracy=0.758, train_loss=0.505]\n",
      "100%|██████████| 125/125 [00:00<00:00, 594.96it/s, val_Accuracy=0.756, val_loss=0.509]\n",
      "\n",
      "================================================================================2024-05-15 13:44:03\n",
      "Epoch 8 / 50\n",
      "\n",
      "100%|██████████| 4000/4000 [00:09<00:00, 403.17it/s, train_Accuracy=0.758, train_loss=0.505]\n",
      "100%|██████████| 125/125 [00:00<00:00, 565.34it/s, val_Accuracy=0.758, val_loss=0.504]\n",
      "\n",
      "================================================================================2024-05-15 13:44:13\n",
      "Epoch 9 / 50\n",
      "\n",
      "100%|██████████| 4000/4000 [00:10<00:00, 397.01it/s, train_Accuracy=0.758, train_loss=0.505]\n",
      "100%|██████████| 125/125 [00:00<00:00, 567.05it/s, val_Accuracy=0.758, val_loss=0.504]\n",
      "\n",
      "================================================================================2024-05-15 13:44:24\n",
      "Epoch 10 / 50\n",
      "\n",
      "100%|██████████| 4000/4000 [00:09<00:00, 411.28it/s, train_Accuracy=0.758, train_loss=0.505]\n",
      "100%|██████████| 125/125 [00:00<00:00, 630.56it/s, val_Accuracy=0.759, val_loss=0.504]\n",
      "<<<<<< val_Accuracy without improvement in 5 epoch, early stopping >>>>>>\n",
      "\n",
      "================================================================================2024-05-15 13:44:34\n",
      "Epoch 1 / 50\n",
      "\n",
      "100%|██████████| 4000/4000 [00:09<00:00, 408.59it/s, train_Accuracy=0.755, train_loss=0.512]\n",
      "100%|██████████| 125/125 [00:00<00:00, 637.73it/s, val_Accuracy=0.756, val_loss=0.509]\n",
      "<<<<<< reach best val_Accuracy : 0.7563125491142273 >>>>>>\n",
      "\n",
      "================================================================================2024-05-15 13:44:44\n",
      "Epoch 2 / 50\n",
      "\n",
      "100%|██████████| 4000/4000 [00:09<00:00, 413.39it/s, train_Accuracy=0.758, train_loss=0.506]\n",
      "100%|██████████| 125/125 [00:00<00:00, 642.69it/s, val_Accuracy=0.754, val_loss=0.512]\n",
      "\n",
      "================================================================================2024-05-15 13:44:54\n",
      "Epoch 3 / 50\n",
      "\n",
      "100%|██████████| 4000/4000 [00:09<00:00, 424.78it/s, train_Accuracy=0.759, train_loss=0.506]\n",
      "100%|██████████| 125/125 [00:00<00:00, 567.27it/s, val_Accuracy=0.755, val_loss=0.51] \n",
      "\n",
      "================================================================================2024-05-15 13:45:04\n",
      "Epoch 4 / 50\n",
      "\n",
      "100%|██████████| 4000/4000 [00:09<00:00, 412.29it/s, train_Accuracy=0.759, train_loss=0.505]\n",
      "100%|██████████| 125/125 [00:00<00:00, 577.08it/s, val_Accuracy=0.756, val_loss=0.511]\n",
      "\n",
      "================================================================================2024-05-15 13:45:14\n",
      "Epoch 5 / 50\n",
      "\n",
      "100%|██████████| 4000/4000 [00:09<00:00, 411.19it/s, train_Accuracy=0.759, train_loss=0.505]\n",
      "100%|██████████| 125/125 [00:00<00:00, 638.25it/s, val_Accuracy=0.755, val_loss=0.508]\n",
      "\n",
      "================================================================================2024-05-15 13:45:23\n",
      "Epoch 6 / 50\n",
      "\n",
      "100%|██████████| 4000/4000 [00:09<00:00, 403.85it/s, train_Accuracy=0.759, train_loss=0.505]\n",
      "100%|██████████| 125/125 [00:00<00:00, 593.35it/s, val_Accuracy=0.752, val_loss=0.513]\n",
      "<<<<<< val_Accuracy without improvement in 5 epoch, early stopping >>>>>>\n",
      "\n",
      "================================================================================2024-05-15 13:45:34\n",
      "Epoch 1 / 50\n",
      "\n",
      "100%|██████████| 4000/4000 [00:09<00:00, 417.64it/s, train_Accuracy=0.75, train_loss=0.523] \n",
      "100%|██████████| 125/125 [00:00<00:00, 674.93it/s, val_Accuracy=0.756, val_loss=0.509]\n",
      "<<<<<< reach best val_Accuracy : 0.7556875348091125 >>>>>>\n",
      "\n",
      "================================================================================2024-05-15 13:45:44\n",
      "Epoch 2 / 50\n",
      "\n",
      "100%|██████████| 4000/4000 [00:09<00:00, 405.55it/s, train_Accuracy=0.758, train_loss=0.507]\n",
      "100%|██████████| 125/125 [00:00<00:00, 604.94it/s, val_Accuracy=0.757, val_loss=0.505]\n",
      "<<<<<< reach best val_Accuracy : 0.75718754529953 >>>>>>\n",
      "\n",
      "================================================================================2024-05-15 13:45:54\n",
      "Epoch 3 / 50\n",
      "\n",
      "100%|██████████| 4000/4000 [00:09<00:00, 421.05it/s, train_Accuracy=0.759, train_loss=0.505]\n",
      "100%|██████████| 125/125 [00:00<00:00, 591.71it/s, val_Accuracy=0.757, val_loss=0.506]\n",
      "\n",
      "================================================================================2024-05-15 13:46:04\n",
      "Epoch 4 / 50\n",
      "\n",
      "100%|██████████| 4000/4000 [00:09<00:00, 412.23it/s, train_Accuracy=0.759, train_loss=0.505]\n",
      "100%|██████████| 125/125 [00:00<00:00, 604.33it/s, val_Accuracy=0.756, val_loss=0.508]\n",
      "\n",
      "================================================================================2024-05-15 13:46:14\n",
      "Epoch 5 / 50\n",
      "\n",
      "100%|██████████| 4000/4000 [00:09<00:00, 412.10it/s, train_Accuracy=0.759, train_loss=0.505]\n",
      "100%|██████████| 125/125 [00:00<00:00, 684.52it/s, val_Accuracy=0.758, val_loss=0.505]\n",
      "<<<<<< reach best val_Accuracy : 0.7578750252723694 >>>>>>\n",
      "\n",
      "================================================================================2024-05-15 13:46:23\n",
      "Epoch 6 / 50\n",
      "\n",
      "100%|██████████| 4000/4000 [00:09<00:00, 414.92it/s, train_Accuracy=0.759, train_loss=0.505]\n",
      "100%|██████████| 125/125 [00:00<00:00, 571.81it/s, val_Accuracy=0.757, val_loss=0.506]\n",
      "\n",
      "================================================================================2024-05-15 13:46:33\n",
      "Epoch 7 / 50\n",
      "\n",
      "100%|██████████| 4000/4000 [00:09<00:00, 405.48it/s, train_Accuracy=0.759, train_loss=0.505]\n",
      "100%|██████████| 125/125 [00:00<00:00, 556.14it/s, val_Accuracy=0.757, val_loss=0.504]\n",
      "\n",
      "================================================================================2024-05-15 13:46:43\n",
      "Epoch 8 / 50\n",
      "\n",
      "100%|██████████| 4000/4000 [00:09<00:00, 412.58it/s, train_Accuracy=0.759, train_loss=0.505]\n",
      "100%|██████████| 125/125 [00:00<00:00, 565.96it/s, val_Accuracy=0.758, val_loss=0.504]\n",
      "<<<<<< reach best val_Accuracy : 0.7581250071525574 >>>>>>\n",
      "\n",
      "================================================================================2024-05-15 13:46:53\n",
      "Epoch 9 / 50\n",
      "\n",
      "100%|██████████| 4000/4000 [00:09<00:00, 409.28it/s, train_Accuracy=0.759, train_loss=0.504]\n",
      "100%|██████████| 125/125 [00:00<00:00, 600.76it/s, val_Accuracy=0.758, val_loss=0.503]\n",
      "\n",
      "================================================================================2024-05-15 13:47:03\n",
      "Epoch 10 / 50\n",
      "\n",
      "100%|██████████| 4000/4000 [00:10<00:00, 397.80it/s, train_Accuracy=0.759, train_loss=0.504]\n",
      "100%|██████████| 125/125 [00:00<00:00, 655.11it/s, val_Accuracy=0.757, val_loss=0.504]\n",
      "\n",
      "================================================================================2024-05-15 13:47:14\n",
      "Epoch 11 / 50\n",
      "\n",
      "100%|██████████| 4000/4000 [00:09<00:00, 403.65it/s, train_Accuracy=0.759, train_loss=0.504]\n",
      "100%|██████████| 125/125 [00:00<00:00, 617.17it/s, val_Accuracy=0.758, val_loss=0.504]\n",
      "\n",
      "================================================================================2024-05-15 13:47:24\n",
      "Epoch 12 / 50\n",
      "\n",
      "100%|██████████| 4000/4000 [00:10<00:00, 391.84it/s, train_Accuracy=0.759, train_loss=0.504]\n",
      "100%|██████████| 125/125 [00:00<00:00, 559.61it/s, val_Accuracy=0.756, val_loss=0.507]\n",
      "\n",
      "================================================================================2024-05-15 13:47:34\n",
      "Epoch 13 / 50\n",
      "\n",
      "100%|██████████| 4000/4000 [00:09<00:00, 410.61it/s, train_Accuracy=0.759, train_loss=0.504]\n",
      "100%|██████████| 125/125 [00:00<00:00, 596.67it/s, val_Accuracy=0.757, val_loss=0.505]\n",
      "<<<<<< val_Accuracy without improvement in 5 epoch, early stopping >>>>>>\n",
      "\n",
      "================================================================================2024-05-15 13:47:45\n",
      "Epoch 1 / 50\n",
      "\n",
      "100%|██████████| 4000/4000 [00:09<00:00, 414.03it/s, train_Accuracy=0.753, train_loss=0.515]\n",
      "100%|██████████| 125/125 [00:00<00:00, 642.56it/s, val_Accuracy=0.761, val_loss=0.503]\n",
      "<<<<<< reach best val_Accuracy : 0.7611562609672546 >>>>>>\n",
      "\n",
      "================================================================================2024-05-15 13:47:54\n",
      "Epoch 2 / 50\n",
      "\n",
      "100%|██████████| 4000/4000 [00:09<00:00, 408.57it/s, train_Accuracy=0.756, train_loss=0.509]\n",
      "100%|██████████| 125/125 [00:00<00:00, 563.71it/s, val_Accuracy=0.761, val_loss=0.504]\n",
      "\n",
      "================================================================================2024-05-15 13:48:04\n",
      "Epoch 3 / 50\n",
      "\n",
      "100%|██████████| 4000/4000 [00:09<00:00, 408.55it/s, train_Accuracy=0.757, train_loss=0.508]\n",
      "100%|██████████| 125/125 [00:00<00:00, 588.20it/s, val_Accuracy=0.76, val_loss=0.503] \n",
      "\n",
      "================================================================================2024-05-15 13:48:14\n",
      "Epoch 4 / 50\n",
      "\n",
      "100%|██████████| 4000/4000 [00:10<00:00, 399.74it/s, train_Accuracy=0.757, train_loss=0.507]\n",
      "100%|██████████| 125/125 [00:00<00:00, 569.09it/s, val_Accuracy=0.76, val_loss=0.505] \n",
      "\n",
      "================================================================================2024-05-15 13:48:25\n",
      "Epoch 5 / 50\n",
      "\n",
      "100%|██████████| 4000/4000 [00:09<00:00, 401.18it/s, train_Accuracy=0.756, train_loss=0.507]\n",
      "100%|██████████| 125/125 [00:00<00:00, 564.25it/s, val_Accuracy=0.76, val_loss=0.502] \n",
      "\n",
      "================================================================================2024-05-15 13:48:35\n",
      "Epoch 6 / 50\n",
      "\n",
      "100%|██████████| 4000/4000 [00:09<00:00, 401.25it/s, train_Accuracy=0.757, train_loss=0.507]\n",
      "100%|██████████| 125/125 [00:00<00:00, 558.26it/s, val_Accuracy=0.755, val_loss=0.508]\n",
      "<<<<<< val_Accuracy without improvement in 5 epoch, early stopping >>>>>>\n",
      "\n",
      "================================================================================2024-05-15 13:48:46\n",
      "Epoch 1 / 50\n",
      "\n",
      "100%|██████████| 4000/4000 [00:10<00:00, 388.48it/s, train_Accuracy=0.751, train_loss=0.516]\n",
      "100%|██████████| 125/125 [00:00<00:00, 627.08it/s, val_Accuracy=0.752, val_loss=0.51]\n",
      "<<<<<< reach best val_Accuracy : 0.7524687647819519 >>>>>>\n",
      "\n",
      "================================================================================2024-05-15 13:48:56\n",
      "Epoch 2 / 50\n",
      "\n",
      "100%|██████████| 4000/4000 [00:10<00:00, 397.98it/s, train_Accuracy=0.757, train_loss=0.506]\n",
      "100%|██████████| 125/125 [00:00<00:00, 605.17it/s, val_Accuracy=0.755, val_loss=0.508]\n",
      "<<<<<< reach best val_Accuracy : 0.7546875476837158 >>>>>>\n",
      "\n",
      "================================================================================2024-05-15 13:49:06\n",
      "Epoch 3 / 50\n",
      "\n",
      "100%|██████████| 4000/4000 [00:09<00:00, 403.98it/s, train_Accuracy=0.758, train_loss=0.506]\n",
      "100%|██████████| 125/125 [00:00<00:00, 558.89it/s, val_Accuracy=0.754, val_loss=0.507]\n",
      "\n",
      "================================================================================2024-05-15 13:49:17\n",
      "Epoch 4 / 50\n",
      "\n",
      "100%|██████████| 4000/4000 [00:09<00:00, 402.79it/s, train_Accuracy=0.758, train_loss=0.505]\n",
      "100%|██████████| 125/125 [00:00<00:00, 615.60it/s, val_Accuracy=0.754, val_loss=0.508]\n",
      "\n",
      "================================================================================2024-05-15 13:49:27\n",
      "Epoch 5 / 50\n",
      "\n",
      "100%|██████████| 4000/4000 [00:10<00:00, 399.08it/s, train_Accuracy=0.758, train_loss=0.505]\n",
      "100%|██████████| 125/125 [00:00<00:00, 605.44it/s, val_Accuracy=0.755, val_loss=0.508]\n",
      "<<<<<< reach best val_Accuracy : 0.7551250457763672 >>>>>>\n",
      "\n",
      "================================================================================2024-05-15 13:49:37\n",
      "Epoch 6 / 50\n",
      "\n",
      "100%|██████████| 4000/4000 [00:09<00:00, 411.70it/s, train_Accuracy=0.758, train_loss=0.505]\n",
      "100%|██████████| 125/125 [00:00<00:00, 656.31it/s, val_Accuracy=0.754, val_loss=0.508]\n",
      "\n",
      "================================================================================2024-05-15 13:49:47\n",
      "Epoch 7 / 50\n",
      "\n",
      "100%|██████████| 4000/4000 [00:09<00:00, 414.22it/s, train_Accuracy=0.759, train_loss=0.505]\n",
      "100%|██████████| 125/125 [00:00<00:00, 630.30it/s, val_Accuracy=0.753, val_loss=0.509]\n",
      "\n",
      "================================================================================2024-05-15 13:49:57\n",
      "Epoch 8 / 50\n",
      "\n",
      "100%|██████████| 4000/4000 [00:09<00:00, 413.81it/s, train_Accuracy=0.759, train_loss=0.505]\n",
      "100%|██████████| 125/125 [00:00<00:00, 631.27it/s, val_Accuracy=0.754, val_loss=0.507]\n",
      "\n",
      "================================================================================2024-05-15 13:50:07\n",
      "Epoch 9 / 50\n",
      "\n",
      "100%|██████████| 4000/4000 [00:09<00:00, 401.19it/s, train_Accuracy=0.759, train_loss=0.505]\n",
      "100%|██████████| 125/125 [00:00<00:00, 675.88it/s, val_Accuracy=0.755, val_loss=0.508]\n",
      "\n",
      "================================================================================2024-05-15 13:50:17\n",
      "Epoch 10 / 50\n",
      "\n",
      "100%|██████████| 4000/4000 [00:10<00:00, 396.04it/s, train_Accuracy=0.759, train_loss=0.504]\n",
      "100%|██████████| 125/125 [00:00<00:00, 619.19it/s, val_Accuracy=0.752, val_loss=0.511]\n",
      "<<<<<< val_Accuracy without improvement in 5 epoch, early stopping >>>>>>\n",
      "\n",
      "================================================================================2024-05-15 13:50:28\n",
      "Epoch 1 / 50\n",
      "\n",
      "100%|██████████| 4000/4000 [00:09<00:00, 400.25it/s, train_Accuracy=0.748, train_loss=0.519]\n",
      "100%|██████████| 125/125 [00:00<00:00, 653.72it/s, val_Accuracy=0.754, val_loss=0.51]\n",
      "<<<<<< reach best val_Accuracy : 0.7541562914848328 >>>>>>\n",
      "\n",
      "================================================================================2024-05-15 13:50:38\n",
      "Epoch 2 / 50\n",
      "\n",
      "100%|██████████| 4000/4000 [00:09<00:00, 402.06it/s, train_Accuracy=0.76, train_loss=0.505] \n",
      "100%|██████████| 125/125 [00:00<00:00, 550.24it/s, val_Accuracy=0.754, val_loss=0.51] \n",
      "\n",
      "================================================================================2024-05-15 13:50:48\n",
      "Epoch 3 / 50\n",
      "\n",
      "100%|██████████| 4000/4000 [00:09<00:00, 405.84it/s, train_Accuracy=0.759, train_loss=0.505]\n",
      "100%|██████████| 125/125 [00:00<00:00, 705.10it/s, val_Accuracy=0.754, val_loss=0.51]\n",
      "<<<<<< reach best val_Accuracy : 0.7543438076972961 >>>>>>\n",
      "\n",
      "================================================================================2024-05-15 13:50:58\n",
      "Epoch 4 / 50\n",
      "\n",
      "100%|██████████| 4000/4000 [00:09<00:00, 405.71it/s, train_Accuracy=0.759, train_loss=0.504]\n",
      "100%|██████████| 125/125 [00:00<00:00, 638.15it/s, val_Accuracy=0.753, val_loss=0.511]\n",
      "\n",
      "================================================================================2024-05-15 13:51:08\n",
      "Epoch 5 / 50\n",
      "\n",
      "100%|██████████| 4000/4000 [00:09<00:00, 400.45it/s, train_Accuracy=0.76, train_loss=0.504] \n",
      "100%|██████████| 125/125 [00:00<00:00, 651.85it/s, val_Accuracy=0.755, val_loss=0.51]\n",
      "<<<<<< reach best val_Accuracy : 0.7549062967300415 >>>>>>\n",
      "\n",
      "================================================================================2024-05-15 13:51:18\n",
      "Epoch 6 / 50\n",
      "\n",
      "100%|██████████| 4000/4000 [00:10<00:00, 398.77it/s, train_Accuracy=0.76, train_loss=0.504] \n",
      "100%|██████████| 125/125 [00:00<00:00, 589.92it/s, val_Accuracy=0.755, val_loss=0.509]\n",
      "\n",
      "================================================================================2024-05-15 13:51:28\n",
      "Epoch 7 / 50\n",
      "\n",
      "100%|██████████| 4000/4000 [00:09<00:00, 417.56it/s, train_Accuracy=0.76, train_loss=0.504] \n",
      "100%|██████████| 125/125 [00:00<00:00, 604.16it/s, val_Accuracy=0.754, val_loss=0.51] \n",
      "\n",
      "================================================================================2024-05-15 13:51:38\n",
      "Epoch 8 / 50\n",
      "\n",
      "100%|██████████| 4000/4000 [00:09<00:00, 416.47it/s, train_Accuracy=0.76, train_loss=0.503] \n",
      "100%|██████████| 125/125 [00:00<00:00, 596.02it/s, val_Accuracy=0.754, val_loss=0.51] \n",
      "\n",
      "================================================================================2024-05-15 13:51:48\n",
      "Epoch 9 / 50\n",
      "\n",
      "100%|██████████| 4000/4000 [00:09<00:00, 402.63it/s, train_Accuracy=0.76, train_loss=0.503] \n",
      "100%|██████████| 125/125 [00:00<00:00, 557.67it/s, val_Accuracy=0.754, val_loss=0.509]\n",
      "\n",
      "================================================================================2024-05-15 13:51:58\n",
      "Epoch 10 / 50\n",
      "\n",
      "100%|██████████| 4000/4000 [00:10<00:00, 397.91it/s, train_Accuracy=0.76, train_loss=0.503] \n",
      "100%|██████████| 125/125 [00:00<00:00, 672.17it/s, val_Accuracy=0.754, val_loss=0.509]\n",
      "<<<<<< val_Accuracy without improvement in 5 epoch, early stopping >>>>>>\n",
      "\n",
      "================================================================================2024-05-15 13:52:09\n",
      "Epoch 1 / 50\n",
      "\n",
      "100%|██████████| 4000/4000 [00:09<00:00, 407.46it/s, train_Accuracy=0.747, train_loss=0.514]\n",
      "100%|██████████| 125/125 [00:00<00:00, 655.38it/s, val_Accuracy=0.758, val_loss=0.505]\n",
      "<<<<<< reach best val_Accuracy : 0.7581875324249268 >>>>>>\n",
      "\n",
      "================================================================================2024-05-15 13:52:19\n",
      "Epoch 2 / 50\n",
      "\n",
      "100%|██████████| 4000/4000 [00:09<00:00, 400.55it/s, train_Accuracy=0.758, train_loss=0.507]\n",
      "100%|██████████| 125/125 [00:00<00:00, 554.14it/s, val_Accuracy=0.757, val_loss=0.508]\n",
      "\n",
      "================================================================================2024-05-15 13:52:29\n",
      "Epoch 3 / 50\n",
      "\n",
      "100%|██████████| 4000/4000 [00:09<00:00, 400.83it/s, train_Accuracy=0.758, train_loss=0.506]\n",
      "100%|██████████| 125/125 [00:00<00:00, 575.31it/s, val_Accuracy=0.758, val_loss=0.505]\n",
      "\n",
      "================================================================================2024-05-15 13:52:39\n",
      "Epoch 4 / 50\n",
      "\n",
      "100%|██████████| 4000/4000 [00:09<00:00, 400.26it/s, train_Accuracy=0.758, train_loss=0.506]\n",
      "100%|██████████| 125/125 [00:00<00:00, 632.90it/s, val_Accuracy=0.759, val_loss=0.503]\n",
      "<<<<<< reach best val_Accuracy : 0.7590000629425049 >>>>>>\n",
      "\n",
      "================================================================================2024-05-15 13:52:50\n",
      "Epoch 5 / 50\n",
      "\n",
      "100%|██████████| 4000/4000 [00:10<00:00, 396.45it/s, train_Accuracy=0.758, train_loss=0.506]\n",
      "100%|██████████| 125/125 [00:00<00:00, 618.94it/s, val_Accuracy=0.759, val_loss=0.503]\n",
      "\n",
      "================================================================================2024-05-15 13:53:00\n",
      "Epoch 6 / 50\n",
      "\n",
      "100%|██████████| 4000/4000 [00:10<00:00, 399.97it/s, train_Accuracy=0.758, train_loss=0.505]\n",
      "100%|██████████| 125/125 [00:00<00:00, 581.40it/s, val_Accuracy=0.758, val_loss=0.504]\n",
      "\n",
      "================================================================================2024-05-15 13:53:10\n",
      "Epoch 7 / 50\n",
      "\n",
      "100%|██████████| 4000/4000 [00:10<00:00, 398.04it/s, train_Accuracy=0.759, train_loss=0.505]\n",
      "100%|██████████| 125/125 [00:00<00:00, 694.85it/s, val_Accuracy=0.759, val_loss=0.502]\n",
      "\n",
      "================================================================================2024-05-15 13:53:20\n",
      "Epoch 8 / 50\n",
      "\n",
      "100%|██████████| 4000/4000 [00:09<00:00, 400.66it/s, train_Accuracy=0.758, train_loss=0.505]\n",
      "100%|██████████| 125/125 [00:00<00:00, 622.10it/s, val_Accuracy=0.759, val_loss=0.503]\n",
      "\n",
      "================================================================================2024-05-15 13:53:30\n",
      "Epoch 9 / 50\n",
      "\n",
      "100%|██████████| 4000/4000 [00:09<00:00, 403.28it/s, train_Accuracy=0.759, train_loss=0.505]\n",
      "100%|██████████| 125/125 [00:00<00:00, 649.55it/s, val_Accuracy=0.759, val_loss=0.503]\n",
      "<<<<<< val_Accuracy without improvement in 5 epoch, early stopping >>>>>>\n",
      "\n",
      "================================================================================2024-05-15 13:53:41\n",
      "Epoch 1 / 50\n",
      "\n",
      "100%|██████████| 4000/4000 [00:09<00:00, 403.17it/s, train_Accuracy=0.752, train_loss=0.513]\n",
      "100%|██████████| 125/125 [00:00<00:00, 569.20it/s, val_Accuracy=0.758, val_loss=0.506]\n",
      "<<<<<< reach best val_Accuracy : 0.7579062581062317 >>>>>>\n",
      "\n",
      "================================================================================2024-05-15 13:53:51\n",
      "Epoch 2 / 50\n",
      "\n",
      "100%|██████████| 4000/4000 [00:10<00:00, 390.51it/s, train_Accuracy=0.756, train_loss=0.506]\n",
      "100%|██████████| 125/125 [00:00<00:00, 590.93it/s, val_Accuracy=0.759, val_loss=0.505]\n",
      "<<<<<< reach best val_Accuracy : 0.7585937976837158 >>>>>>\n",
      "\n",
      "================================================================================2024-05-15 13:54:02\n",
      "Epoch 3 / 50\n",
      "\n",
      "100%|██████████| 4000/4000 [00:09<00:00, 405.77it/s, train_Accuracy=0.757, train_loss=0.506]\n",
      "100%|██████████| 125/125 [00:00<00:00, 596.06it/s, val_Accuracy=0.759, val_loss=0.505]\n",
      "<<<<<< reach best val_Accuracy : 0.7590937614440918 >>>>>>\n",
      "\n",
      "================================================================================2024-05-15 13:54:12\n",
      "Epoch 4 / 50\n",
      "\n",
      "100%|██████████| 4000/4000 [00:09<00:00, 412.77it/s, train_Accuracy=0.757, train_loss=0.506]\n",
      "100%|██████████| 125/125 [00:01<00:00, 123.43it/s, val_Accuracy=0.759, val_loss=0.505]\n",
      "\n",
      "================================================================================2024-05-15 13:54:22\n",
      "Epoch 5 / 50\n",
      "\n",
      "100%|██████████| 4000/4000 [00:09<00:00, 419.53it/s, train_Accuracy=0.757, train_loss=0.505]\n",
      "100%|██████████| 125/125 [00:00<00:00, 583.93it/s, val_Accuracy=0.755, val_loss=0.509]\n",
      "\n",
      "================================================================================2024-05-15 13:54:32\n",
      "Epoch 6 / 50\n",
      "\n",
      "100%|██████████| 4000/4000 [00:09<00:00, 409.37it/s, train_Accuracy=0.757, train_loss=0.505]\n",
      "100%|██████████| 125/125 [00:00<00:00, 581.27it/s, val_Accuracy=0.759, val_loss=0.505]\n",
      "<<<<<< reach best val_Accuracy : 0.7591250538825989 >>>>>>\n",
      "\n",
      "================================================================================2024-05-15 13:54:42\n",
      "Epoch 7 / 50\n",
      "\n",
      "100%|██████████| 4000/4000 [00:09<00:00, 409.48it/s, train_Accuracy=0.757, train_loss=0.505]\n",
      "100%|██████████| 125/125 [00:00<00:00, 599.85it/s, val_Accuracy=0.759, val_loss=0.504]\n",
      "<<<<<< reach best val_Accuracy : 0.7594687938690186 >>>>>>\n",
      "\n",
      "================================================================================2024-05-15 13:54:52\n",
      "Epoch 8 / 50\n",
      "\n",
      "100%|██████████| 4000/4000 [00:09<00:00, 401.27it/s, train_Accuracy=0.757, train_loss=0.505]\n",
      "100%|██████████| 125/125 [00:00<00:00, 590.79it/s, val_Accuracy=0.759, val_loss=0.504]\n",
      "\n",
      "================================================================================2024-05-15 13:55:02\n",
      "Epoch 9 / 50\n",
      "\n",
      "100%|██████████| 4000/4000 [00:09<00:00, 403.46it/s, train_Accuracy=0.757, train_loss=0.505]\n",
      "100%|██████████| 125/125 [00:00<00:00, 671.13it/s, val_Accuracy=0.759, val_loss=0.505]\n",
      "\n",
      "================================================================================2024-05-15 13:55:12\n",
      "Epoch 10 / 50\n",
      "\n",
      "100%|██████████| 4000/4000 [00:10<00:00, 391.86it/s, train_Accuracy=0.757, train_loss=0.505]\n",
      "100%|██████████| 125/125 [00:00<00:00, 562.29it/s, val_Accuracy=0.759, val_loss=0.506]\n",
      "\n",
      "================================================================================2024-05-15 13:55:23\n",
      "Epoch 11 / 50\n",
      "\n",
      "100%|██████████| 4000/4000 [00:09<00:00, 403.86it/s, train_Accuracy=0.758, train_loss=0.505]\n",
      "100%|██████████| 125/125 [00:00<00:00, 669.82it/s, val_Accuracy=0.759, val_loss=0.505]\n",
      "\n",
      "================================================================================2024-05-15 13:55:33\n",
      "Epoch 12 / 50\n",
      "\n",
      "100%|██████████| 4000/4000 [00:10<00:00, 398.77it/s, train_Accuracy=0.757, train_loss=0.505]\n",
      "100%|██████████| 125/125 [00:00<00:00, 612.82it/s, val_Accuracy=0.758, val_loss=0.506]\n",
      "<<<<<< val_Accuracy without improvement in 5 epoch, early stopping >>>>>>\n",
      "sig_lambda: 0.7 estimated lambda mean: 0.683867879035141 estimated lambda std: 0.008804164343403439\n"
     ]
    }
   ],
   "source": [
    "sig_lambda = 0.7\n",
    "n_bootstrap = 10\n",
    "\n",
    "\n",
    "test_ratio=0.2\n",
    "val_ratio = 0.2\n",
    "n = 100000\n",
    "estimated_lambdas = np.zeros(n_bootstrap)\n",
    "\n",
    "for j in range(n_bootstrap):\n",
    "    exp_events, bkg_events = create_exp_bkg_events(bkg_embed_points, charged_Higgs_embed_points, sig_lambda, n)\n",
    "    X1, X2, W1, W2 = train_test_split(exp_events, bkg_events, test_ratio)\n",
    "    n1 = len(W1)\n",
    "    m1 = len(X1)\n",
    "    n2 = len(W2)\n",
    "    m2 = len(X2)\n",
    "    train_dataloader, val_dataloader = get_dataloaders(X1, W1, val_ratio)\n",
    "\n",
    "    hidden_dim = [8, 16, 16, 16, 8]\n",
    "    naive_model = MLP(output_dim, hidden_sizes=hidden_dim)\n",
    "    naive_model.to(device)\n",
    "    optimizer = torch.optim.Adam(naive_model.parameters(), lr=1e-3, weight_decay=1e-5)\n",
    "    loss_fn = nn.BCELoss()\n",
    "    acc_metric = BinaryACCUpdater()\n",
    "    metric_dict = {\"Accuracy\": acc_metric}\n",
    "\n",
    "    opt_train_model(\n",
    "        naive_model, optimizer,\n",
    "        loss_fn, metrics_dict=metric_dict,\n",
    "        train_dataloader=train_dataloader, val_dataloader=val_dataloader,\n",
    "        monitor=\"val_Accuracy\", mode=\"max\",\n",
    "        epochs=50\n",
    "        )\n",
    "\n",
    "    lambda_estimator = LambdaEstimator(X2, W2, naive_model, T=0.5, n_bins=20)\n",
    "    estimated_lambdas[j] = lambda_estimator.estimated_lambda\n",
    "print(\"sig_lambda:\", sig_lambda, \"estimated lambda mean:\", estimated_lambdas.mean(), \"estimated lambda std:\", estimated_lambdas.std())\n",
    "lambda_mean_dict[str(sig_lambda)] = estimated_lambdas.mean()\n",
    "lambda_std_dict[str(sig_lambda)] = estimated_lambdas.std(ddof = 1)\n"
   ]
  },
  {
   "cell_type": "code",
   "execution_count": 55,
   "metadata": {},
   "outputs": [
    {
     "name": "stdout",
     "output_type": "stream",
     "text": [
      "[0.67767463 0.6854761  0.7041745  0.67219736 0.67686253 0.69136277\n",
      " 0.68783416 0.68433273 0.67590432 0.68285969]\n",
      "{'0.2': 0.21395800234544088, '0.1': 0.12334302431550137, '0.01': 0.0389904562468628, '0.3': 0.3075356981517861, '0.5': 0.5018241489125538, '0.05': 0.06839376291379526, '0.7': 0.683867879035141}\n",
      "{'0.2': 0.01735698151131395, '0.1': 0.02653298099017536, '0.01': 0.031091590720282773, '0.3': 0.01873010738310009, '0.5': 0.01977075955557156, '0.05': 0.023983858541157095, '0.7': 0.009280404073198568}\n"
     ]
    }
   ],
   "source": [
    "print(estimated_lambdas)\n",
    "print(lambda_mean_dict)\n",
    "print(lambda_std_dict)"
   ]
  },
  {
   "cell_type": "code",
   "execution_count": 73,
   "metadata": {},
   "outputs": [],
   "source": [
    "from visualize import plot_lambda"
   ]
  },
  {
   "cell_type": "code",
   "execution_count": 74,
   "metadata": {},
   "outputs": [
    {
     "data": {
      "image/png": "[encoded data removed]",
      "text/plain": [
       "<Figure size 640x480 with 1 Axes>"
      ]
     },
     "metadata": {},
     "output_type": "display_data"
    }
   ],
   "source": [
    "plot_lambda(lambda_mean_dict, lambda_std_dict)"
   ]
  },
  {
   "cell_type": "code",
   "execution_count": null,
   "metadata": {},
   "outputs": [],
   "source": []
  }
 ],
 "metadata": {
  "kernelspec": {
   "display_name": "ad",
   "language": "python",
   "name": "python3"
  },
  "language_info": {
   "codemirror_mode": {
    "name": "ipython",
    "version": 3
   },
   "file_extension": ".py",
   "mimetype": "text/x-python",
   "name": "python",
   "nbconvert_exporter": "python",
   "pygments_lexer": "ipython3",
   "version": "3.11.8"
  }
 },
 "nbformat": 4,
 "nbformat_minor": 2
}
