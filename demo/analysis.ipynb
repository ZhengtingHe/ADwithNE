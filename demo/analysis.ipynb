{
 "cells": [
  {
   "cell_type": "code",
   "execution_count": 1,
   "metadata": {},
   "outputs": [],
   "source": [
    "import torch\n",
    "from torch import nn\n",
    "import numpy as np\n",
    "import sys\n",
    "import os\n",
    "import pandas as pd\n",
    "from torch.utils.data import Dataset, DataLoader\n",
    "from tqdm import tqdm\n",
    "\n",
    "\n",
    "sys.path.append(\"..\")\n",
    "from model import ParticleEventTransformer\n",
    "from data import get_database_path, get_h5_files, read_h5_file, select_events\n",
    "from utils import load_toml_config\n",
    "\n",
    "\n",
    "device = \"cuda\" if torch.cuda.is_available() else \"mps\" if sys.platform == \"darwin\" else \"cpu\"\n"
   ]
  },
  {
   "cell_type": "code",
   "execution_count": 2,
   "metadata": {},
   "outputs": [],
   "source": [
    "EMD_config = load_toml_config(\"EMD\")\n",
    "particle_type_scale = EMD_config['particle_type_scale']"
   ]
  },
  {
   "cell_type": "markdown",
   "metadata": {},
   "source": [
    "# Load raw events"
   ]
  },
  {
   "cell_type": "code",
   "execution_count": 3,
   "metadata": {},
   "outputs": [
    {
     "name": "stdout",
     "output_type": "stream",
     "text": [
      "dict_keys(['SM', 'neutral_boson', 'leptoquark', 'neutral_Higgs', 'charged_Higgs'])\n"
     ]
    }
   ],
   "source": [
    "files = load_toml_config(\"file\")\n",
    "database_path = get_database_path()\n",
    "bkg_files, sig_files = get_h5_files()\n",
    "\n",
    "print(files.keys())\n",
    "bkg = read_h5_file(database_path, files[\"SM\"])\n",
    "# SM processes\n",
    "\n",
    "neutral_boson = read_h5_file(database_path, files[\"neutral_boson\"])\n",
    "# A neutral scalar boson (A) with mass 50 GeV, decaying to two off-shell Z bosons, each forced to decay to two leptons: A → 4l\n",
    "\n",
    "leptoquark = read_h5_file(database_path, files[\"leptoquark\"])\n",
    "# A leptoquark (LQ) with mass 80 GeV, decaying to a b quark and a τ lepton24\n",
    "\n",
    "neutral_Higgs = read_h5_file(database_path, files[\"neutral_Higgs\"])\n",
    "# A scalar boson with mass 60 GeV, decaying to two tau leptons: h0→ ττ\n",
    "\n",
    "charged_Higgs = read_h5_file(database_path, files[\"charged_Higgs\"])\n",
    "# A charged scalar boson with mass 60 GeV, decaying to a tau lepton and a neutrino"
   ]
  },
  {
   "cell_type": "markdown",
   "metadata": {},
   "source": [
    "# Load embedding model"
   ]
  },
  {
   "cell_type": "code",
   "execution_count": 4,
   "metadata": {},
   "outputs": [
    {
     "name": "stdout",
     "output_type": "stream",
     "text": [
      "{'feature_size': 3, 'embed_size': 16, 'num_heads': 8, 'num_layers': 4, 'hidden_dim': 256, 'output_dim': 4}\n"
     ]
    },
    {
     "name": "stderr",
     "output_type": "stream",
     "text": [
      "/home/desmondhe/anaconda3/envs/ad/lib/python3.11/site-packages/torch/nn/modules/transformer.py:286: UserWarning: enable_nested_tensor is True, but self.use_nested_tensor is False because encoder_layer.self_attn.batch_first was not True(use batch_first for better inference performance)\n",
      "  warnings.warn(f\"enable_nested_tensor is True, but self.use_nested_tensor is False because {why_not_sparsity_fast_path}\")\n"
     ]
    }
   ],
   "source": [
    "model_hyper_parameters = load_toml_config(\"Transformer\")\n",
    "print(model_hyper_parameters)\n",
    "feature_size = model_hyper_parameters[\"feature_size\"]\n",
    "embed_size = model_hyper_parameters[\"embed_size\"]\n",
    "num_heads = model_hyper_parameters[\"num_heads\"]\n",
    "num_layers = model_hyper_parameters[\"num_layers\"]\n",
    "hidden_dim = model_hyper_parameters[\"hidden_dim\"]\n",
    "output_dim = model_hyper_parameters[\"output_dim\"]\n",
    "\n",
    "embedding_model = ParticleEventTransformer(feature_size, embed_size, num_heads, hidden_dim, output_dim, num_layers)"
   ]
  },
  {
   "cell_type": "markdown",
   "metadata": {},
   "source": [
    "# Embed events"
   ]
  },
  {
   "cell_type": "code",
   "execution_count": 5,
   "metadata": {},
   "outputs": [],
   "source": [
    "from analysis import inference"
   ]
  },
  {
   "cell_type": "code",
   "execution_count": 6,
   "metadata": {},
   "outputs": [],
   "source": [
    "from data import EventDataset"
   ]
  },
  {
   "cell_type": "code",
   "execution_count": 7,
   "metadata": {},
   "outputs": [],
   "source": [
    "infer_test_num = 1000000\n",
    "bkg_infer_test = bkg[:infer_test_num]\n",
    "infer_dataset = EventDataset(bkg_infer_test)\n",
    "infer_dataloader = DataLoader(infer_dataset, batch_size=256, num_workers=16, prefetch_factor=5)\n",
    "\n",
    "neutral_boson_infer_test = neutral_boson[:infer_test_num]\n",
    "neutral_boson_infer_dataset = EventDataset(neutral_boson_infer_test)\n",
    "neutral_boson_infer_dataloader = DataLoader(neutral_boson_infer_dataset, batch_size=256, num_workers=16, prefetch_factor=5)\n",
    "\n",
    "leptoquark_infer_test = leptoquark[:infer_test_num]\n",
    "leptoquark_infer_dataset = EventDataset(leptoquark_infer_test)\n",
    "leptoquark_infer_dataloader = DataLoader(leptoquark_infer_dataset, batch_size=256, num_workers=16, prefetch_factor=5)\n",
    "\n",
    "neutral_Higgs_infer_test = neutral_Higgs[:infer_test_num]\n",
    "neutral_Higgs_infer_dataset = EventDataset(neutral_Higgs_infer_test)\n",
    "neutral_Higgs_infer_dataloader = DataLoader(neutral_Higgs_infer_dataset, batch_size=256, num_workers=16, prefetch_factor=5)\n",
    "\n",
    "charged_Higgs_infer_test = charged_Higgs[:infer_test_num]\n",
    "charged_Higgs_infer_dataset = EventDataset(charged_Higgs_infer_test)\n",
    "charged_Higgs_infer_dataloader = DataLoader(charged_Higgs_infer_dataset, batch_size=256, num_workers=16, prefetch_factor=5)"
   ]
  },
  {
   "cell_type": "code",
   "execution_count": 8,
   "metadata": {},
   "outputs": [
    {
     "name": "stderr",
     "output_type": "stream",
     "text": [
      "100%|██████████| 3907/3907 [00:08<00:00, 444.22it/s]"
     ]
    },
    {
     "name": "stdout",
     "output_type": "stream",
     "text": [
      "(1000000, 4)\n"
     ]
    },
    {
     "name": "stderr",
     "output_type": "stream",
     "text": [
      "\n"
     ]
    }
   ],
   "source": [
    "embedding_model.load_state_dict(torch.load(os.path.join(\"..\", \"model\",\"emb_dim{}_type_scale{}.pt\".format(output_dim, particle_type_scale))))\n",
    "embedding_model.to(device)\n",
    "bkg_embed_points = inference(embedding_model, infer_dataloader, embed_dim=output_dim)\n",
    "print(bkg_embed_points.shape)"
   ]
  },
  {
   "cell_type": "code",
   "execution_count": 9,
   "metadata": {},
   "outputs": [
    {
     "name": "stderr",
     "output_type": "stream",
     "text": [
      "100%|██████████| 219/219 [00:01<00:00, 179.99it/s]\n",
      "100%|██████████| 1331/1331 [00:03<00:00, 393.23it/s]\n",
      "100%|██████████| 2701/2701 [00:06<00:00, 437.99it/s]\n",
      "100%|██████████| 2970/2970 [00:06<00:00, 451.33it/s]"
     ]
    },
    {
     "name": "stdout",
     "output_type": "stream",
     "text": [
      "(55969, 4)\n",
      "(340544, 4)\n",
      "(691283, 4)\n",
      "(760272, 4)\n"
     ]
    },
    {
     "name": "stderr",
     "output_type": "stream",
     "text": [
      "\n"
     ]
    }
   ],
   "source": [
    "neutral_boson_embed_points = inference(embedding_model, neutral_boson_infer_dataloader, embed_dim=output_dim)\n",
    "leptoquark_embed_points = inference(embedding_model, leptoquark_infer_dataloader, embed_dim=output_dim)\n",
    "neutral_Higgs_embed_points = inference(embedding_model, neutral_Higgs_infer_dataloader, embed_dim=output_dim)\n",
    "charged_Higgs_embed_points = inference(embedding_model, charged_Higgs_infer_dataloader, embed_dim=output_dim)\n",
    "print(neutral_boson_embed_points.shape)\n",
    "print(leptoquark_embed_points.shape)\n",
    "print(neutral_Higgs_embed_points.shape)\n",
    "print(charged_Higgs_embed_points.shape)"
   ]
  },
  {
   "cell_type": "code",
   "execution_count": 10,
   "metadata": {},
   "outputs": [],
   "source": [
    "bkg_max = np.max(bkg_embed_points, axis=0)\n",
    "bkg_min = np.min(bkg_embed_points, axis=0)\n",
    "neutral_boson_max = np.max(neutral_boson_embed_points, axis=0)\n",
    "neutral_boson_min = np.min(neutral_boson_embed_points, axis=0)\n",
    "leptoquark_max = np.max(leptoquark_embed_points, axis=0)\n",
    "leptoquark_min = np.min(leptoquark_embed_points, axis=0)\n",
    "neutral_Higgs_max = np.max(neutral_Higgs_embed_points, axis=0)\n",
    "neutral_Higgs_min = np.min(neutral_Higgs_embed_points, axis=0)\n",
    "charged_Higgs_max = np.max(charged_Higgs_embed_points, axis=0)\n",
    "charged_Higgs_min = np.min(charged_Higgs_embed_points, axis=0)\n",
    "\n",
    "total_max = np.max(np.array([bkg_max, neutral_boson_max, leptoquark_max, neutral_Higgs_max, charged_Higgs_max]), axis=0)\n",
    "total_min = np.min(np.array([bkg_min, neutral_boson_min, leptoquark_min, neutral_Higgs_min, charged_Higgs_min]), axis=0)\n",
    "def max_min_norm(x):\n",
    "    return (x - total_min) / (total_max - total_min)"
   ]
  },
  {
   "cell_type": "code",
   "execution_count": 11,
   "metadata": {},
   "outputs": [
    {
     "name": "stdout",
     "output_type": "stream",
     "text": [
      "[  96.99357097 -146.39087979 -153.85605629  108.39926677]\n"
     ]
    }
   ],
   "source": [
    "total_mean = np.mean(np.concatenate([bkg_embed_points, neutral_boson_embed_points, leptoquark_embed_points, neutral_Higgs_embed_points, charged_Higgs_embed_points]), axis=0)\n",
    "print(total_mean)"
   ]
  },
  {
   "cell_type": "code",
   "execution_count": 12,
   "metadata": {},
   "outputs": [
    {
     "name": "stdout",
     "output_type": "stream",
     "text": [
      "[ 142.22429516 -210.5637264  -216.82394047  151.97081285]\n",
      "[ 107.49868192 -170.3974457  -157.23823675  100.49644183]\n",
      "[  92.40992917 -147.39542323 -141.82567862   92.84759197]\n",
      "[  97.29988844 -146.78354556 -152.84559856  107.3628698 ]\n",
      "[ 38.50199811 -59.40884638 -77.09169267  59.57889759]\n",
      "[39.62446888 46.32809639 53.42689661 45.55258798]\n",
      "[ 58.95394267  93.2374391  102.7732609   66.65062966]\n",
      "[49.01006039 88.06157974 92.52305241 51.4553242 ]\n",
      "[ 73.25371751 113.53638687 114.03525047  72.54167018]\n",
      "[ 80.00088338 128.19388221 131.19922904  82.24994631]\n"
     ]
    }
   ],
   "source": [
    "print(np.mean(bkg_embed_points, axis=0))\n",
    "print(np.mean(neutral_boson_embed_points, axis=0))\n",
    "print(np.mean(leptoquark_embed_points, axis=0))\n",
    "print(np.mean(neutral_Higgs_embed_points, axis=0))\n",
    "print(np.mean(charged_Higgs_embed_points, axis=0))\n",
    "\n",
    "print(np.std(bkg_embed_points, axis=0))\n",
    "print(np.std(neutral_boson_embed_points, axis=0))\n",
    "print(np.std(leptoquark_embed_points, axis=0))\n",
    "print(np.std(neutral_Higgs_embed_points, axis=0))\n",
    "print(np.std(charged_Higgs_embed_points, axis=0))"
   ]
  },
  {
   "cell_type": "markdown",
   "metadata": {},
   "source": [
    "# Split embed points"
   ]
  },
  {
   "cell_type": "code",
   "execution_count": 71,
   "metadata": {},
   "outputs": [],
   "source": [
    "def create_exp_bkg_events(ori_bkg_events, ori_sig_events, sig_lambda, n=100000):\n",
    "    \"\"\"\n",
    "    Create expperiment events by combining pure signal and background events with signal strength lambda, \n",
    "    and return the background events from remaining pure background events.\n",
    "    Background: X = {X1,...,X_mb}, Xi ∼ pb Signal: Y = {Y1,...,Y_ms}, Experimental: W = {W1,...,W_n},\n",
    "    \"\"\"\n",
    "    m_s = int(n * sig_lambda)\n",
    "    m_b = n - m_s\n",
    "    exp_events = np.concatenate((ori_bkg_events[:m_b], ori_sig_events[:m_s]))\n",
    "    np.random.shuffle(exp_events)\n",
    "    bkg_events = ori_bkg_events[m_b:m_b + n]\n",
    "    return exp_events, bkg_events"
   ]
  },
  {
   "cell_type": "code",
   "execution_count": 72,
   "metadata": {},
   "outputs": [],
   "source": [
    "def train_test_split(exp_events, bkg_events, test_ratio=0.2):\n",
    "    \"\"\"\n",
    "    Split background data X = {X1,...,X_mb} into X1 and X2 of sizes m1 and m2 respectively.\n",
    "    Split experimental data W = {W1,...,W_n} into W1 and W2 of sizes n1 and n2 respectively, with n2 = m2.\n",
    "    Will assume n = mb for now.\n",
    "    \"\"\"\n",
    "    n1 = int((1 - test_ratio) * len(exp_events))\n",
    "    m1 = n1\n",
    "    np.random.shuffle(exp_events)\n",
    "    np.random.shuffle(bkg_events)\n",
    "    X1 = bkg_events[:m1]\n",
    "    X2 = bkg_events[m1:]\n",
    "    W1 = exp_events[:n1]\n",
    "    W2 = exp_events[n1:]\n",
    "    return X1, X2, W1, W2"
   ]
  },
  {
   "cell_type": "code",
   "execution_count": 73,
   "metadata": {},
   "outputs": [],
   "source": [
    "class ClassifyDataset(Dataset):\n",
    "    def __init__(self, exp_events ,bkg_events):\n",
    "        \"\"\"\n",
    "        Experiment events labeled as 1, background events labeled as 0.\n",
    "        \"\"\"\n",
    "        # Normalize the data\n",
    "        bkg_events = max_min_norm(bkg_events)\n",
    "        exp_events = max_min_norm(exp_events)\n",
    "\n",
    "        bkg_events = torch.from_numpy(bkg_events).float()\n",
    "        exp_events = torch.from_numpy(exp_events).float()\n",
    "        self.events = torch.cat([bkg_events, exp_events], dim=0)\n",
    "        self.labels = torch.cat([torch.zeros(len(bkg_events)), torch.ones(len(exp_events))])\n",
    "    \n",
    "    def __len__(self):\n",
    "        return len(self.events)\n",
    "    \n",
    "    def __getitem__(self, idx):\n",
    "        return self.events[idx], self.labels[idx]"
   ]
  },
  {
   "cell_type": "code",
   "execution_count": 74,
   "metadata": {},
   "outputs": [],
   "source": [
    "def get_dataloaders(X1, W1, val_ratio):\n",
    "    \"\"\"\n",
    "    Get dataloaders for training and validation sets.\n",
    "    \"\"\"\n",
    "    n_train = int((1 - val_ratio) * len(W1))\n",
    "    X1_train = X1[:n_train]\n",
    "    X1_val = X1[n_train:]\n",
    "    W1_train = W1[:n_train]\n",
    "    W1_val = W1[n_train:]\n",
    "    \n",
    "    train_dataset = ClassifyDataset(W1_train, X1_train)\n",
    "    val_dataset = ClassifyDataset(W1_val, X1_val)\n",
    "    train_dataloader = DataLoader(train_dataset, batch_size=32, shuffle=True, pin_memory=True)\n",
    "    val_dataloader = DataLoader(val_dataset, batch_size=256)\n",
    "    return train_dataloader, val_dataloader"
   ]
  },
  {
   "cell_type": "code",
   "execution_count": 75,
   "metadata": {},
   "outputs": [],
   "source": [
    "tpr_dict = {}\n",
    "fpr_dict = {}\n",
    "auc_dict = {}"
   ]
  },
  {
   "cell_type": "code",
   "execution_count": 181,
   "metadata": {},
   "outputs": [],
   "source": [
    "test_ratio=0.2\n",
    "val_ratio = 0.2\n",
    "sig_lambda = 0.8\n",
    "n = 100000\n",
    "\n",
    "exp_events, bkg_events = create_exp_bkg_events(bkg_embed_points, charged_Higgs_embed_points, sig_lambda, n)\n",
    "X1, X2, W1, W2 = train_test_split(exp_events, bkg_events, test_ratio)\n",
    "n1 = len(W1)\n",
    "m1 = len(X1)\n",
    "n2 = len(W2)\n",
    "m2 = len(X2)\n",
    "train_dataloader, val_dataloader = get_dataloaders(X1, W1, val_ratio)"
   ]
  },
  {
   "cell_type": "markdown",
   "metadata": {},
   "source": [
    "# Classify Model"
   ]
  },
  {
   "cell_type": "code",
   "execution_count": 182,
   "metadata": {},
   "outputs": [],
   "source": [
    "class MLP(nn.Module):\n",
    "    def __init__(self, input_size, hidden_sizes):\n",
    "        super(MLP, self).__init__()\n",
    "        def make_layer(in_size, out_size):\n",
    "            layer = nn.Sequential(\n",
    "                nn.Linear(in_size, out_size),\n",
    "                nn.LeakyReLU(),\n",
    "                # nn.Dropout(0.1)\n",
    "            )\n",
    "            nn.init.kaiming_normal_(layer[0].weight, nonlinearity='leaky_relu')\n",
    "            return layer\n",
    "        self.layers = nn.Sequential(\n",
    "            make_layer(input_size, hidden_sizes[0]),\n",
    "            *[make_layer(hidden_sizes[i], hidden_sizes[i+1]) for i in range(len(hidden_sizes)-1)],\n",
    "            nn.Linear(hidden_sizes[-1], 1),\n",
    "            nn.Sigmoid()\n",
    "        )\n",
    "    \n",
    "\n",
    "    def forward(self, x):\n",
    "        return self.layers(x).reshape(-1)\n",
    "hidden_dim = [8, 16, 16, 16, 8]\n",
    "naive_model = MLP(output_dim, hidden_sizes=hidden_dim)"
   ]
  },
  {
   "cell_type": "code",
   "execution_count": 183,
   "metadata": {},
   "outputs": [],
   "source": [
    "# class Deep(nn.Module):\n",
    "#     def __init__(self):\n",
    "#         super().__init__()\n",
    "#         self.layer1 = nn.Linear(4, 8)\n",
    "#         self.act1 = nn.ReLU()\n",
    "#         self.layer2 = nn.Linear(8, 16)\n",
    "#         self.act2 = nn.ReLU()\n",
    "#         self.layer3 = nn.Linear(16, 16)\n",
    "#         self.act3 = nn.ReLU()\n",
    "#         self.output = nn.Linear(16, 1)\n",
    "#         self.sigmoid = nn.Sigmoid()\n",
    " \n",
    "#     def forward(self, x):\n",
    "#         x = self.act1(self.layer1(x))\n",
    "#         x = self.act2(self.layer2(x))\n",
    "#         x = self.act3(self.layer3(x))\n",
    "#         x = self.sigmoid(self.output(x))\n",
    "#         x = x.squeeze()\n",
    "#         return x\n",
    "\n",
    "# naive_model = Deep()"
   ]
  },
  {
   "cell_type": "markdown",
   "metadata": {},
   "source": [
    "# Train"
   ]
  },
  {
   "cell_type": "code",
   "execution_count": 184,
   "metadata": {},
   "outputs": [],
   "source": [
    "class BinaryACCUpdater(nn.Module):\n",
    "    def __init__(self, threshold=0.5):\n",
    "        super(BinaryACCUpdater, self).__init__()\n",
    "        self.total_acc = 0\n",
    "        self.count = 0\n",
    "        self.threshold = threshold\n",
    "    def forward(self, output, label):\n",
    "        acc = (output > self.threshold).float() == label\n",
    "        mean_acc = acc.float().mean()\n",
    "        self.update(mean_acc)\n",
    "        return mean_acc\n",
    "    def update(self, metric):\n",
    "        self.total_acc += metric\n",
    "        self.count += 1\n",
    "    def compute(self):\n",
    "        return self.total_acc / self.count\n",
    "    def reset(self):\n",
    "        self.total_acc = 0\n",
    "        self.count = 0"
   ]
  },
  {
   "cell_type": "code",
   "execution_count": 185,
   "metadata": {},
   "outputs": [],
   "source": [
    "naive_model.to(device)\n",
    "optimizer = torch.optim.Adam(naive_model.parameters(), lr=1e-3, weight_decay=1e-5)\n",
    "loss_fn = nn.BCELoss()\n",
    "acc_metric = BinaryACCUpdater()\n",
    "metric_dict = {\"Accuracy\": acc_metric}"
   ]
  },
  {
   "cell_type": "code",
   "execution_count": 186,
   "metadata": {},
   "outputs": [],
   "source": [
    "from classify import train_model"
   ]
  },
  {
   "cell_type": "code",
   "execution_count": 187,
   "metadata": {},
   "outputs": [],
   "source": [
    "opt_train_model  = torch.compile(train_model)"
   ]
  },
  {
   "cell_type": "code",
   "execution_count": 188,
   "metadata": {},
   "outputs": [
    {
     "name": "stdout",
     "output_type": "stream",
     "text": [
      "\n",
      "================================================================================2024-05-14 20:03:50\n",
      "Epoch 1 / 50\n",
      "\n",
      "100%|██████████| 4000/4000 [00:10<00:00, 366.25it/s, train_Accuracy=0.789, train_loss=0.469]\n",
      "100%|██████████| 125/125 [00:01<00:00, 111.68it/s, val_Accuracy=0.797, val_loss=0.457]\n",
      "<<<<<< reach best val_Accuracy : 0.796625018119812 >>>>>>\n",
      "\n",
      "================================================================================2024-05-14 20:04:02\n",
      "Epoch 2 / 50\n",
      "\n",
      "100%|██████████| 4000/4000 [00:07<00:00, 534.95it/s, train_Accuracy=0.794, train_loss=0.459]\n",
      "100%|██████████| 125/125 [00:00<00:00, 558.54it/s, val_Accuracy=0.797, val_loss=0.456]\n",
      "\n",
      "================================================================================2024-05-14 20:04:10\n",
      "Epoch 3 / 50\n",
      "\n",
      "100%|██████████| 4000/4000 [00:07<00:00, 500.93it/s, train_Accuracy=0.795, train_loss=0.458]\n",
      "100%|██████████| 125/125 [00:00<00:00, 612.70it/s, val_Accuracy=0.793, val_loss=0.458]\n",
      "\n",
      "================================================================================2024-05-14 20:04:18\n",
      "Epoch 4 / 50\n",
      "\n",
      "100%|██████████| 4000/4000 [00:07<00:00, 557.86it/s, train_Accuracy=0.795, train_loss=0.457]\n",
      "100%|██████████| 125/125 [00:00<00:00, 585.84it/s, val_Accuracy=0.797, val_loss=0.455]\n",
      "\n",
      "================================================================================2024-05-14 20:04:26\n",
      "Epoch 5 / 50\n",
      "\n",
      "100%|██████████| 4000/4000 [00:07<00:00, 552.33it/s, train_Accuracy=0.795, train_loss=0.457]\n",
      "100%|██████████| 125/125 [00:00<00:00, 581.97it/s, val_Accuracy=0.797, val_loss=0.455]\n",
      "<<<<<< reach best val_Accuracy : 0.7966875433921814 >>>>>>\n",
      "\n",
      "================================================================================2024-05-14 20:04:33\n",
      "Epoch 6 / 50\n",
      "\n",
      "100%|██████████| 4000/4000 [00:07<00:00, 546.45it/s, train_Accuracy=0.795, train_loss=0.457]\n",
      "100%|██████████| 125/125 [00:00<00:00, 578.02it/s, val_Accuracy=0.792, val_loss=0.462]\n",
      "\n",
      "================================================================================2024-05-14 20:04:41\n",
      "Epoch 7 / 50\n",
      "\n",
      "100%|██████████| 4000/4000 [00:07<00:00, 555.84it/s, train_Accuracy=0.795, train_loss=0.456]\n",
      "100%|██████████| 125/125 [00:00<00:00, 614.43it/s, val_Accuracy=0.797, val_loss=0.456]\n",
      "<<<<<< reach best val_Accuracy : 0.7968750596046448 >>>>>>\n",
      "\n",
      "================================================================================2024-05-14 20:04:48\n",
      "Epoch 8 / 50\n",
      "\n",
      "100%|██████████| 4000/4000 [00:07<00:00, 557.75it/s, train_Accuracy=0.795, train_loss=0.456]\n",
      "100%|██████████| 125/125 [00:00<00:00, 622.08it/s, val_Accuracy=0.797, val_loss=0.455]\n",
      "\n",
      "================================================================================2024-05-14 20:04:56\n",
      "Epoch 9 / 50\n",
      "\n",
      "100%|██████████| 4000/4000 [00:07<00:00, 570.47it/s, train_Accuracy=0.795, train_loss=0.456]\n",
      "100%|██████████| 125/125 [00:00<00:00, 645.36it/s, val_Accuracy=0.798, val_loss=0.455]\n",
      "<<<<<< reach best val_Accuracy : 0.7976250648498535 >>>>>>\n",
      "\n",
      "================================================================================2024-05-14 20:05:03\n",
      "Epoch 10 / 50\n",
      "\n",
      "100%|██████████| 4000/4000 [00:07<00:00, 538.29it/s, train_Accuracy=0.796, train_loss=0.456]\n",
      "100%|██████████| 125/125 [00:00<00:00, 160.36it/s, val_Accuracy=0.795, val_loss=0.457]\n",
      "\n",
      "================================================================================2024-05-14 20:05:11\n",
      "Epoch 11 / 50\n",
      "\n",
      "100%|██████████| 4000/4000 [00:07<00:00, 527.96it/s, train_Accuracy=0.795, train_loss=0.456]\n",
      "100%|██████████| 125/125 [00:00<00:00, 692.86it/s, val_Accuracy=0.794, val_loss=0.457]\n",
      "\n",
      "================================================================================2024-05-14 20:05:19\n",
      "Epoch 12 / 50\n",
      "\n",
      "100%|██████████| 4000/4000 [00:07<00:00, 570.15it/s, train_Accuracy=0.796, train_loss=0.456]\n",
      "100%|██████████| 125/125 [00:00<00:00, 599.00it/s, val_Accuracy=0.795, val_loss=0.457]\n",
      "\n",
      "================================================================================2024-05-14 20:05:26\n",
      "Epoch 13 / 50\n",
      "\n",
      "100%|██████████| 4000/4000 [00:07<00:00, 558.16it/s, train_Accuracy=0.796, train_loss=0.455]\n",
      "100%|██████████| 125/125 [00:00<00:00, 675.18it/s, val_Accuracy=0.796, val_loss=0.455]\n",
      "\n",
      "================================================================================2024-05-14 20:05:33\n",
      "Epoch 14 / 50\n",
      "\n",
      "100%|██████████| 4000/4000 [00:07<00:00, 534.54it/s, train_Accuracy=0.795, train_loss=0.456]\n",
      "100%|██████████| 125/125 [00:00<00:00, 607.88it/s, val_Accuracy=0.797, val_loss=0.455]\n",
      "<<<<<< val_Accuracy without improvement in 5 epoch, early stopping >>>>>>\n"
     ]
    },
    {
     "data": {
      "text/html": [
       "<div>\n",
       "<style scoped>\n",
       "    .dataframe tbody tr th:only-of-type {\n",
       "        vertical-align: middle;\n",
       "    }\n",
       "\n",
       "    .dataframe tbody tr th {\n",
       "        vertical-align: top;\n",
       "    }\n",
       "\n",
       "    .dataframe thead th {\n",
       "        text-align: right;\n",
       "    }\n",
       "</style>\n",
       "<table border=\"1\" class=\"dataframe\">\n",
       "  <thead>\n",
       "    <tr style=\"text-align: right;\">\n",
       "      <th></th>\n",
       "      <th>train_loss</th>\n",
       "      <th>train_Accuracy</th>\n",
       "      <th>val_loss</th>\n",
       "      <th>val_Accuracy</th>\n",
       "      <th>epoch</th>\n",
       "    </tr>\n",
       "  </thead>\n",
       "  <tbody>\n",
       "    <tr>\n",
       "      <th>0</th>\n",
       "      <td>0.468781</td>\n",
       "      <td>0.789313</td>\n",
       "      <td>0.456993</td>\n",
       "      <td>0.796625</td>\n",
       "      <td>1</td>\n",
       "    </tr>\n",
       "    <tr>\n",
       "      <th>1</th>\n",
       "      <td>0.458689</td>\n",
       "      <td>0.793773</td>\n",
       "      <td>0.455665</td>\n",
       "      <td>0.796625</td>\n",
       "      <td>2</td>\n",
       "    </tr>\n",
       "    <tr>\n",
       "      <th>2</th>\n",
       "      <td>0.457678</td>\n",
       "      <td>0.794563</td>\n",
       "      <td>0.457670</td>\n",
       "      <td>0.793313</td>\n",
       "      <td>3</td>\n",
       "    </tr>\n",
       "    <tr>\n",
       "      <th>3</th>\n",
       "      <td>0.457235</td>\n",
       "      <td>0.794539</td>\n",
       "      <td>0.454908</td>\n",
       "      <td>0.796625</td>\n",
       "      <td>4</td>\n",
       "    </tr>\n",
       "    <tr>\n",
       "      <th>4</th>\n",
       "      <td>0.456865</td>\n",
       "      <td>0.794617</td>\n",
       "      <td>0.455466</td>\n",
       "      <td>0.796688</td>\n",
       "      <td>5</td>\n",
       "    </tr>\n",
       "    <tr>\n",
       "      <th>5</th>\n",
       "      <td>0.456717</td>\n",
       "      <td>0.795320</td>\n",
       "      <td>0.461728</td>\n",
       "      <td>0.791594</td>\n",
       "      <td>6</td>\n",
       "    </tr>\n",
       "    <tr>\n",
       "      <th>6</th>\n",
       "      <td>0.456374</td>\n",
       "      <td>0.794961</td>\n",
       "      <td>0.455951</td>\n",
       "      <td>0.796875</td>\n",
       "      <td>7</td>\n",
       "    </tr>\n",
       "    <tr>\n",
       "      <th>7</th>\n",
       "      <td>0.456166</td>\n",
       "      <td>0.795453</td>\n",
       "      <td>0.455324</td>\n",
       "      <td>0.796750</td>\n",
       "      <td>8</td>\n",
       "    </tr>\n",
       "    <tr>\n",
       "      <th>8</th>\n",
       "      <td>0.455995</td>\n",
       "      <td>0.795273</td>\n",
       "      <td>0.454710</td>\n",
       "      <td>0.797625</td>\n",
       "      <td>9</td>\n",
       "    </tr>\n",
       "    <tr>\n",
       "      <th>9</th>\n",
       "      <td>0.456040</td>\n",
       "      <td>0.795672</td>\n",
       "      <td>0.456835</td>\n",
       "      <td>0.794938</td>\n",
       "      <td>10</td>\n",
       "    </tr>\n",
       "    <tr>\n",
       "      <th>10</th>\n",
       "      <td>0.455827</td>\n",
       "      <td>0.795320</td>\n",
       "      <td>0.457144</td>\n",
       "      <td>0.793875</td>\n",
       "      <td>11</td>\n",
       "    </tr>\n",
       "    <tr>\n",
       "      <th>11</th>\n",
       "      <td>0.455502</td>\n",
       "      <td>0.795586</td>\n",
       "      <td>0.457352</td>\n",
       "      <td>0.795219</td>\n",
       "      <td>12</td>\n",
       "    </tr>\n",
       "    <tr>\n",
       "      <th>12</th>\n",
       "      <td>0.455469</td>\n",
       "      <td>0.795664</td>\n",
       "      <td>0.455498</td>\n",
       "      <td>0.795875</td>\n",
       "      <td>13</td>\n",
       "    </tr>\n",
       "    <tr>\n",
       "      <th>13</th>\n",
       "      <td>0.455522</td>\n",
       "      <td>0.795227</td>\n",
       "      <td>0.455009</td>\n",
       "      <td>0.796719</td>\n",
       "      <td>14</td>\n",
       "    </tr>\n",
       "  </tbody>\n",
       "</table>\n",
       "</div>"
      ],
      "text/plain": [
       "    train_loss  train_Accuracy  val_loss  val_Accuracy  epoch\n",
       "0     0.468781        0.789313  0.456993      0.796625      1\n",
       "1     0.458689        0.793773  0.455665      0.796625      2\n",
       "2     0.457678        0.794563  0.457670      0.793313      3\n",
       "3     0.457235        0.794539  0.454908      0.796625      4\n",
       "4     0.456865        0.794617  0.455466      0.796688      5\n",
       "5     0.456717        0.795320  0.461728      0.791594      6\n",
       "6     0.456374        0.794961  0.455951      0.796875      7\n",
       "7     0.456166        0.795453  0.455324      0.796750      8\n",
       "8     0.455995        0.795273  0.454710      0.797625      9\n",
       "9     0.456040        0.795672  0.456835      0.794938     10\n",
       "10    0.455827        0.795320  0.457144      0.793875     11\n",
       "11    0.455502        0.795586  0.457352      0.795219     12\n",
       "12    0.455469        0.795664  0.455498      0.795875     13\n",
       "13    0.455522        0.795227  0.455009      0.796719     14"
      ]
     },
     "execution_count": 188,
     "metadata": {},
     "output_type": "execute_result"
    }
   ],
   "source": [
    "opt_train_model(\n",
    "    naive_model, optimizer,\n",
    "    loss_fn, metrics_dict=metric_dict,\n",
    "    train_dataloader=train_dataloader, val_dataloader=val_dataloader,\n",
    "    monitor=\"val_Accuracy\", mode=\"max\",\n",
    "    epochs=50\n",
    "    )"
   ]
  },
  {
   "cell_type": "markdown",
   "metadata": {},
   "source": [
    "# ROC"
   ]
  },
  {
   "cell_type": "code",
   "execution_count": 189,
   "metadata": {},
   "outputs": [],
   "source": [
    "@torch.no_grad()\n",
    "def predict(model, dataloader):\n",
    "    model.eval()\n",
    "    batch_size = dataloader.batch_size\n",
    "    targets = np.zeros(len(dataloader.dataset))\n",
    "    predictions = np.zeros(len(dataloader.dataset))\n",
    "    for i, (features, labels) in enumerate(tqdm(dataloader)):\n",
    "        features = features.to(device)\n",
    "        outputs = model(features)\n",
    "        targets[i * batch_size: (i + 1) * batch_size] = labels.numpy()\n",
    "        predictions[i * batch_size: (i + 1) * batch_size] = outputs.cpu().numpy()\n",
    "    return targets, predictions"
   ]
  },
  {
   "cell_type": "code",
   "execution_count": 190,
   "metadata": {},
   "outputs": [
    {
     "name": "stderr",
     "output_type": "stream",
     "text": [
      "100%|██████████| 125/125 [00:00<00:00, 1202.69it/s]\n"
     ]
    }
   ],
   "source": [
    "targets, predictions = predict(naive_model, val_dataloader)"
   ]
  },
  {
   "cell_type": "code",
   "execution_count": 191,
   "metadata": {},
   "outputs": [],
   "source": [
    "from sklearn.metrics import roc_curve, auc\n",
    "import matplotlib.pyplot as plt"
   ]
  },
  {
   "cell_type": "code",
   "execution_count": 192,
   "metadata": {},
   "outputs": [],
   "source": [
    "def calculate_auc(targets, predictions):\n",
    "    fpr, tpr, thersholds = roc_curve(targets, predictions)\n",
    "    auc_roc = auc(fpr, tpr)\n",
    "    return fpr, tpr, auc_roc"
   ]
  },
  {
   "cell_type": "code",
   "execution_count": 193,
   "metadata": {},
   "outputs": [],
   "source": [
    "def plot_roc_curve(fpr_dict, tpr_dict, auc_dict, title):\n",
    "    for key in fpr_dict.keys():\n",
    "        fpr = fpr_dict[key]\n",
    "        tpr = tpr_dict[key]\n",
    "        auc_roc = auc_dict[key]\n",
    "        plt.plot(fpr, tpr, label='Lambda = {} (AUC = {:.2f})'.format(key, auc_roc))\n",
    "    # plt.plot(fpr, tpr, 'k--', label='ROC (area = {0:.2f})'.format(auc_roc), lw=2)    \n",
    "    plt.xlim([-0.05, 1.05])\n",
    "    plt.ylim([-0.05, 1.05])\n",
    "    plt.xlabel('FPR')\n",
    "    plt.ylabel('TPR') \n",
    "    plt.title(title)\n",
    "    plt.legend(loc=\"lower right\")\n",
    "    plt.show()\n"
   ]
  },
  {
   "cell_type": "code",
   "execution_count": 194,
   "metadata": {},
   "outputs": [
    {
     "data": {
      "image/png": "[encoded data removed]",
      "text/plain": [
       "<Figure size 640x480 with 1 Axes>"
      ]
     },
     "metadata": {},
     "output_type": "display_data"
    }
   ],
   "source": [
    "fpr, tpr, auc_roc = calculate_auc(targets, predictions)\n",
    "fpr_dict[str(sig_lambda)] = fpr\n",
    "tpr_dict[str(sig_lambda)] = tpr\n",
    "auc_dict[str(sig_lambda)] = auc_roc\n",
    "plot_roc_curve(fpr_dict, tpr_dict, auc_dict, \"ROC Curve\")"
   ]
  },
  {
   "cell_type": "markdown",
   "metadata": {},
   "source": [
    "# Test statistics"
   ]
  },
  {
   "cell_type": "code",
   "execution_count": 195,
   "metadata": {},
   "outputs": [],
   "source": [
    "class TestDataset(Dataset):\n",
    "    def __init__(self, events):\n",
    "        events = max_min_norm(events)\n",
    "        self.events = torch.from_numpy(events).float()\n",
    "    \n",
    "    def __len__(self):\n",
    "        return len(self.events)\n",
    "    \n",
    "    def __getitem__(self, idx):\n",
    "        return self.events[idx]"
   ]
  },
  {
   "cell_type": "code",
   "execution_count": 196,
   "metadata": {},
   "outputs": [],
   "source": [
    "@torch.no_grad()\n",
    "def h_hat(classifier, W):\n",
    "    classifier.eval()\n",
    "    W_dataset = TestDataset(W)\n",
    "    batch_size = 512\n",
    "    W_dataloader = DataLoader(W_dataset, batch_size=batch_size)\n",
    "    predictions = np.zeros(len(W))\n",
    "    for i, features in enumerate(W_dataloader):\n",
    "        features = features.to(device)\n",
    "        outputs = classifier(features)\n",
    "        predictions[i * batch_size: (i + 1) * batch_size] = outputs.cpu().numpy()\n",
    "    return predictions"
   ]
  },
  {
   "cell_type": "code",
   "execution_count": 197,
   "metadata": {},
   "outputs": [],
   "source": [
    "def lrt(h_W):\n",
    "    pi = n1 / (m1 + n1)\n",
    "    return np.log((1 - pi) / pi) + (1 / n2) * np.sum(np.log(h_W / (1 - h_W)))\n",
    "\n",
    "\n",
    "def auc(h_W, h_X):\n",
    "    result = h_W[:, None] > h_X[None, :]\n",
    "    sum = np.sum(result)\n",
    "    return sum / (m2 * n2)\n",
    "    \n",
    "\n",
    "def mce(h_W, h_X):\n",
    "    pi = n1 / (m1 + n1)\n",
    "    x_sum = np.sum(h_X > pi)\n",
    "    w_sum = np.sum(h_W < pi)\n",
    "    return 0.5 * ((1/m2) * x_sum + (1/n2) * w_sum)"
   ]
  },
  {
   "cell_type": "code",
   "execution_count": 198,
   "metadata": {},
   "outputs": [
    {
     "name": "stdout",
     "output_type": "stream",
     "text": [
      "CPU times: user 3 µs, sys: 0 ns, total: 3 µs\n",
      "Wall time: 5.96 µs\n",
      "1.4060561556834585\n"
     ]
    }
   ],
   "source": [
    "%time\n",
    "h_W2 = h_hat(naive_model, W2)\n",
    "print(lrt(h_W2))"
   ]
  },
  {
   "cell_type": "code",
   "execution_count": 199,
   "metadata": {},
   "outputs": [
    {
     "name": "stdout",
     "output_type": "stream",
     "text": [
      "CPU times: user 2 µs, sys: 0 ns, total: 2 µs\n",
      "Wall time: 4.05 µs\n",
      "0.85207461\n"
     ]
    }
   ],
   "source": [
    "%time\n",
    "h_X2 = h_hat(naive_model, X2)\n",
    "print(auc(h_W2, h_X2))"
   ]
  },
  {
   "cell_type": "code",
   "execution_count": 200,
   "metadata": {},
   "outputs": [
    {
     "name": "stdout",
     "output_type": "stream",
     "text": [
      "CPU times: user 3 µs, sys: 0 ns, total: 3 µs\n",
      "Wall time: 5.72 µs\n",
      "0.2058\n"
     ]
    }
   ],
   "source": [
    "%time\n",
    "print(mce(h_W2, h_X2))"
   ]
  },
  {
   "cell_type": "code",
   "execution_count": 148,
   "metadata": {},
   "outputs": [],
   "source": [
    "class Bootstrap_Permutation:\n",
    "    def __init__(self, X2, W2, classifier):\n",
    "        assert len(X2) == len(W2) # Make sure n2= m2\n",
    "        self.m2 = len(X2)\n",
    "        self.n2 = len(W2)\n",
    "        self.n_union = self.m2 + self.n2\n",
    "\n",
    "        self.X2 = X2\n",
    "        self.W2 = W2\n",
    "        self.union = np.concatenate((self.X2, self.W2))\n",
    "\n",
    "        self.h_X2 = h_hat(classifier, self.X2)\n",
    "        self.h_W2 = h_hat(classifier, self.W2)\n",
    "        self.h_union = h_hat(classifier, self.union)\n",
    "\n",
    "\n",
    "        self.lrt_exp = lrt(self.h_W2)\n",
    "        self.auc_exp = auc(self.h_W2, self.h_X2)\n",
    "        self.mce_exp = mce(self.h_W2, self.h_X2)\n",
    "\n",
    "    def bootstrap(self, n):\n",
    "        lrt_null = np.zeros(n)\n",
    "        auc_null = np.zeros(n)\n",
    "        mce_null = np.zeros(n)\n",
    "        for i in tqdm(range(n)):\n",
    "            lrt_null[i] = lrt(self.h_union[np.random.randint(0, self.n_union, self.n2)])\n",
    "            auc_null[i] = auc(self.h_union[np.random.randint(0, self.n_union, self.n2)], self.h_union[np.random.randint(0, self.n_union, self.m2)])\n",
    "            mce_null[i] = mce(self.h_union[np.random.randint(0, self.n_union, self.n2)], self.h_union[np.random.randint(0, self.n_union, self.m2)])\n",
    "        # P-value\n",
    "        if self.lrt_exp > np.mean(lrt_null):\n",
    "            lrt_p = np.mean(lrt_null > self.lrt_exp)\n",
    "        else:\n",
    "            lrt_p = np.mean(lrt_null < self.lrt_exp)\n",
    "        if self.auc_exp > np.mean(auc_null):\n",
    "            auc_p = np.mean(auc_null > self.auc_exp)\n",
    "        else:\n",
    "            auc_p = np.mean(auc_null < self.auc_exp)\n",
    "        if self.mce_exp > np.mean(mce_null):\n",
    "            mce_p = np.mean(mce_null > self.mce_exp)\n",
    "        else:\n",
    "            mce_p = np.mean(mce_null < self.mce_exp)\n",
    "        self.lrt_p_bootstrap = lrt_p\n",
    "        self.auc_p_bootstrap = auc_p\n",
    "        self.mce_p_bootstrap = mce_p\n",
    "        return lrt_null, auc_null, mce_null\n",
    "        \n",
    "    def permutation(self, n):\n",
    "        lrt_null = np.zeros(n)\n",
    "        auc_null = np.zeros(n)\n",
    "        mce_null = np.zeros(n)\n",
    "        \n",
    "        for i in tqdm(range(n)):\n",
    "            sample1 = self.h_union.copy()\n",
    "            sample2 = self.h_union.copy()\n",
    "            np.random.shuffle(sample1)\n",
    "            np.random.shuffle(sample2)\n",
    "            lrt_null[i] = lrt(self.h_union[np.random.choice(self.n_union, self.n2, replace=False)])\n",
    "            auc_null[i] = auc(sample1[:self.n2], sample1[self.n2:])\n",
    "            mce_null[i] = mce(sample2[:self.n2], sample2[self.n2:])\n",
    "        # P-value\n",
    "        if self.lrt_exp > np.mean(lrt_null):\n",
    "            lrt_p = np.mean(lrt_null > self.lrt_exp)\n",
    "        else:\n",
    "            lrt_p = np.mean(lrt_null < self.lrt_exp)\n",
    "        if self.auc_exp > np.mean(auc_null):\n",
    "            auc_p = np.mean(auc_null > self.auc_exp)\n",
    "        else:\n",
    "            auc_p = np.mean(auc_null < self.auc_exp)\n",
    "        if self.mce_exp > np.mean(mce_null):\n",
    "            mce_p = np.mean(mce_null > self.mce_exp)\n",
    "        else:\n",
    "            mce_p = np.mean(mce_null < self.mce_exp)\n",
    "        self.lrt_p_permutation = lrt_p\n",
    "        self.auc_p_permutation = auc_p\n",
    "        self.mce_p_permutation = mce_p\n",
    "        \n",
    "        return lrt_null, auc_null, mce_null"
   ]
  },
  {
   "cell_type": "code",
   "execution_count": 149,
   "metadata": {},
   "outputs": [],
   "source": [
    "bootstrap_permutation = Bootstrap_Permutation(X2, W2, naive_model)"
   ]
  },
  {
   "cell_type": "code",
   "execution_count": 150,
   "metadata": {},
   "outputs": [
    {
     "name": "stderr",
     "output_type": "stream",
     "text": [
      "100%|██████████| 10000/10000 [23:15<00:00,  7.17it/s]\n"
     ]
    }
   ],
   "source": [
    "lrt_null_bootstarp, auc_null_bootstarp, mce_null_bootstarp = bootstrap_permutation.bootstrap(10000)"
   ]
  },
  {
   "cell_type": "code",
   "execution_count": 151,
   "metadata": {},
   "outputs": [
    {
     "name": "stderr",
     "output_type": "stream",
     "text": [
      "100%|██████████| 10000/10000 [23:42<00:00,  7.03it/s]\n"
     ]
    }
   ],
   "source": [
    "lrt_null_permutation, auc_null_permutation, mce_null_permutation = bootstrap_permutation.permutation(10000)"
   ]
  },
  {
   "cell_type": "code",
   "execution_count": 152,
   "metadata": {},
   "outputs": [
    {
     "data": {
      "image/png": "[encoded data removed]",
      "text/plain": [
       "<Figure size 640x480 with 1 Axes>"
      ]
     },
     "metadata": {},
     "output_type": "display_data"
    }
   ],
   "source": [
    "plt.hist(mce_null_bootstarp, bins=50, alpha=0.5, edgecolor='black', label=\"bootstrap p value = {}\".format(bootstrap_permutation.mce_p_bootstrap))\n",
    "plt.hist(mce_null_permutation, bins=50, alpha=0.5, edgecolor='black', label=\"permutation p value = {}\".format(bootstrap_permutation.mce_p_permutation))\n",
    "plt.axvline(bootstrap_permutation.mce_exp, color='r', label=\"exp\")\n",
    "plt.legend()\n",
    "plt.title(\"MCE Null Distribution lambda = {}\".format(sig_lambda))\n",
    "plt.show()"
   ]
  },
  {
   "cell_type": "code",
   "execution_count": 153,
   "metadata": {},
   "outputs": [
    {
     "data": {
      "image/png": "[encoded data removed]",
      "text/plain": [
       "<Figure size 640x480 with 1 Axes>"
      ]
     },
     "metadata": {},
     "output_type": "display_data"
    }
   ],
   "source": [
    "plt.hist(lrt_null_bootstarp, bins=50, alpha=0.5, edgecolor='black', label=\"bootstrap p value = {}\".format(bootstrap_permutation.lrt_p_bootstrap))\n",
    "plt.hist(lrt_null_permutation, bins=50, alpha=0.5, edgecolor='black', label=\"permutation p value = {}\".format(bootstrap_permutation.lrt_p_permutation))\n",
    "plt.axvline(bootstrap_permutation.lrt_exp, color='r', label=\"exp\")\n",
    "plt.legend()\n",
    "plt.title(\"LRT Null Distribution lambda = {}\".format(sig_lambda))\n",
    "plt.show()"
   ]
  },
  {
   "cell_type": "code",
   "execution_count": 154,
   "metadata": {},
   "outputs": [
    {
     "data": {
      "image/png": "[encoded data removed]",
      "text/plain": [
       "<Figure size 640x480 with 1 Axes>"
      ]
     },
     "metadata": {},
     "output_type": "display_data"
    }
   ],
   "source": [
    "plt.hist(auc_null_bootstarp, bins=50, alpha=0.5, edgecolor='black', label=\"bootstrap p value = {}\".format(bootstrap_permutation.auc_p_bootstrap))\n",
    "plt.hist(auc_null_permutation, bins=50, alpha=0.5, edgecolor='black', label=\"permutation p value = {}\".format(bootstrap_permutation.auc_p_permutation))\n",
    "plt.axvline(bootstrap_permutation.auc_exp, color='r', label=\"exp\")\n",
    "plt.legend()\n",
    "plt.title(\"AUC Null Distribution lambda = {}\".format(sig_lambda))\n",
    "plt.show()"
   ]
  },
  {
   "cell_type": "code",
   "execution_count": 304,
   "metadata": {},
   "outputs": [],
   "source": [
    "from scipy.optimize import curve_fit\n",
    "class LambdaEstimator:\n",
    "    def __init__(self, X2, W2, classifier, T=0.5, n_bins=20):\n",
    "        assert len(X2) == len(W2) # Make sure n2= m2\n",
    "        self.m2 = len(X2)\n",
    "        self.n2 = len(W2)\n",
    "\n",
    "        self.X2 = X2\n",
    "        self.W2 = W2\n",
    "\n",
    "        self.h_X2 = h_hat(classifier, self.X2)\n",
    "        self.h_W2 = h_hat(classifier, self.W2)\n",
    "        result = h_X2[:, None] > h_W2[None, :]\n",
    "        self.rho_W = np.sum(result, axis=0) / m2\n",
    "        self.T = T\n",
    "        self.bins = np.linspace(0, 1, n_bins+1)\n",
    "        self.H_t = np.histogram(self.rho_W, bins=self.bins, density=True)[0]\n",
    "        assert T in self.bins\n",
    "        self.fit_start_idx = np.where(self.bins == T)[0][0]\n",
    "        # fit a Poisson regression f(t) = exp(β0+ β1t)\n",
    "        def poisson(t, beta0, beta1):\n",
    "            return np.exp(beta0 + beta1 * t)\n",
    "        opt, cov = curve_fit(poisson, self.bins[self.fit_start_idx:], self.H_t[self.fit_start_idx-1:])\n",
    "        self.beta0, self.beta1 = opt\n",
    "        # Constrain β1 ≤ 0\n",
    "        self.beta1 = min(self.beta1, 0)\n",
    "        self.estimated_H_t = poisson(self.bins[self.fit_start_idx:], self.beta0, self.beta1)\n",
    "        self.estimated_lambda = 1 - poisson(1, self.beta0, self.beta1)"
   ]
  },
  {
   "cell_type": "code",
   "execution_count": 308,
   "metadata": {},
   "outputs": [
    {
     "name": "stdout",
     "output_type": "stream",
     "text": [
      "estimated lambda: 0.7968221729046869\n",
      "beta 0 = -1.0680250516113385, beta 1 = -0.5256486362457699\n",
      "last bin height: 0.20317782709531304\n"
     ]
    },
    {
     "data": {
      "image/png": "[encoded data removed]",
      "text/plain": [
       "<Figure size 640x480 with 1 Axes>"
      ]
     },
     "metadata": {},
     "output_type": "display_data"
    }
   ],
   "source": [
    "lambda_estimator = LambdaEstimator(X2, W2, naive_model, T=0.5, n_bins=20)\n",
    "print(\"estimated lambda:\", lambda_estimator.estimated_lambda)\n",
    "print(\"beta 0 = {}, beta 1 = {}\".format(lambda_estimator.beta0, lambda_estimator.beta1))\n",
    "print(\"last bin height:\", lambda_estimator.estimated_H_t[-1])\n",
    "plt.hist(lambda_estimator.rho_W, bins=lambda_estimator.bins, alpha=0.5, edgecolor='black', density=True)\n",
    "start_idx = lambda_estimator.fit_start_idx\n",
    "plt.plot(lambda_estimator.bins[start_idx:], lambda_estimator.estimated_H_t, label=\"Estimated\")\n",
    "plt.plot(lambda_estimator.bins[1:], lambda_estimator.H_t, '*',label=\"True\")\n",
    "plt.legend()\n",
    "plt.title(\"Estimated Lambda\")\n",
    "plt.show()"
   ]
  },
  {
   "cell_type": "code",
   "execution_count": 255,
   "metadata": {},
   "outputs": [
    {
     "data": {
      "image/png": "[encoded data removed]",
      "text/plain": [
       "<Figure size 1000x100 with 1 Axes>"
      ]
     },
     "metadata": {},
     "output_type": "display_data"
    }
   ],
   "source": [
    "n = 10\n",
    "datasets = np.concatenate([np.zeros(n), np.ones(n)])\n",
    "# sample = datasets[np.random.randint(0, 2*n, 2*n)]\n",
    "sample = datasets[np.random.choice(2*n, 2*n, replace=False)]\n",
    "colors = ['#5C9BD5' if x == 0 else '#70AD47' for x in sample]\n",
    "\n",
    "\n",
    "plt.figure(figsize=(10, 1))\n",
    "plt.bar(range(len(sample)), np.ones(len(sample)), color=colors, edgecolor='black', width=1.0)\n",
    "plt.ylim(0, 1)\n",
    "plt.xlim(-0.5, len(sample) - 0.5)\n",
    "plt.xticks([])\n",
    "plt.yticks([]) \n",
    "\n",
    "plt.show()\n"
   ]
  },
  {
   "cell_type": "code",
   "execution_count": null,
   "metadata": {},
   "outputs": [],
   "source": []
  },
  {
   "cell_type": "code",
   "execution_count": null,
   "metadata": {},
   "outputs": [],
   "source": []
  }
 ],
 "metadata": {
  "kernelspec": {
   "display_name": "ad",
   "language": "python",
   "name": "python3"
  },
  "language_info": {
   "codemirror_mode": {
    "name": "ipython",
    "version": 3
   },
   "file_extension": ".py",
   "mimetype": "text/x-python",
   "name": "python",
   "nbconvert_exporter": "python",
   "pygments_lexer": "ipython3",
   "version": "3.11.8"
  }
 },
 "nbformat": 4,
 "nbformat_minor": 2
}
