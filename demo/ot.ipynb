{
 "cells": [
  {
   "cell_type": "code",
   "execution_count": 1,
   "metadata": {},
   "outputs": [],
   "source": [
    "import ot\n",
    "import geomloss\n",
    "import numpy as np\n",
    "import sys\n",
    "import torch\n",
    "from scipy.spatial.distance import cdist\n",
    "\n",
    "sys.path.append(\"..\") \n",
    "\n",
    "from ot.lp import emd_c\n",
    "from data_loader import get_database_path, get_h5_files, read_h5_file\n",
    "from emd import emd_pot, process_event\n",
    "\n",
    "np.random.seed(114514)\n"
   ]
  },
  {
   "cell_type": "code",
   "execution_count": 2,
   "metadata": {},
   "outputs": [],
   "source": [
    "database_path = get_database_path()\n",
    "bkg_files, sig_files = get_h5_files()\n",
    "\n",
    "bkg = read_h5_file(database_path, bkg_files[0]['file'])['Particles']\n",
    "# SM processes\n"
   ]
  },
  {
   "cell_type": "code",
   "execution_count": 3,
   "metadata": {},
   "outputs": [
    {
     "name": "stdout",
     "output_type": "stream",
     "text": [
      "(19, 3)\n",
      "[27.41296387 24.20996857  0.          0.          0.          0.\n",
      "  0.          0.          0.          0.          0.          0.\n",
      "  0.          0.          0.          0.          0.          0.\n",
      "  0.        ]\n",
      "(19, 19)\n",
      "[[0.30105019 3.08901166 2.0499022  2.0499022  2.0499022  2.0499022\n",
      "  2.0499022  2.0499022  2.0499022  2.0499022  2.0499022  2.0499022\n",
      "  2.0499022  2.0499022  2.0499022  2.0499022  2.0499022  2.0499022\n",
      "  2.0499022 ]\n",
      " [2.31852337 1.60509428 1.63678538 1.63678538 1.63678538 1.63678538\n",
      "  1.63678538 1.63678538 1.63678538 1.63678538 1.63678538 1.63678538\n",
      "  1.63678538 1.63678538 1.63678538 1.63678538 1.63678538 1.63678538\n",
      "  1.63678538]\n",
      " [1.74885201 1.10801236 0.         0.         0.         0.\n",
      "  0.         0.         0.         0.         0.         0.\n",
      "  0.         0.         0.         0.         0.         0.\n",
      "  0.        ]\n",
      " [1.74885201 1.10801236 0.         0.         0.         0.\n",
      "  0.         0.         0.         0.         0.         0.\n",
      "  0.         0.         0.         0.         0.         0.\n",
      "  0.        ]\n",
      " [1.74885201 1.10801236 0.         0.         0.         0.\n",
      "  0.         0.         0.         0.         0.         0.\n",
      "  0.         0.         0.         0.         0.         0.\n",
      "  0.        ]\n",
      " [1.74885201 1.10801236 0.         0.         0.         0.\n",
      "  0.         0.         0.         0.         0.         0.\n",
      "  0.         0.         0.         0.         0.         0.\n",
      "  0.        ]\n",
      " [1.74885201 1.10801236 0.         0.         0.         0.\n",
      "  0.         0.         0.         0.         0.         0.\n",
      "  0.         0.         0.         0.         0.         0.\n",
      "  0.        ]\n",
      " [1.74885201 1.10801236 0.         0.         0.         0.\n",
      "  0.         0.         0.         0.         0.         0.\n",
      "  0.         0.         0.         0.         0.         0.\n",
      "  0.        ]\n",
      " [1.74885201 1.10801236 0.         0.         0.         0.\n",
      "  0.         0.         0.         0.         0.         0.\n",
      "  0.         0.         0.         0.         0.         0.\n",
      "  0.        ]\n",
      " [1.74885201 1.10801236 0.         0.         0.         0.\n",
      "  0.         0.         0.         0.         0.         0.\n",
      "  0.         0.         0.         0.         0.         0.\n",
      "  0.        ]\n",
      " [1.74885201 1.10801236 0.         0.         0.         0.\n",
      "  0.         0.         0.         0.         0.         0.\n",
      "  0.         0.         0.         0.         0.         0.\n",
      "  0.        ]\n",
      " [1.74885201 1.10801236 0.         0.         0.         0.\n",
      "  0.         0.         0.         0.         0.         0.\n",
      "  0.         0.         0.         0.         0.         0.\n",
      "  0.        ]\n",
      " [1.74885201 1.10801236 0.         0.         0.         0.\n",
      "  0.         0.         0.         0.         0.         0.\n",
      "  0.         0.         0.         0.         0.         0.\n",
      "  0.        ]\n",
      " [1.74885201 1.10801236 0.         0.         0.         0.\n",
      "  0.         0.         0.         0.         0.         0.\n",
      "  0.         0.         0.         0.         0.         0.\n",
      "  0.        ]\n",
      " [1.74885201 1.10801236 0.         0.         0.         0.\n",
      "  0.         0.         0.         0.         0.         0.\n",
      "  0.         0.         0.         0.         0.         0.\n",
      "  0.        ]\n",
      " [1.74885201 1.10801236 0.         0.         0.         0.\n",
      "  0.         0.         0.         0.         0.         0.\n",
      "  0.         0.         0.         0.         0.         0.\n",
      "  0.        ]\n",
      " [1.74885201 1.10801236 0.         0.         0.         0.\n",
      "  0.         0.         0.         0.         0.         0.\n",
      "  0.         0.         0.         0.         0.         0.\n",
      "  0.        ]\n",
      " [1.74885201 1.10801236 0.         0.         0.         0.\n",
      "  0.         0.         0.         0.         0.         0.\n",
      "  0.         0.         0.         0.         0.         0.\n",
      "  0.        ]\n",
      " [1.74885201 1.10801236 0.         0.         0.         0.\n",
      "  0.         0.         0.         0.         0.         0.\n",
      "  0.         0.         0.         0.         0.         0.\n",
      "  0.        ]]\n"
     ]
    }
   ],
   "source": [
    "test_target_event = bkg[0][:,:3]\n",
    "test_source_event = bkg[1][:,:3]\n",
    "print(test_target_event.shape)\n",
    "pt_target, coords_target = process_event(test_target_event)\n",
    "pt_source, coords_source = process_event(test_source_event)\n",
    "\n",
    "print(pt_target)\n",
    "dist_matrix = cdist(coords_target, coords_source)\n",
    "print(dist_matrix.shape)\n"
   ]
  },
  {
   "cell_type": "code",
   "execution_count": 4,
   "metadata": {},
   "outputs": [
    {
     "name": "stdout",
     "output_type": "stream",
     "text": [
      "0.9220382083207681\n"
     ]
    }
   ],
   "source": [
    "print(emd_pot(test_target_event, test_source_event))"
   ]
  },
  {
   "cell_type": "code",
   "execution_count": null,
   "metadata": {},
   "outputs": [],
   "source": []
  }
 ],
 "metadata": {
  "kernelspec": {
   "display_name": "ad",
   "language": "python",
   "name": "python3"
  },
  "language_info": {
   "codemirror_mode": {
    "name": "ipython",
    "version": 3
   },
   "file_extension": ".py",
   "mimetype": "text/x-python",
   "name": "python",
   "nbconvert_exporter": "python",
   "pygments_lexer": "ipython3",
   "version": "3.11.8"
  }
 },
 "nbformat": 4,
 "nbformat_minor": 2
}
