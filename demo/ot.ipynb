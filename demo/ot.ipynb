{
 "cells": [
  {
   "cell_type": "code",
   "execution_count": 13,
   "metadata": {},
   "outputs": [],
   "source": [
    "import ot\n",
    "import geomloss\n",
    "import numpy as np\n",
    "import sys\n",
    "import torch\n",
    "sys.path.append(\"..\") \n",
    "\n",
    "from ot.lp import emd_c\n",
    "from data_loader import get_database_path, get_h5_files, read_h5_file\n",
    "\n",
    "np.random.seed(114514)\n"
   ]
  },
  {
   "cell_type": "code",
   "execution_count": 4,
   "metadata": {},
   "outputs": [],
   "source": [
    "database_path = get_database_path()\n",
    "bkg_files, sig_files = get_h5_files()\n",
    "\n",
    "bkg = read_h5_file(database_path, bkg_files[0]['file'])['Particles']\n",
    "# SM processes\n"
   ]
  },
  {
   "cell_type": "code",
   "execution_count": 12,
   "metadata": {},
   "outputs": [
    {
     "name": "stdout",
     "output_type": "stream",
     "text": [
      "2\n",
      "4\n"
     ]
    }
   ],
   "source": [
    "print(len(bkg[0].shape))\n",
    "print(bkg[0].shape[-1])"
   ]
  },
  {
   "cell_type": "code",
   "execution_count": 14,
   "metadata": {},
   "outputs": [
    {
     "name": "stdout",
     "output_type": "stream",
     "text": [
      "tensor([[-1.0113, -0.5193],\n",
      "        [-0.3274,  0.9711],\n",
      "        [ 0.5783,  0.4289]])\n"
     ]
    }
   ],
   "source": [
    "print(torch.randn(3,2))"
   ]
  },
  {
   "cell_type": "code",
   "execution_count": null,
   "metadata": {},
   "outputs": [],
   "source": []
  }
 ],
 "metadata": {
  "kernelspec": {
   "display_name": "ad",
   "language": "python",
   "name": "python3"
  },
  "language_info": {
   "codemirror_mode": {
    "name": "ipython",
    "version": 3
   },
   "file_extension": ".py",
   "mimetype": "text/x-python",
   "name": "python",
   "nbconvert_exporter": "python",
   "pygments_lexer": "ipython3",
   "version": "3.11.8"
  }
 },
 "nbformat": 4,
 "nbformat_minor": 2
}
