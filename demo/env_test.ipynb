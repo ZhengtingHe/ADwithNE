{
 "cells": [
  {
   "cell_type": "code",
   "execution_count": 2,
   "metadata": {
    "ExecuteTime": {
     "end_time": "2024-04-19T18:01:59.518973400Z",
     "start_time": "2024-04-19T18:01:59.505424700Z"
    }
   },
   "outputs": [
    {
     "name": "stdout",
     "output_type": "stream",
     "text": [
      "CUDA is available\n",
      "12.1\n",
      "Number of GPUs available: 1\n",
      "GPU name: NVIDIA GeForce RTX 4070\n",
      "Time taken for mm operation on GPU: 8.630752563476562e-05 seconds\n"
     ]
    }
   ],
   "source": [
    "import torch\n",
    "import time\n",
    "\n",
    "import torch.version\n",
    "\n",
    "if torch.cuda.is_available():\n",
    "    print(\"CUDA is available\")\n",
    "    print(\"Torch version: \",torch.version.cuda)\n",
    "    print(\"Number of GPUs available:\", torch.cuda.device_count())\n",
    "    print(\"GPU name:\", torch.cuda.get_device_name(0))\n",
    "else:\n",
    "    print(\"CUDA is not available\")\n",
    "\n",
    "size = 1024\n",
    "device = torch.device(\"cuda\")\n",
    "\n",
    "\n",
    "x = torch.rand(size, size).to(device)\n",
    "y = torch.rand(size, size).to(device)\n",
    "\n",
    "start = time.time()\n",
    "result = torch.mm(x, y)\n",
    "end = time.time()\n",
    "\n",
    "print(\"Time taken for mm operation on GPU:\", end - start, \"seconds\")"
   ]
  },
  {
   "cell_type": "code",
   "execution_count": null,
   "metadata": {},
   "outputs": [],
   "source": []
  }
 ],
 "metadata": {
  "kernelspec": {
   "display_name": "ad",
   "language": "python",
   "name": "python3"
  },
  "language_info": {
   "codemirror_mode": {
    "name": "ipython",
    "version": 3
   },
   "file_extension": ".py",
   "mimetype": "text/x-python",
   "name": "python",
   "nbconvert_exporter": "python",
   "pygments_lexer": "ipython3",
   "version": "3.11.8"
  }
 },
 "nbformat": 4,
 "nbformat_minor": 2
}
