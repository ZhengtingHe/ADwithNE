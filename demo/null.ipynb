{
 "cells": [
  {
   "cell_type": "code",
   "execution_count": 1,
   "metadata": {},
   "outputs": [],
   "source": [
    "import torch\n",
    "from torch import nn\n",
    "import numpy as np\n",
    "import sys\n",
    "import os\n",
    "import pandas as pd\n",
    "from torch.utils.data import Dataset, DataLoader\n",
    "from tqdm import tqdm\n",
    "import importlib\n",
    "\n",
    "sys.path.append(\"..\")\n",
    "from model import ParticleEventTransformer\n",
    "from data import get_database_path, get_h5_files, read_h5_file, select_events\n",
    "from utils import load_toml_config\n",
    "\n",
    "import matplotlib.pyplot as plt\n",
    "\n",
    "\n",
    "device = \"cuda\" if torch.cuda.is_available() else \"mps\" if sys.platform == \"darwin\" else \"cpu\"\n",
    "random_seed = 114514\n",
    "torch.manual_seed(random_seed)\n",
    "np.random.seed(random_seed)"
   ]
  },
  {
   "cell_type": "code",
   "execution_count": 2,
   "metadata": {},
   "outputs": [],
   "source": [
    "EMD_config = load_toml_config(\"EMD\")\n",
    "particle_type_scale = EMD_config['particle_type_scale']"
   ]
  },
  {
   "cell_type": "markdown",
   "metadata": {},
   "source": [
    "# Load raw events"
   ]
  },
  {
   "cell_type": "code",
   "execution_count": 3,
   "metadata": {},
   "outputs": [
    {
     "name": "stdout",
     "output_type": "stream",
     "text": [
      "SM (13451915, 19, 4)\n",
      "neutral_boson (55969, 19, 4)\n",
      "leptoquark (340544, 19, 4)\n",
      "neutral_Higgs (691283, 19, 4)\n",
      "charged_Higgs (760272, 19, 4)\n"
     ]
    }
   ],
   "source": [
    "files = load_toml_config(\"file\")\n",
    "database_path = get_database_path()\n",
    "bkg_files, sig_files = get_h5_files()\n",
    "\n",
    "# bkg = read_h5_file(database_path, files[\"SM\"])\n",
    "# # SM processes\n",
    "\n",
    "# neutral_boson = read_h5_file(database_path, files[\"neutral_boson\"])\n",
    "# print(neutral_boson.shape)\n",
    "# # A neutral scalar boson (A) with mass 50 GeV, decaying to two off-shell Z bosons, each forced to decay to two leptons: A → 4l\n",
    "\n",
    "# leptoquark = read_h5_file(database_path, files[\"leptoquark\"])\n",
    "# print(leptoquark.shape)\n",
    "# # A leptoquark (LQ) with mass 80 GeV, decaying to a b quark and a τ lepton24\n",
    "\n",
    "# neutral_Higgs = read_h5_file(database_path, files[\"neutral_Higgs\"])\n",
    "# print(neutral_Higgs.shape)\n",
    "# # A scalar boson with mass 60 GeV, decaying to two tau leptons: h0→ ττ\n",
    "\n",
    "# charged_Higgs = read_h5_file(database_path, files[\"charged_Higgs\"])\n",
    "# print(charged_Higgs.shape)\n",
    "# # A charged scalar boson with mass 60 GeV, decaying to a tau lepton and a neutrino\n",
    "\n",
    "events = {}\n",
    "for key, value in files.items():\n",
    "    events[key] = read_h5_file(database_path, value)\n",
    "    print(key, events[key].shape)"
   ]
  },
  {
   "cell_type": "code",
   "execution_count": 4,
   "metadata": {},
   "outputs": [
    {
     "name": "stdout",
     "output_type": "stream",
     "text": [
      "['neutral_boson', 'leptoquark', 'neutral_Higgs', 'charged_Higgs']\n"
     ]
    }
   ],
   "source": [
    "signals = [key for key in events.keys() if key != \"SM\"]\n",
    "print(signals)"
   ]
  },
  {
   "cell_type": "markdown",
   "metadata": {},
   "source": [
    "# Load embedding model"
   ]
  },
  {
   "cell_type": "code",
   "execution_count": 5,
   "metadata": {},
   "outputs": [
    {
     "name": "stdout",
     "output_type": "stream",
     "text": [
      "{'feature_size': 3, 'embed_size': 16, 'num_heads': 8, 'num_layers': 4, 'hidden_dim': 256, 'output_dim': 4}\n"
     ]
    },
    {
     "name": "stderr",
     "output_type": "stream",
     "text": [
      "/home/desmondhe/anaconda3/envs/ad/lib/python3.11/site-packages/torch/nn/modules/transformer.py:286: UserWarning: enable_nested_tensor is True, but self.use_nested_tensor is False because encoder_layer.self_attn.batch_first was not True(use batch_first for better inference performance)\n",
      "  warnings.warn(f\"enable_nested_tensor is True, but self.use_nested_tensor is False because {why_not_sparsity_fast_path}\")\n"
     ]
    },
    {
     "data": {
      "text/plain": [
       "ParticleEventTransformer(\n",
       "  (particle_embedding): Linear(in_features=3, out_features=16, bias=True)\n",
       "  (pos_encoder): ParticlePositionalEncoding()\n",
       "  (transformer_encoder): TransformerEncoder(\n",
       "    (layers): ModuleList(\n",
       "      (0-3): 4 x TransformerEncoderLayer(\n",
       "        (self_attn): MultiheadAttention(\n",
       "          (out_proj): NonDynamicallyQuantizableLinear(in_features=16, out_features=16, bias=True)\n",
       "        )\n",
       "        (linear1): Linear(in_features=16, out_features=256, bias=True)\n",
       "        (dropout): Dropout(p=0.1, inplace=False)\n",
       "        (linear2): Linear(in_features=256, out_features=16, bias=True)\n",
       "        (norm1): LayerNorm((16,), eps=1e-05, elementwise_affine=True)\n",
       "        (norm2): LayerNorm((16,), eps=1e-05, elementwise_affine=True)\n",
       "        (dropout1): Dropout(p=0.1, inplace=False)\n",
       "        (dropout2): Dropout(p=0.1, inplace=False)\n",
       "      )\n",
       "    )\n",
       "  )\n",
       "  (output_layer): Linear(in_features=304, out_features=4, bias=True)\n",
       ")"
      ]
     },
     "execution_count": 5,
     "metadata": {},
     "output_type": "execute_result"
    }
   ],
   "source": [
    "model_hyper_parameters = load_toml_config(\"Transformer\")\n",
    "print(model_hyper_parameters)\n",
    "feature_size = model_hyper_parameters[\"feature_size\"]\n",
    "embed_size = model_hyper_parameters[\"embed_size\"]\n",
    "num_heads = model_hyper_parameters[\"num_heads\"]\n",
    "num_layers = model_hyper_parameters[\"num_layers\"]\n",
    "hidden_dim = model_hyper_parameters[\"hidden_dim\"]\n",
    "output_dim = model_hyper_parameters[\"output_dim\"]\n",
    "\n",
    "embedding_model = ParticleEventTransformer(feature_size, embed_size, num_heads, hidden_dim, output_dim, num_layers)\n",
    "model_name = \"emb_dim{}_type_scale{}.pt\".format(output_dim, particle_type_scale) if EMD_config['pid_method'] == 'one-hot' else \"emb_dim{}_sep.pt\".format(output_dim)\n",
    "embedding_model.load_state_dict(torch.load(os.path.join(\"..\", \"model\", model_name)))\n",
    "embedding_model.to(device)"
   ]
  },
  {
   "cell_type": "markdown",
   "metadata": {},
   "source": [
    "# Embed events"
   ]
  },
  {
   "cell_type": "code",
   "execution_count": 6,
   "metadata": {},
   "outputs": [],
   "source": [
    "from analysis import inference"
   ]
  },
  {
   "cell_type": "code",
   "execution_count": 7,
   "metadata": {},
   "outputs": [],
   "source": [
    "from data import EventDataset"
   ]
  },
  {
   "cell_type": "code",
   "execution_count": 8,
   "metadata": {},
   "outputs": [],
   "source": [
    "# infer_test_num = 1000000\n",
    "# dataloaders = {}\n",
    "# for key, value in events.items():\n",
    "#     dataloaders[key] = DataLoader(EventDataset(value[:infer_test_num]), batch_size=256, num_workers=16, prefetch_factor=5)\n",
    "\n",
    "dataloaders = {}\n",
    "for key, value in events.items():\n",
    "    dataloaders[key] = DataLoader(EventDataset(value), batch_size=256, num_workers=16, prefetch_factor=5)"
   ]
  },
  {
   "cell_type": "code",
   "execution_count": 9,
   "metadata": {},
   "outputs": [
    {
     "name": "stderr",
     "output_type": "stream",
     "text": [
      "100%|██████████| 52547/52547 [01:45<00:00, 496.39it/s]\n"
     ]
    },
    {
     "name": "stdout",
     "output_type": "stream",
     "text": [
      "SM (13451915, 4)\n"
     ]
    },
    {
     "name": "stderr",
     "output_type": "stream",
     "text": [
      "100%|██████████| 219/219 [00:01<00:00, 140.56it/s]\n"
     ]
    },
    {
     "name": "stdout",
     "output_type": "stream",
     "text": [
      "neutral_boson (55969, 4)\n"
     ]
    },
    {
     "name": "stderr",
     "output_type": "stream",
     "text": [
      "100%|██████████| 1331/1331 [00:03<00:00, 346.41it/s]\n"
     ]
    },
    {
     "name": "stdout",
     "output_type": "stream",
     "text": [
      "leptoquark (340544, 4)\n"
     ]
    },
    {
     "name": "stderr",
     "output_type": "stream",
     "text": [
      "100%|██████████| 2701/2701 [00:06<00:00, 412.69it/s]\n"
     ]
    },
    {
     "name": "stdout",
     "output_type": "stream",
     "text": [
      "neutral_Higgs (691283, 4)\n"
     ]
    },
    {
     "name": "stderr",
     "output_type": "stream",
     "text": [
      "100%|██████████| 2970/2970 [00:07<00:00, 421.92it/s]"
     ]
    },
    {
     "name": "stdout",
     "output_type": "stream",
     "text": [
      "charged_Higgs (760272, 4)\n"
     ]
    },
    {
     "name": "stderr",
     "output_type": "stream",
     "text": [
      "\n"
     ]
    }
   ],
   "source": [
    "embedding_points = {}\n",
    "\n",
    "for key, value in dataloaders.items():\n",
    "    embedding_points[key] = inference(embedding_model, value, embed_dim=output_dim)\n",
    "    print(key, embedding_points[key].shape)"
   ]
  },
  {
   "cell_type": "code",
   "execution_count": 10,
   "metadata": {},
   "outputs": [],
   "source": [
    "from analysis import Normalizer"
   ]
  },
  {
   "cell_type": "code",
   "execution_count": 11,
   "metadata": {},
   "outputs": [],
   "source": [
    "normalizer = Normalizer(*[value for value in embedding_points.values()])"
   ]
  },
  {
   "cell_type": "code",
   "execution_count": 12,
   "metadata": {},
   "outputs": [
    {
     "name": "stdout",
     "output_type": "stream",
     "text": [
      "[369.1842041  370.31808472 327.48770142 326.72790527]\n",
      "[-377.18408203 -356.34307861 -320.93734741 -340.06167603]\n"
     ]
    }
   ],
   "source": [
    "print(normalizer.max)\n",
    "print(normalizer.min)"
   ]
  },
  {
   "cell_type": "markdown",
   "metadata": {},
   "source": [
    "# Split embed points"
   ]
  },
  {
   "cell_type": "code",
   "execution_count": 13,
   "metadata": {},
   "outputs": [],
   "source": [
    "from analysis import train_test_split, get_dataloaders"
   ]
  },
  {
   "cell_type": "code",
   "execution_count": 14,
   "metadata": {},
   "outputs": [],
   "source": [
    "test_ratio=0.2\n",
    "val_ratio = 0.2\n",
    "sig_lambda = 0.5\n",
    "n = 200000\n",
    "\n",
    "# test_signal = \"neutral_boson\"\n",
    "# test_signal = \"leptoquark\"\n",
    "test_signal = \"neutral_Higgs\"\n",
    "# test_signal = \"charged_Higgs\"\n",
    "\n",
    "selected_idx = np.random.choice(len(embedding_points['SM']), 2 * n, replace=False)\n",
    "exp_events = embedding_points['SM'][selected_idx[:n]]\n",
    "bkg_events = embedding_points['SM'][selected_idx[n:]]\n",
    "X1, X2, W1, W2 = train_test_split(exp_events, bkg_events, test_ratio)\n",
    "n1 = len(W1)\n",
    "m1 = len(X1)\n",
    "pi = n1 / (n1 + m1)\n",
    "n2 = len(W2)\n",
    "m2 = len(X2)\n",
    "train_dataloader, val_dataloader = get_dataloaders(X1, W1, val_ratio, normalizer, train_batch_size=256)"
   ]
  },
  {
   "cell_type": "markdown",
   "metadata": {},
   "source": [
    "# Classify Model"
   ]
  },
  {
   "cell_type": "code",
   "execution_count": 15,
   "metadata": {},
   "outputs": [],
   "source": [
    "from model import MLP\n",
    "hidden_dim = [8, 16, 16, 16, 8]\n",
    "naive_model = MLP(output_dim, hidden_sizes=hidden_dim)"
   ]
  },
  {
   "cell_type": "markdown",
   "metadata": {},
   "source": [
    "# Train"
   ]
  },
  {
   "cell_type": "code",
   "execution_count": 16,
   "metadata": {},
   "outputs": [],
   "source": [
    "from metrics import BinaryACCUpdater"
   ]
  },
  {
   "cell_type": "code",
   "execution_count": 17,
   "metadata": {},
   "outputs": [],
   "source": [
    "naive_model.to(device)\n",
    "optimizer = torch.optim.Adam(naive_model.parameters(), lr=1e-3, weight_decay=1e-5)\n",
    "loss_fn = nn.BCELoss()\n",
    "acc_metric = BinaryACCUpdater()\n",
    "metric_dict = {\"Accuracy\": acc_metric}"
   ]
  },
  {
   "cell_type": "code",
   "execution_count": 18,
   "metadata": {},
   "outputs": [],
   "source": [
    "from classify import train_model"
   ]
  },
  {
   "cell_type": "code",
   "execution_count": 19,
   "metadata": {},
   "outputs": [],
   "source": [
    "# opt_train_model  = torch.compile(train_model)"
   ]
  },
  {
   "cell_type": "code",
   "execution_count": 20,
   "metadata": {},
   "outputs": [],
   "source": [
    "train_dataloader, val_dataloader = get_dataloaders(X1, W1, val_ratio, normalizer, train_batch_size=5000, val_batch_size=5000, num_workers=16, prefetch_factor=16)"
   ]
  },
  {
   "cell_type": "code",
   "execution_count": 21,
   "metadata": {},
   "outputs": [
    {
     "name": "stdout",
     "output_type": "stream",
     "text": [
      "\n",
      "================================================================================2024-06-30 09:51:35\n",
      "Epoch 1 / 50\n",
      "\n",
      "100%|██████████| 52/52 [00:00<00:00, 63.71it/s, train_Accuracy=0.5, train_loss=0.693] \n",
      "100%|██████████| 13/13 [00:00<00:00, 21.90it/s, val_Accuracy=0.508, val_loss=0.693]\n",
      "<<<<<< reach best val_Accuracy : 0.508011519908905 >>>>>>\n",
      "\n",
      "================================================================================2024-06-30 09:51:38\n",
      "Epoch 2 / 50\n",
      "\n",
      "100%|██████████| 52/52 [00:00<00:00, 74.54it/s, train_Accuracy=0.502, train_loss=0.693]\n",
      "100%|██████████| 13/13 [00:00<00:00, 24.54it/s, val_Accuracy=0.494, val_loss=0.693]\n",
      "\n",
      "================================================================================2024-06-30 09:51:41\n",
      "Epoch 3 / 50\n",
      "\n",
      "100%|██████████| 52/52 [00:00<00:00, 74.32it/s, train_Accuracy=0.498, train_loss=0.693]\n",
      "100%|██████████| 13/13 [00:00<00:00, 23.31it/s, val_Accuracy=0.507, val_loss=0.693]\n",
      "\n",
      "================================================================================2024-06-30 09:51:44\n",
      "Epoch 4 / 50\n",
      "\n",
      "100%|██████████| 52/52 [00:00<00:00, 78.22it/s, train_Accuracy=0.501, train_loss=0.693]\n",
      "100%|██████████| 13/13 [00:00<00:00, 22.25it/s, val_Accuracy=0.492, val_loss=0.693]\n",
      "\n",
      "================================================================================2024-06-30 09:51:47\n",
      "Epoch 5 / 50\n",
      "\n",
      "100%|██████████| 52/52 [00:00<00:00, 77.08it/s, train_Accuracy=0.503, train_loss=0.693]\n",
      "100%|██████████| 13/13 [00:00<00:00, 23.38it/s, val_Accuracy=0.508, val_loss=0.693]\n",
      "\n",
      "================================================================================2024-06-30 09:51:50\n",
      "Epoch 6 / 50\n",
      "\n",
      "100%|██████████| 52/52 [00:00<00:00, 76.99it/s, train_Accuracy=0.499, train_loss=0.693]\n",
      "100%|██████████| 13/13 [00:00<00:00, 23.78it/s, val_Accuracy=0.506, val_loss=0.693]\n",
      "<<<<<< val_Accuracy without improvement in 5 epoch, early stopping >>>>>>\n"
     ]
    },
    {
     "data": {
      "text/html": [
       "<div>\n",
       "<style scoped>\n",
       "    .dataframe tbody tr th:only-of-type {\n",
       "        vertical-align: middle;\n",
       "    }\n",
       "\n",
       "    .dataframe tbody tr th {\n",
       "        vertical-align: top;\n",
       "    }\n",
       "\n",
       "    .dataframe thead th {\n",
       "        text-align: right;\n",
       "    }\n",
       "</style>\n",
       "<table border=\"1\" class=\"dataframe\">\n",
       "  <thead>\n",
       "    <tr style=\"text-align: right;\">\n",
       "      <th></th>\n",
       "      <th>train_loss</th>\n",
       "      <th>train_Accuracy</th>\n",
       "      <th>val_loss</th>\n",
       "      <th>val_Accuracy</th>\n",
       "      <th>epoch</th>\n",
       "    </tr>\n",
       "  </thead>\n",
       "  <tbody>\n",
       "    <tr>\n",
       "      <th>0</th>\n",
       "      <td>0.693208</td>\n",
       "      <td>0.499900</td>\n",
       "      <td>0.693038</td>\n",
       "      <td>0.508012</td>\n",
       "      <td>1</td>\n",
       "    </tr>\n",
       "    <tr>\n",
       "      <th>1</th>\n",
       "      <td>0.693166</td>\n",
       "      <td>0.502408</td>\n",
       "      <td>0.693215</td>\n",
       "      <td>0.494123</td>\n",
       "      <td>2</td>\n",
       "    </tr>\n",
       "    <tr>\n",
       "      <th>2</th>\n",
       "      <td>0.693192</td>\n",
       "      <td>0.498311</td>\n",
       "      <td>0.693085</td>\n",
       "      <td>0.507058</td>\n",
       "      <td>3</td>\n",
       "    </tr>\n",
       "    <tr>\n",
       "      <th>3</th>\n",
       "      <td>0.693153</td>\n",
       "      <td>0.501000</td>\n",
       "      <td>0.693337</td>\n",
       "      <td>0.492100</td>\n",
       "      <td>4</td>\n",
       "    </tr>\n",
       "    <tr>\n",
       "      <th>4</th>\n",
       "      <td>0.693159</td>\n",
       "      <td>0.502527</td>\n",
       "      <td>0.693101</td>\n",
       "      <td>0.507577</td>\n",
       "      <td>5</td>\n",
       "    </tr>\n",
       "    <tr>\n",
       "      <th>5</th>\n",
       "      <td>0.693166</td>\n",
       "      <td>0.499485</td>\n",
       "      <td>0.693124</td>\n",
       "      <td>0.506342</td>\n",
       "      <td>6</td>\n",
       "    </tr>\n",
       "  </tbody>\n",
       "</table>\n",
       "</div>"
      ],
      "text/plain": [
       "   train_loss  train_Accuracy  val_loss  val_Accuracy  epoch\n",
       "0    0.693208        0.499900  0.693038      0.508012      1\n",
       "1    0.693166        0.502408  0.693215      0.494123      2\n",
       "2    0.693192        0.498311  0.693085      0.507058      3\n",
       "3    0.693153        0.501000  0.693337      0.492100      4\n",
       "4    0.693159        0.502527  0.693101      0.507577      5\n",
       "5    0.693166        0.499485  0.693124      0.506342      6"
      ]
     },
     "execution_count": 21,
     "metadata": {},
     "output_type": "execute_result"
    }
   ],
   "source": [
    "train_model(\n",
    "    naive_model, optimizer,\n",
    "    loss_fn, metrics_dict=metric_dict,\n",
    "    train_dataloader=train_dataloader, val_dataloader=val_dataloader,\n",
    "    monitor=\"val_Accuracy\", mode=\"max\",\n",
    "    epochs=50\n",
    "    )"
   ]
  },
  {
   "cell_type": "markdown",
   "metadata": {},
   "source": [
    "# ROC"
   ]
  },
  {
   "cell_type": "code",
   "execution_count": 22,
   "metadata": {},
   "outputs": [],
   "source": [
    "fpr_dict = {}\n",
    "tpr_dict = {}\n",
    "auc_dict = {}"
   ]
  },
  {
   "cell_type": "code",
   "execution_count": 23,
   "metadata": {},
   "outputs": [],
   "source": [
    "from analysis import predict"
   ]
  },
  {
   "cell_type": "code",
   "execution_count": 24,
   "metadata": {},
   "outputs": [
    {
     "name": "stderr",
     "output_type": "stream",
     "text": [
      "100%|██████████| 13/13 [00:01<00:00,  9.73it/s]\n"
     ]
    }
   ],
   "source": [
    "targets, predictions = predict(naive_model, val_dataloader)"
   ]
  },
  {
   "cell_type": "code",
   "execution_count": 25,
   "metadata": {},
   "outputs": [
    {
     "name": "stdout",
     "output_type": "stream",
     "text": [
      "0.5017884790039062\n"
     ]
    },
    {
     "data": {
      "image/png": "[encoded data removed]",
      "text/plain": [
       "<Figure size 640x480 with 1 Axes>"
      ]
     },
     "metadata": {},
     "output_type": "display_data"
    }
   ],
   "source": [
    "from analysis import calculate_auc\n",
    "from visualize import plot_roc_curve\n",
    "fpr, tpr, auc_roc = calculate_auc(targets, predictions)\n",
    "print(auc_roc)\n",
    "fpr_dict[str(sig_lambda)] = fpr\n",
    "tpr_dict[str(sig_lambda)] = tpr\n",
    "auc_dict[str(sig_lambda)] = auc_roc\n",
    "plot_roc_curve(fpr_dict, tpr_dict, auc_dict, \"ROC Curve\")"
   ]
  },
  {
   "cell_type": "markdown",
   "metadata": {},
   "source": [
    "# Test statistics"
   ]
  },
  {
   "cell_type": "code",
   "execution_count": 26,
   "metadata": {},
   "outputs": [],
   "source": [
    "from analysis import h_hat, Bootstrap_Permutation"
   ]
  },
  {
   "cell_type": "code",
   "execution_count": 27,
   "metadata": {},
   "outputs": [
    {
     "name": "stdout",
     "output_type": "stream",
     "text": [
      "369 ms ± 9.97 ms per loop (mean ± std. dev. of 7 runs, 1 loop each)\n"
     ]
    }
   ],
   "source": [
    "%timeit selected_idx = np.random.choice(len(embedding_points['SM']), 2 * n, replace=False)"
   ]
  },
  {
   "cell_type": "code",
   "execution_count": 28,
   "metadata": {},
   "outputs": [],
   "source": [
    "hypothesis_dict = load_toml_config(\"hypothesis_test\")\n",
    "n = hypothesis_dict[\"n\"]\n",
    "n_null = hypothesis_dict[\"n_null\"]"
   ]
  },
  {
   "cell_type": "code",
   "execution_count": 29,
   "metadata": {},
   "outputs": [
    {
     "name": "stderr",
     "output_type": "stream",
     "text": [
      "100%|██████████| 1000/1000 [10:31:17<00:00, 37.88s/it] \n"
     ]
    }
   ],
   "source": [
    "auc_results = np.zeros(n_null)\n",
    "lrt_results = np.zeros(n_null)\n",
    "mce_results = np.zeros(n_null)\n",
    "for i in tqdm(range(n_null)):\n",
    "    selected_idx = np.random.choice(len(embedding_points['SM']), 2 * n, replace=False)\n",
    "    exp_events = embedding_points['SM'][selected_idx[:n]]\n",
    "    bkg_events = embedding_points['SM'][selected_idx[n:]]\n",
    "    X1, X2, W1, W2 = train_test_split(exp_events, bkg_events, test_ratio)\n",
    "    n1 = len(W1)\n",
    "    m1 = len(X1)\n",
    "    n2 = len(W2)\n",
    "    m2 = len(X2)\n",
    "    train_dataloader, val_dataloader = get_dataloaders(X1, W1, val_ratio, normalizer, train_batch_size=5000, val_batch_size=5000, num_workers=16, prefetch_factor=16)\n",
    "\n",
    "    hidden_dim = [8, 16, 16, 16, 8]\n",
    "    naive_model = MLP(output_dim, hidden_sizes=hidden_dim)\n",
    "    naive_model.to(device)\n",
    "    optimizer = torch.optim.Adam(naive_model.parameters(), lr=1e-3, weight_decay=1e-5)\n",
    "    loss_fn = nn.BCELoss()\n",
    "    acc_metric = BinaryACCUpdater()\n",
    "    metric_dict = {\"Accuracy\": acc_metric}\n",
    "\n",
    "    train_model(  \n",
    "        naive_model, optimizer,\n",
    "        loss_fn, metrics_dict=metric_dict,\n",
    "        train_dataloader=train_dataloader, val_dataloader=val_dataloader,\n",
    "        monitor=\"val_Accuracy\", mode=\"max\",\n",
    "        epochs=50,\n",
    "        verbose=False\n",
    "        )\n",
    "    bootstrap_permutation = Bootstrap_Permutation(X2, W2, naive_model, pi, normalizer)\n",
    "    auc_results[i] = bootstrap_permutation.auc_exp\n",
    "    lrt_results[i] = bootstrap_permutation.lrt_exp\n",
    "    mce_results[i] = bootstrap_permutation.mce_exp"
   ]
  },
  {
   "cell_type": "code",
   "execution_count": 30,
   "metadata": {},
   "outputs": [
    {
     "data": {
      "image/png": "[encoded data removed]",
      "text/plain": [
       "<Figure size 640x480 with 1 Axes>"
      ]
     },
     "metadata": {},
     "output_type": "display_data"
    }
   ],
   "source": [
    "plt.hist(auc_results, bins=50)\n",
    "plt.show()"
   ]
  },
  {
   "cell_type": "code",
   "execution_count": 31,
   "metadata": {},
   "outputs": [
    {
     "data": {
      "image/png": "[encoded data removed]",
      "text/plain": [
       "<Figure size 640x480 with 1 Axes>"
      ]
     },
     "metadata": {},
     "output_type": "display_data"
    }
   ],
   "source": [
    "plt.hist(mce_results, bins=50)\n",
    "plt.show()"
   ]
  },
  {
   "cell_type": "code",
   "execution_count": 32,
   "metadata": {},
   "outputs": [
    {
     "data": {
      "image/png": "[encoded data removed]",
      "text/plain": [
       "<Figure size 640x480 with 1 Axes>"
      ]
     },
     "metadata": {},
     "output_type": "display_data"
    }
   ],
   "source": [
    "plt.hist(lrt_results, bins=50)\n",
    "plt.show()"
   ]
  },
  {
   "cell_type": "code",
   "execution_count": 33,
   "metadata": {},
   "outputs": [
    {
     "name": "stdout",
     "output_type": "stream",
     "text": [
      "0.014935994047104325\n",
      "0.49864400000000003\n",
      "0.502029691985\n"
     ]
    }
   ],
   "source": [
    "# Find threshold for 95% confidence level\n",
    "lrt_threshold = np.percentile(lrt_results, 95)\n",
    "print(lrt_threshold)\n",
    "\n",
    "# Find threshold for 95% confidence level\n",
    "mce_threshold = np.percentile(mce_results, 5)\n",
    "print(mce_threshold)\n",
    "\n",
    "# Find threshold for 95% confidence level\n",
    "auc_threshold = np.percentile(auc_results, 95)\n",
    "print(auc_threshold)"
   ]
  },
  {
   "cell_type": "code",
   "execution_count": 34,
   "metadata": {},
   "outputs": [],
   "source": [
    "import toml\n",
    "toml_file = '../config.toml'\n",
    "with open(toml_file, 'r') as f:\n",
    "    config = toml.load(f)\n",
    " \n",
    "config['threshold']['lrt'] = float(lrt_threshold)\n",
    "config['threshold']['mce'] = float(mce_threshold)\n",
    "config['threshold']['auc'] = float(auc_threshold)\n",
    "with open(toml_file, 'w') as f:\n",
    "    toml.dump(config, f)"
   ]
  },
  {
   "cell_type": "code",
   "execution_count": null,
   "metadata": {},
   "outputs": [],
   "source": []
  }
 ],
 "metadata": {
  "kernelspec": {
   "display_name": "ad",
   "language": "python",
   "name": "python3"
  },
  "language_info": {
   "codemirror_mode": {
    "name": "ipython",
    "version": 3
   },
   "file_extension": ".py",
   "mimetype": "text/x-python",
   "name": "python",
   "nbconvert_exporter": "python",
   "pygments_lexer": "ipython3",
   "version": "3.11.8"
  }
 },
 "nbformat": 4,
 "nbformat_minor": 2
}
