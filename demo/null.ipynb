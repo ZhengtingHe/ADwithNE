{
 "cells": [
  {
   "cell_type": "code",
   "execution_count": 1,
   "metadata": {},
   "outputs": [],
   "source": [
    "import torch\n",
    "from torch import nn\n",
    "import numpy as np\n",
    "import sys\n",
    "import os\n",
    "import pandas as pd\n",
    "from torch.utils.data import Dataset, DataLoader\n",
    "from tqdm import tqdm\n",
    "import importlib\n",
    "\n",
    "sys.path.append(\"..\")\n",
    "from model import ParticleEventTransformer\n",
    "from data import get_database_path, get_h5_files, read_h5_file, select_events\n",
    "from utils import load_toml_config\n",
    "from analysis import Normalizer, train_test_split, get_dataloaders, calculate_auc, ClassifyDataset, predict, Bootstrap_Permutation\n",
    "\n",
    "import matplotlib.pyplot as plt\n",
    "\n",
    "\n",
    "device = \"cuda\" if torch.cuda.is_available() else \"mps\" if sys.platform == \"darwin\" else \"cpu\"\n",
    "random_seed = 114514\n",
    "torch.manual_seed(random_seed)\n",
    "np.random.seed(random_seed)"
   ]
  },
  {
   "cell_type": "code",
   "execution_count": 2,
   "metadata": {},
   "outputs": [],
   "source": [
    "EMD_config = load_toml_config(\"EMD\")\n",
    "particle_type_scale = EMD_config['particle_type_scale']\n",
    "\n",
    "model_hyper_parameters = load_toml_config(\"Transformer\")\n",
    "output_dim = model_hyper_parameters[\"output_dim\"]"
   ]
  },
  {
   "cell_type": "markdown",
   "metadata": {},
   "source": [
    "# Load embedding points"
   ]
  },
  {
   "cell_type": "code",
   "execution_count": 3,
   "metadata": {},
   "outputs": [],
   "source": [
    "import h5py\n",
    "\n",
    "database_path = \"/home/desmondhe/ADwithNE/latent\"\n",
    "output_dim = [4,8,16,32]\n",
    "embedding_points_file_name = {}\n",
    "embedding_points_file = {}\n",
    "embedding_points = {}\n",
    "targets = {}\n",
    "for dim in output_dim:\n",
    "    embedding_points_file_name[dim] = \"embedding_points_dim{}.h5\".format(dim)\n",
    "    embedding_points_file[dim] = os.path.join(database_path, embedding_points_file_name[dim])\n",
    "    embedding_points[dim] = h5py.File(embedding_points_file[dim])\n",
    "bsm_events = ['charged_Higgs', 'leptoquark', 'neutral_Higgs', 'neutral_boson']"
   ]
  },
  {
   "cell_type": "code",
   "execution_count": 4,
   "metadata": {},
   "outputs": [],
   "source": [
    "from analysis import Normalizer"
   ]
  },
  {
   "cell_type": "markdown",
   "metadata": {},
   "source": [
    "# Split embed points"
   ]
  },
  {
   "cell_type": "code",
   "execution_count": 5,
   "metadata": {},
   "outputs": [],
   "source": [
    "from analysis import train_test_split, get_dataloaders"
   ]
  },
  {
   "cell_type": "code",
   "execution_count": 6,
   "metadata": {},
   "outputs": [],
   "source": [
    "test_ratio=0.2\n",
    "val_ratio = 0.2\n",
    "sig_lambda = 0.5\n",
    "n = 200000\n",
    "\n",
    "test_dimension = 32\n",
    "normalizer = Normalizer(*[value for value in embedding_points[test_dimension].values()])\n",
    "\n",
    "selected_idx = np.random.choice(len(embedding_points[test_dimension]['SM']), 2 * n, replace=False)\n",
    "exp_events = np.array(embedding_points[test_dimension]['SM'])[selected_idx[:n]]\n",
    "bkg_events = np.array(embedding_points[test_dimension]['SM'])[selected_idx[n:]]\n",
    "X1, X2, W1, W2 = train_test_split(exp_events, bkg_events, test_ratio)\n",
    "n1 = len(W1)\n",
    "m1 = len(X1)\n",
    "pi = n1 / (n1 + m1)\n",
    "n2 = len(W2)\n",
    "m2 = len(X2)\n",
    "train_dataloader, val_dataloader = get_dataloaders(X1, W1, val_ratio, normalizer, train_batch_size=256)"
   ]
  },
  {
   "cell_type": "markdown",
   "metadata": {},
   "source": [
    "# Classify Model"
   ]
  },
  {
   "cell_type": "code",
   "execution_count": 7,
   "metadata": {},
   "outputs": [],
   "source": [
    "from model import MLP\n",
    "hidden_dim = [8, 16, 16, 16, 8]\n",
    "naive_model = MLP(test_dimension, hidden_sizes=hidden_dim)"
   ]
  },
  {
   "cell_type": "markdown",
   "metadata": {},
   "source": [
    "# Train"
   ]
  },
  {
   "cell_type": "code",
   "execution_count": 8,
   "metadata": {},
   "outputs": [],
   "source": [
    "from metrics import BinaryACCUpdater"
   ]
  },
  {
   "cell_type": "code",
   "execution_count": 9,
   "metadata": {},
   "outputs": [],
   "source": [
    "naive_model.to(device)\n",
    "optimizer = torch.optim.Adam(naive_model.parameters(), lr=1e-3, weight_decay=1e-5)\n",
    "loss_fn = nn.BCELoss()\n",
    "acc_metric = BinaryACCUpdater()\n",
    "metric_dict = {\"Accuracy\": acc_metric}"
   ]
  },
  {
   "cell_type": "code",
   "execution_count": 10,
   "metadata": {},
   "outputs": [],
   "source": [
    "from classify import train_model"
   ]
  },
  {
   "cell_type": "code",
   "execution_count": 11,
   "metadata": {},
   "outputs": [],
   "source": [
    "# opt_train_model  = torch.compile(train_model)"
   ]
  },
  {
   "cell_type": "code",
   "execution_count": 12,
   "metadata": {},
   "outputs": [],
   "source": [
    "train_dataloader, val_dataloader = get_dataloaders(X1, W1, val_ratio, normalizer, train_batch_size=5000, val_batch_size=5000, num_workers=16, prefetch_factor=16)"
   ]
  },
  {
   "cell_type": "code",
   "execution_count": 13,
   "metadata": {},
   "outputs": [
    {
     "name": "stdout",
     "output_type": "stream",
     "text": [
      "\n",
      "================================================================================2024-11-09 13:08:29\n",
      "Epoch 1 / 50\n",
      "\n",
      "100%|██████████| 52/52 [00:00<00:00, 65.32it/s, train_Accuracy=0.502, train_loss=0.693]\n",
      "100%|██████████| 13/13 [00:00<00:00, 35.74it/s, val_Accuracy=0.501, val_loss=0.693]\n",
      "<<<<<< reach best val_Accuracy : 0.5010423064231873 >>>>>>\n",
      "\n",
      "================================================================================2024-11-09 13:08:31\n",
      "Epoch 2 / 50\n",
      "\n",
      "100%|██████████| 52/52 [00:00<00:00, 102.98it/s, train_Accuracy=0.5, train_loss=0.693]\n",
      "100%|██████████| 13/13 [00:00<00:00, 38.22it/s, val_Accuracy=0.502, val_loss=0.693]\n",
      "<<<<<< reach best val_Accuracy : 0.5020307302474976 >>>>>>\n",
      "\n",
      "================================================================================2024-11-09 13:08:33\n",
      "Epoch 3 / 50\n",
      "\n",
      "100%|██████████| 52/52 [00:00<00:00, 108.46it/s, train_Accuracy=0.5, train_loss=0.693] \n",
      "100%|██████████| 13/13 [00:00<00:00, 37.39it/s, val_Accuracy=0.498, val_loss=0.693]\n",
      "\n",
      "================================================================================2024-11-09 13:08:34\n",
      "Epoch 4 / 50\n",
      "\n",
      "100%|██████████| 52/52 [00:00<00:00, 106.18it/s, train_Accuracy=0.501, train_loss=0.693]\n",
      "100%|██████████| 13/13 [00:00<00:00, 36.73it/s, val_Accuracy=0.499, val_loss=0.693]\n",
      "\n",
      "================================================================================2024-11-09 13:08:35\n",
      "Epoch 5 / 50\n",
      "\n",
      "100%|██████████| 52/52 [00:00<00:00, 104.38it/s, train_Accuracy=0.501, train_loss=0.693]\n",
      "100%|██████████| 13/13 [00:00<00:00, 36.68it/s, val_Accuracy=0.506, val_loss=0.693]\n",
      "<<<<<< reach best val_Accuracy : 0.5060961246490479 >>>>>>\n",
      "\n",
      "================================================================================2024-11-09 13:08:37\n",
      "Epoch 6 / 50\n",
      "\n",
      "100%|██████████| 52/52 [00:00<00:00, 101.81it/s, train_Accuracy=0.501, train_loss=0.693]\n",
      "100%|██████████| 13/13 [00:00<00:00, 35.79it/s, val_Accuracy=0.495, val_loss=0.693]\n",
      "\n",
      "================================================================================2024-11-09 13:08:38\n",
      "Epoch 7 / 50\n",
      "\n",
      "100%|██████████| 52/52 [00:00<00:00, 102.60it/s, train_Accuracy=0.5, train_loss=0.693]  \n",
      "100%|██████████| 13/13 [00:00<00:00, 34.54it/s, val_Accuracy=0.507, val_loss=0.693]\n",
      "<<<<<< reach best val_Accuracy : 0.5067038536071777 >>>>>>\n",
      "\n",
      "================================================================================2024-11-09 13:08:39\n",
      "Epoch 8 / 50\n",
      "\n",
      "100%|██████████| 52/52 [00:00<00:00, 111.21it/s, train_Accuracy=0.501, train_loss=0.693]\n",
      "100%|██████████| 13/13 [00:00<00:00, 35.94it/s, val_Accuracy=0.507, val_loss=0.693]\n",
      "<<<<<< reach best val_Accuracy : 0.5069884657859802 >>>>>>\n",
      "\n",
      "================================================================================2024-11-09 13:08:41\n",
      "Epoch 9 / 50\n",
      "\n",
      "100%|██████████| 52/52 [00:00<00:00, 110.12it/s, train_Accuracy=0.502, train_loss=0.693]\n",
      "100%|██████████| 13/13 [00:00<00:00, 36.05it/s, val_Accuracy=0.496, val_loss=0.693]\n",
      "\n",
      "================================================================================2024-11-09 13:08:42\n",
      "Epoch 10 / 50\n",
      "\n",
      "100%|██████████| 52/52 [00:00<00:00, 101.11it/s, train_Accuracy=0.501, train_loss=0.693]\n",
      "100%|██████████| 13/13 [00:00<00:00, 37.02it/s, val_Accuracy=0.498, val_loss=0.693]\n",
      "\n",
      "================================================================================2024-11-09 13:08:43\n",
      "Epoch 11 / 50\n",
      "\n",
      "100%|██████████| 52/52 [00:00<00:00, 107.54it/s, train_Accuracy=0.5, train_loss=0.693]\n",
      "100%|██████████| 13/13 [00:00<00:00, 37.84it/s, val_Accuracy=0.499, val_loss=0.693]\n",
      "\n",
      "================================================================================2024-11-09 13:08:45\n",
      "Epoch 12 / 50\n",
      "\n",
      "100%|██████████| 52/52 [00:00<00:00, 120.44it/s, train_Accuracy=0.502, train_loss=0.693]\n",
      "100%|██████████| 13/13 [00:00<00:00, 199.45it/s, val_Accuracy=0.507, val_loss=0.693]\n",
      "<<<<<< reach best val_Accuracy : 0.507169246673584 >>>>>>\n",
      "\n",
      "================================================================================2024-11-09 13:08:46\n",
      "Epoch 13 / 50\n",
      "\n",
      "100%|██████████| 52/52 [00:00<00:00, 256.42it/s, train_Accuracy=0.501, train_loss=0.693]\n",
      "100%|██████████| 13/13 [00:00<00:00, 194.53it/s, val_Accuracy=0.494, val_loss=0.693]\n",
      "\n",
      "================================================================================2024-11-09 13:08:47\n",
      "Epoch 14 / 50\n",
      "\n",
      "100%|██████████| 52/52 [00:00<00:00, 253.76it/s, train_Accuracy=0.501, train_loss=0.693]\n",
      "100%|██████████| 13/13 [00:00<00:00, 190.54it/s, val_Accuracy=0.503, val_loss=0.693]\n",
      "\n",
      "================================================================================2024-11-09 13:08:47\n",
      "Epoch 15 / 50\n",
      "\n",
      "100%|██████████| 52/52 [00:00<00:00, 255.32it/s, train_Accuracy=0.503, train_loss=0.693]\n",
      "100%|██████████| 13/13 [00:00<00:00, 168.44it/s, val_Accuracy=0.496, val_loss=0.693]\n",
      "\n",
      "================================================================================2024-11-09 13:08:48\n",
      "Epoch 16 / 50\n",
      "\n",
      "100%|██████████| 52/52 [00:00<00:00, 246.02it/s, train_Accuracy=0.501, train_loss=0.693]\n",
      "100%|██████████| 13/13 [00:00<00:00, 168.42it/s, val_Accuracy=0.501, val_loss=0.693]\n",
      "\n",
      "================================================================================2024-11-09 13:08:49\n",
      "Epoch 17 / 50\n",
      "\n",
      "100%|██████████| 52/52 [00:00<00:00, 258.26it/s, train_Accuracy=0.501, train_loss=0.693]\n",
      "100%|██████████| 13/13 [00:00<00:00, 191.41it/s, val_Accuracy=0.507, val_loss=0.693]\n",
      "<<<<<< val_Accuracy without improvement in 5 epoch, early stopping >>>>>>\n"
     ]
    },
    {
     "data": {
      "text/html": [
       "<div>\n",
       "<style scoped>\n",
       "    .dataframe tbody tr th:only-of-type {\n",
       "        vertical-align: middle;\n",
       "    }\n",
       "\n",
       "    .dataframe tbody tr th {\n",
       "        vertical-align: top;\n",
       "    }\n",
       "\n",
       "    .dataframe thead th {\n",
       "        text-align: right;\n",
       "    }\n",
       "</style>\n",
       "<table border=\"1\" class=\"dataframe\">\n",
       "  <thead>\n",
       "    <tr style=\"text-align: right;\">\n",
       "      <th></th>\n",
       "      <th>train_loss</th>\n",
       "      <th>train_Accuracy</th>\n",
       "      <th>val_loss</th>\n",
       "      <th>val_Accuracy</th>\n",
       "      <th>epoch</th>\n",
       "    </tr>\n",
       "  </thead>\n",
       "  <tbody>\n",
       "    <tr>\n",
       "      <th>0</th>\n",
       "      <td>0.693350</td>\n",
       "      <td>0.501650</td>\n",
       "      <td>0.693193</td>\n",
       "      <td>0.501042</td>\n",
       "      <td>1</td>\n",
       "    </tr>\n",
       "    <tr>\n",
       "      <th>1</th>\n",
       "      <td>0.693208</td>\n",
       "      <td>0.500035</td>\n",
       "      <td>0.693148</td>\n",
       "      <td>0.502031</td>\n",
       "      <td>2</td>\n",
       "    </tr>\n",
       "    <tr>\n",
       "      <th>2</th>\n",
       "      <td>0.693187</td>\n",
       "      <td>0.499892</td>\n",
       "      <td>0.693191</td>\n",
       "      <td>0.497812</td>\n",
       "      <td>3</td>\n",
       "    </tr>\n",
       "    <tr>\n",
       "      <th>3</th>\n",
       "      <td>0.693166</td>\n",
       "      <td>0.501427</td>\n",
       "      <td>0.693179</td>\n",
       "      <td>0.498788</td>\n",
       "      <td>4</td>\n",
       "    </tr>\n",
       "    <tr>\n",
       "      <th>4</th>\n",
       "      <td>0.693165</td>\n",
       "      <td>0.501296</td>\n",
       "      <td>0.693073</td>\n",
       "      <td>0.506096</td>\n",
       "      <td>5</td>\n",
       "    </tr>\n",
       "    <tr>\n",
       "      <th>5</th>\n",
       "      <td>0.693158</td>\n",
       "      <td>0.500981</td>\n",
       "      <td>0.693259</td>\n",
       "      <td>0.494977</td>\n",
       "      <td>6</td>\n",
       "    </tr>\n",
       "    <tr>\n",
       "      <th>6</th>\n",
       "      <td>0.693188</td>\n",
       "      <td>0.499669</td>\n",
       "      <td>0.693049</td>\n",
       "      <td>0.506704</td>\n",
       "      <td>7</td>\n",
       "    </tr>\n",
       "    <tr>\n",
       "      <th>7</th>\n",
       "      <td>0.693174</td>\n",
       "      <td>0.500846</td>\n",
       "      <td>0.693047</td>\n",
       "      <td>0.506988</td>\n",
       "      <td>8</td>\n",
       "    </tr>\n",
       "    <tr>\n",
       "      <th>8</th>\n",
       "      <td>0.693166</td>\n",
       "      <td>0.501581</td>\n",
       "      <td>0.693306</td>\n",
       "      <td>0.495754</td>\n",
       "      <td>9</td>\n",
       "    </tr>\n",
       "    <tr>\n",
       "      <th>9</th>\n",
       "      <td>0.693164</td>\n",
       "      <td>0.501304</td>\n",
       "      <td>0.693216</td>\n",
       "      <td>0.498038</td>\n",
       "      <td>10</td>\n",
       "    </tr>\n",
       "    <tr>\n",
       "      <th>10</th>\n",
       "      <td>0.693169</td>\n",
       "      <td>0.500115</td>\n",
       "      <td>0.693155</td>\n",
       "      <td>0.498927</td>\n",
       "      <td>11</td>\n",
       "    </tr>\n",
       "    <tr>\n",
       "      <th>11</th>\n",
       "      <td>0.693138</td>\n",
       "      <td>0.502100</td>\n",
       "      <td>0.693054</td>\n",
       "      <td>0.507169</td>\n",
       "      <td>12</td>\n",
       "    </tr>\n",
       "    <tr>\n",
       "      <th>12</th>\n",
       "      <td>0.693185</td>\n",
       "      <td>0.501173</td>\n",
       "      <td>0.693335</td>\n",
       "      <td>0.493873</td>\n",
       "      <td>13</td>\n",
       "    </tr>\n",
       "    <tr>\n",
       "      <th>13</th>\n",
       "      <td>0.693148</td>\n",
       "      <td>0.501365</td>\n",
       "      <td>0.693114</td>\n",
       "      <td>0.502912</td>\n",
       "      <td>14</td>\n",
       "    </tr>\n",
       "    <tr>\n",
       "      <th>14</th>\n",
       "      <td>0.693144</td>\n",
       "      <td>0.502819</td>\n",
       "      <td>0.693321</td>\n",
       "      <td>0.495523</td>\n",
       "      <td>15</td>\n",
       "    </tr>\n",
       "    <tr>\n",
       "      <th>15</th>\n",
       "      <td>0.693156</td>\n",
       "      <td>0.501369</td>\n",
       "      <td>0.693135</td>\n",
       "      <td>0.501119</td>\n",
       "      <td>16</td>\n",
       "    </tr>\n",
       "    <tr>\n",
       "      <th>16</th>\n",
       "      <td>0.693178</td>\n",
       "      <td>0.500835</td>\n",
       "      <td>0.693068</td>\n",
       "      <td>0.507081</td>\n",
       "      <td>17</td>\n",
       "    </tr>\n",
       "  </tbody>\n",
       "</table>\n",
       "</div>"
      ],
      "text/plain": [
       "    train_loss  train_Accuracy  val_loss  val_Accuracy  epoch\n",
       "0     0.693350        0.501650  0.693193      0.501042      1\n",
       "1     0.693208        0.500035  0.693148      0.502031      2\n",
       "2     0.693187        0.499892  0.693191      0.497812      3\n",
       "3     0.693166        0.501427  0.693179      0.498788      4\n",
       "4     0.693165        0.501296  0.693073      0.506096      5\n",
       "5     0.693158        0.500981  0.693259      0.494977      6\n",
       "6     0.693188        0.499669  0.693049      0.506704      7\n",
       "7     0.693174        0.500846  0.693047      0.506988      8\n",
       "8     0.693166        0.501581  0.693306      0.495754      9\n",
       "9     0.693164        0.501304  0.693216      0.498038     10\n",
       "10    0.693169        0.500115  0.693155      0.498927     11\n",
       "11    0.693138        0.502100  0.693054      0.507169     12\n",
       "12    0.693185        0.501173  0.693335      0.493873     13\n",
       "13    0.693148        0.501365  0.693114      0.502912     14\n",
       "14    0.693144        0.502819  0.693321      0.495523     15\n",
       "15    0.693156        0.501369  0.693135      0.501119     16\n",
       "16    0.693178        0.500835  0.693068      0.507081     17"
      ]
     },
     "execution_count": 13,
     "metadata": {},
     "output_type": "execute_result"
    }
   ],
   "source": [
    "train_model(\n",
    "    naive_model, optimizer,\n",
    "    loss_fn, metrics_dict=metric_dict,\n",
    "    train_dataloader=train_dataloader, val_dataloader=val_dataloader,\n",
    "    monitor=\"val_Accuracy\", mode=\"max\",\n",
    "    epochs=50\n",
    "    )"
   ]
  },
  {
   "cell_type": "markdown",
   "metadata": {},
   "source": [
    "# Test statistics"
   ]
  },
  {
   "cell_type": "code",
   "execution_count": 14,
   "metadata": {},
   "outputs": [],
   "source": [
    "from analysis import h_hat, Bootstrap_Permutation"
   ]
  },
  {
   "cell_type": "code",
   "execution_count": 16,
   "metadata": {},
   "outputs": [
    {
     "name": "stdout",
     "output_type": "stream",
     "text": [
      "324 ms ± 4.1 ms per loop (mean ± std. dev. of 7 runs, 1 loop each)\n"
     ]
    }
   ],
   "source": [
    "%timeit selected_idx = np.random.choice(len(embedding_points[test_dimension]['SM']), 2 * n, replace=False)"
   ]
  },
  {
   "cell_type": "code",
   "execution_count": null,
   "metadata": {},
   "outputs": [],
   "source": []
  },
  {
   "cell_type": "code",
   "execution_count": 17,
   "metadata": {},
   "outputs": [],
   "source": [
    "hypothesis_dict = load_toml_config(\"hypothesis_test\")\n",
    "n = hypothesis_dict[\"n\"]\n",
    "n_null = hypothesis_dict[\"n_null\"]"
   ]
  },
  {
   "cell_type": "code",
   "execution_count": 18,
   "metadata": {},
   "outputs": [
    {
     "name": "stderr",
     "output_type": "stream",
     "text": [
      "  9%|▉         | 176/2000 [1:30:10<17:18:37, 34.17s/it]"
     ]
    },
    {
     "ename": "",
     "evalue": "",
     "output_type": "error",
     "traceback": [
      "\u001b[1;31m在当前单元格或上一个单元格中执行代码时 Kernel 崩溃。\n",
      "\u001b[1;31m请查看单元格中的代码，以确定故障的可能原因。\n",
      "\u001b[1;31m单击<a href='https://aka.ms/vscodeJupyterKernelCrash'>此处</a>了解详细信息。\n",
      "\u001b[1;31m有关更多详细信息，请查看 Jupyter <a href='command:jupyter.viewOutput'>log</a>。"
     ]
    }
   ],
   "source": [
    "auc_results = np.zeros(n_null)\n",
    "lrt_results = np.zeros(n_null)\n",
    "mce_results = np.zeros(n_null)\n",
    "for i in tqdm(range(n_null)):\n",
    "    selected_idx = np.random.choice(len(embedding_points[test_dimension]['SM']), 2 * n, replace=False)\n",
    "    exp_events = np.array(embedding_points[test_dimension]['SM'])[selected_idx[:n]]\n",
    "    bkg_events = np.array(embedding_points[test_dimension]['SM'])[selected_idx[n:]]\n",
    "    X1, X2, W1, W2 = train_test_split(exp_events, bkg_events, test_ratio)\n",
    "    n1 = len(W1)\n",
    "    m1 = len(X1)\n",
    "    n2 = len(W2)\n",
    "    m2 = len(X2)\n",
    "    normalizer = Normalizer(*[value for value in embedding_points[test_dimension].values()])\n",
    "    train_dataloader, val_dataloader = get_dataloaders(X1, W1, val_ratio, normalizer, train_batch_size=5000, val_batch_size=5000, num_workers=16, prefetch_factor=16)\n",
    "\n",
    "    hidden_dim = [8, 16, 16, 16, 8]\n",
    "    naive_model = MLP(test_dimension, hidden_sizes=hidden_dim)\n",
    "    naive_model.to(device)\n",
    "    optimizer = torch.optim.Adam(naive_model.parameters(), lr=1e-3, weight_decay=1e-5)\n",
    "    loss_fn = nn.BCELoss()\n",
    "    acc_metric = BinaryACCUpdater()\n",
    "    metric_dict = {\"Accuracy\": acc_metric}\n",
    "\n",
    "    train_model(  \n",
    "        naive_model, optimizer,\n",
    "        loss_fn, metrics_dict=metric_dict,\n",
    "        train_dataloader=train_dataloader, val_dataloader=val_dataloader,\n",
    "        monitor=\"val_Accuracy\", mode=\"max\",\n",
    "        epochs=50,\n",
    "        verbose=False\n",
    "        )\n",
    "    bootstrap_permutation = Bootstrap_Permutation(X2, W2, naive_model, pi, normalizer)\n",
    "    auc_results[i] = bootstrap_permutation.auc_exp\n",
    "    lrt_results[i] = bootstrap_permutation.lrt_exp\n",
    "    mce_results[i] = bootstrap_permutation.mce_exp"
   ]
  },
  {
   "cell_type": "code",
   "execution_count": null,
   "metadata": {},
   "outputs": [
    {
     "data": {
      "image/png": "[encoded data removed]",
      "text/plain": [
       "<Figure size 640x480 with 1 Axes>"
      ]
     },
     "metadata": {},
     "output_type": "display_data"
    }
   ],
   "source": [
    "plt.hist(auc_results, bins=50, edgecolor='black')\n",
    "threshold = np.percentile(auc_results, 95)\n",
    "plt.axvline(threshold, color='r')\n",
    "plt.title(\"Null AUC Distribution\")\n",
    "plt.show()"
   ]
  },
  {
   "cell_type": "code",
   "execution_count": null,
   "metadata": {},
   "outputs": [
    {
     "data": {
      "image/png": "[encoded data removed]",
      "text/plain": [
       "<Figure size 640x480 with 1 Axes>"
      ]
     },
     "metadata": {},
     "output_type": "display_data"
    }
   ],
   "source": [
    "plt.hist(mce_results, bins=50, edgecolor='black')\n",
    "threshold = np.percentile(mce_results, 5)\n",
    "plt.axvline(threshold, color='r')\n",
    "plt.title(\"Null MCE Distribution\")\n",
    "plt.show()"
   ]
  },
  {
   "cell_type": "code",
   "execution_count": null,
   "metadata": {},
   "outputs": [
    {
     "data": {
      "image/png": "[encoded data removed]",
      "text/plain": [
       "<Figure size 640x480 with 1 Axes>"
      ]
     },
     "metadata": {},
     "output_type": "display_data"
    }
   ],
   "source": [
    "plt.hist(lrt_results, bins=50, edgecolor='black')\n",
    "threshold = np.percentile(lrt_results, 95)\n",
    "plt.axvline(threshold, color='r')\n",
    "plt.title(\"Null LRT Distribution\")\n",
    "plt.show()"
   ]
  },
  {
   "cell_type": "code",
   "execution_count": 23,
   "metadata": {},
   "outputs": [
    {
     "name": "stdout",
     "output_type": "stream",
     "text": [
      "0.014815863868755264\n",
      "0.49852925000000003\n",
      "0.50212982325\n"
     ]
    }
   ],
   "source": [
    "# Find threshold for 95% confidence level\n",
    "lrt_threshold = np.percentile(lrt_results, 95)\n",
    "print(lrt_threshold)\n",
    "\n",
    "# Find threshold for 95% confidence level\n",
    "mce_threshold = np.percentile(mce_results, 5)\n",
    "print(mce_threshold)\n",
    "\n",
    "# Find threshold for 95% confidence level\n",
    "auc_threshold = np.percentile(auc_results, 95)\n",
    "print(auc_threshold)"
   ]
  },
  {
   "cell_type": "code",
   "execution_count": 24,
   "metadata": {},
   "outputs": [],
   "source": [
    "import toml\n",
    "toml_file = '../config.toml'\n",
    "with open(toml_file, 'r') as f:\n",
    "    config = toml.load(f)\n",
    " \n",
    "config['threshold']['lrt'] = float(lrt_threshold)\n",
    "config['threshold']['mce'] = float(mce_threshold)\n",
    "config['threshold']['auc'] = float(auc_threshold)\n",
    "with open(toml_file, 'w') as f:\n",
    "    toml.dump(config, f)"
   ]
  },
  {
   "cell_type": "code",
   "execution_count": null,
   "metadata": {},
   "outputs": [],
   "source": []
  }
 ],
 "metadata": {
  "kernelspec": {
   "display_name": "ad",
   "language": "python",
   "name": "python3"
  },
  "language_info": {
   "codemirror_mode": {
    "name": "ipython",
    "version": 3
   },
   "file_extension": ".py",
   "mimetype": "text/x-python",
   "name": "python",
   "nbconvert_exporter": "python",
   "pygments_lexer": "ipython3",
   "version": "3.11.8"
  }
 },
 "nbformat": 4,
 "nbformat_minor": 2
}
