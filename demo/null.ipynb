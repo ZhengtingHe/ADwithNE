{
 "cells": [
  {
   "cell_type": "code",
   "execution_count": 14,
   "metadata": {},
   "outputs": [],
   "source": [
    "import torch\n",
    "from torch import nn\n",
    "import numpy as np\n",
    "import sys\n",
    "import os\n",
    "import pandas as pd\n",
    "from torch.utils.data import Dataset, DataLoader\n",
    "from tqdm import tqdm\n",
    "import importlib\n",
    "\n",
    "sys.path.append(\"..\")\n",
    "from model import ParticleEventTransformer\n",
    "from data import get_database_path, get_h5_files, read_h5_file, select_events\n",
    "from utils import load_toml_config\n",
    "\n",
    "import matplotlib.pyplot as plt\n",
    "\n",
    "\n",
    "device = \"cuda\" if torch.cuda.is_available() else \"mps\" if sys.platform == \"darwin\" else \"cpu\"\n",
    "random_seed = 114514\n",
    "torch.manual_seed(random_seed)\n",
    "np.random.seed(random_seed)"
   ]
  },
  {
   "cell_type": "code",
   "execution_count": 15,
   "metadata": {},
   "outputs": [],
   "source": [
    "EMD_config = load_toml_config(\"EMD\")\n",
    "particle_type_scale = EMD_config['particle_type_scale']\n",
    "\n",
    "model_hyper_parameters = load_toml_config(\"Transformer\")\n",
    "output_dim = model_hyper_parameters[\"output_dim\"]"
   ]
  },
  {
   "cell_type": "markdown",
   "metadata": {},
   "source": [
    "# Load embedding points"
   ]
  },
  {
   "cell_type": "code",
   "execution_count": 35,
   "metadata": {},
   "outputs": [],
   "source": [
    "import h5py\n",
    "embedding_points = h5py.File(\"../embedding_points.h5\", \"r\")"
   ]
  },
  {
   "cell_type": "code",
   "execution_count": 17,
   "metadata": {},
   "outputs": [],
   "source": [
    "from analysis import Normalizer"
   ]
  },
  {
   "cell_type": "code",
   "execution_count": 18,
   "metadata": {},
   "outputs": [],
   "source": [
    "normalizer = Normalizer(*[value for value in embedding_points.values()])"
   ]
  },
  {
   "cell_type": "code",
   "execution_count": 19,
   "metadata": {},
   "outputs": [
    {
     "name": "stdout",
     "output_type": "stream",
     "text": [
      "[369.1842041  370.31808472 327.48770142 326.72790527]\n",
      "[-377.18408203 -356.34307861 -320.93734741 -340.06167603]\n"
     ]
    }
   ],
   "source": [
    "print(normalizer.max)\n",
    "print(normalizer.min)"
   ]
  },
  {
   "cell_type": "markdown",
   "metadata": {},
   "source": [
    "# Split embed points"
   ]
  },
  {
   "cell_type": "code",
   "execution_count": 20,
   "metadata": {},
   "outputs": [],
   "source": [
    "from analysis import train_test_split, get_dataloaders"
   ]
  },
  {
   "cell_type": "code",
   "execution_count": 21,
   "metadata": {},
   "outputs": [],
   "source": [
    "test_ratio=0.2\n",
    "val_ratio = 0.2\n",
    "sig_lambda = 0.5\n",
    "n = 200000\n",
    "\n",
    "\n",
    "selected_idx = np.random.choice(len(embedding_points['SM']), 2 * n, replace=False)\n",
    "exp_events = np.array(embedding_points['SM'])[selected_idx[:n]]\n",
    "bkg_events = np.array(embedding_points['SM'])[selected_idx[n:]]\n",
    "X1, X2, W1, W2 = train_test_split(exp_events, bkg_events, test_ratio)\n",
    "n1 = len(W1)\n",
    "m1 = len(X1)\n",
    "pi = n1 / (n1 + m1)\n",
    "n2 = len(W2)\n",
    "m2 = len(X2)\n",
    "train_dataloader, val_dataloader = get_dataloaders(X1, W1, val_ratio, normalizer, train_batch_size=256)"
   ]
  },
  {
   "cell_type": "markdown",
   "metadata": {},
   "source": [
    "# Classify Model"
   ]
  },
  {
   "cell_type": "code",
   "execution_count": 22,
   "metadata": {},
   "outputs": [],
   "source": [
    "from model import MLP\n",
    "hidden_dim = [8, 16, 16, 16, 8]\n",
    "naive_model = MLP(output_dim, hidden_sizes=hidden_dim)"
   ]
  },
  {
   "cell_type": "markdown",
   "metadata": {},
   "source": [
    "# Train"
   ]
  },
  {
   "cell_type": "code",
   "execution_count": 23,
   "metadata": {},
   "outputs": [],
   "source": [
    "from metrics import BinaryACCUpdater"
   ]
  },
  {
   "cell_type": "code",
   "execution_count": 24,
   "metadata": {},
   "outputs": [],
   "source": [
    "naive_model.to(device)\n",
    "optimizer = torch.optim.Adam(naive_model.parameters(), lr=1e-3, weight_decay=1e-5)\n",
    "loss_fn = nn.BCELoss()\n",
    "acc_metric = BinaryACCUpdater()\n",
    "metric_dict = {\"Accuracy\": acc_metric}"
   ]
  },
  {
   "cell_type": "code",
   "execution_count": 25,
   "metadata": {},
   "outputs": [],
   "source": [
    "from classify import train_model"
   ]
  },
  {
   "cell_type": "code",
   "execution_count": 26,
   "metadata": {},
   "outputs": [],
   "source": [
    "# opt_train_model  = torch.compile(train_model)"
   ]
  },
  {
   "cell_type": "code",
   "execution_count": 27,
   "metadata": {},
   "outputs": [],
   "source": [
    "train_dataloader, val_dataloader = get_dataloaders(X1, W1, val_ratio, normalizer, train_batch_size=5000, val_batch_size=5000, num_workers=16, prefetch_factor=16)"
   ]
  },
  {
   "cell_type": "code",
   "execution_count": 28,
   "metadata": {},
   "outputs": [
    {
     "name": "stdout",
     "output_type": "stream",
     "text": [
      "\n",
      "================================================================================2024-07-06 09:51:53\n",
      "Epoch 1 / 50\n",
      "\n",
      "100%|██████████| 52/52 [00:00<00:00, 104.17it/s, train_Accuracy=0.5, train_loss=0.718]\n",
      "100%|██████████| 13/13 [00:00<00:00, 102.19it/s, val_Accuracy=0.492, val_loss=0.703]\n",
      "<<<<<< reach best val_Accuracy : 0.49230772256851196 >>>>>>\n",
      "\n",
      "================================================================================2024-07-06 09:51:54\n",
      "Epoch 2 / 50\n",
      "\n",
      "100%|██████████| 52/52 [00:00<00:00, 71.62it/s, train_Accuracy=0.5, train_loss=0.7]    \n",
      "100%|██████████| 13/13 [00:00<00:00, 119.13it/s, val_Accuracy=0.492, val_loss=0.701]\n",
      "\n",
      "================================================================================2024-07-06 09:51:55\n",
      "Epoch 3 / 50\n",
      "\n",
      "100%|██████████| 52/52 [00:00<00:00, 72.32it/s, train_Accuracy=0.5, train_loss=0.697]   \n",
      "100%|██████████| 13/13 [00:00<00:00, 124.73it/s, val_Accuracy=0.492, val_loss=0.694]\n",
      "\n",
      "================================================================================2024-07-06 09:51:57\n",
      "Epoch 4 / 50\n",
      "\n",
      "100%|██████████| 52/52 [00:00<00:00, 68.66it/s, train_Accuracy=0.5, train_loss=0.693] \n",
      "100%|██████████| 13/13 [00:00<00:00, 110.14it/s, val_Accuracy=0.508, val_loss=0.693]\n",
      "<<<<<< reach best val_Accuracy : 0.5075346827507019 >>>>>>\n",
      "\n",
      "================================================================================2024-07-06 09:51:58\n",
      "Epoch 5 / 50\n",
      "\n",
      "100%|██████████| 52/52 [00:00<00:00, 121.00it/s, train_Accuracy=0.5, train_loss=0.693]  \n",
      "100%|██████████| 13/13 [00:00<00:00, 109.89it/s, val_Accuracy=0.507, val_loss=0.693]\n",
      "\n",
      "================================================================================2024-07-06 09:51:59\n",
      "Epoch 6 / 50\n",
      "\n",
      "100%|██████████| 52/52 [00:00<00:00, 72.99it/s, train_Accuracy=0.5, train_loss=0.693]  \n",
      "100%|██████████| 13/13 [00:00<00:00, 117.63it/s, val_Accuracy=0.509, val_loss=0.693]\n",
      "<<<<<< reach best val_Accuracy : 0.5085192918777466 >>>>>>\n",
      "\n",
      "================================================================================2024-07-06 09:52:01\n",
      "Epoch 7 / 50\n",
      "\n",
      "100%|██████████| 52/52 [00:00<00:00, 69.72it/s, train_Accuracy=0.499, train_loss=0.693]\n",
      "100%|██████████| 13/13 [00:00<00:00, 129.75it/s, val_Accuracy=0.508, val_loss=0.693]\n",
      "\n",
      "================================================================================2024-07-06 09:52:02\n",
      "Epoch 8 / 50\n",
      "\n",
      "100%|██████████| 52/52 [00:00<00:00, 66.44it/s, train_Accuracy=0.5, train_loss=0.693] \n",
      "100%|██████████| 13/13 [00:00<00:00, 105.33it/s, val_Accuracy=0.508, val_loss=0.693]\n",
      "\n",
      "================================================================================2024-07-06 09:52:03\n",
      "Epoch 9 / 50\n",
      "\n",
      "100%|██████████| 52/52 [00:00<00:00, 133.71it/s, train_Accuracy=0.498, train_loss=0.693]\n",
      "100%|██████████| 13/13 [00:00<00:00, 108.06it/s, val_Accuracy=0.508, val_loss=0.693]\n",
      "\n",
      "================================================================================2024-07-06 09:52:04\n",
      "Epoch 10 / 50\n",
      "\n",
      "100%|██████████| 52/52 [00:00<00:00, 68.56it/s, train_Accuracy=0.5, train_loss=0.693] \n",
      "100%|██████████| 13/13 [00:00<00:00, 103.40it/s, val_Accuracy=0.502, val_loss=0.693]\n",
      "\n",
      "================================================================================2024-07-06 09:52:06\n",
      "Epoch 11 / 50\n",
      "\n",
      "100%|██████████| 52/52 [00:00<00:00, 70.56it/s, train_Accuracy=0.499, train_loss=0.693]\n",
      "100%|██████████| 13/13 [00:00<00:00, 115.11it/s, val_Accuracy=0.507, val_loss=0.693]\n",
      "<<<<<< val_Accuracy without improvement in 5 epoch, early stopping >>>>>>\n"
     ]
    },
    {
     "data": {
      "text/html": [
       "<div>\n",
       "<style scoped>\n",
       "    .dataframe tbody tr th:only-of-type {\n",
       "        vertical-align: middle;\n",
       "    }\n",
       "\n",
       "    .dataframe tbody tr th {\n",
       "        vertical-align: top;\n",
       "    }\n",
       "\n",
       "    .dataframe thead th {\n",
       "        text-align: right;\n",
       "    }\n",
       "</style>\n",
       "<table border=\"1\" class=\"dataframe\">\n",
       "  <thead>\n",
       "    <tr style=\"text-align: right;\">\n",
       "      <th></th>\n",
       "      <th>train_loss</th>\n",
       "      <th>train_Accuracy</th>\n",
       "      <th>val_loss</th>\n",
       "      <th>val_Accuracy</th>\n",
       "      <th>epoch</th>\n",
       "    </tr>\n",
       "  </thead>\n",
       "  <tbody>\n",
       "    <tr>\n",
       "      <th>0</th>\n",
       "      <td>0.717621</td>\n",
       "      <td>0.500246</td>\n",
       "      <td>0.703458</td>\n",
       "      <td>0.492308</td>\n",
       "      <td>1</td>\n",
       "    </tr>\n",
       "    <tr>\n",
       "      <th>1</th>\n",
       "      <td>0.700374</td>\n",
       "      <td>0.499846</td>\n",
       "      <td>0.700892</td>\n",
       "      <td>0.492308</td>\n",
       "      <td>2</td>\n",
       "    </tr>\n",
       "    <tr>\n",
       "      <th>2</th>\n",
       "      <td>0.696946</td>\n",
       "      <td>0.500123</td>\n",
       "      <td>0.693920</td>\n",
       "      <td>0.492308</td>\n",
       "      <td>3</td>\n",
       "    </tr>\n",
       "    <tr>\n",
       "      <th>3</th>\n",
       "      <td>0.693215</td>\n",
       "      <td>0.500250</td>\n",
       "      <td>0.693130</td>\n",
       "      <td>0.507535</td>\n",
       "      <td>4</td>\n",
       "    </tr>\n",
       "    <tr>\n",
       "      <th>4</th>\n",
       "      <td>0.693167</td>\n",
       "      <td>0.500365</td>\n",
       "      <td>0.693123</td>\n",
       "      <td>0.507004</td>\n",
       "      <td>5</td>\n",
       "    </tr>\n",
       "    <tr>\n",
       "      <th>5</th>\n",
       "      <td>0.693164</td>\n",
       "      <td>0.499727</td>\n",
       "      <td>0.693103</td>\n",
       "      <td>0.508519</td>\n",
       "      <td>6</td>\n",
       "    </tr>\n",
       "    <tr>\n",
       "      <th>6</th>\n",
       "      <td>0.693167</td>\n",
       "      <td>0.499300</td>\n",
       "      <td>0.693106</td>\n",
       "      <td>0.508331</td>\n",
       "      <td>7</td>\n",
       "    </tr>\n",
       "    <tr>\n",
       "      <th>7</th>\n",
       "      <td>0.693170</td>\n",
       "      <td>0.499727</td>\n",
       "      <td>0.693100</td>\n",
       "      <td>0.507573</td>\n",
       "      <td>8</td>\n",
       "    </tr>\n",
       "    <tr>\n",
       "      <th>8</th>\n",
       "      <td>0.693166</td>\n",
       "      <td>0.498435</td>\n",
       "      <td>0.693133</td>\n",
       "      <td>0.507831</td>\n",
       "      <td>9</td>\n",
       "    </tr>\n",
       "    <tr>\n",
       "      <th>9</th>\n",
       "      <td>0.693174</td>\n",
       "      <td>0.499888</td>\n",
       "      <td>0.693157</td>\n",
       "      <td>0.501858</td>\n",
       "      <td>10</td>\n",
       "    </tr>\n",
       "    <tr>\n",
       "      <th>10</th>\n",
       "      <td>0.693160</td>\n",
       "      <td>0.499319</td>\n",
       "      <td>0.693129</td>\n",
       "      <td>0.507100</td>\n",
       "      <td>11</td>\n",
       "    </tr>\n",
       "  </tbody>\n",
       "</table>\n",
       "</div>"
      ],
      "text/plain": [
       "    train_loss  train_Accuracy  val_loss  val_Accuracy  epoch\n",
       "0     0.717621        0.500246  0.703458      0.492308      1\n",
       "1     0.700374        0.499846  0.700892      0.492308      2\n",
       "2     0.696946        0.500123  0.693920      0.492308      3\n",
       "3     0.693215        0.500250  0.693130      0.507535      4\n",
       "4     0.693167        0.500365  0.693123      0.507004      5\n",
       "5     0.693164        0.499727  0.693103      0.508519      6\n",
       "6     0.693167        0.499300  0.693106      0.508331      7\n",
       "7     0.693170        0.499727  0.693100      0.507573      8\n",
       "8     0.693166        0.498435  0.693133      0.507831      9\n",
       "9     0.693174        0.499888  0.693157      0.501858     10\n",
       "10    0.693160        0.499319  0.693129      0.507100     11"
      ]
     },
     "execution_count": 28,
     "metadata": {},
     "output_type": "execute_result"
    }
   ],
   "source": [
    "train_model(\n",
    "    naive_model, optimizer,\n",
    "    loss_fn, metrics_dict=metric_dict,\n",
    "    train_dataloader=train_dataloader, val_dataloader=val_dataloader,\n",
    "    monitor=\"val_Accuracy\", mode=\"max\",\n",
    "    epochs=50\n",
    "    )"
   ]
  },
  {
   "cell_type": "markdown",
   "metadata": {},
   "source": [
    "# Test statistics"
   ]
  },
  {
   "cell_type": "code",
   "execution_count": 29,
   "metadata": {},
   "outputs": [],
   "source": [
    "from analysis import h_hat, Bootstrap_Permutation"
   ]
  },
  {
   "cell_type": "code",
   "execution_count": 30,
   "metadata": {},
   "outputs": [
    {
     "name": "stdout",
     "output_type": "stream",
     "text": [
      "363 ms ± 3.72 ms per loop (mean ± std. dev. of 7 runs, 1 loop each)\n"
     ]
    }
   ],
   "source": [
    "%timeit selected_idx = np.random.choice(len(embedding_points['SM']), 2 * n, replace=False)"
   ]
  },
  {
   "cell_type": "code",
   "execution_count": 31,
   "metadata": {},
   "outputs": [],
   "source": [
    "hypothesis_dict = load_toml_config(\"hypothesis_test\")\n",
    "n = hypothesis_dict[\"n\"]\n",
    "n_null = hypothesis_dict[\"n_null\"]"
   ]
  },
  {
   "cell_type": "code",
   "execution_count": 36,
   "metadata": {},
   "outputs": [
    {
     "name": "stderr",
     "output_type": "stream",
     "text": [
      "  0%|          | 2/1000 [00:58<8:11:53, 29.57s/it]"
     ]
    }
   ],
   "source": [
    "auc_results = np.zeros(n_null)\n",
    "lrt_results = np.zeros(n_null)\n",
    "mce_results = np.zeros(n_null)\n",
    "for i in tqdm(range(n_null)):\n",
    "    selected_idx = np.random.choice(len(embedding_points['SM']), 2 * n, replace=False)\n",
    "    exp_events = np.array(embedding_points['SM'])[selected_idx[:n]]\n",
    "    bkg_events = np.array(embedding_points['SM'])[selected_idx[n:]]\n",
    "    X1, X2, W1, W2 = train_test_split(exp_events, bkg_events, test_ratio)\n",
    "    n1 = len(W1)\n",
    "    m1 = len(X1)\n",
    "    n2 = len(W2)\n",
    "    m2 = len(X2)\n",
    "    train_dataloader, val_dataloader = get_dataloaders(X1, W1, val_ratio, normalizer, train_batch_size=5000, val_batch_size=5000, num_workers=16, prefetch_factor=16)\n",
    "\n",
    "    hidden_dim = [8, 16, 16, 16, 8]\n",
    "    naive_model = MLP(output_dim, hidden_sizes=hidden_dim)\n",
    "    naive_model.to(device)\n",
    "    optimizer = torch.optim.Adam(naive_model.parameters(), lr=1e-3, weight_decay=1e-5)\n",
    "    loss_fn = nn.BCELoss()\n",
    "    acc_metric = BinaryACCUpdater()\n",
    "    metric_dict = {\"Accuracy\": acc_metric}\n",
    "\n",
    "    train_model(  \n",
    "        naive_model, optimizer,\n",
    "        loss_fn, metrics_dict=metric_dict,\n",
    "        train_dataloader=train_dataloader, val_dataloader=val_dataloader,\n",
    "        monitor=\"val_Accuracy\", mode=\"max\",\n",
    "        epochs=50,\n",
    "        verbose=False\n",
    "        )\n",
    "    bootstrap_permutation = Bootstrap_Permutation(X2, W2, naive_model, pi, normalizer)\n",
    "    auc_results[i] = bootstrap_permutation.auc_exp\n",
    "    lrt_results[i] = bootstrap_permutation.lrt_exp\n",
    "    mce_results[i] = bootstrap_permutation.mce_exp"
   ]
  },
  {
   "cell_type": "code",
   "execution_count": null,
   "metadata": {},
   "outputs": [
    {
     "data": {
      "image/png": "[encoded data removed]",
      "text/plain": [
       "<Figure size 640x480 with 1 Axes>"
      ]
     },
     "metadata": {},
     "output_type": "display_data"
    }
   ],
   "source": [
    "plt.hist(auc_results, bins=50)\n",
    "threshold = np.percentile(auc_results, 95)\n",
    "plt.axvline(threshold, color='r')\n",
    "plt.title(\"Null AUC Distribution\")\n",
    "plt.show()"
   ]
  },
  {
   "cell_type": "code",
   "execution_count": null,
   "metadata": {},
   "outputs": [
    {
     "data": {
      "image/png": "[encoded data removed]",
      "text/plain": [
       "<Figure size 640x480 with 1 Axes>"
      ]
     },
     "metadata": {},
     "output_type": "display_data"
    }
   ],
   "source": [
    "plt.hist(mce_results, bins=50)\n",
    "threshold = np.percentile(mce_results, 5)\n",
    "plt.axvline(threshold, color='r')\n",
    "plt.title(\"Null MCE Distribution\")\n",
    "plt.show()"
   ]
  },
  {
   "cell_type": "code",
   "execution_count": null,
   "metadata": {},
   "outputs": [
    {
     "data": {
      "image/png": "[encoded data removed]",
      "text/plain": [
       "<Figure size 640x480 with 1 Axes>"
      ]
     },
     "metadata": {},
     "output_type": "display_data"
    }
   ],
   "source": [
    "plt.hist(lrt_results, bins=50)\n",
    "threshold = np.percentile(lrt_results, 95)\n",
    "plt.axvline(threshold, color='r')\n",
    "plt.title(\"Null LRT Distribution\")\n",
    "plt.show()"
   ]
  },
  {
   "cell_type": "code",
   "execution_count": null,
   "metadata": {},
   "outputs": [
    {
     "name": "stdout",
     "output_type": "stream",
     "text": [
      "0.014935994047104325\n",
      "0.49864400000000003\n",
      "0.502029691985\n"
     ]
    }
   ],
   "source": [
    "# Find threshold for 95% confidence level\n",
    "lrt_threshold = np.percentile(lrt_results, 95)\n",
    "print(lrt_threshold)\n",
    "\n",
    "# Find threshold for 95% confidence level\n",
    "mce_threshold = np.percentile(mce_results, 5)\n",
    "print(mce_threshold)\n",
    "\n",
    "# Find threshold for 95% confidence level\n",
    "auc_threshold = np.percentile(auc_results, 95)\n",
    "print(auc_threshold)"
   ]
  },
  {
   "cell_type": "code",
   "execution_count": 34,
   "metadata": {},
   "outputs": [],
   "source": [
    "import toml\n",
    "toml_file = '../config.toml'\n",
    "with open(toml_file, 'r') as f:\n",
    "    config = toml.load(f)\n",
    " \n",
    "config['threshold']['lrt'] = float(lrt_threshold)\n",
    "config['threshold']['mce'] = float(mce_threshold)\n",
    "config['threshold']['auc'] = float(auc_threshold)\n",
    "with open(toml_file, 'w') as f:\n",
    "    toml.dump(config, f)"
   ]
  },
  {
   "cell_type": "code",
   "execution_count": null,
   "metadata": {},
   "outputs": [],
   "source": []
  }
 ],
 "metadata": {
  "kernelspec": {
   "display_name": "ad",
   "language": "python",
   "name": "python3"
  },
  "language_info": {
   "codemirror_mode": {
    "name": "ipython",
    "version": 3
   },
   "file_extension": ".py",
   "mimetype": "text/x-python",
   "name": "python",
   "nbconvert_exporter": "python",
   "pygments_lexer": "ipython3",
   "version": "3.11.8"
  }
 },
 "nbformat": 4,
 "nbformat_minor": 2
}
